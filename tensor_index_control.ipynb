{
 "cells": [
  {
   "cell_type": "code",
   "execution_count": 50,
   "metadata": {},
   "outputs": [],
   "source": [
    "# If you are using Python 2 version\n",
    "'''from __future__ import absolute_import\n",
    "from __future__ import print_function'''\n",
    "\n",
    "# Fundamental Libraries for Machine Learning\n",
    "import numpy as np\n",
    "import matplotlib.pyplot as plt\n",
    "from PIL import Image\n",
    "import random\n",
    "\n",
    "# Tensorflow Libraries\n",
    "import tensorflow as tf\n",
    "import tensorflow.keras as keras\n",
    "# MNIST Dataset\n",
    "from keras.datasets import mnist"
   ]
  },
  {
   "cell_type": "code",
   "execution_count": 51,
   "metadata": {},
   "outputs": [],
   "source": [
    "NUM_CLASS = 10        # Number of classified objects (labels)\n",
    "NUM_EPOCH = 20        # How many epoch will be used for model training\n",
    "IMG_SIZE = (28,28)    # Input Image size\n",
    "CONT_MARGIN = 1       # Contrastive Loss margin"
   ]
  },
  {
   "cell_type": "markdown",
   "metadata": {},
   "source": [
    "#### Load MNIST Dataset"
   ]
  },
  {
   "cell_type": "code",
   "execution_count": 52,
   "metadata": {},
   "outputs": [],
   "source": [
    "# Split data into train and test sets\n",
    "(x_train, y_train), (x_test, y_test) = mnist.load_data()"
   ]
  },
  {
   "cell_type": "code",
   "execution_count": 53,
   "metadata": {},
   "outputs": [
    {
     "name": "stdout",
     "output_type": "stream",
     "text": [
      "x_train.shape:  (60000, 28, 28)\n",
      "x_test.shape:  (10000, 28, 28)\n",
      "y_train.shape:  (60000,)\n",
      "y_test.shape:  (10000,)\n"
     ]
    }
   ],
   "source": [
    "print(\"x_train.shape: \", x_train.shape)\n",
    "print(\"x_test.shape: \", x_test.shape)\n",
    "print(\"y_train.shape: \", y_train.shape)\n",
    "print(\"y_test.shape: \", y_test.shape)"
   ]
  },
  {
   "cell_type": "code",
   "execution_count": 54,
   "metadata": {},
   "outputs": [],
   "source": [
    "# Reshape the x_train and the x_test set from (60000, 28, 28) to (60000, 28, 28, 1)\n",
    "x_train = x_train.reshape(x_train.shape[0], 28, 28,1)\n",
    "x_test = x_test.reshape(x_test.shape[0], 28, 28, 1)"
   ]
  },
  {
   "cell_type": "code",
   "execution_count": 55,
   "metadata": {},
   "outputs": [
    {
     "name": "stdout",
     "output_type": "stream",
     "text": [
      "x_train.shape:  (60000, 28, 28, 1)\n",
      "x_test.shape:  (10000, 28, 28, 1)\n"
     ]
    }
   ],
   "source": [
    "print(\"x_train.shape: \", x_train.shape)\n",
    "print(\"x_test.shape: \", x_test.shape)"
   ]
  },
  {
   "cell_type": "code",
   "execution_count": 56,
   "metadata": {},
   "outputs": [
    {
     "data": {
      "text/plain": [
       "(28, 28, 1)"
      ]
     },
     "execution_count": 56,
     "metadata": {},
     "output_type": "execute_result"
    }
   ],
   "source": [
    "# Set all split sets' data type to float32\n",
    "x_train = x_train.astype('float32')\n",
    "x_test = x_test.astype('float32')\n",
    "y_train = y_train.astype('float32')\n",
    "y_test = y_test.astype('float32')\n",
    "\n",
    "# Normalize x_train and the x_test data\n",
    "x_train /= 255\n",
    "x_test /= 255\n",
    " \n",
    "input_shape = x_train.shape[1:]\n",
    "input_shape"
   ]
  },
  {
   "cell_type": "code",
   "execution_count": 57,
   "metadata": {},
   "outputs": [],
   "source": [
    "# This method converts given array to the image with given width/height values\n",
    "def convert_matrix_to_img(data_array, w_h, tag=None, show=False):\n",
    "    img = np.reshape(data_array, w_h)\n",
    "    if(show == True):\n",
    "        if tag is not None:\n",
    "            plt.title(\"The image of \"+ tag +\" from MNIST-Fashion Dataset\")\n",
    "        plt.imshow(img, cmap=plt.cm.gray_r)\n",
    "        plt.show()\n",
    "    return img"
   ]
  },
  {
   "cell_type": "code",
   "execution_count": 58,
   "metadata": {},
   "outputs": [],
   "source": [
    "def create_pairs(x, digit_indices):\n",
    "  pairs = []\n",
    "  labels = []\n",
    "   \n",
    "  n = min([len(digit_indices[d]) for d in range(NUM_CLASS)]) -1   # digit_indices is the y_train array indexes that included the stated label images\n",
    "  # n represents minimum classified number size of the dataset (i.e. The dataset may include 9000 5 images and 7000 3 images)\n",
    "  # n is equal to 5421 (Label 5) for this dataset\n",
    "\n",
    "  for d in range(NUM_CLASS):   # 10\n",
    "    for i in range(n):         # 5420\n",
    "      z1, z2 = digit_indices[d][i], digit_indices[d][i+1]   # The pair that consist images took from same class\n",
    "      pairs += [[x[z1], x[z2]]]    # 5420 img * 10 class = 54200 img\n",
    "\n",
    "      inc = random.randrange(1, NUM_CLASS)   # Select other classes\n",
    "      dn = (d + inc) % NUM_CLASS\n",
    "\n",
    "      z1, z2 = digit_indices[d][i], digit_indices[dn][i]    # The pair that consist images took from different classes\n",
    "      pairs += [[x[z1], x[z2]]]    # 5420 img * 10 class = 54200 img\n",
    "      labels += [1,0]\n",
    "      # len(pairs) = 54200 + 54200 = 108400\n",
    "      # len(labels) = 108400\n",
    "  return np.array(pairs), np.array(labels)"
   ]
  },
  {
   "cell_type": "code",
   "execution_count": 59,
   "metadata": {},
   "outputs": [
    {
     "data": {
      "image/png": "[encoded data removed]",
      "text/plain": [
       "<Figure size 432x288 with 1 Axes>"
      ]
     },
     "metadata": {
      "needs_background": "light"
     },
     "output_type": "display_data"
    },
    {
     "name": "stdout",
     "output_type": "stream",
     "text": [
      "Label of the first training image 5\n"
     ]
    }
   ],
   "source": [
    "first_trained_img = convert_matrix_to_img(x_train[0], IMG_SIZE, show=True)\n",
    "print(\"Label of the first training image\", int(y_train[0]))"
   ]
  },
  {
   "cell_type": "code",
   "execution_count": 60,
   "metadata": {},
   "outputs": [
    {
     "data": {
      "text/plain": [
       "[array([    1,    21,    34, ..., 59952, 59972, 59987]),\n",
       " array([    3,     6,     8, ..., 59979, 59984, 59994]),\n",
       " array([    5,    16,    25, ..., 59983, 59985, 59991]),\n",
       " array([    7,    10,    12, ..., 59978, 59980, 59996]),\n",
       " array([    2,     9,    20, ..., 59943, 59951, 59975]),\n",
       " array([    0,    11,    35, ..., 59968, 59993, 59997]),\n",
       " array([   13,    18,    32, ..., 59982, 59986, 59998]),\n",
       " array([   15,    29,    38, ..., 59963, 59977, 59988]),\n",
       " array([   17,    31,    41, ..., 59989, 59995, 59999]),\n",
       " array([    4,    19,    22, ..., 59973, 59990, 59992])]"
      ]
     },
     "execution_count": 60,
     "metadata": {},
     "output_type": "execute_result"
    }
   ],
   "source": [
    "digit_indices = [np.where(y_train == i)[0] for i in range(NUM_CLASS)]  # digit_indices is the y_train array indexes that included the stated label images\n",
    "digit_indices"
   ]
  },
  {
   "cell_type": "markdown",
   "metadata": {},
   "source": [
    "For example the 5th index of the array includes image indexes of label 5"
   ]
  },
  {
   "cell_type": "code",
   "execution_count": 61,
   "metadata": {},
   "outputs": [],
   "source": [
    "digit_indices = [np.where(y_train == i)[0] for i in range(NUM_CLASS)]   # digit_indices is the y_train array indexes that included the stated label images\n",
    "tr_pairs, tr_y = create_pairs(x_train, digit_indices)\n",
    "\n",
    "digit_indices = [np.where(y_test == i)[0] for i in range(NUM_CLASS)]\n",
    "te_pairs, te_y = create_pairs(x_test, digit_indices)"
   ]
  },
  {
   "cell_type": "code",
   "execution_count": 62,
   "metadata": {},
   "outputs": [
    {
     "data": {
      "text/plain": [
       "array([    1,    21,    34, ..., 59952, 59972, 59987])"
      ]
     },
     "execution_count": 62,
     "metadata": {},
     "output_type": "execute_result"
    }
   ],
   "source": [
    "np.array(np.where(y_train.astype('int32') == 0))[0]    # The class indexes in train dataset for label 0 "
   ]
  },
  {
   "cell_type": "code",
   "execution_count": 63,
   "metadata": {},
   "outputs": [
    {
     "name": "stdout",
     "output_type": "stream",
     "text": [
      "Label 0 image sample number: 5923\n",
      "Label 1 image sample number: 6742\n",
      "Label 2 image sample number: 5958\n",
      "Label 3 image sample number: 6131\n",
      "Label 4 image sample number: 5842\n",
      "Label 5 image sample number: 5421\n",
      "Label 6 image sample number: 5918\n",
      "Label 7 image sample number: 6265\n",
      "Label 8 image sample number: 5851\n",
      "Label 9 image sample number: 5949\n"
     ]
    }
   ],
   "source": [
    "for i in range(NUM_CLASS):\n",
    "    print(\"Label {0} image sample number: \".format(i), end=\"\")\n",
    "    print(len(np.where(y_train.astype('int32') == i)[0]))"
   ]
  },
  {
   "cell_type": "code",
   "execution_count": 64,
   "metadata": {},
   "outputs": [
    {
     "name": "stdout",
     "output_type": "stream",
     "text": [
      "x_train.shape:  (60000, 28, 28, 1)\n",
      "Minimum image sample number for any class:  5421\n",
      "The class that contains minimum image sample:  5\n",
      "tr_pairs.shape:  (108400, 2, 28, 28, 1)\n",
      "tr_y.shape:  (108400,)\n",
      "te_pairs.shape:  (17820, 2, 28, 28, 1)\n",
      "te_y.shape:  (17820,)\n"
     ]
    },
    {
     "data": {
      "image/png": "[encoded data removed]",
      "text/plain": [
       "<Figure size 432x288 with 1 Axes>"
      ]
     },
     "metadata": {
      "needs_background": "light"
     },
     "output_type": "display_data"
    }
   ],
   "source": [
    "print(\"x_train.shape: \", x_train.shape)\n",
    "print(\"Minimum image sample number for any class: \", (min([len([np.where(y_train == i)[0] for i in range(NUM_CLASS)][d]) for d in range(NUM_CLASS)]))) \n",
    "print(\"The class that contains minimum image sample: \", (np.argmin([len([np.where(y_train == i)[0] for i in range(NUM_CLASS)][d]) for d in range(NUM_CLASS)]))) \n",
    "print(\"tr_pairs.shape: \", tr_pairs.shape)\n",
    "print(\"tr_y.shape: \", tr_y.shape)\n",
    "print(\"te_pairs.shape: \", te_pairs.shape)\n",
    "print(\"te_y.shape: \", te_y.shape)\n",
    "tr_pairs_img = convert_matrix_to_img(tr_pairs[0][0], IMG_SIZE, show=True)"
   ]
  },
  {
   "cell_type": "code",
   "execution_count": 65,
   "metadata": {},
   "outputs": [
    {
     "name": "stdout",
     "output_type": "stream",
     "text": [
      "tr_pairs.shape:               (108400, 2, 28, 28, 1)\n",
      "tr_pairs[0].shape:            (2, 28, 28, 1)\n",
      "tr_pairs[0][0].shape:         (28, 28, 1)\n",
      "tr_pairs[0][0][0].shape:      (28, 1)\n",
      "tr_pairs[0][0][0][0].shape:   (1,)\n"
     ]
    }
   ],
   "source": [
    "print(\"tr_pairs.shape:              \", tr_pairs.shape)\n",
    "print(\"tr_pairs[0].shape:           \", tr_pairs[0].shape)\n",
    "print(\"tr_pairs[0][0].shape:        \", tr_pairs[0][0].shape)\n",
    "print(\"tr_pairs[0][0][0].shape:     \", tr_pairs[0][0][0].shape)\n",
    "print(\"tr_pairs[0][0][0][0].shape:  \", tr_pairs[0][0][0][0].shape)"
   ]
  },
  {
   "cell_type": "code",
   "execution_count": 68,
   "metadata": {},
   "outputs": [
    {
     "data": {
      "image/png": "[encoded data removed]",
      "text/plain": [
       "<Figure size 432x288 with 1 Axes>"
      ]
     },
     "metadata": {
      "needs_background": "light"
     },
     "output_type": "display_data"
    }
   ],
   "source": [
    "tr_pairs_img = convert_matrix_to_img(tr_pairs[197][1], IMG_SIZE, show=True)\n",
    "# If the first array index is even number like tr_pairs[4], both tr_pairs[4][0] and tr_pairs[4][1] pairs have 0 label\n",
    "# If the first array index is odd number like tr_pairs[3], tr_pairs[4][0] pair has another label and tr_pairs[4][1] pair has 0 label"
   ]
  },
  {
   "cell_type": "code",
   "execution_count": null,
   "metadata": {},
   "outputs": [],
   "source": []
  }
 ],
 "metadata": {
  "kernelspec": {
   "display_name": "Python 3.7.11 ('tensorflow')",
   "language": "python",
   "name": "python3"
  },
  "language_info": {
   "codemirror_mode": {
    "name": "ipython",
    "version": 3
   },
   "file_extension": ".py",
   "mimetype": "text/x-python",
   "name": "python",
   "nbconvert_exporter": "python",
   "pygments_lexer": "ipython3",
   "version": "3.7.11"
  },
  "orig_nbformat": 4,
  "vscode": {
   "interpreter": {
    "hash": "d5b9f1ef5fa62f4137fca86c7cff097ad613f28b09a73c8ab6cd8441b2451117"
   }
  }
 },
 "nbformat": 4,
 "nbformat_minor": 2
}
