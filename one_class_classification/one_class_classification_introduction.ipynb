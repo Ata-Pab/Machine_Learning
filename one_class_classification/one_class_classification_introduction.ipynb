{
  "nbformat": 4,
  "nbformat_minor": 0,
  "metadata": {
    "colab": {
      "provenance": [],
      "gpuType": "T4"
    },
    "kernelspec": {
      "name": "python3",
      "display_name": "Python 3"
    },
    "language_info": {
      "name": "python"
    },
    "accelerator": "GPU"
  },
  "cells": [
    {
      "cell_type": "code",
      "execution_count": 1,
      "metadata": {
        "id": "fckn9rmxCs8T"
      },
      "outputs": [],
      "source": [
        "import tensorflow as tf\n",
        "from tensorflow.keras.applications import MobileNetV2\n",
        "from tensorflow.keras.layers import GlobalAveragePooling2D\n",
        "from sklearn.svm import OneClassSVM\n",
        "import numpy as np"
      ]
    },
    {
      "cell_type": "markdown",
      "source": [
        "### Load the pre-trained MobileNetV2 model (without classification head)"
      ],
      "metadata": {
        "id": "TdjnSkD0C6aW"
      }
    },
    {
      "cell_type": "code",
      "source": [
        "base_model = MobileNetV2(weights='imagenet', include_top=False)"
      ],
      "metadata": {
        "id": "JxPvyeFgC-Tf",
        "colab": {
          "base_uri": "https://localhost:8080/"
        },
        "outputId": "337e15dc-ee5e-4b78-9647-bdb9a53c9006"
      },
      "execution_count": 2,
      "outputs": [
        {
          "output_type": "stream",
          "name": "stderr",
          "text": [
            "WARNING:tensorflow:`input_shape` is undefined or non-square, or `rows` is not in [96, 128, 160, 192, 224]. Weights for input shape (224, 224) will be loaded as the default.\n"
          ]
        },
        {
          "output_type": "stream",
          "name": "stdout",
          "text": [
            "Downloading data from https://storage.googleapis.com/tensorflow/keras-applications/mobilenet_v2/mobilenet_v2_weights_tf_dim_ordering_tf_kernels_1.0_224_no_top.h5\n",
            "9406464/9406464 [==============================] - 0s 0us/step\n"
          ]
        }
      ]
    },
    {
      "cell_type": "code",
      "source": [
        "# Add a global average pooling layer to reduce the spatial dimensions\n",
        "glb_avg_layer = GlobalAveragePooling2D()(base_model.output)"
      ],
      "metadata": {
        "id": "7RTrNsY3C1iY"
      },
      "execution_count": 3,
      "outputs": []
    },
    {
      "cell_type": "markdown",
      "source": [
        "### Create a feature extraction model using the pre-trained MobileNetV2"
      ],
      "metadata": {
        "id": "ogfmio6HDJuf"
      }
    },
    {
      "cell_type": "code",
      "source": [
        "feature_extraction_model = tf.keras.Model(inputs=base_model.input, outputs=glb_avg_layer)"
      ],
      "metadata": {
        "id": "WNAoakocDDxu"
      },
      "execution_count": 4,
      "outputs": []
    },
    {
      "cell_type": "code",
      "source": [
        "# Load your dataset\n",
        "# Here, we'll use random data for demonstration purposes\n",
        "num_samples = 1000\n",
        "input_shape = (224, 224, 3)  # Adjust the input shape based on the MobileNetV2 requirements\n",
        "\n",
        "# Generate random data for the target class\n",
        "target_class_data = np.random.random((num_samples, *input_shape))"
      ],
      "metadata": {
        "id": "shhAlgeNDEcd"
      },
      "execution_count": 5,
      "outputs": []
    },
    {
      "cell_type": "code",
      "source": [
        "# Generate random data for the outliers\n",
        "num_outliers = 100\n",
        "outlier_data = np.random.random((num_outliers, *input_shape))"
      ],
      "metadata": {
        "id": "HH8K7hNjDEZr"
      },
      "execution_count": 6,
      "outputs": []
    },
    {
      "cell_type": "markdown",
      "source": [
        "### Extract deep features for target class and outliers"
      ],
      "metadata": {
        "id": "4gS_xcRYFdfD"
      }
    },
    {
      "cell_type": "code",
      "source": [
        "target_class_features = feature_extraction_model.predict(target_class_data)\n",
        "outlier_features = feature_extraction_model.predict(outlier_data)"
      ],
      "metadata": {
        "id": "7P0-qrh4DEW6",
        "colab": {
          "base_uri": "https://localhost:8080/"
        },
        "outputId": "784977df-21fe-4a98-f5c6-513f6c4a3021"
      },
      "execution_count": 7,
      "outputs": [
        {
          "output_type": "stream",
          "name": "stdout",
          "text": [
            "32/32 [==============================] - 10s 45ms/step\n",
            "4/4 [==============================] - 1s 179ms/step\n"
          ]
        }
      ]
    },
    {
      "cell_type": "markdown",
      "source": [
        "### Train One-Class SVM"
      ],
      "metadata": {
        "id": "kMcIZ5U9FgHD"
      }
    },
    {
      "cell_type": "code",
      "source": [
        "# Combine the target class features with some proportion of outlier features to create the training set\n",
        "proportion_outliers = 0.1\n",
        "train_features = np.vstack((target_class_features, outlier_features[:int(num_outliers * proportion_outliers)]))"
      ],
      "metadata": {
        "id": "xIa9mXuhFkmr"
      },
      "execution_count": 8,
      "outputs": []
    },
    {
      "cell_type": "markdown",
      "source": [
        "=== np.vstack ===\n",
        "\n",
        "a = np.array([1, 2, 3])\n",
        "\n",
        "b = np.array([4, 5, 6])\n",
        "\n",
        "np.vstack((a,b))\n",
        "\n",
        "Output: array([[1, 2, 3],\n",
        "       [4, 5, 6]])\n",
        "\n",
        "=== np.hstack ===\n",
        "\n",
        "a = np.array((1,2,3))\n",
        "\n",
        "b = np.array((4,5,6))\n",
        "\n",
        "np.hstack((a,b))\n",
        "\n",
        "Output: array([1, 2, 3, 4, 5, 6])\n",
        "\n",
        "=======================\n",
        "\n",
        "a = np.array([[1],[2],[3]])\n",
        "\n",
        "b = np.array([[4],[5],[6]])\n",
        "\n",
        "np.hstack((a,b))\n",
        "\n",
        "Output: array([[1, 4],\n",
        "       [2, 5],\n",
        "       [3, 6]])"
      ],
      "metadata": {
        "id": "dDhWuqN2Gi0X"
      }
    },
    {
      "cell_type": "markdown",
      "source": [
        "### Fit the One-Class SVM model"
      ],
      "metadata": {
        "id": "IGq4cAqdHtXa"
      }
    },
    {
      "cell_type": "code",
      "source": [
        "ocsvm = OneClassSVM(gamma='auto')  # You can adjust the hyperparameters as needed\n",
        "ocsvm.fit(train_features)"
      ],
      "metadata": {
        "colab": {
          "base_uri": "https://localhost:8080/",
          "height": 75
        },
        "id": "PTJcKd8iFkkK",
        "outputId": "9db271ab-85c9-4b2b-cdb9-e385b2f78ec5"
      },
      "execution_count": 9,
      "outputs": [
        {
          "output_type": "execute_result",
          "data": {
            "text/plain": [
              "OneClassSVM(gamma='auto')"
            ],
            "text/html": [
              "<style>#sk-container-id-1 {color: black;background-color: white;}#sk-container-id-1 pre{padding: 0;}#sk-container-id-1 div.sk-toggleable {background-color: white;}#sk-container-id-1 label.sk-toggleable__label {cursor: pointer;display: block;width: 100%;margin-bottom: 0;padding: 0.3em;box-sizing: border-box;text-align: center;}#sk-container-id-1 label.sk-toggleable__label-arrow:before {content: \"▸\";float: left;margin-right: 0.25em;color: #696969;}#sk-container-id-1 label.sk-toggleable__label-arrow:hover:before {color: black;}#sk-container-id-1 div.sk-estimator:hover label.sk-toggleable__label-arrow:before {color: black;}#sk-container-id-1 div.sk-toggleable__content {max-height: 0;max-width: 0;overflow: hidden;text-align: left;background-color: #f0f8ff;}#sk-container-id-1 div.sk-toggleable__content pre {margin: 0.2em;color: black;border-radius: 0.25em;background-color: #f0f8ff;}#sk-container-id-1 input.sk-toggleable__control:checked~div.sk-toggleable__content {max-height: 200px;max-width: 100%;overflow: auto;}#sk-container-id-1 input.sk-toggleable__control:checked~label.sk-toggleable__label-arrow:before {content: \"▾\";}#sk-container-id-1 div.sk-estimator input.sk-toggleable__control:checked~label.sk-toggleable__label {background-color: #d4ebff;}#sk-container-id-1 div.sk-label input.sk-toggleable__control:checked~label.sk-toggleable__label {background-color: #d4ebff;}#sk-container-id-1 input.sk-hidden--visually {border: 0;clip: rect(1px 1px 1px 1px);clip: rect(1px, 1px, 1px, 1px);height: 1px;margin: -1px;overflow: hidden;padding: 0;position: absolute;width: 1px;}#sk-container-id-1 div.sk-estimator {font-family: monospace;background-color: #f0f8ff;border: 1px dotted black;border-radius: 0.25em;box-sizing: border-box;margin-bottom: 0.5em;}#sk-container-id-1 div.sk-estimator:hover {background-color: #d4ebff;}#sk-container-id-1 div.sk-parallel-item::after {content: \"\";width: 100%;border-bottom: 1px solid gray;flex-grow: 1;}#sk-container-id-1 div.sk-label:hover label.sk-toggleable__label {background-color: #d4ebff;}#sk-container-id-1 div.sk-serial::before {content: \"\";position: absolute;border-left: 1px solid gray;box-sizing: border-box;top: 0;bottom: 0;left: 50%;z-index: 0;}#sk-container-id-1 div.sk-serial {display: flex;flex-direction: column;align-items: center;background-color: white;padding-right: 0.2em;padding-left: 0.2em;position: relative;}#sk-container-id-1 div.sk-item {position: relative;z-index: 1;}#sk-container-id-1 div.sk-parallel {display: flex;align-items: stretch;justify-content: center;background-color: white;position: relative;}#sk-container-id-1 div.sk-item::before, #sk-container-id-1 div.sk-parallel-item::before {content: \"\";position: absolute;border-left: 1px solid gray;box-sizing: border-box;top: 0;bottom: 0;left: 50%;z-index: -1;}#sk-container-id-1 div.sk-parallel-item {display: flex;flex-direction: column;z-index: 1;position: relative;background-color: white;}#sk-container-id-1 div.sk-parallel-item:first-child::after {align-self: flex-end;width: 50%;}#sk-container-id-1 div.sk-parallel-item:last-child::after {align-self: flex-start;width: 50%;}#sk-container-id-1 div.sk-parallel-item:only-child::after {width: 0;}#sk-container-id-1 div.sk-dashed-wrapped {border: 1px dashed gray;margin: 0 0.4em 0.5em 0.4em;box-sizing: border-box;padding-bottom: 0.4em;background-color: white;}#sk-container-id-1 div.sk-label label {font-family: monospace;font-weight: bold;display: inline-block;line-height: 1.2em;}#sk-container-id-1 div.sk-label-container {text-align: center;}#sk-container-id-1 div.sk-container {/* jupyter's `normalize.less` sets `[hidden] { display: none; }` but bootstrap.min.css set `[hidden] { display: none !important; }` so we also need the `!important` here to be able to override the default hidden behavior on the sphinx rendered scikit-learn.org. See: https://github.com/scikit-learn/scikit-learn/issues/21755 */display: inline-block !important;position: relative;}#sk-container-id-1 div.sk-text-repr-fallback {display: none;}</style><div id=\"sk-container-id-1\" class=\"sk-top-container\"><div class=\"sk-text-repr-fallback\"><pre>OneClassSVM(gamma=&#x27;auto&#x27;)</pre><b>In a Jupyter environment, please rerun this cell to show the HTML representation or trust the notebook. <br />On GitHub, the HTML representation is unable to render, please try loading this page with nbviewer.org.</b></div><div class=\"sk-container\" hidden><div class=\"sk-item\"><div class=\"sk-estimator sk-toggleable\"><input class=\"sk-toggleable__control sk-hidden--visually\" id=\"sk-estimator-id-1\" type=\"checkbox\" checked><label for=\"sk-estimator-id-1\" class=\"sk-toggleable__label sk-toggleable__label-arrow\">OneClassSVM</label><div class=\"sk-toggleable__content\"><pre>OneClassSVM(gamma=&#x27;auto&#x27;)</pre></div></div></div></div></div>"
            ]
          },
          "metadata": {},
          "execution_count": 9
        }
      ]
    },
    {
      "cell_type": "code",
      "source": [
        "# Test on some new data (you can use a separate test set or additional data)\n",
        "# For example, using only the outlier data for testing\n",
        "test_data = outlier_data[int(num_outliers * proportion_outliers):]\n",
        "test_features = feature_extraction_model.predict(test_data)\n",
        "predictions = ocsvm.predict(test_features)"
      ],
      "metadata": {
        "colab": {
          "base_uri": "https://localhost:8080/"
        },
        "id": "3ocO2SFnFkhn",
        "outputId": "5529fbf6-1064-4486-ad60-b508c00014e8"
      },
      "execution_count": 10,
      "outputs": [
        {
          "output_type": "stream",
          "name": "stdout",
          "text": [
            "3/3 [==============================] - 1s 305ms/step\n"
          ]
        }
      ]
    },
    {
      "cell_type": "code",
      "source": [
        "# In the predictions, -1 indicates outliers, and 1 indicates the target class\n",
        "print(\"Predictions:\", predictions)"
      ],
      "metadata": {
        "id": "jMjZ4J1RDEUb",
        "colab": {
          "base_uri": "https://localhost:8080/"
        },
        "outputId": "09f2298a-65cb-4ddc-e34e-e96ea4ccbdea"
      },
      "execution_count": 11,
      "outputs": [
        {
          "output_type": "stream",
          "name": "stdout",
          "text": [
            "Predictions: [ 1  1  1  1 -1  1 -1 -1  1 -1  1 -1  1 -1  1  1  1  1 -1 -1  1  1  1 -1\n",
            " -1 -1 -1  1 -1  1  1  1  1 -1 -1  1  1  1  1  1 -1 -1 -1 -1 -1 -1  1  1\n",
            "  1 -1 -1 -1  1 -1 -1 -1  1 -1 -1  1 -1  1  1  1 -1  1  1  1  1  1 -1 -1\n",
            "  1 -1 -1  1  1  1  1 -1  1  1  1 -1  1  1 -1 -1  1  1]\n"
          ]
        }
      ]
    }
  ]
}