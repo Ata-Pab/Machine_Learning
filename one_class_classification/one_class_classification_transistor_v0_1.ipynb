{
  "nbformat": 4,
  "nbformat_minor": 0,
  "metadata": {
    "colab": {
      "provenance": [],
      "gpuType": "T4"
    },
    "kernelspec": {
      "name": "python3",
      "display_name": "Python 3"
    },
    "language_info": {
      "name": "python"
    },
    "accelerator": "GPU"
  },
  "cells": [
    {
      "cell_type": "code",
      "execution_count": 1,
      "metadata": {
        "id": "fckn9rmxCs8T"
      },
      "outputs": [],
      "source": [
        "import tensorflow as tf\n",
        "from tensorflow.keras.applications import MobileNetV2\n",
        "from tensorflow.keras.layers import GlobalAveragePooling2D\n",
        "from sklearn.svm import OneClassSVM\n",
        "import numpy as np"
      ]
    },
    {
      "cell_type": "markdown",
      "source": [
        "### Load MVTec Transistor Dataset"
      ],
      "metadata": {
        "id": "a2rTWS0jYQCm"
      }
    },
    {
      "cell_type": "code",
      "source": [
        "! pip install -q kaggle\n",
        "\n",
        "from google.colab import files\n",
        "\n",
        "files.upload()"
      ],
      "metadata": {
        "colab": {
          "base_uri": "https://localhost:8080/",
          "height": 90
        },
        "id": "SThRYdX8YTar",
        "outputId": "c6fc11fd-a443-4e63-e265-e8bd897aa97d"
      },
      "execution_count": 6,
      "outputs": [
        {
          "output_type": "display_data",
          "data": {
            "text/plain": [
              "<IPython.core.display.HTML object>"
            ],
            "text/html": [
              "\n",
              "     <input type=\"file\" id=\"files-c6f43de9-dab9-468b-86dd-f8a2948bdd48\" name=\"files[]\" multiple disabled\n",
              "        style=\"border:none\" />\n",
              "     <output id=\"result-c6f43de9-dab9-468b-86dd-f8a2948bdd48\">\n",
              "      Upload widget is only available when the cell has been executed in the\n",
              "      current browser session. Please rerun this cell to enable.\n",
              "      </output>\n",
              "      <script>// Copyright 2017 Google LLC\n",
              "//\n",
              "// Licensed under the Apache License, Version 2.0 (the \"License\");\n",
              "// you may not use this file except in compliance with the License.\n",
              "// You may obtain a copy of the License at\n",
              "//\n",
              "//      http://www.apache.org/licenses/LICENSE-2.0\n",
              "//\n",
              "// Unless required by applicable law or agreed to in writing, software\n",
              "// distributed under the License is distributed on an \"AS IS\" BASIS,\n",
              "// WITHOUT WARRANTIES OR CONDITIONS OF ANY KIND, either express or implied.\n",
              "// See the License for the specific language governing permissions and\n",
              "// limitations under the License.\n",
              "\n",
              "/**\n",
              " * @fileoverview Helpers for google.colab Python module.\n",
              " */\n",
              "(function(scope) {\n",
              "function span(text, styleAttributes = {}) {\n",
              "  const element = document.createElement('span');\n",
              "  element.textContent = text;\n",
              "  for (const key of Object.keys(styleAttributes)) {\n",
              "    element.style[key] = styleAttributes[key];\n",
              "  }\n",
              "  return element;\n",
              "}\n",
              "\n",
              "// Max number of bytes which will be uploaded at a time.\n",
              "const MAX_PAYLOAD_SIZE = 100 * 1024;\n",
              "\n",
              "function _uploadFiles(inputId, outputId) {\n",
              "  const steps = uploadFilesStep(inputId, outputId);\n",
              "  const outputElement = document.getElementById(outputId);\n",
              "  // Cache steps on the outputElement to make it available for the next call\n",
              "  // to uploadFilesContinue from Python.\n",
              "  outputElement.steps = steps;\n",
              "\n",
              "  return _uploadFilesContinue(outputId);\n",
              "}\n",
              "\n",
              "// This is roughly an async generator (not supported in the browser yet),\n",
              "// where there are multiple asynchronous steps and the Python side is going\n",
              "// to poll for completion of each step.\n",
              "// This uses a Promise to block the python side on completion of each step,\n",
              "// then passes the result of the previous step as the input to the next step.\n",
              "function _uploadFilesContinue(outputId) {\n",
              "  const outputElement = document.getElementById(outputId);\n",
              "  const steps = outputElement.steps;\n",
              "\n",
              "  const next = steps.next(outputElement.lastPromiseValue);\n",
              "  return Promise.resolve(next.value.promise).then((value) => {\n",
              "    // Cache the last promise value to make it available to the next\n",
              "    // step of the generator.\n",
              "    outputElement.lastPromiseValue = value;\n",
              "    return next.value.response;\n",
              "  });\n",
              "}\n",
              "\n",
              "/**\n",
              " * Generator function which is called between each async step of the upload\n",
              " * process.\n",
              " * @param {string} inputId Element ID of the input file picker element.\n",
              " * @param {string} outputId Element ID of the output display.\n",
              " * @return {!Iterable<!Object>} Iterable of next steps.\n",
              " */\n",
              "function* uploadFilesStep(inputId, outputId) {\n",
              "  const inputElement = document.getElementById(inputId);\n",
              "  inputElement.disabled = false;\n",
              "\n",
              "  const outputElement = document.getElementById(outputId);\n",
              "  outputElement.innerHTML = '';\n",
              "\n",
              "  const pickedPromise = new Promise((resolve) => {\n",
              "    inputElement.addEventListener('change', (e) => {\n",
              "      resolve(e.target.files);\n",
              "    });\n",
              "  });\n",
              "\n",
              "  const cancel = document.createElement('button');\n",
              "  inputElement.parentElement.appendChild(cancel);\n",
              "  cancel.textContent = 'Cancel upload';\n",
              "  const cancelPromise = new Promise((resolve) => {\n",
              "    cancel.onclick = () => {\n",
              "      resolve(null);\n",
              "    };\n",
              "  });\n",
              "\n",
              "  // Wait for the user to pick the files.\n",
              "  const files = yield {\n",
              "    promise: Promise.race([pickedPromise, cancelPromise]),\n",
              "    response: {\n",
              "      action: 'starting',\n",
              "    }\n",
              "  };\n",
              "\n",
              "  cancel.remove();\n",
              "\n",
              "  // Disable the input element since further picks are not allowed.\n",
              "  inputElement.disabled = true;\n",
              "\n",
              "  if (!files) {\n",
              "    return {\n",
              "      response: {\n",
              "        action: 'complete',\n",
              "      }\n",
              "    };\n",
              "  }\n",
              "\n",
              "  for (const file of files) {\n",
              "    const li = document.createElement('li');\n",
              "    li.append(span(file.name, {fontWeight: 'bold'}));\n",
              "    li.append(span(\n",
              "        `(${file.type || 'n/a'}) - ${file.size} bytes, ` +\n",
              "        `last modified: ${\n",
              "            file.lastModifiedDate ? file.lastModifiedDate.toLocaleDateString() :\n",
              "                                    'n/a'} - `));\n",
              "    const percent = span('0% done');\n",
              "    li.appendChild(percent);\n",
              "\n",
              "    outputElement.appendChild(li);\n",
              "\n",
              "    const fileDataPromise = new Promise((resolve) => {\n",
              "      const reader = new FileReader();\n",
              "      reader.onload = (e) => {\n",
              "        resolve(e.target.result);\n",
              "      };\n",
              "      reader.readAsArrayBuffer(file);\n",
              "    });\n",
              "    // Wait for the data to be ready.\n",
              "    let fileData = yield {\n",
              "      promise: fileDataPromise,\n",
              "      response: {\n",
              "        action: 'continue',\n",
              "      }\n",
              "    };\n",
              "\n",
              "    // Use a chunked sending to avoid message size limits. See b/62115660.\n",
              "    let position = 0;\n",
              "    do {\n",
              "      const length = Math.min(fileData.byteLength - position, MAX_PAYLOAD_SIZE);\n",
              "      const chunk = new Uint8Array(fileData, position, length);\n",
              "      position += length;\n",
              "\n",
              "      const base64 = btoa(String.fromCharCode.apply(null, chunk));\n",
              "      yield {\n",
              "        response: {\n",
              "          action: 'append',\n",
              "          file: file.name,\n",
              "          data: base64,\n",
              "        },\n",
              "      };\n",
              "\n",
              "      let percentDone = fileData.byteLength === 0 ?\n",
              "          100 :\n",
              "          Math.round((position / fileData.byteLength) * 100);\n",
              "      percent.textContent = `${percentDone}% done`;\n",
              "\n",
              "    } while (position < fileData.byteLength);\n",
              "  }\n",
              "\n",
              "  // All done.\n",
              "  yield {\n",
              "    response: {\n",
              "      action: 'complete',\n",
              "    }\n",
              "  };\n",
              "}\n",
              "\n",
              "scope.google = scope.google || {};\n",
              "scope.google.colab = scope.google.colab || {};\n",
              "scope.google.colab._files = {\n",
              "  _uploadFiles,\n",
              "  _uploadFilesContinue,\n",
              "};\n",
              "})(self);\n",
              "</script> "
            ]
          },
          "metadata": {}
        },
        {
          "output_type": "stream",
          "name": "stdout",
          "text": [
            "Saving kaggle.json to kaggle.json\n"
          ]
        },
        {
          "output_type": "execute_result",
          "data": {
            "text/plain": [
              "{'kaggle.json': b'{\"username\":\"atalaypabuu\",\"key\":\"1a6cc847a55e48a8f9166f9dc2b7ce9b\"}'}"
            ]
          },
          "metadata": {},
          "execution_count": 6
        }
      ]
    },
    {
      "cell_type": "code",
      "source": [
        "! mkdir ~/.kaggle\n",
        "! cp kaggle.json ~/.kaggle/\n",
        "! chmod 600 ~/.kaggle/kaggle.json"
      ],
      "metadata": {
        "id": "eifSeGkLYTYR"
      },
      "execution_count": 7,
      "outputs": []
    },
    {
      "cell_type": "code",
      "source": [
        "! kaggle datasets download -d 'leezhixiong/mvtec-transistor-dataset'"
      ],
      "metadata": {
        "colab": {
          "base_uri": "https://localhost:8080/"
        },
        "id": "74sROhH8YTV4",
        "outputId": "79d63a3f-c946-40f1-da5c-e36ea126fd7c"
      },
      "execution_count": 8,
      "outputs": [
        {
          "output_type": "stream",
          "name": "stdout",
          "text": [
            "Downloading mvtec-transistor-dataset.zip to /content\n",
            " 99% 379M/384M [00:04<00:00, 103MB/s] \n",
            "100% 384M/384M [00:04<00:00, 82.6MB/s]\n"
          ]
        }
      ]
    },
    {
      "cell_type": "code",
      "source": [
        "import zipfile\n",
        "\n",
        "# Unzip the downloaded file\n",
        "def unzip_data(zip_file_name):\n",
        "  zip_ref = zipfile.ZipFile(zip_file_name, \"r\")\n",
        "  zip_ref.extractall()\n",
        "  zip_ref.close()"
      ],
      "metadata": {
        "id": "NUgsTXExYgnx"
      },
      "execution_count": 9,
      "outputs": []
    },
    {
      "cell_type": "code",
      "source": [
        "unzip_data('/content/mvtec-transistor-dataset.zip')"
      ],
      "metadata": {
        "id": "z6mJJbcBYglP"
      },
      "execution_count": 10,
      "outputs": []
    },
    {
      "cell_type": "code",
      "source": [
        "DATASET_PATH = '/content/transistor'\n",
        "DATASET_TRAINING_PATH = '/content/transistor/train/good'\n",
        "DATASET_TEST_PATH = '/content/transistor/test'\n",
        "DATASET_TEST_GOOD_PATH = '/content/transistor/test/good'\n",
        "DATASET_TEST_MISPLACED_PATH = '/content/transistor/test/misplaced'\n",
        "DATASET_TEST_CUTLEAD_PATH = '/content/transistor/test/cut_lead'\n",
        "DATASET_TEST_DMG_PATH = '/content/transistor/test/damaged_case'\n",
        "MODEL_CHECKPOINT_PATH = '/content/base_model_checkpoint/cp.ckpt'"
      ],
      "metadata": {
        "id": "UROTb3RZYnLI"
      },
      "execution_count": 17,
      "outputs": []
    },
    {
      "cell_type": "code",
      "source": [
        "import os\n",
        "\n",
        "def walk_through_dir(data_dir):\n",
        "  for dirpath, dirnames, filenames in os.walk(data_dir):\n",
        "    print(f\"There are {len(dirnames)} directories and {len(filenames)} images in '{dirpath}'.\")"
      ],
      "metadata": {
        "id": "NtyLy038Ygiz"
      },
      "execution_count": 12,
      "outputs": []
    },
    {
      "cell_type": "code",
      "source": [
        "walk_through_dir(DATASET_PATH)"
      ],
      "metadata": {
        "colab": {
          "base_uri": "https://localhost:8080/"
        },
        "id": "qfEIxyChYggR",
        "outputId": "d63581ec-7b59-43da-fab8-53097ab98fa4"
      },
      "execution_count": 13,
      "outputs": [
        {
          "output_type": "stream",
          "name": "stdout",
          "text": [
            "There are 3 directories and 2 images in '/content/transistor'.\n",
            "There are 1 directories and 0 images in '/content/transistor/train'.\n",
            "There are 0 directories and 213 images in '/content/transistor/train/good'.\n",
            "There are 5 directories and 0 images in '/content/transistor/test'.\n",
            "There are 0 directories and 10 images in '/content/transistor/test/misplaced'.\n",
            "There are 0 directories and 10 images in '/content/transistor/test/bent_lead'.\n",
            "There are 0 directories and 10 images in '/content/transistor/test/damaged_case'.\n",
            "There are 0 directories and 60 images in '/content/transistor/test/good'.\n",
            "There are 0 directories and 10 images in '/content/transistor/test/cut_lead'.\n",
            "There are 4 directories and 0 images in '/content/transistor/ground_truth'.\n",
            "There are 0 directories and 10 images in '/content/transistor/ground_truth/misplaced'.\n",
            "There are 0 directories and 10 images in '/content/transistor/ground_truth/bent_lead'.\n",
            "There are 0 directories and 10 images in '/content/transistor/ground_truth/damaged_case'.\n",
            "There are 0 directories and 10 images in '/content/transistor/ground_truth/cut_lead'.\n"
          ]
        }
      ]
    },
    {
      "cell_type": "markdown",
      "source": [
        "### Prepare MVTec Transistor Dataset"
      ],
      "metadata": {
        "id": "5S6WI3KIYlRW"
      }
    },
    {
      "cell_type": "code",
      "source": [
        "from tensorflow import keras\n",
        "import glob   # In order to get images as matrices from directory\n",
        "\n",
        "def get_imgs_from_directory_as_numpy_array(dir, ext, size=None, scl=None):\n",
        "    formats = ['jpg', 'png', 'jpeg']\n",
        "\n",
        "    if ext in formats:\n",
        "        rgx_for_img = dir + \"/*.\" + ext\n",
        "        img_list = glob.glob(rgx_for_img)\n",
        "    def process_images(filename):\n",
        "        img = keras.preprocessing.image.load_img(filename, color_mode=\"rgb\", target_size=size)\n",
        "        img_arr = keras.preprocessing.image.img_to_array(img)\n",
        "        img_arr = np.array(img_arr).astype('float32')\n",
        "        if scl == '8bit': img_arr /= 255.0\n",
        "        return img_arr\n",
        "\n",
        "    return np.array(list(map(process_images, img_list)))\n",
        "    # https://keras.io/api/preprocessing/image/\n",
        "    # https://www.tensorflow.org/api_docs/python/tf/keras/preprocessing/image/ImageDataGenerator"
      ],
      "metadata": {
        "id": "fmp3DrFTYgd3"
      },
      "execution_count": 14,
      "outputs": []
    },
    {
      "cell_type": "code",
      "source": [
        "IMG_SIZE = (224, 224)   # For VGG16 Input\n",
        "IMG_SHAPE = (224, 224, 3)"
      ],
      "metadata": {
        "id": "ZNyhDXboZIdW"
      },
      "execution_count": 19,
      "outputs": []
    },
    {
      "cell_type": "code",
      "source": [
        "x_train_transistor = get_imgs_from_directory_as_numpy_array(DATASET_TRAINING_PATH, \"png\", size=IMG_SIZE, scl='8bit')\n",
        "x_test_good = get_imgs_from_directory_as_numpy_array(DATASET_TEST_GOOD_PATH, \"png\", size=IMG_SIZE, scl='8bit')\n",
        "x_test_misplaced = get_imgs_from_directory_as_numpy_array(DATASET_TEST_MISPLACED_PATH, \"png\", size=IMG_SIZE, scl='8bit')\n",
        "x_test_cutlead = get_imgs_from_directory_as_numpy_array(DATASET_TEST_CUTLEAD_PATH, \"png\", size=IMG_SIZE, scl='8bit')\n",
        "x_test_damaged = get_imgs_from_directory_as_numpy_array(DATASET_TEST_DMG_PATH, \"png\", size=IMG_SIZE, scl='8bit')\n",
        "\n",
        "print(\"x_train_transistor.shape: \", x_train_transistor.shape)\n",
        "print(\"x_test_good.shape: \", x_test_good.shape)\n",
        "print(\"x_test_misplaced.shape: \", x_test_misplaced.shape)\n",
        "print(\"x_test_cutlead.shape: \", x_test_cutlead.shape)\n",
        "print(\"x_test_damaged.shape: \", x_test_damaged.shape)"
      ],
      "metadata": {
        "colab": {
          "base_uri": "https://localhost:8080/"
        },
        "id": "Ykvb6hlNZBl5",
        "outputId": "125b5b82-ddca-4d9e-edf2-5375bfc189de"
      },
      "execution_count": 18,
      "outputs": [
        {
          "output_type": "stream",
          "name": "stdout",
          "text": [
            "x_train_transistor.shape:  (213, 224, 224, 3)\n",
            "x_test_good.shape:  (60, 224, 224, 3)\n",
            "x_test_misplaced.shape:  (10, 224, 224, 3)\n",
            "x_test_cutlead.shape:  (10, 224, 224, 3)\n",
            "x_test_damaged.shape:  (10, 224, 224, 3)\n"
          ]
        }
      ]
    },
    {
      "cell_type": "markdown",
      "source": [
        "### Load the pre-trained MobileNetV2 model (without classification head)"
      ],
      "metadata": {
        "id": "TdjnSkD0C6aW"
      }
    },
    {
      "cell_type": "code",
      "source": [
        "base_model = MobileNetV2(weights='imagenet', include_top=False)"
      ],
      "metadata": {
        "id": "JxPvyeFgC-Tf",
        "colab": {
          "base_uri": "https://localhost:8080/"
        },
        "outputId": "ea50f6fe-078a-4f5b-aa22-e32625dab830"
      },
      "execution_count": 20,
      "outputs": [
        {
          "output_type": "stream",
          "name": "stderr",
          "text": [
            "WARNING:tensorflow:`input_shape` is undefined or non-square, or `rows` is not in [96, 128, 160, 192, 224]. Weights for input shape (224, 224) will be loaded as the default.\n"
          ]
        },
        {
          "output_type": "stream",
          "name": "stdout",
          "text": [
            "Downloading data from https://storage.googleapis.com/tensorflow/keras-applications/mobilenet_v2/mobilenet_v2_weights_tf_dim_ordering_tf_kernels_1.0_224_no_top.h5\n",
            "9406464/9406464 [==============================] - 0s 0us/step\n"
          ]
        }
      ]
    },
    {
      "cell_type": "code",
      "source": [
        "base_model.summary()"
      ],
      "metadata": {
        "colab": {
          "base_uri": "https://localhost:8080/"
        },
        "id": "crJCpJxDcgKU",
        "outputId": "ffa91bf4-a606-4022-8d0d-7e0e496fad57"
      },
      "execution_count": 28,
      "outputs": [
        {
          "output_type": "stream",
          "name": "stdout",
          "text": [
            "Model: \"mobilenetv2_1.00_224\"\n",
            "__________________________________________________________________________________________________\n",
            " Layer (type)                   Output Shape         Param #     Connected to                     \n",
            "==================================================================================================\n",
            " input_1 (InputLayer)           [(None, None, None,  0           []                               \n",
            "                                 3)]                                                              \n",
            "                                                                                                  \n",
            " Conv1 (Conv2D)                 (None, None, None,   864         ['input_1[0][0]']                \n",
            "                                32)                                                               \n",
            "                                                                                                  \n",
            " bn_Conv1 (BatchNormalization)  (None, None, None,   128         ['Conv1[0][0]']                  \n",
            "                                32)                                                               \n",
            "                                                                                                  \n",
            " Conv1_relu (ReLU)              (None, None, None,   0           ['bn_Conv1[0][0]']               \n",
            "                                32)                                                               \n",
            "                                                                                                  \n",
            " expanded_conv_depthwise (Depth  (None, None, None,   288        ['Conv1_relu[0][0]']             \n",
            " wiseConv2D)                    32)                                                               \n",
            "                                                                                                  \n",
            " expanded_conv_depthwise_BN (Ba  (None, None, None,   128        ['expanded_conv_depthwise[0][0]']\n",
            " tchNormalization)              32)                                                               \n",
            "                                                                                                  \n",
            " expanded_conv_depthwise_relu (  (None, None, None,   0          ['expanded_conv_depthwise_BN[0][0\n",
            " ReLU)                          32)                              ]']                              \n",
            "                                                                                                  \n",
            " expanded_conv_project (Conv2D)  (None, None, None,   512        ['expanded_conv_depthwise_relu[0]\n",
            "                                16)                              [0]']                            \n",
            "                                                                                                  \n",
            " expanded_conv_project_BN (Batc  (None, None, None,   64         ['expanded_conv_project[0][0]']  \n",
            " hNormalization)                16)                                                               \n",
            "                                                                                                  \n",
            " block_1_expand (Conv2D)        (None, None, None,   1536        ['expanded_conv_project_BN[0][0]'\n",
            "                                96)                              ]                                \n",
            "                                                                                                  \n",
            " block_1_expand_BN (BatchNormal  (None, None, None,   384        ['block_1_expand[0][0]']         \n",
            " ization)                       96)                                                               \n",
            "                                                                                                  \n",
            " block_1_expand_relu (ReLU)     (None, None, None,   0           ['block_1_expand_BN[0][0]']      \n",
            "                                96)                                                               \n",
            "                                                                                                  \n",
            " block_1_pad (ZeroPadding2D)    (None, None, None,   0           ['block_1_expand_relu[0][0]']    \n",
            "                                96)                                                               \n",
            "                                                                                                  \n",
            " block_1_depthwise (DepthwiseCo  (None, None, None,   864        ['block_1_pad[0][0]']            \n",
            " nv2D)                          96)                                                               \n",
            "                                                                                                  \n",
            " block_1_depthwise_BN (BatchNor  (None, None, None,   384        ['block_1_depthwise[0][0]']      \n",
            " malization)                    96)                                                               \n",
            "                                                                                                  \n",
            " block_1_depthwise_relu (ReLU)  (None, None, None,   0           ['block_1_depthwise_BN[0][0]']   \n",
            "                                96)                                                               \n",
            "                                                                                                  \n",
            " block_1_project (Conv2D)       (None, None, None,   2304        ['block_1_depthwise_relu[0][0]'] \n",
            "                                24)                                                               \n",
            "                                                                                                  \n",
            " block_1_project_BN (BatchNorma  (None, None, None,   96         ['block_1_project[0][0]']        \n",
            " lization)                      24)                                                               \n",
            "                                                                                                  \n",
            " block_2_expand (Conv2D)        (None, None, None,   3456        ['block_1_project_BN[0][0]']     \n",
            "                                144)                                                              \n",
            "                                                                                                  \n",
            " block_2_expand_BN (BatchNormal  (None, None, None,   576        ['block_2_expand[0][0]']         \n",
            " ization)                       144)                                                              \n",
            "                                                                                                  \n",
            " block_2_expand_relu (ReLU)     (None, None, None,   0           ['block_2_expand_BN[0][0]']      \n",
            "                                144)                                                              \n",
            "                                                                                                  \n",
            " block_2_depthwise (DepthwiseCo  (None, None, None,   1296       ['block_2_expand_relu[0][0]']    \n",
            " nv2D)                          144)                                                              \n",
            "                                                                                                  \n",
            " block_2_depthwise_BN (BatchNor  (None, None, None,   576        ['block_2_depthwise[0][0]']      \n",
            " malization)                    144)                                                              \n",
            "                                                                                                  \n",
            " block_2_depthwise_relu (ReLU)  (None, None, None,   0           ['block_2_depthwise_BN[0][0]']   \n",
            "                                144)                                                              \n",
            "                                                                                                  \n",
            " block_2_project (Conv2D)       (None, None, None,   3456        ['block_2_depthwise_relu[0][0]'] \n",
            "                                24)                                                               \n",
            "                                                                                                  \n",
            " block_2_project_BN (BatchNorma  (None, None, None,   96         ['block_2_project[0][0]']        \n",
            " lization)                      24)                                                               \n",
            "                                                                                                  \n",
            " block_2_add (Add)              (None, None, None,   0           ['block_1_project_BN[0][0]',     \n",
            "                                24)                               'block_2_project_BN[0][0]']     \n",
            "                                                                                                  \n",
            " block_3_expand (Conv2D)        (None, None, None,   3456        ['block_2_add[0][0]']            \n",
            "                                144)                                                              \n",
            "                                                                                                  \n",
            " block_3_expand_BN (BatchNormal  (None, None, None,   576        ['block_3_expand[0][0]']         \n",
            " ization)                       144)                                                              \n",
            "                                                                                                  \n",
            " block_3_expand_relu (ReLU)     (None, None, None,   0           ['block_3_expand_BN[0][0]']      \n",
            "                                144)                                                              \n",
            "                                                                                                  \n",
            " block_3_pad (ZeroPadding2D)    (None, None, None,   0           ['block_3_expand_relu[0][0]']    \n",
            "                                144)                                                              \n",
            "                                                                                                  \n",
            " block_3_depthwise (DepthwiseCo  (None, None, None,   1296       ['block_3_pad[0][0]']            \n",
            " nv2D)                          144)                                                              \n",
            "                                                                                                  \n",
            " block_3_depthwise_BN (BatchNor  (None, None, None,   576        ['block_3_depthwise[0][0]']      \n",
            " malization)                    144)                                                              \n",
            "                                                                                                  \n",
            " block_3_depthwise_relu (ReLU)  (None, None, None,   0           ['block_3_depthwise_BN[0][0]']   \n",
            "                                144)                                                              \n",
            "                                                                                                  \n",
            " block_3_project (Conv2D)       (None, None, None,   4608        ['block_3_depthwise_relu[0][0]'] \n",
            "                                32)                                                               \n",
            "                                                                                                  \n",
            " block_3_project_BN (BatchNorma  (None, None, None,   128        ['block_3_project[0][0]']        \n",
            " lization)                      32)                                                               \n",
            "                                                                                                  \n",
            " block_4_expand (Conv2D)        (None, None, None,   6144        ['block_3_project_BN[0][0]']     \n",
            "                                192)                                                              \n",
            "                                                                                                  \n",
            " block_4_expand_BN (BatchNormal  (None, None, None,   768        ['block_4_expand[0][0]']         \n",
            " ization)                       192)                                                              \n",
            "                                                                                                  \n",
            " block_4_expand_relu (ReLU)     (None, None, None,   0           ['block_4_expand_BN[0][0]']      \n",
            "                                192)                                                              \n",
            "                                                                                                  \n",
            " block_4_depthwise (DepthwiseCo  (None, None, None,   1728       ['block_4_expand_relu[0][0]']    \n",
            " nv2D)                          192)                                                              \n",
            "                                                                                                  \n",
            " block_4_depthwise_BN (BatchNor  (None, None, None,   768        ['block_4_depthwise[0][0]']      \n",
            " malization)                    192)                                                              \n",
            "                                                                                                  \n",
            " block_4_depthwise_relu (ReLU)  (None, None, None,   0           ['block_4_depthwise_BN[0][0]']   \n",
            "                                192)                                                              \n",
            "                                                                                                  \n",
            " block_4_project (Conv2D)       (None, None, None,   6144        ['block_4_depthwise_relu[0][0]'] \n",
            "                                32)                                                               \n",
            "                                                                                                  \n",
            " block_4_project_BN (BatchNorma  (None, None, None,   128        ['block_4_project[0][0]']        \n",
            " lization)                      32)                                                               \n",
            "                                                                                                  \n",
            " block_4_add (Add)              (None, None, None,   0           ['block_3_project_BN[0][0]',     \n",
            "                                32)                               'block_4_project_BN[0][0]']     \n",
            "                                                                                                  \n",
            " block_5_expand (Conv2D)        (None, None, None,   6144        ['block_4_add[0][0]']            \n",
            "                                192)                                                              \n",
            "                                                                                                  \n",
            " block_5_expand_BN (BatchNormal  (None, None, None,   768        ['block_5_expand[0][0]']         \n",
            " ization)                       192)                                                              \n",
            "                                                                                                  \n",
            " block_5_expand_relu (ReLU)     (None, None, None,   0           ['block_5_expand_BN[0][0]']      \n",
            "                                192)                                                              \n",
            "                                                                                                  \n",
            " block_5_depthwise (DepthwiseCo  (None, None, None,   1728       ['block_5_expand_relu[0][0]']    \n",
            " nv2D)                          192)                                                              \n",
            "                                                                                                  \n",
            " block_5_depthwise_BN (BatchNor  (None, None, None,   768        ['block_5_depthwise[0][0]']      \n",
            " malization)                    192)                                                              \n",
            "                                                                                                  \n",
            " block_5_depthwise_relu (ReLU)  (None, None, None,   0           ['block_5_depthwise_BN[0][0]']   \n",
            "                                192)                                                              \n",
            "                                                                                                  \n",
            " block_5_project (Conv2D)       (None, None, None,   6144        ['block_5_depthwise_relu[0][0]'] \n",
            "                                32)                                                               \n",
            "                                                                                                  \n",
            " block_5_project_BN (BatchNorma  (None, None, None,   128        ['block_5_project[0][0]']        \n",
            " lization)                      32)                                                               \n",
            "                                                                                                  \n",
            " block_5_add (Add)              (None, None, None,   0           ['block_4_add[0][0]',            \n",
            "                                32)                               'block_5_project_BN[0][0]']     \n",
            "                                                                                                  \n",
            " block_6_expand (Conv2D)        (None, None, None,   6144        ['block_5_add[0][0]']            \n",
            "                                192)                                                              \n",
            "                                                                                                  \n",
            " block_6_expand_BN (BatchNormal  (None, None, None,   768        ['block_6_expand[0][0]']         \n",
            " ization)                       192)                                                              \n",
            "                                                                                                  \n",
            " block_6_expand_relu (ReLU)     (None, None, None,   0           ['block_6_expand_BN[0][0]']      \n",
            "                                192)                                                              \n",
            "                                                                                                  \n",
            " block_6_pad (ZeroPadding2D)    (None, None, None,   0           ['block_6_expand_relu[0][0]']    \n",
            "                                192)                                                              \n",
            "                                                                                                  \n",
            " block_6_depthwise (DepthwiseCo  (None, None, None,   1728       ['block_6_pad[0][0]']            \n",
            " nv2D)                          192)                                                              \n",
            "                                                                                                  \n",
            " block_6_depthwise_BN (BatchNor  (None, None, None,   768        ['block_6_depthwise[0][0]']      \n",
            " malization)                    192)                                                              \n",
            "                                                                                                  \n",
            " block_6_depthwise_relu (ReLU)  (None, None, None,   0           ['block_6_depthwise_BN[0][0]']   \n",
            "                                192)                                                              \n",
            "                                                                                                  \n",
            " block_6_project (Conv2D)       (None, None, None,   12288       ['block_6_depthwise_relu[0][0]'] \n",
            "                                64)                                                               \n",
            "                                                                                                  \n",
            " block_6_project_BN (BatchNorma  (None, None, None,   256        ['block_6_project[0][0]']        \n",
            " lization)                      64)                                                               \n",
            "                                                                                                  \n",
            " block_7_expand (Conv2D)        (None, None, None,   24576       ['block_6_project_BN[0][0]']     \n",
            "                                384)                                                              \n",
            "                                                                                                  \n",
            " block_7_expand_BN (BatchNormal  (None, None, None,   1536       ['block_7_expand[0][0]']         \n",
            " ization)                       384)                                                              \n",
            "                                                                                                  \n",
            " block_7_expand_relu (ReLU)     (None, None, None,   0           ['block_7_expand_BN[0][0]']      \n",
            "                                384)                                                              \n",
            "                                                                                                  \n",
            " block_7_depthwise (DepthwiseCo  (None, None, None,   3456       ['block_7_expand_relu[0][0]']    \n",
            " nv2D)                          384)                                                              \n",
            "                                                                                                  \n",
            " block_7_depthwise_BN (BatchNor  (None, None, None,   1536       ['block_7_depthwise[0][0]']      \n",
            " malization)                    384)                                                              \n",
            "                                                                                                  \n",
            " block_7_depthwise_relu (ReLU)  (None, None, None,   0           ['block_7_depthwise_BN[0][0]']   \n",
            "                                384)                                                              \n",
            "                                                                                                  \n",
            " block_7_project (Conv2D)       (None, None, None,   24576       ['block_7_depthwise_relu[0][0]'] \n",
            "                                64)                                                               \n",
            "                                                                                                  \n",
            " block_7_project_BN (BatchNorma  (None, None, None,   256        ['block_7_project[0][0]']        \n",
            " lization)                      64)                                                               \n",
            "                                                                                                  \n",
            " block_7_add (Add)              (None, None, None,   0           ['block_6_project_BN[0][0]',     \n",
            "                                64)                               'block_7_project_BN[0][0]']     \n",
            "                                                                                                  \n",
            " block_8_expand (Conv2D)        (None, None, None,   24576       ['block_7_add[0][0]']            \n",
            "                                384)                                                              \n",
            "                                                                                                  \n",
            " block_8_expand_BN (BatchNormal  (None, None, None,   1536       ['block_8_expand[0][0]']         \n",
            " ization)                       384)                                                              \n",
            "                                                                                                  \n",
            " block_8_expand_relu (ReLU)     (None, None, None,   0           ['block_8_expand_BN[0][0]']      \n",
            "                                384)                                                              \n",
            "                                                                                                  \n",
            " block_8_depthwise (DepthwiseCo  (None, None, None,   3456       ['block_8_expand_relu[0][0]']    \n",
            " nv2D)                          384)                                                              \n",
            "                                                                                                  \n",
            " block_8_depthwise_BN (BatchNor  (None, None, None,   1536       ['block_8_depthwise[0][0]']      \n",
            " malization)                    384)                                                              \n",
            "                                                                                                  \n",
            " block_8_depthwise_relu (ReLU)  (None, None, None,   0           ['block_8_depthwise_BN[0][0]']   \n",
            "                                384)                                                              \n",
            "                                                                                                  \n",
            " block_8_project (Conv2D)       (None, None, None,   24576       ['block_8_depthwise_relu[0][0]'] \n",
            "                                64)                                                               \n",
            "                                                                                                  \n",
            " block_8_project_BN (BatchNorma  (None, None, None,   256        ['block_8_project[0][0]']        \n",
            " lization)                      64)                                                               \n",
            "                                                                                                  \n",
            " block_8_add (Add)              (None, None, None,   0           ['block_7_add[0][0]',            \n",
            "                                64)                               'block_8_project_BN[0][0]']     \n",
            "                                                                                                  \n",
            " block_9_expand (Conv2D)        (None, None, None,   24576       ['block_8_add[0][0]']            \n",
            "                                384)                                                              \n",
            "                                                                                                  \n",
            " block_9_expand_BN (BatchNormal  (None, None, None,   1536       ['block_9_expand[0][0]']         \n",
            " ization)                       384)                                                              \n",
            "                                                                                                  \n",
            " block_9_expand_relu (ReLU)     (None, None, None,   0           ['block_9_expand_BN[0][0]']      \n",
            "                                384)                                                              \n",
            "                                                                                                  \n",
            " block_9_depthwise (DepthwiseCo  (None, None, None,   3456       ['block_9_expand_relu[0][0]']    \n",
            " nv2D)                          384)                                                              \n",
            "                                                                                                  \n",
            " block_9_depthwise_BN (BatchNor  (None, None, None,   1536       ['block_9_depthwise[0][0]']      \n",
            " malization)                    384)                                                              \n",
            "                                                                                                  \n",
            " block_9_depthwise_relu (ReLU)  (None, None, None,   0           ['block_9_depthwise_BN[0][0]']   \n",
            "                                384)                                                              \n",
            "                                                                                                  \n",
            " block_9_project (Conv2D)       (None, None, None,   24576       ['block_9_depthwise_relu[0][0]'] \n",
            "                                64)                                                               \n",
            "                                                                                                  \n",
            " block_9_project_BN (BatchNorma  (None, None, None,   256        ['block_9_project[0][0]']        \n",
            " lization)                      64)                                                               \n",
            "                                                                                                  \n",
            " block_9_add (Add)              (None, None, None,   0           ['block_8_add[0][0]',            \n",
            "                                64)                               'block_9_project_BN[0][0]']     \n",
            "                                                                                                  \n",
            " block_10_expand (Conv2D)       (None, None, None,   24576       ['block_9_add[0][0]']            \n",
            "                                384)                                                              \n",
            "                                                                                                  \n",
            " block_10_expand_BN (BatchNorma  (None, None, None,   1536       ['block_10_expand[0][0]']        \n",
            " lization)                      384)                                                              \n",
            "                                                                                                  \n",
            " block_10_expand_relu (ReLU)    (None, None, None,   0           ['block_10_expand_BN[0][0]']     \n",
            "                                384)                                                              \n",
            "                                                                                                  \n",
            " block_10_depthwise (DepthwiseC  (None, None, None,   3456       ['block_10_expand_relu[0][0]']   \n",
            " onv2D)                         384)                                                              \n",
            "                                                                                                  \n",
            " block_10_depthwise_BN (BatchNo  (None, None, None,   1536       ['block_10_depthwise[0][0]']     \n",
            " rmalization)                   384)                                                              \n",
            "                                                                                                  \n",
            " block_10_depthwise_relu (ReLU)  (None, None, None,   0          ['block_10_depthwise_BN[0][0]']  \n",
            "                                384)                                                              \n",
            "                                                                                                  \n",
            " block_10_project (Conv2D)      (None, None, None,   36864       ['block_10_depthwise_relu[0][0]']\n",
            "                                96)                                                               \n",
            "                                                                                                  \n",
            " block_10_project_BN (BatchNorm  (None, None, None,   384        ['block_10_project[0][0]']       \n",
            " alization)                     96)                                                               \n",
            "                                                                                                  \n",
            " block_11_expand (Conv2D)       (None, None, None,   55296       ['block_10_project_BN[0][0]']    \n",
            "                                576)                                                              \n",
            "                                                                                                  \n",
            " block_11_expand_BN (BatchNorma  (None, None, None,   2304       ['block_11_expand[0][0]']        \n",
            " lization)                      576)                                                              \n",
            "                                                                                                  \n",
            " block_11_expand_relu (ReLU)    (None, None, None,   0           ['block_11_expand_BN[0][0]']     \n",
            "                                576)                                                              \n",
            "                                                                                                  \n",
            " block_11_depthwise (DepthwiseC  (None, None, None,   5184       ['block_11_expand_relu[0][0]']   \n",
            " onv2D)                         576)                                                              \n",
            "                                                                                                  \n",
            " block_11_depthwise_BN (BatchNo  (None, None, None,   2304       ['block_11_depthwise[0][0]']     \n",
            " rmalization)                   576)                                                              \n",
            "                                                                                                  \n",
            " block_11_depthwise_relu (ReLU)  (None, None, None,   0          ['block_11_depthwise_BN[0][0]']  \n",
            "                                576)                                                              \n",
            "                                                                                                  \n",
            " block_11_project (Conv2D)      (None, None, None,   55296       ['block_11_depthwise_relu[0][0]']\n",
            "                                96)                                                               \n",
            "                                                                                                  \n",
            " block_11_project_BN (BatchNorm  (None, None, None,   384        ['block_11_project[0][0]']       \n",
            " alization)                     96)                                                               \n",
            "                                                                                                  \n",
            " block_11_add (Add)             (None, None, None,   0           ['block_10_project_BN[0][0]',    \n",
            "                                96)                               'block_11_project_BN[0][0]']    \n",
            "                                                                                                  \n",
            " block_12_expand (Conv2D)       (None, None, None,   55296       ['block_11_add[0][0]']           \n",
            "                                576)                                                              \n",
            "                                                                                                  \n",
            " block_12_expand_BN (BatchNorma  (None, None, None,   2304       ['block_12_expand[0][0]']        \n",
            " lization)                      576)                                                              \n",
            "                                                                                                  \n",
            " block_12_expand_relu (ReLU)    (None, None, None,   0           ['block_12_expand_BN[0][0]']     \n",
            "                                576)                                                              \n",
            "                                                                                                  \n",
            " block_12_depthwise (DepthwiseC  (None, None, None,   5184       ['block_12_expand_relu[0][0]']   \n",
            " onv2D)                         576)                                                              \n",
            "                                                                                                  \n",
            " block_12_depthwise_BN (BatchNo  (None, None, None,   2304       ['block_12_depthwise[0][0]']     \n",
            " rmalization)                   576)                                                              \n",
            "                                                                                                  \n",
            " block_12_depthwise_relu (ReLU)  (None, None, None,   0          ['block_12_depthwise_BN[0][0]']  \n",
            "                                576)                                                              \n",
            "                                                                                                  \n",
            " block_12_project (Conv2D)      (None, None, None,   55296       ['block_12_depthwise_relu[0][0]']\n",
            "                                96)                                                               \n",
            "                                                                                                  \n",
            " block_12_project_BN (BatchNorm  (None, None, None,   384        ['block_12_project[0][0]']       \n",
            " alization)                     96)                                                               \n",
            "                                                                                                  \n",
            " block_12_add (Add)             (None, None, None,   0           ['block_11_add[0][0]',           \n",
            "                                96)                               'block_12_project_BN[0][0]']    \n",
            "                                                                                                  \n",
            " block_13_expand (Conv2D)       (None, None, None,   55296       ['block_12_add[0][0]']           \n",
            "                                576)                                                              \n",
            "                                                                                                  \n",
            " block_13_expand_BN (BatchNorma  (None, None, None,   2304       ['block_13_expand[0][0]']        \n",
            " lization)                      576)                                                              \n",
            "                                                                                                  \n",
            " block_13_expand_relu (ReLU)    (None, None, None,   0           ['block_13_expand_BN[0][0]']     \n",
            "                                576)                                                              \n",
            "                                                                                                  \n",
            " block_13_pad (ZeroPadding2D)   (None, None, None,   0           ['block_13_expand_relu[0][0]']   \n",
            "                                576)                                                              \n",
            "                                                                                                  \n",
            " block_13_depthwise (DepthwiseC  (None, None, None,   5184       ['block_13_pad[0][0]']           \n",
            " onv2D)                         576)                                                              \n",
            "                                                                                                  \n",
            " block_13_depthwise_BN (BatchNo  (None, None, None,   2304       ['block_13_depthwise[0][0]']     \n",
            " rmalization)                   576)                                                              \n",
            "                                                                                                  \n",
            " block_13_depthwise_relu (ReLU)  (None, None, None,   0          ['block_13_depthwise_BN[0][0]']  \n",
            "                                576)                                                              \n",
            "                                                                                                  \n",
            " block_13_project (Conv2D)      (None, None, None,   92160       ['block_13_depthwise_relu[0][0]']\n",
            "                                160)                                                              \n",
            "                                                                                                  \n",
            " block_13_project_BN (BatchNorm  (None, None, None,   640        ['block_13_project[0][0]']       \n",
            " alization)                     160)                                                              \n",
            "                                                                                                  \n",
            " block_14_expand (Conv2D)       (None, None, None,   153600      ['block_13_project_BN[0][0]']    \n",
            "                                960)                                                              \n",
            "                                                                                                  \n",
            " block_14_expand_BN (BatchNorma  (None, None, None,   3840       ['block_14_expand[0][0]']        \n",
            " lization)                      960)                                                              \n",
            "                                                                                                  \n",
            " block_14_expand_relu (ReLU)    (None, None, None,   0           ['block_14_expand_BN[0][0]']     \n",
            "                                960)                                                              \n",
            "                                                                                                  \n",
            " block_14_depthwise (DepthwiseC  (None, None, None,   8640       ['block_14_expand_relu[0][0]']   \n",
            " onv2D)                         960)                                                              \n",
            "                                                                                                  \n",
            " block_14_depthwise_BN (BatchNo  (None, None, None,   3840       ['block_14_depthwise[0][0]']     \n",
            " rmalization)                   960)                                                              \n",
            "                                                                                                  \n",
            " block_14_depthwise_relu (ReLU)  (None, None, None,   0          ['block_14_depthwise_BN[0][0]']  \n",
            "                                960)                                                              \n",
            "                                                                                                  \n",
            " block_14_project (Conv2D)      (None, None, None,   153600      ['block_14_depthwise_relu[0][0]']\n",
            "                                160)                                                              \n",
            "                                                                                                  \n",
            " block_14_project_BN (BatchNorm  (None, None, None,   640        ['block_14_project[0][0]']       \n",
            " alization)                     160)                                                              \n",
            "                                                                                                  \n",
            " block_14_add (Add)             (None, None, None,   0           ['block_13_project_BN[0][0]',    \n",
            "                                160)                              'block_14_project_BN[0][0]']    \n",
            "                                                                                                  \n",
            " block_15_expand (Conv2D)       (None, None, None,   153600      ['block_14_add[0][0]']           \n",
            "                                960)                                                              \n",
            "                                                                                                  \n",
            " block_15_expand_BN (BatchNorma  (None, None, None,   3840       ['block_15_expand[0][0]']        \n",
            " lization)                      960)                                                              \n",
            "                                                                                                  \n",
            " block_15_expand_relu (ReLU)    (None, None, None,   0           ['block_15_expand_BN[0][0]']     \n",
            "                                960)                                                              \n",
            "                                                                                                  \n",
            " block_15_depthwise (DepthwiseC  (None, None, None,   8640       ['block_15_expand_relu[0][0]']   \n",
            " onv2D)                         960)                                                              \n",
            "                                                                                                  \n",
            " block_15_depthwise_BN (BatchNo  (None, None, None,   3840       ['block_15_depthwise[0][0]']     \n",
            " rmalization)                   960)                                                              \n",
            "                                                                                                  \n",
            " block_15_depthwise_relu (ReLU)  (None, None, None,   0          ['block_15_depthwise_BN[0][0]']  \n",
            "                                960)                                                              \n",
            "                                                                                                  \n",
            " block_15_project (Conv2D)      (None, None, None,   153600      ['block_15_depthwise_relu[0][0]']\n",
            "                                160)                                                              \n",
            "                                                                                                  \n",
            " block_15_project_BN (BatchNorm  (None, None, None,   640        ['block_15_project[0][0]']       \n",
            " alization)                     160)                                                              \n",
            "                                                                                                  \n",
            " block_15_add (Add)             (None, None, None,   0           ['block_14_add[0][0]',           \n",
            "                                160)                              'block_15_project_BN[0][0]']    \n",
            "                                                                                                  \n",
            " block_16_expand (Conv2D)       (None, None, None,   153600      ['block_15_add[0][0]']           \n",
            "                                960)                                                              \n",
            "                                                                                                  \n",
            " block_16_expand_BN (BatchNorma  (None, None, None,   3840       ['block_16_expand[0][0]']        \n",
            " lization)                      960)                                                              \n",
            "                                                                                                  \n",
            " block_16_expand_relu (ReLU)    (None, None, None,   0           ['block_16_expand_BN[0][0]']     \n",
            "                                960)                                                              \n",
            "                                                                                                  \n",
            " block_16_depthwise (DepthwiseC  (None, None, None,   8640       ['block_16_expand_relu[0][0]']   \n",
            " onv2D)                         960)                                                              \n",
            "                                                                                                  \n",
            " block_16_depthwise_BN (BatchNo  (None, None, None,   3840       ['block_16_depthwise[0][0]']     \n",
            " rmalization)                   960)                                                              \n",
            "                                                                                                  \n",
            " block_16_depthwise_relu (ReLU)  (None, None, None,   0          ['block_16_depthwise_BN[0][0]']  \n",
            "                                960)                                                              \n",
            "                                                                                                  \n",
            " block_16_project (Conv2D)      (None, None, None,   307200      ['block_16_depthwise_relu[0][0]']\n",
            "                                320)                                                              \n",
            "                                                                                                  \n",
            " block_16_project_BN (BatchNorm  (None, None, None,   1280       ['block_16_project[0][0]']       \n",
            " alization)                     320)                                                              \n",
            "                                                                                                  \n",
            " Conv_1 (Conv2D)                (None, None, None,   409600      ['block_16_project_BN[0][0]']    \n",
            "                                1280)                                                             \n",
            "                                                                                                  \n",
            " Conv_1_bn (BatchNormalization)  (None, None, None,   5120       ['Conv_1[0][0]']                 \n",
            "                                1280)                                                             \n",
            "                                                                                                  \n",
            " out_relu (ReLU)                (None, None, None,   0           ['Conv_1_bn[0][0]']              \n",
            "                                1280)                                                             \n",
            "                                                                                                  \n",
            "==================================================================================================\n",
            "Total params: 2,257,984\n",
            "Trainable params: 2,223,872\n",
            "Non-trainable params: 34,112\n",
            "__________________________________________________________________________________________________\n"
          ]
        }
      ]
    },
    {
      "cell_type": "code",
      "source": [
        "# Add a global average pooling layer to reduce the spatial dimensions\n",
        "glb_avg_layer = GlobalAveragePooling2D()(base_model.output)"
      ],
      "metadata": {
        "id": "7RTrNsY3C1iY"
      },
      "execution_count": 21,
      "outputs": []
    },
    {
      "cell_type": "markdown",
      "source": [
        "### Create a feature extraction model using the pre-trained MobileNetV2"
      ],
      "metadata": {
        "id": "ogfmio6HDJuf"
      }
    },
    {
      "cell_type": "code",
      "source": [
        "feature_extraction_model = tf.keras.Model(inputs=base_model.input, outputs=glb_avg_layer)"
      ],
      "metadata": {
        "id": "WNAoakocDDxu"
      },
      "execution_count": 22,
      "outputs": []
    },
    {
      "cell_type": "markdown",
      "source": [
        "### Extract deep features for target class and outliers"
      ],
      "metadata": {
        "id": "4gS_xcRYFdfD"
      }
    },
    {
      "cell_type": "code",
      "source": [
        "x_train_features = feature_extraction_model.predict(x_train_transistor)\n",
        "x_test_misplaced_features = feature_extraction_model.predict(x_test_misplaced)  # Outliers"
      ],
      "metadata": {
        "id": "7P0-qrh4DEW6",
        "colab": {
          "base_uri": "https://localhost:8080/"
        },
        "outputId": "f168dd44-3384-4273-bd69-6f3a1349dff7"
      },
      "execution_count": 23,
      "outputs": [
        {
          "output_type": "stream",
          "name": "stdout",
          "text": [
            "7/7 [==============================] - 9s 143ms/step\n",
            "1/1 [==============================] - 1s 513ms/step\n"
          ]
        }
      ]
    },
    {
      "cell_type": "markdown",
      "source": [
        "### Train One-Class SVM"
      ],
      "metadata": {
        "id": "kMcIZ5U9FgHD"
      }
    },
    {
      "cell_type": "code",
      "source": [
        "# Combine the target class features with some proportion of outlier features to create the training set\n",
        "# proportion_outliers = 0.1\n",
        "# train_features = np.vstack((target_class_features, outlier_features[:int(num_outliers * proportion_outliers)]))"
      ],
      "metadata": {
        "id": "xIa9mXuhFkmr"
      },
      "execution_count": 24,
      "outputs": []
    },
    {
      "cell_type": "markdown",
      "source": [
        "=== np.vstack ===\n",
        "\n",
        "a = np.array([1, 2, 3])\n",
        "\n",
        "b = np.array([4, 5, 6])\n",
        "\n",
        "np.vstack((a,b))\n",
        "\n",
        "Output: array([[1, 2, 3],\n",
        "       [4, 5, 6]])\n",
        "\n",
        "=== np.hstack ===\n",
        "\n",
        "a = np.array((1,2,3))\n",
        "\n",
        "b = np.array((4,5,6))\n",
        "\n",
        "np.hstack((a,b))\n",
        "\n",
        "Output: array([1, 2, 3, 4, 5, 6])\n",
        "\n",
        "=======================\n",
        "\n",
        "a = np.array([[1],[2],[3]])\n",
        "\n",
        "b = np.array([[4],[5],[6]])\n",
        "\n",
        "np.hstack((a,b))\n",
        "\n",
        "Output: array([[1, 4],\n",
        "       [2, 5],\n",
        "       [3, 6]])"
      ],
      "metadata": {
        "id": "dDhWuqN2Gi0X"
      }
    },
    {
      "cell_type": "markdown",
      "source": [
        "### Fit the One-Class SVM model\n",
        "\n",
        "class sklearn.svm.OneClassSVM(*, kernel='rbf', degree=3, gamma='scale', coef0=0.0, tol=0.001, nu=0.5, shrinking=True, cache_size=200, verbose=False, max_iter=-1)[source]"
      ],
      "metadata": {
        "id": "IGq4cAqdHtXa"
      }
    },
    {
      "cell_type": "code",
      "source": [
        "ocsvm = OneClassSVM(gamma='auto')  # You can adjust the hyperparameters as needed\n",
        "ocsvm.fit(x_train_features)"
      ],
      "metadata": {
        "colab": {
          "base_uri": "https://localhost:8080/",
          "height": 75
        },
        "id": "PTJcKd8iFkkK",
        "outputId": "fa035b89-b112-4aba-af75-22aa16018cd8"
      },
      "execution_count": 25,
      "outputs": [
        {
          "output_type": "execute_result",
          "data": {
            "text/plain": [
              "OneClassSVM(gamma='auto')"
            ],
            "text/html": [
              "<style>#sk-container-id-1 {color: black;background-color: white;}#sk-container-id-1 pre{padding: 0;}#sk-container-id-1 div.sk-toggleable {background-color: white;}#sk-container-id-1 label.sk-toggleable__label {cursor: pointer;display: block;width: 100%;margin-bottom: 0;padding: 0.3em;box-sizing: border-box;text-align: center;}#sk-container-id-1 label.sk-toggleable__label-arrow:before {content: \"▸\";float: left;margin-right: 0.25em;color: #696969;}#sk-container-id-1 label.sk-toggleable__label-arrow:hover:before {color: black;}#sk-container-id-1 div.sk-estimator:hover label.sk-toggleable__label-arrow:before {color: black;}#sk-container-id-1 div.sk-toggleable__content {max-height: 0;max-width: 0;overflow: hidden;text-align: left;background-color: #f0f8ff;}#sk-container-id-1 div.sk-toggleable__content pre {margin: 0.2em;color: black;border-radius: 0.25em;background-color: #f0f8ff;}#sk-container-id-1 input.sk-toggleable__control:checked~div.sk-toggleable__content {max-height: 200px;max-width: 100%;overflow: auto;}#sk-container-id-1 input.sk-toggleable__control:checked~label.sk-toggleable__label-arrow:before {content: \"▾\";}#sk-container-id-1 div.sk-estimator input.sk-toggleable__control:checked~label.sk-toggleable__label {background-color: #d4ebff;}#sk-container-id-1 div.sk-label input.sk-toggleable__control:checked~label.sk-toggleable__label {background-color: #d4ebff;}#sk-container-id-1 input.sk-hidden--visually {border: 0;clip: rect(1px 1px 1px 1px);clip: rect(1px, 1px, 1px, 1px);height: 1px;margin: -1px;overflow: hidden;padding: 0;position: absolute;width: 1px;}#sk-container-id-1 div.sk-estimator {font-family: monospace;background-color: #f0f8ff;border: 1px dotted black;border-radius: 0.25em;box-sizing: border-box;margin-bottom: 0.5em;}#sk-container-id-1 div.sk-estimator:hover {background-color: #d4ebff;}#sk-container-id-1 div.sk-parallel-item::after {content: \"\";width: 100%;border-bottom: 1px solid gray;flex-grow: 1;}#sk-container-id-1 div.sk-label:hover label.sk-toggleable__label {background-color: #d4ebff;}#sk-container-id-1 div.sk-serial::before {content: \"\";position: absolute;border-left: 1px solid gray;box-sizing: border-box;top: 0;bottom: 0;left: 50%;z-index: 0;}#sk-container-id-1 div.sk-serial {display: flex;flex-direction: column;align-items: center;background-color: white;padding-right: 0.2em;padding-left: 0.2em;position: relative;}#sk-container-id-1 div.sk-item {position: relative;z-index: 1;}#sk-container-id-1 div.sk-parallel {display: flex;align-items: stretch;justify-content: center;background-color: white;position: relative;}#sk-container-id-1 div.sk-item::before, #sk-container-id-1 div.sk-parallel-item::before {content: \"\";position: absolute;border-left: 1px solid gray;box-sizing: border-box;top: 0;bottom: 0;left: 50%;z-index: -1;}#sk-container-id-1 div.sk-parallel-item {display: flex;flex-direction: column;z-index: 1;position: relative;background-color: white;}#sk-container-id-1 div.sk-parallel-item:first-child::after {align-self: flex-end;width: 50%;}#sk-container-id-1 div.sk-parallel-item:last-child::after {align-self: flex-start;width: 50%;}#sk-container-id-1 div.sk-parallel-item:only-child::after {width: 0;}#sk-container-id-1 div.sk-dashed-wrapped {border: 1px dashed gray;margin: 0 0.4em 0.5em 0.4em;box-sizing: border-box;padding-bottom: 0.4em;background-color: white;}#sk-container-id-1 div.sk-label label {font-family: monospace;font-weight: bold;display: inline-block;line-height: 1.2em;}#sk-container-id-1 div.sk-label-container {text-align: center;}#sk-container-id-1 div.sk-container {/* jupyter's `normalize.less` sets `[hidden] { display: none; }` but bootstrap.min.css set `[hidden] { display: none !important; }` so we also need the `!important` here to be able to override the default hidden behavior on the sphinx rendered scikit-learn.org. See: https://github.com/scikit-learn/scikit-learn/issues/21755 */display: inline-block !important;position: relative;}#sk-container-id-1 div.sk-text-repr-fallback {display: none;}</style><div id=\"sk-container-id-1\" class=\"sk-top-container\"><div class=\"sk-text-repr-fallback\"><pre>OneClassSVM(gamma=&#x27;auto&#x27;)</pre><b>In a Jupyter environment, please rerun this cell to show the HTML representation or trust the notebook. <br />On GitHub, the HTML representation is unable to render, please try loading this page with nbviewer.org.</b></div><div class=\"sk-container\" hidden><div class=\"sk-item\"><div class=\"sk-estimator sk-toggleable\"><input class=\"sk-toggleable__control sk-hidden--visually\" id=\"sk-estimator-id-1\" type=\"checkbox\" checked><label for=\"sk-estimator-id-1\" class=\"sk-toggleable__label sk-toggleable__label-arrow\">OneClassSVM</label><div class=\"sk-toggleable__content\"><pre>OneClassSVM(gamma=&#x27;auto&#x27;)</pre></div></div></div></div></div>"
            ]
          },
          "metadata": {},
          "execution_count": 25
        }
      ]
    },
    {
      "cell_type": "code",
      "source": [
        "x_test_misplaced.shape"
      ],
      "metadata": {
        "colab": {
          "base_uri": "https://localhost:8080/"
        },
        "id": "Gh9QHpsxcszL",
        "outputId": "cd317347-17b6-455c-b26b-17cd896620b5"
      },
      "execution_count": 41,
      "outputs": [
        {
          "output_type": "execute_result",
          "data": {
            "text/plain": [
              "(10, 224, 224, 3)"
            ]
          },
          "metadata": {},
          "execution_count": 41
        }
      ]
    },
    {
      "cell_type": "code",
      "source": [
        "x_test_misplaced_features.shape"
      ],
      "metadata": {
        "colab": {
          "base_uri": "https://localhost:8080/"
        },
        "id": "ofckteQLca3z",
        "outputId": "c7aa0405-1cc3-488f-a965-3d17278278a8"
      },
      "execution_count": 42,
      "outputs": [
        {
          "output_type": "execute_result",
          "data": {
            "text/plain": [
              "(10, 1280)"
            ]
          },
          "metadata": {},
          "execution_count": 42
        }
      ]
    },
    {
      "cell_type": "code",
      "source": [
        "# Test on some new data (you can use a separate test set or additional data)\n",
        "# For example, using only the misplaced (outlier) data for testing\n",
        "predictions = ocsvm.predict(x_test_misplaced_features)"
      ],
      "metadata": {
        "id": "3ocO2SFnFkhn"
      },
      "execution_count": 43,
      "outputs": []
    },
    {
      "cell_type": "code",
      "source": [
        "# In the predictions, -1 indicates outliers, and 1 indicates the target class\n",
        "print(\"Predictions:\", predictions)"
      ],
      "metadata": {
        "id": "jMjZ4J1RDEUb",
        "colab": {
          "base_uri": "https://localhost:8080/"
        },
        "outputId": "eee1e656-c0d2-4dcd-9ff7-855db9c5bbd0"
      },
      "execution_count": 44,
      "outputs": [
        {
          "output_type": "stream",
          "name": "stdout",
          "text": [
            "Predictions: [-1 -1 -1 -1 -1 -1 -1 -1 -1 -1]\n"
          ]
        }
      ]
    },
    {
      "cell_type": "code",
      "source": [
        "x_test_good_features = feature_extraction_model.predict(x_test_good)\n",
        "x_test_cutlead_features = feature_extraction_model.predict(x_test_cutlead)  # Outliers\n",
        "x_test_damaged_features = feature_extraction_model.predict(x_test_damaged)  # Outliers"
      ],
      "metadata": {
        "colab": {
          "base_uri": "https://localhost:8080/"
        },
        "id": "uTy_uN17eNwy",
        "outputId": "1ae84bd4-5f46-4f93-e466-175fb85d8a06"
      },
      "execution_count": 45,
      "outputs": [
        {
          "output_type": "stream",
          "name": "stdout",
          "text": [
            "2/2 [==============================] - 1s 801ms/step\n",
            "1/1 [==============================] - 0s 27ms/step\n",
            "1/1 [==============================] - 0s 29ms/step\n"
          ]
        }
      ]
    },
    {
      "cell_type": "code",
      "source": [
        "x_test_good_ocsvm_predict = ocsvm.predict(x_test_good_features)\n",
        "x_test_cutlead_ocsvm_predict = ocsvm.predict(x_test_cutlead_features)\n",
        "x_test_damaged_ocsvm_predict = ocsvm.predict(x_test_damaged_features)"
      ],
      "metadata": {
        "id": "Twbi0kPaek0T"
      },
      "execution_count": 46,
      "outputs": []
    },
    {
      "cell_type": "code",
      "source": [
        "# In the predictions, -1 indicates outliers, and 1 indicates the target class\n",
        "print(\"Good Transistor Predictions:\", x_test_good_ocsvm_predict)\n",
        "print(\"Cutlead Anomlay Predictions:\", x_test_cutlead_ocsvm_predict)\n",
        "print(\"Damaged Case Anomaly Predictions:\", x_test_damaged_ocsvm_predict)"
      ],
      "metadata": {
        "colab": {
          "base_uri": "https://localhost:8080/"
        },
        "id": "RielDUppe1wk",
        "outputId": "4d8eba5d-57f2-4e12-c6bc-a252c5a16d72"
      },
      "execution_count": 49,
      "outputs": [
        {
          "output_type": "stream",
          "name": "stdout",
          "text": [
            "Good Transistor Predictions: [-1 -1  1  1 -1 -1 -1 -1 -1  1  1  1 -1 -1  1  1 -1  1  1  1  1 -1  1 -1\n",
            "  1  1 -1 -1  1 -1 -1  1  1 -1 -1 -1 -1  1 -1 -1  1  1  1  1 -1  1 -1  1\n",
            " -1  1 -1  1  1 -1 -1  1  1 -1  1  1]\n",
            "Cutlead Anomlay Predictions: [-1 -1 -1  1 -1 -1 -1 -1 -1 -1]\n",
            "Damaged Case Anomaly Predictions: [-1 -1 -1 -1 -1 -1 -1 -1 -1 -1]\n"
          ]
        }
      ]
    }
  ]
}