{
  "nbformat": 4,
  "nbformat_minor": 0,
  "metadata": {
    "colab": {
      "provenance": []
    },
    "kernelspec": {
      "name": "python3",
      "display_name": "Python 3"
    },
    "language_info": {
      "name": "python"
    }
  },
  "cells": [
    {
      "cell_type": "markdown",
      "source": [
        "### Data Augmentation\n",
        "\n",
        "**Adding Data Augmentation into the model**\n",
        "\n",
        "This a relatively new feature added to TensorFlow 2.2+ but it's very powerful. Adding a data augmentation layer to the model has the following benefits:\n",
        "\n",
        "* Preprocessing of the images (augmenting them) happens on the **GPU** rather than on the CPU (much faster).\n",
        "* Images are best preprocessed on the GPU where as text and structured data are more suited to be preprocessed on the CPU.\n",
        "* Image data augmentation only happens during training so we can still export our whole model and use it elsewhere. And if someone else wanted to train the same model as us, including the same kind of data augmentation, they could.\n",
        "\n",
        "Data augmentation methods that can be adjusted with Keras:\n",
        "\n",
        "* **RandomFlip** - flips image on horizontal or vertical axis.\n",
        "* **RandomRotation** - randomly rotates image by a specified amount.\n",
        "* **RandomZoom** - randomly zooms into an image by specified amount.\n",
        "* **RandomHeight** - randomly shifts image height by a specified amount.\n",
        "* **RandomWidth** - randomly shifts image width by a specified amount.\n",
        "* **Rescaling** - normalizes the image pixel values to be between 0 and 1,"
      ],
      "metadata": {
        "id": "CzIiQcg43RPG"
      }
    },
    {
      "cell_type": "code",
      "source": [
        "import tensorflow as tf\n",
        "from tensorflow import keras\n",
        "from tensorflow.keras.layers.experimental import preprocessing\n",
        "\n",
        "data_augmentation = keras.Sequential([\n",
        "    preprocessing.RandomFlip(\"horizontal\"),  # \"horizontal\", \"vertical\", or \"horizontal_and_vertical\"\n",
        "    preprocessing.RandomRotation(0.2),\n",
        "    preprocessing.RandomZoom(0.2),\n",
        "    preprocessing.RandomHeight(0.2),\n",
        "    preprocessing.RandomWidth(0.2),\n",
        "    preprocessing.Rescaling(1./255) # keep for ResNet50V2, remove for EfficientNetB0\n",
        "], name='data_aug_layer')\n",
        "\n",
        "# # Example Usage\n",
        "# data augmentation model requires shape (None, height, width, 3)\n",
        "# augmented_img = data_augmentation(tf.expand_dims(img, axis=0))\n",
        "# plt.imshow(tf.squeeze(augmented_img)/255.) # requires normalization after augmentation"
      ],
      "metadata": {
        "id": "N5MFUm3C17a8"
      },
      "execution_count": null,
      "outputs": []
    },
    {
      "cell_type": "markdown",
      "source": [
        "### Using Dropout Technique to overcome the Overfitting problem\n",
        "\n",
        "A form of regularization useful in training neural networks. Dropout regularization removes a random selection of a fixed number of the units in a network layer for a single gradient step. The more units dropped out, the stronger the regularization."
      ],
      "metadata": {
        "id": "-maMWrmvmshF"
      }
    },
    {
      "cell_type": "code",
      "source": [
        "import tensorflow as tf\n",
        "from tensorflow import keras\n",
        "\n",
        "model = keras.Sequential([\n",
        "  keras.layers.Rescaling(1./255, input_shape=(img_height, img_width, 3)),\n",
        "  keras.layers.Conv2D(16, 3, padding='same', activation='relu'),\n",
        "  keras.layers.MaxPooling2D(),\n",
        "  keras.layers.Conv2D(32, 3, padding='same', activation='relu'),\n",
        "  keras.layers.MaxPooling2D(),\n",
        "  keras.layers.Conv2D(64, 3, padding='same', activation='relu'),\n",
        "  keras.layers.MaxPooling2D(),\n",
        "  keras.layers.Dropout(0.2),   # Adding Dropout layer before flatten the data\n",
        "  keras.layers.Flatten(),\n",
        "  keras.layers.Dense(128, activation='relu'),\n",
        "  keras.layers.Dense(num_classes, name=\"outputs\")\n",
        "])"
      ],
      "metadata": {
        "id": "_gBxarZYmOJR"
      },
      "execution_count": null,
      "outputs": []
    },
    {
      "cell_type": "markdown",
      "source": [
        "### Model Layers Describe - Print Model Layer's name, number & trainable state"
      ],
      "metadata": {
        "id": "c_8WyOIJEnmA"
      }
    },
    {
      "cell_type": "code",
      "source": [
        "def describe_model_layers(model):\n",
        "  for layer_number, layer in enumerate(model.layers):\n",
        "    print(layer_number, layer.name, layer.trainable)"
      ],
      "metadata": {
        "id": "eIEUkruX17Yo"
      },
      "execution_count": null,
      "outputs": []
    },
    {
      "cell_type": "markdown",
      "source": [
        "### Unzip File"
      ],
      "metadata": {
        "id": "u-kr9qOhQv3k"
      }
    },
    {
      "cell_type": "code",
      "source": [
        "import zipfile\n",
        "\n",
        "# Unzip the downloaded file\n",
        "def unzip_data(zip_file_name):\n",
        "  zip_ref = zipfile.ZipFile(zip_file_name, \"r\")\n",
        "  zip_ref.extractall()\n",
        "  zip_ref.close()"
      ],
      "metadata": {
        "id": "3YApMsJoQvMG"
      },
      "execution_count": null,
      "outputs": []
    },
    {
      "cell_type": "markdown",
      "source": [
        "### Print working or data directory map - walk through directory"
      ],
      "metadata": {
        "id": "CwNdF1uJQ1ou"
      }
    },
    {
      "cell_type": "code",
      "source": [
        "import os\n",
        "\n",
        "def walk_through_dir(data_dir):\n",
        "  for dirpath, dirnames, filenames in os.walk(data_dir):\n",
        "    print(f\"There are {len(dirnames)} directories and {len(filenames)} images in '{dirpath}'.\")"
      ],
      "metadata": {
        "id": "378BgF0tQvJp"
      },
      "execution_count": null,
      "outputs": []
    },
    {
      "cell_type": "markdown",
      "source": [
        "### Get Images from Directory as Numpy Array"
      ],
      "metadata": {
        "id": "YwCYLv6ATsS8"
      }
    },
    {
      "cell_type": "code",
      "source": [
        "from tensorflow import keras\n",
        "import glob   # In order to get images as matrices from directory\n",
        "\n",
        "def get_imgs_from_directory_as_numpy_array(dir, ext, size=None, scl=None):\n",
        "    formats = ['jpg', 'png', 'jpeg']\n",
        "\n",
        "    if ext in formats:\n",
        "        rgx_for_img = dir + \"/*.\" + ext\n",
        "        img_list = glob.glob(rgx_for_img)\n",
        "    def process_images(filename):\n",
        "        img = keras.preprocessing.image.load_img(filename, color_mode=\"rgb\", target_size=size)\n",
        "        img_arr = keras.preprocessing.image.img_to_array(img)\n",
        "        img_arr = np.array(img_arr).astype('float32')\n",
        "        if scl == '8bit': img_arr /= 255.0\n",
        "        return img_arr\n",
        "\n",
        "    return np.array(list(map(process_images, img_list)))\n",
        "    # https://keras.io/api/preprocessing/image/\n",
        "    # https://www.tensorflow.org/api_docs/python/tf/keras/preprocessing/image/ImageDataGenerator"
      ],
      "metadata": {
        "id": "EKzIwB_fTrgZ"
      },
      "execution_count": null,
      "outputs": []
    },
    {
      "cell_type": "markdown",
      "source": [
        "### Get all files from directory with the given file extension (.xml, .jpg, .png, .txt, etc.)"
      ],
      "metadata": {
        "id": "779v_QBMLi-O"
      }
    },
    {
      "cell_type": "code",
      "source": [
        "import os\n",
        "\n",
        "def get_all_files_ext(path, ext, sort=True):\n",
        "  '''Get all files with the given file extension in the given path'''\n",
        "  ext = \".\" + str(ext)\n",
        "  files = [\n",
        "      os.path.join(path, file_name)\n",
        "      for file_name in os.listdir(path)\n",
        "      if file_name.endswith(ext)\n",
        "  ]\n",
        "\n",
        "  if sort == True:\n",
        "    return sorted(files)\n",
        "  else:\n",
        "    return files\n",
        "\n",
        "# # Example usage\n",
        "# ANNOT_PATH = \"/content/Microcontroller Detection/train\"\n",
        "# xml_files = get_all_files_ext(ANNOT_PATH, \"xml\")"
      ],
      "metadata": {
        "id": "p9vJkvQZLiSa"
      },
      "execution_count": null,
      "outputs": []
    },
    {
      "cell_type": "markdown",
      "source": [
        "### Detecting and Initializing TPU"
      ],
      "metadata": {
        "id": "iY9rB5WQ6JoJ"
      }
    },
    {
      "cell_type": "code",
      "source": [
        "import os\n",
        "import tensorflow as tf\n",
        "\n",
        "def initialize_TPU():\n",
        "  tpu_address = 'grpc://' + os.environ['COLAB_TPU_ADDR']  # For Google Colab\n",
        "  # For GCP, replace with the actual TPU address\n",
        "  # tpu_address = 'grpc://<tpu_address>'\n",
        "  try:\n",
        "      resolver = tf.distribute.cluster_resolver.TPUClusterResolver(tpu=tpu_address)\n",
        "      print('Running on TPU ', resolver.master())\n",
        "  except ValueError:\n",
        "      resolver = None\n",
        "\n",
        "  if resolver is not None:\n",
        "      tf.config.experimental_connect_to_cluster(resolver)\n",
        "      tf.tpu.experimental.initialize_tpu_system(resolver)\n",
        "      strategy = tf.distribute.TPUStrategy(resolver)\n",
        "  else:\n",
        "      strategy = tf.distribute.get_strategy()\n",
        "\n",
        "  print(\"TPU REPLICAS: \", strategy.num_replicas_in_sync)\n",
        "\n",
        "  return strategy"
      ],
      "metadata": {
        "id": "4xHhO7bg6ISt"
      },
      "execution_count": null,
      "outputs": []
    },
    {
      "cell_type": "markdown",
      "source": [
        "### Prepare Images as Keras Input"
      ],
      "metadata": {
        "id": "NqQYrD9Xd13q"
      }
    },
    {
      "cell_type": "code",
      "source": [
        "def prepare_imgs_as_keras_input(np_array, input_size):\n",
        "  '''This method prepares a data array as a keras input\n",
        "  Example of input_size parameter usage: (28,28,1) -> 28x28 pixels gray scale images, (28,28,3) 28x28 pixels RGB images\n",
        "  Example of np_array parameter usage: np_array.shape = (60000, 28, 28) OR (60000, 784)'''\n",
        "  w, h, d = input_size\n",
        "  return np_array.reshape(np_array.shape[0], w, h, d)"
      ],
      "metadata": {
        "id": "9Q9liij9dyqU"
      },
      "execution_count": null,
      "outputs": []
    },
    {
      "cell_type": "markdown",
      "source": [
        "### Preprocess Image File - Load image as tf format, Reshape & Scale"
      ],
      "metadata": {
        "id": "rD4-tCYWUTDo"
      }
    },
    {
      "cell_type": "code",
      "source": [
        "def preprocess_img(filename, img_shape=224, num_channels=3, scale=True):\n",
        "  \"\"\"\n",
        "  Create a function to import an image and resize it to be able to be used with custom models\n",
        "  Reads an image from filename, turns it into a tensor\n",
        "  and reshapes it to (img_shape, img_shape, colour_channel).\n",
        "    Default image size of ResNet model\n",
        "    Default number of channels=3 (RGB)\n",
        "  \"\"\"\n",
        "  # Read in target file (an image)\n",
        "  img = tf.io.read_file(filename)\n",
        "\n",
        "  # Decode the read file into a tensor\n",
        "  img = tf.image.decode_image(img, channels=num_channels)\n",
        "\n",
        "  # Resize the image (to the same size our model was trained on)\n",
        "  img = tf.image.resize(img, size = [img_shape, img_shape])\n",
        "\n",
        "  # Rescale the image (get all values between 0 and 1)\n",
        "  if scale:\n",
        "    img = img/255.\n",
        "\n",
        "  return img"
      ],
      "metadata": {
        "id": "d2NPHG8AQvHO"
      },
      "execution_count": null,
      "outputs": []
    },
    {
      "cell_type": "markdown",
      "source": [
        "### Prediction for given image file & Plots"
      ],
      "metadata": {
        "id": "r6hhk-gWVGjc"
      }
    },
    {
      "cell_type": "code",
      "source": [
        "def pred_and_plot(model, filename, class_names):\n",
        "  \"\"\"\n",
        "  Imports an image located at filename, makes a prediction on it with\n",
        "  a trained model and plots the image with the predicted class as the title.\n",
        "  \"\"\"\n",
        "  # Import the target image and preprocess it\n",
        "  img = load_and_prep_image(filename)\n",
        "\n",
        "  # Make a prediction\n",
        "  pred = model.predict(tf.expand_dims(img, axis=0))\n",
        "\n",
        "  # Get the predicted class\n",
        "  pred_class = class_names[int(tf.round(pred)[0][0])]\n",
        "\n",
        "  # Plot the image and predicted class\n",
        "  plt.imshow(img)\n",
        "  plt.title(f\"Prediction: {pred_class}\")\n",
        "  plt.axis(False);"
      ],
      "metadata": {
        "id": "-6RL7zAJVE9c"
      },
      "execution_count": null,
      "outputs": []
    },
    {
      "cell_type": "markdown",
      "source": [
        "### Prediction Analyzer - Prints DataFrame for Most wrong or Correct Predicted Data\n"
      ],
      "metadata": {
        "id": "VOUFBEapIIEn"
      }
    },
    {
      "cell_type": "code",
      "source": [
        "import pandas as pd\n",
        "\n",
        "def get_prediction_analysis(img_file_paths, y_true, y_pred, pred_probs, y_true_class_names=None, y_pred_class_names=None, analysis='bad'):\n",
        "  assert (analysis == 'bad' or  analysis == 'good'), \"Invalid analysis type. Please choose one of 'good', 'bad', analysis types\"\n",
        "\n",
        "  dataframe = {\"img_path\": img_file_paths,\n",
        "             \"y_true\": y_true,\n",
        "             \"y_pred\": y_pred,\n",
        "             \"pred_conf\": pred_probs.max(axis=1), # get the maximum prediction probability value\n",
        "             \"y_true_classname\": [class_names[i] for i in y_labels],\n",
        "             \"y_pred_classname\": [class_names[i] for i in pred_classes]}\n",
        "\n",
        "  pred_df = pd.DataFrame(dataframe)\n",
        "  pred_df['pred_correct'] = pred_df['y_true'] == pred_df['y_pred']\n",
        "\n",
        "  # Get Wrong predictions\n",
        "  if analysis == 'bad':\n",
        "    wrong_preds = pred_df[pred_df['pred_correct'] == False]\n",
        "    wrong_preds = wrong_preds.sort_values('pred_conf', ascending=False)[:100]  # Most wrong 100 predictions\n",
        "    return wrong_preds\n",
        "  elif analysis == 'good':\n",
        "    good_preds = pred_df[pred_df['pred_correct'] == True]\n",
        "    good_preds = good_preds.sort_values('pred_conf', ascending=False)[:100]  # Most correct 100 predictions\n",
        "    return good_preds\n",
        "\n",
        "\n",
        "# # Example Usage\n",
        "# wrong_preds = get_prediction_analysis(img_file_paths, y_true, y_pred, pred_probs, [class_names[i] for i in y_true], [class_names[i] for i in y_pred])\n",
        "# wrong_preds.head()\n",
        "#\n",
        "# # Visualize some of the most wrong predictions\n",
        "#\n",
        "# images_to_view = 16\n",
        "# start_ix = 11\n",
        "# plt.figure(figsize=(15,10))\n",
        "#\n",
        "# for i, row in enumerate(wrong_preds[start_ix:start_ix+images_to_view].itertuples()):\n",
        "#   plt.subplot(4, 4, i+1)\n",
        "#   img = load_and_prep_image(row[1], scale=True)\n",
        "#   _, _, _, _, pred_prob, y_true, y_pred, _ = row # only interested in a few parameters of each row\n",
        "#   plt.imshow(img)\n",
        "#   plt.title(f\"actual: {y_true}, pred: {y_pred} \\nprob: {pred_prob:.2f}\")\n",
        "#   plt.axis(False)"
      ],
      "metadata": {
        "id": "6AFVNZv-IMDf"
      },
      "execution_count": null,
      "outputs": []
    },
    {
      "cell_type": "markdown",
      "source": [
        " ### Parsing Image Annotation Files - PASCAL VOC (xml) format"
      ],
      "metadata": {
        "id": "ds4xr8krMQuc"
      }
    },
    {
      "cell_type": "code",
      "source": [
        "import xml.etree.ElementTree as ET\n",
        "\n",
        "def parse_annotation(xml_file, img_path, class_mapping):\n",
        "  '''\n",
        "  Reads the XML file and finds the image name and path, iterates over each\n",
        "  object in the XML file to extract the bounding box coordinates and class\n",
        "  labels for each object.\n",
        "\n",
        "  Returns:\n",
        "  - The image path\n",
        "  - List of bounding boxes (each represented as a list of four floats: xmin,\n",
        "  ymin, xmax, ymax),\n",
        "  - List of class IDs (represented as integers) corresponding to each bounding\n",
        "  box. The class IDs are obtained by mapping the class labels to integer values\n",
        "  using a dictionary called class_mapping.\n",
        "  '''\n",
        "  tree = ET.parse(xml_file)\n",
        "  root = tree.getroot()\n",
        "\n",
        "  image_name = root.find(\"filename\").text\n",
        "  image_path = os.path.join(img_path, image_name)\n",
        "\n",
        "  boxes = []\n",
        "  classes = []\n",
        "\n",
        "  for obj in root.iter(\"object\"):\n",
        "    cls = obj.find(\"name\").text\n",
        "    classes.append(cls)\n",
        "\n",
        "    bbox = obj.find(\"bndbox\")\n",
        "\n",
        "    xmin = float(bbox.find(\"xmin\").text)\n",
        "    ymin = float(bbox.find(\"ymin\").text)\n",
        "    xmax = float(bbox.find(\"xmax\").text)\n",
        "    ymax = float(bbox.find(\"ymax\").text)\n",
        "\n",
        "    boxes.append([xmin, ymin, xmax, ymax])\n",
        "\n",
        "  class_ids = [\n",
        "      list(class_mapping.keys())[list(class_mapping.values()).index(cls)]\n",
        "      for cls in classes\n",
        "  ]\n",
        "  return image_path, boxes, class_ids\n",
        "\n",
        "# # Example Usage\n",
        "# IMG_PATH = \"/content/Microcontroller Detection/train\"    # Contains img files paths\n",
        "# ANNOT_PATH = \"/content/Microcontroller Detection/train\"  # Contains xml files paths\n",
        "#\n",
        "# class_ids = [\n",
        "#     \"Arduino_Nano\",\n",
        "#     \"Heltec_ESP32_Lora\",\n",
        "#     \"ESP8266\",\n",
        "#     \"Raspberry_Pi_3\",\n",
        "# ]\n",
        "# class_mapping = dict(zip(range(len(class_ids)), class_ids))\n",
        "#\n",
        "# xml_files = get_all_files_ext(ANNOT_PATH, \"xml\")\n",
        "# xml_file = xml_files[0]\n",
        "#\n",
        "# image_path, boxes, class_ids = parse_annotation(xml_file, IMG_PATH, class_mapping)"
      ],
      "metadata": {
        "id": "hz0OqLjaMA1Z"
      },
      "execution_count": null,
      "outputs": []
    },
    {
      "cell_type": "markdown",
      "source": [
        "### Print Grid Search Results"
      ],
      "metadata": {
        "id": "JTdpt9c4g_xE"
      }
    },
    {
      "cell_type": "code",
      "source": [
        "def print_grid_search_results(search):\n",
        "  '''This methods prints Grid Search Results for given search algorithm'''\n",
        "  print(\"==== Grid Search Results ====\")\n",
        "  print(\"best_estimator: \", search.best_estimator_)\n",
        "  print(\"best_params:    \", search.best_params_)\n",
        "  print(\"best_score:      {:.3f}\".format(search.best_score_))"
      ],
      "metadata": {
        "id": "NLrujyFihCfI"
      },
      "execution_count": null,
      "outputs": []
    },
    {
      "cell_type": "markdown",
      "source": [
        "# TF Keras Callbacks"
      ],
      "metadata": {
        "id": "BhCk5FEE5GKB"
      }
    },
    {
      "cell_type": "markdown",
      "source": [
        "tf.keras.callbacks is a module in TensorFlow that provides various functions that can be used to monitor and modify the behavior of the training process of a neural network. These callbacks can be passed as a list to the fit() method of a tf.keras.Model object, allowing you to customize the training process.\n",
        "\n",
        "Some of the commonly used callbacks are:\n",
        "\n",
        "* **ModelCheckpoint**: This callback saves the model after every epoch, or only when an improvement in performance is observed. This helps you to save the best performing model and avoid overfitting. The ModelCheckpoint callback gives you the ability to save your model, as a whole in the SavedModel format or the weights (patterns) only to a specified directory as it trains. This is helpful if you think your model is going to be training for a long time and you want to make backups of it as it trains. It also means if you think your model could benefit from being trained for longer, you can reload it from a specific checkpoint and continue training from there. For example, say you fit a feature extraction transfer learning model for 5 epochs and you check the training curves and see it was still improving and you want to see if fine-tuning for another 5 epochs could help, you can load the checkpoint, unfreeze some (or all) of the base model layers and then continue training.\n",
        "\n",
        "* **EarlyStopping**: This callback stops the training process when the validation loss stops improving. This helps you to avoid overfitting and saves training time.\n",
        "\n",
        "* **TensorBoard**: This callback writes a log for TensorBoard, which can be used to visualize the model training process, including metrics like loss and accuracy, and graph visualizations of the model architecture.\n",
        "\n",
        "* **ReduceLROnPlateau**: This callback reduces the learning rate when the validation loss stops improving, which can help you to fine-tune the model.\n",
        "\n",
        "* **CSVLogger**: This callback writes the training and validation metrics to a CSV file at the end of each epoch, which can be useful for monitoring and analyzing the performance of the model.\n",
        "\n",
        "These are just a few examples of the many callbacks available in tf.keras.callbacks. You can also create your own custom callbacks by subclassing tf.keras.callbacks.Callback."
      ],
      "metadata": {
        "id": "4pSg1hWI5Kw1"
      }
    },
    {
      "cell_type": "markdown",
      "source": [
        "### Create Model Checkpoint callback"
      ],
      "metadata": {
        "id": "2Jw87a-K62xM"
      }
    },
    {
      "cell_type": "code",
      "source": [
        "import datetime\n",
        "import tensorflow as tf\n",
        "\n",
        "def create_model_checkpoint_callback(path, experiment_name, verbose=1):\n",
        "  # Get Datetime object containing current date and time\n",
        "  date = str(datetime.now())\n",
        "  date = (((date.replace(\"-\", \"_\")).replace(\":\", \"_\")).replace(\" \", \"_\")).split(\".\")[0]\n",
        "\n",
        "  checkpoint_path = path + \"/\" + experiment_name + \"/\" + date + \"/checkpoint.ckpt\"\n",
        "\n",
        "  # Create a ModelCheckpoint callback that saves the model's weights only\n",
        "  checkpoint_callback = tf.keras.callbacks.ModelCheckpoint(filepath=checkpoint_path,\n",
        "                                                         save_weights_only=True, # set to False to save the entire model\n",
        "                                                         # If disk space is an issue, saving the weights only is faster and takes up less space than saving the whole model.\n",
        "                                                         save_best_only=False,   # set to True to save only the best model instead of a model every epoch\n",
        "                                                         monitor='val_loss',     # Use \"loss\" or \"val_loss\" to monitor the model's total loss.\n",
        "                                                         save_freq='epoch',      # save every epoch\n",
        "                                                         verbose=1)\n",
        "  if verbose > 0:\n",
        "    print(f\"Model checkpoint will save to: {checkpoint_path}\")\n",
        "\n",
        "  return checkpoint_callback\n",
        "\n",
        "# # Example usage\n",
        "# model_history = model.fit(x_train, y_train, epochs=5, ...,\n",
        "#                          callbacks=[create_model_checkpoint_callback(dir_name='tensorflow_hub', experimodelB0')])\n",
        "\n",
        "# # Assigning Multiple callbacks\n",
        "# model_history = model.fit(x_train, y_train, epochs=5, ...,\n",
        "#                          callbacks=[create_model_checkpoint_callback(dir_name='tensorflow_hub', experimodelB0'),\n",
        "#                          create_tensorboard_callback(dir_name='tensorflow_hub', experimodelB0')])\n",
        "#\n",
        "# # OR\n",
        "#\n",
        "# callback_list = [create_early_stopping_callback(), create_model_checkpoint_callback(dir_name='tensorflow_hub', experimodelB0'), create_tensorboard_callback(dir_name='tensorflow_hub', experimodelB0')]\n",
        "# model_history = model.fit(x_train, y_train, epochs=5, ..., callbacks=callback_list)"
      ],
      "metadata": {
        "id": "loqr-Ovv6Tdp"
      },
      "execution_count": null,
      "outputs": []
    },
    {
      "cell_type": "markdown",
      "source": [
        "### Create TensorBoard callback"
      ],
      "metadata": {
        "id": "R9kvMgzbTZro"
      }
    },
    {
      "cell_type": "code",
      "source": [
        "import datetime\n",
        "import tensorflow as tf\n",
        "\n",
        "def create_tensorboard_callback(path, experiment_name, verbose=1):\n",
        "  '''\n",
        "  TensorBoard is a visualization tool provided with TensorFlow.\n",
        "  This callback logs events for TensorBoard, including:\n",
        "\n",
        "  * Metrics summary plots\n",
        "  * Training graph visualization\n",
        "  * Weight histograms\n",
        "  * Sampled profiling\n",
        "  '''\n",
        "  # Get Datetime object containing current date and time\n",
        "  date = str(datetime.now())\n",
        "  date = (((date.replace(\"-\", \"_\")).replace(\":\", \"_\")).replace(\" \", \"_\")).split(\".\")[0]\n",
        "  log_dir = path + \"/\" + experiment_name + \"/\" + date\n",
        "\n",
        "  tensorboard_callback = tf.keras.callbacks.TensorBoard(\n",
        "      log_dir=log_dir,\n",
        "      write_graph=True,\n",
        "      histogram_freq=0,\n",
        "      '''\n",
        "      update_freq: 'batch' or 'epoch' or integer. When using 'epoch', writes\n",
        "      the losses and metrics to TensorBoard after every epoch. If using an\n",
        "      integer, let's say 1000, all metrics and losses (including custom ones\n",
        "      added by Model.compile) will be logged to TensorBoard every 1000 batches.\n",
        "      'batch' is a synonym for 1, meaning that they will be written every batch.\n",
        "      '''\n",
        "      update_freq='epoch',\n",
        "  )\n",
        "\n",
        "  if verbose > 0:\n",
        "    print(f\"TensorBoard log files will save to: {log_dir}\")\n",
        "  return tensorboard_callback\n",
        "\n",
        "# # Example usage\n",
        "# model_history = model.fit(x_train, y_train, epochs=5, ...,\n",
        "#                          callbacks=[create_tensorboard_callback(dir_name='tensorflow_hub', experimodelB0')])\n",
        "\n",
        "# %load_ext tensorboard\n",
        "# %tensorboard --logdir=tensorflow_hub\n",
        "\n",
        "# # Assigning Multiple callbacks\n",
        "# model_history = model.fit(x_train, y_train, epochs=5, ...,\n",
        "#                          callbacks=[create_model_checkpoint_callback(dir_name='tensorflow_hub', experimodelB0'),\n",
        "#                          create_tensorboard_callback(dir_name='tensorflow_hub', experimodelB0')])\n",
        "#\n",
        "# # OR\n",
        "#\n",
        "# callback_list = [create_early_stopping_callback(), create_model_checkpoint_callback(dir_name='tensorflow_hub', experimodelB0'), create_tensorboard_callback(dir_name='tensorflow_hub', experimodelB0')]\n",
        "# model_history = model.fit(x_train, y_train, epochs=5, ..., callbacks=callback_list)"
      ],
      "metadata": {
        "id": "Aoby52fuQvEf"
      },
      "execution_count": null,
      "outputs": []
    },
    {
      "cell_type": "markdown",
      "source": [
        "### Create Early Stopping callback"
      ],
      "metadata": {
        "id": "6Auh9Kzf-FFT"
      }
    },
    {
      "cell_type": "code",
      "source": [
        "import tensorflow as tf\n",
        "\n",
        "def create_early_stopping_callback(patience=10, verbose=1):\n",
        "  # Create a EarlyStopping callback that stops the training process when the validation loss stops improving\n",
        "  early_stopping_callback = tf.keras.callbacks.EarlyStopping(monitor='val_loss',\n",
        "                                                         # min_delta: Minimum change in the monitored quantity to qualify as an improvement,\n",
        "                                                         # i.e. an absolute change of less than min_delta, will count as no improvement.\n",
        "                                                         min_delta=0.01,\n",
        "                                                         # patience: Number of epochs with no improvement after which training will be stopped.\n",
        "                                                         patience=patience,\n",
        "                                                         mode='auto'\n",
        "                                                         # restore_best_weights: Whether to restore model weights from the epoch with the best\n",
        "                                                         # value of the monitored quantity. If False, the model weights obtained at the last\n",
        "                                                         # step of training are used. An epoch will be restored regardless of the performance\n",
        "                                                         # relative to the baseline. If no epoch improves on baseline, training will run for\n",
        "                                                         # patience epochs and restore weights from the best epoch in that set.\n",
        "                                                         restore_best_weights=True,\n",
        "                                                         verbose=verbose)\n",
        "\n",
        "  return early_stopping_callback\n",
        "\n",
        "# # Example usage\n",
        "# model_history = model.fit(x_train, y_train, epochs=5, ...,\n",
        "#                          callbacks=[create_early_stopping_callback()])\n",
        "\n",
        "# # Assigning Multiple callbacks\n",
        "# model_history = model.fit(x_train, y_train, epochs=5, ...,\n",
        "#                          callbacks=[create_model_checkpoint_callback(dir_name='tensorflow_hub', experimodelB0'),\n",
        "#                          create_early_stopping_callback()])\n",
        "#\n",
        "# # OR\n",
        "#\n",
        "# callback_list = [create_early_stopping_callback(), create_model_checkpoint_callback(dir_name='tensorflow_hub', experimodelB0'), create_tensorboard_callback(dir_name='tensorflow_hub', experimodelB0')]\n",
        "# model_history = model.fit(x_train, y_train, epochs=5, ..., callbacks=callback_list)\n",
        "\n",
        "# # Alternatives\n",
        "# earlystopping = callbacks.EarlyStopping(monitor='val_loss', mode='min', patience=5, restore_best_weights=True, verbose=2)\n",
        "# earlystopping = callbacks.EarlyStopping(monitor='val_accuracy', mode='max', patience=5, restore_best_weights=True, verbose=2)"
      ],
      "metadata": {
        "id": "w1KPHbuR-DvZ"
      },
      "execution_count": null,
      "outputs": []
    },
    {
      "cell_type": "markdown",
      "source": [
        "### Normalising and Standardising\n",
        "\n",
        "Feature normalization (or data standardization) of the explanatory (or predictor) variables is a technique used to center and normalise the data by subtracting the mean and dividing by the variance. If you take the mean and variance of the whole dataset you'll be introducing future information into the training explanatory variables.\n",
        "Therefore, you should perform feature normalisation over the training data. Then perform normalisation on testing instances as well, but this time using the mean and variance of training explanatory variables. In this way, we can test and evaluate whether our model can generalize well to new, unseen data points.\n",
        "\n",
        "[[Giorgos Myrianthous](https://stackoverflow.com/users/7131757/giorgos-myrianthous)]"
      ],
      "metadata": {
        "id": "E2ZUjUMfC8Gf"
      }
    },
    {
      "cell_type": "code",
      "source": [
        "from sklearn.preprocessing import Normalizer, MinMaxScaler\n",
        "from sklearn.pipeline import Pipeline\n",
        "\n",
        "'''\n",
        "Normalize and Scale data\n",
        "Fit only the Training data, transform training, validation and test data\n",
        "'''\n",
        "\n",
        "# Configure the pipeline\n",
        "pipeline = Pipeline([('normalizer', Normalizer()),\n",
        "                     ('scaler', MinMaxScaler())])\n",
        "\n",
        "# get normalization parameters by fitting to the training data\n",
        "pipeline.fit(X_train)\n",
        "\n",
        "# transform the training and validation data with these parameters\n",
        "X_train_transformed = pipeline.transform(X_train)\n",
        "# X_validate_transformed = pipeline.transform(X_validate)"
      ],
      "metadata": {
        "id": "c9VqQ9Zo_X5l"
      },
      "execution_count": null,
      "outputs": []
    },
    {
      "cell_type": "markdown",
      "source": [
        "### Modified Z-score method (Outlier Detection Method)\n",
        "\n",
        "We could also use a modified Z-score using the **Median Absolute Deviation** to define outliers on our reconstruction data.\n",
        "We would consider points to be outliers based on how much they deviate from the mean value; However, the mean is not a robust statistic; It is heavily influenced by outliers, meaning that the outliers we are trying to detect would affect the method itself.\n",
        "\n",
        "Mi = (0.6745 * (Xi - X)) / MAD\n",
        "\n",
        "MAD (Mean Absolute Deviation) = median(|Xi - X|)\n",
        "\n",
        "X is the median of the data\n",
        "\n",
        "Xi is the data points\n",
        "\n",
        "0.6745 is the 0.75th quartile of the standard normal distribution\n",
        "\n",
        "This scaling factor is used to convert the MAD into an estimate of the standard deviation of the underlying population assuming normality.\n",
        "\n",
        "https://www.itl.nist.gov/div898/handbook/eda/section3/eda356.htm#MAD\n",
        "\n",
        "https://www.itl.nist.gov/div898/handbook/eda/section3/eda35h.htm\n",
        "\n",
        "https://medium.com/@joaopedroferrazrodrigues/outliers-make-us-go-mad-univariate-outlier-detection-b3a72f1ea8c7"
      ],
      "metadata": {
        "id": "0Nu_gEUFE_ki"
      }
    },
    {
      "cell_type": "code",
      "source": [
        "THRESHOLD = 3\n",
        "\n",
        "def mad_score(points):\n",
        "    m = np.median(points)\n",
        "    ad = np.abs(points - m)\n",
        "    mad = np.median(ad)\n",
        "    return 0.6745 * ad / mad\n",
        "\n",
        "# # Example usage - Calculate MSE (mean squared error) between ground truth and reconstructed data before employing mad_score\n",
        "# z_scores = mad_score(mse)\n",
        "# outliers = z_scores > THRESHOLD"
      ],
      "metadata": {
        "id": "Pm0yOp8ZFAaU"
      },
      "execution_count": null,
      "outputs": []
    },
    {
      "cell_type": "markdown",
      "source": [
        "### MAE (Mean Absolute Error) Loss"
      ],
      "metadata": {
        "id": "DtP7RcLVdKaL"
      }
    },
    {
      "cell_type": "code",
      "source": [
        "def mae_loss(x_true, x_pred):   # OR x_true, x_recons\n",
        "  mae_loss = np.mean(np.abs(x_pred - x_true), axis=1)\n",
        "  return mae_loss"
      ],
      "metadata": {
        "id": "uCdngyo7dPXv"
      },
      "execution_count": null,
      "outputs": []
    },
    {
      "cell_type": "markdown",
      "source": [
        "### Euclidean Distance\n",
        "\n",
        "<div>\n",
        "<img src=\"https://miro.medium.com/v2/resize:fit:1400/1*9LeaMTcOXxeTPN-VCbKloQ.png\" width=\"500\"/>\n",
        "</div>"
      ],
      "metadata": {
        "id": "dD_0ADACS2jD"
      }
    },
    {
      "cell_type": "code",
      "source": [
        "import tensorflow as tf\n",
        "\n",
        "def euclid_dis(vectors):\n",
        "  ''' Calculates Euclidean Distance between tow embeddings (vectors)\n",
        "      Euclidean Distance: sqrt(sum(square(y - x)))\n",
        "\n",
        "  Arguments:\n",
        "      vects: List containing two tensors of same length.\n",
        "  Returns:\n",
        "      Tensor containing euclidean distance between vectors.\n",
        "  '''\n",
        "  x, y = vectors\n",
        "  sum_square = tf.math.reduce_sum(tf.math.square(x - y), axis=1, keepdims=True)\n",
        "  return tf.math.sqrt(tf.math.maximum(sum_square, tf.keras.backend.epsilon()))"
      ],
      "metadata": {
        "id": "oew9ufguS56b"
      },
      "execution_count": null,
      "outputs": []
    },
    {
      "cell_type": "markdown",
      "source": [
        "### Contrastive Loss\n",
        "\n",
        "![](data:image/png;base64,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)"
      ],
      "metadata": {
        "id": "Bk-EXpYYXURd"
      }
    },
    {
      "cell_type": "code",
      "source": [
        "import tensorflow as tf\n",
        "\n",
        "def contrastive_loss(y_true, y_pred, margin=1):\n",
        "    '''Calculates the contrastive loss.\n",
        "\n",
        "    Arguments:\n",
        "        y_true: List of labels, each label is of type float32.\n",
        "        y_pred: List of predictions of same length as of y_true,\n",
        "                each label is of type float32.\n",
        "        margin: Integer, defines the baseline for distance for which pairs\n",
        "                should be classified as dissimilar. - (default is 1).\n",
        "\n",
        "    Returns:\n",
        "        A tensor containing contrastive loss as floating point value.\n",
        "    '''\n",
        "\n",
        "    square_pred = tf.math.square(y_pred)\n",
        "    margin_square = tf.math.square(tf.math.maximum(margin - (y_pred), 0))\n",
        "    return tf.math.reduce_mean((1 - y_true) * square_pred + (y_true) * margin_square)"
      ],
      "metadata": {
        "id": "vQTWXxLkXxUH"
      },
      "execution_count": null,
      "outputs": []
    },
    {
      "cell_type": "markdown",
      "source": [
        "### Contrastive Loss Function Alternative - 2"
      ],
      "metadata": {
        "id": "68CQTsh0ZCmk"
      }
    },
    {
      "cell_type": "code",
      "source": [
        "import tensorflow as tf\n",
        "import tensorflow.keras as keras\n",
        "from tensorflow.keras import backend as K\n",
        "\n",
        "def contrastive_loss(y_true, y_pred, margin=1):\n",
        "    '''Calculates the contrastive loss.\n",
        "\n",
        "    Arguments:\n",
        "        y_true: List of labels, each label is of type float32.\n",
        "        y_pred: List of predictions of same length as of y_true,\n",
        "                each label is of type float32.\n",
        "        margin: Integer, defines the baseline for distance for which pairs\n",
        "                should be classified as dissimilar. - (default is 1).\n",
        "\n",
        "    Returns:\n",
        "        A tensor containing contrastive loss as floating point value.\n",
        "    '''\n",
        "    y_true =tf.dtypes.cast(y_true, tf.float64)   # Casts a tensor to a new type.\n",
        "    y_pred =tf.dtypes.cast(y_pred, tf.float64)\n",
        "    margin = tf.dtypes.cast(margin, tf.float64)\n",
        "\n",
        "    square_pred = K.square(y_pred)    # ||F(A)-F(B)||^2\n",
        "    margin      = K.square(margin)\n",
        "\n",
        "    # Loss function Le Cunn\n",
        "    margin_square = K.square(K.maximum((margin - y_pred), 0))\n",
        "    return K.mean(y_true * square_pred + (1 - y_true) * margin_square)"
      ],
      "metadata": {
        "id": "Xqf0ofYFYtw6"
      },
      "execution_count": null,
      "outputs": []
    },
    {
      "cell_type": "markdown",
      "source": [
        "### SSIM Loss\n",
        "\n",
        "SSIM measures Structural Similarity between two images in terms of luminance, contrast, and structure. A value of 1 for SSIM indicates identical images. You want the SSIM loss function to be a minimum when training the autoencoder on good images.\n",
        "\n",
        "![](https://vicuesoft.com/glossary/ssim-ms-ssim.png)\n",
        "\n",
        "The SSIM index is a development of traditional methods such as PSNR (peak signal-to-noise ratio) and the MSE method, which turned out to be incompatible with the physiology of human perception. The difference with other techniques such as MSE or PSNR is that these approaches estimate absolute errors. Structural information is the idea that the pixels have strong inter-dependencies especially when they are spatially close. These dependencies carry important information about the structure of the objects in the visual scene.\n",
        "\n",
        "The SSIM index is calculated on various windows of an image. The above formula is applicable only for the brightness of the image, which is used to assess the quality. The resulting SSIM index ranges from -1 to +1. A value of +1 is achieved only with the complete authenticity of the samples. Typically, the metric is calculated for an 8 x 8 pixel window. The window can be displaced by a pixel, but experts recommend using groups of windows to reduce the complexity of the calculations.\n",
        "\n",
        "A more advanced form of SSIM, called **Multiscale SSIM (MS-SSIM)**, is performed at multiple scales through a multi-step downsampling process, reminiscent of multiscale processing in the early visual system. It has been shown to perform equally well or better than SSIM with various databases of subjective images and videos."
      ],
      "metadata": {
        "id": "RjkNTZE-Z9xw"
      }
    },
    {
      "cell_type": "code",
      "source": [
        "def SSIMLoss(y_true, y_pred):\n",
        "  return 1 - tf.reduce_mean(tf.image.ssim(y_true, y_pred, 1.0))\n",
        "\n",
        "# Example Usage\n",
        "# model.compile(optimizer=optimizer, loss=SSIMLoss)"
      ],
      "metadata": {
        "id": "3OYM8sAqaBYo"
      },
      "execution_count": null,
      "outputs": []
    },
    {
      "cell_type": "markdown",
      "source": [
        "### Save custom Model"
      ],
      "metadata": {
        "id": "S4IYn2sr_Yyw"
      }
    },
    {
      "cell_type": "code",
      "source": [
        "from datetime import datetime\n",
        "\n",
        "def save_custom_model(model, name=\"model\", verbose=1):\n",
        "    # Get Datetime object containing current date and time\n",
        "    date = str(datetime.now())\n",
        "    date = (((date.replace(\"-\", \"_\")).replace(\":\", \"_\")).replace(\" \", \"_\")).split(\".\")[0]\n",
        "\n",
        "    model_name = str(name) + str(date) + \".keras\"\n",
        "    model.save(model_name)\n",
        "\n",
        "    if verbose > 0:\n",
        "        print(f\"{model_name} was saved successfully\")\n",
        "\n",
        "\n",
        "# # Example Usage\n",
        "# save_custom_model(model, \"custom_model\")\n",
        "# # Loading the model back\n",
        "# loaded_model = keras.models.load_model('/path/to/custom_model_2023_08_16_06_45_05.keras')"
      ],
      "metadata": {
        "id": "mS1GjCgP_Xxx"
      },
      "execution_count": null,
      "outputs": []
    },
    {
      "cell_type": "markdown",
      "source": [
        "### TSNE Anomaly Scatter\n",
        "\n",
        "**Visualising clusters with t-SNE**\n",
        "\n",
        "t-Distributed Stochastic Neighbor Embedding (t-SNE) is a dimensionality reduction technique used for visualisations of complex datasets. It maps clusters in high-dimensional data to a two- or three dimensional plane so we can get an idea of how easy it will be to discriminate between classes. It does this by trying to keep the distance between data points in lower dimensions proportional to the probability that these data points are neighbours in the higher dimensions.\n"
      ],
      "metadata": {
        "id": "efCCI15gBMfF"
      }
    },
    {
      "cell_type": "code",
      "source": [
        "from sklearn.manifold import TSNE\n",
        "import matplotlib.pyplot as plt\n",
        "import numpy as np\n",
        "\n",
        "def tsne_anomaly_scatter(features, labels, dimensions=2, save_as='graph.png'):\n",
        "    if dimensions not in (2, 3):\n",
        "        raise ValueError('Make sure that your dimension is 2d or 3d')\n",
        "\n",
        "    # t-SNE dimensionality reduction\n",
        "    features_embedded = TSNE(n_components=dimensions, random_state=RANDOM_SEED).fit_transform(features)\n",
        "\n",
        "    # initialising the plot\n",
        "    fig, ax = plt.subplots(figsize=(8,8))\n",
        "\n",
        "    # counting dimensions\n",
        "    if dimensions == 3: ax = fig.add_subplot(111, projection='3d')\n",
        "\n",
        "    # Scattering map for Anomaly samples\n",
        "    ax.scatter(\n",
        "        *zip(*features_embedded[np.where(labels==1)]),\n",
        "        marker='o',\n",
        "        color='r',\n",
        "        s=2,\n",
        "        alpha=0.7,\n",
        "        label='Fraud'\n",
        "    )\n",
        "\n",
        "    # Scattering map for Normal samples\n",
        "    ax.scatter(\n",
        "        *zip(*features_embedded[np.where(labels==0)]),\n",
        "        marker='o',\n",
        "        color='g',\n",
        "        s=2,\n",
        "        alpha=0.3,\n",
        "        label='Clean'\n",
        "    )\n",
        "\n",
        "    # storing it to be displayed later\n",
        "    plt.legend(loc='best')\n",
        "    plt.savefig(save_as)\n",
        "    plt.show()\n",
        "\n",
        "# Example Usage\n",
        "# tsne_scatter(features, labels, dimensions=2, save_as='tsne_2d.png')"
      ],
      "metadata": {
        "id": "47GMPMx1_XvL"
      },
      "execution_count": null,
      "outputs": []
    },
    {
      "cell_type": "markdown",
      "source": [
        "### Visualize Triplet Images from the batches"
      ],
      "metadata": {
        "id": "veUrh52-eP_2"
      }
    },
    {
      "cell_type": "code",
      "source": [
        "def show_triplet_images(anchor, positive, negative, size=(10,10), row=3):\n",
        "  '''Visualize triplets from the batches'''\n",
        "  def plot_img(ax, image):\n",
        "    ax.imshow(image)\n",
        "    ax.get_xaxis().set_visible(False)\n",
        "    ax.get_yaxis().set_visible(False)\n",
        "\n",
        "  fig = plt.figure(figsize=size)\n",
        "\n",
        "  axs = fig.subplots(row, 3)\n",
        "  for i in range(row):\n",
        "    plot_img(axs[i, 0], anchor[i])\n",
        "    plot_img(axs[i, 1], positive[i])\n",
        "    plot_img(axs[i, 2], negative[i])"
      ],
      "metadata": {
        "id": "Y0lbj6vHeUtf"
      },
      "execution_count": null,
      "outputs": []
    },
    {
      "cell_type": "markdown",
      "source": [
        "### Print Classification Report - Classification Evaluation Method"
      ],
      "metadata": {
        "id": "6mmzQ6fxgHK_"
      }
    },
    {
      "cell_type": "code",
      "source": [
        "from sklearn.metrics import accuracy_score, recall_score, precision_score, f1_score # Evaluation metrics\n",
        "from sklearn.metrics import classification_report  # Precision, recall, f1-score metrics\n",
        "\n",
        "def print_eval_parameters(model, y_test, y_pred, labels):\n",
        "  '''This methods prints all evaluation parameters for classification models'''\n",
        "  print(\"====== \" + type(model).__name__ +\" model Evaluation metrics ======\")\n",
        "  print(\"Accuracy of model:      {:.3f}\".format(accuracy_score(y_test, y_pred)))                    # Accuracy score: (tp + tn) / (tp + fp + tn + fn)\n",
        "  print(\"Recall of model:        {:.3f}\".format(recall_score(y_test, y_pred, average=\"micro\")))     # Recall score: tp / (tp + fn)\n",
        "  print(\"Precision of model:     {:.3f}\".format(precision_score(y_test, y_pred, average=\"micro\")))  # Precision score: tp / (tp + fp)\n",
        "  print(\"F1 score of model:      {:.3f}\".format(f1_score(y_test, y_pred, average=\"micro\")))         # F1 score: 2 * (precision * recall) / (precision + recall)\n",
        "  # print(\"Mean accuracy of the model (Score):  {:.3f}\".format(model.score(X_train_valid_scl, y_train_valid)))  # Print model Mean Accuracy (score)\n",
        "  print(\"Misclassification Number: \", (y_test != y_pred).sum())\n",
        "  print(\"\\n====== \" + type(model).__name__ +\" model Detailed Classification Report ======\")\n",
        "  # Print K Nearest Neighbor model's classification report for validation set\n",
        "  # Report contains; Precision, recal and F1 score values for each label and\n",
        "  # model's accuracy, macro and weighted average\n",
        "  print(classification_report(y_test, y_pred, target_names=labels))"
      ],
      "metadata": {
        "id": "vyTyqAtTgUIQ"
      },
      "execution_count": null,
      "outputs": []
    },
    {
      "cell_type": "markdown",
      "source": [
        "### Plot Accuracy and Loss Curves from Model History - Training and Validation"
      ],
      "metadata": {
        "id": "XH4OlLNFGFf8"
      }
    },
    {
      "cell_type": "code",
      "source": [
        "import matplotlib.pyplot as plt\n",
        "import pandas as pd\n",
        "\n",
        "# Plot the validation and training data separately\n",
        "def plot_loss_curves(history, all_in_one=False):\n",
        "  \"\"\"\n",
        "  Returns separate loss curves for training and validation metrics.\n",
        "  \"\"\"\n",
        "  # <AxesSubplot:>\n",
        "  if all_in_one == True:  # Plots 'loss', 'accuracy', 'val_loss', 'val_accuracy' in the same graph\n",
        "    pd.DataFrame(cnn_model_history.history).plot(figsize=(10, 7))\n",
        "  else:\n",
        "    loss = history.history['loss']\n",
        "    val_loss = history.history['val_loss']\n",
        "\n",
        "    accuracy = history.history['accuracy']\n",
        "    val_accuracy = history.history['val_accuracy']\n",
        "\n",
        "    epochs = range(len(history.history['loss']))\n",
        "\n",
        "    # Plot loss\n",
        "    plt.plot(epochs, loss, label='training_loss')\n",
        "    plt.plot(epochs, val_loss, label='val_loss')\n",
        "    plt.title('Loss')\n",
        "    plt.xlabel('Epochs')\n",
        "    plt.legend()\n",
        "\n",
        "    # Plot accuracy\n",
        "    plt.figure()\n",
        "    plt.plot(epochs, accuracy, label='training_accuracy')\n",
        "    plt.plot(epochs, val_accuracy, label='val_accuracy')\n",
        "    plt.title('Accuracy')\n",
        "    plt.xlabel('Epochs')\n",
        "    plt.legend();\n",
        "\n",
        "# Example Usage - Train a model: model_hist = model.fit(x_train, y_train, epochs=...)\n",
        "# plot_loss_curves(model_history)"
      ],
      "metadata": {
        "id": "xitaOiZJ_Xsj"
      },
      "execution_count": null,
      "outputs": []
    },
    {
      "cell_type": "markdown",
      "source": [
        "### Model History Comparison (especially after Fine-tuning processes)"
      ],
      "metadata": {
        "id": "bpJTmTWDVZiK"
      }
    },
    {
      "cell_type": "code",
      "source": [
        "def compare_historys(base_model_history, fine_tune_model_history, initial_epochs=5):\n",
        "    \"\"\"\n",
        "    Compares two model history objects.\n",
        "    \"\"\"\n",
        "    # Get base_model history measurements\n",
        "    acc = base_model_history.history[\"accuracy\"]\n",
        "    loss = base_model_history.history[\"loss\"]\n",
        "\n",
        "    print(len(acc))\n",
        "\n",
        "    val_acc = base_model_history.history[\"val_accuracy\"]\n",
        "    val_loss = base_model_history.history[\"val_loss\"]\n",
        "\n",
        "    # Combine base_model history with fine_tune_model_history\n",
        "    total_acc = acc + fine_tune_model_history.history[\"accuracy\"]\n",
        "    total_loss = loss + fine_tune_model_history.history[\"loss\"]\n",
        "\n",
        "    total_val_acc = val_acc + fine_tune_model_history.history[\"val_accuracy\"]\n",
        "    total_val_loss = val_loss + fine_tune_model_history.history[\"val_loss\"]\n",
        "\n",
        "    print(len(total_acc))\n",
        "    print(total_acc)\n",
        "\n",
        "    # Make plots\n",
        "    plt.figure(figsize=(8, 8))\n",
        "    plt.subplot(2, 1, 1)\n",
        "    plt.plot(total_acc, label='Training Accuracy')\n",
        "    plt.plot(total_val_acc, label='Validation Accuracy')\n",
        "    plt.plot([initial_epochs-1, initial_epochs-1],\n",
        "              plt.ylim(), label='Start Fine Tuning') # reshift plot around epochs\n",
        "    plt.legend(loc='lower right')\n",
        "    plt.title('Training and Validation Accuracy')\n",
        "\n",
        "    plt.subplot(2, 1, 2)\n",
        "    plt.plot(total_loss, label='Training Loss')\n",
        "    plt.plot(total_val_loss, label='Validation Loss')\n",
        "    plt.plot([initial_epochs-1, initial_epochs-1],\n",
        "              plt.ylim(), label='Start Fine Tuning') # reshift plot around epochs\n",
        "    plt.legend(loc='upper right')\n",
        "    plt.title('Training and Validation Loss')\n",
        "    plt.xlabel('epoch')\n",
        "    plt.show()"
      ],
      "metadata": {
        "id": "lgKWKWQvVY0z"
      },
      "execution_count": null,
      "outputs": []
    },
    {
      "cell_type": "markdown",
      "source": [
        "### Show Confusion Matrix - Classification Evaluation Method"
      ],
      "metadata": {
        "id": "19epFzlZYTGJ"
      }
    },
    {
      "cell_type": "code",
      "source": [
        "import itertools\n",
        "import matplotlib.pyplot as plt\n",
        "import numpy as np\n",
        "from sklearn.metrics import confusion_matrix\n",
        "\n",
        "def show_confusion_matrix(y_true, y_pred, classes=None, figsize=(10, 10), text_size=15, norm=False, savefig=False, fig_name='confusion_matrix'):\n",
        "  \"\"\"Makes a labelled confusion matrix comparing predictions and ground truth labels.\n",
        "\n",
        "  If classes is passed, confusion matrix will be labelled, if not, integer class values\n",
        "  will be used.\n",
        "\n",
        "  Args:\n",
        "    y_true: Array of truth labels (must be same shape as y_pred).\n",
        "    y_pred: Array of predicted labels (must be same shape as y_true).\n",
        "    classes: Array of class labels (e.g. string form). If `None`, integer labels are used.\n",
        "    figsize: Size of output figure (default=(10, 10)).\n",
        "    text_size: Size of output figure text (default=15).\n",
        "    norm: normalize values or not (default=False).\n",
        "    savefig: save confusion matrix to file (default=False).\n",
        "\n",
        "  Returns:\n",
        "    A labelled confusion matrix plot comparing y_true and y_pred.\n",
        "\n",
        "  Example usage:\n",
        "    make_confusion_matrix(y_true=test_labels, # ground truth test labels\n",
        "                          y_pred=y_preds, # predicted labels\n",
        "                          classes=class_names, # array of class label names\n",
        "                          figsize=(15, 15),\n",
        "                          text_size=10)\n",
        "  \"\"\"\n",
        "  # Create the confustion matrix\n",
        "  cm = confusion_matrix(y_true, y_pred)\n",
        "  cm_norm = cm.astype(\"float\") / cm.sum(axis=1)[:, np.newaxis] # normalize it\n",
        "  '''\n",
        "  >> A = np.array([2,0,1,8])\n",
        "  >> A.shape\n",
        "  Output: (4,)\n",
        "\n",
        "  >> A[np.newaxis, :]\n",
        "  Output: array([[2,0,1,8]])\n",
        "\n",
        "  >> A[:, np.newaxis]\n",
        "  Output: array([[2],\n",
        "                 [0],\n",
        "                 [1],\n",
        "                 [8]]\n",
        "  )\n",
        "  '''\n",
        "  n_classes = cm.shape[0] # find the number of classes we're dealing with\n",
        "\n",
        "  # Plot the figure and make it pretty\n",
        "  fig, ax = plt.subplots(figsize=figsize)\n",
        "  cax = ax.matshow(cm, cmap=plt.cm.Blues) # colors will represent how 'correct' a class is, darker == better\n",
        "  fig.colorbar(cax)\n",
        "\n",
        "  # Are there a list of classes?\n",
        "  if classes:\n",
        "    labels = classes\n",
        "  else:\n",
        "    labels = np.arange(cm.shape[0])\n",
        "\n",
        "  # Label the axes\n",
        "  ax.set(title=\"Confusion Matrix\",\n",
        "         xlabel=\"Predicted label\",\n",
        "         ylabel=\"True label\",\n",
        "         xticks=np.arange(n_classes), # create enough axis slots for each class\n",
        "         yticks=np.arange(n_classes),\n",
        "         xticklabels=labels, # axes will labeled with class names (if they exist) or ints\n",
        "         yticklabels=labels)\n",
        "\n",
        "  # Make x-axis labels appear on bottom\n",
        "  ax.xaxis.set_label_position(\"bottom\")\n",
        "  ax.xaxis.tick_bottom()\n",
        "\n",
        "  # Added: Rotate xticks for readability & increase font size (required due to such a large confusion matrix)\n",
        "  plt.xticks(rotation=70, fontsize=text_size)\n",
        "  plt.yticks(fontsize=text_size)\n",
        "\n",
        "  # Set the threshold for different colors\n",
        "  threshold = (cm.max() + cm.min()) / 2.\n",
        "\n",
        "  # Plot the text on each cell\n",
        "  for i, j in itertools.product(range(cm.shape[0]), range(cm.shape[1])):\n",
        "    if norm:\n",
        "      plt.text(j, i, f\"{cm[i, j]} ({cm_norm[i, j]*100:.1f}%)\",\n",
        "              horizontalalignment=\"center\",\n",
        "              color=\"white\" if cm[i, j] > threshold else \"black\",\n",
        "              size=text_size)\n",
        "    else:\n",
        "      plt.text(j, i, f\"{cm[i, j]}\",\n",
        "              horizontalalignment=\"center\",\n",
        "              color=\"white\" if cm[i, j] > threshold else \"black\",\n",
        "              size=text_size)\n",
        "\n",
        "  # Save the figure to the current working directory\n",
        "  if savefig:\n",
        "    fig_name = fig_name + '.png'\n",
        "    fig.savefig(fig_name)"
      ],
      "metadata": {
        "id": "y_tialHyXswB"
      },
      "execution_count": null,
      "outputs": []
    },
    {
      "cell_type": "markdown",
      "source": [
        "Show Confusion Matrix - Classification Evaluation Method (Alternative - 2)"
      ],
      "metadata": {
        "id": "tuFPPuTIhRlt"
      }
    },
    {
      "cell_type": "code",
      "source": [
        "from sklearn.metrics import confusion_matrix, ConfusionMatrixDisplay  # Classifier Confusion Matrix visualization\n",
        "import matplotlib.pyplot as plt\n",
        "\n",
        "def show_confusion_matrix(y_test, y_pred, labels, w_h=(12, 7)):\n",
        "  '''This method plots Confusion matrix for classification models with given test dataset and prediction result array'''\n",
        "  confMatrix = confusion_matrix(y_test, y_pred)\n",
        "  dispConfMatrix = ConfusionMatrixDisplay(confMatrix, display_labels=labels)\n",
        "  dispConfMatrix.plot()\n",
        "  fig = plt.gcf()\n",
        "  w, h = w_h\n",
        "  fig.set_size_inches(w, h)"
      ],
      "metadata": {
        "id": "_gFQd9ZThUiM"
      },
      "execution_count": null,
      "outputs": []
    },
    {
      "cell_type": "markdown",
      "source": [
        "### Plot Randomly Image Predictions"
      ],
      "metadata": {
        "id": "uHKTVAbRkVYL"
      }
    },
    {
      "cell_type": "code",
      "source": [
        "import matplotlib.pyplot as plt\n",
        "\n",
        "def plot_randomly_img_predictions(img_arr, y_test, y_pred, labels, num_item=2, fig_size=[20,10]):\n",
        "  plt.figure(figsize=fig_size)\n",
        "  for img in range(num_item):\n",
        "      ix = rnd.randint(0, len(img_arr)-1)\n",
        "      display = plt.subplot(1, num_item, img+1)\n",
        "\n",
        "  plt.imshow(img_arr[ix], cmap=\"gray\")\n",
        "  act  = \"Act: \" + str(labels[(int(y_test[ix]))])\n",
        "  pred = \"Pred: \" + str(labels[(int(y_pred[ix]))])\n",
        "\n",
        "  plt.yticks([])\n",
        "  plt.title(act)\n",
        "  plt.ylabel(pred)\n",
        "\n",
        "  display.get_xaxis().set_visible(False)\n",
        "  #display.get_yaxis().set_visible(False)\n",
        "\n",
        "  plt.show()"
      ],
      "metadata": {
        "id": "uapDhwmykM-E"
      },
      "execution_count": null,
      "outputs": []
    },
    {
      "cell_type": "markdown",
      "source": [
        "### Show ROC Curve - Calculate AUC score"
      ],
      "metadata": {
        "id": "JlPa91J3hwOE"
      }
    },
    {
      "cell_type": "code",
      "source": [
        "from sklearn.metrics import roc_auc_score\n",
        "from sklearn.metrics import roc_curve\n",
        "from sklearn.metrics import auc\n",
        "from sklearn.metrics import precision_recall_curve\n",
        "\n",
        "def show_ROC_score(self, y_test, pos_prob, kind='fp_tp', plot=False, label='Custom Classifier'):\n",
        "  if kind == 'fp_tp':   # False Positive-True Positive Curve\n",
        "    auc_score = roc_auc_score(y_test, pos_prob)\n",
        "    fp_rate, tp_rate, thresholds = roc_curve(y_test, pos_prob)\n",
        "    plt_x, plt_y, lbl_x, lbl_y = fp_rate, tp_rate, \"False Positive Rate (FP)\", \"True Positive Rate (TP)\"\n",
        "    # Generate a no skill prediction\n",
        "    noskill_probs = [0 for _ in range(len(y_test))]\n",
        "    ns_auc_score = roc_auc_score(y_test, noskill_probs)\n",
        "    noskill_fp_rate, noskill_tp_rate, noskill_thresholds = roc_curve(y_test, noskill_probs)\n",
        "\n",
        "  elif kind == 'pre_rec':   # Precision-Recall Curve\n",
        "    precision, recall, thresholds = precision_recall_curve(y_test, pos_prob)\n",
        "    auc_score = auc(recall, precision)\n",
        "    plt_x, plt_y, lbl_x, lbl_y = recall, precision, \"Recall\", \"Precision\"\n",
        "  else:\n",
        "    raise ValueError(\"Use 'fp_tp' or 'pre_rec' as kind parameter\")\n",
        "\n",
        "  print(\"AUC: \", auc_score)\n",
        "  if kind == 'fp_tp':\n",
        "    print(\"No-skill AUC: \", ns_auc_score)\n",
        "  print(\"\")\n",
        "\n",
        "  if plot == True:\n",
        "    plt.title(\"ROC Curve\")\n",
        "    plt.plot(plt_x, plt_y, marker='.', label=label)\n",
        "    if kind == 'fp_tp':\n",
        "      plt.plot(noskill_fp_rate, noskill_tp_rate, linestyle='--', label='No Skill Classifer')\n",
        "    plt.xlabel(lbl_x)\n",
        "    plt.ylabel(lbl_y)\n",
        "    plt.legend()\n",
        "    plt.show()"
      ],
      "metadata": {
        "id": "F4S78JGXhv2-"
      },
      "execution_count": null,
      "outputs": []
    },
    {
      "cell_type": "markdown",
      "source": [
        "### Visualize Models"
      ],
      "metadata": {
        "id": "ejcYQ5OKOM5z"
      }
    },
    {
      "cell_type": "markdown",
      "source": [
        "Block-wise model architecture visualization for Convolutional Networks"
      ],
      "metadata": {
        "id": "EioQQ6ZbPZds"
      }
    },
    {
      "cell_type": "code",
      "source": [
        "!pip install visualkeras  # Install visualkeras package if requirements are not satisfied\n",
        "\n",
        "import visualkeras\n",
        "\n",
        "visualkeras.layered_view(model\n",
        "                         ,legend=True\n",
        "                         #,draw_volume=False\n",
        "                         #,spacing=30\n",
        "                         )"
      ],
      "metadata": {
        "id": "f9qJDjvIGiT3"
      },
      "execution_count": null,
      "outputs": []
    },
    {
      "cell_type": "markdown",
      "source": [
        "Flow chart based model architecture drawing"
      ],
      "metadata": {
        "id": "pgvGs8KmPTyk"
      }
    },
    {
      "cell_type": "code",
      "source": [
        "from keras.utils.vis_utils import plot_model\n",
        "\n",
        "plot_model(model,\n",
        "           to_file='model_plot.png',\n",
        "           show_shapes=True,\n",
        "           rankdir='LR'  # 'BT': Bottom to Top, 'TB': Top to Bottom, 'RL': Right to Left, 'LR': Left to Right\n",
        "           show_layer_names=True)"
      ],
      "metadata": {
        "id": "bjo3a_ZMOvtl"
      },
      "execution_count": null,
      "outputs": []
    },
    {
      "cell_type": "markdown",
      "source": [
        "### Reference\n",
        "\n",
        "https://github.com/keras-team\n",
        "\n",
        "https://github.com/mrdbourke/tensorflow-deep-learning/tree/main\n",
        "\n",
        "https://www.kaggle.com/code/robinteuwens/anomaly-detection-with-auto-encoders#Unsupervised-Learning-with-Auto-Encoders\n",
        "\n",
        "https://pyimagesearch.com/2020/03/02/anomaly-detection-with-keras-tensorflow-and-deep-learning/\n",
        "\n",
        "https://www.kaggle.com/code/matheusfacure/semi-supervised-anomaly-detection-survey\n",
        "\n",
        "https://medium.com/analytics-vidhya/image-anomaly-detection-using-autoencoders-ae937c7fd2d1\n",
        "\n",
        "https://lilianweng.github.io/posts/2018-08-12-vae/"
      ],
      "metadata": {
        "id": "q-TZ6NQvSAMm"
      }
    }
  ]
}