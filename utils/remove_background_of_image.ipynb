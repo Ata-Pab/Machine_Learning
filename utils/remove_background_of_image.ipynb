{
  "cells": [
    {
      "cell_type": "markdown",
      "metadata": {
        "id": "Tn1I1DRTEuKk"
      },
      "source": [
        "Original Paper: [U2-Net: Going Deeper with Nested U-Structure for Salient Object Detection](https://arxiv.org/pdf/2005.09007.pdf)\n",
        "\n",
        "Source: https://github.com/danielgatis/rembg"
      ]
    },
    {
      "cell_type": "code",
      "execution_count": 1,
      "metadata": {
        "id": "8L8IuQTXCBZQ"
      },
      "outputs": [],
      "source": [
        "import cv2\n",
        "import numpy as np\n",
        "import matplotlib.pyplot as plt\n",
        "from PIL import Image\n",
        "import tensorflow as tf\n",
        "from google.colab.patches import cv2_imshow"
      ]
    },
    {
      "cell_type": "code",
      "execution_count": null,
      "metadata": {
        "id": "Y7qP0Jb9CSYj"
      },
      "outputs": [],
      "source": [
        "!pip install rembg[gpu]"
      ]
    },
    {
      "cell_type": "code",
      "execution_count": 3,
      "metadata": {
        "id": "X_vps2jVCUlr"
      },
      "outputs": [],
      "source": [
        "from rembg import remove"
      ]
    },
    {
      "cell_type": "code",
      "execution_count": 14,
      "metadata": {
        "id": "jBS9ggaICQQJ"
      },
      "outputs": [],
      "source": [
        "# Processing the image\n",
        "input = cv2.imread('/content/drive/MyDrive/MASTER/Master_Thesis/Dataset/BD67_Dataset/defect_free/Front/IMG_9110.JPG')\n",
        "input = cv2.cvtColor(input, cv2.COLOR_BGR2RGB)\n",
        "\n",
        "# Removing the background from the given Image\n",
        "output_img = remove(input)"
      ]
    },
    {
      "cell_type": "code",
      "execution_count": null,
      "metadata": {
        "id": "hZ047gsWF_eM"
      },
      "outputs": [],
      "source": [
        "plt.imshow(output_img[:,:,:3])"
      ]
    },
    {
      "cell_type": "code",
      "source": [
        "# Load the segmented image\n",
        "#image = cv2.imread('/content/output/img.png', cv2.IMREAD_GRAYSCALE)\n",
        "output_img_gray = tf.image.rgb_to_grayscale(output_img[:,:,:3])\n",
        "output_img_gray = np.squeeze(output_img_gray)\n",
        "\n",
        "# Find the coordinates of the non black pixels\n",
        "nonzero_pixels = np.argwhere(output_img_gray > 0)"
      ],
      "metadata": {
        "id": "Y8_Hm8rCUH9V"
      },
      "execution_count": 16,
      "outputs": []
    },
    {
      "cell_type": "code",
      "source": [
        "# Get the bounding box for the image\n",
        "y_min, x_min = np.min(nonzero_pixels, axis=0)\n",
        "y_max, x_max = np.max(nonzero_pixels, axis=0)\n",
        "\n",
        "print(f\"(x1, y1): ({x_min}, {y_min})\")\n",
        "print(f\"(x2, y2): ({x_max}, {y_max})\")"
      ],
      "metadata": {
        "colab": {
          "base_uri": "https://localhost:8080/"
        },
        "id": "g9nbsVr6UU3X",
        "outputId": "98c161ef-d317-478a-d272-d99e785ccc0a"
      },
      "execution_count": 17,
      "outputs": [
        {
          "output_type": "stream",
          "name": "stdout",
          "text": [
            "(x1, y1): (603, 800)\n",
            "(x2, y2): (3708, 3461)\n"
          ]
        }
      ]
    },
    {
      "cell_type": "code",
      "source": [
        "# Crop the masked region from the original image\n",
        "cropped_img = output_img[y_min:y_max+1, x_min:x_max+1]\n",
        "\n",
        "# Save or display the cropped PCB image\n",
        "cv2.imwrite('1.png', cropped_img)\n",
        "cv2_imshow(cropped_img)"
      ],
      "metadata": {
        "id": "ZdbZcAxpUMDZ"
      },
      "execution_count": null,
      "outputs": []
    },
    {
      "cell_type": "code",
      "source": [
        "def remove_background_img(img_dir, show=False, save=True, save_name=\"img\"):\n",
        "  # Processing the image\n",
        "  input = cv2.imread(img_dir)\n",
        "  input = cv2.cvtColor(input, cv2.COLOR_BGR2RGB)\n",
        "\n",
        "  # Removing the background from the given Image\n",
        "  output_img = remove(input)\n",
        "\n",
        "  # Load the segmented image\n",
        "  output_img_gray = tf.image.rgb_to_grayscale(output_img[:,:,:3])\n",
        "  output_img_gray = np.squeeze(output_img_gray)\n",
        "\n",
        "  # Find the coordinates of the non black pixels\n",
        "  nonzero_pixels = np.argwhere(output_img_gray > 0)\n",
        "\n",
        "  # Get the bounding box for the image\n",
        "  y_min, x_min = np.min(nonzero_pixels, axis=0)\n",
        "  y_max, x_max = np.max(nonzero_pixels, axis=0)\n",
        "\n",
        "  # Crop the masked region from the original image\n",
        "  cropped_img = output_img[y_min:y_max+1, x_min:x_max+1]\n",
        "  cropped_img = cv2.cvtColor(cropped_img, cv2.COLOR_BGR2RGB)\n",
        "\n",
        "  # Save or display the cropped PCB image\n",
        "  if save:\n",
        "    save_name = str(save_name) + \".png\"\n",
        "    cv2.imwrite(save_name, cropped_img)\n",
        "  if show:\n",
        "    cv2_imshow(cropped_img)"
      ],
      "metadata": {
        "id": "bd7zk_cNaAAV"
      },
      "execution_count": 22,
      "outputs": []
    },
    {
      "cell_type": "code",
      "source": [
        "remove_background_img('/content/../../../img.JPG', show=True, save_name='img_cropped')"
      ],
      "metadata": {
        "id": "vJk3e4qFbKT1"
      },
      "execution_count": null,
      "outputs": []
    }
  ],
  "metadata": {
    "colab": {
      "provenance": [],
      "gpuType": "T4"
    },
    "kernelspec": {
      "display_name": "Python 3",
      "name": "python3"
    },
    "language_info": {
      "name": "python"
    },
    "accelerator": "GPU"
  },
  "nbformat": 4,
  "nbformat_minor": 0
}