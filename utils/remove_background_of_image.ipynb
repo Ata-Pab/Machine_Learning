{
  "cells": [
    {
      "cell_type": "markdown",
      "metadata": {
        "id": "Tn1I1DRTEuKk"
      },
      "source": [
        "Original Paper: [U2-Net: Going Deeper with Nested U-Structure for Salient Object Detection](https://arxiv.org/pdf/2005.09007.pdf)\n",
        "\n",
        "Source: https://github.com/danielgatis/rembg"
      ]
    },
    {
      "cell_type": "code",
      "execution_count": null,
      "metadata": {
        "id": "8L8IuQTXCBZQ"
      },
      "outputs": [],
      "source": [
        "import cv2\n",
        "import numpy as np\n",
        "import matplotlib.pyplot as plt\n",
        "from PIL import Image\n",
        "import tensorflow as tf\n",
        "from google.colab.patches import cv2_imshow"
      ]
    },
    {
      "cell_type": "code",
      "execution_count": null,
      "metadata": {
        "id": "Y7qP0Jb9CSYj"
      },
      "outputs": [],
      "source": [
        "!pip install rembg[gpu]"
      ]
    },
    {
      "cell_type": "code",
      "execution_count": null,
      "metadata": {
        "id": "X_vps2jVCUlr"
      },
      "outputs": [],
      "source": [
        "from rembg import remove"
      ]
    },
    {
      "cell_type": "code",
      "execution_count": null,
      "metadata": {
        "id": "jBS9ggaICQQJ"
      },
      "outputs": [],
      "source": [
        "# Processing the image\n",
        "input = cv2.imread('/content/.../.../....JPG')\n",
        "input = cv2.cvtColor(input, cv2.COLOR_BGR2RGB)\n",
        "\n",
        "# Removing the background from the given Image\n",
        "output_img = remove(input)"
      ]
    },
    {
      "cell_type": "code",
      "execution_count": null,
      "metadata": {
        "id": "hZ047gsWF_eM"
      },
      "outputs": [],
      "source": [
        "plt.imshow(output_img[:,:,:3])"
      ]
    },
    {
      "cell_type": "code",
      "execution_count": null,
      "metadata": {
        "id": "Y8_Hm8rCUH9V"
      },
      "outputs": [],
      "source": [
        "# Load the segmented image\n",
        "#image = cv2.imread('/content/output/img.png', cv2.IMREAD_GRAYSCALE)\n",
        "output_img_gray = tf.image.rgb_to_grayscale(output_img[:,:,:3])\n",
        "output_img_gray = np.squeeze(output_img_gray)\n",
        "\n",
        "# Find the coordinates of the non black pixels\n",
        "nonzero_pixels = np.argwhere(output_img_gray > 0)"
      ]
    },
    {
      "cell_type": "code",
      "execution_count": null,
      "metadata": {
        "colab": {
          "base_uri": "https://localhost:8080/"
        },
        "id": "g9nbsVr6UU3X",
        "outputId": "98c161ef-d317-478a-d272-d99e785ccc0a"
      },
      "outputs": [
        {
          "name": "stdout",
          "output_type": "stream",
          "text": [
            "(x1, y1): (603, 800)\n",
            "(x2, y2): (3708, 3461)\n"
          ]
        }
      ],
      "source": [
        "# Get the bounding box for the image\n",
        "y_min, x_min = np.min(nonzero_pixels, axis=0)\n",
        "y_max, x_max = np.max(nonzero_pixels, axis=0)\n",
        "\n",
        "print(f\"(x1, y1): ({x_min}, {y_min})\")\n",
        "print(f\"(x2, y2): ({x_max}, {y_max})\")"
      ]
    },
    {
      "cell_type": "code",
      "execution_count": null,
      "metadata": {
        "id": "ZdbZcAxpUMDZ"
      },
      "outputs": [],
      "source": [
        "# Crop the masked region from the original image\n",
        "cropped_img = output_img[y_min:y_max+1, x_min:x_max+1]\n",
        "\n",
        "# Save or display the cropped PCB image\n",
        "cv2.imwrite('1.png', cropped_img)\n",
        "cv2_imshow(cropped_img)"
      ]
    },
    {
      "cell_type": "code",
      "execution_count": null,
      "metadata": {
        "id": "bd7zk_cNaAAV"
      },
      "outputs": [],
      "source": [
        "def remove_background_img(img_dir, show=False, resize_shape=None, save=True, save_name=\"img\"):\n",
        "  # Processing the image\n",
        "  input = cv2.imread(img_dir)\n",
        "  input = cv2.cvtColor(input, cv2.COLOR_BGR2RGB)\n",
        "\n",
        "  # Removing the background from the given Image\n",
        "  output_img = remove(input)\n",
        "\n",
        "  # Load the segmented image\n",
        "  output_img_gray = tf.image.rgb_to_grayscale(output_img[:,:,:3])\n",
        "  output_img_gray = np.squeeze(output_img_gray)\n",
        "\n",
        "  # Find the coordinates of the non black pixels\n",
        "  nonzero_pixels = np.argwhere(output_img_gray > 0)\n",
        "\n",
        "  # Get the bounding box for the image\n",
        "  y_min, x_min = np.min(nonzero_pixels, axis=0)\n",
        "  y_max, x_max = np.max(nonzero_pixels, axis=0)\n",
        "\n",
        "  # Crop the masked region from the original image\n",
        "  cropped_img = output_img[y_min:y_max+1, x_min:x_max+1]\n",
        "  cropped_img = cv2.cvtColor(cropped_img, cv2.COLOR_BGR2RGB)\n",
        "\n",
        "  if resize_shape != None:\n",
        "    cropped_img = (tf.image.resize(cropped_img, resize_shape)).numpy()\n",
        "\n",
        "  # Save or display the cropped PCB image\n",
        "  if save:\n",
        "    save_name = str(save_name) + \".png\"\n",
        "    cv2.imwrite(save_name, cropped_img)\n",
        "  if show:\n",
        "    cv2_imshow(cropped_img)"
      ]
    },
    {
      "cell_type": "code",
      "execution_count": null,
      "metadata": {
        "id": "vJk3e4qFbKT1"
      },
      "outputs": [],
      "source": [
        "# remove_background_img('/content/../../../img.JPG', show=True, save_name='img_cropped')"
      ]
    },
    {
      "cell_type": "code",
      "execution_count": null,
      "metadata": {
        "id": "9nFdIObvdDju"
      },
      "outputs": [],
      "source": [
        "import glob\n",
        "\n",
        "def get_image_file_list(dir, ext):\n",
        "    formats = ['jpg', 'png', 'jpeg', 'JPG', 'JPEG', 'PNG']\n",
        "    img_list = []\n",
        "\n",
        "    if ext in formats:\n",
        "        rgx_for_img = dir + \"/*.\" + ext\n",
        "        img_list = glob.glob(rgx_for_img)\n",
        "\n",
        "    return img_list"
      ]
    },
    {
      "cell_type": "code",
      "execution_count": null,
      "metadata": {
        "id": "NvBvXPVkcwh7"
      },
      "outputs": [],
      "source": [
        "img_files = get_image_file_list(IMG_DIR, 'JPG')"
      ]
    },
    {
      "cell_type": "code",
      "execution_count": null,
      "metadata": {
        "colab": {
          "base_uri": "https://localhost:8080/"
        },
        "id": "V4HCHbrxdRib",
        "outputId": "cf316808-51ab-4e43-b459-8a2a722d2370"
      },
      "outputs": [],
      "source": [
        "print(\"Number of flat image files: \", len(img_files))"
      ]
    },
    {
      "cell_type": "code",
      "execution_count": null,
      "metadata": {
        "id": "6qNyj-g5dT9k"
      },
      "outputs": [],
      "source": [
        "for ix in range(len(img_files)):\n",
        "  save_path = '/content/.../.../cropped/'\n",
        "  save_name_str = save_path + str(img_files[ix][-12:-4]) + '_cropped'\n",
        "  remove_background_img(img_files[ix], show=False, resize_shape=(1344, 1792), save_name=save_name_str)"
      ]
    }
  ],
  "metadata": {
    "accelerator": "GPU",
    "colab": {
      "gpuType": "T4",
      "provenance": []
    },
    "kernelspec": {
      "display_name": "Python 3",
      "name": "python3"
    },
    "language_info": {
      "name": "python"
    }
  },
  "nbformat": 4,
  "nbformat_minor": 0
}
