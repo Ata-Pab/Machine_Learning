{
  "nbformat": 4,
  "nbformat_minor": 0,
  "metadata": {
    "colab": {
      "provenance": [],
      "gpuType": "T4"
    },
    "kernelspec": {
      "name": "python3",
      "display_name": "Python 3"
    },
    "language_info": {
      "name": "python"
    },
    "accelerator": "GPU"
  },
  "cells": [
    {
      "cell_type": "markdown",
      "source": [
        "## Spatial Transformer Network (STM)\n",
        "\n",
        "\n",
        "Dataset: https://www.cs.toronto.edu/~tijmen/affNIST/\n",
        "\n",
        "Reference: [Implementing Spatial Transformer Network (STN) in TensorFlow by\n",
        "Parth Rajesh Dedhia](https://towardsdatascience.com/implementing-spatial-transformer-network-stn-in-tensorflow-bf0dc5055cd5)\n"
      ],
      "metadata": {
        "id": "g7mITDHP4z6L"
      }
    },
    {
      "cell_type": "markdown",
      "source": [
        "`Convolutional` layer and `Max Pooling` layer combination provides `translational invariance`. The orientation and shape of the object should not change much. This becomes a major drawback of CNN when used in a real-world setting.\n",
        "\n",
        "The main purpose of the spatial transformation is to provide a block that converts an image to a normal image that is the same as used in classification. This can be realized using Spatial Transformer Networks. This model can be regarded as an `attention module` to any spatial input."
      ],
      "metadata": {
        "id": "om3q2hyw5YX3"
      }
    },
    {
      "cell_type": "markdown",
      "source": [
        "### Basics"
      ],
      "metadata": {
        "id": "0Iwqs1xB9lnL"
      }
    },
    {
      "cell_type": "code",
      "source": [
        "import numpy as np"
      ],
      "metadata": {
        "id": "5T_GLOKM8z7t"
      },
      "execution_count": 1,
      "outputs": []
    },
    {
      "cell_type": "code",
      "execution_count": 2,
      "metadata": {
        "id": "Y0ry34u74Jze"
      },
      "outputs": [],
      "source": [
        "x = np.array([[ 0,  1,  2,  3,  4,  5],\n",
        "       [ 6,  7,  8,  9, 10, 11],\n",
        "       [12, 13, 14, 15, 16, 17],\n",
        "       [18, 19, 20, 21, 22, 23]])"
      ]
    },
    {
      "cell_type": "code",
      "source": [
        "x[2]"
      ],
      "metadata": {
        "colab": {
          "base_uri": "https://localhost:8080/"
        },
        "id": "J3mY5Xp69XPz",
        "outputId": "0805e3f1-c932-4a98-be43-422d637ddebc"
      },
      "execution_count": 3,
      "outputs": [
        {
          "output_type": "execute_result",
          "data": {
            "text/plain": [
              "array([12, 13, 14, 15, 16, 17])"
            ]
          },
          "metadata": {},
          "execution_count": 3
        }
      ]
    },
    {
      "cell_type": "code",
      "source": [
        "x[2,3]"
      ],
      "metadata": {
        "colab": {
          "base_uri": "https://localhost:8080/"
        },
        "id": "gAZRE3HW86BY",
        "outputId": "43e36812-ad0d-455b-fb80-9194b3fbb174"
      },
      "execution_count": 4,
      "outputs": [
        {
          "output_type": "execute_result",
          "data": {
            "text/plain": [
              "15"
            ]
          },
          "metadata": {},
          "execution_count": 4
        }
      ]
    },
    {
      "cell_type": "code",
      "source": [
        "x[[1,2,3]]"
      ],
      "metadata": {
        "colab": {
          "base_uri": "https://localhost:8080/"
        },
        "id": "JcQhYaqV9aiR",
        "outputId": "bcc54ba4-11d0-4964-c6ad-7652c038e360"
      },
      "execution_count": 5,
      "outputs": [
        {
          "output_type": "execute_result",
          "data": {
            "text/plain": [
              "array([[ 6,  7,  8,  9, 10, 11],\n",
              "       [12, 13, 14, 15, 16, 17],\n",
              "       [18, 19, 20, 21, 22, 23]])"
            ]
          },
          "metadata": {},
          "execution_count": 5
        }
      ]
    },
    {
      "cell_type": "code",
      "source": [
        "x[[3,2,3]]"
      ],
      "metadata": {
        "colab": {
          "base_uri": "https://localhost:8080/"
        },
        "id": "RQWzFKc89gFX",
        "outputId": "9a78d57c-a34c-4369-93db-b3001457db49"
      },
      "execution_count": 6,
      "outputs": [
        {
          "output_type": "execute_result",
          "data": {
            "text/plain": [
              "array([[18, 19, 20, 21, 22, 23],\n",
              "       [12, 13, 14, 15, 16, 17],\n",
              "       [18, 19, 20, 21, 22, 23]])"
            ]
          },
          "metadata": {},
          "execution_count": 6
        }
      ]
    },
    {
      "cell_type": "code",
      "source": [
        "x[[1,2,3], [3,2,3]]"
      ],
      "metadata": {
        "colab": {
          "base_uri": "https://localhost:8080/"
        },
        "id": "7D3Hw0dx8wGS",
        "outputId": "3cf1fc57-bffc-403d-b820-1aed20351e63"
      },
      "execution_count": 7,
      "outputs": [
        {
          "output_type": "execute_result",
          "data": {
            "text/plain": [
              "array([ 9, 14, 21])"
            ]
          },
          "metadata": {},
          "execution_count": 7
        }
      ]
    },
    {
      "cell_type": "code",
      "source": [
        "a = [[1,2],[3,0]] # First row, second row, third row, fourth row\n",
        "b = [[0,1],[2,3]] # Zeroth col, first col, second col, third col\n",
        "x[a, b]"
      ],
      "metadata": {
        "colab": {
          "base_uri": "https://localhost:8080/"
        },
        "id": "JLYdmlzt9m3G",
        "outputId": "08f77676-270d-4602-d169-a0a5313c6ca6"
      },
      "execution_count": 8,
      "outputs": [
        {
          "output_type": "execute_result",
          "data": {
            "text/plain": [
              "array([[ 6, 13],\n",
              "       [20,  3]])"
            ]
          },
          "metadata": {},
          "execution_count": 8
        }
      ]
    },
    {
      "cell_type": "markdown",
      "source": [
        "There are many transformation operations like translation, rotation, scaling, shear, and a combination of all of the above-affine transformation.\n",
        "\n",
        "![transformations.jpg](data:image/jpeg;base64,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)\n",
        "\n",
        "Img. ref: https://towardsdatascience.com/implementing-spatial-transformer-network-stn-in-tensorflow-bf0dc5055cd5"
      ],
      "metadata": {
        "id": "XScnqyb9BZ7c"
      }
    },
    {
      "cell_type": "markdown",
      "source": [
        "Note: Transformation happens at the `pixel level`. We map each pixel in the output image to a pixel of the input image and copy the pixel values.\n",
        "\n",
        "We want to find out which pixel from the input image shall be mapped to the output image at `[w, w]`. We create an array `x = np.asarray([w, w, 1])` . Note, that an extra dimension is added to the input image. Transformation matrix `theta = np.asarray([[0.5, 0, 0], [0, 0.5, 0]])`. Now apply matmul operation: `theta @ x` and get the value as `array([w/2., w/2.])`. This means that the pixel value at `[w/2, w/2]` in the input image will be copied to `[w, w]` in the output image.\n",
        "\n",
        "Note: The extra dimension is added to convert the coordinates from `Cartesian` to `Homogeneous` coordinates."
      ],
      "metadata": {
        "id": "MhudsGlOFR53"
      }
    },
    {
      "cell_type": "markdown",
      "source": [
        "Bilinear Interpolation\n",
        "\n"
      ],
      "metadata": {
        "id": "Yu5OUEoasq3e"
      }
    },
    {
      "cell_type": "code",
      "source": [
        "height = 400\n",
        "width = 400\n",
        "\n",
        "x = np.linspace(-1, 1, width)\n",
        "y = np.linspace(-1, 1, height)\n",
        "# x and y are selected in the range of -1 to 1 so the transformation happens\n",
        "# considering the center of the image as the origin. The images will be later\n",
        "# scaled up.\n",
        "\n",
        "transformation_matrix = np.asarray([[np.cos(np.pi/4), -np.sin(np.pi/4), 0], [np.sin(np.pi/4), np.cos(np.pi/4),0]])\n",
        "# 45 degree rotation matrix\n",
        "\n",
        "xx, yy = np.meshgrid(x, y)\n",
        "xx"
      ],
      "metadata": {
        "colab": {
          "base_uri": "https://localhost:8080/"
        },
        "id": "aRoCeGZuwfEa",
        "outputId": "90d6ec47-4eff-4735-b4e8-a1b8796d851a"
      },
      "execution_count": 9,
      "outputs": [
        {
          "output_type": "execute_result",
          "data": {
            "text/plain": [
              "array([[-1.        , -0.99498747, -0.98997494, ...,  0.98997494,\n",
              "         0.99498747,  1.        ],\n",
              "       [-1.        , -0.99498747, -0.98997494, ...,  0.98997494,\n",
              "         0.99498747,  1.        ],\n",
              "       [-1.        , -0.99498747, -0.98997494, ...,  0.98997494,\n",
              "         0.99498747,  1.        ],\n",
              "       ...,\n",
              "       [-1.        , -0.99498747, -0.98997494, ...,  0.98997494,\n",
              "         0.99498747,  1.        ],\n",
              "       [-1.        , -0.99498747, -0.98997494, ...,  0.98997494,\n",
              "         0.99498747,  1.        ],\n",
              "       [-1.        , -0.99498747, -0.98997494, ...,  0.98997494,\n",
              "         0.99498747,  1.        ]])"
            ]
          },
          "metadata": {},
          "execution_count": 9
        }
      ]
    },
    {
      "cell_type": "code",
      "source": [
        "yy"
      ],
      "metadata": {
        "colab": {
          "base_uri": "https://localhost:8080/"
        },
        "id": "AVHXVj-n7YZt",
        "outputId": "1a1d828d-9712-438e-93b6-ade0846cdb4d"
      },
      "execution_count": 10,
      "outputs": [
        {
          "output_type": "execute_result",
          "data": {
            "text/plain": [
              "array([[-1.        , -1.        , -1.        , ..., -1.        ,\n",
              "        -1.        , -1.        ],\n",
              "       [-0.99498747, -0.99498747, -0.99498747, ..., -0.99498747,\n",
              "        -0.99498747, -0.99498747],\n",
              "       [-0.98997494, -0.98997494, -0.98997494, ..., -0.98997494,\n",
              "        -0.98997494, -0.98997494],\n",
              "       ...,\n",
              "       [ 0.98997494,  0.98997494,  0.98997494, ...,  0.98997494,\n",
              "         0.98997494,  0.98997494],\n",
              "       [ 0.99498747,  0.99498747,  0.99498747, ...,  0.99498747,\n",
              "         0.99498747,  0.99498747],\n",
              "       [ 1.        ,  1.        ,  1.        , ...,  1.        ,\n",
              "         1.        ,  1.        ]])"
            ]
          },
          "metadata": {},
          "execution_count": 10
        }
      ]
    },
    {
      "cell_type": "code",
      "source": [
        "height = 400\n",
        "width = 400\n",
        "\n",
        "x = np.linspace(-1, 1, width)\n",
        "y = np.linspace(-1, 1, height)\n",
        "# x and y are selected in the range of -1 to 1 so the transformation happens\n",
        "# considering the center of the image as the origin. The images will be later\n",
        "# scaled up.\n",
        "\n",
        "transformation_matrix = np.asarray([[np.cos(np.pi/4), -np.sin(np.pi/4), 0], [np.sin(np.pi/4), np.cos(np.pi/4), 0]])\n",
        "# 45 degree rotation matrix\n",
        "\n",
        "xx, yy = np.meshgrid(x, y)  # Return a list of coordinate matrices from coordinate vectors\n",
        "homogeneous_co_ordinates = np.vstack([xx.flatten(), yy.flatten(), np.ones_like(xx.flatten())])\n",
        "# homogeneous_co_ordinates.shape: (3, 160000)\n",
        "\n",
        "transformed_co_ordinates = transformation_matrix @ homogeneous_co_ordinates\n",
        "# Operation: Transformation matrix (2, 3) @ homogeneous_co_ordinates (3, 160000)\n",
        "# transformed_co_ordinates.shape : (2, 16000)\n",
        "\n",
        "transformed_co_ordinates = transformed_co_ordinates.reshape(2, height, width)\n",
        "# transformed_co_ordinates.shape : (2, 400, 400)\n",
        "\n",
        "transformed_co_ordinates = np.moveaxis(transformed_co_ordinates, 0, -1)\n",
        "# transformed_co_ordinates.shape : (400, 400, 2)\n",
        "\n",
        "x_transformed = transformed_co_ordinates[:,:,0:1].squeeze()\n",
        "y_transformed = transformed_co_ordinates[:,:,1:2].squeeze()\n",
        "# extracting x and the y co-ordinates separately\n",
        "\n",
        "x = ((x_transformed + 1.) * width) * 0.5 # x.shape: (400, 400)\n",
        "y = ((y_transformed + 1.) * height) * 0.5 # y.shape: (400, 400)\n",
        "# Scaling the co-ordinates to the image size."
      ],
      "metadata": {
        "id": "rH_Iq-TpEuk5"
      },
      "execution_count": 11,
      "outputs": []
    },
    {
      "cell_type": "markdown",
      "source": [
        "The `homogeneous_co_ordinates` is the set of all the `output image pixel indices` converted to `homogeneous format` (ones are added to the vector). Then separate the x and y `transformed_co_ordinates` and `scale` them to the size of `image height` and `width`. Once again, this x and y obtained after transformation correspond to the input image pixel index which will be mapped to the output image. However, these `x` and `y` are `floating points` and `cannot` directly be `mapped to a pixel intensity` and `interpolation` will be applied."
      ],
      "metadata": {
        "id": "wqX85TY-yUL6"
      }
    },
    {
      "cell_type": "code",
      "source": [
        "x0 = np.floor(x).astype(np.int64) # The floor of the scalar x is the largest integer (element-wise)\n",
        "x1 = x0 + 1\n",
        "# rounding the x co-ordinate to the closest integer pixel location\n",
        "y0 = np.floor(y).astype(np.int64)\n",
        "y1 = y0 + 1\n",
        "# rounding the y co-ordinate to the closest integer pixel location"
      ],
      "metadata": {
        "id": "qRUbtEEZ6xO8"
      },
      "execution_count": 12,
      "outputs": []
    },
    {
      "cell_type": "code",
      "source": [
        "x0 = np.clip(x0, 0, width-1)\n",
        "x1 = np.clip(x1, 0, width-1)\n",
        "\n",
        "y0 = np.clip(y0, 0, height-1)\n",
        "y1 = np.clip(y1, 0, height-1)\n",
        "\n",
        "x = np.clip(x, 0, width-1)\n",
        "y = np.clip(y, 0, height-1)\n",
        "# clipping the values so that they do not exceed the maximum height and width.\n",
        "# Also converting negative numbers to zero."
      ],
      "metadata": {
        "id": "RT43NL3GEuht"
      },
      "execution_count": 13,
      "outputs": []
    },
    {
      "cell_type": "markdown",
      "source": [
        "The `x`, `y` represent the `transformed coordinates` (floating-point numbers). The `x0` and `y0` represent the `pixel index closest` to but `less than x` and `y` and `x1` and `y1` represent the `pixel index closest` to but `greater than x` and `y`. The valid combinations formed by x0, x1, y0, and y1 represent the four closest integer pixel locations around x and y. The pixel intensities at these values can be equated to Qₓᵧ.\n",
        "\n",
        "The img contains the desired image that is to be transformed, and it should be of size [height, width]. Our objective is to find the pixel value at P, and the naive approach to solve is for each of the x and y pair, we find the corresponding 4-pixel intensities and apply the weighted average formula discussed in the previous section. However, this approach is an in-efficient one."
      ],
      "metadata": {
        "id": "CSpiib2k7U-r"
      }
    },
    {
      "cell_type": "code",
      "source": [
        "#Ia = img[y0, x0]\n",
        "#Ib = img[y1, x0]\n",
        "#Ic = img[y0, x1]\n",
        "#Id = img[y1, x1]"
      ],
      "metadata": {
        "id": "oZkzlhVnEuf5"
      },
      "execution_count": 14,
      "outputs": []
    },
    {
      "cell_type": "markdown",
      "source": [
        "### Basics END"
      ],
      "metadata": {
        "id": "N_qKKesX9nqY"
      }
    },
    {
      "cell_type": "markdown",
      "source": [
        "### STN"
      ],
      "metadata": {
        "id": "jl_E3awu9s0K"
      }
    },
    {
      "cell_type": "code",
      "source": [
        "from sklearn.model_selection import train_test_split\n",
        "from matplotlib import pyplot as plt\n",
        "from scipy.io.matlab import loadmat\n",
        "import tensorflow as tf\n",
        "import numpy as np\n",
        "import datetime\n",
        "import os\n",
        "\n",
        "%load_ext tensorboard"
      ],
      "metadata": {
        "id": "tjm6nzTjEudZ"
      },
      "execution_count": 15,
      "outputs": []
    },
    {
      "cell_type": "code",
      "source": [
        "tf.random.set_seed(9)"
      ],
      "metadata": {
        "id": "V7Db3_kfEuae"
      },
      "execution_count": 16,
      "outputs": []
    },
    {
      "cell_type": "code",
      "source": [
        "!wget -c https://www.cs.toronto.edu/~tijmen/affNIST/32x/transformed/training_and_validation_batches.zip"
      ],
      "metadata": {
        "id": "EcOMoc_REuXx",
        "colab": {
          "base_uri": "https://localhost:8080/"
        },
        "outputId": "1c82977d-6ef0-4cf1-abf6-54c5bb4d9f41"
      },
      "execution_count": 17,
      "outputs": [
        {
          "output_type": "stream",
          "name": "stdout",
          "text": [
            "--2023-11-30 07:32:55--  https://www.cs.toronto.edu/~tijmen/affNIST/32x/transformed/training_and_validation_batches.zip\n",
            "Resolving www.cs.toronto.edu (www.cs.toronto.edu)... 128.100.3.30\n",
            "Connecting to www.cs.toronto.edu (www.cs.toronto.edu)|128.100.3.30|:443... connected.\n",
            "HTTP request sent, awaiting response... 200 OK\n",
            "Length: 730609891 (697M) [application/zip]\n",
            "Saving to: ‘training_and_validation_batches.zip’\n",
            "\n",
            "training_and_valida 100%[===================>] 696.76M  14.3MB/s    in 53s     \n",
            "\n",
            "2023-11-30 07:33:49 (13.2 MB/s) - ‘training_and_validation_batches.zip’ saved [730609891/730609891]\n",
            "\n"
          ]
        }
      ]
    },
    {
      "cell_type": "code",
      "source": [
        "! unzip training_and_validation_batches.zip\n",
        "! rm /content/training_and_validation_batches.zip"
      ],
      "metadata": {
        "id": "8_zcDBJGEuU7",
        "colab": {
          "base_uri": "https://localhost:8080/"
        },
        "outputId": "f910dc63-c64b-4c91-eab6-02d2a8d069d1"
      },
      "execution_count": 18,
      "outputs": [
        {
          "output_type": "stream",
          "name": "stdout",
          "text": [
            "Archive:  training_and_validation_batches.zip\n",
            "   creating: training_and_validation_batches/\n",
            "  inflating: training_and_validation_batches/1.mat  \n",
            "  inflating: training_and_validation_batches/2.mat  \n",
            "  inflating: training_and_validation_batches/3.mat  \n",
            "  inflating: training_and_validation_batches/4.mat  \n",
            "  inflating: training_and_validation_batches/5.mat  \n",
            "  inflating: training_and_validation_batches/6.mat  \n",
            "  inflating: training_and_validation_batches/7.mat  \n",
            "  inflating: training_and_validation_batches/8.mat  \n",
            "  inflating: training_and_validation_batches/9.mat  \n",
            "  inflating: training_and_validation_batches/10.mat  \n",
            "  inflating: training_and_validation_batches/11.mat  \n",
            "  inflating: training_and_validation_batches/12.mat  \n",
            "  inflating: training_and_validation_batches/13.mat  \n",
            "  inflating: training_and_validation_batches/14.mat  \n",
            "  inflating: training_and_validation_batches/15.mat  \n",
            "  inflating: training_and_validation_batches/16.mat  \n",
            "  inflating: training_and_validation_batches/17.mat  \n",
            "  inflating: training_and_validation_batches/18.mat  \n",
            "  inflating: training_and_validation_batches/19.mat  \n",
            "  inflating: training_and_validation_batches/20.mat  \n",
            "  inflating: training_and_validation_batches/21.mat  \n",
            "  inflating: training_and_validation_batches/22.mat  \n",
            "  inflating: training_and_validation_batches/23.mat  \n",
            "  inflating: training_and_validation_batches/24.mat  \n",
            "  inflating: training_and_validation_batches/25.mat  \n",
            "  inflating: training_and_validation_batches/26.mat  \n",
            "  inflating: training_and_validation_batches/27.mat  \n",
            "  inflating: training_and_validation_batches/28.mat  \n",
            "  inflating: training_and_validation_batches/29.mat  \n",
            "  inflating: training_and_validation_batches/30.mat  \n",
            "  inflating: training_and_validation_batches/31.mat  \n",
            "  inflating: training_and_validation_batches/32.mat  \n"
          ]
        }
      ]
    },
    {
      "cell_type": "code",
      "source": [
        "batch_size = 256\n",
        "epochs = 100"
      ],
      "metadata": {
        "id": "wiwx_KI796A_"
      },
      "execution_count": 19,
      "outputs": []
    },
    {
      "cell_type": "code",
      "source": [
        "image_path = '/content/training_and_validation_batches/1.mat'\n",
        "temp = loadmat(image_path)\n",
        "\n",
        "x = temp['affNISTdata']['image'][0][0].reshape(40, 40, 60000)\n",
        "x = np.moveaxis(x, -1, 0)\n",
        "x = np.expand_dims(x, axis=-1)\n",
        "x = x/255.0\n",
        "\n",
        "y = temp['affNISTdata']['label_int'][0][0]\n",
        "y = np.moveaxis(y, -1, 0)\n",
        "y = y.astype(np.int32)"
      ],
      "metadata": {
        "id": "-e7DCVUd95-N"
      },
      "execution_count": 20,
      "outputs": []
    },
    {
      "cell_type": "code",
      "source": [
        "X_train, X_test, y_train, y_test = train_test_split(x, y, test_size=0.1, random_state=42)"
      ],
      "metadata": {
        "id": "vif6bN8v957X"
      },
      "execution_count": 21,
      "outputs": []
    },
    {
      "cell_type": "code",
      "source": [
        "mnist_train_ds = tf.data.Dataset.from_tensor_slices((X_train, y_train))\n",
        "mnist_train_ds = mnist_train_ds.shuffle(5000).batch(batch_size)"
      ],
      "metadata": {
        "id": "uJOHYeow9544"
      },
      "execution_count": 22,
      "outputs": []
    },
    {
      "cell_type": "code",
      "source": [
        "class Localization(tf.keras.layers.Layer):\n",
        "    def __init__(self):\n",
        "        super(Localization, self).__init__()\n",
        "        self.pool1 = tf.keras.layers.MaxPool2D()\n",
        "        self.conv1 = tf.keras.layers.Conv2D(20, [5, 5], activation='relu')\n",
        "        self.pool2 = tf.keras.layers.MaxPool2D()\n",
        "        self.conv2 = tf.keras.layers.Conv2D(20, [5, 5], activation='relu')\n",
        "        self.flatten = tf.keras.layers.Flatten()\n",
        "        self.fc1 = tf.keras.layers.Dense(20, activation='relu')\n",
        "        self.fc2 = tf.keras.layers.Dense(6, activation=None, bias_initializer=tf.keras.initializers.constant([1.0, 0.0, 0.0, 0.0, 1.0, 0.0]), kernel_initializer='zeros')\n",
        "\n",
        "    def build(self, input_shape):\n",
        "        print(\"Building Localization Network with input shape:\", input_shape)\n",
        "\n",
        "    def compute_output_shape(self, input_shape):\n",
        "        return [None, 6]\n",
        "\n",
        "    def call(self, inputs):\n",
        "        x = self.conv1(inputs)\n",
        "        x = self.pool1(x)\n",
        "        x = self.conv2(x)\n",
        "        x = self.pool2(x)\n",
        "        x = self.flatten(x)\n",
        "        x = self.fc1(x)\n",
        "        theta = self.fc2(x)\n",
        "        theta = tf.keras.layers.Reshape((2, 3))(theta)\n",
        "        return theta"
      ],
      "metadata": {
        "id": "k4ZML6S1952E"
      },
      "execution_count": 23,
      "outputs": []
    },
    {
      "cell_type": "code",
      "source": [
        "class BilinearInterpolation(tf.keras.layers.Layer):\n",
        "    def __init__(self, height=40, width=40):\n",
        "        super(BilinearInterpolation, self).__init__()\n",
        "        self.height = height\n",
        "        self.width = width\n",
        "\n",
        "    def compute_output_shape(self, input_shape):\n",
        "        return [None, self.height, self.width, 1]\n",
        "\n",
        "    def get_config(self):\n",
        "        return {\n",
        "            'height': self.height,\n",
        "            'width': self.width,\n",
        "        }\n",
        "\n",
        "    def build(self, input_shape):\n",
        "        print(\"Building Bilinear Interpolation Layer with input shape:\", input_shape)\n",
        "\n",
        "    def advance_indexing(self, inputs, x, y):\n",
        "        '''\n",
        "        Numpy like advance indexing is not supported in tensorflow, hence, this function is a hack around the same method\n",
        "        '''\n",
        "        shape = tf.shape(inputs)\n",
        "        batch_size, _, _ = shape[0], shape[1], shape[2]\n",
        "\n",
        "        batch_idx = tf.range(0, batch_size)\n",
        "        batch_idx = tf.reshape(batch_idx, (batch_size, 1, 1))\n",
        "        b = tf.tile(batch_idx, (1, self.height, self.width))\n",
        "        indices = tf.stack([b, y, x], 3)\n",
        "        return tf.gather_nd(inputs, indices)\n",
        "\n",
        "    def call(self, inputs):\n",
        "        images, theta = inputs\n",
        "        homogenous_coordinates = self.grid_generator(batch=tf.shape(images)[0])\n",
        "        return self.interpolate(images, homogenous_coordinates, theta)\n",
        "\n",
        "    def grid_generator(self, batch):\n",
        "        x = tf.linspace(-1, 1, self.width)\n",
        "        y = tf.linspace(-1, 1, self.height)\n",
        "\n",
        "        xx, yy = tf.meshgrid(x, y)\n",
        "        xx = tf.reshape(xx, (-1,))\n",
        "        yy = tf.reshape(yy, (-1,))\n",
        "        homogenous_coordinates = tf.stack([xx, yy, tf.ones_like(xx)])\n",
        "        homogenous_coordinates = tf.expand_dims(homogenous_coordinates, axis=0)\n",
        "        homogenous_coordinates = tf.tile(homogenous_coordinates, [batch, 1, 1])\n",
        "        homogenous_coordinates = tf.cast(homogenous_coordinates, dtype=tf.float32)\n",
        "        return homogenous_coordinates\n",
        "\n",
        "    def interpolate(self, images, homogenous_coordinates, theta):\n",
        "        with tf.name_scope(\"Transformation\"):\n",
        "            transformed = tf.matmul(theta, homogenous_coordinates)\n",
        "            transformed = tf.transpose(transformed, perm=[0, 2, 1])\n",
        "            transformed = tf.reshape(transformed, [-1, self.height, self.width, 2])\n",
        "\n",
        "            x_transformed = transformed[:, :, :, 0]\n",
        "            y_transformed = transformed[:, :, :, 1]\n",
        "\n",
        "            x = ((x_transformed + 1.) * tf.cast(self.width, dtype=tf.float32)) * 0.5\n",
        "            y = ((y_transformed + 1.) * tf.cast(self.height, dtype=tf.float32)) * 0.5\n",
        "\n",
        "        with tf.name_scope(\"VariableCasting\"):\n",
        "            x0 = tf.cast(tf.math.floor(x), dtype=tf.int32)\n",
        "            x1 = x0 + 1\n",
        "            y0 = tf.cast(tf.math.floor(y), dtype=tf.int32)\n",
        "            y1 = y0 + 1\n",
        "\n",
        "            x0 = tf.clip_by_value(x0, 0, self.width-1)\n",
        "            x1 = tf.clip_by_value(x1, 0, self.width-1)\n",
        "            y0 = tf.clip_by_value(y0, 0, self.height-1)\n",
        "            y1 = tf.clip_by_value(y1, 0, self.height-1)\n",
        "\n",
        "            x = tf.clip_by_value(x, 0, tf.cast(self.width, dtype=tf.float32)-1.0)\n",
        "            y = tf.clip_by_value(y, 0, tf.cast(self.height, dtype=tf.float32)-1)\n",
        "\n",
        "        with tf.name_scope(\"AdvanceIndexing\"):\n",
        "            Ia = self.advance_indexing(images, x0, y0)\n",
        "            Ib = self.advance_indexing(images, x0, y1)\n",
        "            Ic = self.advance_indexing(images, x1, y0)\n",
        "            Id = self.advance_indexing(images, x1, y1)\n",
        "\n",
        "        with tf.name_scope(\"Interpolation\"):\n",
        "            x0 = tf.cast(x0, dtype=tf.float32)\n",
        "            x1 = tf.cast(x1, dtype=tf.float32)\n",
        "            y0 = tf.cast(y0, dtype=tf.float32)\n",
        "            y1 = tf.cast(y1, dtype=tf.float32)\n",
        "\n",
        "            wa = (x1-x) * (y1-y)\n",
        "            wb = (x1-x) * (y-y0)\n",
        "            wc = (x-x0) * (y1-y)\n",
        "            wd = (x-x0) * (y-y0)\n",
        "\n",
        "            wa = tf.expand_dims(wa, axis=3)\n",
        "            wb = tf.expand_dims(wb, axis=3)\n",
        "            wc = tf.expand_dims(wc, axis=3)\n",
        "            wd = tf.expand_dims(wd, axis=3)\n",
        "\n",
        "        return tf.math.add_n([wa*Ia + wb*Ib + wc*Ic + wd*Id])"
      ],
      "metadata": {
        "id": "KSTPv5Xk95zo"
      },
      "execution_count": 24,
      "outputs": []
    },
    {
      "cell_type": "code",
      "source": [
        "bilinear_interpolation = BilinearInterpolation()"
      ],
      "metadata": {
        "id": "AxpMvpHzAIGd"
      },
      "execution_count": 25,
      "outputs": []
    },
    {
      "cell_type": "code",
      "source": [
        "image = np.zeros((2, 40, 40, 1))\n",
        "\n",
        "image[0, 10:20, 10:20, :] = 1\n",
        "image[1, 20:30, 20:30, :] = 1"
      ],
      "metadata": {
        "id": "IzHetn2-AIEB"
      },
      "execution_count": 26,
      "outputs": []
    },
    {
      "cell_type": "code",
      "source": [
        "plt.imshow(image[0,:,:,0], cmap='gray')"
      ],
      "metadata": {
        "colab": {
          "base_uri": "https://localhost:8080/",
          "height": 448
        },
        "id": "mVJ_8bhTA1QY",
        "outputId": "670b255c-2dcb-4433-f95d-f76858ec9c00"
      },
      "execution_count": 27,
      "outputs": [
        {
          "output_type": "execute_result",
          "data": {
            "text/plain": [
              "<matplotlib.image.AxesImage at 0x78069f73f3a0>"
            ]
          },
          "metadata": {},
          "execution_count": 27
        },
        {
          "output_type": "display_data",
          "data": {
            "text/plain": [
              "<Figure size 640x480 with 1 Axes>"
            ],
            "image/png": "[encoded data removed]"
          },
          "metadata": {}
        }
      ]
    },
    {
      "cell_type": "code",
      "source": [
        "# 45 degree rotation matrix\n",
        "theta = np.asarray([[np.cos(np.pi/4), -np.sin(np.pi/4), 0], [np.sin(np.pi/4), np.cos(np.pi/4),0]])"
      ],
      "metadata": {
        "id": "uZrY7aHuAIBB"
      },
      "execution_count": 28,
      "outputs": []
    },
    {
      "cell_type": "code",
      "source": [
        "result = bilinear_interpolation([image, theta])"
      ],
      "metadata": {
        "colab": {
          "base_uri": "https://localhost:8080/"
        },
        "id": "0hNP4xscBFmI",
        "outputId": "42a9abb0-aa46-4e72-c1ad-8379d80262d4"
      },
      "execution_count": 29,
      "outputs": [
        {
          "output_type": "stream",
          "name": "stdout",
          "text": [
            "Building Bilinear Interpolation Layer with input shape: [TensorShape([2, 40, 40, 1]), TensorShape([2, 3])]\n"
          ]
        }
      ]
    },
    {
      "cell_type": "code",
      "source": [
        "plt.subplot(2, 2, 1)\n",
        "plt.imshow(image[0, :, :, 0], cmap='gray')\n",
        "\n",
        "plt.subplot(2, 2, 2)\n",
        "plt.imshow(image[1, :, :, 0], cmap='gray')\n",
        "\n",
        "plt.subplot(2, 2, 3)\n",
        "plt.imshow(result[0, :, :, 0], cmap='gray')\n",
        "\n",
        "plt.subplot(2, 2, 4)\n",
        "plt.imshow(result[1, :, :, 0], cmap='gray')"
      ],
      "metadata": {
        "colab": {
          "base_uri": "https://localhost:8080/",
          "height": 450
        },
        "id": "fsDziZhvBFjg",
        "outputId": "885aa2c9-67e7-4d61-e808-40b234482798"
      },
      "execution_count": 30,
      "outputs": [
        {
          "output_type": "execute_result",
          "data": {
            "text/plain": [
              "<matplotlib.image.AxesImage at 0x780743005660>"
            ]
          },
          "metadata": {},
          "execution_count": 30
        },
        {
          "output_type": "display_data",
          "data": {
            "text/plain": [
              "<Figure size 640x480 with 4 Axes>"
            ],
            "image/png": "[encoded data removed]"
          },
          "metadata": {}
        }
      ]
    },
    {
      "cell_type": "markdown",
      "source": [
        "### Build Spatial Transformer Network"
      ],
      "metadata": {
        "id": "skpDSKFTB7u1"
      }
    },
    {
      "cell_type": "markdown",
      "source": [
        "![](https://miro.medium.com/v2/resize:fit:828/format:webp/1*-KauPUQajORJtCb-9J71tA.png)"
      ],
      "metadata": {
        "id": "CbRapHr0B0fL"
      }
    },
    {
      "cell_type": "code",
      "source": [
        "def create_spatial_transformer_network(input_shape):\n",
        "    image = tf.keras.layers.Input(shape=input_shape)\n",
        "    theta = Localization()(image)\n",
        "    x = BilinearInterpolation(height=input_shape[0], width=input_shape[1])([image, theta])\n",
        "    x = tf.keras.layers.Conv2D(64, [9, 9], activation='relu')(x)\n",
        "    x = tf.keras.layers.MaxPool2D()(x)\n",
        "    x = tf.keras.layers.Conv2D(64, [7, 7], activation='relu')(x)\n",
        "    x = tf.keras.layers.MaxPool2D()(x)\n",
        "    x = tf.keras.layers.Flatten()(x)\n",
        "    x = tf.keras.layers.Dense(64, activation='relu')(x)\n",
        "    x = tf.keras.layers.Dense(32, activation='relu')(x)\n",
        "    x = tf.keras.layers.Dense(10, activation='softmax')(x)\n",
        "\n",
        "    return tf.keras.models.Model(inputs=image, outputs=x)"
      ],
      "metadata": {
        "id": "oxoCntOLBFhH"
      },
      "execution_count": 31,
      "outputs": []
    },
    {
      "cell_type": "code",
      "source": [
        "spatial_transformer_model = create_spatial_transformer_network((40, 40, 1))"
      ],
      "metadata": {
        "colab": {
          "base_uri": "https://localhost:8080/"
        },
        "id": "xiAlF0zqAH-Y",
        "outputId": "cc3e9ee4-c74a-4379-8112-665f4aa0bcbe"
      },
      "execution_count": 32,
      "outputs": [
        {
          "output_type": "stream",
          "name": "stdout",
          "text": [
            "Building Localization Network with input shape: (None, 40, 40, 1)\n",
            "Building Bilinear Interpolation Layer with input shape: [TensorShape([None, 40, 40, 1]), TensorShape([None, 2, 3])]\n"
          ]
        }
      ]
    },
    {
      "cell_type": "code",
      "source": [
        "spatial_transformer_model.summary()"
      ],
      "metadata": {
        "colab": {
          "base_uri": "https://localhost:8080/"
        },
        "id": "rX9kJYUNAH7t",
        "outputId": "3a10adbb-f966-467f-ce48-c73a01a5b820"
      },
      "execution_count": 33,
      "outputs": [
        {
          "output_type": "stream",
          "name": "stdout",
          "text": [
            "Model: \"model\"\n",
            "__________________________________________________________________________________________________\n",
            " Layer (type)                Output Shape                 Param #   Connected to                  \n",
            "==================================================================================================\n",
            " input_1 (InputLayer)        [(None, 40, 40, 1)]          0         []                            \n",
            "                                                                                                  \n",
            " localization (Localization  (None, 2, 3)                 30286     ['input_1[0][0]']             \n",
            " )                                                                                                \n",
            "                                                                                                  \n",
            " bilinear_interpolation_1 (  (None, 40, 40, 1)            0         ['input_1[0][0]',             \n",
            " BilinearInterpolation)                                              'localization[0][0]']        \n",
            "                                                                                                  \n",
            " conv2d_2 (Conv2D)           (None, 32, 32, 64)           5248      ['bilinear_interpolation_1[0][\n",
            "                                                                    0]']                          \n",
            "                                                                                                  \n",
            " max_pooling2d_2 (MaxPoolin  (None, 16, 16, 64)           0         ['conv2d_2[0][0]']            \n",
            " g2D)                                                                                             \n",
            "                                                                                                  \n",
            " conv2d_3 (Conv2D)           (None, 10, 10, 64)           200768    ['max_pooling2d_2[0][0]']     \n",
            "                                                                                                  \n",
            " max_pooling2d_3 (MaxPoolin  (None, 5, 5, 64)             0         ['conv2d_3[0][0]']            \n",
            " g2D)                                                                                             \n",
            "                                                                                                  \n",
            " flatten_1 (Flatten)         (None, 1600)                 0         ['max_pooling2d_3[0][0]']     \n",
            "                                                                                                  \n",
            " dense_2 (Dense)             (None, 64)                   102464    ['flatten_1[0][0]']           \n",
            "                                                                                                  \n",
            " dense_3 (Dense)             (None, 32)                   2080      ['dense_2[0][0]']             \n",
            "                                                                                                  \n",
            " dense_4 (Dense)             (None, 10)                   330       ['dense_3[0][0]']             \n",
            "                                                                                                  \n",
            "==================================================================================================\n",
            "Total params: 341176 (1.30 MB)\n",
            "Trainable params: 341176 (1.30 MB)\n",
            "Non-trainable params: 0 (0.00 Byte)\n",
            "__________________________________________________________________________________________________\n"
          ]
        }
      ]
    },
    {
      "cell_type": "code",
      "source": [
        "spatial_transformer_model.compile(optimizer='adam', loss=tf.keras.losses.SparseCategoricalCrossentropy(from_logits=True), metrics=['accuracy'])"
      ],
      "metadata": {
        "id": "sZKN99CeAH5F"
      },
      "execution_count": 34,
      "outputs": []
    },
    {
      "cell_type": "code",
      "source": [
        "def schedular(epoch, lr):\n",
        "    if epoch % 20 == 0 and epoch > 0:\n",
        "        print(\"Learning rate update...\")\n",
        "    return lr"
      ],
      "metadata": {
        "id": "WNkwnG8995wx"
      },
      "execution_count": 35,
      "outputs": []
    },
    {
      "cell_type": "code",
      "source": [
        "log_dir = \"logs/fit/\" + datetime.datetime.now().strftime(\"%Y%m%d-%H%M%S\")\n",
        "tensorboard_callback = tf.keras.callbacks.TensorBoard(log_dir=log_dir, histogram_freq=1)\n",
        "\n",
        "learning_rate_callback = tf.keras.callbacks.LearningRateScheduler(schedular)"
      ],
      "metadata": {
        "id": "0k39XlBhHLl_"
      },
      "execution_count": 36,
      "outputs": []
    },
    {
      "cell_type": "code",
      "source": [
        "spatial_transformer_model_hist = spatial_transformer_model.fit(mnist_train_ds, epochs=epochs, callbacks=[tensorboard_callback, learning_rate_callback])"
      ],
      "metadata": {
        "colab": {
          "base_uri": "https://localhost:8080/"
        },
        "id": "qBBGdgh_HLjb",
        "outputId": "3b3e44ca-c947-4492-b2ec-39574860f90a"
      },
      "execution_count": 37,
      "outputs": [
        {
          "output_type": "stream",
          "name": "stdout",
          "text": [
            "Epoch 1/100\n"
          ]
        },
        {
          "output_type": "stream",
          "name": "stderr",
          "text": [
            "/usr/local/lib/python3.10/dist-packages/keras/src/backend.py:5729: UserWarning: \"`sparse_categorical_crossentropy` received `from_logits=True`, but the `output` argument was produced by a Softmax activation and thus does not represent logits. Was this intended?\n",
            "  output, from_logits = _get_logits(\n"
          ]
        },
        {
          "output_type": "stream",
          "name": "stdout",
          "text": [
            "211/211 [==============================] - 27s 70ms/step - loss: 0.7204 - accuracy: 0.7582 - lr: 0.0010\n",
            "Epoch 2/100\n",
            "211/211 [==============================] - 12s 55ms/step - loss: 0.1546 - accuracy: 0.9535 - lr: 0.0010\n",
            "Epoch 3/100\n",
            "211/211 [==============================] - 12s 56ms/step - loss: 0.0984 - accuracy: 0.9699 - lr: 0.0010\n",
            "Epoch 4/100\n",
            "211/211 [==============================] - 13s 60ms/step - loss: 0.0799 - accuracy: 0.9754 - lr: 0.0010\n",
            "Epoch 5/100\n",
            "211/211 [==============================] - 12s 56ms/step - loss: 0.0646 - accuracy: 0.9804 - lr: 0.0010\n",
            "Epoch 6/100\n",
            "211/211 [==============================] - 12s 56ms/step - loss: 0.0556 - accuracy: 0.9829 - lr: 0.0010\n",
            "Epoch 7/100\n",
            "211/211 [==============================] - 12s 56ms/step - loss: 0.0495 - accuracy: 0.9848 - lr: 0.0010\n",
            "Epoch 8/100\n",
            "211/211 [==============================] - 13s 61ms/step - loss: 0.0443 - accuracy: 0.9863 - lr: 0.0010\n",
            "Epoch 9/100\n",
            "211/211 [==============================] - 13s 59ms/step - loss: 0.0361 - accuracy: 0.9885 - lr: 0.0010\n",
            "Epoch 10/100\n",
            "211/211 [==============================] - 12s 59ms/step - loss: 0.0342 - accuracy: 0.9897 - lr: 0.0010\n",
            "Epoch 11/100\n",
            "211/211 [==============================] - 13s 60ms/step - loss: 0.0327 - accuracy: 0.9898 - lr: 0.0010\n",
            "Epoch 12/100\n",
            "211/211 [==============================] - 15s 72ms/step - loss: 0.0289 - accuracy: 0.9907 - lr: 0.0010\n",
            "Epoch 13/100\n",
            "211/211 [==============================] - 13s 60ms/step - loss: 0.0298 - accuracy: 0.9904 - lr: 0.0010\n",
            "Epoch 14/100\n",
            "211/211 [==============================] - 13s 59ms/step - loss: 0.0248 - accuracy: 0.9920 - lr: 0.0010\n",
            "Epoch 15/100\n",
            "211/211 [==============================] - 12s 59ms/step - loss: 0.0287 - accuracy: 0.9908 - lr: 0.0010\n",
            "Epoch 16/100\n",
            "211/211 [==============================] - 13s 59ms/step - loss: 0.0264 - accuracy: 0.9914 - lr: 0.0010\n",
            "Epoch 17/100\n",
            "211/211 [==============================] - 12s 59ms/step - loss: 0.0251 - accuracy: 0.9916 - lr: 0.0010\n",
            "Epoch 18/100\n",
            "211/211 [==============================] - 12s 56ms/step - loss: 0.0218 - accuracy: 0.9930 - lr: 0.0010\n",
            "Epoch 19/100\n",
            "211/211 [==============================] - 13s 60ms/step - loss: 0.0187 - accuracy: 0.9939 - lr: 0.0010\n",
            "Epoch 20/100\n",
            "211/211 [==============================] - 13s 60ms/step - loss: 0.0169 - accuracy: 0.9947 - lr: 0.0010\n",
            "Learning rate update...\n",
            "Epoch 21/100\n",
            "211/211 [==============================] - 13s 59ms/step - loss: 0.0170 - accuracy: 0.9940 - lr: 0.0010\n",
            "Epoch 22/100\n",
            "211/211 [==============================] - 12s 59ms/step - loss: 0.0225 - accuracy: 0.9925 - lr: 0.0010\n",
            "Epoch 23/100\n",
            "211/211 [==============================] - 12s 59ms/step - loss: 0.0129 - accuracy: 0.9959 - lr: 0.0010\n",
            "Epoch 24/100\n",
            "211/211 [==============================] - 12s 59ms/step - loss: 0.0131 - accuracy: 0.9955 - lr: 0.0010\n",
            "Epoch 25/100\n",
            "211/211 [==============================] - 12s 56ms/step - loss: 0.0133 - accuracy: 0.9958 - lr: 0.0010\n",
            "Epoch 26/100\n",
            "211/211 [==============================] - 13s 60ms/step - loss: 0.0190 - accuracy: 0.9939 - lr: 0.0010\n",
            "Epoch 27/100\n",
            "211/211 [==============================] - 13s 59ms/step - loss: 0.0145 - accuracy: 0.9951 - lr: 0.0010\n",
            "Epoch 28/100\n",
            "211/211 [==============================] - 12s 57ms/step - loss: 0.0147 - accuracy: 0.9953 - lr: 0.0010\n",
            "Epoch 29/100\n",
            "211/211 [==============================] - 13s 60ms/step - loss: 0.0122 - accuracy: 0.9959 - lr: 0.0010\n",
            "Epoch 30/100\n",
            "211/211 [==============================] - 13s 60ms/step - loss: 0.0139 - accuracy: 0.9957 - lr: 0.0010\n",
            "Epoch 31/100\n",
            "211/211 [==============================] - 13s 60ms/step - loss: 0.0133 - accuracy: 0.9956 - lr: 0.0010\n",
            "Epoch 32/100\n",
            "211/211 [==============================] - 13s 60ms/step - loss: 0.0106 - accuracy: 0.9964 - lr: 0.0010\n",
            "Epoch 33/100\n",
            "211/211 [==============================] - 12s 58ms/step - loss: 0.0117 - accuracy: 0.9964 - lr: 0.0010\n",
            "Epoch 34/100\n",
            "211/211 [==============================] - 13s 59ms/step - loss: 0.0127 - accuracy: 0.9957 - lr: 0.0010\n",
            "Epoch 35/100\n",
            "211/211 [==============================] - 13s 60ms/step - loss: 0.0112 - accuracy: 0.9961 - lr: 0.0010\n",
            "Epoch 36/100\n",
            "211/211 [==============================] - 13s 59ms/step - loss: 0.0163 - accuracy: 0.9944 - lr: 0.0010\n",
            "Epoch 37/100\n",
            "211/211 [==============================] - 12s 59ms/step - loss: 0.0087 - accuracy: 0.9972 - lr: 0.0010\n",
            "Epoch 38/100\n",
            "211/211 [==============================] - 12s 58ms/step - loss: 0.0093 - accuracy: 0.9969 - lr: 0.0010\n",
            "Epoch 39/100\n",
            "211/211 [==============================] - 13s 60ms/step - loss: 0.0101 - accuracy: 0.9964 - lr: 0.0010\n",
            "Epoch 40/100\n",
            "211/211 [==============================] - 12s 56ms/step - loss: 0.0117 - accuracy: 0.9961 - lr: 0.0010\n",
            "Learning rate update...\n",
            "Epoch 41/100\n",
            "211/211 [==============================] - 13s 60ms/step - loss: 0.0110 - accuracy: 0.9964 - lr: 0.0010\n",
            "Epoch 42/100\n",
            "211/211 [==============================] - 12s 59ms/step - loss: 0.0090 - accuracy: 0.9971 - lr: 0.0010\n",
            "Epoch 43/100\n",
            "211/211 [==============================] - 13s 60ms/step - loss: 0.0081 - accuracy: 0.9972 - lr: 0.0010\n",
            "Epoch 44/100\n",
            "211/211 [==============================] - 12s 59ms/step - loss: 0.0073 - accuracy: 0.9977 - lr: 0.0010\n",
            "Epoch 45/100\n",
            "211/211 [==============================] - 12s 59ms/step - loss: 0.0124 - accuracy: 0.9958 - lr: 0.0010\n",
            "Epoch 46/100\n",
            "211/211 [==============================] - 12s 58ms/step - loss: 0.0080 - accuracy: 0.9972 - lr: 0.0010\n",
            "Epoch 47/100\n",
            "211/211 [==============================] - 13s 60ms/step - loss: 0.0083 - accuracy: 0.9973 - lr: 0.0010\n",
            "Epoch 48/100\n",
            "211/211 [==============================] - 12s 59ms/step - loss: 0.0085 - accuracy: 0.9972 - lr: 0.0010\n",
            "Epoch 49/100\n",
            "211/211 [==============================] - 13s 60ms/step - loss: 0.0076 - accuracy: 0.9974 - lr: 0.0010\n",
            "Epoch 50/100\n",
            "211/211 [==============================] - 13s 60ms/step - loss: 0.0089 - accuracy: 0.9969 - lr: 0.0010\n",
            "Epoch 51/100\n",
            "211/211 [==============================] - 12s 59ms/step - loss: 0.0083 - accuracy: 0.9971 - lr: 0.0010\n",
            "Epoch 52/100\n",
            "211/211 [==============================] - 12s 58ms/step - loss: 0.0115 - accuracy: 0.9963 - lr: 0.0010\n",
            "Epoch 53/100\n",
            "211/211 [==============================] - 13s 60ms/step - loss: 0.0068 - accuracy: 0.9976 - lr: 0.0010\n",
            "Epoch 54/100\n",
            "211/211 [==============================] - 13s 60ms/step - loss: 0.0092 - accuracy: 0.9968 - lr: 0.0010\n",
            "Epoch 55/100\n",
            "211/211 [==============================] - 12s 59ms/step - loss: 0.0108 - accuracy: 0.9965 - lr: 0.0010\n",
            "Epoch 56/100\n",
            "211/211 [==============================] - 12s 59ms/step - loss: 0.0058 - accuracy: 0.9981 - lr: 0.0010\n",
            "Epoch 57/100\n",
            "211/211 [==============================] - 12s 58ms/step - loss: 0.0078 - accuracy: 0.9977 - lr: 0.0010\n",
            "Epoch 58/100\n",
            "211/211 [==============================] - 12s 56ms/step - loss: 0.0060 - accuracy: 0.9981 - lr: 0.0010\n",
            "Epoch 59/100\n",
            "211/211 [==============================] - 13s 60ms/step - loss: 0.0056 - accuracy: 0.9980 - lr: 0.0010\n",
            "Epoch 60/100\n",
            "211/211 [==============================] - 12s 59ms/step - loss: 0.0062 - accuracy: 0.9981 - lr: 0.0010\n",
            "Learning rate update...\n",
            "Epoch 61/100\n",
            "211/211 [==============================] - 13s 63ms/step - loss: 0.0069 - accuracy: 0.9978 - lr: 0.0010\n",
            "Epoch 62/100\n",
            "211/211 [==============================] - 12s 59ms/step - loss: 0.0094 - accuracy: 0.9968 - lr: 0.0010\n",
            "Epoch 63/100\n",
            "211/211 [==============================] - 12s 59ms/step - loss: 0.0035 - accuracy: 0.9989 - lr: 0.0010\n",
            "Epoch 64/100\n",
            "211/211 [==============================] - 12s 58ms/step - loss: 0.0060 - accuracy: 0.9983 - lr: 0.0010\n",
            "Epoch 65/100\n",
            "211/211 [==============================] - 12s 56ms/step - loss: 0.0035 - accuracy: 0.9988 - lr: 0.0010\n",
            "Epoch 66/100\n",
            "211/211 [==============================] - 13s 60ms/step - loss: 0.0093 - accuracy: 0.9970 - lr: 0.0010\n",
            "Epoch 67/100\n",
            "211/211 [==============================] - 12s 59ms/step - loss: 0.0057 - accuracy: 0.9983 - lr: 0.0010\n",
            "Epoch 68/100\n",
            "211/211 [==============================] - 13s 60ms/step - loss: 0.0050 - accuracy: 0.9982 - lr: 0.0010\n",
            "Epoch 69/100\n",
            "211/211 [==============================] - 13s 60ms/step - loss: 0.0052 - accuracy: 0.9981 - lr: 0.0010\n",
            "Epoch 70/100\n",
            "211/211 [==============================] - 13s 60ms/step - loss: 0.0086 - accuracy: 0.9973 - lr: 0.0010\n",
            "Epoch 71/100\n",
            "211/211 [==============================] - 12s 56ms/step - loss: 0.0068 - accuracy: 0.9977 - lr: 0.0010\n",
            "Epoch 72/100\n",
            "211/211 [==============================] - 12s 55ms/step - loss: 0.0077 - accuracy: 0.9977 - lr: 0.0010\n",
            "Epoch 73/100\n",
            "211/211 [==============================] - 13s 61ms/step - loss: 0.0068 - accuracy: 0.9977 - lr: 0.0010\n",
            "Epoch 74/100\n",
            "211/211 [==============================] - 12s 59ms/step - loss: 0.0044 - accuracy: 0.9985 - lr: 0.0010\n",
            "Epoch 75/100\n",
            "211/211 [==============================] - 13s 60ms/step - loss: 0.0075 - accuracy: 0.9976 - lr: 0.0010\n",
            "Epoch 76/100\n",
            "211/211 [==============================] - 12s 58ms/step - loss: 0.0063 - accuracy: 0.9980 - lr: 0.0010\n",
            "Epoch 77/100\n",
            "211/211 [==============================] - 13s 60ms/step - loss: 0.0049 - accuracy: 0.9986 - lr: 0.0010\n",
            "Epoch 78/100\n",
            "211/211 [==============================] - 12s 59ms/step - loss: 9.4390e-04 - accuracy: 0.9998 - lr: 0.0010\n",
            "Epoch 79/100\n",
            "211/211 [==============================] - 13s 59ms/step - loss: 3.4085e-04 - accuracy: 0.9999 - lr: 0.0010\n",
            "Epoch 80/100\n",
            "211/211 [==============================] - 12s 59ms/step - loss: 0.0045 - accuracy: 0.9985 - lr: 0.0010\n",
            "Learning rate update...\n",
            "Epoch 81/100\n",
            "211/211 [==============================] - 12s 59ms/step - loss: 0.0151 - accuracy: 0.9956 - lr: 0.0010\n",
            "Epoch 82/100\n",
            "211/211 [==============================] - 12s 58ms/step - loss: 0.0031 - accuracy: 0.9989 - lr: 0.0010\n",
            "Epoch 83/100\n",
            "211/211 [==============================] - 12s 57ms/step - loss: 0.0064 - accuracy: 0.9980 - lr: 0.0010\n",
            "Epoch 84/100\n",
            "211/211 [==============================] - 13s 59ms/step - loss: 0.0114 - accuracy: 0.9964 - lr: 0.0010\n",
            "Epoch 85/100\n",
            "211/211 [==============================] - 12s 59ms/step - loss: 0.0043 - accuracy: 0.9986 - lr: 0.0010\n",
            "Epoch 86/100\n",
            "211/211 [==============================] - 13s 61ms/step - loss: 0.0021 - accuracy: 0.9993 - lr: 0.0010\n",
            "Epoch 87/100\n",
            "211/211 [==============================] - 12s 59ms/step - loss: 5.1454e-04 - accuracy: 0.9999 - lr: 0.0010\n",
            "Epoch 88/100\n",
            "211/211 [==============================] - 12s 58ms/step - loss: 0.0016 - accuracy: 0.9996 - lr: 0.0010\n",
            "Epoch 89/100\n",
            "211/211 [==============================] - 13s 59ms/step - loss: 0.0213 - accuracy: 0.9931 - lr: 0.0010\n",
            "Epoch 90/100\n",
            "211/211 [==============================] - 13s 60ms/step - loss: 0.0058 - accuracy: 0.9981 - lr: 0.0010\n",
            "Epoch 91/100\n",
            "211/211 [==============================] - 13s 60ms/step - loss: 0.0085 - accuracy: 0.9973 - lr: 0.0010\n",
            "Epoch 92/100\n",
            "211/211 [==============================] - 12s 59ms/step - loss: 0.0061 - accuracy: 0.9978 - lr: 0.0010\n",
            "Epoch 93/100\n",
            "211/211 [==============================] - 12s 56ms/step - loss: 0.0049 - accuracy: 0.9984 - lr: 0.0010\n",
            "Epoch 94/100\n",
            "211/211 [==============================] - 13s 60ms/step - loss: 0.0023 - accuracy: 0.9993 - lr: 0.0010\n",
            "Epoch 95/100\n",
            "211/211 [==============================] - 13s 60ms/step - loss: 0.0044 - accuracy: 0.9988 - lr: 0.0010\n",
            "Epoch 96/100\n",
            "211/211 [==============================] - 12s 58ms/step - loss: 0.0040 - accuracy: 0.9987 - lr: 0.0010\n",
            "Epoch 97/100\n",
            "211/211 [==============================] - 13s 61ms/step - loss: 0.0022 - accuracy: 0.9993 - lr: 0.0010\n",
            "Epoch 98/100\n",
            "211/211 [==============================] - 12s 59ms/step - loss: 0.0061 - accuracy: 0.9982 - lr: 0.0010\n",
            "Epoch 99/100\n",
            "211/211 [==============================] - 13s 60ms/step - loss: 0.0065 - accuracy: 0.9979 - lr: 0.0010\n",
            "Epoch 100/100\n",
            "211/211 [==============================] - 13s 59ms/step - loss: 0.0046 - accuracy: 0.9985 - lr: 0.0010\n"
          ]
        }
      ]
    },
    {
      "cell_type": "code",
      "source": [
        "spatial_transformer_model.save_weights('./model/weights', save_format='tf')"
      ],
      "metadata": {
        "id": "Elpsr_rJHLg-"
      },
      "execution_count": 38,
      "outputs": []
    },
    {
      "cell_type": "code",
      "source": [
        "stn = tf.keras.models.Model(inputs=spatial_transformer_model.inputs, outputs=[spatial_transformer_model.layers[1].output, spatial_transformer_model.layers[2].output])"
      ],
      "metadata": {
        "id": "33WYFIqQHLeR"
      },
      "execution_count": 39,
      "outputs": []
    },
    {
      "cell_type": "code",
      "source": [
        "theta, prediction = stn.predict(X_test)"
      ],
      "metadata": {
        "colab": {
          "base_uri": "https://localhost:8080/"
        },
        "id": "c_KJncHCIxhc",
        "outputId": "4932e307-3e6d-4e4a-88df-0cd72aa8d31c"
      },
      "execution_count": 40,
      "outputs": [
        {
          "output_type": "stream",
          "name": "stdout",
          "text": [
            "188/188 [==============================] - 2s 6ms/step\n"
          ]
        }
      ]
    },
    {
      "cell_type": "code",
      "source": [
        "index = 210\n",
        "\n",
        "plt.subplot(1,2,1)\n",
        "plt.title(y_test[index])\n",
        "plt.imshow(X_test[index, :, :, 0], cmap='gray')\n",
        "\n",
        "plt.subplot(1, 2, 2)\n",
        "plt.title(np.argmax(spatial_transformer_model.predict(np.expand_dims(X_test[index, :, :, 0], axis=0))))\n",
        "plt.imshow(prediction[index, :, :, 0], cmap='gray')\n",
        "\n",
        "print(\"\\n\", theta[index])"
      ],
      "metadata": {
        "colab": {
          "base_uri": "https://localhost:8080/",
          "height": 377
        },
        "id": "IAo3YtTEIxe8",
        "outputId": "564af3bd-8884-4594-8368-bce46bb21f66"
      },
      "execution_count": 44,
      "outputs": [
        {
          "output_type": "stream",
          "name": "stdout",
          "text": [
            "1/1 [==============================] - 0s 33ms/step\n",
            "\n",
            " [[ 0.9134845   0.33233127 -0.21900353]\n",
            " [-0.30973276  0.90501493  0.20711802]]\n"
          ]
        },
        {
          "output_type": "display_data",
          "data": {
            "text/plain": [
              "<Figure size 640x480 with 2 Axes>"
            ],
            "image/png": "[encoded data removed]"
          },
          "metadata": {}
        }
      ]
    },
    {
      "cell_type": "markdown",
      "source": [
        "### Reference\n",
        "\n",
        "https://towardsdatascience.com/implementing-spatial-transformer-network-stn-in-tensorflow-bf0dc5055cd5\n",
        "\n",
        "https://github.com/dedhiaparth98/spatial-transformer-network?source=post_page-----bf0dc5055cd5--------------------------------\n",
        "\n",
        "https://kevinzakka.github.io/2017/01/10/stn-part1/\n",
        "\n",
        "https://kevinzakka.github.io/2017/01/18/stn-part2/\n",
        "\n",
        "M. Jaderberg, K. Simonyan, A. Zisserman, K. Kavukcuoglu, Spatial Transformer Networks, CVPR, 2015\n"
      ],
      "metadata": {
        "id": "MFMh-n199J9q"
      }
    }
  ]
}