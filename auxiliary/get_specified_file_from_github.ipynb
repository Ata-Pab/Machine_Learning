{
  "cells": [
    {
      "cell_type": "markdown",
      "metadata": {
        "id": "oTurBm1LpaTB"
      },
      "source": [
        "### Get specified file from GitHub\n",
        "\n",
        "1. Navigate to your file on github (or your git host)\n",
        "2. Click on the Raw tab of source code\n",
        "3. Copy access link of the raw file\n",
        "4. Use wget to download it:\n",
        "\n",
        "! wget https://raw.githubusercontent.com/Ata-Pab/Machine_Learning/master/utils/vision.py\n"
      ]
    },
    {
      "cell_type": "code",
      "execution_count": 11,
      "metadata": {
        "colab": {
          "base_uri": "https://localhost:8080/"
        },
        "id": "-gif8TXvnMih",
        "outputId": "af451bd0-116e-47cd-8688-45b7c5a12f89"
      },
      "outputs": [
        {
          "name": "stdout",
          "output_type": "stream",
          "text": [
            "--2023-10-28 14:20:07--  https://raw.githubusercontent.com/Ata-Pab/Machine_Learning/79ea434da75794e557682c640e23f7cbc39ebaec/vision.py\n",
            "Resolving raw.githubusercontent.com (raw.githubusercontent.com)... 185.199.108.133, 185.199.109.133, 185.199.110.133, ...\n",
            "Connecting to raw.githubusercontent.com (raw.githubusercontent.com)|185.199.108.133|:443... connected.\n",
            "HTTP request sent, awaiting response... 200 OK\n",
            "Length: 12730 (12K) [text/plain]\n",
            "Saving to: ‘vision.py’\n",
            "\n",
            "\rvision.py             0%[                    ]       0  --.-KB/s               \rvision.py           100%[===================>]  12.43K  --.-KB/s    in 0s      \n",
            "\n",
            "2023-10-28 14:20:07 (133 MB/s) - ‘vision.py’ saved [12730/12730]\n",
            "\n"
          ]
        }
      ],
      "source": [
        "! wget https://raw.githubusercontent.com/Ata-Pab/Machine_Learning/master/utils/vision.py\n",
        "# for silent download (no info aboyt process)\n",
        "! wget -q https://raw.githubusercontent.com/Ata-Pab/Machine_Learning/master/utils/vision.py"
      ]
    },
    {
      "cell_type": "code",
      "execution_count": 12,
      "metadata": {
        "id": "JfbrSWX0oYf0"
      },
      "outputs": [],
      "source": [
        "from vision import prepare_dataset_for_mask_rcnn"
      ]
    }
  ],
  "metadata": {
    "colab": {
      "provenance": []
    },
    "kernelspec": {
      "display_name": "Python 3",
      "name": "python3"
    },
    "language_info": {
      "name": "python"
    }
  },
  "nbformat": 4,
  "nbformat_minor": 0
}
