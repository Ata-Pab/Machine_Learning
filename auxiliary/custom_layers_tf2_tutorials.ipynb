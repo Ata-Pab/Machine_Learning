{
  "nbformat": 4,
  "nbformat_minor": 0,
  "metadata": {
    "colab": {
      "provenance": []
    },
    "kernelspec": {
      "name": "python3",
      "display_name": "Python 3"
    },
    "language_info": {
      "name": "python"
    }
  },
  "cells": [
    {
      "cell_type": "markdown",
      "source": [
        "Reference: https://www.tensorflow.org/tutorials/customization/custom_layers?hl=en\n",
        "\n",
        "Tensorflow v2.11.0 Module: tf.keras.layers: https://www.tensorflow.org/api_docs/python/tf/keras/layers\n",
        "(Find all layers here)"
      ],
      "metadata": {
        "id": "rOngu_at89GU"
      }
    },
    {
      "cell_type": "code",
      "execution_count": 29,
      "metadata": {
        "id": "zWiYxdzC7uuN"
      },
      "outputs": [],
      "source": [
        "import tensorflow as tf"
      ]
    },
    {
      "cell_type": "code",
      "source": [
        "print(tf.config.list_physical_devices('GPU'))"
      ],
      "metadata": {
        "colab": {
          "base_uri": "https://localhost:8080/"
        },
        "id": "kVVMHiLz77fc",
        "outputId": "9ac8a4b6-d001-4126-9a31-4f03ab50b33a"
      },
      "execution_count": 30,
      "outputs": [
        {
          "output_type": "stream",
          "name": "stdout",
          "text": [
            "[]\n"
          ]
        }
      ]
    },
    {
      "cell_type": "code",
      "source": [
        "# In the tf.keras.layers package, layers are objects. To construct a layer,\n",
        "# simply construct the object. Most layers take as a first argument the number\n",
        "# of output dimensions / channels.\n",
        "layer = tf.keras.layers.Dense(100)\n",
        "# The number of input dimensions is often unnecessary, as it can be inferred\n",
        "# the first time the layer is used, but it can be provided if you want to\n",
        "# specify it manually, which is useful in some complex models.\n",
        "layer = tf.keras.layers.Dense(10, input_shape=(None, 5))"
      ],
      "metadata": {
        "id": "LS3keBvV7_66"
      },
      "execution_count": 31,
      "outputs": []
    },
    {
      "cell_type": "code",
      "source": [
        "# To use a layer, simply call it.\n",
        "layer(tf.zeros([10, 5]))"
      ],
      "metadata": {
        "colab": {
          "base_uri": "https://localhost:8080/"
        },
        "id": "d6O6ES9g8q_Q",
        "outputId": "10a0ee53-69e6-4b44-ad67-7e3e4cd21f9c"
      },
      "execution_count": 32,
      "outputs": [
        {
          "output_type": "execute_result",
          "data": {
            "text/plain": [
              "<tf.Tensor: shape=(10, 10), dtype=float32, numpy=\n",
              "array([[0., 0., 0., 0., 0., 0., 0., 0., 0., 0.],\n",
              "       [0., 0., 0., 0., 0., 0., 0., 0., 0., 0.],\n",
              "       [0., 0., 0., 0., 0., 0., 0., 0., 0., 0.],\n",
              "       [0., 0., 0., 0., 0., 0., 0., 0., 0., 0.],\n",
              "       [0., 0., 0., 0., 0., 0., 0., 0., 0., 0.],\n",
              "       [0., 0., 0., 0., 0., 0., 0., 0., 0., 0.],\n",
              "       [0., 0., 0., 0., 0., 0., 0., 0., 0., 0.],\n",
              "       [0., 0., 0., 0., 0., 0., 0., 0., 0., 0.],\n",
              "       [0., 0., 0., 0., 0., 0., 0., 0., 0., 0.],\n",
              "       [0., 0., 0., 0., 0., 0., 0., 0., 0., 0.]], dtype=float32)>"
            ]
          },
          "metadata": {},
          "execution_count": 32
        }
      ]
    },
    {
      "cell_type": "code",
      "source": [
        "# Layers have many useful methods. For example, you can inspect all variables\n",
        "# in a layer using `layer.variables` and trainable variables using\n",
        "# `layer.trainable_variables`. In this case a fully-connected layer\n",
        "# will have variables for weights and biases.\n",
        "layer.variables"
      ],
      "metadata": {
        "colab": {
          "base_uri": "https://localhost:8080/"
        },
        "id": "ArUCqese9a_Q",
        "outputId": "9c66859d-8c7c-4643-bae5-9610addb2aae"
      },
      "execution_count": 33,
      "outputs": [
        {
          "output_type": "execute_result",
          "data": {
            "text/plain": [
              "[<tf.Variable 'dense_3/kernel:0' shape=(5, 10) dtype=float32, numpy=\n",
              " array([[-0.28603992,  0.47989613,  0.44830233, -0.40685266, -0.23194328,\n",
              "          0.47046334,  0.30157816,  0.3492518 ,  0.2225402 , -0.00219339],\n",
              "        [ 0.24086517,  0.53062004, -0.08906257,  0.620475  ,  0.4428888 ,\n",
              "          0.37213045, -0.5293078 ,  0.00153172, -0.2248331 ,  0.5714373 ],\n",
              "        [ 0.19474119, -0.39436007,  0.5340995 , -0.20120656,  0.61623293,\n",
              "         -0.02697331, -0.13377908, -0.13484123, -0.567585  , -0.40109837],\n",
              "        [ 0.1585058 , -0.44142106, -0.36443657, -0.05609822, -0.09447241,\n",
              "         -0.14501527, -0.18978655,  0.4140101 , -0.3648529 , -0.23976952],\n",
              "        [-0.1069389 , -0.23282585,  0.24539077,  0.24390614,  0.57694954,\n",
              "          0.03698075,  0.20816094, -0.07245374, -0.62996376,  0.14679444]],\n",
              "       dtype=float32)>,\n",
              " <tf.Variable 'dense_3/bias:0' shape=(10,) dtype=float32, numpy=array([0., 0., 0., 0., 0., 0., 0., 0., 0., 0.], dtype=float32)>]"
            ]
          },
          "metadata": {},
          "execution_count": 33
        }
      ]
    },
    {
      "cell_type": "code",
      "source": [
        "# The variables are also accessible through nice accessors\n",
        "layer.kernel, layer.bias"
      ],
      "metadata": {
        "colab": {
          "base_uri": "https://localhost:8080/"
        },
        "id": "rKW5VHjz9hny",
        "outputId": "3100e166-63a8-4c05-e013-a354fe274155"
      },
      "execution_count": 34,
      "outputs": [
        {
          "output_type": "execute_result",
          "data": {
            "text/plain": [
              "(<tf.Variable 'dense_3/kernel:0' shape=(5, 10) dtype=float32, numpy=\n",
              " array([[-0.28603992,  0.47989613,  0.44830233, -0.40685266, -0.23194328,\n",
              "          0.47046334,  0.30157816,  0.3492518 ,  0.2225402 , -0.00219339],\n",
              "        [ 0.24086517,  0.53062004, -0.08906257,  0.620475  ,  0.4428888 ,\n",
              "          0.37213045, -0.5293078 ,  0.00153172, -0.2248331 ,  0.5714373 ],\n",
              "        [ 0.19474119, -0.39436007,  0.5340995 , -0.20120656,  0.61623293,\n",
              "         -0.02697331, -0.13377908, -0.13484123, -0.567585  , -0.40109837],\n",
              "        [ 0.1585058 , -0.44142106, -0.36443657, -0.05609822, -0.09447241,\n",
              "         -0.14501527, -0.18978655,  0.4140101 , -0.3648529 , -0.23976952],\n",
              "        [-0.1069389 , -0.23282585,  0.24539077,  0.24390614,  0.57694954,\n",
              "          0.03698075,  0.20816094, -0.07245374, -0.62996376,  0.14679444]],\n",
              "       dtype=float32)>,\n",
              " <tf.Variable 'dense_3/bias:0' shape=(10,) dtype=float32, numpy=array([0., 0., 0., 0., 0., 0., 0., 0., 0., 0.], dtype=float32)>)"
            ]
          },
          "metadata": {},
          "execution_count": 34
        }
      ]
    },
    {
      "cell_type": "markdown",
      "source": [
        "### Implementing Custom Layers\n",
        "\n",
        "The best way to implement your own layer is extending the tf.keras.Layer class and implementing:\n",
        "\n",
        "* __init__ , where you can do all input-independent initialization\n",
        "* build, where you know the shapes of the input tensors and can do the rest of the initialization\n",
        "* call, where you do the forward computation\n",
        "\n",
        "Note that you don't have to wait until build is called to create your variables, you can also create them in __init__. However, the advantage of creating them in build is that it enables late variable creation based on the shape of the inputs the layer will operate on. On the other hand, creating variables in __init__ would mean that shapes required to create the variables will need to be explicitly specified."
      ],
      "metadata": {
        "id": "SviMSltE9zwQ"
      }
    },
    {
      "cell_type": "code",
      "source": [
        "class MyDenseLayer(tf.keras.layers.Layer):\n",
        "  def __init__(self, num_outputs):\n",
        "    super(MyDenseLayer, self).__init__()\n",
        "    self.num_outputs = num_outputs\n",
        "\n",
        "  def build(self, input_shape):\n",
        "    self.kernel = self.add_weight(\"kernel\", shape=[int(input_shape[-1]), self.num_outputs])\n",
        "\n",
        "  def call(self, inputs):\n",
        "    return tf.matmul(inputs, self.kernel)   # Matrix multiplication for inputs\n",
        "\n",
        "layer = MyDenseLayer(10)"
      ],
      "metadata": {
        "id": "7f-ms3lA9sH7"
      },
      "execution_count": 35,
      "outputs": []
    },
    {
      "cell_type": "code",
      "source": [
        "_ = layer(tf.zeros([10, 5]))   # Calling the layer '.build's it"
      ],
      "metadata": {
        "id": "qQ4pIW56-fOq"
      },
      "execution_count": 36,
      "outputs": []
    },
    {
      "cell_type": "code",
      "source": [
        "print([var.name for var in layer.trainable_variables])"
      ],
      "metadata": {
        "colab": {
          "base_uri": "https://localhost:8080/"
        },
        "id": "cLi_u-av-5Xy",
        "outputId": "49050502-6551-4ceb-90c2-53c6916dd4cd"
      },
      "execution_count": 37,
      "outputs": [
        {
          "output_type": "stream",
          "name": "stdout",
          "text": [
            "['my_dense_layer_1/kernel:0']\n"
          ]
        }
      ]
    },
    {
      "cell_type": "code",
      "source": [
        "print([var.name for var in layer.trainable_weights])"
      ],
      "metadata": {
        "colab": {
          "base_uri": "https://localhost:8080/"
        },
        "id": "1FnAOoUl_G0s",
        "outputId": "8e5931d9-cfb0-4443-f964-300860737674"
      },
      "execution_count": 38,
      "outputs": [
        {
          "output_type": "stream",
          "name": "stdout",
          "text": [
            "['my_dense_layer_1/kernel:0']\n"
          ]
        }
      ]
    },
    {
      "cell_type": "code",
      "source": [
        "print([var.name for var in layer.non_trainable_variables])"
      ],
      "metadata": {
        "colab": {
          "base_uri": "https://localhost:8080/"
        },
        "id": "EtGAKS1c_KBL",
        "outputId": "b752110b-4a10-40e2-fee9-ffdcc7767175"
      },
      "execution_count": 39,
      "outputs": [
        {
          "output_type": "stream",
          "name": "stdout",
          "text": [
            "[]\n"
          ]
        }
      ]
    },
    {
      "cell_type": "markdown",
      "source": [
        "#### Composing Layers"
      ],
      "metadata": {
        "id": "9ydc5wRwCi2Q"
      }
    },
    {
      "cell_type": "code",
      "source": [
        "# ResNet block\n",
        "class ResnetIdentityBlock(tf.keras.Model):\n",
        "  def __init__(self, kernel_size, filters):\n",
        "    super(ResnetIdentityBlock, self).__init__(name='')\n",
        "    filters1, filters2, filters3 = filters\n",
        "\n",
        "    self.conv2a = tf.keras.layers.Conv2D(filters1, kernel_size)  # Conv. layer\n",
        "    self.bn2a = tf.keras.layers.BatchNormalization()        # Batch normalization layer\n",
        "\n",
        "    self.conv2b = tf.keras.layers.Conv2D(filters2, kernel_size, padding='same') # Conv. layer\n",
        "    self.bn2b = tf.keras.layers.BatchNormalization()                            # Batch normalization layer\n",
        "\n",
        "    self.conv2c = tf.keras.layers.Conv2D(filters3, kernel_size)  # Conv. layer\n",
        "    self.bn2c = tf.keras.layers.BatchNormalization()        # Batch normalization layer\n",
        "\n",
        "  def call(self, input_tensor, training=False):\n",
        "    x = self.conv2a(input_tensor)\n",
        "    x = self.bn2a(x, training=training)\n",
        "    x = tf.nn.relu(x)\n",
        "\n",
        "    x = self.conv2b(x)\n",
        "    x = self.bn2b(x, training=training)\n",
        "    x = tf.nn.relu(x)\n",
        "\n",
        "    x = self.conv2c(x)\n",
        "    x = self.bn2c(x, training=training)\n",
        "\n",
        "    x += input_tensor\n",
        "    return tf.nn.relu(x)\n",
        "\n",
        "\n",
        "block = ResnetIdentityBlock(1, [1, 2, 3])"
      ],
      "metadata": {
        "id": "Bnp65gZh_Nb6"
      },
      "execution_count": 40,
      "outputs": []
    },
    {
      "cell_type": "code",
      "source": [
        "_ = block(tf.zeros([1, 2, 3, 3]), True)"
      ],
      "metadata": {
        "id": "oO5cBdhSDlZ4"
      },
      "execution_count": 41,
      "outputs": []
    },
    {
      "cell_type": "code",
      "source": [
        "block.trainable_variables"
      ],
      "metadata": {
        "colab": {
          "base_uri": "https://localhost:8080/"
        },
        "id": "80YvCtXKEHky",
        "outputId": "0d548b00-36c2-4b33-da8e-71e4ce66b689"
      },
      "execution_count": 42,
      "outputs": [
        {
          "output_type": "execute_result",
          "data": {
            "text/plain": [
              "[<tf.Variable 'conv2d_6/kernel:0' shape=(1, 1, 3, 1) dtype=float32, numpy=\n",
              " array([[[[-1.1158684],\n",
              "          [ 0.5235896],\n",
              "          [ 1.2136856]]]], dtype=float32)>,\n",
              " <tf.Variable 'conv2d_6/bias:0' shape=(1,) dtype=float32, numpy=array([0.], dtype=float32)>,\n",
              " <tf.Variable 'batch_normalization_6/gamma:0' shape=(1,) dtype=float32, numpy=array([1.], dtype=float32)>,\n",
              " <tf.Variable 'batch_normalization_6/beta:0' shape=(1,) dtype=float32, numpy=array([0.], dtype=float32)>,\n",
              " <tf.Variable 'conv2d_7/kernel:0' shape=(1, 1, 1, 2) dtype=float32, numpy=array([[[[-0.76285964,  1.0807406 ]]]], dtype=float32)>,\n",
              " <tf.Variable 'conv2d_7/bias:0' shape=(2,) dtype=float32, numpy=array([0., 0.], dtype=float32)>,\n",
              " <tf.Variable 'batch_normalization_7/gamma:0' shape=(2,) dtype=float32, numpy=array([1., 1.], dtype=float32)>,\n",
              " <tf.Variable 'batch_normalization_7/beta:0' shape=(2,) dtype=float32, numpy=array([0., 0.], dtype=float32)>,\n",
              " <tf.Variable 'conv2d_8/kernel:0' shape=(1, 1, 2, 3) dtype=float32, numpy=\n",
              " array([[[[-1.0758373 ,  0.62436163,  0.3512925 ],\n",
              "          [ 0.4197482 ,  0.45265138, -0.6521336 ]]]], dtype=float32)>,\n",
              " <tf.Variable 'conv2d_8/bias:0' shape=(3,) dtype=float32, numpy=array([0., 0., 0.], dtype=float32)>,\n",
              " <tf.Variable 'batch_normalization_8/gamma:0' shape=(3,) dtype=float32, numpy=array([1., 1., 1.], dtype=float32)>,\n",
              " <tf.Variable 'batch_normalization_8/beta:0' shape=(3,) dtype=float32, numpy=array([0., 0., 0.], dtype=float32)>]"
            ]
          },
          "metadata": {},
          "execution_count": 42
        }
      ]
    },
    {
      "cell_type": "code",
      "source": [
        "len(block.variables)"
      ],
      "metadata": {
        "colab": {
          "base_uri": "https://localhost:8080/"
        },
        "id": "HQzn0S8KDrZu",
        "outputId": "56ce15e5-fd14-43a3-b21b-1d87b675c3a5"
      },
      "execution_count": 43,
      "outputs": [
        {
          "output_type": "execute_result",
          "data": {
            "text/plain": [
              "18"
            ]
          },
          "metadata": {},
          "execution_count": 43
        }
      ]
    },
    {
      "cell_type": "code",
      "source": [
        "block.summary()"
      ],
      "metadata": {
        "colab": {
          "base_uri": "https://localhost:8080/"
        },
        "id": "RJYmjGniDwUE",
        "outputId": "138edb07-ec45-4a35-be4d-66d8ce9389e9"
      },
      "execution_count": 44,
      "outputs": [
        {
          "output_type": "stream",
          "name": "stdout",
          "text": [
            "Model: \"\"\n",
            "_________________________________________________________________\n",
            " Layer (type)                Output Shape              Param #   \n",
            "=================================================================\n",
            " conv2d_6 (Conv2D)           multiple                  4         \n",
            "                                                                 \n",
            " batch_normalization_6 (Batc  multiple                 4         \n",
            " hNormalization)                                                 \n",
            "                                                                 \n",
            " conv2d_7 (Conv2D)           multiple                  4         \n",
            "                                                                 \n",
            " batch_normalization_7 (Batc  multiple                 8         \n",
            " hNormalization)                                                 \n",
            "                                                                 \n",
            " conv2d_8 (Conv2D)           multiple                  9         \n",
            "                                                                 \n",
            " batch_normalization_8 (Batc  multiple                 12        \n",
            " hNormalization)                                                 \n",
            "                                                                 \n",
            "=================================================================\n",
            "Total params: 41\n",
            "Trainable params: 29\n",
            "Non-trainable params: 12\n",
            "_________________________________________________________________\n"
          ]
        }
      ]
    },
    {
      "cell_type": "markdown",
      "source": [
        "Much of the time, however, models which compose many layers simply call one layer after the other. This can be done in very little code using tf.keras.Sequential"
      ],
      "metadata": {
        "id": "fW7hcKMPEoBH"
      }
    },
    {
      "cell_type": "code",
      "source": [
        "my_seq = tf.keras.Sequential([tf.keras.layers.Conv2D(1, (1, 1),\n",
        "                                                    input_shape=(\n",
        "                                                        None, None, 3)),\n",
        "                             tf.keras.layers.BatchNormalization(),\n",
        "                             tf.keras.layers.Conv2D(2, 1,\n",
        "                                                    padding='same'),\n",
        "                             tf.keras.layers.BatchNormalization(),\n",
        "                             tf.keras.layers.Conv2D(3, (1, 1)),\n",
        "                             tf.keras.layers.BatchNormalization()])\n",
        "my_seq(tf.zeros([1, 2, 3, 3]))"
      ],
      "metadata": {
        "colab": {
          "base_uri": "https://localhost:8080/"
        },
        "id": "xLorJ8VcEVKr",
        "outputId": "92e7181f-f665-47c9-bd90-7807b97752ac"
      },
      "execution_count": 45,
      "outputs": [
        {
          "output_type": "execute_result",
          "data": {
            "text/plain": [
              "<tf.Tensor: shape=(1, 2, 3, 3), dtype=float32, numpy=\n",
              "array([[[[0., 0., 0.],\n",
              "         [0., 0., 0.],\n",
              "         [0., 0., 0.]],\n",
              "\n",
              "        [[0., 0., 0.],\n",
              "         [0., 0., 0.],\n",
              "         [0., 0., 0.]]]], dtype=float32)>"
            ]
          },
          "metadata": {},
          "execution_count": 45
        }
      ]
    },
    {
      "cell_type": "code",
      "source": [
        "my_seq.summary()"
      ],
      "metadata": {
        "colab": {
          "base_uri": "https://localhost:8080/"
        },
        "id": "91CayZUCErCV",
        "outputId": "51f3c566-81bc-4214-aa22-8bb5b3e3d199"
      },
      "execution_count": 46,
      "outputs": [
        {
          "output_type": "stream",
          "name": "stdout",
          "text": [
            "Model: \"sequential_1\"\n",
            "_________________________________________________________________\n",
            " Layer (type)                Output Shape              Param #   \n",
            "=================================================================\n",
            " conv2d_9 (Conv2D)           (None, None, None, 1)     4         \n",
            "                                                                 \n",
            " batch_normalization_9 (Batc  (None, None, None, 1)    4         \n",
            " hNormalization)                                                 \n",
            "                                                                 \n",
            " conv2d_10 (Conv2D)          (None, None, None, 2)     4         \n",
            "                                                                 \n",
            " batch_normalization_10 (Bat  (None, None, None, 2)    8         \n",
            " chNormalization)                                                \n",
            "                                                                 \n",
            " conv2d_11 (Conv2D)          (None, None, None, 3)     9         \n",
            "                                                                 \n",
            " batch_normalization_11 (Bat  (None, None, None, 3)    12        \n",
            " chNormalization)                                                \n",
            "                                                                 \n",
            "=================================================================\n",
            "Total params: 41\n",
            "Trainable params: 29\n",
            "Non-trainable params: 12\n",
            "_________________________________________________________________\n"
          ]
        }
      ]
    },
    {
      "cell_type": "markdown",
      "source": [
        "Reference: https://www.tensorflow.org/tutorials/customization/custom_layers?hl=en"
      ],
      "metadata": {
        "id": "4X25u1t_Fyp2"
      }
    }
  ]
}