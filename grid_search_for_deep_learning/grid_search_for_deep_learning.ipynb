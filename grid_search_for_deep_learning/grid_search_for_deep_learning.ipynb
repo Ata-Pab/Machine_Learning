{
  "nbformat": 4,
  "nbformat_minor": 0,
  "metadata": {
    "colab": {
      "provenance": []
    },
    "kernelspec": {
      "name": "python3",
      "display_name": "Python 3"
    },
    "language_info": {
      "name": "python"
    }
  },
  "cells": [
    {
      "cell_type": "markdown",
      "source": [
        "## Grid Search Hyperparameters for Deep Learning Models\n",
        "\n",
        "Reference: [How to Grid Search Hyperparameters for Deep Learning Models in Python with Keras](https://machinelearningmastery.com/grid-search-hyperparameters-deep-learning-models-python-keras/)"
      ],
      "metadata": {
        "id": "Fjinho3HnvAO"
      }
    },
    {
      "cell_type": "markdown",
      "source": [
        "Goal:\n",
        "\n",
        "* `Wrap` Keras models for use in Scikit-learn and use Grid search\n",
        "* Grid search for common neural network parameters, such as `learning rate`, `dropout rate`, `epochs`, and `number of neurons`"
      ],
      "metadata": {
        "id": "P3F9BNl1n147"
      }
    },
    {
      "cell_type": "markdown",
      "source": [
        "### Hyperparameter Optimization Tips\n",
        "\n",
        "* **k-fold Cross Validation**. A default cross-validation of `3` was used, but perhaps `k=5` or `k=10` would be more stable.\n",
        "\n",
        "* **Parallelize** . Use all your cores if you can.\n",
        "\n",
        "* **Sample your Dataset**. Because networks are slow to train, try training them on a smaller sample of your training dataset"
      ],
      "metadata": {
        "id": "vVkQyeFAl5YJ"
      }
    },
    {
      "cell_type": "markdown",
      "source": [
        "### Using Keras models in Scikit-learn\n",
        "\n",
        "Keras models can be used in scikit-learn by wrapping them with the `KerasClassifier` or `KerasRegressor` class from the module [SciKeras](https://adriangb.com/scikeras/stable/)."
      ],
      "metadata": {
        "id": "YhCMcPTQoj3H"
      }
    },
    {
      "cell_type": "code",
      "source": [
        "! pip install scikeras[tensorflow]\n",
        "# ! pip install --no-deps scikeras  # You can also install SciKeras without any dependencies"
      ],
      "metadata": {
        "id": "O_Do9yEurex1"
      },
      "execution_count": null,
      "outputs": []
    },
    {
      "cell_type": "markdown",
      "source": [
        "To use these wrappers, you must define a function that creates and returns your `Keras sequential model`, then pass this function to the model argument when constructing the `KerasClassifier` class.\n",
        "\n",
        "    def create_model():\n",
        "      ...\n",
        "      return model\n",
        "\n",
        "    model = KerasClassifier(model=create_model)\n",
        "\n",
        "The constructor for the KerasClassifier class can take default arguments that are `passed` on to the calls to `model.fit()`, such as the `number of epochs` and the `batch size`.\n",
        "\n",
        "    def create_model():\n",
        "      ...\n",
        "      return model\n",
        "\n",
        "    model = KerasClassifier(model=create_model, epochs=10)\n",
        "\n",
        "And new arguments can be defined in the signature of your `create_model()` function with default parameters.\n",
        "\n",
        "    def create_model(dropout_rate=0.0):\n",
        "    \t...\n",
        "    \treturn model\n",
        "\n",
        "    model = KerasClassifier(model=create_model, dropout_rate=0.2)"
      ],
      "metadata": {
        "id": "hZDux8Nlr4QL"
      }
    },
    {
      "cell_type": "markdown",
      "source": [
        "### Using Grid Search Algorithm\n",
        "\n",
        "In scikit-learn, this technique is provided in the `GridSearchCV` class.\n",
        "\n",
        "By default, the grid search will only use one thread. By setting the `n_jobs` argument in the GridSearchCV constructor to `-1`, the process will use `all cores` on your machine.\n",
        "\n",
        "The GridSearchCV process will then construct and evaluate one model for each combination of parameters. `Cross validation` is used to evaluate each individual model, and the default of `3-fold cross validation` is used, although you can `override` this by specifying the cv argument to the GridSearchCV constructor."
      ],
      "metadata": {
        "id": "q1Las7kIotFM"
      }
    },
    {
      "cell_type": "markdown",
      "source": [
        "    param_grid = {'epochs': [10,20,30]}\n",
        "    grid = GridSearchCV(estimator=model, param_grid=param_grid, n_jobs=-1, cv=3)\n",
        "    grid_result = grid.fit(X, Y)\n",
        "\n",
        "The `best_score_` member provides access to the best score observed during the optimization procedure, and the `best_params_` describes the `combination of parameters` that achieved the `best results`."
      ],
      "metadata": {
        "id": "stPr4v0-uLRe"
      }
    },
    {
      "cell_type": "markdown",
      "source": [
        "### Tuning Batch size and training epoch"
      ],
      "metadata": {
        "id": "JRoEKZ0Jox5L"
      }
    },
    {
      "cell_type": "markdown",
      "source": [
        "Load and Prepare Dataset - Locate your `kaggle.json` file into workspace, then run the command below"
      ],
      "metadata": {
        "id": "kmBj6OxcvapC"
      }
    },
    {
      "cell_type": "code",
      "source": [
        "! pip install -q kaggle\n",
        "\n",
        "#from google.colab import files\n",
        "# files.upload()\n",
        "\n",
        "! mkdir ~/.kaggle\n",
        "! cp kaggle.json ~/.kaggle/\n",
        "! chmod 600 ~/.kaggle/kaggle.json\n",
        "!kaggle datasets download -d kumargh/pimaindiansdiabetescsv"
      ],
      "metadata": {
        "colab": {
          "base_uri": "https://localhost:8080/"
        },
        "id": "h-mBvM_evaXb",
        "outputId": "3f57e048-63d2-4f5e-e629-cc0b0d3cb0c5"
      },
      "execution_count": 2,
      "outputs": [
        {
          "output_type": "stream",
          "name": "stdout",
          "text": [
            "Downloading pimaindiansdiabetescsv.zip to /content\n",
            "\r  0% 0.00/8.89k [00:00<?, ?B/s]\n",
            "\r100% 8.89k/8.89k [00:00<00:00, 11.1MB/s]\n"
          ]
        }
      ]
    },
    {
      "cell_type": "code",
      "source": [
        "import zipfile\n",
        "\n",
        "# Unzip the downloaded file\n",
        "def unzip_data(zip_file_name):\n",
        "  zip_ref = zipfile.ZipFile(zip_file_name, \"r\")\n",
        "  zip_ref.extractall()\n",
        "  zip_ref.close()"
      ],
      "metadata": {
        "id": "aXyUXC-qwFxR"
      },
      "execution_count": 3,
      "outputs": []
    },
    {
      "cell_type": "code",
      "source": [
        "unzip_data('/content/pimaindiansdiabetescsv.zip')"
      ],
      "metadata": {
        "id": "_OVLiLWiwGcL"
      },
      "execution_count": 4,
      "outputs": []
    },
    {
      "cell_type": "code",
      "source": [
        "import numpy as np\n",
        "\n",
        "DATASET_PATH = '/content/pima-indians-diabetes.csv'\n",
        "\n",
        "# Load dataset\n",
        "dataset = np.loadtxt(DATASET_PATH, delimiter=\",\")"
      ],
      "metadata": {
        "id": "SdAfHG32wQMq"
      },
      "execution_count": 5,
      "outputs": []
    },
    {
      "cell_type": "code",
      "source": [
        "import pandas as pd\n",
        "\n",
        "pd.DataFrame(dataset)"
      ],
      "metadata": {
        "colab": {
          "base_uri": "https://localhost:8080/",
          "height": 423
        },
        "id": "Si0AgceXxCyQ",
        "outputId": "3a4e72f9-605c-470a-ab88-8f13af5699a4"
      },
      "execution_count": 6,
      "outputs": [
        {
          "output_type": "execute_result",
          "data": {
            "text/plain": [
              "        0      1     2     3      4     5      6     7    8\n",
              "0     6.0  148.0  72.0  35.0    0.0  33.6  0.627  50.0  1.0\n",
              "1     1.0   85.0  66.0  29.0    0.0  26.6  0.351  31.0  0.0\n",
              "2     8.0  183.0  64.0   0.0    0.0  23.3  0.672  32.0  1.0\n",
              "3     1.0   89.0  66.0  23.0   94.0  28.1  0.167  21.0  0.0\n",
              "4     0.0  137.0  40.0  35.0  168.0  43.1  2.288  33.0  1.0\n",
              "..    ...    ...   ...   ...    ...   ...    ...   ...  ...\n",
              "763  10.0  101.0  76.0  48.0  180.0  32.9  0.171  63.0  0.0\n",
              "764   2.0  122.0  70.0  27.0    0.0  36.8  0.340  27.0  0.0\n",
              "765   5.0  121.0  72.0  23.0  112.0  26.2  0.245  30.0  0.0\n",
              "766   1.0  126.0  60.0   0.0    0.0  30.1  0.349  47.0  1.0\n",
              "767   1.0   93.0  70.0  31.0    0.0  30.4  0.315  23.0  0.0\n",
              "\n",
              "[768 rows x 9 columns]"
            ],
            "text/html": [
              "\n",
              "  <div id=\"df-968a5d12-eabe-4faf-92d8-c2535dedd1eb\" class=\"colab-df-container\">\n",
              "    <div>\n",
              "<style scoped>\n",
              "    .dataframe tbody tr th:only-of-type {\n",
              "        vertical-align: middle;\n",
              "    }\n",
              "\n",
              "    .dataframe tbody tr th {\n",
              "        vertical-align: top;\n",
              "    }\n",
              "\n",
              "    .dataframe thead th {\n",
              "        text-align: right;\n",
              "    }\n",
              "</style>\n",
              "<table border=\"1\" class=\"dataframe\">\n",
              "  <thead>\n",
              "    <tr style=\"text-align: right;\">\n",
              "      <th></th>\n",
              "      <th>0</th>\n",
              "      <th>1</th>\n",
              "      <th>2</th>\n",
              "      <th>3</th>\n",
              "      <th>4</th>\n",
              "      <th>5</th>\n",
              "      <th>6</th>\n",
              "      <th>7</th>\n",
              "      <th>8</th>\n",
              "    </tr>\n",
              "  </thead>\n",
              "  <tbody>\n",
              "    <tr>\n",
              "      <th>0</th>\n",
              "      <td>6.0</td>\n",
              "      <td>148.0</td>\n",
              "      <td>72.0</td>\n",
              "      <td>35.0</td>\n",
              "      <td>0.0</td>\n",
              "      <td>33.6</td>\n",
              "      <td>0.627</td>\n",
              "      <td>50.0</td>\n",
              "      <td>1.0</td>\n",
              "    </tr>\n",
              "    <tr>\n",
              "      <th>1</th>\n",
              "      <td>1.0</td>\n",
              "      <td>85.0</td>\n",
              "      <td>66.0</td>\n",
              "      <td>29.0</td>\n",
              "      <td>0.0</td>\n",
              "      <td>26.6</td>\n",
              "      <td>0.351</td>\n",
              "      <td>31.0</td>\n",
              "      <td>0.0</td>\n",
              "    </tr>\n",
              "    <tr>\n",
              "      <th>2</th>\n",
              "      <td>8.0</td>\n",
              "      <td>183.0</td>\n",
              "      <td>64.0</td>\n",
              "      <td>0.0</td>\n",
              "      <td>0.0</td>\n",
              "      <td>23.3</td>\n",
              "      <td>0.672</td>\n",
              "      <td>32.0</td>\n",
              "      <td>1.0</td>\n",
              "    </tr>\n",
              "    <tr>\n",
              "      <th>3</th>\n",
              "      <td>1.0</td>\n",
              "      <td>89.0</td>\n",
              "      <td>66.0</td>\n",
              "      <td>23.0</td>\n",
              "      <td>94.0</td>\n",
              "      <td>28.1</td>\n",
              "      <td>0.167</td>\n",
              "      <td>21.0</td>\n",
              "      <td>0.0</td>\n",
              "    </tr>\n",
              "    <tr>\n",
              "      <th>4</th>\n",
              "      <td>0.0</td>\n",
              "      <td>137.0</td>\n",
              "      <td>40.0</td>\n",
              "      <td>35.0</td>\n",
              "      <td>168.0</td>\n",
              "      <td>43.1</td>\n",
              "      <td>2.288</td>\n",
              "      <td>33.0</td>\n",
              "      <td>1.0</td>\n",
              "    </tr>\n",
              "    <tr>\n",
              "      <th>...</th>\n",
              "      <td>...</td>\n",
              "      <td>...</td>\n",
              "      <td>...</td>\n",
              "      <td>...</td>\n",
              "      <td>...</td>\n",
              "      <td>...</td>\n",
              "      <td>...</td>\n",
              "      <td>...</td>\n",
              "      <td>...</td>\n",
              "    </tr>\n",
              "    <tr>\n",
              "      <th>763</th>\n",
              "      <td>10.0</td>\n",
              "      <td>101.0</td>\n",
              "      <td>76.0</td>\n",
              "      <td>48.0</td>\n",
              "      <td>180.0</td>\n",
              "      <td>32.9</td>\n",
              "      <td>0.171</td>\n",
              "      <td>63.0</td>\n",
              "      <td>0.0</td>\n",
              "    </tr>\n",
              "    <tr>\n",
              "      <th>764</th>\n",
              "      <td>2.0</td>\n",
              "      <td>122.0</td>\n",
              "      <td>70.0</td>\n",
              "      <td>27.0</td>\n",
              "      <td>0.0</td>\n",
              "      <td>36.8</td>\n",
              "      <td>0.340</td>\n",
              "      <td>27.0</td>\n",
              "      <td>0.0</td>\n",
              "    </tr>\n",
              "    <tr>\n",
              "      <th>765</th>\n",
              "      <td>5.0</td>\n",
              "      <td>121.0</td>\n",
              "      <td>72.0</td>\n",
              "      <td>23.0</td>\n",
              "      <td>112.0</td>\n",
              "      <td>26.2</td>\n",
              "      <td>0.245</td>\n",
              "      <td>30.0</td>\n",
              "      <td>0.0</td>\n",
              "    </tr>\n",
              "    <tr>\n",
              "      <th>766</th>\n",
              "      <td>1.0</td>\n",
              "      <td>126.0</td>\n",
              "      <td>60.0</td>\n",
              "      <td>0.0</td>\n",
              "      <td>0.0</td>\n",
              "      <td>30.1</td>\n",
              "      <td>0.349</td>\n",
              "      <td>47.0</td>\n",
              "      <td>1.0</td>\n",
              "    </tr>\n",
              "    <tr>\n",
              "      <th>767</th>\n",
              "      <td>1.0</td>\n",
              "      <td>93.0</td>\n",
              "      <td>70.0</td>\n",
              "      <td>31.0</td>\n",
              "      <td>0.0</td>\n",
              "      <td>30.4</td>\n",
              "      <td>0.315</td>\n",
              "      <td>23.0</td>\n",
              "      <td>0.0</td>\n",
              "    </tr>\n",
              "  </tbody>\n",
              "</table>\n",
              "<p>768 rows × 9 columns</p>\n",
              "</div>\n",
              "    <div class=\"colab-df-buttons\">\n",
              "\n",
              "  <div class=\"colab-df-container\">\n",
              "    <button class=\"colab-df-convert\" onclick=\"convertToInteractive('df-968a5d12-eabe-4faf-92d8-c2535dedd1eb')\"\n",
              "            title=\"Convert this dataframe to an interactive table.\"\n",
              "            style=\"display:none;\">\n",
              "\n",
              "  <svg xmlns=\"http://www.w3.org/2000/svg\" height=\"24px\" viewBox=\"0 -960 960 960\">\n",
              "    <path d=\"M120-120v-720h720v720H120Zm60-500h600v-160H180v160Zm220 220h160v-160H400v160Zm0 220h160v-160H400v160ZM180-400h160v-160H180v160Zm440 0h160v-160H620v160ZM180-180h160v-160H180v160Zm440 0h160v-160H620v160Z\"/>\n",
              "  </svg>\n",
              "    </button>\n",
              "\n",
              "  <style>\n",
              "    .colab-df-container {\n",
              "      display:flex;\n",
              "      gap: 12px;\n",
              "    }\n",
              "\n",
              "    .colab-df-convert {\n",
              "      background-color: #E8F0FE;\n",
              "      border: none;\n",
              "      border-radius: 50%;\n",
              "      cursor: pointer;\n",
              "      display: none;\n",
              "      fill: #1967D2;\n",
              "      height: 32px;\n",
              "      padding: 0 0 0 0;\n",
              "      width: 32px;\n",
              "    }\n",
              "\n",
              "    .colab-df-convert:hover {\n",
              "      background-color: #E2EBFA;\n",
              "      box-shadow: 0px 1px 2px rgba(60, 64, 67, 0.3), 0px 1px 3px 1px rgba(60, 64, 67, 0.15);\n",
              "      fill: #174EA6;\n",
              "    }\n",
              "\n",
              "    .colab-df-buttons div {\n",
              "      margin-bottom: 4px;\n",
              "    }\n",
              "\n",
              "    [theme=dark] .colab-df-convert {\n",
              "      background-color: #3B4455;\n",
              "      fill: #D2E3FC;\n",
              "    }\n",
              "\n",
              "    [theme=dark] .colab-df-convert:hover {\n",
              "      background-color: #434B5C;\n",
              "      box-shadow: 0px 1px 3px 1px rgba(0, 0, 0, 0.15);\n",
              "      filter: drop-shadow(0px 1px 2px rgba(0, 0, 0, 0.3));\n",
              "      fill: #FFFFFF;\n",
              "    }\n",
              "  </style>\n",
              "\n",
              "    <script>\n",
              "      const buttonEl =\n",
              "        document.querySelector('#df-968a5d12-eabe-4faf-92d8-c2535dedd1eb button.colab-df-convert');\n",
              "      buttonEl.style.display =\n",
              "        google.colab.kernel.accessAllowed ? 'block' : 'none';\n",
              "\n",
              "      async function convertToInteractive(key) {\n",
              "        const element = document.querySelector('#df-968a5d12-eabe-4faf-92d8-c2535dedd1eb');\n",
              "        const dataTable =\n",
              "          await google.colab.kernel.invokeFunction('convertToInteractive',\n",
              "                                                    [key], {});\n",
              "        if (!dataTable) return;\n",
              "\n",
              "        const docLinkHtml = 'Like what you see? Visit the ' +\n",
              "          '<a target=\"_blank\" href=https://colab.research.google.com/notebooks/data_table.ipynb>data table notebook</a>'\n",
              "          + ' to learn more about interactive tables.';\n",
              "        element.innerHTML = '';\n",
              "        dataTable['output_type'] = 'display_data';\n",
              "        await google.colab.output.renderOutput(dataTable, element);\n",
              "        const docLink = document.createElement('div');\n",
              "        docLink.innerHTML = docLinkHtml;\n",
              "        element.appendChild(docLink);\n",
              "      }\n",
              "    </script>\n",
              "  </div>\n",
              "\n",
              "\n",
              "<div id=\"df-8e3d9488-4ec2-46da-a9f3-c2d9673cd58a\">\n",
              "  <button class=\"colab-df-quickchart\" onclick=\"quickchart('df-8e3d9488-4ec2-46da-a9f3-c2d9673cd58a')\"\n",
              "            title=\"Suggest charts.\"\n",
              "            style=\"display:none;\">\n",
              "\n",
              "<svg xmlns=\"http://www.w3.org/2000/svg\" height=\"24px\"viewBox=\"0 0 24 24\"\n",
              "     width=\"24px\">\n",
              "    <g>\n",
              "        <path d=\"M19 3H5c-1.1 0-2 .9-2 2v14c0 1.1.9 2 2 2h14c1.1 0 2-.9 2-2V5c0-1.1-.9-2-2-2zM9 17H7v-7h2v7zm4 0h-2V7h2v10zm4 0h-2v-4h2v4z\"/>\n",
              "    </g>\n",
              "</svg>\n",
              "  </button>\n",
              "\n",
              "<style>\n",
              "  .colab-df-quickchart {\n",
              "      --bg-color: #E8F0FE;\n",
              "      --fill-color: #1967D2;\n",
              "      --hover-bg-color: #E2EBFA;\n",
              "      --hover-fill-color: #174EA6;\n",
              "      --disabled-fill-color: #AAA;\n",
              "      --disabled-bg-color: #DDD;\n",
              "  }\n",
              "\n",
              "  [theme=dark] .colab-df-quickchart {\n",
              "      --bg-color: #3B4455;\n",
              "      --fill-color: #D2E3FC;\n",
              "      --hover-bg-color: #434B5C;\n",
              "      --hover-fill-color: #FFFFFF;\n",
              "      --disabled-bg-color: #3B4455;\n",
              "      --disabled-fill-color: #666;\n",
              "  }\n",
              "\n",
              "  .colab-df-quickchart {\n",
              "    background-color: var(--bg-color);\n",
              "    border: none;\n",
              "    border-radius: 50%;\n",
              "    cursor: pointer;\n",
              "    display: none;\n",
              "    fill: var(--fill-color);\n",
              "    height: 32px;\n",
              "    padding: 0;\n",
              "    width: 32px;\n",
              "  }\n",
              "\n",
              "  .colab-df-quickchart:hover {\n",
              "    background-color: var(--hover-bg-color);\n",
              "    box-shadow: 0 1px 2px rgba(60, 64, 67, 0.3), 0 1px 3px 1px rgba(60, 64, 67, 0.15);\n",
              "    fill: var(--button-hover-fill-color);\n",
              "  }\n",
              "\n",
              "  .colab-df-quickchart-complete:disabled,\n",
              "  .colab-df-quickchart-complete:disabled:hover {\n",
              "    background-color: var(--disabled-bg-color);\n",
              "    fill: var(--disabled-fill-color);\n",
              "    box-shadow: none;\n",
              "  }\n",
              "\n",
              "  .colab-df-spinner {\n",
              "    border: 2px solid var(--fill-color);\n",
              "    border-color: transparent;\n",
              "    border-bottom-color: var(--fill-color);\n",
              "    animation:\n",
              "      spin 1s steps(1) infinite;\n",
              "  }\n",
              "\n",
              "  @keyframes spin {\n",
              "    0% {\n",
              "      border-color: transparent;\n",
              "      border-bottom-color: var(--fill-color);\n",
              "      border-left-color: var(--fill-color);\n",
              "    }\n",
              "    20% {\n",
              "      border-color: transparent;\n",
              "      border-left-color: var(--fill-color);\n",
              "      border-top-color: var(--fill-color);\n",
              "    }\n",
              "    30% {\n",
              "      border-color: transparent;\n",
              "      border-left-color: var(--fill-color);\n",
              "      border-top-color: var(--fill-color);\n",
              "      border-right-color: var(--fill-color);\n",
              "    }\n",
              "    40% {\n",
              "      border-color: transparent;\n",
              "      border-right-color: var(--fill-color);\n",
              "      border-top-color: var(--fill-color);\n",
              "    }\n",
              "    60% {\n",
              "      border-color: transparent;\n",
              "      border-right-color: var(--fill-color);\n",
              "    }\n",
              "    80% {\n",
              "      border-color: transparent;\n",
              "      border-right-color: var(--fill-color);\n",
              "      border-bottom-color: var(--fill-color);\n",
              "    }\n",
              "    90% {\n",
              "      border-color: transparent;\n",
              "      border-bottom-color: var(--fill-color);\n",
              "    }\n",
              "  }\n",
              "</style>\n",
              "\n",
              "  <script>\n",
              "    async function quickchart(key) {\n",
              "      const quickchartButtonEl =\n",
              "        document.querySelector('#' + key + ' button');\n",
              "      quickchartButtonEl.disabled = true;  // To prevent multiple clicks.\n",
              "      quickchartButtonEl.classList.add('colab-df-spinner');\n",
              "      try {\n",
              "        const charts = await google.colab.kernel.invokeFunction(\n",
              "            'suggestCharts', [key], {});\n",
              "      } catch (error) {\n",
              "        console.error('Error during call to suggestCharts:', error);\n",
              "      }\n",
              "      quickchartButtonEl.classList.remove('colab-df-spinner');\n",
              "      quickchartButtonEl.classList.add('colab-df-quickchart-complete');\n",
              "    }\n",
              "    (() => {\n",
              "      let quickchartButtonEl =\n",
              "        document.querySelector('#df-8e3d9488-4ec2-46da-a9f3-c2d9673cd58a button');\n",
              "      quickchartButtonEl.style.display =\n",
              "        google.colab.kernel.accessAllowed ? 'block' : 'none';\n",
              "    })();\n",
              "  </script>\n",
              "</div>\n",
              "    </div>\n",
              "  </div>\n"
            ]
          },
          "metadata": {},
          "execution_count": 6
        }
      ]
    },
    {
      "cell_type": "code",
      "source": [
        "# split dataset into input (X) and output (Y) variables\n",
        "X = dataset[:,0:8]\n",
        "Y = dataset[:,8]"
      ],
      "metadata": {
        "id": "_5STEaJmxa4F"
      },
      "execution_count": 7,
      "outputs": []
    },
    {
      "cell_type": "code",
      "source": [
        "from scikeras.wrappers import KerasClassifier\n",
        "import tensorflow as tf\n",
        "from sklearn.model_selection import GridSearchCV\n",
        "from tensorflow.keras.models import Sequential\n",
        "from tensorflow.keras.layers import Dense\n",
        "from scikeras.wrappers import KerasClassifier\n",
        "\n",
        "# Function to create model, required for KerasClassifier\n",
        "def create_model():\n",
        "  model = Sequential([\n",
        "      Dense(12, input_shape=(8,), activation='relu'),\n",
        "      Dense(1, activation='sigmoid')\n",
        "  ])\n",
        "\n",
        "  # Compile model\n",
        "  model.compile(loss='binary_crossentropy', optimizer='adam', metrics=['accuracy'])\n",
        "  return model"
      ],
      "metadata": {
        "id": "b5SCdbhBo40z"
      },
      "execution_count": 8,
      "outputs": []
    },
    {
      "cell_type": "code",
      "source": [
        "SEED = 7\n",
        "BATCH_SIZE_TABLE = [10, 20, 40, 60, 80, 100]\n",
        "EPOCHS_TABLE = [10, 50, 100]\n",
        "\n",
        "# fix random seed for reproducibility\n",
        "tf.random.set_seed(SEED)\n",
        "\n",
        "# Set Grid search parameter dictionary\n",
        "# param_grid = dict(batch_size=BATCH_SIZE_TABLE, epochs=EPOCHS_TABLE)\n",
        "param_grid = {\n",
        "    'batch_size': BATCH_SIZE_TABLE,\n",
        "    'epochs': EPOCHS_TABLE\n",
        "    }"
      ],
      "metadata": {
        "id": "wHZUPvFxw31C"
      },
      "execution_count": 9,
      "outputs": []
    },
    {
      "cell_type": "code",
      "source": [
        "def grid_search_report(grid_result):\n",
        "  # Grid Search Algortihm results\n",
        "  print(\"Best score: %f using %s parameters\" % (grid_result.best_score_, grid_result.best_params_))\n",
        "  means = grid_result.cv_results_['mean_test_score']\n",
        "  stds = grid_result.cv_results_['std_test_score']\n",
        "  params = grid_result.cv_results_['params']\n",
        "  for mean, stdev, param in zip(means, stds, params):\n",
        "    print(\"Mean: %f,  Std_dev.: (%f) with: %r\" % (mean, stdev, param))"
      ],
      "metadata": {
        "id": "cE8Jz9nqOxLf"
      },
      "execution_count": 10,
      "outputs": []
    },
    {
      "cell_type": "markdown",
      "source": [
        "Create model using KerasClassifier"
      ],
      "metadata": {
        "id": "anyq1f-mx7Ua"
      }
    },
    {
      "cell_type": "code",
      "source": [
        "# create model\n",
        "model = KerasClassifier(model=create_model, verbose=0)"
      ],
      "metadata": {
        "id": "asb8m7ooyAlW"
      },
      "execution_count": 11,
      "outputs": []
    },
    {
      "cell_type": "markdown",
      "source": [
        "Run Grid Search Algorithm on Keras model"
      ],
      "metadata": {
        "id": "haMTsMeeyA8S"
      }
    },
    {
      "cell_type": "code",
      "source": [
        "grid = GridSearchCV(estimator=model, param_grid=param_grid, n_jobs=-1, cv=3)\n",
        "grid_result = grid.fit(X, Y)"
      ],
      "metadata": {
        "id": "JP07Dabwo7m-"
      },
      "execution_count": 12,
      "outputs": []
    },
    {
      "cell_type": "code",
      "source": [
        "# Report Grid Search Algorithm results for given model\n",
        "grid_search_report(grid_result)"
      ],
      "metadata": {
        "colab": {
          "base_uri": "https://localhost:8080/"
        },
        "id": "FGtmjGDnPeE2",
        "outputId": "901d5275-b115-4a1a-eb02-ded6ca3a05fa"
      },
      "execution_count": 13,
      "outputs": [
        {
          "output_type": "stream",
          "name": "stdout",
          "text": [
            "Best score: 0.691406 using {'batch_size': 10, 'epochs': 50} parameters\n",
            "Mean: 0.572917,  Std_dev.: (0.060878) with: {'batch_size': 10, 'epochs': 10}\n",
            "Mean: 0.691406,  Std_dev.: (0.041463) with: {'batch_size': 10, 'epochs': 50}\n",
            "Mean: 0.678385,  Std_dev.: (0.041626) with: {'batch_size': 10, 'epochs': 100}\n",
            "Mean: 0.605469,  Std_dev.: (0.038670) with: {'batch_size': 20, 'epochs': 10}\n",
            "Mean: 0.674479,  Std_dev.: (0.025582) with: {'batch_size': 20, 'epochs': 50}\n",
            "Mean: 0.671875,  Std_dev.: (0.016573) with: {'batch_size': 20, 'epochs': 100}\n",
            "Mean: 0.552083,  Std_dev.: (0.094309) with: {'batch_size': 40, 'epochs': 10}\n",
            "Mean: 0.662760,  Std_dev.: (0.031948) with: {'batch_size': 40, 'epochs': 50}\n",
            "Mean: 0.660156,  Std_dev.: (0.016573) with: {'batch_size': 40, 'epochs': 100}\n",
            "Mean: 0.566406,  Std_dev.: (0.078579) with: {'batch_size': 60, 'epochs': 10}\n",
            "Mean: 0.638021,  Std_dev.: (0.021236) with: {'batch_size': 60, 'epochs': 50}\n",
            "Mean: 0.639323,  Std_dev.: (0.012075) with: {'batch_size': 60, 'epochs': 100}\n",
            "Mean: 0.600260,  Std_dev.: (0.023939) with: {'batch_size': 80, 'epochs': 10}\n",
            "Mean: 0.621094,  Std_dev.: (0.064739) with: {'batch_size': 80, 'epochs': 50}\n",
            "Mean: 0.674479,  Std_dev.: (0.019488) with: {'batch_size': 80, 'epochs': 100}\n",
            "Mean: 0.503906,  Std_dev.: (0.135767) with: {'batch_size': 100, 'epochs': 10}\n",
            "Mean: 0.584635,  Std_dev.: (0.064765) with: {'batch_size': 100, 'epochs': 50}\n",
            "Mean: 0.614583,  Std_dev.: (0.034104) with: {'batch_size': 100, 'epochs': 100}\n"
          ]
        }
      ]
    },
    {
      "cell_type": "markdown",
      "source": [
        "### Tuning Optimization Algorithms"
      ],
      "metadata": {
        "id": "IPq2JqNNo8nx"
      }
    },
    {
      "cell_type": "code",
      "source": [
        "OPTIMIZER_TABLE = ['SGD', 'RMSprop', 'Adagrad', 'Adadelta', 'Adam', 'Adamax', 'Nadam']\n",
        "\n",
        "# Set Grid search parameter dictionary\n",
        "# param_grid = dict(batch_size=BATCH_SIZE_TABLE, epochs=EPOCHS_TABLE)\n",
        "param_grid = {\n",
        "    'optimizer': OPTIMIZER_TABLE\n",
        "    }"
      ],
      "metadata": {
        "id": "o0pWybwupAik"
      },
      "execution_count": 17,
      "outputs": []
    },
    {
      "cell_type": "code",
      "source": [
        "# create model\n",
        "model = KerasClassifier(model=create_model, loss=\"binary_crossentropy\", epochs=100, batch_size=10, verbose=0)"
      ],
      "metadata": {
        "id": "SWoqHQg8pAKT"
      },
      "execution_count": 18,
      "outputs": []
    },
    {
      "cell_type": "code",
      "source": [
        "grid = GridSearchCV(estimator=model, param_grid=param_grid, n_jobs=-1, cv=3)\n",
        "grid_result = grid.fit(X, Y)\n",
        "# Report Grid Search Algorithm results for given model\n",
        "grid_search_report(grid_result)"
      ],
      "metadata": {
        "colab": {
          "base_uri": "https://localhost:8080/"
        },
        "id": "OSTHSpGhNUlx",
        "outputId": "53c5b177-de40-47f1-b98f-72b36c5d7985"
      },
      "execution_count": 19,
      "outputs": [
        {
          "output_type": "stream",
          "name": "stdout",
          "text": [
            "Best score: 0.720052 using {'optimizer': 'SGD'} parameters\n",
            "Mean: 0.720052,  Std_dev.: (0.023510) with: {'optimizer': 'SGD'}\n",
            "Mean: 0.696615,  Std_dev.: (0.023073) with: {'optimizer': 'RMSprop'}\n",
            "Mean: 0.691406,  Std_dev.: (0.027621) with: {'optimizer': 'Adagrad'}\n",
            "Mean: 0.669271,  Std_dev.: (0.038318) with: {'optimizer': 'Adadelta'}\n",
            "Mean: 0.714844,  Std_dev.: (0.030758) with: {'optimizer': 'Adam'}\n",
            "Mean: 0.664062,  Std_dev.: (0.008438) with: {'optimizer': 'Adamax'}\n",
            "Mean: 0.688802,  Std_dev.: (0.067382) with: {'optimizer': 'Nadam'}\n"
          ]
        }
      ]
    },
    {
      "cell_type": "markdown",
      "source": [
        "The KerasClassifier wrapper `will not compile your model again` if the model is `already compiled`. Hence the other way to run GridSearchCV is to set the optimizer as an argument to the create_model() function, which returns an appropriately compiled model like the following:"
      ],
      "metadata": {
        "id": "YOxysJVkQqti"
      }
    },
    {
      "cell_type": "code",
      "source": [
        "# Function to create model, required for KerasClassifier\n",
        "def create_model(optimizer='Adam'):\n",
        "  model = Sequential([\n",
        "      Dense(12, input_shape=(8,), activation='relu'),\n",
        "      Dense(1, activation='sigmoid')\n",
        "  ])\n",
        "\n",
        "  # Compile model\n",
        "  model.compile(loss='binary_crossentropy', optimizer=optimizer, metrics=['accuracy'])\n",
        "  return model\n",
        "\n",
        "# create model\n",
        "model = KerasClassifier(model=create_model, epochs=100, batch_size=10, verbose=0)"
      ],
      "metadata": {
        "id": "2S_wdXB9TAI2"
      },
      "execution_count": 20,
      "outputs": []
    },
    {
      "cell_type": "code",
      "source": [
        "# Set Grid search parameter dictionary\n",
        "# param_grid = dict(batch_size=BATCH_SIZE_TABLE, epochs=EPOCHS_TABLE)\n",
        "param_grid = {\n",
        "    'model__optimizer': OPTIMIZER_TABLE\n",
        "    }"
      ],
      "metadata": {
        "id": "eSgaRepZNUjT"
      },
      "execution_count": 21,
      "outputs": []
    },
    {
      "cell_type": "markdown",
      "source": [
        "Note that in the above, you have the prefix model__ in the parameter dictionary param_grid. This is required for the KerasClassifier in the SciKeras module to make clear that the parameter needs to route into the create_model() function as arguments, rather than some parameter to set up in compile() or fit(). See also the routed parameter section of SciKeras documentation."
      ],
      "metadata": {
        "id": "P4IQLL1tSWf3"
      }
    },
    {
      "cell_type": "code",
      "source": [
        "# Run Grid Search Algorithm and Report the results for given model\n",
        "grid_search_report(GridSearchCV(estimator=model, param_grid=param_grid, n_jobs=-1, cv=3).fit(X, Y))"
      ],
      "metadata": {
        "colab": {
          "base_uri": "https://localhost:8080/"
        },
        "id": "3rAoilNVR1ku",
        "outputId": "58305676-534a-4b9f-b784-eb16623a734b"
      },
      "execution_count": 22,
      "outputs": [
        {
          "output_type": "stream",
          "name": "stdout",
          "text": [
            "Best score: 0.712240 using {'model__optimizer': 'Adam'} parameters\n",
            "Mean: 0.649740,  Std_dev.: (0.003683) with: {'model__optimizer': 'SGD'}\n",
            "Mean: 0.679688,  Std_dev.: (0.042910) with: {'model__optimizer': 'RMSprop'}\n",
            "Mean: 0.597656,  Std_dev.: (0.033299) with: {'model__optimizer': 'Adagrad'}\n",
            "Mean: 0.526042,  Std_dev.: (0.062201) with: {'model__optimizer': 'Adadelta'}\n",
            "Mean: 0.712240,  Std_dev.: (0.015733) with: {'model__optimizer': 'Adam'}\n",
            "Mean: 0.703125,  Std_dev.: (0.019137) with: {'model__optimizer': 'Adamax'}\n",
            "Mean: 0.695312,  Std_dev.: (0.044993) with: {'model__optimizer': 'Nadam'}\n"
          ]
        }
      ]
    },
    {
      "cell_type": "markdown",
      "source": [
        "### Tuning Learning rate and Momentum\n",
        "\n",
        "It is common to `pre-select` an `optimization algorithm` to train your network and tune its parameters.\n",
        "\n"
      ],
      "metadata": {
        "id": "IJ77MC5WpA3A"
      }
    },
    {
      "cell_type": "code",
      "source": [
        "# Function to create model, required for KerasClassifier\n",
        "def create_model():\n",
        "  model = Sequential([\n",
        "      Dense(12, input_shape=(8,), activation='relu'),\n",
        "      Dense(1, activation='sigmoid')\n",
        "  ])\n",
        "\n",
        "  # Compile model\n",
        "  model.compile(loss='binary_crossentropy', optimizer='adam', metrics=['accuracy'])\n",
        "  return model\n",
        "\n",
        "model = KerasClassifier(model=create_model, loss=\"binary_crossentropy\", optimizer=\"Adam\", epochs=100, batch_size=10, verbose=0)"
      ],
      "metadata": {
        "id": "o3u4gAOtpE55"
      },
      "execution_count": 11,
      "outputs": []
    },
    {
      "cell_type": "code",
      "source": [
        "LEARNING_RATE_TABLE = [0.001, 0.01, 0.1, 0.2, 0.3]\n",
        "MOMENTUM_TABLE = [0.0, 0.2, 0.4, 0.6, 0.8, 0.9]\n",
        "\n",
        "# Set Grid search parameter dictionary\n",
        "# param_grid = dict(batch_size=BATCH_SIZE_TABLE, epochs=EPOCHS_TABLE)\n",
        "param_grid = {\n",
        "    'optimizer__learning_rate': LEARNING_RATE_TABLE,\n",
        "    'optimizer__momentum':      MOMENTUM_TABLE\n",
        "    }"
      ],
      "metadata": {
        "id": "dOUNdzD5pI2_"
      },
      "execution_count": 13,
      "outputs": []
    },
    {
      "cell_type": "code",
      "source": [
        "# Run Grid Search Algorithm and Report the results for given model\n",
        "grid_search_report(GridSearchCV(estimator=model, param_grid=param_grid, n_jobs=-1, cv=3, verbose=3).fit(X, Y))"
      ],
      "metadata": {
        "id": "gkPw5LepUIyM"
      },
      "execution_count": null,
      "outputs": []
    },
    {
      "cell_type": "markdown",
      "source": [
        "### Tuning network weight initialization\n",
        "\n",
        "Initialize the model's weights with `small random values`.\n",
        "\n",
        "We will use the `same weight initialization method` on each layer. Ideally, it may be better to use `different weight initialization` schemes `according to the activation function` used on each layer.\n",
        "\n",
        "We will use a `rectifier` for the `hidden layer`. Use `sigmoid` for the `output layer` because the `predictions are binary`.\n",
        "\n",
        "We need to use the `model__init_mode` prefix to ask the KerasClassifier to route the parameter to the model creation function."
      ],
      "metadata": {
        "id": "XUiO18R6pJDU"
      }
    },
    {
      "cell_type": "code",
      "source": [
        "# Function to create model, required for KerasClassifier\n",
        "def create_model(init_mode='uniform'):\n",
        "  model = Sequential([\n",
        "      Dense(12, input_shape=(8,), kernel_initializer=init_mode, activation='relu'),\n",
        "      Dense(1, kernel_initializer=init_mode, activation='sigmoid')\n",
        "  ])\n",
        "\n",
        "  # Compile model\n",
        "  model.compile(loss='binary_crossentropy', optimizer='adam', metrics=['accuracy'])\n",
        "  return model\n",
        "\n",
        "model = KerasClassifier(model=create_model, epochs=100, batch_size=10, verbose=0)"
      ],
      "metadata": {
        "id": "n51S7hAzpP5f"
      },
      "execution_count": 15,
      "outputs": []
    },
    {
      "cell_type": "code",
      "source": [
        "WEIGHTS_INIT_MODE_TABLE = ['uniform', 'lecun_uniform', 'normal', 'zero', 'glorot_normal', 'glorot_uniform', 'he_normal', 'he_uniform']\n",
        "\n",
        "# Set Grid search parameter dictionary\n",
        "# param_grid = dict(batch_size=BATCH_SIZE_TABLE, epochs=EPOCHS_TABLE)\n",
        "param_grid = {\n",
        "    'model__init_mode': WEIGHTS_INIT_MODE_TABLE\n",
        "    }"
      ],
      "metadata": {
        "id": "emxhfq2bpQVV"
      },
      "execution_count": 16,
      "outputs": []
    },
    {
      "cell_type": "code",
      "source": [
        "# Run Grid Search Algorithm and Report the results for given model\n",
        "grid_search_report(GridSearchCV(estimator=model, param_grid=param_grid, n_jobs=-1, cv=3, verbose=3).fit(X, Y))"
      ],
      "metadata": {
        "colab": {
          "base_uri": "https://localhost:8080/"
        },
        "id": "ZSMbLVllVvd6",
        "outputId": "1a7577fc-2cc0-4c46-e682-a8ba7d3cdab2"
      },
      "execution_count": 19,
      "outputs": [
        {
          "output_type": "stream",
          "name": "stdout",
          "text": [
            "Fitting 3 folds for each of 8 candidates, totalling 24 fits\n",
            "Best score: 0.722656 using {'model__init_mode': 'uniform'} parameters\n",
            "Mean: 0.722656,  Std_dev.: (0.011500) with: {'model__init_mode': 'uniform'}\n",
            "Mean: 0.701823,  Std_dev.: (0.038450) with: {'model__init_mode': 'lecun_uniform'}\n",
            "Mean: 0.722656,  Std_dev.: (0.022326) with: {'model__init_mode': 'normal'}\n",
            "Mean: 0.651042,  Std_dev.: (0.001841) with: {'model__init_mode': 'zero'}\n",
            "Mean: 0.680990,  Std_dev.: (0.008027) with: {'model__init_mode': 'glorot_normal'}\n",
            "Mean: 0.704427,  Std_dev.: (0.022402) with: {'model__init_mode': 'glorot_uniform'}\n",
            "Mean: 0.686198,  Std_dev.: (0.012890) with: {'model__init_mode': 'he_normal'}\n",
            "Mean: 0.670573,  Std_dev.: (0.008027) with: {'model__init_mode': 'he_uniform'}\n"
          ]
        }
      ]
    },
    {
      "cell_type": "markdown",
      "source": [
        "### Tuning Activation Functions\n",
        "\n",
        "The activation function controls the `non-linearity of individual neurons` and when to fire.\n",
        "\n",
        "We will only use updatable activation functions in the hidden layer, as a `sigmoid` activation function is required in the `output` for the `binary classification` problem.\n",
        "\n",
        "Similar to the previous example, this is an argument to the create_model() function, and we will use the `model__activation` prefix for the GridSearchCV parameter grid."
      ],
      "metadata": {
        "id": "DLMDgABVpQo7"
      }
    },
    {
      "cell_type": "code",
      "source": [
        "# Function to create model, required for KerasClassifier\n",
        "def create_model(activation='relu'):\n",
        "  model = Sequential([\n",
        "      Dense(12, input_shape=(8,), kernel_initializer='uniform', activation=activation),\n",
        "      Dense(1, kernel_initializer='uniform', activation='sigmoid')\n",
        "  ])\n",
        "\n",
        "  # Compile model\n",
        "  model.compile(loss='binary_crossentropy', optimizer='adam', metrics=['accuracy'])\n",
        "  return model\n",
        "\n",
        "model = KerasClassifier(model=create_model, epochs=100, batch_size=10, verbose=0)"
      ],
      "metadata": {
        "id": "wV98d4ijpTZl"
      },
      "execution_count": 20,
      "outputs": []
    },
    {
      "cell_type": "code",
      "source": [
        "ACTIVATION_FUNC_TABLE = ['softmax', 'softplus', 'softsign', 'relu', 'tanh', 'sigmoid', 'hard_sigmoid', 'linear']\n",
        "\n",
        "# Set Grid search parameter dictionary\n",
        "# param_grid = dict(batch_size=BATCH_SIZE_TABLE, epochs=EPOCHS_TABLE)\n",
        "param_grid = {\n",
        "    'model__activation': ACTIVATION_FUNC_TABLE\n",
        "    }"
      ],
      "metadata": {
        "id": "fTMMi4f7pUI6"
      },
      "execution_count": 21,
      "outputs": []
    },
    {
      "cell_type": "code",
      "source": [
        "# Run Grid Search Algorithm and Report the results for given model\n",
        "grid_search_report(GridSearchCV(estimator=model, param_grid=param_grid, n_jobs=-1, cv=3).fit(X, Y))"
      ],
      "metadata": {
        "colab": {
          "base_uri": "https://localhost:8080/"
        },
        "id": "LpI7TQjLXZ4t",
        "outputId": "881f7aee-0242-4a2a-ec8b-8e9a422b90cb"
      },
      "execution_count": 22,
      "outputs": [
        {
          "output_type": "stream",
          "name": "stdout",
          "text": [
            "Best score: 0.734375 using {'model__activation': 'softplus'} parameters\n",
            "Mean: 0.665365,  Std_dev.: (0.024150) with: {'model__activation': 'softmax'}\n",
            "Mean: 0.734375,  Std_dev.: (0.020915) with: {'model__activation': 'softplus'}\n",
            "Mean: 0.664062,  Std_dev.: (0.012758) with: {'model__activation': 'softsign'}\n",
            "Mean: 0.704427,  Std_dev.: (0.040637) with: {'model__activation': 'relu'}\n",
            "Mean: 0.674479,  Std_dev.: (0.028587) with: {'model__activation': 'tanh'}\n",
            "Mean: 0.674479,  Std_dev.: (0.001841) with: {'model__activation': 'sigmoid'}\n",
            "Mean: 0.688802,  Std_dev.: (0.035564) with: {'model__activation': 'hard_sigmoid'}\n",
            "Mean: 0.718750,  Std_dev.: (0.009568) with: {'model__activation': 'linear'}\n"
          ]
        }
      ]
    },
    {
      "cell_type": "markdown",
      "source": [
        "### Tuning dropout regularization\n",
        "\n",
        "We will look at tuning the `dropout rate` for `regularization` in an effort to `limit overfitting` and `improve` the model’s ability to `generalize`.\n",
        "\n",
        "For the best results, dropout is best `combined` with a `weight constraint` such as the `max norm constraint`.\n",
        "\n",
        "[Dropout Regularization in Deep Learning Models with Keras](https://machinelearningmastery.com/dropout-regularization-deep-learning-models-keras/)\n",
        "\n",
        "We will try dropout percentages between `0.0` and `0.9` (1.0 does not make sense) and `maxnorm weight constraint` values between `0` and `5`."
      ],
      "metadata": {
        "id": "4UZx1Cd1pUgm"
      }
    },
    {
      "cell_type": "code",
      "source": [
        "from tensorflow.keras.constraints import MaxNorm\n",
        "from tensorflow.keras.layers import Dropout\n",
        "\n",
        "# Function to create model, required for KerasClassifier\n",
        "def create_model(dropout_rate, weight_constraint):\n",
        "  model = Sequential([\n",
        "      Dense(12, input_shape=(8,), kernel_initializer='uniform',\n",
        "            activation='linear', kernel_constraint=MaxNorm(weight_constraint)),\n",
        "      Dropout(dropout_rate),\n",
        "      Dense(1, kernel_initializer='uniform', activation='sigmoid')\n",
        "  ])\n",
        "\n",
        "  # Compile model\n",
        "  model.compile(loss='binary_crossentropy', optimizer='adam', metrics=['accuracy'])\n",
        "  return model\n",
        "\n",
        "model = KerasClassifier(model=create_model, epochs=100, batch_size=10, verbose=0)"
      ],
      "metadata": {
        "id": "7112dolDpXwR"
      },
      "execution_count": 23,
      "outputs": []
    },
    {
      "cell_type": "code",
      "source": [
        "WEIGHT_CONSTRAINT_TABLE = [1.0, 2.0, 3.0, 4.0, 5.0]\n",
        "DROPOUT_RATE_TABLE = [0.0, 0.1, 0.2, 0.3, 0.4, 0.5, 0.6, 0.7, 0.8, 0.9]\n",
        "\n",
        "# Set Grid search parameter dictionary\n",
        "# param_grid = dict(batch_size=BATCH_SIZE_TABLE, epochs=EPOCHS_TABLE)\n",
        "param_grid = {\n",
        "    'model__dropout_rate': DROPOUT_RATE_TABLE,\n",
        "    'model__weight_constraint': WEIGHT_CONSTRAINT_TABLE\n",
        "    }"
      ],
      "metadata": {
        "id": "cgFZdFy4pZfw"
      },
      "execution_count": 24,
      "outputs": []
    },
    {
      "cell_type": "code",
      "source": [
        "# Run Grid Search Algorithm and Report the results for given model\n",
        "grid_search_report(GridSearchCV(estimator=model, param_grid=param_grid, n_jobs=-1, cv=3).fit(X, Y))"
      ],
      "metadata": {
        "colab": {
          "base_uri": "https://localhost:8080/"
        },
        "id": "4zig8Mgndu1F",
        "outputId": "5de844aa-b819-45e3-9c67-6435989bc3a5"
      },
      "execution_count": 25,
      "outputs": [
        {
          "output_type": "stream",
          "name": "stdout",
          "text": [
            "Best score: 0.723958 using {'model__dropout_rate': 0.4, 'model__weight_constraint': 4.0} parameters\n",
            "Mean: 0.703125,  Std_dev.: (0.014616) with: {'model__dropout_rate': 0.0, 'model__weight_constraint': 1.0}\n",
            "Mean: 0.701823,  Std_dev.: (0.004872) with: {'model__dropout_rate': 0.0, 'model__weight_constraint': 2.0}\n",
            "Mean: 0.718750,  Std_dev.: (0.014616) with: {'model__dropout_rate': 0.0, 'model__weight_constraint': 3.0}\n",
            "Mean: 0.713542,  Std_dev.: (0.009744) with: {'model__dropout_rate': 0.0, 'model__weight_constraint': 4.0}\n",
            "Mean: 0.704427,  Std_dev.: (0.006639) with: {'model__dropout_rate': 0.0, 'model__weight_constraint': 5.0}\n",
            "Mean: 0.707031,  Std_dev.: (0.003189) with: {'model__dropout_rate': 0.1, 'model__weight_constraint': 1.0}\n",
            "Mean: 0.707031,  Std_dev.: (0.012758) with: {'model__dropout_rate': 0.1, 'model__weight_constraint': 2.0}\n",
            "Mean: 0.713542,  Std_dev.: (0.011201) with: {'model__dropout_rate': 0.1, 'model__weight_constraint': 3.0}\n",
            "Mean: 0.709635,  Std_dev.: (0.016053) with: {'model__dropout_rate': 0.1, 'model__weight_constraint': 4.0}\n",
            "Mean: 0.695312,  Std_dev.: (0.016877) with: {'model__dropout_rate': 0.1, 'model__weight_constraint': 5.0}\n",
            "Mean: 0.714844,  Std_dev.: (0.003189) with: {'model__dropout_rate': 0.2, 'model__weight_constraint': 1.0}\n",
            "Mean: 0.703125,  Std_dev.: (0.014616) with: {'model__dropout_rate': 0.2, 'model__weight_constraint': 2.0}\n",
            "Mean: 0.720052,  Std_dev.: (0.018136) with: {'model__dropout_rate': 0.2, 'model__weight_constraint': 3.0}\n",
            "Mean: 0.708333,  Std_dev.: (0.003683) with: {'model__dropout_rate': 0.2, 'model__weight_constraint': 4.0}\n",
            "Mean: 0.697917,  Std_dev.: (0.007366) with: {'model__dropout_rate': 0.2, 'model__weight_constraint': 5.0}\n",
            "Mean: 0.704427,  Std_dev.: (0.006639) with: {'model__dropout_rate': 0.3, 'model__weight_constraint': 1.0}\n",
            "Mean: 0.720052,  Std_dev.: (0.015733) with: {'model__dropout_rate': 0.3, 'model__weight_constraint': 2.0}\n",
            "Mean: 0.713542,  Std_dev.: (0.001841) with: {'model__dropout_rate': 0.3, 'model__weight_constraint': 3.0}\n",
            "Mean: 0.707031,  Std_dev.: (0.008438) with: {'model__dropout_rate': 0.3, 'model__weight_constraint': 4.0}\n",
            "Mean: 0.720052,  Std_dev.: (0.004872) with: {'model__dropout_rate': 0.3, 'model__weight_constraint': 5.0}\n",
            "Mean: 0.712240,  Std_dev.: (0.009744) with: {'model__dropout_rate': 0.4, 'model__weight_constraint': 1.0}\n",
            "Mean: 0.700521,  Std_dev.: (0.009207) with: {'model__dropout_rate': 0.4, 'model__weight_constraint': 2.0}\n",
            "Mean: 0.708333,  Std_dev.: (0.003683) with: {'model__dropout_rate': 0.4, 'model__weight_constraint': 3.0}\n",
            "Mean: 0.723958,  Std_dev.: (0.007366) with: {'model__dropout_rate': 0.4, 'model__weight_constraint': 4.0}\n",
            "Mean: 0.708333,  Std_dev.: (0.008027) with: {'model__dropout_rate': 0.4, 'model__weight_constraint': 5.0}\n",
            "Mean: 0.694010,  Std_dev.: (0.019225) with: {'model__dropout_rate': 0.5, 'model__weight_constraint': 1.0}\n",
            "Mean: 0.713542,  Std_dev.: (0.006639) with: {'model__dropout_rate': 0.5, 'model__weight_constraint': 2.0}\n",
            "Mean: 0.695312,  Std_dev.: (0.003189) with: {'model__dropout_rate': 0.5, 'model__weight_constraint': 3.0}\n",
            "Mean: 0.694010,  Std_dev.: (0.006639) with: {'model__dropout_rate': 0.5, 'model__weight_constraint': 4.0}\n",
            "Mean: 0.695312,  Std_dev.: (0.009568) with: {'model__dropout_rate': 0.5, 'model__weight_constraint': 5.0}\n",
            "Mean: 0.700521,  Std_dev.: (0.010253) with: {'model__dropout_rate': 0.6, 'model__weight_constraint': 1.0}\n",
            "Mean: 0.708333,  Std_dev.: (0.003683) with: {'model__dropout_rate': 0.6, 'model__weight_constraint': 2.0}\n",
            "Mean: 0.704427,  Std_dev.: (0.006639) with: {'model__dropout_rate': 0.6, 'model__weight_constraint': 3.0}\n",
            "Mean: 0.704427,  Std_dev.: (0.009207) with: {'model__dropout_rate': 0.6, 'model__weight_constraint': 4.0}\n",
            "Mean: 0.703125,  Std_dev.: (0.014616) with: {'model__dropout_rate': 0.6, 'model__weight_constraint': 5.0}\n",
            "Mean: 0.699219,  Std_dev.: (0.013902) with: {'model__dropout_rate': 0.7, 'model__weight_constraint': 1.0}\n",
            "Mean: 0.701823,  Std_dev.: (0.017566) with: {'model__dropout_rate': 0.7, 'model__weight_constraint': 2.0}\n",
            "Mean: 0.692708,  Std_dev.: (0.008027) with: {'model__dropout_rate': 0.7, 'model__weight_constraint': 3.0}\n",
            "Mean: 0.697917,  Std_dev.: (0.006639) with: {'model__dropout_rate': 0.7, 'model__weight_constraint': 4.0}\n",
            "Mean: 0.704427,  Std_dev.: (0.009744) with: {'model__dropout_rate': 0.7, 'model__weight_constraint': 5.0}\n",
            "Mean: 0.697917,  Std_dev.: (0.006639) with: {'model__dropout_rate': 0.8, 'model__weight_constraint': 1.0}\n",
            "Mean: 0.684896,  Std_dev.: (0.010253) with: {'model__dropout_rate': 0.8, 'model__weight_constraint': 2.0}\n",
            "Mean: 0.686198,  Std_dev.: (0.006639) with: {'model__dropout_rate': 0.8, 'model__weight_constraint': 3.0}\n",
            "Mean: 0.686198,  Std_dev.: (0.001841) with: {'model__dropout_rate': 0.8, 'model__weight_constraint': 4.0}\n",
            "Mean: 0.697917,  Std_dev.: (0.012890) with: {'model__dropout_rate': 0.8, 'model__weight_constraint': 5.0}\n",
            "Mean: 0.673177,  Std_dev.: (0.009744) with: {'model__dropout_rate': 0.9, 'model__weight_constraint': 1.0}\n",
            "Mean: 0.674479,  Std_dev.: (0.015733) with: {'model__dropout_rate': 0.9, 'model__weight_constraint': 2.0}\n",
            "Mean: 0.666667,  Std_dev.: (0.014382) with: {'model__dropout_rate': 0.9, 'model__weight_constraint': 3.0}\n",
            "Mean: 0.667969,  Std_dev.: (0.011049) with: {'model__dropout_rate': 0.9, 'model__weight_constraint': 4.0}\n",
            "Mean: 0.669271,  Std_dev.: (0.010253) with: {'model__dropout_rate': 0.9, 'model__weight_constraint': 5.0}\n"
          ]
        }
      ]
    },
    {
      "cell_type": "markdown",
      "source": [
        "### Tuning the number of neurons in the hidden layer\n",
        "\n",
        "The number of neurons in a layer is an important parameter to tune. Generally the number of neurons in a layer controls the representational capacity of the network.\n",
        "\n",
        "We will tune the number of neurons in a `single hidden layer`. We will try values from `1` to `30` in steps of `5`."
      ],
      "metadata": {
        "id": "Gxv7raz_pZt_"
      }
    },
    {
      "cell_type": "code",
      "source": [
        "# Function to create model, required for KerasClassifier\n",
        "def create_model(neurons):\n",
        "  model = Sequential([\n",
        "      Dense(neurons, input_shape=(8,), kernel_initializer='uniform',\n",
        "            activation='linear', kernel_constraint=MaxNorm(4)),\n",
        "      Dropout(0.2),\n",
        "      Dense(1, kernel_initializer='uniform', activation='sigmoid')\n",
        "  ])\n",
        "\n",
        "  # Compile model\n",
        "  model.compile(loss='binary_crossentropy', optimizer='adam', metrics=['accuracy'])\n",
        "  return model\n",
        "\n",
        "model = KerasClassifier(model=create_model, epochs=100, batch_size=10, verbose=0)"
      ],
      "metadata": {
        "id": "NT7bYkIQpd0C"
      },
      "execution_count": 26,
      "outputs": []
    },
    {
      "cell_type": "code",
      "source": [
        "LAYER_1_NEURON_TABLE = [1, 5, 10, 15, 20, 25, 30]\n",
        "\n",
        "# Set Grid search parameter dictionary\n",
        "# param_grid = dict(batch_size=BATCH_SIZE_TABLE, epochs=EPOCHS_TABLE)\n",
        "param_grid = {\n",
        "    'model__neurons': LAYER_1_NEURON_TABLE\n",
        "    }"
      ],
      "metadata": {
        "id": "ZzD21jLhpeUx"
      },
      "execution_count": 27,
      "outputs": []
    },
    {
      "cell_type": "code",
      "source": [
        "# Run Grid Search Algorithm and Report the results for given model\n",
        "grid_search_report(GridSearchCV(estimator=model, param_grid=param_grid, n_jobs=-1, cv=3).fit(X, Y))"
      ],
      "metadata": {
        "colab": {
          "base_uri": "https://localhost:8080/"
        },
        "id": "I4wbGuXylzej",
        "outputId": "899cfa34-1927-4632-f479-d08203d58d13"
      },
      "execution_count": 28,
      "outputs": [
        {
          "output_type": "stream",
          "name": "stdout",
          "text": [
            "Best score: 0.714844 using {'model__neurons': 20} parameters\n",
            "Mean: 0.695312,  Std_dev.: (0.019918) with: {'model__neurons': 1}\n",
            "Mean: 0.696615,  Std_dev.: (0.008027) with: {'model__neurons': 5}\n",
            "Mean: 0.709635,  Std_dev.: (0.008027) with: {'model__neurons': 10}\n",
            "Mean: 0.712240,  Std_dev.: (0.019225) with: {'model__neurons': 15}\n",
            "Mean: 0.714844,  Std_dev.: (0.014616) with: {'model__neurons': 20}\n",
            "Mean: 0.703125,  Std_dev.: (0.011500) with: {'model__neurons': 25}\n",
            "Mean: 0.695312,  Std_dev.: (0.014616) with: {'model__neurons': 30}\n"
          ]
        }
      ]
    },
    {
      "cell_type": "markdown",
      "source": [
        "### Reference\n",
        "\n",
        "https://machinelearningmastery.com/grid-search-hyperparameters-deep-learning-models-python-keras/"
      ],
      "metadata": {
        "id": "8OU9p6zutu9s"
      }
    }
  ]
}