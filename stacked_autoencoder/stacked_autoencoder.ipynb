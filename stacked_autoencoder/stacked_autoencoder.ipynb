{
  "nbformat": 4,
  "nbformat_minor": 0,
  "metadata": {
    "colab": {
      "provenance": [],
      "gpuType": "T4"
    },
    "kernelspec": {
      "name": "python3",
      "display_name": "Python 3"
    },
    "language_info": {
      "name": "python"
    },
    "accelerator": "GPU"
  },
  "cells": [
    {
      "cell_type": "code",
      "execution_count": 1,
      "metadata": {
        "id": "zRyBCgsqfvAn"
      },
      "outputs": [],
      "source": [
        "import matplotlib.pyplot as plt\n",
        "import numpy as np\n",
        "import pandas as pd\n",
        "import tensorflow as tf\n",
        "\n",
        "from sklearn.metrics import accuracy_score, precision_score, recall_score\n",
        "from sklearn.model_selection import train_test_split\n",
        "from tensorflow.keras import layers, losses\n",
        "from tensorflow.keras.datasets import fashion_mnist\n",
        "from tensorflow.keras.models import Model\n",
        "from tensorflow.keras.layers import Input, Dense"
      ]
    },
    {
      "cell_type": "markdown",
      "source": [
        "Load Fashion MNIST Dataset"
      ],
      "metadata": {
        "id": "5sh1hmIAgLWe"
      }
    },
    {
      "cell_type": "code",
      "source": [
        "(x_train, _), (x_test, _) = fashion_mnist.load_data()\n",
        "\n",
        "x_train = x_train.astype('float32') / 255.\n",
        "x_test = x_test.astype('float32') / 255.\n",
        "\n",
        "#x_train = x_train[..., tf.newaxis]   # normally x_train.shape is (60000, 28, 28), with adding tf.newaxis we get x_train.shape as (60000, 28, 28, 1)\n",
        "#x_test = x_test[..., tf.newaxis]     # normally x_test.shape is (60000, 28, 28), with adding tf.newaxis we get x_test.shape as (60000, 28, 28, 1)\n",
        "\n",
        "x_train = tf.cast(tf.reshape(x_train, shape=(60000, 784)), tf.float32)\n",
        "x_test = tf.cast(tf.reshape(x_test, shape=(10000, 784)), tf.float32)\n",
        "\n",
        "print(x_train.shape)"
      ],
      "metadata": {
        "colab": {
          "base_uri": "https://localhost:8080/"
        },
        "id": "uXaiWpmSgF63",
        "outputId": "cf37cd56-6fd7-4c47-c2be-f233bf97c06e"
      },
      "execution_count": 2,
      "outputs": [
        {
          "output_type": "stream",
          "name": "stdout",
          "text": [
            "Downloading data from https://storage.googleapis.com/tensorflow/tf-keras-datasets/train-labels-idx1-ubyte.gz\n",
            "29515/29515 [==============================] - 0s 0us/step\n",
            "Downloading data from https://storage.googleapis.com/tensorflow/tf-keras-datasets/train-images-idx3-ubyte.gz\n",
            "26421880/26421880 [==============================] - 0s 0us/step\n",
            "Downloading data from https://storage.googleapis.com/tensorflow/tf-keras-datasets/t10k-labels-idx1-ubyte.gz\n",
            "5148/5148 [==============================] - 0s 0us/step\n",
            "Downloading data from https://storage.googleapis.com/tensorflow/tf-keras-datasets/t10k-images-idx3-ubyte.gz\n",
            "4422102/4422102 [==============================] - 0s 0us/step\n",
            "(60000, 784)\n"
          ]
        }
      ]
    },
    {
      "cell_type": "code",
      "source": [
        "BATCH_SIZE = 32\n",
        "LEARNING_RATE = 1e-5"
      ],
      "metadata": {
        "id": "Hq1ts7QfyL8R"
      },
      "execution_count": 3,
      "outputs": []
    },
    {
      "cell_type": "code",
      "source": [
        "from tensorflow.keras import layers\n",
        "\n",
        "class Autoencoder(tf.keras.Model):\n",
        "    def __init__(self, input_shape, latent_dim):\n",
        "        super().__init__()\n",
        "        self.latent_dim = latent_dim\n",
        "        self._input_shape = input_shape\n",
        "        self.activity_reg = tf.keras.regularizers.L1(LEARNING_RATE)\n",
        "        self.autoencoder_model = self.autoencoder()\n",
        "        '''\n",
        "        self.loss_tracker = tf.keras.metrics.Mean(name=\"loss\")\n",
        "        self.mae_metric = tf.keras.metrics.MeanAbsoluteError(name=\"mae\")\n",
        "        '''\n",
        "    def call(self, x):\n",
        "        #super().call()\n",
        "        return self.autoencoder_model(x)\n",
        "\n",
        "    def autoencoder(self):\n",
        "        input_layer = Input(shape=self._input_shape, name=\"input_layer\")\n",
        "        # Encoder Part\n",
        "        x = Dense (784, activation=\"relu\", activity_regularizer=self.activity_reg)(input_layer)\n",
        "        x = Dense (256, activation=\"relu\",activity_regularizer=self.activity_reg)(x)\n",
        "        x = Dense (128, activation=\"relu\", activity_regularizer=self.activity_reg)(x)\n",
        "        # Latent vector layer\n",
        "        x = Dense (self.latent_dim, activation=\"relu\", activity_regularizer=self.activity_reg)(x)\n",
        "        embed = tf.keras.layers.Flatten()(x)\n",
        "\n",
        "        # Decoder Part\n",
        "        x = Dense(128, activation=\"relu\", activity_regularizer=self.activity_reg)(embed)\n",
        "        x = Dense(256, activation=\"relu\", activity_regularizer=self.activity_reg)(x)\n",
        "        x = Dense(784, activation=\"relu\", activity_regularizer=self.activity_reg)(x)\n",
        "        # Output Layer\n",
        "        decoder_out = Dense(self._input_shape[0], activation=\"sigmoid\", activity_regularizer=self.activity_reg)(x)\n",
        "        autoencoder_model = tf.keras.models.Model(input_layer, decoder_out, name=\"autoencoder\")\n",
        "        autoencoder_model.summary()\n",
        "        return autoencoder_model\n",
        "\n",
        "    def compute_loss(self, y_true, y_pred):\n",
        "        # Implement your custom loss function here\n",
        "        # Example: Mean Squared Error (MSE)\n",
        "        return tf.reduce_mean(tf.square(y_true - y_pred))\n",
        "    '''\n",
        "    def compile(self, optimizer, loss, metrics):\n",
        "        super().compile()\n",
        "        self.ae_optimizer = optimizer\n",
        "        self.loss_fn = loss\n",
        "        self.metrics = metrics\n",
        "    '''\n",
        "    '''\n",
        "    @property\n",
        "    #def metrics(self):\n",
        "    #    # We list our `Metric` objects here so that `reset_states()` can be\n",
        "    #    # called automatically at the start of each epoch\n",
        "    #    # or at the start of `evaluate()`.\n",
        "    #    # If you don't implement this property, you have to call\n",
        "    #    # `reset_states()` yourself at the time of your choosing.\n",
        "    #    return [self.loss_tracker, self.mae_metric]\n",
        "    '''\n",
        "    def train_step(self, data):\n",
        "        # x, y = data\n",
        "        x, _ = data  # In autoencoders, the input and output are usually the same.\n",
        "\n",
        "        # Train the autoencoder\n",
        "        with tf.GradientTape() as tape:\n",
        "            y_pred = self.autoencoder_model(x, training=True)\n",
        "            #ae_loss = self.loss_fn(y, y_pred)\n",
        "            # The loss function is configured in `compile()`.\n",
        "            #ae_loss = self.compute_loss(y, y_pred)\n",
        "            ae_loss = self.compute_loss(y_true=x, y_pred=y_pred)\n",
        "\n",
        "        # Compute gradients\n",
        "        grads = tape.gradient(ae_loss, self.autoencoder_model.trainable_weights)\n",
        "        self.optimizer.apply_gradients(zip(grads, self.autoencoder_model.trainable_weights))\n",
        "\n",
        "        # Update the metrics.\n",
        "        # Metrics are configured in `compile()`.\n",
        "        for metric in self.metrics:\n",
        "            if metric.name == \"loss\":\n",
        "                metric.update_state(ae_loss)\n",
        "            else:\n",
        "                metric.update_state(x, y_pred)\n",
        "\n",
        "        # Print the loss every 20 steps (adjust as needed)\n",
        "        #if self.optimizer.iterations % 20 == 0:\n",
        "        #  print(f\"Step {self.optimizer.iterations}, Loss: {ae_loss}\")\n",
        "\n",
        "        # Return a dict mapping metric names to current value.\n",
        "        # Note that it will include the loss (tracked in self.metrics).\n",
        "        metric_dict = {m.name: m.result() for m in self.metrics}\n",
        "        metric_dict[\"ae_loss\"] = ae_loss\n",
        "        return metric_dict\n",
        "\n",
        "    def test_step(self, data):\n",
        "        # Unpack the data\n",
        "        #x, y = data\n",
        "        x, _ = data  # In autoencoders, the input and output are usually the same.\n",
        "\n",
        "        # Compute predictions\n",
        "        y_pred = self.autoencoder_model(x, training=False)\n",
        "        # Updates the metrics tracking the loss\n",
        "        self.compute_loss(y_true=x, y_pred=y_pred)\n",
        "\n",
        "        # Update the metrics.\n",
        "        for metric in self.metrics:\n",
        "            if metric.name != \"loss\":\n",
        "                metric.update_state(x, y_pred)\n",
        "        # Return a dict mapping metric names to current value.\n",
        "        # Note that it will include the loss (tracked in self.metrics).\n",
        "        return {m.name: m.result() for m in self.metrics}"
      ],
      "metadata": {
        "id": "-dfWXT8z_Nci"
      },
      "execution_count": 18,
      "outputs": []
    },
    {
      "cell_type": "code",
      "source": [
        "autoencoder_model = Autoencoder(input_shape=(x_train.shape[1],), latent_dim=64)\n",
        "\n",
        "# Compile the model\n",
        "autoencoder_model.compile(optimizer='adam',\n",
        "              loss='mse',\n",
        "              metrics=[tf.keras.metrics.mean_squared_error])\n",
        "\n",
        "# Train the model on the MNIST dataset\n",
        "autoencoder_model_hist = autoencoder_model.fit(x_train, x_train, batch_size=32, epochs=5, validation_data=(x_test, x_test))"
      ],
      "metadata": {
        "colab": {
          "base_uri": "https://localhost:8080/"
        },
        "id": "C9JRmZJCCtJk",
        "outputId": "a18a3383-6859-4165-a657-ec16a64a3517"
      },
      "execution_count": 20,
      "outputs": [
        {
          "output_type": "stream",
          "name": "stdout",
          "text": [
            "Model: \"autoencoder\"\n",
            "_________________________________________________________________\n",
            " Layer (type)                Output Shape              Param #   \n",
            "=================================================================\n",
            " input_layer (InputLayer)    [(None, 784)]             0         \n",
            "                                                                 \n",
            " dense_72 (Dense)            (None, 784)               615440    \n",
            "                                                                 \n",
            " dense_73 (Dense)            (None, 256)               200960    \n",
            "                                                                 \n",
            " dense_74 (Dense)            (None, 128)               32896     \n",
            "                                                                 \n",
            " dense_75 (Dense)            (None, 64)                8256      \n",
            "                                                                 \n",
            " flatten_9 (Flatten)         (None, 64)                0         \n",
            "                                                                 \n",
            " dense_76 (Dense)            (None, 128)               8320      \n",
            "                                                                 \n",
            " dense_77 (Dense)            (None, 256)               33024     \n",
            "                                                                 \n",
            " dense_78 (Dense)            (None, 784)               201488    \n",
            "                                                                 \n",
            " dense_79 (Dense)            (None, 784)               615440    \n",
            "                                                                 \n",
            "=================================================================\n",
            "Total params: 1715824 (6.55 MB)\n",
            "Trainable params: 1715824 (6.55 MB)\n",
            "Non-trainable params: 0 (0.00 Byte)\n",
            "_________________________________________________________________\n",
            "Epoch 1/5\n",
            "1875/1875 [==============================] - 14s 6ms/step - ae_loss: 0.0230\n",
            "Epoch 2/5\n",
            "1875/1875 [==============================] - 11s 6ms/step - ae_loss: 0.0149\n",
            "Epoch 3/5\n",
            "1875/1875 [==============================] - 15s 8ms/step - ae_loss: 0.0133\n",
            "Epoch 4/5\n",
            "1875/1875 [==============================] - 15s 8ms/step - ae_loss: 0.0123\n",
            "Epoch 5/5\n",
            "1875/1875 [==============================] - 9s 5ms/step - ae_loss: 0.0117\n"
          ]
        }
      ]
    },
    {
      "cell_type": "code",
      "source": [
        "import pandas as pd\n",
        "import matplotlib.pyplot as plt\n",
        "\n",
        "plt.plot(pd.DataFrame(autoencoder_model_hist.history))"
      ],
      "metadata": {
        "colab": {
          "base_uri": "https://localhost:8080/",
          "height": 447
        },
        "id": "KqahWzyvcosW",
        "outputId": "e95ccd4d-a82e-4849-926e-73f83890cad2"
      },
      "execution_count": 22,
      "outputs": [
        {
          "output_type": "execute_result",
          "data": {
            "text/plain": [
              "[<matplotlib.lines.Line2D at 0x7fe3b0191240>]"
            ]
          },
          "metadata": {},
          "execution_count": 22
        },
        {
          "output_type": "display_data",
          "data": {
            "text/plain": [
              "<Figure size 640x480 with 1 Axes>"
            ],
            "image/png": "[encoded data removed]"
          },
          "metadata": {}
        }
      ]
    },
    {
      "cell_type": "code",
      "source": [
        "# Evaluate the model on the test set\n",
        "results = autoencoder_model(x_test)"
      ],
      "metadata": {
        "id": "quT6OiDiTy1-"
      },
      "execution_count": 23,
      "outputs": []
    },
    {
      "cell_type": "code",
      "source": [
        "results = tf.reshape(results, shape=(results.shape[0], 28, 28))"
      ],
      "metadata": {
        "id": "1QsSoyFUXV0m"
      },
      "execution_count": 24,
      "outputs": []
    },
    {
      "cell_type": "code",
      "source": [
        "plt.imshow(results[0])"
      ],
      "metadata": {
        "colab": {
          "base_uri": "https://localhost:8080/",
          "height": 447
        },
        "id": "gS7q82_GXhMP",
        "outputId": "183caba3-49cb-4929-c97c-353f74c37172"
      },
      "execution_count": 25,
      "outputs": [
        {
          "output_type": "execute_result",
          "data": {
            "text/plain": [
              "<matplotlib.image.AxesImage at 0x7fe3b019d9f0>"
            ]
          },
          "metadata": {},
          "execution_count": 25
        },
        {
          "output_type": "display_data",
          "data": {
            "text/plain": [
              "<Figure size 640x480 with 1 Axes>"
            ],
            "image/png": "[encoded data removed]"
          },
          "metadata": {}
        }
      ]
    },
    {
      "cell_type": "code",
      "source": [
        "autoencoder_2_input = autoencoder_model.predict(x_train)"
      ],
      "metadata": {
        "colab": {
          "base_uri": "https://localhost:8080/"
        },
        "id": "zhH_hOgqZGs_",
        "outputId": "5a603ddd-6d49-4bd3-8e2e-edd418ef8a1d"
      },
      "execution_count": null,
      "outputs": [
        {
          "output_type": "stream",
          "name": "stdout",
          "text": [
            "1875/1875 [==============================] - 6s 3ms/step\n"
          ]
        }
      ]
    },
    {
      "cell_type": "code",
      "source": [
        "autoencoder_2_input = np.concatenate((autoencoder_2_input, x_train))"
      ],
      "metadata": {
        "id": "jV3__HRxZZ0z"
      },
      "execution_count": null,
      "outputs": []
    },
    {
      "cell_type": "code",
      "source": [
        "autoencoder_model_2 = Autoencoder(input_shape=(autoencoder_2_input.shape[1],), latent_dim=64)\n",
        "\n",
        "# Compile the model\n",
        "autoencoder_model_2.compile(optimizer='adam',\n",
        "              loss='mse',\n",
        "              metrics=['loss'])\n",
        "\n",
        "# Train the model on the MNIST dataset\n",
        "autoencoder_model_2.fit(autoencoder_2_input, autoencoder_2_input, batch_size=32, epochs=5, validation_data=(x_test, x_test))"
      ],
      "metadata": {
        "colab": {
          "base_uri": "https://localhost:8080/"
        },
        "id": "5SOzmfG1Ycw0",
        "outputId": "eb9bd9c1-b887-4234-b817-04c99516365a"
      },
      "execution_count": null,
      "outputs": [
        {
          "output_type": "stream",
          "name": "stdout",
          "text": [
            "Model: \"autoencoder\"\n",
            "_________________________________________________________________\n",
            " Layer (type)                Output Shape              Param #   \n",
            "=================================================================\n",
            " input_layer (InputLayer)    [(None, 784)]             0         \n",
            "                                                                 \n",
            " dense_24 (Dense)            (None, 784)               615440    \n",
            "                                                                 \n",
            " dense_25 (Dense)            (None, 256)               200960    \n",
            "                                                                 \n",
            " dense_26 (Dense)            (None, 128)               32896     \n",
            "                                                                 \n",
            " dense_27 (Dense)            (None, 64)                8256      \n",
            "                                                                 \n",
            " flatten_3 (Flatten)         (None, 64)                0         \n",
            "                                                                 \n",
            " dense_28 (Dense)            (None, 128)               8320      \n",
            "                                                                 \n",
            " dense_29 (Dense)            (None, 256)               33024     \n",
            "                                                                 \n",
            " dense_30 (Dense)            (None, 784)               201488    \n",
            "                                                                 \n",
            " dense_31 (Dense)            (None, 784)               615440    \n",
            "                                                                 \n",
            "=================================================================\n",
            "Total params: 1715824 (6.55 MB)\n",
            "Trainable params: 1715824 (6.55 MB)\n",
            "Non-trainable params: 0 (0.00 Byte)\n",
            "_________________________________________________________________\n",
            "Epoch 1/5\n",
            "3750/3750 [==============================] - 25s 5ms/step\n",
            "Epoch 2/5\n",
            "3750/3750 [==============================] - 24s 6ms/step\n",
            "Epoch 3/5\n",
            "3750/3750 [==============================] - 21s 6ms/step\n",
            "Epoch 4/5\n",
            "3750/3750 [==============================] - 19s 5ms/step\n",
            "Epoch 5/5\n",
            "3750/3750 [==============================] - 28s 8ms/step\n"
          ]
        },
        {
          "output_type": "execute_result",
          "data": {
            "text/plain": [
              "<keras.src.callbacks.History at 0x7f71f0161f90>"
            ]
          },
          "metadata": {},
          "execution_count": 20
        }
      ]
    },
    {
      "cell_type": "code",
      "source": [
        "autoencoder_3_input = autoencoder_model_2.predict(autoencoder_2_input)\n",
        "autoencoder_3_input = np.concatenate((autoencoder_3_input, autoencoder_2_input))\n",
        "\n",
        "autoencoder_model_3 = Autoencoder(input_shape=(autoencoder_3_input.shape[1],), latent_dim=64)\n",
        "\n",
        "\n",
        "# Compile the model\n",
        "autoencoder_model_3.compile(optimizer='adam',\n",
        "              loss='mse',\n",
        "              metrics=['loss'])\n",
        "\n",
        "satck_3 = autoencoder_model_3.fit(autoencoder_3_input, autoencoder_3_input, epochs=5, batch_size=16)"
      ],
      "metadata": {
        "colab": {
          "base_uri": "https://localhost:8080/"
        },
        "id": "vRcEywaAZC6f",
        "outputId": "3967726d-6143-48f7-fce5-a6a786a44f04"
      },
      "execution_count": null,
      "outputs": [
        {
          "output_type": "stream",
          "name": "stdout",
          "text": [
            "3750/3750 [==============================] - 10s 3ms/step\n",
            "Model: \"autoencoder\"\n",
            "_________________________________________________________________\n",
            " Layer (type)                Output Shape              Param #   \n",
            "=================================================================\n",
            " input_layer (InputLayer)    [(None, 784)]             0         \n",
            "                                                                 \n",
            " dense_40 (Dense)            (None, 784)               615440    \n",
            "                                                                 \n",
            " dense_41 (Dense)            (None, 256)               200960    \n",
            "                                                                 \n",
            " dense_42 (Dense)            (None, 128)               32896     \n",
            "                                                                 \n",
            " dense_43 (Dense)            (None, 64)                8256      \n",
            "                                                                 \n",
            " flatten_5 (Flatten)         (None, 64)                0         \n",
            "                                                                 \n",
            " dense_44 (Dense)            (None, 128)               8320      \n",
            "                                                                 \n",
            " dense_45 (Dense)            (None, 256)               33024     \n",
            "                                                                 \n",
            " dense_46 (Dense)            (None, 784)               201488    \n",
            "                                                                 \n",
            " dense_47 (Dense)            (None, 784)               615440    \n",
            "                                                                 \n",
            "=================================================================\n",
            "Total params: 1715824 (6.55 MB)\n",
            "Trainable params: 1715824 (6.55 MB)\n",
            "Non-trainable params: 0 (0.00 Byte)\n",
            "_________________________________________________________________\n",
            "Epoch 1/5\n",
            "15000/15000 [==============================] - 65s 4ms/step\n",
            "Epoch 2/5\n",
            "15000/15000 [==============================] - 62s 4ms/step\n",
            "Epoch 3/5\n",
            "15000/15000 [==============================] - 62s 4ms/step\n",
            "Epoch 4/5\n",
            "15000/15000 [==============================] - 62s 4ms/step\n",
            "Epoch 5/5\n",
            "15000/15000 [==============================] - 64s 4ms/step\n"
          ]
        }
      ]
    },
    {
      "cell_type": "code",
      "source": [
        "test_images = autoencoder_model_3(x_test)"
      ],
      "metadata": {
        "id": "YwoIcVtLCtCb"
      },
      "execution_count": null,
      "outputs": []
    },
    {
      "cell_type": "code",
      "source": [
        "test_images = tf.reshape(test_images, shape=(test_images.shape[0], 28, 28))"
      ],
      "metadata": {
        "id": "MvU10cnyedjU"
      },
      "execution_count": null,
      "outputs": []
    },
    {
      "cell_type": "code",
      "source": [
        "plt.imshow(test_images[0])"
      ],
      "metadata": {
        "colab": {
          "base_uri": "https://localhost:8080/",
          "height": 447
        },
        "id": "8jwX15R5eZb-",
        "outputId": "45d2d206-a7bf-45fa-9959-81576f117a31"
      },
      "execution_count": null,
      "outputs": [
        {
          "output_type": "execute_result",
          "data": {
            "text/plain": [
              "<matplotlib.image.AxesImage at 0x7f71be684d60>"
            ]
          },
          "metadata": {},
          "execution_count": 40
        },
        {
          "output_type": "display_data",
          "data": {
            "text/plain": [
              "<Figure size 640x480 with 1 Axes>"
            ],
            "image/png": "[encoded data removed]"
          },
          "metadata": {}
        }
      ]
    },
    {
      "cell_type": "markdown",
      "source": [
        "Reference:\n",
        "\n",
        "https://towardsdatascience.com/stacked-autoencoders-f0a4391ae282"
      ],
      "metadata": {
        "id": "RaI_kWPKd33Q"
      }
    }
  ]
}