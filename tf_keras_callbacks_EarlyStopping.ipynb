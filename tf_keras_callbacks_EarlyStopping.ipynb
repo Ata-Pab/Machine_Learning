{
  "nbformat": 4,
  "nbformat_minor": 0,
  "metadata": {
    "colab": {
      "provenance": [],
      "gpuType": "T4"
    },
    "kernelspec": {
      "name": "python3",
      "display_name": "Python 3"
    },
    "language_info": {
      "name": "python"
    },
    "accelerator": "GPU",
    "gpuClass": "standard"
  },
  "cells": [
    {
      "cell_type": "markdown",
      "source": [
        "Choosing the opitmal number of epochs to train a neural network\n",
        "\n",
        "Overfitting means that the model gives high accuracy on the training set (sample data) but fails to achieve good accuracy on the test set. In other words, the model **loses generalization capacity** by overfitting the training data. \n",
        "* To mitigate (decrease) overfitting and to increase the generalization capacity of the neural network, the model should be trained for an optimal number of epochs. \n",
        "\n",
        "A part of the training data is dedicated to the validation of the model, to check the performance of the model after each epoch of training. Loss and accuracy on the training set as well as on the validation set are monitored to look over the epoch number after which the model starts overfitting.\n",
        "\n",
        "### keras.callbacks.callbacks.EarlyStopping()\n",
        "Either loss/accuracy values can be monitored by the Early stopping call back function. If the loss is being monitored, training comes to halt when there is an increment observed in loss values. Or, If accuracy is being monitored, training comes to halt when there is a decrement observed in accuracy values.\n",
        "\n",
        "**Reference**\n",
        "\n",
        "https://www.geeksforgeeks.org/choose-optimal-number-of-epochs-to-train-a-neural-network-in-keras/"
      ],
      "metadata": {
        "id": "tp5VENZOCi3N"
      }
    },
    {
      "cell_type": "code",
      "execution_count": 1,
      "metadata": {
        "id": "loNFm6eLCdXX"
      },
      "outputs": [],
      "source": [
        "import tensorflow as tf\n",
        "import keras\n",
        "from keras.utils.np_utils import to_categorical\n",
        "from keras.datasets import mnist\n",
        "from keras import models, layers"
      ]
    },
    {
      "cell_type": "code",
      "source": [
        "# Loading data\n",
        "(train_images, train_labels), (test_images, test_labels) = mnist.load_data()\n",
        "\n",
        "train_images.shape"
      ],
      "metadata": {
        "colab": {
          "base_uri": "https://localhost:8080/"
        },
        "id": "YK6ZYKGkH5YY",
        "outputId": "78aeaa0b-6a83-424b-c68b-3a0e867aa4bb"
      },
      "execution_count": 2,
      "outputs": [
        {
          "output_type": "stream",
          "name": "stdout",
          "text": [
            "Downloading data from https://storage.googleapis.com/tensorflow/tf-keras-datasets/mnist.npz\n",
            "11490434/11490434 [==============================] - 0s 0us/step\n"
          ]
        },
        {
          "output_type": "execute_result",
          "data": {
            "text/plain": [
              "(60000, 28, 28)"
            ]
          },
          "metadata": {},
          "execution_count": 2
        }
      ]
    },
    {
      "cell_type": "code",
      "source": [
        "train_images.shape"
      ],
      "metadata": {
        "colab": {
          "base_uri": "https://localhost:8080/"
        },
        "id": "WR8ci0mXIUdQ",
        "outputId": "b50f9aa4-d3ef-4ae9-ff03-a8429ac45bf6"
      },
      "execution_count": 3,
      "outputs": [
        {
          "output_type": "execute_result",
          "data": {
            "text/plain": [
              "(60000, 28, 28)"
            ]
          },
          "metadata": {},
          "execution_count": 3
        }
      ]
    },
    {
      "cell_type": "markdown",
      "source": [
        "OR you can add dimensions (to provide batch parameter for Conv model) using reshape method as below"
      ],
      "metadata": {
        "id": "w8Gg4M4yJPeP"
      }
    },
    {
      "cell_type": "code",
      "source": [
        "# Reshaping data-Adding number of channels as 1 (Grayscale images)\n",
        "train_images = train_images.reshape((train_images.shape[0],\n",
        "                                     train_images.shape[1],\n",
        "                                     train_images.shape[2], 1))  # Gray scale index - If images were RGB, there would be 3 channels\n",
        "\n",
        "\n",
        "test_images = test_images.reshape((test_images.shape[0],\n",
        "                                   test_images.shape[1],\n",
        "                                   test_images.shape[2], 1))"
      ],
      "metadata": {
        "id": "ZipSFgioH6Xu"
      },
      "execution_count": 4,
      "outputs": []
    },
    {
      "cell_type": "code",
      "source": [
        "# Scaling down pixel values\n",
        "train_images = train_images.astype('float32')/255\n",
        "test_images = test_images.astype('float32')/255\n",
        " \n",
        "# Encoding labels to a binary class matrix\n",
        "y_train = to_categorical(train_labels)\n",
        "y_test = to_categorical(test_labels)"
      ],
      "metadata": {
        "id": "wF402NN0IysV"
      },
      "execution_count": 5,
      "outputs": []
    },
    {
      "cell_type": "code",
      "source": [
        "INPUT_SHAPE = (28,28,1)\n",
        "\n",
        "model = models.Sequential([\n",
        "    layers.Conv2D(32, (3, 3), activation=\"relu\", input_shape=INPUT_SHAPE),\n",
        "    layers.MaxPooling2D(2, 2),\n",
        "    layers.Conv2D(64, (3, 3), activation=\"relu\"),\n",
        "    layers.MaxPooling2D(2, 2),\n",
        "    layers.Flatten(),\n",
        "    layers.Dense(64, activation=\"relu\"),\n",
        "    layers.Dense(10, activation=\"softmax\")\n",
        "])\n",
        "\n",
        "model.summary()"
      ],
      "metadata": {
        "colab": {
          "base_uri": "https://localhost:8080/"
        },
        "id": "5S2506DNIyp0",
        "outputId": "552e8918-e0ed-4fc0-9fbf-d542aacc5554"
      },
      "execution_count": 6,
      "outputs": [
        {
          "output_type": "stream",
          "name": "stdout",
          "text": [
            "Model: \"sequential\"\n",
            "_________________________________________________________________\n",
            " Layer (type)                Output Shape              Param #   \n",
            "=================================================================\n",
            " conv2d (Conv2D)             (None, 26, 26, 32)        320       \n",
            "                                                                 \n",
            " max_pooling2d (MaxPooling2D  (None, 13, 13, 32)       0         \n",
            " )                                                               \n",
            "                                                                 \n",
            " conv2d_1 (Conv2D)           (None, 11, 11, 64)        18496     \n",
            "                                                                 \n",
            " max_pooling2d_1 (MaxPooling  (None, 5, 5, 64)         0         \n",
            " 2D)                                                             \n",
            "                                                                 \n",
            " flatten (Flatten)           (None, 1600)              0         \n",
            "                                                                 \n",
            " dense (Dense)               (None, 64)                102464    \n",
            "                                                                 \n",
            " dense_1 (Dense)             (None, 10)                650       \n",
            "                                                                 \n",
            "=================================================================\n",
            "Total params: 121,930\n",
            "Trainable params: 121,930\n",
            "Non-trainable params: 0\n",
            "_________________________________________________________________\n"
          ]
        }
      ]
    },
    {
      "cell_type": "code",
      "source": [
        "model.compile(optimizer='rmsprop', loss='categorical_crossentropy', metrics=['accuracy'])"
      ],
      "metadata": {
        "id": "LrIco3jSLNJh"
      },
      "execution_count": 7,
      "outputs": []
    },
    {
      "cell_type": "code",
      "source": [
        "val_images = train_images[:10000]\n",
        "partial_images = train_images[10000:]\n",
        "val_labels = y_train[:10000]\n",
        "partial_labels = y_train[10000:]"
      ],
      "metadata": {
        "id": "8x-sMg-nIynZ"
      },
      "execution_count": 8,
      "outputs": []
    },
    {
      "cell_type": "markdown",
      "source": [
        "### Create EarlyStopping object\n",
        "\n",
        "* monitor: The value to be monitored by the function should be assigned. It can be \"**validation loss**\" or \"**validation accuracy**\".\n",
        "\n",
        "* mode: It is the mode in which change in the quantity monitored should be observed. This can be '**min**' or '**max**' or '**auto**'. When the monitored value is loss, its value is '**min**'. When the monitored value is accuracy, its value is '**max**'. When the mode is set is '**auto**', the function automatically monitors with the suitable mode.\n",
        "\n",
        "* min_delta: The minimum value should be set for the change to be considered i.e., Change in the value being monitored should be higher than '**min_delta**' value.\n",
        "\n",
        "* patience: Patience is the number of epochs for the training to be continued after the first halt. The model waits for patience number of epochs for any improvement in the model.\n",
        "\n",
        "* verbose: Verbose is an integer value-0, 1 or 2. This value is to select the way in which the progress is displayed while training.\n",
        "\n",
        "Verbose = 0: Silent mode-Nothing is displayed in this mode.\n",
        "\n",
        "Verbose = 1: A bar depicting the progress of training is displayed.\n",
        "\n",
        "Verbose = 2: In this mode, one line per epoch, showing the progress of training per epoch is displayed.\n",
        "\n",
        "* restore_best_weights: This is a boolean value. True value restores the weights which are optimal.\n"
      ],
      "metadata": {
        "id": "PJG5MTbPPniB"
      }
    },
    {
      "cell_type": "code",
      "source": [
        "from keras import callbacks\n",
        "\n",
        "#earlystopping = callbacks.EarlyStopping(monitor='val_loss', mode='min', patience=5, restore_best_weights=True, verbose=2)\n",
        "earlystopping = callbacks.EarlyStopping(monitor='val_accuracy', mode='max', patience=5, restore_best_weights=True, verbose=2)"
      ],
      "metadata": {
        "id": "nxJgf4LPQjVC"
      },
      "execution_count": 16,
      "outputs": []
    },
    {
      "cell_type": "markdown",
      "source": [
        "### Fit the model"
      ],
      "metadata": {
        "id": "9XtXGIKKQkOt"
      }
    },
    {
      "cell_type": "code",
      "source": [
        "history = model.fit(partial_images, partial_labels, batch_size=128, epochs=25, validation_data=(val_images, val_labels), callbacks=[earlystopping])"
      ],
      "metadata": {
        "colab": {
          "base_uri": "https://localhost:8080/"
        },
        "id": "MqXOsF1gJ-Am",
        "outputId": "bb38b42b-de20-4ae6-b7d0-ee9a7448735e"
      },
      "execution_count": 17,
      "outputs": [
        {
          "output_type": "stream",
          "name": "stdout",
          "text": [
            "Epoch 1/25\n",
            "391/391 [==============================] - 2s 6ms/step - loss: 0.0043 - accuracy: 0.9988 - val_loss: 0.0497 - val_accuracy: 0.9898\n",
            "Epoch 2/25\n",
            "391/391 [==============================] - 2s 6ms/step - loss: 0.0037 - accuracy: 0.9989 - val_loss: 0.0519 - val_accuracy: 0.9896\n",
            "Epoch 3/25\n",
            "391/391 [==============================] - 2s 5ms/step - loss: 0.0024 - accuracy: 0.9994 - val_loss: 0.0530 - val_accuracy: 0.9906\n",
            "Epoch 4/25\n",
            "391/391 [==============================] - 2s 5ms/step - loss: 0.0024 - accuracy: 0.9993 - val_loss: 0.0581 - val_accuracy: 0.9903\n",
            "Epoch 5/25\n",
            "391/391 [==============================] - 2s 5ms/step - loss: 0.0023 - accuracy: 0.9993 - val_loss: 0.0582 - val_accuracy: 0.9900\n",
            "Epoch 6/25\n",
            "391/391 [==============================] - 2s 5ms/step - loss: 0.0014 - accuracy: 0.9995 - val_loss: 0.0667 - val_accuracy: 0.9898\n",
            "Epoch 7/25\n",
            "391/391 [==============================] - 2s 5ms/step - loss: 0.0012 - accuracy: 0.9997 - val_loss: 0.0616 - val_accuracy: 0.9907\n",
            "Epoch 8/25\n",
            "391/391 [==============================] - 2s 6ms/step - loss: 6.4103e-04 - accuracy: 0.9998 - val_loss: 0.0744 - val_accuracy: 0.9893\n",
            "Epoch 9/25\n",
            "391/391 [==============================] - 2s 5ms/step - loss: 9.2845e-04 - accuracy: 0.9997 - val_loss: 0.0679 - val_accuracy: 0.9896\n",
            "Epoch 10/25\n",
            "391/391 [==============================] - 2s 5ms/step - loss: 0.0011 - accuracy: 0.9996 - val_loss: 0.0743 - val_accuracy: 0.9888\n",
            "Epoch 11/25\n",
            "391/391 [==============================] - 2s 5ms/step - loss: 9.1475e-04 - accuracy: 0.9997 - val_loss: 0.0680 - val_accuracy: 0.9901\n",
            "Epoch 12/25\n",
            "391/391 [==============================] - 2s 5ms/step - loss: 3.0366e-04 - accuracy: 0.9999 - val_loss: 0.0677 - val_accuracy: 0.9909\n",
            "Epoch 13/25\n",
            "391/391 [==============================] - 2s 5ms/step - loss: 4.9806e-04 - accuracy: 0.9999 - val_loss: 0.0696 - val_accuracy: 0.9908\n",
            "Epoch 14/25\n",
            "391/391 [==============================] - 2s 6ms/step - loss: 3.3750e-05 - accuracy: 1.0000 - val_loss: 0.0706 - val_accuracy: 0.9915\n",
            "Epoch 15/25\n",
            "391/391 [==============================] - 2s 5ms/step - loss: 1.1132e-05 - accuracy: 1.0000 - val_loss: 0.0711 - val_accuracy: 0.9913\n",
            "Epoch 16/25\n",
            "391/391 [==============================] - 2s 5ms/step - loss: 7.4442e-06 - accuracy: 1.0000 - val_loss: 0.0708 - val_accuracy: 0.9914\n",
            "Epoch 17/25\n",
            "391/391 [==============================] - 2s 5ms/step - loss: 5.1006e-06 - accuracy: 1.0000 - val_loss: 0.0723 - val_accuracy: 0.9914\n",
            "Epoch 18/25\n",
            "391/391 [==============================] - 2s 5ms/step - loss: 4.0968e-06 - accuracy: 1.0000 - val_loss: 0.0729 - val_accuracy: 0.9914\n",
            "Epoch 19/25\n",
            "391/391 [==============================] - ETA: 0s - loss: 3.6569e-06 - accuracy: 1.0000Restoring model weights from the end of the best epoch: 14.\n",
            "391/391 [==============================] - 2s 5ms/step - loss: 3.6569e-06 - accuracy: 1.0000 - val_loss: 0.0739 - val_accuracy: 0.9914\n",
            "Epoch 19: early stopping\n"
          ]
        }
      ]
    },
    {
      "cell_type": "markdown",
      "source": [
        "Training process stopped by EarlyStopping due to no change in validation loss"
      ],
      "metadata": {
        "id": "VTx8GciNRno0"
      }
    },
    {
      "cell_type": "code",
      "source": [
        "import pandas as pd\n",
        "import matplotlib.pyplot as plt\n",
        "\n",
        "pd.DataFrame(history.history).plot(figsize=(10, 7))"
      ],
      "metadata": {
        "colab": {
          "base_uri": "https://localhost:8080/",
          "height": 616
        },
        "id": "_Tcc6GHJLHqf",
        "outputId": "1075c3cb-44fe-4ccc-b4f9-f789bf478c16"
      },
      "execution_count": 18,
      "outputs": [
        {
          "output_type": "execute_result",
          "data": {
            "text/plain": [
              "<Axes: >"
            ]
          },
          "metadata": {},
          "execution_count": 18
        },
        {
          "output_type": "display_data",
          "data": {
            "text/plain": [
              "<Figure size 1000x700 with 1 Axes>"
            ],
            "image/png": "[encoded data removed]"
          },
          "metadata": {}
        }
      ]
    },
    {
      "cell_type": "code",
      "source": [],
      "metadata": {
        "id": "_JxvOk26RQfN"
      },
      "execution_count": 18,
      "outputs": []
    }
  ]
}