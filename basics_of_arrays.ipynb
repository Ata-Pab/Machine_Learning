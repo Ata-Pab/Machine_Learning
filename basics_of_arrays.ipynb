{
  "cells": [
    {
      "cell_type": "code",
      "execution_count": 1,
      "metadata": {
        "id": "hDKZL1ndOkun"
      },
      "outputs": [],
      "source": [
        "import math\n",
        "import functools  # Import this to use reduce\n",
        "import numpy as np"
      ]
    },
    {
      "cell_type": "markdown",
      "metadata": {
        "id": "ELP0rFReOkur"
      },
      "source": [
        "map() func"
      ]
    },
    {
      "cell_type": "code",
      "execution_count": 2,
      "metadata": {
        "colab": {
          "base_uri": "https://localhost:8080/"
        },
        "id": "zQMVN7jFOkus",
        "outputId": "c79c4537-2f5c-4681-d269-4310bd486623"
      },
      "outputs": [
        {
          "output_type": "execute_result",
          "data": {
            "text/plain": [
              "[1.0, 8.0, 11.180339887498949, 16.0]"
            ]
          },
          "metadata": {},
          "execution_count": 2
        }
      ],
      "source": [
        "mylist = [1,64,125,256]\n",
        "\n",
        "result = map(math.sqrt, mylist)     # map: applies the given method to each element in the list\n",
        "list(result)"
      ]
    },
    {
      "cell_type": "markdown",
      "metadata": {
        "id": "ZW-IeDTNOkut"
      },
      "source": [
        "join() func"
      ]
    },
    {
      "cell_type": "code",
      "execution_count": 3,
      "metadata": {
        "id": "3Cix8-K8Okuu"
      },
      "outputs": [],
      "source": [
        "# Convert each item's data type to str\n",
        "mylist_str = map(str, mylist)\n",
        "\n",
        "#list(mylist_str)"
      ]
    },
    {
      "cell_type": "code",
      "execution_count": 4,
      "metadata": {
        "colab": {
          "base_uri": "https://localhost:8080/",
          "height": 35
        },
        "id": "n90aa7dMOkuu",
        "outputId": "bb8fc0de-e603-415e-888e-345ef7299949"
      },
      "outputs": [
        {
          "output_type": "execute_result",
          "data": {
            "text/plain": [
              "'1 64 125 256'"
            ],
            "application/vnd.google.colaboratory.intrinsic+json": {
              "type": "string"
            }
          },
          "metadata": {},
          "execution_count": 4
        }
      ],
      "source": [
        "mylist_str = ' '.join(mylist_str)\n",
        "mylist_str"
      ]
    },
    {
      "cell_type": "markdown",
      "metadata": {
        "id": "2dwz8k-JOkuv"
      },
      "source": [
        "filter() func"
      ]
    },
    {
      "cell_type": "code",
      "execution_count": 5,
      "metadata": {
        "colab": {
          "base_uri": "https://localhost:8080/"
        },
        "id": "fnI9sBTQOkuv",
        "outputId": "4c5c1a1e-74c2-4f89-b51a-2e81f5eb1f7d"
      },
      "outputs": [
        {
          "output_type": "execute_result",
          "data": {
            "text/plain": [
              "[64, 256]"
            ]
          },
          "metadata": {},
          "execution_count": 5
        }
      ],
      "source": [
        "def isEven(num):\n",
        "    return num%2==0\n",
        "\n",
        "even = filter(isEven,mylist)  # Returns the list of elements which return true for the given func.\n",
        "\n",
        "list(even)"
      ]
    },
    {
      "cell_type": "markdown",
      "metadata": {
        "id": "NmAJJe1FOkuw"
      },
      "source": [
        "reduce() func"
      ]
    },
    {
      "cell_type": "code",
      "execution_count": 6,
      "metadata": {
        "colab": {
          "base_uri": "https://localhost:8080/"
        },
        "id": "3UnQsUzkOkuw",
        "outputId": "e78dc55d-d158-4c71-ea11-bd23940fcf5b"
      },
      "outputs": [
        {
          "output_type": "execute_result",
          "data": {
            "text/plain": [
              "120"
            ]
          },
          "metadata": {},
          "execution_count": 6
        }
      ],
      "source": [
        "def multiply(number1, number2):\n",
        "    return number1 * number2\n",
        "\n",
        "mylist=[1,2,3,4,5]\n",
        "# reduce applies the given function to each element and accumulates the result\n",
        "functools.reduce(multiply,mylist)"
      ]
    },
    {
      "cell_type": "markdown",
      "metadata": {
        "id": "khNJTwrWOkuw"
      },
      "source": [
        "zip() func"
      ]
    },
    {
      "cell_type": "code",
      "execution_count": 7,
      "metadata": {
        "colab": {
          "base_uri": "https://localhost:8080/"
        },
        "id": "wHDVT90sOkuw",
        "outputId": "8f331699-0f3c-494b-c53d-481f89cc4d97"
      },
      "outputs": [
        {
          "output_type": "execute_result",
          "data": {
            "text/plain": [
              "[('Ankara', '06'), ('Istanbul', '34'), ('Izmir', '35'), ('Bursa', '16')]"
            ]
          },
          "metadata": {},
          "execution_count": 7
        }
      ],
      "source": [
        "cities=[\"Ankara\",\"Istanbul\",\"Izmir\",\"Bursa\"]\n",
        "codes=[\"06\",\"34\",\"35\",\"16\"]\n",
        "\n",
        "result = zip(cities,codes)\n",
        "list(result)"
      ]
    },
    {
      "cell_type": "code",
      "execution_count": 8,
      "metadata": {
        "colab": {
          "base_uri": "https://localhost:8080/"
        },
        "id": "ELTkevvfOkux",
        "outputId": "4522b4d9-968f-445b-d660-3a2e37e887c1"
      },
      "outputs": [
        {
          "output_type": "execute_result",
          "data": {
            "text/plain": [
              "{'Ankara': '06', 'Istanbul': '34', 'Izmir': '35', 'Bursa': '16'}"
            ]
          },
          "metadata": {},
          "execution_count": 8
        }
      ],
      "source": [
        "mydictionary = dict(zip(cities,codes))\n",
        "mydictionary"
      ]
    },
    {
      "cell_type": "markdown",
      "metadata": {
        "id": "TzopCCIaOkux"
      },
      "source": [
        "Lambda"
      ]
    },
    {
      "cell_type": "code",
      "execution_count": 9,
      "metadata": {
        "colab": {
          "base_uri": "https://localhost:8080/"
        },
        "id": "iyO1WnxwOkux",
        "outputId": "99cc2f47-fd4b-4c4f-9a0d-2aa69fa5934e"
      },
      "outputs": [
        {
          "output_type": "execute_result",
          "data": {
            "text/plain": [
              "<function __main__.<lambda>(x, y)>"
            ]
          },
          "metadata": {},
          "execution_count": 9
        }
      ],
      "source": [
        "lambda x, y: (x+y)/2"
      ]
    },
    {
      "cell_type": "code",
      "execution_count": 10,
      "metadata": {
        "colab": {
          "base_uri": "https://localhost:8080/"
        },
        "id": "QIIGe6O4Okux",
        "outputId": "162f06cb-058e-4f84-f599-449d3a59c97a"
      },
      "outputs": [
        {
          "output_type": "stream",
          "name": "stdout",
          "text": [
            "Data type of avg:  <class 'function'>\n"
          ]
        },
        {
          "output_type": "execute_result",
          "data": {
            "text/plain": [
              "15.0"
            ]
          },
          "metadata": {},
          "execution_count": 10
        }
      ],
      "source": [
        "avg = lambda x, y: (x+y)/2\n",
        "\n",
        "print(\"Data type of avg: \", type(avg))\n",
        "avg(16,14)"
      ]
    },
    {
      "cell_type": "code",
      "execution_count": 11,
      "metadata": {
        "colab": {
          "base_uri": "https://localhost:8080/"
        },
        "id": "sAae9dnOOkuy",
        "outputId": "024bc315-601a-47dc-f2c1-f7c9f3ef19d5"
      },
      "outputs": [
        {
          "output_type": "execute_result",
          "data": {
            "text/plain": [
              "[4, 16, 36, 256, 400]"
            ]
          },
          "metadata": {},
          "execution_count": 11
        }
      ],
      "source": [
        "nums=[2, 4, 6, 16, 20]\n",
        "\n",
        "squares = map(lambda num: num**2,nums)\n",
        "\n",
        "list(squares)"
      ]
    },
    {
      "cell_type": "code",
      "execution_count": 12,
      "metadata": {
        "colab": {
          "base_uri": "https://localhost:8080/"
        },
        "id": "gSo-aNayOkuy",
        "outputId": "aa2fe11d-ac26-495e-856b-b6071ddb4107"
      },
      "outputs": [
        {
          "output_type": "execute_result",
          "data": {
            "text/plain": [
              "8.0"
            ]
          },
          "metadata": {},
          "execution_count": 12
        }
      ],
      "source": [
        "def pow(n):\n",
        "    return lambda y: math.pow(y,n)\n",
        "\n",
        "cube = pow(3)\n",
        "\n",
        "cube(2)"
      ]
    },
    {
      "cell_type": "markdown",
      "metadata": {
        "id": "RWPH2Wz3Okuy"
      },
      "source": [
        "#### Numpy Array Control"
      ]
    },
    {
      "cell_type": "code",
      "execution_count": 13,
      "metadata": {
        "colab": {
          "base_uri": "https://localhost:8080/"
        },
        "id": "h2EKzTp6Okuy",
        "outputId": "4531bd55-2b64-4a15-8c54-304db14f4788"
      },
      "outputs": [
        {
          "output_type": "execute_result",
          "data": {
            "text/plain": [
              "array([False, False,  True, False, False,  True])"
            ]
          },
          "metadata": {},
          "execution_count": 13
        }
      ],
      "source": [
        "my_array = np.array([4, 6, 8, 5, 3, 7])\n",
        "\n",
        "cond_array = (my_array > 6)\n",
        "\n",
        "cond_array"
      ]
    },
    {
      "cell_type": "code",
      "execution_count": 14,
      "metadata": {
        "colab": {
          "base_uri": "https://localhost:8080/"
        },
        "id": "-BhRFo8rOkuy",
        "outputId": "411917de-36ba-4d25-c432-c3ad4beee13d"
      },
      "outputs": [
        {
          "output_type": "execute_result",
          "data": {
            "text/plain": [
              "array([8, 7])"
            ]
          },
          "metadata": {},
          "execution_count": 14
        }
      ],
      "source": [
        "my_array[my_array > 6]\n",
        "# OR you can use\n",
        "my_array[cond_array]"
      ]
    },
    {
      "cell_type": "code",
      "execution_count": 15,
      "metadata": {
        "colab": {
          "base_uri": "https://localhost:8080/"
        },
        "id": "WT6otj8hOkuy",
        "outputId": "8f52988f-7090-4b64-d774-59d4d4effe5e"
      },
      "outputs": [
        {
          "output_type": "execute_result",
          "data": {
            "text/plain": [
              "array([6, 5])"
            ]
          },
          "metadata": {},
          "execution_count": 15
        }
      ],
      "source": [
        "my_array[[1,3]] # Return elements of just 1st and 3rd index"
      ]
    },
    {
      "cell_type": "code",
      "execution_count": 16,
      "metadata": {
        "colab": {
          "base_uri": "https://localhost:8080/"
        },
        "id": "sAAuRRcTOkuy",
        "outputId": "66ad6e86-b87b-4292-ceec-4abaeed38053"
      },
      "outputs": [
        {
          "output_type": "execute_result",
          "data": {
            "text/plain": [
              "array([6, 8])"
            ]
          },
          "metadata": {},
          "execution_count": 16
        }
      ],
      "source": [
        "my_array[1:3]   # Return elements between 1st and 3rd index (returns 1st and 2nd)"
      ]
    },
    {
      "cell_type": "code",
      "execution_count": 17,
      "metadata": {
        "colab": {
          "base_uri": "https://localhost:8080/"
        },
        "id": "1CPr6nqcOkuy",
        "outputId": "fd165d70-9bc0-40d3-e4b1-f84d52350989"
      },
      "outputs": [
        {
          "output_type": "execute_result",
          "data": {
            "text/plain": [
              "7"
            ]
          },
          "metadata": {},
          "execution_count": 17
        }
      ],
      "source": [
        "my_array[-1]    # Return elements between 1st and 3rd index (returns 1st and 2nd)"
      ]
    },
    {
      "cell_type": "code",
      "execution_count": 18,
      "metadata": {
        "colab": {
          "base_uri": "https://localhost:8080/"
        },
        "id": "nW5ulc8MOkuz",
        "outputId": "b6a6a256-8330-40fe-f7b4-43e93252dff3"
      },
      "outputs": [
        {
          "output_type": "execute_result",
          "data": {
            "text/plain": [
              "array([6, 5])"
            ]
          },
          "metadata": {},
          "execution_count": 18
        }
      ],
      "source": [
        "my_array[1:4:2]  # Return elements between 1st and 4th index with 2 element interval"
      ]
    },
    {
      "cell_type": "code",
      "execution_count": 19,
      "metadata": {
        "colab": {
          "base_uri": "https://localhost:8080/"
        },
        "id": "3_z9JJ0ROkuz",
        "outputId": "a2b311ff-425d-4396-a311-780937f6f410"
      },
      "outputs": [
        {
          "output_type": "execute_result",
          "data": {
            "text/plain": [
              "array([4, 8, 3])"
            ]
          },
          "metadata": {},
          "execution_count": 19
        }
      ],
      "source": [
        "my_array[::2]    # Return all elements with 2 element interval"
      ]
    },
    {
      "cell_type": "code",
      "execution_count": 20,
      "metadata": {
        "colab": {
          "base_uri": "https://localhost:8080/"
        },
        "id": "2DO8gpmeOkuz",
        "outputId": "37046c8a-3b65-4069-d904-b2b566fd2f69"
      },
      "outputs": [
        {
          "output_type": "execute_result",
          "data": {
            "text/plain": [
              "array([4, 6, 8, 5, 3, 7], dtype=int32)"
            ]
          },
          "metadata": {},
          "execution_count": 20
        }
      ],
      "source": [
        "my_array_int = my_array.astype('i')   # Convert each items data type to the new data type\n",
        "my_array_int"
      ]
    },
    {
      "cell_type": "code",
      "execution_count": 21,
      "metadata": {
        "colab": {
          "base_uri": "https://localhost:8080/"
        },
        "id": "VJCM9fEaOkuz",
        "outputId": "06d713a9-d051-4dc0-90cd-958b114d79ee"
      },
      "outputs": [
        {
          "output_type": "stream",
          "name": "stdout",
          "text": [
            "mycopy:        [2 6 8 5 3 7]\n",
            "my_array_int:  [4 6 8 5 3 7]\n"
          ]
        }
      ],
      "source": [
        "mycopy = my_array_int.copy()   # Copy the content of the array, if you change the elements of the copied array it does not effect the original array\n",
        "\n",
        "mycopy[0] = 2\n",
        "\n",
        "print(\"mycopy:       \", mycopy)\n",
        "print(\"my_array_int: \", my_array_int)"
      ]
    },
    {
      "cell_type": "code",
      "execution_count": 22,
      "metadata": {
        "colab": {
          "base_uri": "https://localhost:8080/"
        },
        "id": "STK8iH7WOkuz",
        "outputId": "03e89917-50bb-4d8c-90bd-2b9453bb9b47"
      },
      "outputs": [
        {
          "output_type": "stream",
          "name": "stdout",
          "text": [
            "mycopy:        [9 6 8 5 3 7]\n",
            "my_array_int:  [9 6 8 5 3 7]\n"
          ]
        }
      ],
      "source": [
        "mycopy = my_array_int.view()   # Original view of the array (reference), if you change the elements of the viewed array it effects the original array\n",
        "\n",
        "mycopy[0] = 9\n",
        "\n",
        "print(\"mycopy:       \", mycopy)\n",
        "print(\"my_array_int: \", my_array_int)"
      ]
    },
    {
      "cell_type": "markdown",
      "metadata": {
        "id": "oAgJDVTKOkuz"
      },
      "source": [
        "Multi Dimensional Array"
      ]
    },
    {
      "cell_type": "code",
      "execution_count": 23,
      "metadata": {
        "colab": {
          "base_uri": "https://localhost:8080/"
        },
        "id": "-JHyvGk3Oku0",
        "outputId": "dc7e4ba5-c87a-43bb-c828-bbf2c813d9af"
      },
      "outputs": [
        {
          "output_type": "stream",
          "name": "stdout",
          "text": [
            "npmulti.shape:  (2, 3)\n"
          ]
        },
        {
          "output_type": "execute_result",
          "data": {
            "text/plain": [
              "array([[10, 20, 30],\n",
              "       [40, 50, 60]])"
            ]
          },
          "metadata": {},
          "execution_count": 23
        }
      ],
      "source": [
        "npmulti = np.array([[10,20,30],[40,50,60]])\n",
        "\n",
        "print(\"npmulti.shape: \", npmulti.shape)   # The number of elements in each dimension\n",
        "npmulti"
      ]
    },
    {
      "cell_type": "code",
      "execution_count": 24,
      "metadata": {
        "colab": {
          "base_uri": "https://localhost:8080/"
        },
        "id": "t4Sd26CXOku0",
        "outputId": "ae0966b5-dd54-407c-dfc6-f082080b5a48"
      },
      "outputs": [
        {
          "output_type": "stream",
          "name": "stdout",
          "text": [
            "npmulti2.shape:  (2,)\n"
          ]
        },
        {
          "output_type": "stream",
          "name": "stderr",
          "text": [
            "<ipython-input-24-b498a6addc56>:2: VisibleDeprecationWarning: Creating an ndarray from ragged nested sequences (which is a list-or-tuple of lists-or-tuples-or ndarrays with different lengths or shapes) is deprecated. If you meant to do this, you must specify 'dtype=object' when creating the ndarray.\n",
            "  npmulti2 = np.array([[10,20,30],[40,50,60,30]])\n"
          ]
        },
        {
          "output_type": "execute_result",
          "data": {
            "text/plain": [
              "array([list([10, 20, 30]), list([40, 50, 60, 30])], dtype=object)"
            ]
          },
          "metadata": {},
          "execution_count": 24
        }
      ],
      "source": [
        "# Creating array with diferent size of members in indexes\n",
        "npmulti2 = np.array([[10,20,30],[40,50,60,30]])\n",
        "print(\"npmulti2.shape: \", npmulti2.shape)\n",
        "npmulti2"
      ]
    },
    {
      "cell_type": "code",
      "execution_count": 25,
      "metadata": {
        "colab": {
          "base_uri": "https://localhost:8080/"
        },
        "id": "FfR_zmzCOku0",
        "outputId": "8f8d0336-1fab-46dd-be39-0202e8fdf455"
      },
      "outputs": [
        {
          "output_type": "execute_result",
          "data": {
            "text/plain": [
              "array([[10, 20],\n",
              "       [30, 40],\n",
              "       [50, 60]])"
            ]
          },
          "metadata": {},
          "execution_count": 25
        }
      ],
      "source": [
        "npmulti.reshape(3,2)"
      ]
    },
    {
      "cell_type": "code",
      "execution_count": 26,
      "metadata": {
        "colab": {
          "base_uri": "https://localhost:8080/"
        },
        "id": "dWzPpySAOku0",
        "outputId": "4e1b81a8-3c76-4be7-9178-686f30fceede"
      },
      "outputs": [
        {
          "output_type": "execute_result",
          "data": {
            "text/plain": [
              "array([10, 20, 30, 40, 50, 60])"
            ]
          },
          "metadata": {},
          "execution_count": 26
        }
      ],
      "source": [
        "npmulti.reshape(-1)  # Flaten the array"
      ]
    },
    {
      "cell_type": "markdown",
      "metadata": {
        "id": "6thrGDGiOku0"
      },
      "source": [
        "np.nditer() func"
      ]
    },
    {
      "cell_type": "code",
      "execution_count": 27,
      "metadata": {
        "colab": {
          "base_uri": "https://localhost:8080/"
        },
        "id": "F4l2nOLxOku0",
        "outputId": "21d408d0-9ae1-4d54-e571-ee231db2182c"
      },
      "outputs": [
        {
          "output_type": "stream",
          "name": "stdout",
          "text": [
            "10\n",
            "20\n",
            "30\n",
            "40\n",
            "50\n",
            "60\n"
          ]
        }
      ],
      "source": [
        "for x in np.nditer(npmulti):    # Iterate each element in the given array\n",
        "    print(x)"
      ]
    },
    {
      "cell_type": "markdown",
      "metadata": {
        "id": "eq9qXHgTOku0"
      },
      "source": [
        "np.ndenumerate() func"
      ]
    },
    {
      "cell_type": "code",
      "execution_count": 28,
      "metadata": {
        "colab": {
          "base_uri": "https://localhost:8080/"
        },
        "id": "oXYKIMO8Oku0",
        "outputId": "484dd222-1bb7-41c1-856d-d4fbe21cb949"
      },
      "outputs": [
        {
          "output_type": "stream",
          "name": "stdout",
          "text": [
            "(0, 0) 10\n",
            "(0, 1) 20\n",
            "(0, 2) 30\n",
            "(1, 0) 40\n",
            "(1, 1) 50\n",
            "(1, 2) 60\n"
          ]
        }
      ],
      "source": [
        "for (x,y) in np.ndenumerate(npmulti):\n",
        "    print(x,y)"
      ]
    },
    {
      "cell_type": "code",
      "execution_count": 29,
      "metadata": {
        "colab": {
          "base_uri": "https://localhost:8080/"
        },
        "id": "Zb2HNyS_Oku0",
        "outputId": "67bdee9a-0ec7-49f1-de20-e83b340ae414"
      },
      "outputs": [
        {
          "output_type": "stream",
          "name": "stdout",
          "text": [
            "array1.shape (2, 2)\n",
            "array2.shape (2, 2)\n"
          ]
        }
      ],
      "source": [
        "array1 = np.array([[1,2],[3,4]])\n",
        "array2 = np.array([[5,6],[7,8]])\n",
        "\n",
        "print(\"array1.shape\", array1.shape)\n",
        "print(\"array2.shape\", array2.shape)"
      ]
    },
    {
      "cell_type": "markdown",
      "metadata": {
        "id": "-KEcMIA8Oku4"
      },
      "source": [
        "np.concatenate() func"
      ]
    },
    {
      "cell_type": "code",
      "execution_count": 30,
      "metadata": {
        "colab": {
          "base_uri": "https://localhost:8080/"
        },
        "id": "u__0ip2tOku4",
        "outputId": "9a741e01-94d4-4f2a-a87c-74a6da43e085"
      },
      "outputs": [
        {
          "output_type": "execute_result",
          "data": {
            "text/plain": [
              "array([[1, 2],\n",
              "       [3, 4],\n",
              "       [5, 6],\n",
              "       [7, 8]])"
            ]
          },
          "metadata": {},
          "execution_count": 30
        }
      ],
      "source": [
        "np.concatenate((array1,array2), axis=0)    # axis - row wise concatenate"
      ]
    },
    {
      "cell_type": "code",
      "execution_count": 31,
      "metadata": {
        "colab": {
          "base_uri": "https://localhost:8080/"
        },
        "id": "la5NTxw3Oku4",
        "outputId": "16d98ad9-9ad5-4166-d3fc-bafa34d9e66d"
      },
      "outputs": [
        {
          "output_type": "execute_result",
          "data": {
            "text/plain": [
              "array([[1, 2, 5, 6],\n",
              "       [3, 4, 7, 8]])"
            ]
          },
          "metadata": {},
          "execution_count": 31
        }
      ],
      "source": [
        "np.concatenate((array1,array2), axis=1)    # axis - column wise concatenate"
      ]
    },
    {
      "cell_type": "code",
      "execution_count": 32,
      "metadata": {
        "colab": {
          "base_uri": "https://localhost:8080/"
        },
        "id": "n3aOA8-HOku4",
        "outputId": "3e44bea0-816c-49f6-b95a-3c9e9918ad1a"
      },
      "outputs": [
        {
          "output_type": "execute_result",
          "data": {
            "text/plain": [
              "array([1, 2, 3, 4, 5, 6, 7, 8])"
            ]
          },
          "metadata": {},
          "execution_count": 32
        }
      ],
      "source": [
        "np.concatenate((array1,array2), axis=None)  # flaten concatenate"
      ]
    },
    {
      "cell_type": "markdown",
      "metadata": {
        "id": "gLGPXLykOku5"
      },
      "source": [
        "np.stack() func"
      ]
    },
    {
      "cell_type": "code",
      "execution_count": 33,
      "metadata": {
        "colab": {
          "base_uri": "https://localhost:8080/"
        },
        "id": "s5UkIbGgOku5",
        "outputId": "ef6ea9db-58dd-419f-e342-51469edfb83e"
      },
      "outputs": [
        {
          "output_type": "stream",
          "name": "stdout",
          "text": [
            "row_stck.shape (2, 2, 2)\n"
          ]
        },
        {
          "output_type": "execute_result",
          "data": {
            "text/plain": [
              "array([[[1, 2],\n",
              "        [3, 4]],\n",
              "\n",
              "       [[5, 6],\n",
              "        [7, 8]]])"
            ]
          },
          "metadata": {},
          "execution_count": 33
        }
      ],
      "source": [
        "row_stck = np.stack((array1,array2), axis=0)  # First dimension\n",
        "print(\"row_stck.shape\", row_stck.shape)\n",
        "row_stck"
      ]
    },
    {
      "cell_type": "code",
      "execution_count": 34,
      "metadata": {
        "colab": {
          "base_uri": "https://localhost:8080/"
        },
        "id": "srxmOUA9Oku5",
        "outputId": "d235d6fc-2802-4a3b-922c-db5db933cf01"
      },
      "outputs": [
        {
          "output_type": "execute_result",
          "data": {
            "text/plain": [
              "array([[[1, 2],\n",
              "        [5, 6]],\n",
              "\n",
              "       [[3, 4],\n",
              "        [7, 8]]])"
            ]
          },
          "metadata": {},
          "execution_count": 34
        }
      ],
      "source": [
        "np.stack((array1,array2), axis=1)    # Second dimension"
      ]
    },
    {
      "cell_type": "code",
      "execution_count": 35,
      "metadata": {
        "colab": {
          "base_uri": "https://localhost:8080/"
        },
        "id": "aOJSciAXOku5",
        "outputId": "d971e70c-9fb1-423e-d9e4-486112984912"
      },
      "outputs": [
        {
          "output_type": "execute_result",
          "data": {
            "text/plain": [
              "array([[[1, 5],\n",
              "        [2, 6]],\n",
              "\n",
              "       [[3, 7],\n",
              "        [4, 8]]])"
            ]
          },
          "metadata": {},
          "execution_count": 35
        }
      ],
      "source": [
        "np.stack((array1,array2), axis=-1)   # Last dimension"
      ]
    },
    {
      "cell_type": "code",
      "execution_count": 36,
      "metadata": {
        "colab": {
          "base_uri": "https://localhost:8080/"
        },
        "id": "vauz12DUOku5",
        "outputId": "d6da1a2d-0255-432d-d359-34a2b2e961ae"
      },
      "outputs": [
        {
          "output_type": "execute_result",
          "data": {
            "text/plain": [
              "array([[[1, 5],\n",
              "        [2, 6]],\n",
              "\n",
              "       [[3, 7],\n",
              "        [4, 8]]])"
            ]
          },
          "metadata": {},
          "execution_count": 36
        }
      ],
      "source": [
        "np.stack((array1,array2), axis=2)"
      ]
    },
    {
      "cell_type": "code",
      "execution_count": 37,
      "metadata": {
        "colab": {
          "base_uri": "https://localhost:8080/"
        },
        "id": "y3zKI0qyOku5",
        "outputId": "1d33145e-d6eb-48f0-ce98-e01dc034ae96"
      },
      "outputs": [
        {
          "output_type": "execute_result",
          "data": {
            "text/plain": [
              "(1, 1, 1)"
            ]
          },
          "metadata": {},
          "execution_count": 37
        }
      ],
      "source": [
        "np.array([[[9]]]).shape"
      ]
    },
    {
      "cell_type": "markdown",
      "metadata": {
        "id": "tCdDI3nDOku5"
      },
      "source": [
        "np.hstack() func"
      ]
    },
    {
      "cell_type": "code",
      "execution_count": 38,
      "metadata": {
        "colab": {
          "base_uri": "https://localhost:8080/"
        },
        "id": "pgHMxKnFOku5",
        "outputId": "8f10984e-c282-46c7-8f29-4d77c9f1ac8e"
      },
      "outputs": [
        {
          "output_type": "execute_result",
          "data": {
            "text/plain": [
              "array([[1, 2, 5, 6],\n",
              "       [3, 4, 7, 8]])"
            ]
          },
          "metadata": {},
          "execution_count": 38
        }
      ],
      "source": [
        "np.hstack((array1,array2))   # Horizantally"
      ]
    },
    {
      "cell_type": "markdown",
      "metadata": {
        "id": "53GUURN0Oku5"
      },
      "source": [
        "np.vstack() func"
      ]
    },
    {
      "cell_type": "code",
      "execution_count": 39,
      "metadata": {
        "colab": {
          "base_uri": "https://localhost:8080/"
        },
        "id": "CHye6fAlOku5",
        "outputId": "d595c0fc-c10a-45e0-f96e-516b9b5dbf92"
      },
      "outputs": [
        {
          "output_type": "execute_result",
          "data": {
            "text/plain": [
              "array([[1, 2],\n",
              "       [3, 4],\n",
              "       [5, 6],\n",
              "       [7, 8]])"
            ]
          },
          "metadata": {},
          "execution_count": 39
        }
      ],
      "source": [
        "np.vstack((array1,array2))   # Vertically"
      ]
    },
    {
      "cell_type": "markdown",
      "metadata": {
        "id": "2Zf0AD1ROku5"
      },
      "source": [
        "np.dstack() func"
      ]
    },
    {
      "cell_type": "code",
      "execution_count": 40,
      "metadata": {
        "colab": {
          "base_uri": "https://localhost:8080/"
        },
        "id": "kneDq3QSOku5",
        "outputId": "7e57d7c3-75a5-4001-9a47-fd0bddc00b92"
      },
      "outputs": [
        {
          "output_type": "execute_result",
          "data": {
            "text/plain": [
              "array([[[1, 5],\n",
              "        [2, 6]],\n",
              "\n",
              "       [[3, 7],\n",
              "        [4, 8]]])"
            ]
          },
          "metadata": {},
          "execution_count": 40
        }
      ],
      "source": [
        "np.dstack((array1,array2))  # Stack arrays in sequence depth wise (along a third axis)\n",
        "# to concatenation along the third axis after 2-D arrays\n",
        "# of shape `(M,N)` have been reshaped to `(M,N,1)` and 1-D arrays of shape\n",
        "#`(N,)` have been reshaped to `(1,N,1)`."
      ]
    },
    {
      "cell_type": "markdown",
      "metadata": {
        "id": "1Ij3Ng7hOku6"
      },
      "source": [
        "np.array_split() func"
      ]
    },
    {
      "cell_type": "code",
      "execution_count": 41,
      "metadata": {
        "colab": {
          "base_uri": "https://localhost:8080/"
        },
        "id": "CPSvxHF_Oku6",
        "outputId": "c9d16cc5-a373-481b-b675-fefc1da4b0d3"
      },
      "outputs": [
        {
          "output_type": "execute_result",
          "data": {
            "text/plain": [
              "[array([1, 2, 3]), array([4, 5, 6])]"
            ]
          },
          "metadata": {},
          "execution_count": 41
        }
      ],
      "source": [
        "np.array_split(np.array([1,2,3,4,5,6]), 2)"
      ]
    },
    {
      "cell_type": "code",
      "execution_count": 42,
      "metadata": {
        "colab": {
          "base_uri": "https://localhost:8080/"
        },
        "id": "tGUSFFEzOku6",
        "outputId": "61501fe7-bbc0-47e6-cc5b-1dcbfe697e00"
      },
      "outputs": [
        {
          "output_type": "execute_result",
          "data": {
            "text/plain": [
              "[array([1, 2]), array([3, 4]), array([5, 6])]"
            ]
          },
          "metadata": {},
          "execution_count": 42
        }
      ],
      "source": [
        "np.array_split(np.array([1,2,3,4,5,6]), 3)"
      ]
    },
    {
      "cell_type": "code",
      "execution_count": 43,
      "metadata": {
        "colab": {
          "base_uri": "https://localhost:8080/"
        },
        "id": "TJn0GxOmOku6",
        "outputId": "22efc0d2-b1f1-424e-b098-f39235f4723a"
      },
      "outputs": [
        {
          "output_type": "execute_result",
          "data": {
            "text/plain": [
              "[array([1, 2]), array([3, 4]), array([5]), array([6])]"
            ]
          },
          "metadata": {},
          "execution_count": 43
        }
      ],
      "source": [
        "np.array_split(np.array([1,2,3,4,5,6]), 4)"
      ]
    },
    {
      "cell_type": "markdown",
      "metadata": {
        "id": "gbhQ_kqsOku6"
      },
      "source": [
        "np.where() func"
      ]
    },
    {
      "cell_type": "code",
      "execution_count": 44,
      "metadata": {
        "colab": {
          "base_uri": "https://localhost:8080/"
        },
        "id": "lAz6M2WsOku6",
        "outputId": "4b3ccdc7-9288-4cfd-c3b8-c0aa61c9aac1"
      },
      "outputs": [
        {
          "output_type": "execute_result",
          "data": {
            "text/plain": [
              "(array([0, 1, 2, 3]),)"
            ]
          },
          "metadata": {},
          "execution_count": 44
        }
      ],
      "source": [
        "myarray = np.array([10,  9,  8,  7,  6,  5,  4,  3,  2,  1])\n",
        "\n",
        "new_list = np.where(myarray > 6)    # np.where() function returns indexes of the elements that obeys the condition\n",
        "new_list"
      ]
    },
    {
      "cell_type": "code",
      "execution_count": 45,
      "metadata": {
        "colab": {
          "base_uri": "https://localhost:8080/"
        },
        "id": "N-zm0inZOku6",
        "outputId": "1a888053-bf35-4669-b84d-0a8f8dda6d3c"
      },
      "outputs": [
        {
          "output_type": "execute_result",
          "data": {
            "text/plain": [
              "array([10,  9,  8,  7])"
            ]
          },
          "metadata": {},
          "execution_count": 45
        }
      ],
      "source": [
        "new_list = myarray[myarray > 6]    # It returns elements that obeys the condition\n",
        "new_list"
      ]
    },
    {
      "cell_type": "code",
      "execution_count": 46,
      "metadata": {
        "colab": {
          "base_uri": "https://localhost:8080/"
        },
        "id": "YLFJga-GOku6",
        "outputId": "43484043-033b-4b06-c9df-1d1ae1875918"
      },
      "outputs": [
        {
          "output_type": "execute_result",
          "data": {
            "text/plain": [
              "(array([0, 2, 4, 6, 8]),)"
            ]
          },
          "metadata": {},
          "execution_count": 46
        }
      ],
      "source": [
        "np.where(myarray % 2 == 0)"
      ]
    },
    {
      "cell_type": "markdown",
      "metadata": {
        "id": "RhNNrvFcOku6"
      },
      "source": [
        "np.char.index() func"
      ]
    },
    {
      "cell_type": "code",
      "execution_count": 47,
      "metadata": {
        "colab": {
          "base_uri": "https://localhost:8080/"
        },
        "id": "Dzsqv1RrOku6",
        "outputId": "f25e5314-5a64-462b-c842-9245155e0554"
      },
      "outputs": [
        {
          "output_type": "execute_result",
          "data": {
            "text/plain": [
              "array(['mango', 'banana'], dtype='<U6')"
            ]
          },
          "metadata": {},
          "execution_count": 47
        }
      ],
      "source": [
        "fruits=np.array([\"mango\",\"banana\",\"apple\",\"orange\"])\n",
        "\n",
        "fruits[np.char.index(fruits, sub='a') == 1]    # Returns elements that 2nd character is 'a' (element index:1)"
      ]
    },
    {
      "cell_type": "code",
      "execution_count": 48,
      "metadata": {
        "colab": {
          "base_uri": "https://localhost:8080/"
        },
        "id": "nx7VLAEfOku7",
        "outputId": "59a12966-cae6-4db8-f732-3822d7d52765"
      },
      "outputs": [
        {
          "output_type": "execute_result",
          "data": {
            "text/plain": [
              "array(['banana'], dtype='<U6')"
            ]
          },
          "metadata": {},
          "execution_count": 48
        }
      ],
      "source": [
        "fruits[fruits == 'banana']"
      ]
    },
    {
      "cell_type": "markdown",
      "metadata": {
        "id": "6aEzN16SOku7"
      },
      "source": [
        "np.random.normal() func"
      ]
    },
    {
      "cell_type": "code",
      "execution_count": 49,
      "metadata": {
        "colab": {
          "base_uri": "https://localhost:8080/"
        },
        "id": "ec9ZMxhEOku7",
        "outputId": "6b3418df-fec5-416e-8caf-50a99cd6e3da"
      },
      "outputs": [
        {
          "output_type": "execute_result",
          "data": {
            "text/plain": [
              "array([43.41419267, 37.55858869, 44.22167351, 44.28922967, 44.59312602,\n",
              "       35.05713885, 44.26852354, 47.3339957 , 46.8397682 , 51.34528023,\n",
              "       69.5867351 , 50.78418218, 42.88031252, 57.85130816, 45.66479339,\n",
              "       35.06491524, 44.92863782, 76.23467479, 50.17555407, 64.71137197])"
            ]
          },
          "metadata": {},
          "execution_count": 49
        }
      ],
      "source": [
        "np.random.normal(50,10,20) # mean, standard dev. number of instances"
      ]
    },
    {
      "cell_type": "markdown",
      "metadata": {
        "id": "01zd3aPkOku7"
      },
      "source": [
        "np.corrcoef() func"
      ]
    },
    {
      "cell_type": "code",
      "execution_count": 50,
      "metadata": {
        "colab": {
          "base_uri": "https://localhost:8080/"
        },
        "id": "1XKPihwgOku7",
        "outputId": "ea49bd96-9a14-4c07-da3e-abe46505cc17"
      },
      "outputs": [
        {
          "output_type": "execute_result",
          "data": {
            "text/plain": [
              "array([[ 1.        , -0.09312051],\n",
              "       [-0.09312051,  1.        ]])"
            ]
          },
          "metadata": {},
          "execution_count": 50
        }
      ],
      "source": [
        "citizen_weight = np.round(np.random.normal(65,20,20), 2)\n",
        "citizen_height = np.round(np.random.normal(1.65,0.3,20), 2)\n",
        "\n",
        "np.corrcoef(citizen_height,citizen_weight)"
      ]
    },
    {
      "cell_type": "code",
      "execution_count": 51,
      "metadata": {
        "colab": {
          "base_uri": "https://localhost:8080/"
        },
        "id": "WUt0UIMCOku7",
        "outputId": "2c020336-6876-49b9-d84d-e7019ad6a3c4"
      },
      "outputs": [
        {
          "output_type": "execute_result",
          "data": {
            "text/plain": [
              "array([ 47.41,  28.15,  92.41, 117.85,  88.32,  20.4 ,  48.34,  39.04,\n",
              "        74.86,  89.01,  70.84,  64.15,  79.3 ,  69.13,  69.44,  61.47,\n",
              "        61.5 ,  71.03,  43.76,  59.6 ])"
            ]
          },
          "metadata": {},
          "execution_count": 51
        }
      ],
      "source": [
        "citizen_weight"
      ]
    },
    {
      "cell_type": "code",
      "execution_count": 52,
      "metadata": {
        "colab": {
          "base_uri": "https://localhost:8080/"
        },
        "id": "akcBnJYKOku7",
        "outputId": "418ace10-fd77-47ff-abd6-6446c6d612a3"
      },
      "outputs": [
        {
          "output_type": "execute_result",
          "data": {
            "text/plain": [
              "array([2.13, 1.58, 1.61, 1.55, 1.77, 1.61, 1.62, 1.47, 1.43, 1.56, 1.75,\n",
              "       1.71, 1.54, 1.36, 1.3 , 1.73, 1.87, 1.39, 1.46, 1.4 ])"
            ]
          },
          "metadata": {},
          "execution_count": 52
        }
      ],
      "source": [
        "citizen_height"
      ]
    },
    {
      "cell_type": "markdown",
      "metadata": {
        "id": "0eDRKir3Oku7"
      },
      "source": [
        "np.column_stack() func"
      ]
    },
    {
      "cell_type": "code",
      "execution_count": 53,
      "metadata": {
        "colab": {
          "base_uri": "https://localhost:8080/"
        },
        "id": "y1TRCgzrOku7",
        "outputId": "a6028355-e02d-4373-cc0e-940c60e369b0"
      },
      "outputs": [
        {
          "output_type": "execute_result",
          "data": {
            "text/plain": [
              "array([[  2.13,  47.41],\n",
              "       [  1.58,  28.15],\n",
              "       [  1.61,  92.41],\n",
              "       [  1.55, 117.85],\n",
              "       [  1.77,  88.32],\n",
              "       [  1.61,  20.4 ],\n",
              "       [  1.62,  48.34],\n",
              "       [  1.47,  39.04],\n",
              "       [  1.43,  74.86],\n",
              "       [  1.56,  89.01],\n",
              "       [  1.75,  70.84],\n",
              "       [  1.71,  64.15],\n",
              "       [  1.54,  79.3 ],\n",
              "       [  1.36,  69.13],\n",
              "       [  1.3 ,  69.44],\n",
              "       [  1.73,  61.47],\n",
              "       [  1.87,  61.5 ],\n",
              "       [  1.39,  71.03],\n",
              "       [  1.46,  43.76],\n",
              "       [  1.4 ,  59.6 ]])"
            ]
          },
          "metadata": {},
          "execution_count": 53
        }
      ],
      "source": [
        "citizen = np.column_stack((citizen_height,citizen_weight))\n",
        "citizen"
      ]
    },
    {
      "cell_type": "markdown",
      "metadata": {
        "id": "tnnhgRC3Oku7"
      },
      "source": [
        "np.dot() func"
      ]
    },
    {
      "cell_type": "code",
      "execution_count": 54,
      "metadata": {
        "colab": {
          "base_uri": "https://localhost:8080/"
        },
        "id": "RcN8T8f_Oku7",
        "outputId": "418c0d03-ba54-48e8-f1c4-353a9ac25b68"
      },
      "outputs": [
        {
          "output_type": "execute_result",
          "data": {
            "text/plain": [
              "array([[ 58,  64],\n",
              "       [139, 154]])"
            ]
          },
          "metadata": {},
          "execution_count": 54
        }
      ],
      "source": [
        "matrixA = np.array([[1,2,3],[4,5,6]])\n",
        "matrixB = np.array([[7,8],[9,10],[11,12]])\n",
        "\n",
        "np.dot(matrixA,matrixB)   # Dot product of two arrays (matrix multiplication)"
      ]
    },
    {
      "cell_type": "code",
      "execution_count": 55,
      "metadata": {
        "colab": {
          "base_uri": "https://localhost:8080/"
        },
        "id": "dsQ6RAYuOku8",
        "outputId": "1ea31b97-4288-4f15-e147-4c770510d151"
      },
      "outputs": [
        {
          "output_type": "execute_result",
          "data": {
            "text/plain": [
              "array([[ 7, 16, 27],\n",
              "       [40, 55, 72]])"
            ]
          },
          "metadata": {},
          "execution_count": 55
        }
      ],
      "source": [
        "matrixC = np.array([[1,2,3],[4,5,6]])\n",
        "matrixD = np.array([[7,8,9],[10,11,12]])\n",
        "\n",
        "np.multiply(matrixC,matrixD)   # Multiply arguments element-wise."
      ]
    },
    {
      "cell_type": "markdown",
      "metadata": {
        "id": "KQAQ3uScOku8"
      },
      "source": [
        "np.transpose() func"
      ]
    },
    {
      "cell_type": "code",
      "execution_count": 56,
      "metadata": {
        "colab": {
          "base_uri": "https://localhost:8080/"
        },
        "id": "rRUDK8dvOku8",
        "outputId": "1060e71f-5f0a-4291-9d5e-a576ce05709a"
      },
      "outputs": [
        {
          "output_type": "execute_result",
          "data": {
            "text/plain": [
              "array([[1, 4],\n",
              "       [2, 5],\n",
              "       [3, 6]])"
            ]
          },
          "metadata": {},
          "execution_count": 56
        }
      ],
      "source": [
        "np.transpose(matrixA)\n",
        "# OR\n",
        "matrixA.T"
      ]
    },
    {
      "cell_type": "markdown",
      "metadata": {
        "id": "107ffJMROku8"
      },
      "source": [
        "np.linalg.det()"
      ]
    },
    {
      "cell_type": "code",
      "execution_count": 57,
      "metadata": {
        "colab": {
          "base_uri": "https://localhost:8080/"
        },
        "id": "qSEnJd8AOku8",
        "outputId": "3a28a42b-3314-4100-afb1-7a91707fc707"
      },
      "outputs": [
        {
          "output_type": "execute_result",
          "data": {
            "text/plain": [
              "36.000000000000256"
            ]
          },
          "metadata": {},
          "execution_count": 57
        }
      ],
      "source": [
        "np.linalg.det(np.dot(matrixA,matrixB))   # Compute the determinant of an array."
      ]
    },
    {
      "cell_type": "markdown",
      "metadata": {
        "id": "7jpV3Ic7Oku8"
      },
      "source": [
        "np.linalg.inv()"
      ]
    },
    {
      "cell_type": "code",
      "execution_count": 58,
      "metadata": {
        "colab": {
          "base_uri": "https://localhost:8080/"
        },
        "id": "kpd8m2h3Oku8",
        "outputId": "05748118-1b73-4583-92fb-773890de9946"
      },
      "outputs": [
        {
          "output_type": "execute_result",
          "data": {
            "text/plain": [
              "array([[ 4.27777778, -1.77777778],\n",
              "       [-3.86111111,  1.61111111]])"
            ]
          },
          "metadata": {},
          "execution_count": 58
        }
      ],
      "source": [
        "np.linalg.inv(np.dot(matrixA,matrixB))   # Compute the (multiplicative) inverse of a matrix."
      ]
    },
    {
      "cell_type": "markdown",
      "metadata": {
        "id": "PoPUfNJxOku8"
      },
      "source": [
        "np.identity()"
      ]
    },
    {
      "cell_type": "code",
      "execution_count": 59,
      "metadata": {
        "colab": {
          "base_uri": "https://localhost:8080/"
        },
        "id": "IgMmmFzqOku8",
        "outputId": "d5a3e3b5-39dc-4815-e06b-1dbd22a64ea8"
      },
      "outputs": [
        {
          "output_type": "execute_result",
          "data": {
            "text/plain": [
              "array([[1., 0., 0.],\n",
              "       [0., 1., 0.],\n",
              "       [0., 0., 1.]])"
            ]
          },
          "metadata": {},
          "execution_count": 59
        }
      ],
      "source": [
        "identityMatrix = np.identity(3)\n",
        "identityMatrix"
      ]
    },
    {
      "cell_type": "markdown",
      "metadata": {
        "id": "ejdNkLlfOku8"
      },
      "source": [
        "np.zeros()"
      ]
    },
    {
      "cell_type": "code",
      "execution_count": 60,
      "metadata": {
        "colab": {
          "base_uri": "https://localhost:8080/"
        },
        "id": "UOnPqaHVOku8",
        "outputId": "b0df6453-2e84-4ac6-f3aa-1ccaaadec5af"
      },
      "outputs": [
        {
          "output_type": "execute_result",
          "data": {
            "text/plain": [
              "array([[0., 0., 0., 0., 0.],\n",
              "       [0., 0., 0., 0., 0.]])"
            ]
          },
          "metadata": {},
          "execution_count": 60
        }
      ],
      "source": [
        "zeroMatrix = np.zeros([2,5])\n",
        "zeroMatrix"
      ]
    },
    {
      "cell_type": "code",
      "execution_count": 61,
      "metadata": {
        "colab": {
          "base_uri": "https://localhost:8080/"
        },
        "id": "dsNVAFsBOku8",
        "outputId": "e91f0f58-f1a7-41cb-b264-0191186787d6"
      },
      "outputs": [
        {
          "output_type": "execute_result",
          "data": {
            "text/plain": [
              "array([0., 0., 0., 0., 0., 0.])"
            ]
          },
          "metadata": {},
          "execution_count": 61
        }
      ],
      "source": [
        "np.zeros(6)"
      ]
    },
    {
      "cell_type": "code",
      "execution_count": 62,
      "metadata": {
        "colab": {
          "base_uri": "https://localhost:8080/"
        },
        "id": "EvhBgaL-Oku9",
        "outputId": "e2595eb3-2804-48e2-b1c6-11a056d0d4ad"
      },
      "outputs": [
        {
          "output_type": "execute_result",
          "data": {
            "text/plain": [
              "(2, 6, 8, 3)"
            ]
          },
          "metadata": {},
          "execution_count": 62
        }
      ],
      "source": [
        "img_array = np.array([\n",
        "[\n",
        "[[0.0,1.0,0.5],[0.0,1.0,0.5],[0.0,1.0,0.5],[0.0,1.0,0.5],[0.0,1.0,0.5],[0.0,1.0,0.5],[0.0,1.0,0.5],[0.0,1.0,0.5]],\n",
        "[[0.0,1.0,0.5],[0.0,1.0,0.5],[0.0,1.0,0.5],[0.0,1.0,0.5],[0.0,1.0,0.5],[0.0,1.0,0.5],[0.0,1.0,0.5],[0.0,1.0,0.5]],\n",
        "[[0.0,1.0,0.5],[0.0,1.0,0.5],[0.0,1.0,0.5],[0.0,1.0,0.5],[0.0,1.0,0.5],[0.0,1.0,0.5],[0.0,1.0,0.5],[0.0,1.0,0.5]],\n",
        "[[0.0,1.0,0.5],[0.0,1.0,0.5],[0.0,1.0,0.5],[0.0,1.0,0.5],[0.0,1.0,0.5],[0.0,1.0,0.5],[0.0,1.0,0.5],[0.0,1.0,0.5]],\n",
        "[[0.0,1.0,0.5],[0.0,1.0,0.5],[0.0,1.0,0.5],[0.0,1.0,0.5],[0.0,1.0,0.5],[0.0,1.0,0.5],[0.0,1.0,0.5],[0.0,1.0,0.5]],\n",
        "[[0.0,1.0,0.5],[0.0,1.0,0.5],[0.0,1.0,0.5],[0.0,1.0,0.5],[0.0,1.0,0.5],[0.0,1.0,0.5],[0.0,1.0,0.5],[0.0,1.0,0.5]]\n",
        "],\n",
        "[\n",
        "[[0.0,0.0,0.5],[0.0,0.0,0.5],[0.0,0.0,0.5],[0.0,0.0,0.5],[0.0,0.0,0.5],[0.0,0.0,0.5],[0.0,0.0,0.5],[0.0,0.0,0.5]],\n",
        "[[0.0,0.0,0.5],[0.0,0.0,0.5],[0.0,0.0,0.5],[0.0,0.0,0.5],[0.0,0.0,0.5],[0.0,0.0,0.5],[0.0,0.0,0.5],[0.0,0.0,0.5]],\n",
        "[[0.0,0.0,0.5],[0.0,0.0,0.5],[0.0,0.0,0.5],[0.0,0.0,0.5],[0.0,0.0,0.5],[0.0,0.0,0.5],[0.0,0.0,0.5],[0.0,0.0,0.5]],\n",
        "[[0.0,0.0,0.5],[0.0,0.0,0.5],[0.0,0.0,0.5],[0.0,0.0,0.5],[0.0,0.0,0.5],[0.0,0.0,0.5],[0.0,0.0,0.5],[0.0,0.0,0.5]],\n",
        "[[0.0,0.0,0.5],[0.0,0.0,0.5],[0.0,0.0,0.5],[0.0,0.0,0.5],[0.0,0.0,0.5],[0.0,0.0,0.5],[0.0,0.0,0.5],[0.0,0.0,0.5]],\n",
        "[[0.0,0.0,0.5],[0.0,0.0,0.5],[0.0,0.0,0.5],[0.0,0.0,0.5],[0.0,0.0,0.5],[0.0,0.0,0.5],[0.0,0.0,0.5],[0.0,0.0,0.5]]\n",
        "]])\n",
        "img_array.shape    # This is 6x8 RGB image pair (It consists of two different images)"
      ]
    },
    {
      "cell_type": "code",
      "execution_count": 63,
      "metadata": {
        "id": "3aaBkw_vOku9"
      },
      "outputs": [],
      "source": [
        "IMG_SIZE = (6,8)"
      ]
    },
    {
      "cell_type": "code",
      "execution_count": 64,
      "metadata": {
        "colab": {
          "base_uri": "https://localhost:8080/"
        },
        "id": "FIoCWv7bOku9",
        "outputId": "d2869f10-60ad-4b80-c94e-f29c05cdf345"
      },
      "outputs": [
        {
          "output_type": "execute_result",
          "data": {
            "text/plain": [
              "(6, 8, 3)"
            ]
          },
          "metadata": {},
          "execution_count": 64
        }
      ],
      "source": [
        "first_img = img_array[0]\n",
        "first_img.shape"
      ]
    },
    {
      "cell_type": "code",
      "execution_count": 65,
      "metadata": {
        "id": "xWYzKuywOku9"
      },
      "outputs": [],
      "source": [
        "def get_img_color(img, size, color=0):     # This function returns a reshaped image array that has only one color option for RGB images\n",
        "    color_arr = np.zeros(size)\n",
        "    img = np.array(img)\n",
        "\n",
        "    # \"color\" argument is an index of color that represents the color element of the image (R, G, B)\n",
        "    pixel_cnt = 0  # Pixel of the iamge\n",
        "    color_ix = 0   # Color index of the pixel\n",
        "\n",
        "    if len(img.shape) > 3:    # (Row, Column, Color)\n",
        "        return color_arr\n",
        "    elif len(img.shape) == 2: # (Row, Column)  -  Already one color\n",
        "        return img\n",
        "\n",
        "    for pixel in img:\n",
        "        for ind in pixel:\n",
        "            color_arr[pixel_cnt][color_ix] = ind[color]\n",
        "            color_ix += 1\n",
        "        pixel_cnt += 1\n",
        "        color_ix = 0\n",
        "\n",
        "    return color_arr"
      ]
    },
    {
      "cell_type": "code",
      "execution_count": 66,
      "metadata": {
        "colab": {
          "base_uri": "https://localhost:8080/"
        },
        "id": "tHrf4XyUOku9",
        "outputId": "1c55233e-3732-4bae-8aa7-a4a5407779f0"
      },
      "outputs": [
        {
          "output_type": "execute_result",
          "data": {
            "text/plain": [
              "array([[1., 1., 1., 1., 1., 1., 1., 1.],\n",
              "       [1., 1., 1., 1., 1., 1., 1., 1.],\n",
              "       [1., 1., 1., 1., 1., 1., 1., 1.],\n",
              "       [1., 1., 1., 1., 1., 1., 1., 1.],\n",
              "       [1., 1., 1., 1., 1., 1., 1., 1.],\n",
              "       [1., 1., 1., 1., 1., 1., 1., 1.]])"
            ]
          },
          "metadata": {},
          "execution_count": 66
        }
      ],
      "source": [
        "first_img_r = get_img_color(first_img, IMG_SIZE, 1)\n",
        "first_img_r"
      ]
    },
    {
      "cell_type": "code",
      "execution_count": 67,
      "metadata": {
        "colab": {
          "base_uri": "https://localhost:8080/"
        },
        "id": "cIzFalMROku9",
        "outputId": "cfb5857e-95c5-483b-ad5c-40015509f98f"
      },
      "outputs": [
        {
          "output_type": "execute_result",
          "data": {
            "text/plain": [
              "array([[1., 1., 1., 1., 1., 1., 1., 1.],\n",
              "       [1., 1., 1., 1., 1., 1., 1., 1.],\n",
              "       [1., 1., 1., 1., 1., 1., 1., 1.],\n",
              "       [1., 1., 1., 1., 1., 1., 1., 1.],\n",
              "       [1., 1., 1., 1., 1., 1., 1., 1.],\n",
              "       [1., 1., 1., 1., 1., 1., 1., 1.]])"
            ]
          },
          "metadata": {},
          "execution_count": 67
        }
      ],
      "source": [
        "first_img_r = get_img_color(first_img_r, IMG_SIZE, 1)   # first_img_r is already one color array\n",
        "first_img_r"
      ]
    },
    {
      "cell_type": "code",
      "source": [
        "import tensorflow as tf\n",
        "\n",
        "m = [[5, 3], [2,3], [4, 6]]\n",
        "tf.rank(m)"
      ],
      "metadata": {
        "colab": {
          "base_uri": "https://localhost:8080/"
        },
        "id": "1yviPooHO3cC",
        "outputId": "31b99f6d-f46e-440e-e3b5-a50ce1424192"
      },
      "execution_count": 68,
      "outputs": [
        {
          "output_type": "execute_result",
          "data": {
            "text/plain": [
              "<tf.Tensor: shape=(), dtype=int32, numpy=2>"
            ]
          },
          "metadata": {},
          "execution_count": 68
        }
      ]
    },
    {
      "cell_type": "markdown",
      "source": [
        "tf.reduce_max() method axis must be in the range [-rank(input_tensor),rank(input_tensor))]"
      ],
      "metadata": {
        "id": "ScQANX49O-KP"
      }
    },
    {
      "cell_type": "code",
      "source": [
        "tf.reduce_max(m, axis=-1)"
      ],
      "metadata": {
        "colab": {
          "base_uri": "https://localhost:8080/"
        },
        "id": "0GzNTcmtO7Wj",
        "outputId": "02ea97e9-5017-42a3-d5c4-64e2852bd204"
      },
      "execution_count": 69,
      "outputs": [
        {
          "output_type": "execute_result",
          "data": {
            "text/plain": [
              "<tf.Tensor: shape=(3,), dtype=int32, numpy=array([5, 3, 6], dtype=int32)>"
            ]
          },
          "metadata": {},
          "execution_count": 69
        }
      ]
    },
    {
      "cell_type": "code",
      "source": [
        "tf.reduce_max(m, axis=0)"
      ],
      "metadata": {
        "colab": {
          "base_uri": "https://localhost:8080/"
        },
        "id": "-aD9jI8hPGeV",
        "outputId": "e61d300f-504f-411e-b0c5-aff3bd1bb39a"
      },
      "execution_count": 70,
      "outputs": [
        {
          "output_type": "execute_result",
          "data": {
            "text/plain": [
              "<tf.Tensor: shape=(2,), dtype=int32, numpy=array([5, 6], dtype=int32)>"
            ]
          },
          "metadata": {},
          "execution_count": 70
        }
      ]
    },
    {
      "cell_type": "code",
      "source": [
        "tf.reduce_max(m, axis=1)"
      ],
      "metadata": {
        "colab": {
          "base_uri": "https://localhost:8080/"
        },
        "id": "FCp2aeCgPKOP",
        "outputId": "2dd71879-ff82-4b7f-cc3e-6cf992fa0fed"
      },
      "execution_count": 71,
      "outputs": [
        {
          "output_type": "execute_result",
          "data": {
            "text/plain": [
              "<tf.Tensor: shape=(3,), dtype=int32, numpy=array([5, 3, 6], dtype=int32)>"
            ]
          },
          "metadata": {},
          "execution_count": 71
        }
      ]
    },
    {
      "cell_type": "code",
      "source": [
        "tf.reduce_max(m, axis=2)"
      ],
      "metadata": {
        "colab": {
          "base_uri": "https://localhost:8080/",
          "height": 321
        },
        "id": "ltRb6Pl3PM9z",
        "outputId": "cb2d8d84-53fa-477e-9a61-30d7af32b606"
      },
      "execution_count": 72,
      "outputs": [
        {
          "output_type": "error",
          "ename": "InvalidArgumentError",
          "evalue": "ignored",
          "traceback": [
            "\u001b[0;31m---------------------------------------------------------------------------\u001b[0m",
            "\u001b[0;31mInvalidArgumentError\u001b[0m                      Traceback (most recent call last)",
            "\u001b[0;32m<ipython-input-72-c79cdb1761a5>\u001b[0m in \u001b[0;36m<cell line: 1>\u001b[0;34m()\u001b[0m\n\u001b[0;32m----> 1\u001b[0;31m \u001b[0mtf\u001b[0m\u001b[0;34m.\u001b[0m\u001b[0mreduce_max\u001b[0m\u001b[0;34m(\u001b[0m\u001b[0mm\u001b[0m\u001b[0;34m,\u001b[0m \u001b[0maxis\u001b[0m\u001b[0;34m=\u001b[0m\u001b[0;36m2\u001b[0m\u001b[0;34m)\u001b[0m\u001b[0;34m\u001b[0m\u001b[0;34m\u001b[0m\u001b[0m\n\u001b[0m",
            "\u001b[0;32m/usr/local/lib/python3.10/dist-packages/tensorflow/python/util/traceback_utils.py\u001b[0m in \u001b[0;36merror_handler\u001b[0;34m(*args, **kwargs)\u001b[0m\n\u001b[1;32m    151\u001b[0m     \u001b[0;32mexcept\u001b[0m \u001b[0mException\u001b[0m \u001b[0;32mas\u001b[0m \u001b[0me\u001b[0m\u001b[0;34m:\u001b[0m\u001b[0;34m\u001b[0m\u001b[0;34m\u001b[0m\u001b[0m\n\u001b[1;32m    152\u001b[0m       \u001b[0mfiltered_tb\u001b[0m \u001b[0;34m=\u001b[0m \u001b[0m_process_traceback_frames\u001b[0m\u001b[0;34m(\u001b[0m\u001b[0me\u001b[0m\u001b[0;34m.\u001b[0m\u001b[0m__traceback__\u001b[0m\u001b[0;34m)\u001b[0m\u001b[0;34m\u001b[0m\u001b[0;34m\u001b[0m\u001b[0m\n\u001b[0;32m--> 153\u001b[0;31m       \u001b[0;32mraise\u001b[0m \u001b[0me\u001b[0m\u001b[0;34m.\u001b[0m\u001b[0mwith_traceback\u001b[0m\u001b[0;34m(\u001b[0m\u001b[0mfiltered_tb\u001b[0m\u001b[0;34m)\u001b[0m \u001b[0;32mfrom\u001b[0m \u001b[0;32mNone\u001b[0m\u001b[0;34m\u001b[0m\u001b[0;34m\u001b[0m\u001b[0m\n\u001b[0m\u001b[1;32m    154\u001b[0m     \u001b[0;32mfinally\u001b[0m\u001b[0;34m:\u001b[0m\u001b[0;34m\u001b[0m\u001b[0;34m\u001b[0m\u001b[0m\n\u001b[1;32m    155\u001b[0m       \u001b[0;32mdel\u001b[0m \u001b[0mfiltered_tb\u001b[0m\u001b[0;34m\u001b[0m\u001b[0;34m\u001b[0m\u001b[0m\n",
            "\u001b[0;32m/usr/local/lib/python3.10/dist-packages/tensorflow/python/eager/execute.py\u001b[0m in \u001b[0;36mquick_execute\u001b[0;34m(op_name, num_outputs, inputs, attrs, ctx, name)\u001b[0m\n\u001b[1;32m     58\u001b[0m         \u001b[0;32mfor\u001b[0m \u001b[0mt\u001b[0m \u001b[0;32min\u001b[0m \u001b[0minputs\u001b[0m\u001b[0;34m\u001b[0m\u001b[0;34m\u001b[0m\u001b[0m\n\u001b[1;32m     59\u001b[0m     ]\n\u001b[0;32m---> 60\u001b[0;31m     tensors = pywrap_tfe.TFE_Py_Execute(ctx._handle, device_name, op_name,\n\u001b[0m\u001b[1;32m     61\u001b[0m                                         inputs, attrs, num_outputs)\n\u001b[1;32m     62\u001b[0m   \u001b[0;32mexcept\u001b[0m \u001b[0mcore\u001b[0m\u001b[0;34m.\u001b[0m\u001b[0m_NotOkStatusException\u001b[0m \u001b[0;32mas\u001b[0m \u001b[0me\u001b[0m\u001b[0;34m:\u001b[0m\u001b[0;34m\u001b[0m\u001b[0;34m\u001b[0m\u001b[0m\n",
            "\u001b[0;31mInvalidArgumentError\u001b[0m: {{function_node __wrapped__Max_device_/job:localhost/replica:0/task:0/device:CPU:0}} Invalid reduction dimension (2 for input with 2 dimension(s) [Op:Max]"
          ]
        }
      ]
    },
    {
      "cell_type": "markdown",
      "source": [
        "The error reason is that the rank of the tensor we give the method is `2`. Plausible values for the axis = `[-1, 0, 1]`."
      ],
      "metadata": {
        "id": "SRlvtIbAPO6t"
      }
    },
    {
      "cell_type": "code",
      "source": [
        "m = [[[5, 4], [3, 4], [4, 4]], [[2, 4], [3, 4], [5, 4]], [[4, 4], [6, 4], [8, 4]], [[9, 4], [7, 4], [8, 4]]]\n",
        "tf.rank(m)"
      ],
      "metadata": {
        "colab": {
          "base_uri": "https://localhost:8080/"
        },
        "id": "MMQn_F6IOsEM",
        "outputId": "600afacc-ac32-45b7-e4ac-cdf9355e4ca8"
      },
      "execution_count": 73,
      "outputs": [
        {
          "output_type": "execute_result",
          "data": {
            "text/plain": [
              "<tf.Tensor: shape=(), dtype=int32, numpy=3>"
            ]
          },
          "metadata": {},
          "execution_count": 73
        }
      ]
    },
    {
      "cell_type": "code",
      "source": [
        "tf.reduce_max(m, axis=2)  # axis must be in the range [-rank(input_tensor),rank(input_tensor))"
      ],
      "metadata": {
        "colab": {
          "base_uri": "https://localhost:8080/"
        },
        "id": "bMH9wngyP37a",
        "outputId": "d80fa80a-24ca-4e4e-da94-77996adaf828"
      },
      "execution_count": 74,
      "outputs": [
        {
          "output_type": "execute_result",
          "data": {
            "text/plain": [
              "<tf.Tensor: shape=(4, 3), dtype=int32, numpy=\n",
              "array([[5, 4, 4],\n",
              "       [4, 4, 5],\n",
              "       [4, 6, 8],\n",
              "       [9, 7, 8]], dtype=int32)>"
            ]
          },
          "metadata": {},
          "execution_count": 74
        }
      ]
    }
  ],
  "metadata": {
    "kernelspec": {
      "display_name": "Python 3.8.8 ('base')",
      "language": "python",
      "name": "python3"
    },
    "language_info": {
      "codemirror_mode": {
        "name": "ipython",
        "version": 3
      },
      "file_extension": ".py",
      "mimetype": "text/x-python",
      "name": "python",
      "nbconvert_exporter": "python",
      "pygments_lexer": "ipython3",
      "version": "3.8.8"
    },
    "orig_nbformat": 4,
    "vscode": {
      "interpreter": {
        "hash": "8aacee3932d69c5e37df05e89dad831b2e5753e70a20174efbd5080d0d8e343c"
      }
    },
    "colab": {
      "provenance": []
    }
  },
  "nbformat": 4,
  "nbformat_minor": 0
}