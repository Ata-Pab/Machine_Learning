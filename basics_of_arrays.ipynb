{
 "cells": [
  {
   "cell_type": "code",
   "execution_count": 1,
   "metadata": {},
   "outputs": [],
   "source": [
    "import math\n",
    "import functools  # Import this to use reduce\n",
    "import numpy as np"
   ]
  },
  {
   "cell_type": "markdown",
   "metadata": {},
   "source": [
    "map() func"
   ]
  },
  {
   "cell_type": "code",
   "execution_count": 2,
   "metadata": {},
   "outputs": [
    {
     "data": {
      "text/plain": [
       "[1.0, 8.0, 11.180339887498949, 16.0]"
      ]
     },
     "execution_count": 2,
     "metadata": {},
     "output_type": "execute_result"
    }
   ],
   "source": [
    "mylist = [1,64,125,256]\n",
    "\n",
    "result = map(math.sqrt, mylist)     # map: applies the given method to each element in the list\n",
    "list(result)"
   ]
  },
  {
   "cell_type": "markdown",
   "metadata": {},
   "source": [
    "join() func"
   ]
  },
  {
   "cell_type": "code",
   "execution_count": 3,
   "metadata": {},
   "outputs": [],
   "source": [
    "# Convert each item's data type to str\n",
    "mylist_str = map(str, mylist)\n",
    "\n",
    "#list(mylist_str)"
   ]
  },
  {
   "cell_type": "code",
   "execution_count": 4,
   "metadata": {},
   "outputs": [
    {
     "data": {
      "text/plain": [
       "'1 64 125 256'"
      ]
     },
     "execution_count": 4,
     "metadata": {},
     "output_type": "execute_result"
    }
   ],
   "source": [
    "mylist_str = ' '.join(mylist_str)\n",
    "mylist_str"
   ]
  },
  {
   "cell_type": "markdown",
   "metadata": {},
   "source": [
    "filter() func"
   ]
  },
  {
   "cell_type": "code",
   "execution_count": 5,
   "metadata": {},
   "outputs": [
    {
     "data": {
      "text/plain": [
       "[64, 256]"
      ]
     },
     "execution_count": 5,
     "metadata": {},
     "output_type": "execute_result"
    }
   ],
   "source": [
    "def isEven(num):\n",
    "    return num%2==0\n",
    "\n",
    "even = filter(isEven,mylist)  # Returns the list of elements which return true for the given func.\n",
    "\n",
    "list(even)"
   ]
  },
  {
   "cell_type": "markdown",
   "metadata": {},
   "source": [
    "reduce() func"
   ]
  },
  {
   "cell_type": "code",
   "execution_count": 6,
   "metadata": {},
   "outputs": [
    {
     "data": {
      "text/plain": [
       "120"
      ]
     },
     "execution_count": 6,
     "metadata": {},
     "output_type": "execute_result"
    }
   ],
   "source": [
    "def multiply(number1, number2):\n",
    "    return number1 * number2\n",
    "\n",
    "mylist=[1,2,3,4,5]\n",
    "# reduce applies the given function to each element and accumulates the result\n",
    "functools.reduce(multiply,mylist)"
   ]
  },
  {
   "cell_type": "markdown",
   "metadata": {},
   "source": [
    "zip() func"
   ]
  },
  {
   "cell_type": "code",
   "execution_count": 7,
   "metadata": {},
   "outputs": [
    {
     "data": {
      "text/plain": [
       "[('Ankara', '06'), ('Istanbul', '34'), ('Izmir', '35'), ('Bursa', '16')]"
      ]
     },
     "execution_count": 7,
     "metadata": {},
     "output_type": "execute_result"
    }
   ],
   "source": [
    "cities=[\"Ankara\",\"Istanbul\",\"Izmir\",\"Bursa\"]\n",
    "codes=[\"06\",\"34\",\"35\",\"16\"]\n",
    "\n",
    "result = zip(cities,codes)\n",
    "list(result)"
   ]
  },
  {
   "cell_type": "code",
   "execution_count": 8,
   "metadata": {},
   "outputs": [
    {
     "data": {
      "text/plain": [
       "{'Ankara': '06', 'Istanbul': '34', 'Izmir': '35', 'Bursa': '16'}"
      ]
     },
     "execution_count": 8,
     "metadata": {},
     "output_type": "execute_result"
    }
   ],
   "source": [
    "mydictionary = dict(zip(cities,codes))\n",
    "mydictionary"
   ]
  },
  {
   "cell_type": "markdown",
   "metadata": {},
   "source": [
    "Lambda"
   ]
  },
  {
   "cell_type": "code",
   "execution_count": 9,
   "metadata": {},
   "outputs": [
    {
     "data": {
      "text/plain": [
       "<function __main__.<lambda>(x, y)>"
      ]
     },
     "execution_count": 9,
     "metadata": {},
     "output_type": "execute_result"
    }
   ],
   "source": [
    "lambda x, y: (x+y)/2"
   ]
  },
  {
   "cell_type": "code",
   "execution_count": 12,
   "metadata": {},
   "outputs": [
    {
     "name": "stdout",
     "output_type": "stream",
     "text": [
      "Data type of avg:  <class 'function'>\n"
     ]
    },
    {
     "data": {
      "text/plain": [
       "15.0"
      ]
     },
     "execution_count": 12,
     "metadata": {},
     "output_type": "execute_result"
    }
   ],
   "source": [
    "avg = lambda x, y: (x+y)/2\n",
    "\n",
    "print(\"Data type of avg: \", type(avg))\n",
    "avg(16,14)"
   ]
  },
  {
   "cell_type": "code",
   "execution_count": 13,
   "metadata": {},
   "outputs": [
    {
     "data": {
      "text/plain": [
       "[4, 16, 36, 256, 400]"
      ]
     },
     "execution_count": 13,
     "metadata": {},
     "output_type": "execute_result"
    }
   ],
   "source": [
    "nums=[2, 4, 6, 16, 20]\n",
    "\n",
    "squares = map(lambda num: num**2,nums)\n",
    "\n",
    "list(squares)"
   ]
  },
  {
   "cell_type": "code",
   "execution_count": 14,
   "metadata": {},
   "outputs": [
    {
     "data": {
      "text/plain": [
       "8.0"
      ]
     },
     "execution_count": 14,
     "metadata": {},
     "output_type": "execute_result"
    }
   ],
   "source": [
    "def pow(n):\n",
    "    return lambda y: math.pow(y,n)\n",
    "\n",
    "cube = pow(3)\n",
    "\n",
    "cube(2)"
   ]
  },
  {
   "cell_type": "markdown",
   "metadata": {},
   "source": [
    "#### Numpy Array Control"
   ]
  },
  {
   "cell_type": "code",
   "execution_count": 21,
   "metadata": {},
   "outputs": [
    {
     "data": {
      "text/plain": [
       "array([False, False,  True, False, False,  True])"
      ]
     },
     "execution_count": 21,
     "metadata": {},
     "output_type": "execute_result"
    }
   ],
   "source": [
    "my_array = np.array([4, 6, 8, 5, 3, 7])\n",
    "\n",
    "cond_array = (my_array > 6)\n",
    "\n",
    "cond_array"
   ]
  },
  {
   "cell_type": "code",
   "execution_count": 22,
   "metadata": {},
   "outputs": [
    {
     "data": {
      "text/plain": [
       "array([8, 7])"
      ]
     },
     "execution_count": 22,
     "metadata": {},
     "output_type": "execute_result"
    }
   ],
   "source": [
    "my_array[my_array > 6]\n",
    "# OR you can use\n",
    "my_array[cond_array]"
   ]
  },
  {
   "cell_type": "code",
   "execution_count": 24,
   "metadata": {},
   "outputs": [
    {
     "data": {
      "text/plain": [
       "array([6, 5])"
      ]
     },
     "execution_count": 24,
     "metadata": {},
     "output_type": "execute_result"
    }
   ],
   "source": [
    "my_array[[1,3]] # Return elements of just 1st and 3rd index"
   ]
  },
  {
   "cell_type": "code",
   "execution_count": 26,
   "metadata": {},
   "outputs": [
    {
     "data": {
      "text/plain": [
       "array([6, 8])"
      ]
     },
     "execution_count": 26,
     "metadata": {},
     "output_type": "execute_result"
    }
   ],
   "source": [
    "my_array[1:3]   # Return elements between 1st and 3rd index (returns 1st and 2nd)"
   ]
  },
  {
   "cell_type": "code",
   "execution_count": 27,
   "metadata": {},
   "outputs": [
    {
     "data": {
      "text/plain": [
       "7"
      ]
     },
     "execution_count": 27,
     "metadata": {},
     "output_type": "execute_result"
    }
   ],
   "source": [
    "my_array[-1]    # Return elements between 1st and 3rd index (returns 1st and 2nd)"
   ]
  },
  {
   "cell_type": "code",
   "execution_count": 29,
   "metadata": {},
   "outputs": [
    {
     "data": {
      "text/plain": [
       "array([6, 5])"
      ]
     },
     "execution_count": 29,
     "metadata": {},
     "output_type": "execute_result"
    }
   ],
   "source": [
    "my_array[1:4:2]  # Return elements between 1st and 4th index with 2 element interval"
   ]
  },
  {
   "cell_type": "code",
   "execution_count": 30,
   "metadata": {},
   "outputs": [
    {
     "data": {
      "text/plain": [
       "array([4, 8, 3])"
      ]
     },
     "execution_count": 30,
     "metadata": {},
     "output_type": "execute_result"
    }
   ],
   "source": [
    "my_array[::2]    # Return all elements with 2 element interval"
   ]
  },
  {
   "cell_type": "code",
   "execution_count": 31,
   "metadata": {},
   "outputs": [
    {
     "data": {
      "text/plain": [
       "array([4, 6, 8, 5, 3, 7], dtype=int32)"
      ]
     },
     "execution_count": 31,
     "metadata": {},
     "output_type": "execute_result"
    }
   ],
   "source": [
    "my_array_int = my_array.astype('i')   # Convert each items data type to the new data type\n",
    "my_array_int"
   ]
  },
  {
   "cell_type": "code",
   "execution_count": 36,
   "metadata": {},
   "outputs": [
    {
     "name": "stdout",
     "output_type": "stream",
     "text": [
      "mycopy:        [2 6 8 5 3 7]\n",
      "my_array_int:  [4 6 8 5 3 7]\n"
     ]
    }
   ],
   "source": [
    "mycopy = my_array_int.copy()   # Copy the content of the array, if you change the elements of the copied array it does not effect the original array\n",
    "\n",
    "mycopy[0] = 2\n",
    "\n",
    "print(\"mycopy:       \", mycopy)\n",
    "print(\"my_array_int: \", my_array_int)"
   ]
  },
  {
   "cell_type": "code",
   "execution_count": 38,
   "metadata": {},
   "outputs": [
    {
     "name": "stdout",
     "output_type": "stream",
     "text": [
      "mycopy:        [9 6 8 5 3 7]\n",
      "my_array_int:  [9 6 8 5 3 7]\n"
     ]
    }
   ],
   "source": [
    "mycopy = my_array_int.view()   # Original view of the array (reference), if you change the elements of the viewed array it effects the original array\n",
    "\n",
    "mycopy[0] = 9\n",
    "\n",
    "print(\"mycopy:       \", mycopy)\n",
    "print(\"my_array_int: \", my_array_int)"
   ]
  },
  {
   "cell_type": "markdown",
   "metadata": {},
   "source": [
    "Multi Dimensional Array"
   ]
  },
  {
   "cell_type": "code",
   "execution_count": 40,
   "metadata": {},
   "outputs": [
    {
     "name": "stdout",
     "output_type": "stream",
     "text": [
      "npmulti.shape:  (2, 3)\n"
     ]
    },
    {
     "data": {
      "text/plain": [
       "array([[10, 20, 30],\n",
       "       [40, 50, 60]])"
      ]
     },
     "execution_count": 40,
     "metadata": {},
     "output_type": "execute_result"
    }
   ],
   "source": [
    "npmulti = np.array([[10,20,30],[40,50,60]])\n",
    "\n",
    "print(\"npmulti.shape: \", npmulti.shape)   # The number of elements in each dimension\n",
    "npmulti"
   ]
  },
  {
   "cell_type": "code",
   "execution_count": 44,
   "metadata": {},
   "outputs": [
    {
     "name": "stdout",
     "output_type": "stream",
     "text": [
      "npmulti2.shape:  (2,)\n"
     ]
    },
    {
     "name": "stderr",
     "output_type": "stream",
     "text": [
      "<ipython-input-44-b498a6addc56>:2: VisibleDeprecationWarning: Creating an ndarray from ragged nested sequences (which is a list-or-tuple of lists-or-tuples-or ndarrays with different lengths or shapes) is deprecated. If you meant to do this, you must specify 'dtype=object' when creating the ndarray.\n",
      "  npmulti2 = np.array([[10,20,30],[40,50,60,30]])\n"
     ]
    },
    {
     "data": {
      "text/plain": [
       "array([list([10, 20, 30]), list([40, 50, 60, 30])], dtype=object)"
      ]
     },
     "execution_count": 44,
     "metadata": {},
     "output_type": "execute_result"
    }
   ],
   "source": [
    "# Creating array with diferent size of members in indexes\n",
    "npmulti2 = np.array([[10,20,30],[40,50,60,30]])\n",
    "print(\"npmulti2.shape: \", npmulti2.shape)\n",
    "npmulti2"
   ]
  },
  {
   "cell_type": "code",
   "execution_count": 46,
   "metadata": {},
   "outputs": [
    {
     "data": {
      "text/plain": [
       "array([[10, 20],\n",
       "       [30, 40],\n",
       "       [50, 60]])"
      ]
     },
     "execution_count": 46,
     "metadata": {},
     "output_type": "execute_result"
    }
   ],
   "source": [
    "npmulti.reshape(3,2)"
   ]
  },
  {
   "cell_type": "code",
   "execution_count": 47,
   "metadata": {},
   "outputs": [
    {
     "data": {
      "text/plain": [
       "array([10, 20, 30, 40, 50, 60])"
      ]
     },
     "execution_count": 47,
     "metadata": {},
     "output_type": "execute_result"
    }
   ],
   "source": [
    "npmulti.reshape(-1)  # Flaten the array"
   ]
  },
  {
   "cell_type": "markdown",
   "metadata": {},
   "source": [
    "np.nditer() func"
   ]
  },
  {
   "cell_type": "code",
   "execution_count": 48,
   "metadata": {},
   "outputs": [
    {
     "name": "stdout",
     "output_type": "stream",
     "text": [
      "10\n",
      "20\n",
      "30\n",
      "40\n",
      "50\n",
      "60\n"
     ]
    }
   ],
   "source": [
    "for x in np.nditer(npmulti):    # Iterate each element in the given array\n",
    "    print(x)"
   ]
  },
  {
   "cell_type": "markdown",
   "metadata": {},
   "source": [
    "np.ndenumerate() func"
   ]
  },
  {
   "cell_type": "code",
   "execution_count": 49,
   "metadata": {},
   "outputs": [
    {
     "name": "stdout",
     "output_type": "stream",
     "text": [
      "(0, 0) 10\n",
      "(0, 1) 20\n",
      "(0, 2) 30\n",
      "(1, 0) 40\n",
      "(1, 1) 50\n",
      "(1, 2) 60\n"
     ]
    }
   ],
   "source": [
    "for (x,y) in np.ndenumerate(npmulti):\n",
    "    print(x,y)"
   ]
  },
  {
   "cell_type": "code",
   "execution_count": 62,
   "metadata": {},
   "outputs": [
    {
     "name": "stdout",
     "output_type": "stream",
     "text": [
      "array1.shape (2, 2)\n",
      "array2.shape (2, 2)\n"
     ]
    }
   ],
   "source": [
    "array1 = np.array([[1,2],[3,4]])\n",
    "array2 = np.array([[5,6],[7,8]])\n",
    "\n",
    "print(\"array1.shape\", array1.shape)\n",
    "print(\"array2.shape\", array2.shape)"
   ]
  },
  {
   "cell_type": "markdown",
   "metadata": {},
   "source": [
    "np.concatenate() func"
   ]
  },
  {
   "cell_type": "code",
   "execution_count": 63,
   "metadata": {},
   "outputs": [
    {
     "data": {
      "text/plain": [
       "array([[1, 2],\n",
       "       [3, 4],\n",
       "       [5, 6],\n",
       "       [7, 8]])"
      ]
     },
     "execution_count": 63,
     "metadata": {},
     "output_type": "execute_result"
    }
   ],
   "source": [
    "np.concatenate((array1,array2), axis=0)    # axis - row wise concatenate "
   ]
  },
  {
   "cell_type": "code",
   "execution_count": 64,
   "metadata": {},
   "outputs": [
    {
     "data": {
      "text/plain": [
       "array([[1, 2, 5, 6],\n",
       "       [3, 4, 7, 8]])"
      ]
     },
     "execution_count": 64,
     "metadata": {},
     "output_type": "execute_result"
    }
   ],
   "source": [
    "np.concatenate((array1,array2), axis=1)    # axis - column wise concatenate "
   ]
  },
  {
   "cell_type": "code",
   "execution_count": 65,
   "metadata": {},
   "outputs": [
    {
     "data": {
      "text/plain": [
       "array([1, 2, 3, 4, 5, 6, 7, 8])"
      ]
     },
     "execution_count": 65,
     "metadata": {},
     "output_type": "execute_result"
    }
   ],
   "source": [
    "np.concatenate((array1,array2), axis=None)  # flaten concatenate"
   ]
  },
  {
   "cell_type": "markdown",
   "metadata": {},
   "source": [
    "np.stack() func"
   ]
  },
  {
   "cell_type": "code",
   "execution_count": 66,
   "metadata": {},
   "outputs": [
    {
     "name": "stdout",
     "output_type": "stream",
     "text": [
      "row_stck.shape (2, 2, 2)\n"
     ]
    },
    {
     "data": {
      "text/plain": [
       "array([[[1, 2],\n",
       "        [3, 4]],\n",
       "\n",
       "       [[5, 6],\n",
       "        [7, 8]]])"
      ]
     },
     "execution_count": 66,
     "metadata": {},
     "output_type": "execute_result"
    }
   ],
   "source": [
    "row_stck = np.stack((array1,array2), axis=0)  # First dimension\n",
    "print(\"row_stck.shape\", row_stck.shape)\n",
    "row_stck"
   ]
  },
  {
   "cell_type": "code",
   "execution_count": 67,
   "metadata": {},
   "outputs": [
    {
     "data": {
      "text/plain": [
       "array([[[1, 2],\n",
       "        [5, 6]],\n",
       "\n",
       "       [[3, 4],\n",
       "        [7, 8]]])"
      ]
     },
     "execution_count": 67,
     "metadata": {},
     "output_type": "execute_result"
    }
   ],
   "source": [
    "np.stack((array1,array2), axis=1)    # Second dimension"
   ]
  },
  {
   "cell_type": "code",
   "execution_count": 70,
   "metadata": {},
   "outputs": [
    {
     "data": {
      "text/plain": [
       "array([[[1, 5],\n",
       "        [2, 6]],\n",
       "\n",
       "       [[3, 7],\n",
       "        [4, 8]]])"
      ]
     },
     "execution_count": 70,
     "metadata": {},
     "output_type": "execute_result"
    }
   ],
   "source": [
    "np.stack((array1,array2), axis=-1)   # Last dimension"
   ]
  },
  {
   "cell_type": "code",
   "execution_count": 73,
   "metadata": {},
   "outputs": [
    {
     "data": {
      "text/plain": [
       "array([[[1, 5],\n",
       "        [2, 6]],\n",
       "\n",
       "       [[3, 7],\n",
       "        [4, 8]]])"
      ]
     },
     "execution_count": 73,
     "metadata": {},
     "output_type": "execute_result"
    }
   ],
   "source": [
    "np.stack((array1,array2), axis=2)"
   ]
  },
  {
   "cell_type": "code",
   "execution_count": 69,
   "metadata": {},
   "outputs": [
    {
     "data": {
      "text/plain": [
       "(1, 1, 1)"
      ]
     },
     "execution_count": 69,
     "metadata": {},
     "output_type": "execute_result"
    }
   ],
   "source": [
    "np.array([[[9]]]).shape"
   ]
  },
  {
   "cell_type": "markdown",
   "metadata": {},
   "source": [
    "np.hstack() func"
   ]
  },
  {
   "cell_type": "code",
   "execution_count": 74,
   "metadata": {},
   "outputs": [
    {
     "data": {
      "text/plain": [
       "array([[1, 2, 5, 6],\n",
       "       [3, 4, 7, 8]])"
      ]
     },
     "execution_count": 74,
     "metadata": {},
     "output_type": "execute_result"
    }
   ],
   "source": [
    "np.hstack((array1,array2))   # Horizantally"
   ]
  },
  {
   "cell_type": "markdown",
   "metadata": {},
   "source": [
    "np.vstack() func"
   ]
  },
  {
   "cell_type": "code",
   "execution_count": 75,
   "metadata": {},
   "outputs": [
    {
     "data": {
      "text/plain": [
       "array([[1, 2],\n",
       "       [3, 4],\n",
       "       [5, 6],\n",
       "       [7, 8]])"
      ]
     },
     "execution_count": 75,
     "metadata": {},
     "output_type": "execute_result"
    }
   ],
   "source": [
    "np.vstack((array1,array2))   # Vertically"
   ]
  },
  {
   "cell_type": "markdown",
   "metadata": {},
   "source": [
    "np.dstack() func"
   ]
  },
  {
   "cell_type": "code",
   "execution_count": 76,
   "metadata": {},
   "outputs": [
    {
     "data": {
      "text/plain": [
       "array([[[1, 5],\n",
       "        [2, 6]],\n",
       "\n",
       "       [[3, 7],\n",
       "        [4, 8]]])"
      ]
     },
     "execution_count": 76,
     "metadata": {},
     "output_type": "execute_result"
    }
   ],
   "source": [
    "np.dstack((array1,array2))  # Stack arrays in sequence depth wise (along a third axis)\n",
    "# to concatenation along the third axis after 2-D arrays\n",
    "# of shape `(M,N)` have been reshaped to `(M,N,1)` and 1-D arrays of shape\n",
    "#`(N,)` have been reshaped to `(1,N,1)`."
   ]
  },
  {
   "cell_type": "markdown",
   "metadata": {},
   "source": [
    "np.array_split() func"
   ]
  },
  {
   "cell_type": "code",
   "execution_count": 78,
   "metadata": {},
   "outputs": [
    {
     "data": {
      "text/plain": [
       "[array([1, 2, 3]), array([4, 5, 6])]"
      ]
     },
     "execution_count": 78,
     "metadata": {},
     "output_type": "execute_result"
    }
   ],
   "source": [
    "np.array_split(np.array([1,2,3,4,5,6]), 2)"
   ]
  },
  {
   "cell_type": "code",
   "execution_count": 79,
   "metadata": {},
   "outputs": [
    {
     "data": {
      "text/plain": [
       "[array([1, 2]), array([3, 4]), array([5, 6])]"
      ]
     },
     "execution_count": 79,
     "metadata": {},
     "output_type": "execute_result"
    }
   ],
   "source": [
    "np.array_split(np.array([1,2,3,4,5,6]), 3)"
   ]
  },
  {
   "cell_type": "code",
   "execution_count": 80,
   "metadata": {},
   "outputs": [
    {
     "data": {
      "text/plain": [
       "[array([1, 2]), array([3, 4]), array([5]), array([6])]"
      ]
     },
     "execution_count": 80,
     "metadata": {},
     "output_type": "execute_result"
    }
   ],
   "source": [
    "np.array_split(np.array([1,2,3,4,5,6]), 4)"
   ]
  },
  {
   "cell_type": "markdown",
   "metadata": {},
   "source": [
    "np.where() func"
   ]
  },
  {
   "cell_type": "code",
   "execution_count": 98,
   "metadata": {},
   "outputs": [
    {
     "data": {
      "text/plain": [
       "(array([0, 1, 2, 3]),)"
      ]
     },
     "execution_count": 98,
     "metadata": {},
     "output_type": "execute_result"
    }
   ],
   "source": [
    "myarray = np.array([10,  9,  8,  7,  6,  5,  4,  3,  2,  1])\n",
    "\n",
    "new_list = np.where(myarray > 6)    # np.where() function returns indexes of the elements that obeys the condition\n",
    "new_list"
   ]
  },
  {
   "cell_type": "code",
   "execution_count": 97,
   "metadata": {},
   "outputs": [
    {
     "data": {
      "text/plain": [
       "array([10,  9,  8,  7])"
      ]
     },
     "execution_count": 97,
     "metadata": {},
     "output_type": "execute_result"
    }
   ],
   "source": [
    "new_list = myarray[myarray > 6]    # It returns elements that obeys the condition\n",
    "new_list"
   ]
  },
  {
   "cell_type": "code",
   "execution_count": 99,
   "metadata": {},
   "outputs": [
    {
     "data": {
      "text/plain": [
       "(array([0, 2, 4, 6, 8]),)"
      ]
     },
     "execution_count": 99,
     "metadata": {},
     "output_type": "execute_result"
    }
   ],
   "source": [
    "np.where(myarray % 2 == 0)"
   ]
  },
  {
   "cell_type": "markdown",
   "metadata": {},
   "source": [
    "np.char.index() func"
   ]
  },
  {
   "cell_type": "code",
   "execution_count": 100,
   "metadata": {},
   "outputs": [
    {
     "data": {
      "text/plain": [
       "array(['mango', 'banana'], dtype='<U6')"
      ]
     },
     "execution_count": 100,
     "metadata": {},
     "output_type": "execute_result"
    }
   ],
   "source": [
    "fruits=np.array([\"mango\",\"banana\",\"apple\",\"orange\"])\n",
    "\n",
    "fruits[np.char.index(fruits, sub='a') == 1]    # Returns elements that 2nd character is 'a' (element index:1)"
   ]
  },
  {
   "cell_type": "code",
   "execution_count": 102,
   "metadata": {},
   "outputs": [
    {
     "data": {
      "text/plain": [
       "array(['banana'], dtype='<U6')"
      ]
     },
     "execution_count": 102,
     "metadata": {},
     "output_type": "execute_result"
    }
   ],
   "source": [
    "fruits[fruits == 'banana']"
   ]
  },
  {
   "cell_type": "markdown",
   "metadata": {},
   "source": [
    "np.random.normal() func"
   ]
  },
  {
   "cell_type": "code",
   "execution_count": 103,
   "metadata": {},
   "outputs": [
    {
     "data": {
      "text/plain": [
       "array([49.21783341, 47.87039112, 54.59666606, 29.51637321, 47.23047052,\n",
       "       29.90296929, 57.73339644, 48.44832556, 55.5760567 , 44.40595063,\n",
       "       43.18760754, 51.97102956, 52.51288301, 56.44260501, 58.14659978,\n",
       "       36.16517876, 52.78669955, 49.01577625, 49.50209852, 61.67949097])"
      ]
     },
     "execution_count": 103,
     "metadata": {},
     "output_type": "execute_result"
    }
   ],
   "source": [
    "np.random.normal(50,10,20) # mean, standard dev. number of instances"
   ]
  },
  {
   "cell_type": "markdown",
   "metadata": {},
   "source": [
    "np.corrcoef() func"
   ]
  },
  {
   "cell_type": "code",
   "execution_count": 104,
   "metadata": {},
   "outputs": [
    {
     "data": {
      "text/plain": [
       "array([[ 1.        , -0.09049068],\n",
       "       [-0.09049068,  1.        ]])"
      ]
     },
     "execution_count": 104,
     "metadata": {},
     "output_type": "execute_result"
    }
   ],
   "source": [
    "citizen_weight = np.round(np.random.normal(65,20,20), 2)\n",
    "citizen_height = np.round(np.random.normal(1.65,0.3,20), 2)\n",
    "\n",
    "np.corrcoef(citizen_height,citizen_weight)"
   ]
  },
  {
   "cell_type": "code",
   "execution_count": 105,
   "metadata": {},
   "outputs": [
    {
     "data": {
      "text/plain": [
       "array([53.21, 72.49, 80.77, 90.54, 65.14, 36.8 , 81.69, 36.75, 90.12,\n",
       "       77.2 , 54.43, 49.79, 81.02, 68.21, 93.39, 90.4 , 82.  , 57.58,\n",
       "       65.85, 45.9 ])"
      ]
     },
     "execution_count": 105,
     "metadata": {},
     "output_type": "execute_result"
    }
   ],
   "source": [
    "citizen_weight"
   ]
  },
  {
   "cell_type": "code",
   "execution_count": 106,
   "metadata": {},
   "outputs": [
    {
     "data": {
      "text/plain": [
       "array([1.85, 1.97, 1.63, 1.81, 1.67, 2.33, 2.03, 1.69, 2.24, 1.48, 1.45,\n",
       "       2.31, 1.4 , 1.24, 2.22, 1.15, 1.62, 1.51, 1.82, 1.51])"
      ]
     },
     "execution_count": 106,
     "metadata": {},
     "output_type": "execute_result"
    }
   ],
   "source": [
    "citizen_height"
   ]
  },
  {
   "cell_type": "markdown",
   "metadata": {},
   "source": [
    "np.column_stack() func"
   ]
  },
  {
   "cell_type": "code",
   "execution_count": 108,
   "metadata": {},
   "outputs": [
    {
     "data": {
      "text/plain": [
       "array([[ 1.85, 53.21],\n",
       "       [ 1.97, 72.49],\n",
       "       [ 1.63, 80.77],\n",
       "       [ 1.81, 90.54],\n",
       "       [ 1.67, 65.14],\n",
       "       [ 2.33, 36.8 ],\n",
       "       [ 2.03, 81.69],\n",
       "       [ 1.69, 36.75],\n",
       "       [ 2.24, 90.12],\n",
       "       [ 1.48, 77.2 ],\n",
       "       [ 1.45, 54.43],\n",
       "       [ 2.31, 49.79],\n",
       "       [ 1.4 , 81.02],\n",
       "       [ 1.24, 68.21],\n",
       "       [ 2.22, 93.39],\n",
       "       [ 1.15, 90.4 ],\n",
       "       [ 1.62, 82.  ],\n",
       "       [ 1.51, 57.58],\n",
       "       [ 1.82, 65.85],\n",
       "       [ 1.51, 45.9 ]])"
      ]
     },
     "execution_count": 108,
     "metadata": {},
     "output_type": "execute_result"
    }
   ],
   "source": [
    "citizen = np.column_stack((citizen_height,citizen_weight))\n",
    "citizen"
   ]
  },
  {
   "cell_type": "markdown",
   "metadata": {},
   "source": [
    "np.dot() func"
   ]
  },
  {
   "cell_type": "code",
   "execution_count": 115,
   "metadata": {},
   "outputs": [
    {
     "data": {
      "text/plain": [
       "array([[ 58,  64],\n",
       "       [139, 154]])"
      ]
     },
     "execution_count": 115,
     "metadata": {},
     "output_type": "execute_result"
    }
   ],
   "source": [
    "matrixA = np.array([[1,2,3],[4,5,6]])\n",
    "matrixB = np.array([[7,8],[9,10],[11,12]])\n",
    "\n",
    "np.dot(matrixA,matrixB)   # Dot product of two arrays (matrix multiplication)"
   ]
  },
  {
   "cell_type": "code",
   "execution_count": 116,
   "metadata": {},
   "outputs": [
    {
     "data": {
      "text/plain": [
       "array([[ 7, 16, 27],\n",
       "       [40, 55, 72]])"
      ]
     },
     "execution_count": 116,
     "metadata": {},
     "output_type": "execute_result"
    }
   ],
   "source": [
    "matrixC = np.array([[1,2,3],[4,5,6]])\n",
    "matrixD = np.array([[7,8,9],[10,11,12]])\n",
    "\n",
    "np.multiply(matrixC,matrixD)   # Multiply arguments element-wise."
   ]
  },
  {
   "cell_type": "markdown",
   "metadata": {},
   "source": [
    "np.transpose() func"
   ]
  },
  {
   "cell_type": "code",
   "execution_count": 117,
   "metadata": {},
   "outputs": [
    {
     "data": {
      "text/plain": [
       "array([[1, 4],\n",
       "       [2, 5],\n",
       "       [3, 6]])"
      ]
     },
     "execution_count": 117,
     "metadata": {},
     "output_type": "execute_result"
    }
   ],
   "source": [
    "np.transpose(matrixA)\n",
    "# OR\n",
    "matrixA.T"
   ]
  },
  {
   "cell_type": "markdown",
   "metadata": {},
   "source": [
    "np.linalg.det()"
   ]
  },
  {
   "cell_type": "code",
   "execution_count": 122,
   "metadata": {},
   "outputs": [
    {
     "data": {
      "text/plain": [
       "36.00000000000032"
      ]
     },
     "execution_count": 122,
     "metadata": {},
     "output_type": "execute_result"
    }
   ],
   "source": [
    "np.linalg.det(np.dot(matrixA,matrixB))   # Compute the determinant of an array."
   ]
  },
  {
   "cell_type": "markdown",
   "metadata": {},
   "source": [
    "np.linalg.inv()"
   ]
  },
  {
   "cell_type": "code",
   "execution_count": 123,
   "metadata": {},
   "outputs": [
    {
     "data": {
      "text/plain": [
       "array([[ 4.27777778, -1.77777778],\n",
       "       [-3.86111111,  1.61111111]])"
      ]
     },
     "execution_count": 123,
     "metadata": {},
     "output_type": "execute_result"
    }
   ],
   "source": [
    "np.linalg.inv(np.dot(matrixA,matrixB))   # Compute the (multiplicative) inverse of a matrix. "
   ]
  },
  {
   "cell_type": "markdown",
   "metadata": {},
   "source": [
    "np.identity()"
   ]
  },
  {
   "cell_type": "code",
   "execution_count": 124,
   "metadata": {},
   "outputs": [
    {
     "data": {
      "text/plain": [
       "array([[1., 0., 0.],\n",
       "       [0., 1., 0.],\n",
       "       [0., 0., 1.]])"
      ]
     },
     "execution_count": 124,
     "metadata": {},
     "output_type": "execute_result"
    }
   ],
   "source": [
    "identityMatrix = np.identity(3)\n",
    "identityMatrix"
   ]
  },
  {
   "cell_type": "markdown",
   "metadata": {},
   "source": [
    "np.zeros()"
   ]
  },
  {
   "cell_type": "code",
   "execution_count": 125,
   "metadata": {},
   "outputs": [
    {
     "data": {
      "text/plain": [
       "array([[0., 0., 0., 0., 0.],\n",
       "       [0., 0., 0., 0., 0.]])"
      ]
     },
     "execution_count": 125,
     "metadata": {},
     "output_type": "execute_result"
    }
   ],
   "source": [
    "zeroMatrix = np.zeros([2,5])\n",
    "zeroMatrix"
   ]
  },
  {
   "cell_type": "code",
   "execution_count": 126,
   "metadata": {},
   "outputs": [
    {
     "data": {
      "text/plain": [
       "array([0., 0., 0., 0., 0., 0.])"
      ]
     },
     "execution_count": 126,
     "metadata": {},
     "output_type": "execute_result"
    }
   ],
   "source": [
    "np.zeros(6)"
   ]
  },
  {
   "cell_type": "code",
   "execution_count": 135,
   "metadata": {},
   "outputs": [
    {
     "data": {
      "text/plain": [
       "(2, 6, 8, 3)"
      ]
     },
     "execution_count": 135,
     "metadata": {},
     "output_type": "execute_result"
    }
   ],
   "source": [
    "img_array = np.array([\n",
    "[\n",
    "[[0.0,1.0,0.5],[0.0,1.0,0.5],[0.0,1.0,0.5],[0.0,1.0,0.5],[0.0,1.0,0.5],[0.0,1.0,0.5],[0.0,1.0,0.5],[0.0,1.0,0.5]],\n",
    "[[0.0,1.0,0.5],[0.0,1.0,0.5],[0.0,1.0,0.5],[0.0,1.0,0.5],[0.0,1.0,0.5],[0.0,1.0,0.5],[0.0,1.0,0.5],[0.0,1.0,0.5]],\n",
    "[[0.0,1.0,0.5],[0.0,1.0,0.5],[0.0,1.0,0.5],[0.0,1.0,0.5],[0.0,1.0,0.5],[0.0,1.0,0.5],[0.0,1.0,0.5],[0.0,1.0,0.5]],\n",
    "[[0.0,1.0,0.5],[0.0,1.0,0.5],[0.0,1.0,0.5],[0.0,1.0,0.5],[0.0,1.0,0.5],[0.0,1.0,0.5],[0.0,1.0,0.5],[0.0,1.0,0.5]],\n",
    "[[0.0,1.0,0.5],[0.0,1.0,0.5],[0.0,1.0,0.5],[0.0,1.0,0.5],[0.0,1.0,0.5],[0.0,1.0,0.5],[0.0,1.0,0.5],[0.0,1.0,0.5]],\n",
    "[[0.0,1.0,0.5],[0.0,1.0,0.5],[0.0,1.0,0.5],[0.0,1.0,0.5],[0.0,1.0,0.5],[0.0,1.0,0.5],[0.0,1.0,0.5],[0.0,1.0,0.5]]\n",
    "],\n",
    "[\n",
    "[[0.0,0.0,0.5],[0.0,0.0,0.5],[0.0,0.0,0.5],[0.0,0.0,0.5],[0.0,0.0,0.5],[0.0,0.0,0.5],[0.0,0.0,0.5],[0.0,0.0,0.5]],\n",
    "[[0.0,0.0,0.5],[0.0,0.0,0.5],[0.0,0.0,0.5],[0.0,0.0,0.5],[0.0,0.0,0.5],[0.0,0.0,0.5],[0.0,0.0,0.5],[0.0,0.0,0.5]],\n",
    "[[0.0,0.0,0.5],[0.0,0.0,0.5],[0.0,0.0,0.5],[0.0,0.0,0.5],[0.0,0.0,0.5],[0.0,0.0,0.5],[0.0,0.0,0.5],[0.0,0.0,0.5]],\n",
    "[[0.0,0.0,0.5],[0.0,0.0,0.5],[0.0,0.0,0.5],[0.0,0.0,0.5],[0.0,0.0,0.5],[0.0,0.0,0.5],[0.0,0.0,0.5],[0.0,0.0,0.5]],\n",
    "[[0.0,0.0,0.5],[0.0,0.0,0.5],[0.0,0.0,0.5],[0.0,0.0,0.5],[0.0,0.0,0.5],[0.0,0.0,0.5],[0.0,0.0,0.5],[0.0,0.0,0.5]],\n",
    "[[0.0,0.0,0.5],[0.0,0.0,0.5],[0.0,0.0,0.5],[0.0,0.0,0.5],[0.0,0.0,0.5],[0.0,0.0,0.5],[0.0,0.0,0.5],[0.0,0.0,0.5]]\n",
    "]])\n",
    "img_array.shape    # This is 6x8 RGB image pair (It consists of two different images)"
   ]
  },
  {
   "cell_type": "code",
   "execution_count": 184,
   "metadata": {},
   "outputs": [],
   "source": [
    "IMG_SIZE = (6,8)"
   ]
  },
  {
   "cell_type": "code",
   "execution_count": 193,
   "metadata": {},
   "outputs": [
    {
     "data": {
      "text/plain": [
       "(6, 8, 3)"
      ]
     },
     "execution_count": 193,
     "metadata": {},
     "output_type": "execute_result"
    }
   ],
   "source": [
    "first_img = img_array[0]\n",
    "first_img.shape"
   ]
  },
  {
   "cell_type": "code",
   "execution_count": 210,
   "metadata": {},
   "outputs": [],
   "source": [
    "def get_img_color(img, size, color=0):     # This function returns a reshaped image array that has only one color option for RGB images \n",
    "    color_arr = np.zeros(size)\n",
    "    img = np.array(img)\n",
    "\n",
    "    # \"color\" argument is an index of color that represents the color element of the image (R, G, B)\n",
    "    pixel_cnt = 0  # Pixel of the iamge\n",
    "    color_ix = 0   # Color index of the pixel\n",
    "\n",
    "    if len(img.shape) > 3:    # (Row, Column, Color)\n",
    "        return color_arr\n",
    "    elif len(img.shape) == 2: # (Row, Column)  -  Already one color \n",
    "        return img\n",
    "\n",
    "    for pixel in img:\n",
    "        for ind in pixel:\n",
    "            color_arr[pixel_cnt][color_ix] = ind[color]\n",
    "            color_ix += 1\n",
    "        pixel_cnt += 1\n",
    "        color_ix = 0\n",
    "\n",
    "    return color_arr"
   ]
  },
  {
   "cell_type": "code",
   "execution_count": 211,
   "metadata": {},
   "outputs": [
    {
     "data": {
      "text/plain": [
       "array([[1., 1., 1., 1., 1., 1., 1., 1.],\n",
       "       [1., 1., 1., 1., 1., 1., 1., 1.],\n",
       "       [1., 1., 1., 1., 1., 1., 1., 1.],\n",
       "       [1., 1., 1., 1., 1., 1., 1., 1.],\n",
       "       [1., 1., 1., 1., 1., 1., 1., 1.],\n",
       "       [1., 1., 1., 1., 1., 1., 1., 1.]])"
      ]
     },
     "execution_count": 211,
     "metadata": {},
     "output_type": "execute_result"
    }
   ],
   "source": [
    "first_img_r = get_img_color(first_img, IMG_SIZE, 1)\n",
    "first_img_r"
   ]
  },
  {
   "cell_type": "code",
   "execution_count": 213,
   "metadata": {},
   "outputs": [
    {
     "data": {
      "text/plain": [
       "array([[1., 1., 1., 1., 1., 1., 1., 1.],\n",
       "       [1., 1., 1., 1., 1., 1., 1., 1.],\n",
       "       [1., 1., 1., 1., 1., 1., 1., 1.],\n",
       "       [1., 1., 1., 1., 1., 1., 1., 1.],\n",
       "       [1., 1., 1., 1., 1., 1., 1., 1.],\n",
       "       [1., 1., 1., 1., 1., 1., 1., 1.]])"
      ]
     },
     "execution_count": 213,
     "metadata": {},
     "output_type": "execute_result"
    }
   ],
   "source": [
    "first_img_r = get_img_color(first_img_r, IMG_SIZE, 1)   # first_img_r is already one color array\n",
    "first_img_r"
   ]
  }
 ],
 "metadata": {
  "kernelspec": {
   "display_name": "Python 3.8.8 ('base')",
   "language": "python",
   "name": "python3"
  },
  "language_info": {
   "codemirror_mode": {
    "name": "ipython",
    "version": 3
   },
   "file_extension": ".py",
   "mimetype": "text/x-python",
   "name": "python",
   "nbconvert_exporter": "python",
   "pygments_lexer": "ipython3",
   "version": "3.8.8"
  },
  "orig_nbformat": 4,
  "vscode": {
   "interpreter": {
    "hash": "8aacee3932d69c5e37df05e89dad831b2e5753e70a20174efbd5080d0d8e343c"
   }
  }
 },
 "nbformat": 4,
 "nbformat_minor": 2
}
