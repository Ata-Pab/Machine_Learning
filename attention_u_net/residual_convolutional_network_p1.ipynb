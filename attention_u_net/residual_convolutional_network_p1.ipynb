{
  "nbformat": 4,
  "nbformat_minor": 0,
  "metadata": {
    "colab": {
      "provenance": []
    },
    "kernelspec": {
      "name": "python3",
      "display_name": "Python 3"
    },
    "language_info": {
      "name": "python"
    }
  },
  "cells": [
    {
      "cell_type": "markdown",
      "source": [
        "## Recurrent and Residual U-net\n",
        "\n",
        "### Residual Network\n",
        "\n",
        "* Residual networks were proposed to overcome the problems of `deep CNNs` (e.g., VGG)\n",
        "\n",
        "* Stacking convolutional layers and making the model deeper makes a failure in `generalization` ability of the network. To address this issue, ResNet architecture was introduced which adds the idea of `skip connections`.\n",
        "\n",
        "<img src=\"https://upload.wikimedia.org/wikipedia/commons/b/ba/ResBlock.png\" alt=\"ResNet\" width=\"300\"/>\n",
        "\n",
        "Residual block from ResNet. Image by Wikipedia\n",
        "\n",
        "* In traditional networks, each layer feeds into the `next layer`. In networks with residual blocks, each layer feeds into the next layer and directly into the layers about `2-3 hops away`.\n",
        "\n",
        "<img src=\"https://miro.medium.com/v2/resize:fit:640/format:webp/1*Meth3XNFOEu6GH1s1sMUzw.png\" alt=\"ResNet\" width=\"400\"/>\n",
        "\n",
        "ref: https://medium.com/@Shahidul1004/yolov3-object-detection-f3090a24efcd\n",
        "\n",
        "In the figure above, left block is the traditional network. Right one is residual network.\n",
        "\n",
        "For residual network, we need to learn the function R(x) = f(x) - x.\n",
        "\n",
        "`f(x) = R(x) + x`.\n",
        "\n",
        "The residual block is trying to learn the output f(x). x is **identity function**. The layers are trying to learn the residual R(x).\n",
        "\n",
        "\n",
        "\n",
        "\n",
        "\n"
      ],
      "metadata": {
        "id": "KUOr0vKdFDaf"
      }
    },
    {
      "cell_type": "markdown",
      "source": [
        "### Recurrent Convolutional Network\n",
        "\n",
        "* The recurrent network can use the feedback connection to store information over time\n",
        "\n",
        "* Recurrent networks use context information; as time steps increase, the network leverages more and more neighborhood information.\n",
        "\n",
        "(Recurrent and CNNs can be combined for image based applications)\n",
        "\n",
        "* With Recurrent convolution layers, the network can evolve over time though the input is static.\n",
        "\n",
        "<img src=\"https://assets-global.website-files.com/5d7b77b063a9066d83e1209c/62ea835f8c07813a54bb0185_recurrent%20vs%20feedforward%20neural%20network%20.jpg\" alt=\"ResNet\" width=\"600\"/>\n",
        "\n",
        "https://www.v7labs.com/blog/recurrent-neural-networks-guide\n",
        "\n",
        "* Each unit is influenced by its neighboring units, includes the context information of an image."
      ],
      "metadata": {
        "id": "4cGTo77BXJbH"
      }
    },
    {
      "cell_type": "code",
      "source": [
        "# Sample attention block\n",
        "import tensorflow as tf\n",
        "from tensorflow.keras import layers, models, regularizers\n",
        "from tensorflow.keras import backend as K\n",
        "\n",
        "def attention_block(x, gating, inter_shape):\n",
        "  shape_x = K.int_shape(x)  # x\n",
        "  shape_g = K.int_shape(gating)  # g\n",
        "\n",
        "  # Getting x to the same shape as gating signal (128 to 64)\n",
        "  theta_x = layers.Conv2D(inter_shape, (2,2), strides=(2,2), padding='same')(x)\n",
        "  shape_theta_x = K.int_shape(theta_x)\n",
        "\n",
        "  # Getting the gating signal to the same number of filters as the inter_shape\n",
        "  phi_g = layers.Conv2D(inter_shape, (1,1), padding='same')(gating)\n",
        "  upsample_g = layers.Conv2DTranspose(inter_shape, (3, 3),\n",
        "                      strides=(shape_theta_x[1] // shape_g[1], shape_theta_x[2] // shape_g[2]),\n",
        "                      padding='same')(phi_g)  # 16\n",
        "\n",
        "  concat_xg = layers.add([phi_g, theta_x])\n",
        "  act_xg = layers.Activation('relu')(concat_xg)\n",
        "\n",
        "  psi = layers.Conv2D(1, (1,1), padding='same')(act_xg)\n",
        "  sigmoid_xg = layers.Activation('sigmoid')(psi)\n",
        "  shape_sigmoid = K.int_shape(sigmoid_xg)\n",
        "\n",
        "  upsample_psi = layers.UpSampling2D(size=(shape_x[1] // shape_sigmoid[1], shape_x[2] // shape_sigmoid[2]))(sigmoid_xg)\n",
        "\n",
        "  y = layers.multiply([upsample_psi, x])\n",
        "\n",
        "  result = layers.Conv2D(shape_x[3], (1,1), padding='same')(y)\n",
        "  result_bn = layers.BatchNormalization(result)\n",
        "\n",
        "  return result_bn"
      ],
      "metadata": {
        "id": "TgGivFdDFCSq"
      },
      "execution_count": null,
      "outputs": []
    },
    {
      "cell_type": "markdown",
      "source": [
        "### Dice Coefficient\n",
        "\n",
        "Dice coefficient is a similarity metric commonly used in image segmentation. It also called the “`Sørensen–Dice` coefficient”.\n",
        "\n",
        "Dice coefficient = **2 * |A ∩ B| / (|A| + |B|)**\n",
        "\n",
        "Where `|A|` represents the `number of elements` in set A, and `|B|` represents the `number of elements` in set B. `|A ∩ B|` represents the number of elements that are present in `both sets`.\n",
        "\n",
        "* It is particularly useful for imbalanced datasets, where one set may be much larger than the other.\n",
        "\n",
        "* A `high Dice` coefficient value indicates a `high` level of `similarity` between the `predicted` and `ground truth masks`, meaning that the segmentation model or algorithm is `performing well`. Conversely, a low Dice coefficient value indicates poor segmentation performance.\n",
        "\n",
        "Ex.\n",
        "\n",
        "A = {1, 2, 3, 4, 5, 6} B = {1, 3, 5, 7, 9}\n",
        "\n",
        "Dice coefficient = 2 * |A ∩ B| / (|A| + |B|) = 2 * 3 / (6 + 5) = 0.545\n",
        "\n",
        "This means that sets A and B are 54.5% similar.\n",
        "\n",
        "\n",
        "ref: [Dice Coefficient! What is it?](https://medium.com/@lathashreeh/dice-coefficient-what-is-it-ff090ec97bda#:~:text=The%20Dice%20coefficient%20is%20a,(%7CA%7C%20%2B%20%7CB%7C)\n",
        "\n"
      ],
      "metadata": {
        "id": "zrWUjJNutqk0"
      }
    },
    {
      "cell_type": "code",
      "source": [
        "def dice_coef(y_true, y_pred):\n",
        "    y_true_f = layers.Flatten()(y_true)\n",
        "    y_pred_f = layers.Flatten()(y_pred)\n",
        "    intersection = tf.math.reduce_sum(y_true_f * y_pred_f)  # or tf.math.reduce_sum(x, axis=[0,1])\n",
        "    #intersection = K.sum(y_true_f * y_pred_f)\n",
        "    return (2.0 * intersection + 1.0) / (K.sum(y_true_f) + K.sum(y_pred_f) + 1.0)"
      ],
      "metadata": {
        "id": "ty8Uwg53FCQR"
      },
      "execution_count": null,
      "outputs": []
    },
    {
      "cell_type": "markdown",
      "source": [
        "### Jaccard Coefficient\n",
        "\n",
        "The Jaccard Similarity can be used to compute the similarity between two `asymmetric binary variables`. Suppose a binary variable has only one of two states: `0` and `1`, where `0` means that the attribute is `absent`, and `1` means that it is `present`. While each state is equally valuable for symmetric binary attributes, the two states are not equally important in asymmetric binary variables.\n",
        "\n",
        "Ex.\n",
        "\n",
        "![jaccard_coeff_ex.png](data:image/png;base64,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)\n",
        "\n",
        "\n",
        "ref: [Jaccard Similarity](https://www.learndatasci.com/glossary/jaccard-similarity/)"
      ],
      "metadata": {
        "id": "dcSj3LQzvH1F"
      }
    },
    {
      "cell_type": "code",
      "source": [
        "def jaccard_coef(y_true, y_pred):\n",
        "    y_true_f = layers.Flatten()(y_true)\n",
        "    y_pred_f = layers.Flatten()(y_pred)\n",
        "    intersection = tf.math.reduce_sum(y_true_f * y_pred_f)\n",
        "    return (intersection + 1.0) / (tf.math.reduce_sum(y_true_f) + tf.math.reduce_sum(y_pred_f) - intersection + 1.0)"
      ],
      "metadata": {
        "id": "7uRNF-J5WJsH"
      },
      "execution_count": null,
      "outputs": []
    },
    {
      "cell_type": "code",
      "source": [
        "def jaccard_coef_loss(y_true, y_pred):\n",
        "    return -jacard_coef(y_true, y_pred)"
      ],
      "metadata": {
        "id": "tY1yRhBrXJ5v"
      },
      "execution_count": null,
      "outputs": []
    },
    {
      "cell_type": "code",
      "source": [
        "def dice_coef_loss(y_true, y_pred):\n",
        "    return -dice_coef(y_true, y_pred)"
      ],
      "metadata": {
        "id": "efbXLy6rXJ3b"
      },
      "execution_count": null,
      "outputs": []
    },
    {
      "cell_type": "code",
      "source": [
        "def conv_block(x, filter_size, size, dropout, batch_norm=False):\n",
        "    conv = layers.Conv2D(size, (filter_size, filter_size), padding=\"same\")(x)\n",
        "    if batch_norm is True:\n",
        "        conv = layers.BatchNormalization(axis=3)(conv)\n",
        "        # (batch_size, height, width, channels): axis=3 -> channels\n",
        "    conv = layers.Activation(\"relu\")(conv)\n",
        "\n",
        "    conv = layers.Conv2D(size, (filter_size, filter_size), padding=\"same\")(conv)\n",
        "    if batch_norm is True:\n",
        "        conv = layers.BatchNormalization(axis=3)(conv)\n",
        "    conv = layers.Activation(\"relu\")(conv)\n",
        "\n",
        "    if dropout > 0:\n",
        "        conv = layers.Dropout(dropout)(conv)\n",
        "\n",
        "    return conv"
      ],
      "metadata": {
        "id": "8PqOFK9OXJ0j"
      },
      "execution_count": null,
      "outputs": []
    },
    {
      "cell_type": "code",
      "source": [
        "def repeat_elem(tensor, rep):\n",
        "    # lambda function to repeat the elements of a tensor along an axis by a\n",
        "    # factor of rep. If tensor has shape (None, 256, 256, 3), lambda will return\n",
        "    # a tensor of shape (None, 256,256,6), if specified axis=3 and rep=2.\n",
        "\n",
        "    return layers.Lambda(lambda x, repnum: tf.repeat(x, repnum, axis=3),   # K.repeat_elements(x, repnum, axis=3),\n",
        "                          arguments={'repnum': rep})(tensor)"
      ],
      "metadata": {
        "id": "kmJkFN3qWJpl"
      },
      "execution_count": null,
      "outputs": []
    },
    {
      "cell_type": "code",
      "source": [
        "def res_conv_block(x, filter_size, size, dropout, batch_norm=False):\n",
        "    '''\n",
        "    There are two options for Residual convolutional layer.\n",
        "    Either put activation function before the addition with shortcut\n",
        "    or after the addition (which would be as proposed in the original resNet).\n",
        "\n",
        "    1. conv - BN - Activation - conv - BN - Activation\n",
        "                                          - shortcut - BN - shortcut + BN\n",
        "\n",
        "    2. conv - BN - Activation - conv - BN\n",
        "                                     - shortcut - BN - shortcut + BN - Activation\n",
        "\n",
        "    ref: https://arxiv.org/ftp/arxiv/papers/1802/1802.06955.pdf  (fig.4)\n",
        "    '''\n",
        "\n",
        "    # Conv2D - BN - Activation\n",
        "    conv = layers.Conv2D(size, (filter_size, filter_size), padding='same')(x)\n",
        "    if batch_norm is True:\n",
        "        conv = layers.BatchNormalization(axis=3)(conv)\n",
        "    conv = layers.Activation('relu')(conv)\n",
        "\n",
        "    # Conv2D - BN - Dropout\n",
        "    conv = layers.Conv2D(size, (filter_size, filter_size), padding='same')(conv)\n",
        "    if batch_norm is True:\n",
        "        conv = layers.BatchNormalization(axis=3)(conv)\n",
        "    #conv = layers.Activation('relu')(conv)    #Activation before addition with shortcut\n",
        "    if dropout > 0:\n",
        "        conv = layers.Dropout(dropout)(conv)\n",
        "\n",
        "    # Conv2D - BN  (for shortcut)\n",
        "    shortcut = layers.Conv2D(size, kernel_size=(1, 1), padding='same')(x)\n",
        "    if batch_norm is True:\n",
        "        shortcut = layers.BatchNormalization(axis=3)(shortcut)\n",
        "\n",
        "    res_path = layers.add([shortcut, conv])\n",
        "    res_path = layers.Activation('relu')(res_path)    # Activation after addition with shortcut (Original residual block)\n",
        "    return res_path"
      ],
      "metadata": {
        "id": "p9Ue_1XmY-Wz"
      },
      "execution_count": null,
      "outputs": []
    },
    {
      "cell_type": "markdown",
      "source": [
        "### Reference\n",
        "\n",
        "Original Paper: [Attention U-Net: Learning Where to Look for the Pancreas](https://arxiv.org/pdf/1804.03999.pdf)\n",
        "\n",
        "[224 - Recurrent and Residual U-net](https://www.youtube.com/watch?v=7aDOtKN2cJs) by DigitalSreeni\n",
        "\n",
        "[225 - Attention U-net. What is attention and why is it needed for U-Net? ](https://www.youtube.com/watch?v=KOF38xAvo8I) by DigitalSreeni\n",
        "\n",
        "[226 - U-Net vs Attention U-Net vs Attention Residual U-Net - should you care? ](https://www.youtube.com/watch?v=L5iV5BHkMzM) by DigitalSreeni"
      ],
      "metadata": {
        "id": "aZzpMVlTDvpQ"
      }
    }
  ]
}