{
  "nbformat": 4,
  "nbformat_minor": 0,
  "metadata": {
    "colab": {
      "provenance": [],
      "gpuType": "T4"
    },
    "kernelspec": {
      "name": "python3",
      "display_name": "Python 3"
    },
    "language_info": {
      "name": "python"
    },
    "accelerator": "GPU",
    "widgets": {
      "application/vnd.jupyter.widget-state+json": {
        "a5b3cbce177847c3b6d0b56acdc1e669": {
          "model_module": "@jupyter-widgets/controls",
          "model_name": "HBoxModel",
          "model_module_version": "1.5.0",
          "state": {
            "_dom_classes": [],
            "_model_module": "@jupyter-widgets/controls",
            "_model_module_version": "1.5.0",
            "_model_name": "HBoxModel",
            "_view_count": null,
            "_view_module": "@jupyter-widgets/controls",
            "_view_module_version": "1.5.0",
            "_view_name": "HBoxView",
            "box_style": "",
            "children": [
              "IPY_MODEL_9bd8b6f1a7b247f8b296667e0b5ca2c9",
              "IPY_MODEL_9e2cfb365df24503aab915ded019f5c5",
              "IPY_MODEL_63d54d45f01c4f1383c3e804331099d4"
            ],
            "layout": "IPY_MODEL_0b7a06a3420e4de7bc2e34e53798a896"
          }
        },
        "9bd8b6f1a7b247f8b296667e0b5ca2c9": {
          "model_module": "@jupyter-widgets/controls",
          "model_name": "HTMLModel",
          "model_module_version": "1.5.0",
          "state": {
            "_dom_classes": [],
            "_model_module": "@jupyter-widgets/controls",
            "_model_module_version": "1.5.0",
            "_model_name": "HTMLModel",
            "_view_count": null,
            "_view_module": "@jupyter-widgets/controls",
            "_view_module_version": "1.5.0",
            "_view_name": "HTMLView",
            "description": "",
            "description_tooltip": null,
            "layout": "IPY_MODEL_7fd6deed0e5e4290a853ac15e1fac8a4",
            "placeholder": "​",
            "style": "IPY_MODEL_e4903dbf6bca47319b77ff021e7aacb3",
            "value": "Dl Completed...: 100%"
          }
        },
        "9e2cfb365df24503aab915ded019f5c5": {
          "model_module": "@jupyter-widgets/controls",
          "model_name": "FloatProgressModel",
          "model_module_version": "1.5.0",
          "state": {
            "_dom_classes": [],
            "_model_module": "@jupyter-widgets/controls",
            "_model_module_version": "1.5.0",
            "_model_name": "FloatProgressModel",
            "_view_count": null,
            "_view_module": "@jupyter-widgets/controls",
            "_view_module_version": "1.5.0",
            "_view_name": "ProgressView",
            "bar_style": "success",
            "description": "",
            "description_tooltip": null,
            "layout": "IPY_MODEL_c0f5ba4daa2743008da67af7629c8418",
            "max": 1,
            "min": 0,
            "orientation": "horizontal",
            "style": "IPY_MODEL_0397cc8873994c5084e449ad5cff579f",
            "value": 1
          }
        },
        "63d54d45f01c4f1383c3e804331099d4": {
          "model_module": "@jupyter-widgets/controls",
          "model_name": "HTMLModel",
          "model_module_version": "1.5.0",
          "state": {
            "_dom_classes": [],
            "_model_module": "@jupyter-widgets/controls",
            "_model_module_version": "1.5.0",
            "_model_name": "HTMLModel",
            "_view_count": null,
            "_view_module": "@jupyter-widgets/controls",
            "_view_module_version": "1.5.0",
            "_view_name": "HTMLView",
            "description": "",
            "description_tooltip": null,
            "layout": "IPY_MODEL_7c99635413e94db0bc53d672cc9c588a",
            "placeholder": "​",
            "style": "IPY_MODEL_2e8e91ffff2c48cfab169d3df6e0aa2a",
            "value": " 1/1 [00:06&lt;00:00,  4.40s/ url]"
          }
        },
        "0b7a06a3420e4de7bc2e34e53798a896": {
          "model_module": "@jupyter-widgets/base",
          "model_name": "LayoutModel",
          "model_module_version": "1.2.0",
          "state": {
            "_model_module": "@jupyter-widgets/base",
            "_model_module_version": "1.2.0",
            "_model_name": "LayoutModel",
            "_view_count": null,
            "_view_module": "@jupyter-widgets/base",
            "_view_module_version": "1.2.0",
            "_view_name": "LayoutView",
            "align_content": null,
            "align_items": null,
            "align_self": null,
            "border": null,
            "bottom": null,
            "display": null,
            "flex": null,
            "flex_flow": null,
            "grid_area": null,
            "grid_auto_columns": null,
            "grid_auto_flow": null,
            "grid_auto_rows": null,
            "grid_column": null,
            "grid_gap": null,
            "grid_row": null,
            "grid_template_areas": null,
            "grid_template_columns": null,
            "grid_template_rows": null,
            "height": null,
            "justify_content": null,
            "justify_items": null,
            "left": null,
            "margin": null,
            "max_height": null,
            "max_width": null,
            "min_height": null,
            "min_width": null,
            "object_fit": null,
            "object_position": null,
            "order": null,
            "overflow": null,
            "overflow_x": null,
            "overflow_y": null,
            "padding": null,
            "right": null,
            "top": null,
            "visibility": null,
            "width": null
          }
        },
        "7fd6deed0e5e4290a853ac15e1fac8a4": {
          "model_module": "@jupyter-widgets/base",
          "model_name": "LayoutModel",
          "model_module_version": "1.2.0",
          "state": {
            "_model_module": "@jupyter-widgets/base",
            "_model_module_version": "1.2.0",
            "_model_name": "LayoutModel",
            "_view_count": null,
            "_view_module": "@jupyter-widgets/base",
            "_view_module_version": "1.2.0",
            "_view_name": "LayoutView",
            "align_content": null,
            "align_items": null,
            "align_self": null,
            "border": null,
            "bottom": null,
            "display": null,
            "flex": null,
            "flex_flow": null,
            "grid_area": null,
            "grid_auto_columns": null,
            "grid_auto_flow": null,
            "grid_auto_rows": null,
            "grid_column": null,
            "grid_gap": null,
            "grid_row": null,
            "grid_template_areas": null,
            "grid_template_columns": null,
            "grid_template_rows": null,
            "height": null,
            "justify_content": null,
            "justify_items": null,
            "left": null,
            "margin": null,
            "max_height": null,
            "max_width": null,
            "min_height": null,
            "min_width": null,
            "object_fit": null,
            "object_position": null,
            "order": null,
            "overflow": null,
            "overflow_x": null,
            "overflow_y": null,
            "padding": null,
            "right": null,
            "top": null,
            "visibility": null,
            "width": null
          }
        },
        "e4903dbf6bca47319b77ff021e7aacb3": {
          "model_module": "@jupyter-widgets/controls",
          "model_name": "DescriptionStyleModel",
          "model_module_version": "1.5.0",
          "state": {
            "_model_module": "@jupyter-widgets/controls",
            "_model_module_version": "1.5.0",
            "_model_name": "DescriptionStyleModel",
            "_view_count": null,
            "_view_module": "@jupyter-widgets/base",
            "_view_module_version": "1.2.0",
            "_view_name": "StyleView",
            "description_width": ""
          }
        },
        "c0f5ba4daa2743008da67af7629c8418": {
          "model_module": "@jupyter-widgets/base",
          "model_name": "LayoutModel",
          "model_module_version": "1.2.0",
          "state": {
            "_model_module": "@jupyter-widgets/base",
            "_model_module_version": "1.2.0",
            "_model_name": "LayoutModel",
            "_view_count": null,
            "_view_module": "@jupyter-widgets/base",
            "_view_module_version": "1.2.0",
            "_view_name": "LayoutView",
            "align_content": null,
            "align_items": null,
            "align_self": null,
            "border": null,
            "bottom": null,
            "display": null,
            "flex": null,
            "flex_flow": null,
            "grid_area": null,
            "grid_auto_columns": null,
            "grid_auto_flow": null,
            "grid_auto_rows": null,
            "grid_column": null,
            "grid_gap": null,
            "grid_row": null,
            "grid_template_areas": null,
            "grid_template_columns": null,
            "grid_template_rows": null,
            "height": null,
            "justify_content": null,
            "justify_items": null,
            "left": null,
            "margin": null,
            "max_height": null,
            "max_width": null,
            "min_height": null,
            "min_width": null,
            "object_fit": null,
            "object_position": null,
            "order": null,
            "overflow": null,
            "overflow_x": null,
            "overflow_y": null,
            "padding": null,
            "right": null,
            "top": null,
            "visibility": null,
            "width": "20px"
          }
        },
        "0397cc8873994c5084e449ad5cff579f": {
          "model_module": "@jupyter-widgets/controls",
          "model_name": "ProgressStyleModel",
          "model_module_version": "1.5.0",
          "state": {
            "_model_module": "@jupyter-widgets/controls",
            "_model_module_version": "1.5.0",
            "_model_name": "ProgressStyleModel",
            "_view_count": null,
            "_view_module": "@jupyter-widgets/base",
            "_view_module_version": "1.2.0",
            "_view_name": "StyleView",
            "bar_color": null,
            "description_width": ""
          }
        },
        "7c99635413e94db0bc53d672cc9c588a": {
          "model_module": "@jupyter-widgets/base",
          "model_name": "LayoutModel",
          "model_module_version": "1.2.0",
          "state": {
            "_model_module": "@jupyter-widgets/base",
            "_model_module_version": "1.2.0",
            "_model_name": "LayoutModel",
            "_view_count": null,
            "_view_module": "@jupyter-widgets/base",
            "_view_module_version": "1.2.0",
            "_view_name": "LayoutView",
            "align_content": null,
            "align_items": null,
            "align_self": null,
            "border": null,
            "bottom": null,
            "display": null,
            "flex": null,
            "flex_flow": null,
            "grid_area": null,
            "grid_auto_columns": null,
            "grid_auto_flow": null,
            "grid_auto_rows": null,
            "grid_column": null,
            "grid_gap": null,
            "grid_row": null,
            "grid_template_areas": null,
            "grid_template_columns": null,
            "grid_template_rows": null,
            "height": null,
            "justify_content": null,
            "justify_items": null,
            "left": null,
            "margin": null,
            "max_height": null,
            "max_width": null,
            "min_height": null,
            "min_width": null,
            "object_fit": null,
            "object_position": null,
            "order": null,
            "overflow": null,
            "overflow_x": null,
            "overflow_y": null,
            "padding": null,
            "right": null,
            "top": null,
            "visibility": null,
            "width": null
          }
        },
        "2e8e91ffff2c48cfab169d3df6e0aa2a": {
          "model_module": "@jupyter-widgets/controls",
          "model_name": "DescriptionStyleModel",
          "model_module_version": "1.5.0",
          "state": {
            "_model_module": "@jupyter-widgets/controls",
            "_model_module_version": "1.5.0",
            "_model_name": "DescriptionStyleModel",
            "_view_count": null,
            "_view_module": "@jupyter-widgets/base",
            "_view_module_version": "1.2.0",
            "_view_name": "StyleView",
            "description_width": ""
          }
        },
        "d7e08243c97848a1980e4716b1a53bab": {
          "model_module": "@jupyter-widgets/controls",
          "model_name": "HBoxModel",
          "model_module_version": "1.5.0",
          "state": {
            "_dom_classes": [],
            "_model_module": "@jupyter-widgets/controls",
            "_model_module_version": "1.5.0",
            "_model_name": "HBoxModel",
            "_view_count": null,
            "_view_module": "@jupyter-widgets/controls",
            "_view_module_version": "1.5.0",
            "_view_name": "HBoxView",
            "box_style": "",
            "children": [
              "IPY_MODEL_19cff8cfdb57417580dbf8be2d985bd2",
              "IPY_MODEL_f8e0ecb6dac441b9aa6ae6f00931e0b6",
              "IPY_MODEL_a6bc1ea0d5314e63b36f4655b5b7527b"
            ],
            "layout": "IPY_MODEL_dca469579f884552b2137fec1ea775d1"
          }
        },
        "19cff8cfdb57417580dbf8be2d985bd2": {
          "model_module": "@jupyter-widgets/controls",
          "model_name": "HTMLModel",
          "model_module_version": "1.5.0",
          "state": {
            "_dom_classes": [],
            "_model_module": "@jupyter-widgets/controls",
            "_model_module_version": "1.5.0",
            "_model_name": "HTMLModel",
            "_view_count": null,
            "_view_module": "@jupyter-widgets/controls",
            "_view_module_version": "1.5.0",
            "_view_name": "HTMLView",
            "description": "",
            "description_tooltip": null,
            "layout": "IPY_MODEL_b2d21308c90c4dea95d4c94f4e1d6a9c",
            "placeholder": "​",
            "style": "IPY_MODEL_203a24c97ed54544961a53156be0b10a",
            "value": "Dl Size...: 100%"
          }
        },
        "f8e0ecb6dac441b9aa6ae6f00931e0b6": {
          "model_module": "@jupyter-widgets/controls",
          "model_name": "FloatProgressModel",
          "model_module_version": "1.5.0",
          "state": {
            "_dom_classes": [],
            "_model_module": "@jupyter-widgets/controls",
            "_model_module_version": "1.5.0",
            "_model_name": "FloatProgressModel",
            "_view_count": null,
            "_view_module": "@jupyter-widgets/controls",
            "_view_module_version": "1.5.0",
            "_view_name": "ProgressView",
            "bar_style": "success",
            "description": "",
            "description_tooltip": null,
            "layout": "IPY_MODEL_a6377e6e71e64f6b9063f0dcd65074a3",
            "max": 1,
            "min": 0,
            "orientation": "horizontal",
            "style": "IPY_MODEL_effa32a3cb57499f9275e41bc1d327ef",
            "value": 1
          }
        },
        "a6bc1ea0d5314e63b36f4655b5b7527b": {
          "model_module": "@jupyter-widgets/controls",
          "model_name": "HTMLModel",
          "model_module_version": "1.5.0",
          "state": {
            "_dom_classes": [],
            "_model_module": "@jupyter-widgets/controls",
            "_model_module_version": "1.5.0",
            "_model_name": "HTMLModel",
            "_view_count": null,
            "_view_module": "@jupyter-widgets/controls",
            "_view_module_version": "1.5.0",
            "_view_name": "HTMLView",
            "description": "",
            "description_tooltip": null,
            "layout": "IPY_MODEL_1f013310544445f4b25e1510cf4ca3a0",
            "placeholder": "​",
            "style": "IPY_MODEL_3139141d73184f05830f80c0336c03ad",
            "value": " 162/162 [00:06&lt;00:00, 45.13 MiB/s]"
          }
        },
        "dca469579f884552b2137fec1ea775d1": {
          "model_module": "@jupyter-widgets/base",
          "model_name": "LayoutModel",
          "model_module_version": "1.2.0",
          "state": {
            "_model_module": "@jupyter-widgets/base",
            "_model_module_version": "1.2.0",
            "_model_name": "LayoutModel",
            "_view_count": null,
            "_view_module": "@jupyter-widgets/base",
            "_view_module_version": "1.2.0",
            "_view_name": "LayoutView",
            "align_content": null,
            "align_items": null,
            "align_self": null,
            "border": null,
            "bottom": null,
            "display": null,
            "flex": null,
            "flex_flow": null,
            "grid_area": null,
            "grid_auto_columns": null,
            "grid_auto_flow": null,
            "grid_auto_rows": null,
            "grid_column": null,
            "grid_gap": null,
            "grid_row": null,
            "grid_template_areas": null,
            "grid_template_columns": null,
            "grid_template_rows": null,
            "height": null,
            "justify_content": null,
            "justify_items": null,
            "left": null,
            "margin": null,
            "max_height": null,
            "max_width": null,
            "min_height": null,
            "min_width": null,
            "object_fit": null,
            "object_position": null,
            "order": null,
            "overflow": null,
            "overflow_x": null,
            "overflow_y": null,
            "padding": null,
            "right": null,
            "top": null,
            "visibility": null,
            "width": null
          }
        },
        "b2d21308c90c4dea95d4c94f4e1d6a9c": {
          "model_module": "@jupyter-widgets/base",
          "model_name": "LayoutModel",
          "model_module_version": "1.2.0",
          "state": {
            "_model_module": "@jupyter-widgets/base",
            "_model_module_version": "1.2.0",
            "_model_name": "LayoutModel",
            "_view_count": null,
            "_view_module": "@jupyter-widgets/base",
            "_view_module_version": "1.2.0",
            "_view_name": "LayoutView",
            "align_content": null,
            "align_items": null,
            "align_self": null,
            "border": null,
            "bottom": null,
            "display": null,
            "flex": null,
            "flex_flow": null,
            "grid_area": null,
            "grid_auto_columns": null,
            "grid_auto_flow": null,
            "grid_auto_rows": null,
            "grid_column": null,
            "grid_gap": null,
            "grid_row": null,
            "grid_template_areas": null,
            "grid_template_columns": null,
            "grid_template_rows": null,
            "height": null,
            "justify_content": null,
            "justify_items": null,
            "left": null,
            "margin": null,
            "max_height": null,
            "max_width": null,
            "min_height": null,
            "min_width": null,
            "object_fit": null,
            "object_position": null,
            "order": null,
            "overflow": null,
            "overflow_x": null,
            "overflow_y": null,
            "padding": null,
            "right": null,
            "top": null,
            "visibility": null,
            "width": null
          }
        },
        "203a24c97ed54544961a53156be0b10a": {
          "model_module": "@jupyter-widgets/controls",
          "model_name": "DescriptionStyleModel",
          "model_module_version": "1.5.0",
          "state": {
            "_model_module": "@jupyter-widgets/controls",
            "_model_module_version": "1.5.0",
            "_model_name": "DescriptionStyleModel",
            "_view_count": null,
            "_view_module": "@jupyter-widgets/base",
            "_view_module_version": "1.2.0",
            "_view_name": "StyleView",
            "description_width": ""
          }
        },
        "a6377e6e71e64f6b9063f0dcd65074a3": {
          "model_module": "@jupyter-widgets/base",
          "model_name": "LayoutModel",
          "model_module_version": "1.2.0",
          "state": {
            "_model_module": "@jupyter-widgets/base",
            "_model_module_version": "1.2.0",
            "_model_name": "LayoutModel",
            "_view_count": null,
            "_view_module": "@jupyter-widgets/base",
            "_view_module_version": "1.2.0",
            "_view_name": "LayoutView",
            "align_content": null,
            "align_items": null,
            "align_self": null,
            "border": null,
            "bottom": null,
            "display": null,
            "flex": null,
            "flex_flow": null,
            "grid_area": null,
            "grid_auto_columns": null,
            "grid_auto_flow": null,
            "grid_auto_rows": null,
            "grid_column": null,
            "grid_gap": null,
            "grid_row": null,
            "grid_template_areas": null,
            "grid_template_columns": null,
            "grid_template_rows": null,
            "height": null,
            "justify_content": null,
            "justify_items": null,
            "left": null,
            "margin": null,
            "max_height": null,
            "max_width": null,
            "min_height": null,
            "min_width": null,
            "object_fit": null,
            "object_position": null,
            "order": null,
            "overflow": null,
            "overflow_x": null,
            "overflow_y": null,
            "padding": null,
            "right": null,
            "top": null,
            "visibility": null,
            "width": "20px"
          }
        },
        "effa32a3cb57499f9275e41bc1d327ef": {
          "model_module": "@jupyter-widgets/controls",
          "model_name": "ProgressStyleModel",
          "model_module_version": "1.5.0",
          "state": {
            "_model_module": "@jupyter-widgets/controls",
            "_model_module_version": "1.5.0",
            "_model_name": "ProgressStyleModel",
            "_view_count": null,
            "_view_module": "@jupyter-widgets/base",
            "_view_module_version": "1.2.0",
            "_view_name": "StyleView",
            "bar_color": null,
            "description_width": ""
          }
        },
        "1f013310544445f4b25e1510cf4ca3a0": {
          "model_module": "@jupyter-widgets/base",
          "model_name": "LayoutModel",
          "model_module_version": "1.2.0",
          "state": {
            "_model_module": "@jupyter-widgets/base",
            "_model_module_version": "1.2.0",
            "_model_name": "LayoutModel",
            "_view_count": null,
            "_view_module": "@jupyter-widgets/base",
            "_view_module_version": "1.2.0",
            "_view_name": "LayoutView",
            "align_content": null,
            "align_items": null,
            "align_self": null,
            "border": null,
            "bottom": null,
            "display": null,
            "flex": null,
            "flex_flow": null,
            "grid_area": null,
            "grid_auto_columns": null,
            "grid_auto_flow": null,
            "grid_auto_rows": null,
            "grid_column": null,
            "grid_gap": null,
            "grid_row": null,
            "grid_template_areas": null,
            "grid_template_columns": null,
            "grid_template_rows": null,
            "height": null,
            "justify_content": null,
            "justify_items": null,
            "left": null,
            "margin": null,
            "max_height": null,
            "max_width": null,
            "min_height": null,
            "min_width": null,
            "object_fit": null,
            "object_position": null,
            "order": null,
            "overflow": null,
            "overflow_x": null,
            "overflow_y": null,
            "padding": null,
            "right": null,
            "top": null,
            "visibility": null,
            "width": null
          }
        },
        "3139141d73184f05830f80c0336c03ad": {
          "model_module": "@jupyter-widgets/controls",
          "model_name": "DescriptionStyleModel",
          "model_module_version": "1.5.0",
          "state": {
            "_model_module": "@jupyter-widgets/controls",
            "_model_module_version": "1.5.0",
            "_model_name": "DescriptionStyleModel",
            "_view_count": null,
            "_view_module": "@jupyter-widgets/base",
            "_view_module_version": "1.2.0",
            "_view_name": "StyleView",
            "description_width": ""
          }
        },
        "842c08bbeef041c8a245c6323055baeb": {
          "model_module": "@jupyter-widgets/controls",
          "model_name": "HBoxModel",
          "model_module_version": "1.5.0",
          "state": {
            "_dom_classes": [],
            "_model_module": "@jupyter-widgets/controls",
            "_model_module_version": "1.5.0",
            "_model_name": "HBoxModel",
            "_view_count": null,
            "_view_module": "@jupyter-widgets/controls",
            "_view_module_version": "1.5.0",
            "_view_name": "HBoxView",
            "box_style": "",
            "children": [
              "IPY_MODEL_a631e2ab84704beba9d96be71e188312",
              "IPY_MODEL_430ec0f91fb844b5af0a0816662fc58c",
              "IPY_MODEL_d31c557cc56d40a9a3e2942900e45441"
            ],
            "layout": "IPY_MODEL_b8fd1c77a10a479da4b4e146727b866f"
          }
        },
        "a631e2ab84704beba9d96be71e188312": {
          "model_module": "@jupyter-widgets/controls",
          "model_name": "HTMLModel",
          "model_module_version": "1.5.0",
          "state": {
            "_dom_classes": [],
            "_model_module": "@jupyter-widgets/controls",
            "_model_module_version": "1.5.0",
            "_model_name": "HTMLModel",
            "_view_count": null,
            "_view_module": "@jupyter-widgets/controls",
            "_view_module_version": "1.5.0",
            "_view_name": "HTMLView",
            "description": "",
            "description_tooltip": null,
            "layout": "IPY_MODEL_13bc2074b060478cb4951179ab731dd6",
            "placeholder": "​",
            "style": "IPY_MODEL_7bd78900700d490f8f17b15bf40b1a51",
            "value": "Extraction completed...: 100%"
          }
        },
        "430ec0f91fb844b5af0a0816662fc58c": {
          "model_module": "@jupyter-widgets/controls",
          "model_name": "FloatProgressModel",
          "model_module_version": "1.5.0",
          "state": {
            "_dom_classes": [],
            "_model_module": "@jupyter-widgets/controls",
            "_model_module_version": "1.5.0",
            "_model_name": "FloatProgressModel",
            "_view_count": null,
            "_view_module": "@jupyter-widgets/controls",
            "_view_module_version": "1.5.0",
            "_view_name": "ProgressView",
            "bar_style": "success",
            "description": "",
            "description_tooltip": null,
            "layout": "IPY_MODEL_2ddd1d98a41645f5a12d33e7ad1999e3",
            "max": 1,
            "min": 0,
            "orientation": "horizontal",
            "style": "IPY_MODEL_f2500b0afbed4c01b5186a49687d4340",
            "value": 1
          }
        },
        "d31c557cc56d40a9a3e2942900e45441": {
          "model_module": "@jupyter-widgets/controls",
          "model_name": "HTMLModel",
          "model_module_version": "1.5.0",
          "state": {
            "_dom_classes": [],
            "_model_module": "@jupyter-widgets/controls",
            "_model_module_version": "1.5.0",
            "_model_name": "HTMLModel",
            "_view_count": null,
            "_view_module": "@jupyter-widgets/controls",
            "_view_module_version": "1.5.0",
            "_view_name": "HTMLView",
            "description": "",
            "description_tooltip": null,
            "layout": "IPY_MODEL_4368a741c73b40ad883c469377478f4f",
            "placeholder": "​",
            "style": "IPY_MODEL_98878bd597134a16b15259bc369bfce2",
            "value": " 8/8 [00:06&lt;00:00,  6.78s/ file]"
          }
        },
        "b8fd1c77a10a479da4b4e146727b866f": {
          "model_module": "@jupyter-widgets/base",
          "model_name": "LayoutModel",
          "model_module_version": "1.2.0",
          "state": {
            "_model_module": "@jupyter-widgets/base",
            "_model_module_version": "1.2.0",
            "_model_name": "LayoutModel",
            "_view_count": null,
            "_view_module": "@jupyter-widgets/base",
            "_view_module_version": "1.2.0",
            "_view_name": "LayoutView",
            "align_content": null,
            "align_items": null,
            "align_self": null,
            "border": null,
            "bottom": null,
            "display": null,
            "flex": null,
            "flex_flow": null,
            "grid_area": null,
            "grid_auto_columns": null,
            "grid_auto_flow": null,
            "grid_auto_rows": null,
            "grid_column": null,
            "grid_gap": null,
            "grid_row": null,
            "grid_template_areas": null,
            "grid_template_columns": null,
            "grid_template_rows": null,
            "height": null,
            "justify_content": null,
            "justify_items": null,
            "left": null,
            "margin": null,
            "max_height": null,
            "max_width": null,
            "min_height": null,
            "min_width": null,
            "object_fit": null,
            "object_position": null,
            "order": null,
            "overflow": null,
            "overflow_x": null,
            "overflow_y": null,
            "padding": null,
            "right": null,
            "top": null,
            "visibility": null,
            "width": null
          }
        },
        "13bc2074b060478cb4951179ab731dd6": {
          "model_module": "@jupyter-widgets/base",
          "model_name": "LayoutModel",
          "model_module_version": "1.2.0",
          "state": {
            "_model_module": "@jupyter-widgets/base",
            "_model_module_version": "1.2.0",
            "_model_name": "LayoutModel",
            "_view_count": null,
            "_view_module": "@jupyter-widgets/base",
            "_view_module_version": "1.2.0",
            "_view_name": "LayoutView",
            "align_content": null,
            "align_items": null,
            "align_self": null,
            "border": null,
            "bottom": null,
            "display": null,
            "flex": null,
            "flex_flow": null,
            "grid_area": null,
            "grid_auto_columns": null,
            "grid_auto_flow": null,
            "grid_auto_rows": null,
            "grid_column": null,
            "grid_gap": null,
            "grid_row": null,
            "grid_template_areas": null,
            "grid_template_columns": null,
            "grid_template_rows": null,
            "height": null,
            "justify_content": null,
            "justify_items": null,
            "left": null,
            "margin": null,
            "max_height": null,
            "max_width": null,
            "min_height": null,
            "min_width": null,
            "object_fit": null,
            "object_position": null,
            "order": null,
            "overflow": null,
            "overflow_x": null,
            "overflow_y": null,
            "padding": null,
            "right": null,
            "top": null,
            "visibility": null,
            "width": null
          }
        },
        "7bd78900700d490f8f17b15bf40b1a51": {
          "model_module": "@jupyter-widgets/controls",
          "model_name": "DescriptionStyleModel",
          "model_module_version": "1.5.0",
          "state": {
            "_model_module": "@jupyter-widgets/controls",
            "_model_module_version": "1.5.0",
            "_model_name": "DescriptionStyleModel",
            "_view_count": null,
            "_view_module": "@jupyter-widgets/base",
            "_view_module_version": "1.2.0",
            "_view_name": "StyleView",
            "description_width": ""
          }
        },
        "2ddd1d98a41645f5a12d33e7ad1999e3": {
          "model_module": "@jupyter-widgets/base",
          "model_name": "LayoutModel",
          "model_module_version": "1.2.0",
          "state": {
            "_model_module": "@jupyter-widgets/base",
            "_model_module_version": "1.2.0",
            "_model_name": "LayoutModel",
            "_view_count": null,
            "_view_module": "@jupyter-widgets/base",
            "_view_module_version": "1.2.0",
            "_view_name": "LayoutView",
            "align_content": null,
            "align_items": null,
            "align_self": null,
            "border": null,
            "bottom": null,
            "display": null,
            "flex": null,
            "flex_flow": null,
            "grid_area": null,
            "grid_auto_columns": null,
            "grid_auto_flow": null,
            "grid_auto_rows": null,
            "grid_column": null,
            "grid_gap": null,
            "grid_row": null,
            "grid_template_areas": null,
            "grid_template_columns": null,
            "grid_template_rows": null,
            "height": null,
            "justify_content": null,
            "justify_items": null,
            "left": null,
            "margin": null,
            "max_height": null,
            "max_width": null,
            "min_height": null,
            "min_width": null,
            "object_fit": null,
            "object_position": null,
            "order": null,
            "overflow": null,
            "overflow_x": null,
            "overflow_y": null,
            "padding": null,
            "right": null,
            "top": null,
            "visibility": null,
            "width": "20px"
          }
        },
        "f2500b0afbed4c01b5186a49687d4340": {
          "model_module": "@jupyter-widgets/controls",
          "model_name": "ProgressStyleModel",
          "model_module_version": "1.5.0",
          "state": {
            "_model_module": "@jupyter-widgets/controls",
            "_model_module_version": "1.5.0",
            "_model_name": "ProgressStyleModel",
            "_view_count": null,
            "_view_module": "@jupyter-widgets/base",
            "_view_module_version": "1.2.0",
            "_view_name": "StyleView",
            "bar_color": null,
            "description_width": ""
          }
        },
        "4368a741c73b40ad883c469377478f4f": {
          "model_module": "@jupyter-widgets/base",
          "model_name": "LayoutModel",
          "model_module_version": "1.2.0",
          "state": {
            "_model_module": "@jupyter-widgets/base",
            "_model_module_version": "1.2.0",
            "_model_name": "LayoutModel",
            "_view_count": null,
            "_view_module": "@jupyter-widgets/base",
            "_view_module_version": "1.2.0",
            "_view_name": "LayoutView",
            "align_content": null,
            "align_items": null,
            "align_self": null,
            "border": null,
            "bottom": null,
            "display": null,
            "flex": null,
            "flex_flow": null,
            "grid_area": null,
            "grid_auto_columns": null,
            "grid_auto_flow": null,
            "grid_auto_rows": null,
            "grid_column": null,
            "grid_gap": null,
            "grid_row": null,
            "grid_template_areas": null,
            "grid_template_columns": null,
            "grid_template_rows": null,
            "height": null,
            "justify_content": null,
            "justify_items": null,
            "left": null,
            "margin": null,
            "max_height": null,
            "max_width": null,
            "min_height": null,
            "min_width": null,
            "object_fit": null,
            "object_position": null,
            "order": null,
            "overflow": null,
            "overflow_x": null,
            "overflow_y": null,
            "padding": null,
            "right": null,
            "top": null,
            "visibility": null,
            "width": null
          }
        },
        "98878bd597134a16b15259bc369bfce2": {
          "model_module": "@jupyter-widgets/controls",
          "model_name": "DescriptionStyleModel",
          "model_module_version": "1.5.0",
          "state": {
            "_model_module": "@jupyter-widgets/controls",
            "_model_module_version": "1.5.0",
            "_model_name": "DescriptionStyleModel",
            "_view_count": null,
            "_view_module": "@jupyter-widgets/base",
            "_view_module_version": "1.2.0",
            "_view_name": "StyleView",
            "description_width": ""
          }
        },
        "8df6891589d841898a2c163e27f355d6": {
          "model_module": "@jupyter-widgets/controls",
          "model_name": "HBoxModel",
          "model_module_version": "1.5.0",
          "state": {
            "_dom_classes": [],
            "_model_module": "@jupyter-widgets/controls",
            "_model_module_version": "1.5.0",
            "_model_name": "HBoxModel",
            "_view_count": null,
            "_view_module": "@jupyter-widgets/controls",
            "_view_module_version": "1.5.0",
            "_view_name": "HBoxView",
            "box_style": "",
            "children": [
              "IPY_MODEL_a738f09d3e384a5ea6d922dfb1ec159e",
              "IPY_MODEL_4b2cc4d884904bdf8a06af215fe10783",
              "IPY_MODEL_18f5aebfbe2a48ee8c0118e799d0f2e8"
            ],
            "layout": "IPY_MODEL_e2bf758fa6e84f7f80078b8951a65f3b"
          }
        },
        "a738f09d3e384a5ea6d922dfb1ec159e": {
          "model_module": "@jupyter-widgets/controls",
          "model_name": "HTMLModel",
          "model_module_version": "1.5.0",
          "state": {
            "_dom_classes": [],
            "_model_module": "@jupyter-widgets/controls",
            "_model_module_version": "1.5.0",
            "_model_name": "HTMLModel",
            "_view_count": null,
            "_view_module": "@jupyter-widgets/controls",
            "_view_module_version": "1.5.0",
            "_view_name": "HTMLView",
            "description": "",
            "description_tooltip": null,
            "layout": "IPY_MODEL_6aececc4489046d8a2bb82df68f3b66a",
            "placeholder": "​",
            "style": "IPY_MODEL_0053a63fcb5949f4af668ddab685cce7",
            "value": "Generating splits...: 100%"
          }
        },
        "4b2cc4d884904bdf8a06af215fe10783": {
          "model_module": "@jupyter-widgets/controls",
          "model_name": "FloatProgressModel",
          "model_module_version": "1.5.0",
          "state": {
            "_dom_classes": [],
            "_model_module": "@jupyter-widgets/controls",
            "_model_module_version": "1.5.0",
            "_model_name": "FloatProgressModel",
            "_view_count": null,
            "_view_module": "@jupyter-widgets/controls",
            "_view_module_version": "1.5.0",
            "_view_name": "ProgressView",
            "bar_style": "",
            "description": "",
            "description_tooltip": null,
            "layout": "IPY_MODEL_a3518159061841069711bf67e27ee1b7",
            "max": 2,
            "min": 0,
            "orientation": "horizontal",
            "style": "IPY_MODEL_b430c5b158564f9d9fd3c6c1473e4ffe",
            "value": 2
          }
        },
        "18f5aebfbe2a48ee8c0118e799d0f2e8": {
          "model_module": "@jupyter-widgets/controls",
          "model_name": "HTMLModel",
          "model_module_version": "1.5.0",
          "state": {
            "_dom_classes": [],
            "_model_module": "@jupyter-widgets/controls",
            "_model_module_version": "1.5.0",
            "_model_name": "HTMLModel",
            "_view_count": null,
            "_view_module": "@jupyter-widgets/controls",
            "_view_module_version": "1.5.0",
            "_view_name": "HTMLView",
            "description": "",
            "description_tooltip": null,
            "layout": "IPY_MODEL_e3f6f8c2060e426e9eb8e2aa99df4b84",
            "placeholder": "​",
            "style": "IPY_MODEL_73ab121b2b6d4e689c30886ed2d12fb0",
            "value": " 2/2 [01:03&lt;00:00, 27.63s/ splits]"
          }
        },
        "e2bf758fa6e84f7f80078b8951a65f3b": {
          "model_module": "@jupyter-widgets/base",
          "model_name": "LayoutModel",
          "model_module_version": "1.2.0",
          "state": {
            "_model_module": "@jupyter-widgets/base",
            "_model_module_version": "1.2.0",
            "_model_name": "LayoutModel",
            "_view_count": null,
            "_view_module": "@jupyter-widgets/base",
            "_view_module_version": "1.2.0",
            "_view_name": "LayoutView",
            "align_content": null,
            "align_items": null,
            "align_self": null,
            "border": null,
            "bottom": null,
            "display": null,
            "flex": null,
            "flex_flow": null,
            "grid_area": null,
            "grid_auto_columns": null,
            "grid_auto_flow": null,
            "grid_auto_rows": null,
            "grid_column": null,
            "grid_gap": null,
            "grid_row": null,
            "grid_template_areas": null,
            "grid_template_columns": null,
            "grid_template_rows": null,
            "height": null,
            "justify_content": null,
            "justify_items": null,
            "left": null,
            "margin": null,
            "max_height": null,
            "max_width": null,
            "min_height": null,
            "min_width": null,
            "object_fit": null,
            "object_position": null,
            "order": null,
            "overflow": null,
            "overflow_x": null,
            "overflow_y": null,
            "padding": null,
            "right": null,
            "top": null,
            "visibility": "hidden",
            "width": null
          }
        },
        "6aececc4489046d8a2bb82df68f3b66a": {
          "model_module": "@jupyter-widgets/base",
          "model_name": "LayoutModel",
          "model_module_version": "1.2.0",
          "state": {
            "_model_module": "@jupyter-widgets/base",
            "_model_module_version": "1.2.0",
            "_model_name": "LayoutModel",
            "_view_count": null,
            "_view_module": "@jupyter-widgets/base",
            "_view_module_version": "1.2.0",
            "_view_name": "LayoutView",
            "align_content": null,
            "align_items": null,
            "align_self": null,
            "border": null,
            "bottom": null,
            "display": null,
            "flex": null,
            "flex_flow": null,
            "grid_area": null,
            "grid_auto_columns": null,
            "grid_auto_flow": null,
            "grid_auto_rows": null,
            "grid_column": null,
            "grid_gap": null,
            "grid_row": null,
            "grid_template_areas": null,
            "grid_template_columns": null,
            "grid_template_rows": null,
            "height": null,
            "justify_content": null,
            "justify_items": null,
            "left": null,
            "margin": null,
            "max_height": null,
            "max_width": null,
            "min_height": null,
            "min_width": null,
            "object_fit": null,
            "object_position": null,
            "order": null,
            "overflow": null,
            "overflow_x": null,
            "overflow_y": null,
            "padding": null,
            "right": null,
            "top": null,
            "visibility": null,
            "width": null
          }
        },
        "0053a63fcb5949f4af668ddab685cce7": {
          "model_module": "@jupyter-widgets/controls",
          "model_name": "DescriptionStyleModel",
          "model_module_version": "1.5.0",
          "state": {
            "_model_module": "@jupyter-widgets/controls",
            "_model_module_version": "1.5.0",
            "_model_name": "DescriptionStyleModel",
            "_view_count": null,
            "_view_module": "@jupyter-widgets/base",
            "_view_module_version": "1.2.0",
            "_view_name": "StyleView",
            "description_width": ""
          }
        },
        "a3518159061841069711bf67e27ee1b7": {
          "model_module": "@jupyter-widgets/base",
          "model_name": "LayoutModel",
          "model_module_version": "1.2.0",
          "state": {
            "_model_module": "@jupyter-widgets/base",
            "_model_module_version": "1.2.0",
            "_model_name": "LayoutModel",
            "_view_count": null,
            "_view_module": "@jupyter-widgets/base",
            "_view_module_version": "1.2.0",
            "_view_name": "LayoutView",
            "align_content": null,
            "align_items": null,
            "align_self": null,
            "border": null,
            "bottom": null,
            "display": null,
            "flex": null,
            "flex_flow": null,
            "grid_area": null,
            "grid_auto_columns": null,
            "grid_auto_flow": null,
            "grid_auto_rows": null,
            "grid_column": null,
            "grid_gap": null,
            "grid_row": null,
            "grid_template_areas": null,
            "grid_template_columns": null,
            "grid_template_rows": null,
            "height": null,
            "justify_content": null,
            "justify_items": null,
            "left": null,
            "margin": null,
            "max_height": null,
            "max_width": null,
            "min_height": null,
            "min_width": null,
            "object_fit": null,
            "object_position": null,
            "order": null,
            "overflow": null,
            "overflow_x": null,
            "overflow_y": null,
            "padding": null,
            "right": null,
            "top": null,
            "visibility": null,
            "width": null
          }
        },
        "b430c5b158564f9d9fd3c6c1473e4ffe": {
          "model_module": "@jupyter-widgets/controls",
          "model_name": "ProgressStyleModel",
          "model_module_version": "1.5.0",
          "state": {
            "_model_module": "@jupyter-widgets/controls",
            "_model_module_version": "1.5.0",
            "_model_name": "ProgressStyleModel",
            "_view_count": null,
            "_view_module": "@jupyter-widgets/base",
            "_view_module_version": "1.2.0",
            "_view_name": "StyleView",
            "bar_color": null,
            "description_width": ""
          }
        },
        "e3f6f8c2060e426e9eb8e2aa99df4b84": {
          "model_module": "@jupyter-widgets/base",
          "model_name": "LayoutModel",
          "model_module_version": "1.2.0",
          "state": {
            "_model_module": "@jupyter-widgets/base",
            "_model_module_version": "1.2.0",
            "_model_name": "LayoutModel",
            "_view_count": null,
            "_view_module": "@jupyter-widgets/base",
            "_view_module_version": "1.2.0",
            "_view_name": "LayoutView",
            "align_content": null,
            "align_items": null,
            "align_self": null,
            "border": null,
            "bottom": null,
            "display": null,
            "flex": null,
            "flex_flow": null,
            "grid_area": null,
            "grid_auto_columns": null,
            "grid_auto_flow": null,
            "grid_auto_rows": null,
            "grid_column": null,
            "grid_gap": null,
            "grid_row": null,
            "grid_template_areas": null,
            "grid_template_columns": null,
            "grid_template_rows": null,
            "height": null,
            "justify_content": null,
            "justify_items": null,
            "left": null,
            "margin": null,
            "max_height": null,
            "max_width": null,
            "min_height": null,
            "min_width": null,
            "object_fit": null,
            "object_position": null,
            "order": null,
            "overflow": null,
            "overflow_x": null,
            "overflow_y": null,
            "padding": null,
            "right": null,
            "top": null,
            "visibility": null,
            "width": null
          }
        },
        "73ab121b2b6d4e689c30886ed2d12fb0": {
          "model_module": "@jupyter-widgets/controls",
          "model_name": "DescriptionStyleModel",
          "model_module_version": "1.5.0",
          "state": {
            "_model_module": "@jupyter-widgets/controls",
            "_model_module_version": "1.5.0",
            "_model_name": "DescriptionStyleModel",
            "_view_count": null,
            "_view_module": "@jupyter-widgets/base",
            "_view_module_version": "1.2.0",
            "_view_name": "StyleView",
            "description_width": ""
          }
        },
        "34921fde6adf4106a7208950c6ce1c2d": {
          "model_module": "@jupyter-widgets/controls",
          "model_name": "HBoxModel",
          "model_module_version": "1.5.0",
          "state": {
            "_dom_classes": [],
            "_model_module": "@jupyter-widgets/controls",
            "_model_module_version": "1.5.0",
            "_model_name": "HBoxModel",
            "_view_count": null,
            "_view_module": "@jupyter-widgets/controls",
            "_view_module_version": "1.5.0",
            "_view_name": "HBoxView",
            "box_style": "",
            "children": [
              "IPY_MODEL_99ca29487a014f3f8174ec5ed5c2bfc2",
              "IPY_MODEL_6c5b5612688d459a86877279e6336e35",
              "IPY_MODEL_31e5ff217add41c9bb8d01790d37f13c"
            ],
            "layout": "IPY_MODEL_0b982bae12244a8183463168f7a0e1b5"
          }
        },
        "99ca29487a014f3f8174ec5ed5c2bfc2": {
          "model_module": "@jupyter-widgets/controls",
          "model_name": "HTMLModel",
          "model_module_version": "1.5.0",
          "state": {
            "_dom_classes": [],
            "_model_module": "@jupyter-widgets/controls",
            "_model_module_version": "1.5.0",
            "_model_name": "HTMLModel",
            "_view_count": null,
            "_view_module": "@jupyter-widgets/controls",
            "_view_module_version": "1.5.0",
            "_view_name": "HTMLView",
            "description": "",
            "description_tooltip": null,
            "layout": "IPY_MODEL_4852fb1bd89d4ad2929cccff87a8a6fb",
            "placeholder": "​",
            "style": "IPY_MODEL_99076176d4e64fcfa3c79ff5ba497afa",
            "value": "Generating train examples...:  98%"
          }
        },
        "6c5b5612688d459a86877279e6336e35": {
          "model_module": "@jupyter-widgets/controls",
          "model_name": "FloatProgressModel",
          "model_module_version": "1.5.0",
          "state": {
            "_dom_classes": [],
            "_model_module": "@jupyter-widgets/controls",
            "_model_module_version": "1.5.0",
            "_model_name": "FloatProgressModel",
            "_view_count": null,
            "_view_module": "@jupyter-widgets/controls",
            "_view_module_version": "1.5.0",
            "_view_name": "ProgressView",
            "bar_style": "",
            "description": "",
            "description_tooltip": null,
            "layout": "IPY_MODEL_cab29e81d6d14005a122ce69961b5e14",
            "max": 50000,
            "min": 0,
            "orientation": "horizontal",
            "style": "IPY_MODEL_757d85bb937043a6ae25a469e06748ce",
            "value": 50000
          }
        },
        "31e5ff217add41c9bb8d01790d37f13c": {
          "model_module": "@jupyter-widgets/controls",
          "model_name": "HTMLModel",
          "model_module_version": "1.5.0",
          "state": {
            "_dom_classes": [],
            "_model_module": "@jupyter-widgets/controls",
            "_model_module_version": "1.5.0",
            "_model_name": "HTMLModel",
            "_view_count": null,
            "_view_module": "@jupyter-widgets/controls",
            "_view_module_version": "1.5.0",
            "_view_name": "HTMLView",
            "description": "",
            "description_tooltip": null,
            "layout": "IPY_MODEL_d007183b860a4fa3b60deba3551d4209",
            "placeholder": "​",
            "style": "IPY_MODEL_dc1e1af6bffc418ea67ffc4d4b2cbb57",
            "value": " 49150/50000 [00:53&lt;00:00, 1212.66 examples/s]"
          }
        },
        "0b982bae12244a8183463168f7a0e1b5": {
          "model_module": "@jupyter-widgets/base",
          "model_name": "LayoutModel",
          "model_module_version": "1.2.0",
          "state": {
            "_model_module": "@jupyter-widgets/base",
            "_model_module_version": "1.2.0",
            "_model_name": "LayoutModel",
            "_view_count": null,
            "_view_module": "@jupyter-widgets/base",
            "_view_module_version": "1.2.0",
            "_view_name": "LayoutView",
            "align_content": null,
            "align_items": null,
            "align_self": null,
            "border": null,
            "bottom": null,
            "display": null,
            "flex": null,
            "flex_flow": null,
            "grid_area": null,
            "grid_auto_columns": null,
            "grid_auto_flow": null,
            "grid_auto_rows": null,
            "grid_column": null,
            "grid_gap": null,
            "grid_row": null,
            "grid_template_areas": null,
            "grid_template_columns": null,
            "grid_template_rows": null,
            "height": null,
            "justify_content": null,
            "justify_items": null,
            "left": null,
            "margin": null,
            "max_height": null,
            "max_width": null,
            "min_height": null,
            "min_width": null,
            "object_fit": null,
            "object_position": null,
            "order": null,
            "overflow": null,
            "overflow_x": null,
            "overflow_y": null,
            "padding": null,
            "right": null,
            "top": null,
            "visibility": "hidden",
            "width": null
          }
        },
        "4852fb1bd89d4ad2929cccff87a8a6fb": {
          "model_module": "@jupyter-widgets/base",
          "model_name": "LayoutModel",
          "model_module_version": "1.2.0",
          "state": {
            "_model_module": "@jupyter-widgets/base",
            "_model_module_version": "1.2.0",
            "_model_name": "LayoutModel",
            "_view_count": null,
            "_view_module": "@jupyter-widgets/base",
            "_view_module_version": "1.2.0",
            "_view_name": "LayoutView",
            "align_content": null,
            "align_items": null,
            "align_self": null,
            "border": null,
            "bottom": null,
            "display": null,
            "flex": null,
            "flex_flow": null,
            "grid_area": null,
            "grid_auto_columns": null,
            "grid_auto_flow": null,
            "grid_auto_rows": null,
            "grid_column": null,
            "grid_gap": null,
            "grid_row": null,
            "grid_template_areas": null,
            "grid_template_columns": null,
            "grid_template_rows": null,
            "height": null,
            "justify_content": null,
            "justify_items": null,
            "left": null,
            "margin": null,
            "max_height": null,
            "max_width": null,
            "min_height": null,
            "min_width": null,
            "object_fit": null,
            "object_position": null,
            "order": null,
            "overflow": null,
            "overflow_x": null,
            "overflow_y": null,
            "padding": null,
            "right": null,
            "top": null,
            "visibility": null,
            "width": null
          }
        },
        "99076176d4e64fcfa3c79ff5ba497afa": {
          "model_module": "@jupyter-widgets/controls",
          "model_name": "DescriptionStyleModel",
          "model_module_version": "1.5.0",
          "state": {
            "_model_module": "@jupyter-widgets/controls",
            "_model_module_version": "1.5.0",
            "_model_name": "DescriptionStyleModel",
            "_view_count": null,
            "_view_module": "@jupyter-widgets/base",
            "_view_module_version": "1.2.0",
            "_view_name": "StyleView",
            "description_width": ""
          }
        },
        "cab29e81d6d14005a122ce69961b5e14": {
          "model_module": "@jupyter-widgets/base",
          "model_name": "LayoutModel",
          "model_module_version": "1.2.0",
          "state": {
            "_model_module": "@jupyter-widgets/base",
            "_model_module_version": "1.2.0",
            "_model_name": "LayoutModel",
            "_view_count": null,
            "_view_module": "@jupyter-widgets/base",
            "_view_module_version": "1.2.0",
            "_view_name": "LayoutView",
            "align_content": null,
            "align_items": null,
            "align_self": null,
            "border": null,
            "bottom": null,
            "display": null,
            "flex": null,
            "flex_flow": null,
            "grid_area": null,
            "grid_auto_columns": null,
            "grid_auto_flow": null,
            "grid_auto_rows": null,
            "grid_column": null,
            "grid_gap": null,
            "grid_row": null,
            "grid_template_areas": null,
            "grid_template_columns": null,
            "grid_template_rows": null,
            "height": null,
            "justify_content": null,
            "justify_items": null,
            "left": null,
            "margin": null,
            "max_height": null,
            "max_width": null,
            "min_height": null,
            "min_width": null,
            "object_fit": null,
            "object_position": null,
            "order": null,
            "overflow": null,
            "overflow_x": null,
            "overflow_y": null,
            "padding": null,
            "right": null,
            "top": null,
            "visibility": null,
            "width": null
          }
        },
        "757d85bb937043a6ae25a469e06748ce": {
          "model_module": "@jupyter-widgets/controls",
          "model_name": "ProgressStyleModel",
          "model_module_version": "1.5.0",
          "state": {
            "_model_module": "@jupyter-widgets/controls",
            "_model_module_version": "1.5.0",
            "_model_name": "ProgressStyleModel",
            "_view_count": null,
            "_view_module": "@jupyter-widgets/base",
            "_view_module_version": "1.2.0",
            "_view_name": "StyleView",
            "bar_color": null,
            "description_width": ""
          }
        },
        "d007183b860a4fa3b60deba3551d4209": {
          "model_module": "@jupyter-widgets/base",
          "model_name": "LayoutModel",
          "model_module_version": "1.2.0",
          "state": {
            "_model_module": "@jupyter-widgets/base",
            "_model_module_version": "1.2.0",
            "_model_name": "LayoutModel",
            "_view_count": null,
            "_view_module": "@jupyter-widgets/base",
            "_view_module_version": "1.2.0",
            "_view_name": "LayoutView",
            "align_content": null,
            "align_items": null,
            "align_self": null,
            "border": null,
            "bottom": null,
            "display": null,
            "flex": null,
            "flex_flow": null,
            "grid_area": null,
            "grid_auto_columns": null,
            "grid_auto_flow": null,
            "grid_auto_rows": null,
            "grid_column": null,
            "grid_gap": null,
            "grid_row": null,
            "grid_template_areas": null,
            "grid_template_columns": null,
            "grid_template_rows": null,
            "height": null,
            "justify_content": null,
            "justify_items": null,
            "left": null,
            "margin": null,
            "max_height": null,
            "max_width": null,
            "min_height": null,
            "min_width": null,
            "object_fit": null,
            "object_position": null,
            "order": null,
            "overflow": null,
            "overflow_x": null,
            "overflow_y": null,
            "padding": null,
            "right": null,
            "top": null,
            "visibility": null,
            "width": null
          }
        },
        "dc1e1af6bffc418ea67ffc4d4b2cbb57": {
          "model_module": "@jupyter-widgets/controls",
          "model_name": "DescriptionStyleModel",
          "model_module_version": "1.5.0",
          "state": {
            "_model_module": "@jupyter-widgets/controls",
            "_model_module_version": "1.5.0",
            "_model_name": "DescriptionStyleModel",
            "_view_count": null,
            "_view_module": "@jupyter-widgets/base",
            "_view_module_version": "1.2.0",
            "_view_name": "StyleView",
            "description_width": ""
          }
        },
        "86822f1eb65e495bb5d07bd6f2b6bc74": {
          "model_module": "@jupyter-widgets/controls",
          "model_name": "HBoxModel",
          "model_module_version": "1.5.0",
          "state": {
            "_dom_classes": [],
            "_model_module": "@jupyter-widgets/controls",
            "_model_module_version": "1.5.0",
            "_model_name": "HBoxModel",
            "_view_count": null,
            "_view_module": "@jupyter-widgets/controls",
            "_view_module_version": "1.5.0",
            "_view_name": "HBoxView",
            "box_style": "",
            "children": [
              "IPY_MODEL_58ef32c197294e7fa99b842909f8b32a",
              "IPY_MODEL_b4b716b5e5de464dac2f3ba0ffdf5144",
              "IPY_MODEL_4194b4972e9642aa9a467588a0ccfafa"
            ],
            "layout": "IPY_MODEL_faf2941623944261877468aa2437e6df"
          }
        },
        "58ef32c197294e7fa99b842909f8b32a": {
          "model_module": "@jupyter-widgets/controls",
          "model_name": "HTMLModel",
          "model_module_version": "1.5.0",
          "state": {
            "_dom_classes": [],
            "_model_module": "@jupyter-widgets/controls",
            "_model_module_version": "1.5.0",
            "_model_name": "HTMLModel",
            "_view_count": null,
            "_view_module": "@jupyter-widgets/controls",
            "_view_module_version": "1.5.0",
            "_view_name": "HTMLView",
            "description": "",
            "description_tooltip": null,
            "layout": "IPY_MODEL_928e6a7829304157bad4e96a3677c708",
            "placeholder": "​",
            "style": "IPY_MODEL_48b5a5b9ab794471aa971e546affe6ec",
            "value": "Shuffling /root/tensorflow_datasets/cifar10/3.0.2.incomplete5DDQ3E/cifar10-train.tfrecord*...:  95%"
          }
        },
        "b4b716b5e5de464dac2f3ba0ffdf5144": {
          "model_module": "@jupyter-widgets/controls",
          "model_name": "FloatProgressModel",
          "model_module_version": "1.5.0",
          "state": {
            "_dom_classes": [],
            "_model_module": "@jupyter-widgets/controls",
            "_model_module_version": "1.5.0",
            "_model_name": "FloatProgressModel",
            "_view_count": null,
            "_view_module": "@jupyter-widgets/controls",
            "_view_module_version": "1.5.0",
            "_view_name": "ProgressView",
            "bar_style": "",
            "description": "",
            "description_tooltip": null,
            "layout": "IPY_MODEL_bfd085cd67ba4c3080010eeb0fb097b1",
            "max": 50000,
            "min": 0,
            "orientation": "horizontal",
            "style": "IPY_MODEL_63a7de87f1b44cba8f8442fdc34917de",
            "value": 50000
          }
        },
        "4194b4972e9642aa9a467588a0ccfafa": {
          "model_module": "@jupyter-widgets/controls",
          "model_name": "HTMLModel",
          "model_module_version": "1.5.0",
          "state": {
            "_dom_classes": [],
            "_model_module": "@jupyter-widgets/controls",
            "_model_module_version": "1.5.0",
            "_model_name": "HTMLModel",
            "_view_count": null,
            "_view_module": "@jupyter-widgets/controls",
            "_view_module_version": "1.5.0",
            "_view_name": "HTMLView",
            "description": "",
            "description_tooltip": null,
            "layout": "IPY_MODEL_56917c072848422d9a4a2c20af4005b8",
            "placeholder": "​",
            "style": "IPY_MODEL_23e33c64f12e4a509d298204aac213a1",
            "value": " 47738/50000 [00:00&lt;00:00, 171265.81 examples/s]"
          }
        },
        "faf2941623944261877468aa2437e6df": {
          "model_module": "@jupyter-widgets/base",
          "model_name": "LayoutModel",
          "model_module_version": "1.2.0",
          "state": {
            "_model_module": "@jupyter-widgets/base",
            "_model_module_version": "1.2.0",
            "_model_name": "LayoutModel",
            "_view_count": null,
            "_view_module": "@jupyter-widgets/base",
            "_view_module_version": "1.2.0",
            "_view_name": "LayoutView",
            "align_content": null,
            "align_items": null,
            "align_self": null,
            "border": null,
            "bottom": null,
            "display": null,
            "flex": null,
            "flex_flow": null,
            "grid_area": null,
            "grid_auto_columns": null,
            "grid_auto_flow": null,
            "grid_auto_rows": null,
            "grid_column": null,
            "grid_gap": null,
            "grid_row": null,
            "grid_template_areas": null,
            "grid_template_columns": null,
            "grid_template_rows": null,
            "height": null,
            "justify_content": null,
            "justify_items": null,
            "left": null,
            "margin": null,
            "max_height": null,
            "max_width": null,
            "min_height": null,
            "min_width": null,
            "object_fit": null,
            "object_position": null,
            "order": null,
            "overflow": null,
            "overflow_x": null,
            "overflow_y": null,
            "padding": null,
            "right": null,
            "top": null,
            "visibility": "hidden",
            "width": null
          }
        },
        "928e6a7829304157bad4e96a3677c708": {
          "model_module": "@jupyter-widgets/base",
          "model_name": "LayoutModel",
          "model_module_version": "1.2.0",
          "state": {
            "_model_module": "@jupyter-widgets/base",
            "_model_module_version": "1.2.0",
            "_model_name": "LayoutModel",
            "_view_count": null,
            "_view_module": "@jupyter-widgets/base",
            "_view_module_version": "1.2.0",
            "_view_name": "LayoutView",
            "align_content": null,
            "align_items": null,
            "align_self": null,
            "border": null,
            "bottom": null,
            "display": null,
            "flex": null,
            "flex_flow": null,
            "grid_area": null,
            "grid_auto_columns": null,
            "grid_auto_flow": null,
            "grid_auto_rows": null,
            "grid_column": null,
            "grid_gap": null,
            "grid_row": null,
            "grid_template_areas": null,
            "grid_template_columns": null,
            "grid_template_rows": null,
            "height": null,
            "justify_content": null,
            "justify_items": null,
            "left": null,
            "margin": null,
            "max_height": null,
            "max_width": null,
            "min_height": null,
            "min_width": null,
            "object_fit": null,
            "object_position": null,
            "order": null,
            "overflow": null,
            "overflow_x": null,
            "overflow_y": null,
            "padding": null,
            "right": null,
            "top": null,
            "visibility": null,
            "width": null
          }
        },
        "48b5a5b9ab794471aa971e546affe6ec": {
          "model_module": "@jupyter-widgets/controls",
          "model_name": "DescriptionStyleModel",
          "model_module_version": "1.5.0",
          "state": {
            "_model_module": "@jupyter-widgets/controls",
            "_model_module_version": "1.5.0",
            "_model_name": "DescriptionStyleModel",
            "_view_count": null,
            "_view_module": "@jupyter-widgets/base",
            "_view_module_version": "1.2.0",
            "_view_name": "StyleView",
            "description_width": ""
          }
        },
        "bfd085cd67ba4c3080010eeb0fb097b1": {
          "model_module": "@jupyter-widgets/base",
          "model_name": "LayoutModel",
          "model_module_version": "1.2.0",
          "state": {
            "_model_module": "@jupyter-widgets/base",
            "_model_module_version": "1.2.0",
            "_model_name": "LayoutModel",
            "_view_count": null,
            "_view_module": "@jupyter-widgets/base",
            "_view_module_version": "1.2.0",
            "_view_name": "LayoutView",
            "align_content": null,
            "align_items": null,
            "align_self": null,
            "border": null,
            "bottom": null,
            "display": null,
            "flex": null,
            "flex_flow": null,
            "grid_area": null,
            "grid_auto_columns": null,
            "grid_auto_flow": null,
            "grid_auto_rows": null,
            "grid_column": null,
            "grid_gap": null,
            "grid_row": null,
            "grid_template_areas": null,
            "grid_template_columns": null,
            "grid_template_rows": null,
            "height": null,
            "justify_content": null,
            "justify_items": null,
            "left": null,
            "margin": null,
            "max_height": null,
            "max_width": null,
            "min_height": null,
            "min_width": null,
            "object_fit": null,
            "object_position": null,
            "order": null,
            "overflow": null,
            "overflow_x": null,
            "overflow_y": null,
            "padding": null,
            "right": null,
            "top": null,
            "visibility": null,
            "width": null
          }
        },
        "63a7de87f1b44cba8f8442fdc34917de": {
          "model_module": "@jupyter-widgets/controls",
          "model_name": "ProgressStyleModel",
          "model_module_version": "1.5.0",
          "state": {
            "_model_module": "@jupyter-widgets/controls",
            "_model_module_version": "1.5.0",
            "_model_name": "ProgressStyleModel",
            "_view_count": null,
            "_view_module": "@jupyter-widgets/base",
            "_view_module_version": "1.2.0",
            "_view_name": "StyleView",
            "bar_color": null,
            "description_width": ""
          }
        },
        "56917c072848422d9a4a2c20af4005b8": {
          "model_module": "@jupyter-widgets/base",
          "model_name": "LayoutModel",
          "model_module_version": "1.2.0",
          "state": {
            "_model_module": "@jupyter-widgets/base",
            "_model_module_version": "1.2.0",
            "_model_name": "LayoutModel",
            "_view_count": null,
            "_view_module": "@jupyter-widgets/base",
            "_view_module_version": "1.2.0",
            "_view_name": "LayoutView",
            "align_content": null,
            "align_items": null,
            "align_self": null,
            "border": null,
            "bottom": null,
            "display": null,
            "flex": null,
            "flex_flow": null,
            "grid_area": null,
            "grid_auto_columns": null,
            "grid_auto_flow": null,
            "grid_auto_rows": null,
            "grid_column": null,
            "grid_gap": null,
            "grid_row": null,
            "grid_template_areas": null,
            "grid_template_columns": null,
            "grid_template_rows": null,
            "height": null,
            "justify_content": null,
            "justify_items": null,
            "left": null,
            "margin": null,
            "max_height": null,
            "max_width": null,
            "min_height": null,
            "min_width": null,
            "object_fit": null,
            "object_position": null,
            "order": null,
            "overflow": null,
            "overflow_x": null,
            "overflow_y": null,
            "padding": null,
            "right": null,
            "top": null,
            "visibility": null,
            "width": null
          }
        },
        "23e33c64f12e4a509d298204aac213a1": {
          "model_module": "@jupyter-widgets/controls",
          "model_name": "DescriptionStyleModel",
          "model_module_version": "1.5.0",
          "state": {
            "_model_module": "@jupyter-widgets/controls",
            "_model_module_version": "1.5.0",
            "_model_name": "DescriptionStyleModel",
            "_view_count": null,
            "_view_module": "@jupyter-widgets/base",
            "_view_module_version": "1.2.0",
            "_view_name": "StyleView",
            "description_width": ""
          }
        },
        "89ece918483f437cabf65d83325a2e65": {
          "model_module": "@jupyter-widgets/controls",
          "model_name": "HBoxModel",
          "model_module_version": "1.5.0",
          "state": {
            "_dom_classes": [],
            "_model_module": "@jupyter-widgets/controls",
            "_model_module_version": "1.5.0",
            "_model_name": "HBoxModel",
            "_view_count": null,
            "_view_module": "@jupyter-widgets/controls",
            "_view_module_version": "1.5.0",
            "_view_name": "HBoxView",
            "box_style": "",
            "children": [
              "IPY_MODEL_9422e030b10b4e958df38c24567d0e12",
              "IPY_MODEL_acdd9c1b10b442f5a98cd66d24b9cf24",
              "IPY_MODEL_e25f4eb18529446abb36490181b6ad3b"
            ],
            "layout": "IPY_MODEL_849b28ea1248499f8973bcfbb1840d67"
          }
        },
        "9422e030b10b4e958df38c24567d0e12": {
          "model_module": "@jupyter-widgets/controls",
          "model_name": "HTMLModel",
          "model_module_version": "1.5.0",
          "state": {
            "_dom_classes": [],
            "_model_module": "@jupyter-widgets/controls",
            "_model_module_version": "1.5.0",
            "_model_name": "HTMLModel",
            "_view_count": null,
            "_view_module": "@jupyter-widgets/controls",
            "_view_module_version": "1.5.0",
            "_view_name": "HTMLView",
            "description": "",
            "description_tooltip": null,
            "layout": "IPY_MODEL_a1b11acacb544bacb7ca4bec0d8c3ac8",
            "placeholder": "​",
            "style": "IPY_MODEL_2d75a344a24f41ccaa15dcccbc408a83",
            "value": "Generating test examples...:  91%"
          }
        },
        "acdd9c1b10b442f5a98cd66d24b9cf24": {
          "model_module": "@jupyter-widgets/controls",
          "model_name": "FloatProgressModel",
          "model_module_version": "1.5.0",
          "state": {
            "_dom_classes": [],
            "_model_module": "@jupyter-widgets/controls",
            "_model_module_version": "1.5.0",
            "_model_name": "FloatProgressModel",
            "_view_count": null,
            "_view_module": "@jupyter-widgets/controls",
            "_view_module_version": "1.5.0",
            "_view_name": "ProgressView",
            "bar_style": "",
            "description": "",
            "description_tooltip": null,
            "layout": "IPY_MODEL_2f9df0bf642c432e947c776dfd6c60a8",
            "max": 10000,
            "min": 0,
            "orientation": "horizontal",
            "style": "IPY_MODEL_7250ffa2dc6d411f9aa7356eab507861",
            "value": 10000
          }
        },
        "e25f4eb18529446abb36490181b6ad3b": {
          "model_module": "@jupyter-widgets/controls",
          "model_name": "HTMLModel",
          "model_module_version": "1.5.0",
          "state": {
            "_dom_classes": [],
            "_model_module": "@jupyter-widgets/controls",
            "_model_module_version": "1.5.0",
            "_model_name": "HTMLModel",
            "_view_count": null,
            "_view_module": "@jupyter-widgets/controls",
            "_view_module_version": "1.5.0",
            "_view_name": "HTMLView",
            "description": "",
            "description_tooltip": null,
            "layout": "IPY_MODEL_fe39e92481c84edb97eefd154a45fb06",
            "placeholder": "​",
            "style": "IPY_MODEL_45cd6f6d31084e889725da06a56d7f23",
            "value": " 9117/10000 [00:08&lt;00:00, 1177.00 examples/s]"
          }
        },
        "849b28ea1248499f8973bcfbb1840d67": {
          "model_module": "@jupyter-widgets/base",
          "model_name": "LayoutModel",
          "model_module_version": "1.2.0",
          "state": {
            "_model_module": "@jupyter-widgets/base",
            "_model_module_version": "1.2.0",
            "_model_name": "LayoutModel",
            "_view_count": null,
            "_view_module": "@jupyter-widgets/base",
            "_view_module_version": "1.2.0",
            "_view_name": "LayoutView",
            "align_content": null,
            "align_items": null,
            "align_self": null,
            "border": null,
            "bottom": null,
            "display": null,
            "flex": null,
            "flex_flow": null,
            "grid_area": null,
            "grid_auto_columns": null,
            "grid_auto_flow": null,
            "grid_auto_rows": null,
            "grid_column": null,
            "grid_gap": null,
            "grid_row": null,
            "grid_template_areas": null,
            "grid_template_columns": null,
            "grid_template_rows": null,
            "height": null,
            "justify_content": null,
            "justify_items": null,
            "left": null,
            "margin": null,
            "max_height": null,
            "max_width": null,
            "min_height": null,
            "min_width": null,
            "object_fit": null,
            "object_position": null,
            "order": null,
            "overflow": null,
            "overflow_x": null,
            "overflow_y": null,
            "padding": null,
            "right": null,
            "top": null,
            "visibility": "hidden",
            "width": null
          }
        },
        "a1b11acacb544bacb7ca4bec0d8c3ac8": {
          "model_module": "@jupyter-widgets/base",
          "model_name": "LayoutModel",
          "model_module_version": "1.2.0",
          "state": {
            "_model_module": "@jupyter-widgets/base",
            "_model_module_version": "1.2.0",
            "_model_name": "LayoutModel",
            "_view_count": null,
            "_view_module": "@jupyter-widgets/base",
            "_view_module_version": "1.2.0",
            "_view_name": "LayoutView",
            "align_content": null,
            "align_items": null,
            "align_self": null,
            "border": null,
            "bottom": null,
            "display": null,
            "flex": null,
            "flex_flow": null,
            "grid_area": null,
            "grid_auto_columns": null,
            "grid_auto_flow": null,
            "grid_auto_rows": null,
            "grid_column": null,
            "grid_gap": null,
            "grid_row": null,
            "grid_template_areas": null,
            "grid_template_columns": null,
            "grid_template_rows": null,
            "height": null,
            "justify_content": null,
            "justify_items": null,
            "left": null,
            "margin": null,
            "max_height": null,
            "max_width": null,
            "min_height": null,
            "min_width": null,
            "object_fit": null,
            "object_position": null,
            "order": null,
            "overflow": null,
            "overflow_x": null,
            "overflow_y": null,
            "padding": null,
            "right": null,
            "top": null,
            "visibility": null,
            "width": null
          }
        },
        "2d75a344a24f41ccaa15dcccbc408a83": {
          "model_module": "@jupyter-widgets/controls",
          "model_name": "DescriptionStyleModel",
          "model_module_version": "1.5.0",
          "state": {
            "_model_module": "@jupyter-widgets/controls",
            "_model_module_version": "1.5.0",
            "_model_name": "DescriptionStyleModel",
            "_view_count": null,
            "_view_module": "@jupyter-widgets/base",
            "_view_module_version": "1.2.0",
            "_view_name": "StyleView",
            "description_width": ""
          }
        },
        "2f9df0bf642c432e947c776dfd6c60a8": {
          "model_module": "@jupyter-widgets/base",
          "model_name": "LayoutModel",
          "model_module_version": "1.2.0",
          "state": {
            "_model_module": "@jupyter-widgets/base",
            "_model_module_version": "1.2.0",
            "_model_name": "LayoutModel",
            "_view_count": null,
            "_view_module": "@jupyter-widgets/base",
            "_view_module_version": "1.2.0",
            "_view_name": "LayoutView",
            "align_content": null,
            "align_items": null,
            "align_self": null,
            "border": null,
            "bottom": null,
            "display": null,
            "flex": null,
            "flex_flow": null,
            "grid_area": null,
            "grid_auto_columns": null,
            "grid_auto_flow": null,
            "grid_auto_rows": null,
            "grid_column": null,
            "grid_gap": null,
            "grid_row": null,
            "grid_template_areas": null,
            "grid_template_columns": null,
            "grid_template_rows": null,
            "height": null,
            "justify_content": null,
            "justify_items": null,
            "left": null,
            "margin": null,
            "max_height": null,
            "max_width": null,
            "min_height": null,
            "min_width": null,
            "object_fit": null,
            "object_position": null,
            "order": null,
            "overflow": null,
            "overflow_x": null,
            "overflow_y": null,
            "padding": null,
            "right": null,
            "top": null,
            "visibility": null,
            "width": null
          }
        },
        "7250ffa2dc6d411f9aa7356eab507861": {
          "model_module": "@jupyter-widgets/controls",
          "model_name": "ProgressStyleModel",
          "model_module_version": "1.5.0",
          "state": {
            "_model_module": "@jupyter-widgets/controls",
            "_model_module_version": "1.5.0",
            "_model_name": "ProgressStyleModel",
            "_view_count": null,
            "_view_module": "@jupyter-widgets/base",
            "_view_module_version": "1.2.0",
            "_view_name": "StyleView",
            "bar_color": null,
            "description_width": ""
          }
        },
        "fe39e92481c84edb97eefd154a45fb06": {
          "model_module": "@jupyter-widgets/base",
          "model_name": "LayoutModel",
          "model_module_version": "1.2.0",
          "state": {
            "_model_module": "@jupyter-widgets/base",
            "_model_module_version": "1.2.0",
            "_model_name": "LayoutModel",
            "_view_count": null,
            "_view_module": "@jupyter-widgets/base",
            "_view_module_version": "1.2.0",
            "_view_name": "LayoutView",
            "align_content": null,
            "align_items": null,
            "align_self": null,
            "border": null,
            "bottom": null,
            "display": null,
            "flex": null,
            "flex_flow": null,
            "grid_area": null,
            "grid_auto_columns": null,
            "grid_auto_flow": null,
            "grid_auto_rows": null,
            "grid_column": null,
            "grid_gap": null,
            "grid_row": null,
            "grid_template_areas": null,
            "grid_template_columns": null,
            "grid_template_rows": null,
            "height": null,
            "justify_content": null,
            "justify_items": null,
            "left": null,
            "margin": null,
            "max_height": null,
            "max_width": null,
            "min_height": null,
            "min_width": null,
            "object_fit": null,
            "object_position": null,
            "order": null,
            "overflow": null,
            "overflow_x": null,
            "overflow_y": null,
            "padding": null,
            "right": null,
            "top": null,
            "visibility": null,
            "width": null
          }
        },
        "45cd6f6d31084e889725da06a56d7f23": {
          "model_module": "@jupyter-widgets/controls",
          "model_name": "DescriptionStyleModel",
          "model_module_version": "1.5.0",
          "state": {
            "_model_module": "@jupyter-widgets/controls",
            "_model_module_version": "1.5.0",
            "_model_name": "DescriptionStyleModel",
            "_view_count": null,
            "_view_module": "@jupyter-widgets/base",
            "_view_module_version": "1.2.0",
            "_view_name": "StyleView",
            "description_width": ""
          }
        },
        "59f4fbfc91134905a4dad93d547698ff": {
          "model_module": "@jupyter-widgets/controls",
          "model_name": "HBoxModel",
          "model_module_version": "1.5.0",
          "state": {
            "_dom_classes": [],
            "_model_module": "@jupyter-widgets/controls",
            "_model_module_version": "1.5.0",
            "_model_name": "HBoxModel",
            "_view_count": null,
            "_view_module": "@jupyter-widgets/controls",
            "_view_module_version": "1.5.0",
            "_view_name": "HBoxView",
            "box_style": "",
            "children": [
              "IPY_MODEL_a69f1a084f5344e7bd2976e3154e808a",
              "IPY_MODEL_87a90c383dc74e3196f5a7ea83cae13b",
              "IPY_MODEL_a6f69e1b80304547b8ab00e43d075768"
            ],
            "layout": "IPY_MODEL_c83ce4ef38c14529a697cab1e3c97106"
          }
        },
        "a69f1a084f5344e7bd2976e3154e808a": {
          "model_module": "@jupyter-widgets/controls",
          "model_name": "HTMLModel",
          "model_module_version": "1.5.0",
          "state": {
            "_dom_classes": [],
            "_model_module": "@jupyter-widgets/controls",
            "_model_module_version": "1.5.0",
            "_model_name": "HTMLModel",
            "_view_count": null,
            "_view_module": "@jupyter-widgets/controls",
            "_view_module_version": "1.5.0",
            "_view_name": "HTMLView",
            "description": "",
            "description_tooltip": null,
            "layout": "IPY_MODEL_de1fe8ffdc6a400983e78b912f058721",
            "placeholder": "​",
            "style": "IPY_MODEL_2397f0867b61424daac1ecedc0680629",
            "value": "Shuffling /root/tensorflow_datasets/cifar10/3.0.2.incomplete5DDQ3E/cifar10-test.tfrecord*...:   0%"
          }
        },
        "87a90c383dc74e3196f5a7ea83cae13b": {
          "model_module": "@jupyter-widgets/controls",
          "model_name": "FloatProgressModel",
          "model_module_version": "1.5.0",
          "state": {
            "_dom_classes": [],
            "_model_module": "@jupyter-widgets/controls",
            "_model_module_version": "1.5.0",
            "_model_name": "FloatProgressModel",
            "_view_count": null,
            "_view_module": "@jupyter-widgets/controls",
            "_view_module_version": "1.5.0",
            "_view_name": "ProgressView",
            "bar_style": "",
            "description": "",
            "description_tooltip": null,
            "layout": "IPY_MODEL_bdca8bbbaabc40889a927e4263c08393",
            "max": 10000,
            "min": 0,
            "orientation": "horizontal",
            "style": "IPY_MODEL_1e3bc1f96aa04ac0a9a5b5a91eb9fad3",
            "value": 10000
          }
        },
        "a6f69e1b80304547b8ab00e43d075768": {
          "model_module": "@jupyter-widgets/controls",
          "model_name": "HTMLModel",
          "model_module_version": "1.5.0",
          "state": {
            "_dom_classes": [],
            "_model_module": "@jupyter-widgets/controls",
            "_model_module_version": "1.5.0",
            "_model_name": "HTMLModel",
            "_view_count": null,
            "_view_module": "@jupyter-widgets/controls",
            "_view_module_version": "1.5.0",
            "_view_name": "HTMLView",
            "description": "",
            "description_tooltip": null,
            "layout": "IPY_MODEL_9bb2e31ab3154545a37e046febb0e7ae",
            "placeholder": "​",
            "style": "IPY_MODEL_df4bcf7430d74251888e2c0a004a087f",
            "value": " 0/10000 [00:00&lt;?, ? examples/s]"
          }
        },
        "c83ce4ef38c14529a697cab1e3c97106": {
          "model_module": "@jupyter-widgets/base",
          "model_name": "LayoutModel",
          "model_module_version": "1.2.0",
          "state": {
            "_model_module": "@jupyter-widgets/base",
            "_model_module_version": "1.2.0",
            "_model_name": "LayoutModel",
            "_view_count": null,
            "_view_module": "@jupyter-widgets/base",
            "_view_module_version": "1.2.0",
            "_view_name": "LayoutView",
            "align_content": null,
            "align_items": null,
            "align_self": null,
            "border": null,
            "bottom": null,
            "display": null,
            "flex": null,
            "flex_flow": null,
            "grid_area": null,
            "grid_auto_columns": null,
            "grid_auto_flow": null,
            "grid_auto_rows": null,
            "grid_column": null,
            "grid_gap": null,
            "grid_row": null,
            "grid_template_areas": null,
            "grid_template_columns": null,
            "grid_template_rows": null,
            "height": null,
            "justify_content": null,
            "justify_items": null,
            "left": null,
            "margin": null,
            "max_height": null,
            "max_width": null,
            "min_height": null,
            "min_width": null,
            "object_fit": null,
            "object_position": null,
            "order": null,
            "overflow": null,
            "overflow_x": null,
            "overflow_y": null,
            "padding": null,
            "right": null,
            "top": null,
            "visibility": "hidden",
            "width": null
          }
        },
        "de1fe8ffdc6a400983e78b912f058721": {
          "model_module": "@jupyter-widgets/base",
          "model_name": "LayoutModel",
          "model_module_version": "1.2.0",
          "state": {
            "_model_module": "@jupyter-widgets/base",
            "_model_module_version": "1.2.0",
            "_model_name": "LayoutModel",
            "_view_count": null,
            "_view_module": "@jupyter-widgets/base",
            "_view_module_version": "1.2.0",
            "_view_name": "LayoutView",
            "align_content": null,
            "align_items": null,
            "align_self": null,
            "border": null,
            "bottom": null,
            "display": null,
            "flex": null,
            "flex_flow": null,
            "grid_area": null,
            "grid_auto_columns": null,
            "grid_auto_flow": null,
            "grid_auto_rows": null,
            "grid_column": null,
            "grid_gap": null,
            "grid_row": null,
            "grid_template_areas": null,
            "grid_template_columns": null,
            "grid_template_rows": null,
            "height": null,
            "justify_content": null,
            "justify_items": null,
            "left": null,
            "margin": null,
            "max_height": null,
            "max_width": null,
            "min_height": null,
            "min_width": null,
            "object_fit": null,
            "object_position": null,
            "order": null,
            "overflow": null,
            "overflow_x": null,
            "overflow_y": null,
            "padding": null,
            "right": null,
            "top": null,
            "visibility": null,
            "width": null
          }
        },
        "2397f0867b61424daac1ecedc0680629": {
          "model_module": "@jupyter-widgets/controls",
          "model_name": "DescriptionStyleModel",
          "model_module_version": "1.5.0",
          "state": {
            "_model_module": "@jupyter-widgets/controls",
            "_model_module_version": "1.5.0",
            "_model_name": "DescriptionStyleModel",
            "_view_count": null,
            "_view_module": "@jupyter-widgets/base",
            "_view_module_version": "1.2.0",
            "_view_name": "StyleView",
            "description_width": ""
          }
        },
        "bdca8bbbaabc40889a927e4263c08393": {
          "model_module": "@jupyter-widgets/base",
          "model_name": "LayoutModel",
          "model_module_version": "1.2.0",
          "state": {
            "_model_module": "@jupyter-widgets/base",
            "_model_module_version": "1.2.0",
            "_model_name": "LayoutModel",
            "_view_count": null,
            "_view_module": "@jupyter-widgets/base",
            "_view_module_version": "1.2.0",
            "_view_name": "LayoutView",
            "align_content": null,
            "align_items": null,
            "align_self": null,
            "border": null,
            "bottom": null,
            "display": null,
            "flex": null,
            "flex_flow": null,
            "grid_area": null,
            "grid_auto_columns": null,
            "grid_auto_flow": null,
            "grid_auto_rows": null,
            "grid_column": null,
            "grid_gap": null,
            "grid_row": null,
            "grid_template_areas": null,
            "grid_template_columns": null,
            "grid_template_rows": null,
            "height": null,
            "justify_content": null,
            "justify_items": null,
            "left": null,
            "margin": null,
            "max_height": null,
            "max_width": null,
            "min_height": null,
            "min_width": null,
            "object_fit": null,
            "object_position": null,
            "order": null,
            "overflow": null,
            "overflow_x": null,
            "overflow_y": null,
            "padding": null,
            "right": null,
            "top": null,
            "visibility": null,
            "width": null
          }
        },
        "1e3bc1f96aa04ac0a9a5b5a91eb9fad3": {
          "model_module": "@jupyter-widgets/controls",
          "model_name": "ProgressStyleModel",
          "model_module_version": "1.5.0",
          "state": {
            "_model_module": "@jupyter-widgets/controls",
            "_model_module_version": "1.5.0",
            "_model_name": "ProgressStyleModel",
            "_view_count": null,
            "_view_module": "@jupyter-widgets/base",
            "_view_module_version": "1.2.0",
            "_view_name": "StyleView",
            "bar_color": null,
            "description_width": ""
          }
        },
        "9bb2e31ab3154545a37e046febb0e7ae": {
          "model_module": "@jupyter-widgets/base",
          "model_name": "LayoutModel",
          "model_module_version": "1.2.0",
          "state": {
            "_model_module": "@jupyter-widgets/base",
            "_model_module_version": "1.2.0",
            "_model_name": "LayoutModel",
            "_view_count": null,
            "_view_module": "@jupyter-widgets/base",
            "_view_module_version": "1.2.0",
            "_view_name": "LayoutView",
            "align_content": null,
            "align_items": null,
            "align_self": null,
            "border": null,
            "bottom": null,
            "display": null,
            "flex": null,
            "flex_flow": null,
            "grid_area": null,
            "grid_auto_columns": null,
            "grid_auto_flow": null,
            "grid_auto_rows": null,
            "grid_column": null,
            "grid_gap": null,
            "grid_row": null,
            "grid_template_areas": null,
            "grid_template_columns": null,
            "grid_template_rows": null,
            "height": null,
            "justify_content": null,
            "justify_items": null,
            "left": null,
            "margin": null,
            "max_height": null,
            "max_width": null,
            "min_height": null,
            "min_width": null,
            "object_fit": null,
            "object_position": null,
            "order": null,
            "overflow": null,
            "overflow_x": null,
            "overflow_y": null,
            "padding": null,
            "right": null,
            "top": null,
            "visibility": null,
            "width": null
          }
        },
        "df4bcf7430d74251888e2c0a004a087f": {
          "model_module": "@jupyter-widgets/controls",
          "model_name": "DescriptionStyleModel",
          "model_module_version": "1.5.0",
          "state": {
            "_model_module": "@jupyter-widgets/controls",
            "_model_module_version": "1.5.0",
            "_model_name": "DescriptionStyleModel",
            "_view_count": null,
            "_view_module": "@jupyter-widgets/base",
            "_view_module_version": "1.2.0",
            "_view_name": "StyleView",
            "description_width": ""
          }
        }
      }
    }
  },
  "cells": [
    {
      "cell_type": "markdown",
      "source": [
        "### Visual Attention Mechanism\n",
        "\n",
        "\n",
        "Reference:\n",
        "[EscVM_YT/Notebooks/0 - TF2.X Tutorials\n",
        "/tf_2_visual_attention.ipynb](https://github.com/EscVM/EscVM_YT/blob/master/Notebooks/0%20-%20TF2.X%20Tutorials/tf_2_visual_attention.ipynb)\n",
        "\n",
        "`Some parts of the code were modified and comment lines were added.`"
      ],
      "metadata": {
        "id": "JPOUKL_jFjsB"
      }
    },
    {
      "cell_type": "code",
      "execution_count": 1,
      "metadata": {
        "id": "h0gd5EtNdatU"
      },
      "outputs": [],
      "source": [
        "import tensorflow as tf\n",
        "import tensorflow_datasets as tfds\n",
        "import numpy as np\n",
        "import matplotlib.pyplot as plt"
      ]
    },
    {
      "cell_type": "code",
      "source": [
        "'''\n",
        "physical_devices = tf.config.experimental.list_physical_devices('GPU')\n",
        "\n",
        "try:\n",
        "  # Disable first GPU\n",
        "  tf.config.set_visible_devices(physical_devices[0:], 'GPU')\n",
        "  logical_devices = tf.config.list_logical_devices('GPU')\n",
        "  print(physical_devices)\n",
        "  # Logical device was not created for first GPU\n",
        "  assert len(logical_devices) == len(physical_devices) - 1\n",
        "  tf.config.experimental.set_memory_growth(physical_devices[0], True)\n",
        "except:\n",
        "  print(\"Invalid device or cannot modify virtual devices once initialized.\")\n",
        "  pass\n",
        "'''"
      ],
      "metadata": {
        "id": "JCFCy5XLirbh",
        "colab": {
          "base_uri": "https://localhost:8080/",
          "height": 127
        },
        "outputId": "3dcd8c29-0209-4776-95be-a5b5f4b6e935"
      },
      "execution_count": 2,
      "outputs": [
        {
          "output_type": "execute_result",
          "data": {
            "text/plain": [
              "'\\nphysical_devices = tf.config.experimental.list_physical_devices(\\'GPU\\')\\n\\ntry:\\n  # Disable first GPU\\n  tf.config.set_visible_devices(physical_devices[0:], \\'GPU\\')\\n  logical_devices = tf.config.list_logical_devices(\\'GPU\\')\\n  print(physical_devices)\\n  # Logical device was not created for first GPU\\n  assert len(logical_devices) == len(physical_devices) - 1\\n  tf.config.experimental.set_memory_growth(physical_devices[0], True)\\nexcept:\\n  print(\"Invalid device or cannot modify virtual devices once initialized.\")\\n  pass\\n'"
            ],
            "application/vnd.google.colaboratory.intrinsic+json": {
              "type": "string"
            }
          },
          "metadata": {},
          "execution_count": 2
        }
      ]
    },
    {
      "cell_type": "markdown",
      "source": [
        "![](https://raw.githubusercontent.com/EscVM/EscVM_YT/fd7f3f0798d40c3097690133778df82b26a0d96d/Notebooks/0%20-%20TF2.X%20Tutorials/media/tf_tutorial_2/yoshua_paper_results.png)\n",
        "\n",
        "Reference: [Neural Machine Translation by Jointly Learning to Align and Translate\n",
        "](https://arxiv.org/abs/1409.0473)"
      ],
      "metadata": {
        "id": "HGocXNhBy-cX"
      }
    },
    {
      "cell_type": "markdown",
      "source": [
        "![](https://raw.githubusercontent.com/EscVM/EscVM_YT/fd7f3f0798d40c3097690133778df82b26a0d96d/Notebooks/0%20-%20TF2.X%20Tutorials/media/tf_tutorial_2/attention_examples.png)\n",
        "\n",
        "Reference:\n",
        "[Show, Attend and Tell: Neural Image Caption Generation with Visual Attention](https://arxiv.org/abs/1502.03044)"
      ],
      "metadata": {
        "id": "pM01V4IBzVxP"
      }
    },
    {
      "cell_type": "markdown",
      "source": [
        "![](https://raw.githubusercontent.com/EscVM/EscVM_YT/fd7f3f0798d40c3097690133778df82b26a0d96d/Notebooks/0%20-%20TF2.X%20Tutorials/media/tf_tutorial_2/se_example_2.png)\n",
        "\n",
        "Reference:\n",
        "[Squeeze-and-Excitation Networks](https://arxiv.org/abs/1709.01507)"
      ],
      "metadata": {
        "id": "RjDPiQ56zfS2"
      }
    },
    {
      "cell_type": "markdown",
      "source": [
        "![](https://raw.githubusercontent.com/EscVM/EscVM_YT/fd7f3f0798d40c3097690133778df82b26a0d96d/Notebooks/0%20-%20TF2.X%20Tutorials/media/tf_tutorial_2/cbam_example_1.png)\n",
        "\n",
        "![](https://raw.githubusercontent.com/EscVM/EscVM_YT/fd7f3f0798d40c3097690133778df82b26a0d96d/Notebooks/0%20-%20TF2.X%20Tutorials/media/tf_tutorial_2/cbam_example_2.png)\n",
        "\n",
        "Reference:\n",
        "[CBAM: Convolutional Block Attention Module](https://arxiv.org/abs/1807.06521)"
      ],
      "metadata": {
        "id": "EF4c8cZAzwA_"
      }
    },
    {
      "cell_type": "code",
      "source": [
        "experiment = {\n",
        "    'IMAGE_SIZE': (32, 32),\n",
        "    'INPUT_SHAPE': (32, 32, 3),\n",
        "\n",
        "    'ACCELERATOR': 'GPU',  # Or 'TPU'\n",
        "\n",
        "    'BATCH_SIZE': 32,\n",
        "    'EPOCHS': 20,\n",
        "    'AUTOTUNE': tf.data.experimental.AUTOTUNE,\n",
        "    'OPTIMIZER': 'Adam',  # TODO: Try 'rmsprop' optimizer\n",
        "    'LEARNING_RATE': 0.0001,  # 1e-4\n",
        "\n",
        "    # Record directory of model's trained weights\n",
        "    'TRAINING_WEIGHT_DIR': \"tf_visual_attention_mechanism/training_weights\",\n",
        "    # Record directory of generated images\n",
        "    'IMGS_DIR': \"tf_visual_attention_mechanism/images\",\n",
        "}"
      ],
      "metadata": {
        "id": "6PnKIOVi4iF7"
      },
      "execution_count": 3,
      "outputs": []
    },
    {
      "cell_type": "code",
      "source": [
        "from tensorflow.keras.layers import Layer, Dense, GlobalAveragePooling2D, Reshape\n",
        "from tensorflow.keras.layers import GlobalMaxPooling2D, Add, Activation, MaxPooling2D\n",
        "from tensorflow.keras.layers import Multiply, Conv2D, Lambda, Concatenate, BatchNormalization\n",
        "from tensorflow.keras.models import Sequential\n",
        "\n",
        "class ChannelAttention(Layer):\n",
        "  # Reference: https://arxiv.org/abs/1807.06521\n",
        "  def __init__(self, filters, ratio):\n",
        "    super(ChannelAttention, self).__init__()\n",
        "    self.filters = filters\n",
        "    self.ratio = ratio\n",
        "\n",
        "  def build(self, input_shape):\n",
        "    self.shared_layer_one = Dense(self.filters // self.ratio, activation='relu',\n",
        "                                  kernel_initializer='he_normal', use_bias=True,\n",
        "                                  bias_initializer='zeros')\n",
        "    self.shared_layer_two = Dense(self.filters, kernel_initializer='he_normal',\n",
        "                                  use_bias=True, bias_initializer='zeros')\n",
        "\n",
        "  def call(self, inputs):\n",
        "    avg_pool = GlobalAveragePooling2D()(inputs)\n",
        "\n",
        "    avg_pool = self.shared_layer_one(avg_pool)\n",
        "    avg_pool = self.shared_layer_two(avg_pool)\n",
        "\n",
        "    max_pool = GlobalMaxPooling2D()(inputs)\n",
        "    max_pool = Reshape((1,1,self.filters))(max_pool)\n",
        "\n",
        "    max_pool = self.shared_layer_one(max_pool)\n",
        "    max_pool = self.shared_layer_two(max_pool)\n",
        "\n",
        "    attention = Add()([avg_pool, max_pool])\n",
        "    attention = Activation('sigmoid')(attention)\n",
        "    # tf.keras.layers.Multiply: It takes a list of tensors as input and computes\n",
        "    # the element-wise product of those tensors, assuming they have the same shape.\n",
        "    return Multiply()([inputs, attention])\n"
      ],
      "metadata": {
        "id": "H7oBWVfKirZN"
      },
      "execution_count": 4,
      "outputs": []
    },
    {
      "cell_type": "code",
      "source": [
        "class SpatialAttention(Layer):\n",
        "  # Reference: https://arxiv.org/abs/1807.06521\n",
        "  def __init__(self, kernel_size):\n",
        "    super(SpatialAttention, self).__init__()\n",
        "    self.kernel_size = kernel_size\n",
        "\n",
        "  def build(self, input_shape):\n",
        "    self.conv2d = Conv2D(filters=1, kernel_size=self.kernel_size, strides=1,\n",
        "                         padding='same', activation='sigmoid',\n",
        "                         kernel_initializer='he_normal', use_bias=False)\n",
        "\n",
        "  def call(self, inputs):\n",
        "    avg_pool = tf.keras.layers.Lambda(lambda x: tf.keras.backend.mean(x, axis=3, keepdims=True))(inputs)\n",
        "    max_pool = tf.keras.layers.Lambda(lambda x: tf.keras.backend.max(x, axis=3, keepdims=True))(inputs)\n",
        "\n",
        "    # tf.keras.layers.Concatenate: takes a list of tensors as input and concatenates\n",
        "    # them along the specified axis to produce a single tensor.\n",
        "    attention = tf.keras.layers.Concatenate(axis=3)([avg_pool, max_pool])\n",
        "    attention = self.conv2d(attention)\n",
        "\n",
        "    return tf.keras.layers.multiply([inputs, attention])"
      ],
      "metadata": {
        "id": "BeIvjAryirWl"
      },
      "execution_count": 5,
      "outputs": []
    },
    {
      "cell_type": "markdown",
      "source": [
        "### Build a Model"
      ],
      "metadata": {
        "id": "iT-xiiVd6FX-"
      }
    },
    {
      "cell_type": "code",
      "source": [
        "(ds_train, ds_test), ds_info = tfds.load('cifar10', split=['train', 'test'],\n",
        "                                      shuffle_files=True, as_supervised=True,\n",
        "                                      with_info=True)"
      ],
      "metadata": {
        "id": "18Mxuh-I5RDC",
        "colab": {
          "base_uri": "https://localhost:8080/",
          "height": 169,
          "referenced_widgets": [
            "a5b3cbce177847c3b6d0b56acdc1e669",
            "9bd8b6f1a7b247f8b296667e0b5ca2c9",
            "9e2cfb365df24503aab915ded019f5c5",
            "63d54d45f01c4f1383c3e804331099d4",
            "0b7a06a3420e4de7bc2e34e53798a896",
            "7fd6deed0e5e4290a853ac15e1fac8a4",
            "e4903dbf6bca47319b77ff021e7aacb3",
            "c0f5ba4daa2743008da67af7629c8418",
            "0397cc8873994c5084e449ad5cff579f",
            "7c99635413e94db0bc53d672cc9c588a",
            "2e8e91ffff2c48cfab169d3df6e0aa2a",
            "d7e08243c97848a1980e4716b1a53bab",
            "19cff8cfdb57417580dbf8be2d985bd2",
            "f8e0ecb6dac441b9aa6ae6f00931e0b6",
            "a6bc1ea0d5314e63b36f4655b5b7527b",
            "dca469579f884552b2137fec1ea775d1",
            "b2d21308c90c4dea95d4c94f4e1d6a9c",
            "203a24c97ed54544961a53156be0b10a",
            "a6377e6e71e64f6b9063f0dcd65074a3",
            "effa32a3cb57499f9275e41bc1d327ef",
            "1f013310544445f4b25e1510cf4ca3a0",
            "3139141d73184f05830f80c0336c03ad",
            "842c08bbeef041c8a245c6323055baeb",
            "a631e2ab84704beba9d96be71e188312",
            "430ec0f91fb844b5af0a0816662fc58c",
            "d31c557cc56d40a9a3e2942900e45441",
            "b8fd1c77a10a479da4b4e146727b866f",
            "13bc2074b060478cb4951179ab731dd6",
            "7bd78900700d490f8f17b15bf40b1a51",
            "2ddd1d98a41645f5a12d33e7ad1999e3",
            "f2500b0afbed4c01b5186a49687d4340",
            "4368a741c73b40ad883c469377478f4f",
            "98878bd597134a16b15259bc369bfce2",
            "8df6891589d841898a2c163e27f355d6",
            "a738f09d3e384a5ea6d922dfb1ec159e",
            "4b2cc4d884904bdf8a06af215fe10783",
            "18f5aebfbe2a48ee8c0118e799d0f2e8",
            "e2bf758fa6e84f7f80078b8951a65f3b",
            "6aececc4489046d8a2bb82df68f3b66a",
            "0053a63fcb5949f4af668ddab685cce7",
            "a3518159061841069711bf67e27ee1b7",
            "b430c5b158564f9d9fd3c6c1473e4ffe",
            "e3f6f8c2060e426e9eb8e2aa99df4b84",
            "73ab121b2b6d4e689c30886ed2d12fb0",
            "34921fde6adf4106a7208950c6ce1c2d",
            "99ca29487a014f3f8174ec5ed5c2bfc2",
            "6c5b5612688d459a86877279e6336e35",
            "31e5ff217add41c9bb8d01790d37f13c",
            "0b982bae12244a8183463168f7a0e1b5",
            "4852fb1bd89d4ad2929cccff87a8a6fb",
            "99076176d4e64fcfa3c79ff5ba497afa",
            "cab29e81d6d14005a122ce69961b5e14",
            "757d85bb937043a6ae25a469e06748ce",
            "d007183b860a4fa3b60deba3551d4209",
            "dc1e1af6bffc418ea67ffc4d4b2cbb57",
            "86822f1eb65e495bb5d07bd6f2b6bc74",
            "58ef32c197294e7fa99b842909f8b32a",
            "b4b716b5e5de464dac2f3ba0ffdf5144",
            "4194b4972e9642aa9a467588a0ccfafa",
            "faf2941623944261877468aa2437e6df",
            "928e6a7829304157bad4e96a3677c708",
            "48b5a5b9ab794471aa971e546affe6ec",
            "bfd085cd67ba4c3080010eeb0fb097b1",
            "63a7de87f1b44cba8f8442fdc34917de",
            "56917c072848422d9a4a2c20af4005b8",
            "23e33c64f12e4a509d298204aac213a1",
            "89ece918483f437cabf65d83325a2e65",
            "9422e030b10b4e958df38c24567d0e12",
            "acdd9c1b10b442f5a98cd66d24b9cf24",
            "e25f4eb18529446abb36490181b6ad3b",
            "849b28ea1248499f8973bcfbb1840d67",
            "a1b11acacb544bacb7ca4bec0d8c3ac8",
            "2d75a344a24f41ccaa15dcccbc408a83",
            "2f9df0bf642c432e947c776dfd6c60a8",
            "7250ffa2dc6d411f9aa7356eab507861",
            "fe39e92481c84edb97eefd154a45fb06",
            "45cd6f6d31084e889725da06a56d7f23",
            "59f4fbfc91134905a4dad93d547698ff",
            "a69f1a084f5344e7bd2976e3154e808a",
            "87a90c383dc74e3196f5a7ea83cae13b",
            "a6f69e1b80304547b8ab00e43d075768",
            "c83ce4ef38c14529a697cab1e3c97106",
            "de1fe8ffdc6a400983e78b912f058721",
            "2397f0867b61424daac1ecedc0680629",
            "bdca8bbbaabc40889a927e4263c08393",
            "1e3bc1f96aa04ac0a9a5b5a91eb9fad3",
            "9bb2e31ab3154545a37e046febb0e7ae",
            "df4bcf7430d74251888e2c0a004a087f"
          ]
        },
        "outputId": "ba73cffd-de30-4376-a0b6-fc4ea8052a98"
      },
      "execution_count": 6,
      "outputs": [
        {
          "output_type": "stream",
          "name": "stdout",
          "text": [
            "Downloading and preparing dataset 162.17 MiB (download: 162.17 MiB, generated: 132.40 MiB, total: 294.58 MiB) to /root/tensorflow_datasets/cifar10/3.0.2...\n"
          ]
        },
        {
          "output_type": "display_data",
          "data": {
            "text/plain": [
              "Dl Completed...: 0 url [00:00, ? url/s]"
            ],
            "application/vnd.jupyter.widget-view+json": {
              "version_major": 2,
              "version_minor": 0,
              "model_id": "a5b3cbce177847c3b6d0b56acdc1e669"
            }
          },
          "metadata": {}
        },
        {
          "output_type": "display_data",
          "data": {
            "text/plain": [
              "Dl Size...: 0 MiB [00:00, ? MiB/s]"
            ],
            "application/vnd.jupyter.widget-view+json": {
              "version_major": 2,
              "version_minor": 0,
              "model_id": "d7e08243c97848a1980e4716b1a53bab"
            }
          },
          "metadata": {}
        },
        {
          "output_type": "display_data",
          "data": {
            "text/plain": [
              "Extraction completed...: 0 file [00:00, ? file/s]"
            ],
            "application/vnd.jupyter.widget-view+json": {
              "version_major": 2,
              "version_minor": 0,
              "model_id": "842c08bbeef041c8a245c6323055baeb"
            }
          },
          "metadata": {}
        },
        {
          "output_type": "display_data",
          "data": {
            "text/plain": [
              "Generating splits...:   0%|          | 0/2 [00:00<?, ? splits/s]"
            ],
            "application/vnd.jupyter.widget-view+json": {
              "version_major": 2,
              "version_minor": 0,
              "model_id": "8df6891589d841898a2c163e27f355d6"
            }
          },
          "metadata": {}
        },
        {
          "output_type": "display_data",
          "data": {
            "text/plain": [
              "Generating train examples...:   0%|          | 0/50000 [00:00<?, ? examples/s]"
            ],
            "application/vnd.jupyter.widget-view+json": {
              "version_major": 2,
              "version_minor": 0,
              "model_id": "34921fde6adf4106a7208950c6ce1c2d"
            }
          },
          "metadata": {}
        },
        {
          "output_type": "display_data",
          "data": {
            "text/plain": [
              "Shuffling /root/tensorflow_datasets/cifar10/3.0.2.incomplete5DDQ3E/cifar10-train.tfrecord*...:   0%|          …"
            ],
            "application/vnd.jupyter.widget-view+json": {
              "version_major": 2,
              "version_minor": 0,
              "model_id": "86822f1eb65e495bb5d07bd6f2b6bc74"
            }
          },
          "metadata": {}
        },
        {
          "output_type": "display_data",
          "data": {
            "text/plain": [
              "Generating test examples...:   0%|          | 0/10000 [00:00<?, ? examples/s]"
            ],
            "application/vnd.jupyter.widget-view+json": {
              "version_major": 2,
              "version_minor": 0,
              "model_id": "89ece918483f437cabf65d83325a2e65"
            }
          },
          "metadata": {}
        },
        {
          "output_type": "display_data",
          "data": {
            "text/plain": [
              "Shuffling /root/tensorflow_datasets/cifar10/3.0.2.incomplete5DDQ3E/cifar10-test.tfrecord*...:   0%|          |…"
            ],
            "application/vnd.jupyter.widget-view+json": {
              "version_major": 2,
              "version_minor": 0,
              "model_id": "59f4fbfc91134905a4dad93d547698ff"
            }
          },
          "metadata": {}
        },
        {
          "output_type": "stream",
          "name": "stdout",
          "text": [
            "Dataset cifar10 downloaded and prepared to /root/tensorflow_datasets/cifar10/3.0.2. Subsequent calls will reuse this data.\n"
          ]
        }
      ]
    },
    {
      "cell_type": "code",
      "source": [
        "ds_info"
      ],
      "metadata": {
        "id": "mtqfkbzjirTz",
        "colab": {
          "base_uri": "https://localhost:8080/"
        },
        "outputId": "4aeeeb8e-6fd4-43ca-ca96-4e1f00904cc6"
      },
      "execution_count": 7,
      "outputs": [
        {
          "output_type": "execute_result",
          "data": {
            "text/plain": [
              "tfds.core.DatasetInfo(\n",
              "    name='cifar10',\n",
              "    full_name='cifar10/3.0.2',\n",
              "    description=\"\"\"\n",
              "    The CIFAR-10 dataset consists of 60000 32x32 colour images in 10 classes, with 6000 images per class. There are 50000 training images and 10000 test images.\n",
              "    \"\"\",\n",
              "    homepage='https://www.cs.toronto.edu/~kriz/cifar.html',\n",
              "    data_dir=PosixGPath('/tmp/tmpel_cznzitfds'),\n",
              "    file_format=tfrecord,\n",
              "    download_size=162.17 MiB,\n",
              "    dataset_size=132.40 MiB,\n",
              "    features=FeaturesDict({\n",
              "        'id': Text(shape=(), dtype=string),\n",
              "        'image': Image(shape=(32, 32, 3), dtype=uint8),\n",
              "        'label': ClassLabel(shape=(), dtype=int64, num_classes=10),\n",
              "    }),\n",
              "    supervised_keys=('image', 'label'),\n",
              "    disable_shuffling=False,\n",
              "    splits={\n",
              "        'test': <SplitInfo num_examples=10000, num_shards=1>,\n",
              "        'train': <SplitInfo num_examples=50000, num_shards=1>,\n",
              "    },\n",
              "    citation=\"\"\"@TECHREPORT{Krizhevsky09learningmultiple,\n",
              "        author = {Alex Krizhevsky},\n",
              "        title = {Learning multiple layers of features from tiny images},\n",
              "        institution = {},\n",
              "        year = {2009}\n",
              "    }\"\"\",\n",
              ")"
            ]
          },
          "metadata": {},
          "execution_count": 7
        }
      ]
    },
    {
      "cell_type": "code",
      "source": [
        "ds_train"
      ],
      "metadata": {
        "colab": {
          "base_uri": "https://localhost:8080/"
        },
        "id": "2cegqBEG7qFN",
        "outputId": "0af23249-eb00-4bf7-b024-f4c1df781c45"
      },
      "execution_count": 8,
      "outputs": [
        {
          "output_type": "execute_result",
          "data": {
            "text/plain": [
              "<_PrefetchDataset element_spec=(TensorSpec(shape=(32, 32, 3), dtype=tf.uint8, name=None), TensorSpec(shape=(), dtype=tf.int64, name=None))>"
            ]
          },
          "metadata": {},
          "execution_count": 8
        }
      ]
    },
    {
      "cell_type": "code",
      "source": [
        "ds_info.features['label'].names"
      ],
      "metadata": {
        "id": "yuIIzY_BirRF",
        "colab": {
          "base_uri": "https://localhost:8080/"
        },
        "outputId": "418e3f49-6bef-4e15-9774-21a19d6f9c06"
      },
      "execution_count": 9,
      "outputs": [
        {
          "output_type": "execute_result",
          "data": {
            "text/plain": [
              "['airplane',\n",
              " 'automobile',\n",
              " 'bird',\n",
              " 'cat',\n",
              " 'deer',\n",
              " 'dog',\n",
              " 'frog',\n",
              " 'horse',\n",
              " 'ship',\n",
              " 'truck']"
            ]
          },
          "metadata": {},
          "execution_count": 9
        }
      ]
    },
    {
      "cell_type": "code",
      "source": [
        "def visualize_images(image_batch):\n",
        "  index = 0\n",
        "  for image, label in image_batch.take(10):\n",
        "    plt.subplot(2, 5, index + 1)\n",
        "    index += 1\n",
        "    plt.imshow(image[:])\n",
        "    plt.axis('off')\n",
        "  plt.tight_layout()\n",
        "  plt.show()"
      ],
      "metadata": {
        "id": "TxWuW0A2DwhD"
      },
      "execution_count": 10,
      "outputs": []
    },
    {
      "cell_type": "code",
      "source": [
        "visualize_images(ds_train)"
      ],
      "metadata": {
        "id": "_mg1WNhBirOd",
        "colab": {
          "base_uri": "https://localhost:8080/",
          "height": 338
        },
        "outputId": "f6e853bf-e3f3-4477-cc8b-c8c483cb70b2"
      },
      "execution_count": 11,
      "outputs": [
        {
          "output_type": "display_data",
          "data": {
            "text/plain": [
              "<Figure size 640x480 with 10 Axes>"
            ],
            "image/png": "[encoded data removed]"
          },
          "metadata": {}
        }
      ]
    },
    {
      "cell_type": "code",
      "source": [
        "def normalize(image, label):\n",
        "  return tf.cast(image, tf.float32) / 255.0, label"
      ],
      "metadata": {
        "id": "7bxGI_4JirL-"
      },
      "execution_count": 12,
      "outputs": []
    },
    {
      "cell_type": "markdown",
      "source": [
        "### Prepare Dataset"
      ],
      "metadata": {
        "id": "k0Spa04Z6Ty5"
      }
    },
    {
      "cell_type": "code",
      "source": [
        "ds_train = ds_train.map(normalize, num_parallel_calls=experiment['AUTOTUNE'])\n",
        "ds_train = ds_train.cache().shuffle(ds_info.splits['train'].num_examples).batch(experiment['BATCH_SIZE']).prefetch(experiment['AUTOTUNE'])"
      ],
      "metadata": {
        "id": "89eExiTdEmVe"
      },
      "execution_count": 13,
      "outputs": []
    },
    {
      "cell_type": "code",
      "source": [
        "ds_test = ds_test.map(normalize, num_parallel_calls=experiment['AUTOTUNE'])\n",
        "ds_test = ds_test.cache().batch(experiment['BATCH_SIZE']).prefetch(experiment['AUTOTUNE'])"
      ],
      "metadata": {
        "id": "pPiyuav9EmTN"
      },
      "execution_count": 14,
      "outputs": []
    },
    {
      "cell_type": "markdown",
      "source": [
        "### Build a Network without Attention"
      ],
      "metadata": {
        "id": "1cQdOtEVKb-7"
      }
    },
    {
      "cell_type": "code",
      "source": [
        "def get_cnn_model_without_attention(verbose=0):\n",
        "    model = Sequential([\n",
        "        Conv2D(32, 3, input_shape=ds_info.features['image'].shape, activation='elu', padding='same'),\n",
        "        BatchNormalization(),\n",
        "        Conv2D(32, 3, padding='same', activation='elu'),\n",
        "        MaxPooling2D(pool_size=(2, 2)),\n",
        "        Conv2D(64, 3, padding='same', activation='elu'),\n",
        "        BatchNormalization(),\n",
        "        Conv2D(64, 3, padding='same', activation='elu'),\n",
        "        BatchNormalization(),\n",
        "        MaxPooling2D(pool_size=(2, 2)),\n",
        "        Conv2D(128, 3, padding='same', activation='elu'),\n",
        "        BatchNormalization(),\n",
        "        Conv2D(128, 3, padding='same', activation='elu'),\n",
        "        GlobalAveragePooling2D(),\n",
        "        Dense(ds_info.features['label'].num_classes, activation='softmax' )\n",
        "    ])\n",
        "    if verbose > 0:  model.summary()\n",
        "    return model"
      ],
      "metadata": {
        "id": "u8t7ki2xEmQ7"
      },
      "execution_count": null,
      "outputs": []
    },
    {
      "cell_type": "code",
      "source": [
        "simple_cnn_no_attention = get_cnn_model_without_attention(verbose=1)"
      ],
      "metadata": {
        "colab": {
          "base_uri": "https://localhost:8080/"
        },
        "id": "2xZONG1eEmOf",
        "outputId": "b8072ece-f43e-4710-f8c0-2b15e55081a0"
      },
      "execution_count": null,
      "outputs": [
        {
          "output_type": "stream",
          "name": "stdout",
          "text": [
            "Model: \"sequential\"\n",
            "_________________________________________________________________\n",
            " Layer (type)                Output Shape              Param #   \n",
            "=================================================================\n",
            " conv2d (Conv2D)             (None, 32, 32, 32)        896       \n",
            "                                                                 \n",
            " batch_normalization (Batch  (None, 32, 32, 32)        128       \n",
            " Normalization)                                                  \n",
            "                                                                 \n",
            " conv2d_1 (Conv2D)           (None, 32, 32, 32)        9248      \n",
            "                                                                 \n",
            " max_pooling2d (MaxPooling2  (None, 16, 16, 32)        0         \n",
            " D)                                                              \n",
            "                                                                 \n",
            " conv2d_2 (Conv2D)           (None, 16, 16, 64)        18496     \n",
            "                                                                 \n",
            " batch_normalization_1 (Bat  (None, 16, 16, 64)        256       \n",
            " chNormalization)                                                \n",
            "                                                                 \n",
            " conv2d_3 (Conv2D)           (None, 16, 16, 64)        36928     \n",
            "                                                                 \n",
            " batch_normalization_2 (Bat  (None, 16, 16, 64)        256       \n",
            " chNormalization)                                                \n",
            "                                                                 \n",
            " max_pooling2d_1 (MaxPoolin  (None, 8, 8, 64)          0         \n",
            " g2D)                                                            \n",
            "                                                                 \n",
            " conv2d_4 (Conv2D)           (None, 8, 8, 128)         73856     \n",
            "                                                                 \n",
            " batch_normalization_3 (Bat  (None, 8, 8, 128)         512       \n",
            " chNormalization)                                                \n",
            "                                                                 \n",
            " conv2d_5 (Conv2D)           (None, 8, 8, 128)         147584    \n",
            "                                                                 \n",
            " global_average_pooling2d (  (None, 128)               0         \n",
            " GlobalAveragePooling2D)                                         \n",
            "                                                                 \n",
            " dense (Dense)               (None, 10)                1290      \n",
            "                                                                 \n",
            "=================================================================\n",
            "Total params: 289450 (1.10 MB)\n",
            "Trainable params: 288874 (1.10 MB)\n",
            "Non-trainable params: 576 (2.25 KB)\n",
            "_________________________________________________________________\n"
          ]
        }
      ]
    },
    {
      "cell_type": "code",
      "source": [
        "optimizer = tf.keras.optimizers.Adam(0.001)"
      ],
      "metadata": {
        "id": "T5Eu0vbuLaE7"
      },
      "execution_count": null,
      "outputs": []
    },
    {
      "cell_type": "code",
      "source": [
        "simple_cnn_no_attention.compile(\n",
        "    loss='sparse_categorical_crossentropy',\n",
        "    optimizer=optimizer,\n",
        "    metrics=['accuracy'],\n",
        ")"
      ],
      "metadata": {
        "id": "oXTFfPXvEmMO"
      },
      "execution_count": null,
      "outputs": []
    },
    {
      "cell_type": "code",
      "source": [
        "model_hist = simple_cnn_no_attention.fit(ds_train, epochs=experiment['EPOCHS'])"
      ],
      "metadata": {
        "colab": {
          "base_uri": "https://localhost:8080/"
        },
        "id": "_kxJFYa9LZce",
        "outputId": "18e79695-5d67-48b5-99ce-6e79dcac9f32"
      },
      "execution_count": null,
      "outputs": [
        {
          "output_type": "stream",
          "name": "stdout",
          "text": [
            "Epoch 1/20\n",
            "1563/1563 [==============================] - 34s 9ms/step - loss: 1.1841 - accuracy: 0.5761\n",
            "Epoch 2/20\n",
            "1563/1563 [==============================] - 11s 7ms/step - loss: 0.7746 - accuracy: 0.7294\n",
            "Epoch 3/20\n",
            "1563/1563 [==============================] - 13s 8ms/step - loss: 0.6182 - accuracy: 0.7853\n",
            "Epoch 4/20\n",
            "1563/1563 [==============================] - 12s 7ms/step - loss: 0.5124 - accuracy: 0.8233\n",
            "Epoch 5/20\n",
            "1563/1563 [==============================] - 11s 7ms/step - loss: 0.4307 - accuracy: 0.8503\n",
            "Epoch 6/20\n",
            "1563/1563 [==============================] - 11s 7ms/step - loss: 0.3588 - accuracy: 0.8748\n",
            "Epoch 7/20\n",
            "1563/1563 [==============================] - 11s 7ms/step - loss: 0.2978 - accuracy: 0.8939\n",
            "Epoch 8/20\n",
            "1563/1563 [==============================] - 11s 7ms/step - loss: 0.2431 - accuracy: 0.9142\n",
            "Epoch 9/20\n",
            "1563/1563 [==============================] - 11s 7ms/step - loss: 0.2002 - accuracy: 0.9300\n",
            "Epoch 10/20\n",
            "1563/1563 [==============================] - 11s 7ms/step - loss: 0.1671 - accuracy: 0.9403\n",
            "Epoch 11/20\n",
            "1563/1563 [==============================] - 12s 7ms/step - loss: 0.1411 - accuracy: 0.9499\n",
            "Epoch 12/20\n",
            "1563/1563 [==============================] - 11s 7ms/step - loss: 0.1227 - accuracy: 0.9563\n",
            "Epoch 13/20\n",
            "1563/1563 [==============================] - 11s 7ms/step - loss: 0.1069 - accuracy: 0.9628\n",
            "Epoch 14/20\n",
            "1563/1563 [==============================] - 11s 7ms/step - loss: 0.0923 - accuracy: 0.9663\n",
            "Epoch 15/20\n",
            "1563/1563 [==============================] - 11s 7ms/step - loss: 0.0852 - accuracy: 0.9697\n",
            "Epoch 16/20\n",
            "1563/1563 [==============================] - 12s 8ms/step - loss: 0.0791 - accuracy: 0.9718\n",
            "Epoch 17/20\n",
            "1563/1563 [==============================] - 12s 7ms/step - loss: 0.0708 - accuracy: 0.9760\n",
            "Epoch 18/20\n",
            "1563/1563 [==============================] - 11s 7ms/step - loss: 0.0706 - accuracy: 0.9752\n",
            "Epoch 19/20\n",
            "1563/1563 [==============================] - 12s 7ms/step - loss: 0.0570 - accuracy: 0.9800\n",
            "Epoch 20/20\n",
            "1563/1563 [==============================] - 11s 7ms/step - loss: 0.0617 - accuracy: 0.9781\n"
          ]
        }
      ]
    },
    {
      "cell_type": "code",
      "source": [
        "import pandas as pd\n",
        "\n",
        "pd.DataFrame(model_hist.history).plot(figsize=(8, 5))\n",
        "plt.grid(True)\n",
        "plt.gca().set_ylim(0, 1.5)\n",
        "plt.show()"
      ],
      "metadata": {
        "colab": {
          "base_uri": "https://localhost:8080/",
          "height": 445
        },
        "id": "2ruzfexeLwPi",
        "outputId": "7467a7b7-27e1-47aa-9b95-c2030ba73643"
      },
      "execution_count": null,
      "outputs": [
        {
          "output_type": "display_data",
          "data": {
            "text/plain": [
              "<Figure size 800x500 with 1 Axes>"
            ],
            "image/png": "[encoded data removed]"
          },
          "metadata": {}
        }
      ]
    },
    {
      "cell_type": "code",
      "source": [
        "print(f\"Test accuracy: {simple_cnn_no_attention.evaluate(ds_test)[1]}\")"
      ],
      "metadata": {
        "colab": {
          "base_uri": "https://localhost:8080/"
        },
        "id": "tqlTgb_HLZXX",
        "outputId": "d2db9eb5-66b0-471e-d840-8eb535d31d83"
      },
      "execution_count": null,
      "outputs": [
        {
          "output_type": "stream",
          "name": "stdout",
          "text": [
            "313/313 [==============================] - 3s 8ms/step - loss: 0.9053 - accuracy: 0.8113\n",
            "Test accuracy: 0.8112999796867371\n"
          ]
        }
      ]
    },
    {
      "cell_type": "markdown",
      "source": [
        "### Build a Network with Attention"
      ],
      "metadata": {
        "id": "DZOTCGqeLlTH"
      }
    },
    {
      "cell_type": "code",
      "source": [
        "def get_cnn_model_with_attention(verbose=0):\n",
        "    model = Sequential([\n",
        "    Conv2D(32, 3, input_shape=ds_info.features['image'].shape, activation='elu', padding='same'),\n",
        "    BatchNormalization(),\n",
        "    Conv2D(32, 3, padding='same', activation='elu'),\n",
        "    BatchNormalization(),\n",
        "\n",
        "    ChannelAttention(32, 8),\n",
        "    SpatialAttention(7),\n",
        "\n",
        "    MaxPooling2D(pool_size=(2, 2)),\n",
        "    Conv2D(64, 3, padding='same', activation='elu'),\n",
        "    BatchNormalization(),\n",
        "    Conv2D(64, 3, padding='same', activation='elu'),\n",
        "    BatchNormalization(),\n",
        "\n",
        "    ChannelAttention(64, 8),\n",
        "    SpatialAttention(7),\n",
        "\n",
        "    MaxPooling2D(pool_size=(2, 2)),\n",
        "    Conv2D(128, 3, padding='same', activation='elu'),\n",
        "    BatchNormalization(),\n",
        "    Conv2D(128, 3, padding='same', activation='elu'),\n",
        "\n",
        "    ChannelAttention(128, 8),\n",
        "    SpatialAttention(7),\n",
        "\n",
        "    GlobalAveragePooling2D(),\n",
        "    Dense(ds_info.features['label'].num_classes, activation='softmax' )\n",
        "    ])\n",
        "    if verbose > 0:  model.summary()\n",
        "\n",
        "    return model"
      ],
      "metadata": {
        "id": "mD-zLB47LZU9"
      },
      "execution_count": 15,
      "outputs": []
    },
    {
      "cell_type": "code",
      "source": [
        "simple_cnn_with_attention = get_cnn_model_with_attention(verbose=1)"
      ],
      "metadata": {
        "colab": {
          "base_uri": "https://localhost:8080/"
        },
        "id": "E-GkEDcpLZSb",
        "outputId": "84ffbd8b-62e1-4490-acf4-ec91e550f16b"
      },
      "execution_count": 16,
      "outputs": [
        {
          "output_type": "stream",
          "name": "stdout",
          "text": [
            "Model: \"sequential\"\n",
            "_________________________________________________________________\n",
            " Layer (type)                Output Shape              Param #   \n",
            "=================================================================\n",
            " conv2d (Conv2D)             (None, 32, 32, 32)        896       \n",
            "                                                                 \n",
            " batch_normalization (Batch  (None, 32, 32, 32)        128       \n",
            " Normalization)                                                  \n",
            "                                                                 \n",
            " conv2d_1 (Conv2D)           (None, 32, 32, 32)        9248      \n",
            "                                                                 \n",
            " batch_normalization_1 (Bat  (None, 32, 32, 32)        128       \n",
            " chNormalization)                                                \n",
            "                                                                 \n",
            " channel_attention (Channel  (None, 32, 32, 32)        292       \n",
            " Attention)                                                      \n",
            "                                                                 \n",
            " spatial_attention (Spatial  (None, 32, 32, 32)        98        \n",
            " Attention)                                                      \n",
            "                                                                 \n",
            " max_pooling2d (MaxPooling2  (None, 16, 16, 32)        0         \n",
            " D)                                                              \n",
            "                                                                 \n",
            " conv2d_2 (Conv2D)           (None, 16, 16, 64)        18496     \n",
            "                                                                 \n",
            " batch_normalization_2 (Bat  (None, 16, 16, 64)        256       \n",
            " chNormalization)                                                \n",
            "                                                                 \n",
            " conv2d_3 (Conv2D)           (None, 16, 16, 64)        36928     \n",
            "                                                                 \n",
            " batch_normalization_3 (Bat  (None, 16, 16, 64)        256       \n",
            " chNormalization)                                                \n",
            "                                                                 \n",
            " channel_attention_1 (Chann  (None, 16, 16, 64)        1096      \n",
            " elAttention)                                                    \n",
            "                                                                 \n",
            " spatial_attention_1 (Spati  (None, 16, 16, 64)        98        \n",
            " alAttention)                                                    \n",
            "                                                                 \n",
            " max_pooling2d_1 (MaxPoolin  (None, 8, 8, 64)          0         \n",
            " g2D)                                                            \n",
            "                                                                 \n",
            " conv2d_4 (Conv2D)           (None, 8, 8, 128)         73856     \n",
            "                                                                 \n",
            " batch_normalization_4 (Bat  (None, 8, 8, 128)         512       \n",
            " chNormalization)                                                \n",
            "                                                                 \n",
            " conv2d_5 (Conv2D)           (None, 8, 8, 128)         147584    \n",
            "                                                                 \n",
            " channel_attention_2 (Chann  (None, 8, 8, 128)         4240      \n",
            " elAttention)                                                    \n",
            "                                                                 \n",
            " spatial_attention_2 (Spati  (None, 8, 8, 128)         98        \n",
            " alAttention)                                                    \n",
            "                                                                 \n",
            " global_average_pooling2d (  (None, 128)               0         \n",
            " GlobalAveragePooling2D)                                         \n",
            "                                                                 \n",
            " dense (Dense)               (None, 10)                1290      \n",
            "                                                                 \n",
            "=================================================================\n",
            "Total params: 295500 (1.13 MB)\n",
            "Trainable params: 294860 (1.12 MB)\n",
            "Non-trainable params: 640 (2.50 KB)\n",
            "_________________________________________________________________\n"
          ]
        }
      ]
    },
    {
      "cell_type": "code",
      "source": [
        "simple_cnn_with_attention.compile(\n",
        "    loss='sparse_categorical_crossentropy',\n",
        "    optimizer=tf.keras.optimizers.Adam(0.001),\n",
        "    metrics=['accuracy'],\n",
        ")"
      ],
      "metadata": {
        "id": "Xp4PV0d7QdAK"
      },
      "execution_count": 17,
      "outputs": []
    },
    {
      "cell_type": "code",
      "source": [
        "history = simple_cnn_with_attention.fit(ds_train, epochs=experiment['EPOCHS'])"
      ],
      "metadata": {
        "colab": {
          "base_uri": "https://localhost:8080/"
        },
        "id": "PMJHvJklQc-A",
        "outputId": "90572344-6e3b-4b2d-ad74-d7553cbc10ef"
      },
      "execution_count": 18,
      "outputs": [
        {
          "output_type": "stream",
          "name": "stdout",
          "text": [
            "Epoch 1/20\n",
            "1563/1563 [==============================] - 47s 14ms/step - loss: 1.3226 - accuracy: 0.5234\n",
            "Epoch 2/20\n",
            "1563/1563 [==============================] - 22s 14ms/step - loss: 0.9523 - accuracy: 0.6607\n",
            "Epoch 3/20\n",
            "1563/1563 [==============================] - 22s 14ms/step - loss: 0.7744 - accuracy: 0.7287\n",
            "Epoch 4/20\n",
            "1563/1563 [==============================] - 21s 14ms/step - loss: 0.6537 - accuracy: 0.7733\n",
            "Epoch 5/20\n",
            "1563/1563 [==============================] - 22s 14ms/step - loss: 0.5685 - accuracy: 0.8016\n",
            "Epoch 6/20\n",
            "1563/1563 [==============================] - 23s 14ms/step - loss: 0.4981 - accuracy: 0.8258\n",
            "Epoch 7/20\n",
            "1563/1563 [==============================] - 22s 14ms/step - loss: 0.4371 - accuracy: 0.8460\n",
            "Epoch 8/20\n",
            "1563/1563 [==============================] - 22s 14ms/step - loss: 0.3842 - accuracy: 0.8642\n",
            "Epoch 9/20\n",
            "1563/1563 [==============================] - 22s 14ms/step - loss: 0.3339 - accuracy: 0.8831\n",
            "Epoch 10/20\n",
            "1563/1563 [==============================] - 21s 14ms/step - loss: 0.2920 - accuracy: 0.8976\n",
            "Epoch 11/20\n",
            "1563/1563 [==============================] - 23s 15ms/step - loss: 0.2527 - accuracy: 0.9113\n",
            "Epoch 12/20\n",
            "1563/1563 [==============================] - 22s 14ms/step - loss: 0.2207 - accuracy: 0.9228\n",
            "Epoch 13/20\n",
            "1563/1563 [==============================] - 21s 14ms/step - loss: 0.1879 - accuracy: 0.9335\n",
            "Epoch 14/20\n",
            "1563/1563 [==============================] - 22s 14ms/step - loss: 0.1646 - accuracy: 0.9423\n",
            "Epoch 15/20\n",
            "1563/1563 [==============================] - 22s 14ms/step - loss: 0.1427 - accuracy: 0.9499\n",
            "Epoch 16/20\n",
            "1563/1563 [==============================] - 22s 14ms/step - loss: 0.1332 - accuracy: 0.9527\n",
            "Epoch 17/20\n",
            "1563/1563 [==============================] - 22s 14ms/step - loss: 0.1108 - accuracy: 0.9607\n",
            "Epoch 18/20\n",
            "1563/1563 [==============================] - 22s 14ms/step - loss: 0.1060 - accuracy: 0.9623\n",
            "Epoch 19/20\n",
            "1563/1563 [==============================] - 22s 14ms/step - loss: 0.0972 - accuracy: 0.9655\n",
            "Epoch 20/20\n",
            "1563/1563 [==============================] - 22s 14ms/step - loss: 0.0855 - accuracy: 0.9699\n"
          ]
        }
      ]
    },
    {
      "cell_type": "code",
      "source": [
        "import pandas as pd\n",
        "\n",
        "pd.DataFrame(history.history).plot(figsize=(8, 5))\n",
        "plt.grid(True)\n",
        "plt.gca().set_ylim(0, 1.5)\n",
        "plt.show()"
      ],
      "metadata": {
        "id": "qXTELD-oQc7j",
        "colab": {
          "base_uri": "https://localhost:8080/",
          "height": 445
        },
        "outputId": "0739ad29-96a0-48b1-9d8c-ac3fc9858082"
      },
      "execution_count": 19,
      "outputs": [
        {
          "output_type": "display_data",
          "data": {
            "text/plain": [
              "<Figure size 800x500 with 1 Axes>"
            ],
            "image/png": "[encoded data removed]"
          },
          "metadata": {}
        }
      ]
    },
    {
      "cell_type": "code",
      "source": [
        "print(f\"Test accuracy: {simple_cnn_with_attention.evaluate(ds_test)[1]}\")"
      ],
      "metadata": {
        "id": "LvzbzJOFQc5H",
        "colab": {
          "base_uri": "https://localhost:8080/"
        },
        "outputId": "a3c25ad2-21f5-477e-b754-1abae30cfbea"
      },
      "execution_count": 20,
      "outputs": [
        {
          "output_type": "stream",
          "name": "stdout",
          "text": [
            "313/313 [==============================] - 4s 10ms/step - loss: 0.8815 - accuracy: 0.8067\n",
            "Test accuracy: 0.8066999912261963\n"
          ]
        }
      ]
    },
    {
      "cell_type": "markdown",
      "source": [
        "### Visualize Attention network"
      ],
      "metadata": {
        "id": "bSu6ATQ8RYn2"
      }
    },
    {
      "cell_type": "code",
      "source": [
        "import matplotlib.pyplot as plt\n",
        "import matplotlib.cm as cm\n",
        "from tensorflow import keras\n",
        "\n",
        "def make_gradcam_heatmap(img_array, model, last_conv_layer_name, pred_index=None):\n",
        "    # First, we create a model that maps the input image to the activations\n",
        "    # of the last conv layer as well as the output predictions\n",
        "    grad_model = keras.models.Model(\n",
        "        model.inputs, [model.get_layer(last_conv_layer_name).output, model.output]\n",
        "    )\n",
        "\n",
        "    # Then, we compute the gradient of the top predicted class for our input image\n",
        "    # with respect to the activations of the last conv layer\n",
        "    with tf.GradientTape() as tape:\n",
        "        last_conv_layer_output, preds = grad_model(img_array)\n",
        "        if pred_index is None:\n",
        "            pred_index = tf.argmax(preds[0])  # Prediction index is the index that has the maximum prediction value\n",
        "        class_channel = preds[:, pred_index]\n",
        "\n",
        "    # This is the gradient of the output neuron (top predicted or chosen)\n",
        "    # with regard to the output feature map of the last conv layer\n",
        "    grads = tape.gradient(class_channel, last_conv_layer_output)\n",
        "\n",
        "    # This is a vector where each entry is the mean intensity of the gradient\n",
        "    # over a specific feature map channel\n",
        "    pooled_grads = tf.reduce_mean(grads, axis=(0, 1, 2))\n",
        "\n",
        "    # We multiply each channel in the feature map array\n",
        "    # by \"how important this channel is\" with regard to the top predicted class\n",
        "    # then sum all the channels to obtain the heatmap class activation\n",
        "    last_conv_layer_output = last_conv_layer_output[0]\n",
        "    heatmap = last_conv_layer_output @ pooled_grads[..., tf.newaxis]\n",
        "    heatmap = tf.squeeze(heatmap)\n",
        "\n",
        "    # For visualization purpose, we will also normalize the heatmap between 0 & 1\n",
        "    heatmap = tf.maximum(heatmap, 0) / tf.math.reduce_max(heatmap)\n",
        "    return heatmap.numpy()"
      ],
      "metadata": {
        "id": "udRRbTTSVyeE"
      },
      "execution_count": 21,
      "outputs": []
    },
    {
      "cell_type": "code",
      "source": [
        "for images, labels in tfds.as_numpy(ds_test.take(1)):\n",
        "    X_test = images\n",
        "    y_test = labels\n",
        "\n",
        "print(\"X_test.shape:\", X_test.shape)\n",
        "print(\"y_test.shape:\", y_test.shape)"
      ],
      "metadata": {
        "colab": {
          "base_uri": "https://localhost:8080/"
        },
        "id": "HJWHqG5fWZqZ",
        "outputId": "012c8665-1ee1-418d-95bd-b8b6689d3b8b"
      },
      "execution_count": 22,
      "outputs": [
        {
          "output_type": "stream",
          "name": "stdout",
          "text": [
            "X_test.shape: (32, 32, 32, 3)\n",
            "y_test.shape: (32,)\n"
          ]
        }
      ]
    },
    {
      "cell_type": "code",
      "source": [
        "import math\n",
        "import warnings\n",
        "import numpy as np\n",
        "\n",
        "def grid_display(array, num_rows=None, num_columns=None):\n",
        "    \"\"\"\n",
        "    Display a list of images as a grid.\n",
        "    Args:\n",
        "        array (numpy.ndarray): 4D Tensor (batch_size, height, width, channels)\n",
        "    Returns:\n",
        "        numpy.ndarray: 3D Tensor as concatenation of input images on a grid\n",
        "    \"\"\"\n",
        "    if num_rows is not None and num_columns is not None:\n",
        "        total_grid_size = num_rows * num_columns\n",
        "        if total_grid_size < len(array):\n",
        "            warnings.warn(Warning(\n",
        "                    \"Given values for num_rows and num_columns doesn't allow to display \"\n",
        "                    \"all images. Values have been overrided to respect at least num_columns\"\n",
        "            ))\n",
        "            # math.ceil: Round a number upward to its nearest integer\n",
        "            num_rows = math.ceil(len(array) / num_columns)\n",
        "    elif num_rows is not None:\n",
        "        num_columns = math.ceil(len(array) / num_rows)\n",
        "    elif num_columns is not None:\n",
        "        num_rows = math.ceil(len(array) / num_columns)\n",
        "    else:\n",
        "        num_rows = math.ceil(math.sqrt(len(array)))\n",
        "        num_columns = math.ceil(math.sqrt(len(array)))\n",
        "\n",
        "    number_of_missing_elements = num_columns * num_rows - len(array)\n",
        "    # We fill the array with np.zeros elements to obtain a perfect square\n",
        "    array = np.append(\n",
        "        array,\n",
        "        np.zeros((number_of_missing_elements, *array[0].shape)).astype(array.dtype),\n",
        "        axis=0,\n",
        "    )\n",
        "\n",
        "    grid = np.concatenate([\n",
        "            np.concatenate(array[index * num_columns : (index + 1) * num_columns], axis=1)\n",
        "            for index in range(num_rows)\n",
        "        ],\n",
        "        axis=0,\n",
        "    )\n",
        "\n",
        "    return grid"
      ],
      "metadata": {
        "id": "bTfE1cGx4YoM"
      },
      "execution_count": 23,
      "outputs": []
    },
    {
      "cell_type": "code",
      "source": [
        "def image_to_uint_255(image):\n",
        "    \"\"\"\n",
        "    Convert float images to int 0-255 images.\n",
        "    Args:\n",
        "        image (numpy.ndarray): Input image. Can be either [0, 255], [0, 1], [-1, 1]\n",
        "    Returns:\n",
        "        numpy.ndarray:\n",
        "    \"\"\"\n",
        "    if image.dtype == np.uint8:\n",
        "        return image\n",
        "\n",
        "    if image.min() < 0:\n",
        "        image = (image + 1.0) / 2.0\n",
        "\n",
        "    return (image * 255).astype(\"uint8\")"
      ],
      "metadata": {
        "id": "SISnRkEp4xV1"
      },
      "execution_count": 24,
      "outputs": []
    },
    {
      "cell_type": "code",
      "source": [
        "import numpy as np\n",
        "import cv2\n",
        "\n",
        "def heatmap_display(\n",
        "    heatmap, original_image, colormap=cv2.COLORMAP_VIRIDIS, image_weight=0.7):\n",
        "    \"\"\"\n",
        "    Apply a heatmap (numpy.ndarray) on top of an original image.\n",
        "\n",
        "    Args:\n",
        "        heatmap (numpy.ndarray): Array corresponding to the heatmap\n",
        "        original_image (numpy.ndarray): Image on which we apply the heatmap\n",
        "        colormap (int): OpenCV Colormap to use for heatmap visualization\n",
        "        image_weight (float): An optional `float` value in range [0,1] indicating the weight of\n",
        "            the input image to be overlaying the calculated attribution maps. Defaults to `0.7`\n",
        "\n",
        "    Returns:\n",
        "        numpy.ndarray: Original image with heatmap applied\n",
        "    \"\"\"\n",
        "    image = image_to_uint_255(original_image)\n",
        "\n",
        "    heatmap = cv2.resize(heatmap, (original_image.shape[1], original_image.shape[0]))\n",
        "\n",
        "    if (heatmap.max() - heatmap.min()) != 0:\n",
        "        heatmap = (heatmap - heatmap.min()) / (heatmap.max() - heatmap.min())\n",
        "\n",
        "    heatmap = cv2.applyColorMap(\n",
        "        cv2.cvtColor((heatmap * 255).astype(\"uint8\"), cv2.COLOR_GRAY2BGR), colormap\n",
        "    )\n",
        "\n",
        "    output = cv2.addWeighted(\n",
        "        cv2.cvtColor(image, cv2.COLOR_RGB2BGR),\n",
        "        image_weight,\n",
        "        heatmap,\n",
        "        1 - image_weight,\n",
        "        0,\n",
        "    )\n",
        "\n",
        "    return cv2.cvtColor(output, cv2.COLOR_BGR2RGB)"
      ],
      "metadata": {
        "id": "RAFN7NBJ4jVD"
      },
      "execution_count": 25,
      "outputs": []
    },
    {
      "cell_type": "code",
      "source": [
        "from pathlib import Path\n",
        "import cv2\n",
        "\n",
        "def save_rgb(image, output_dir, output_name):\n",
        "    \"\"\"\n",
        "    Save a 3D Numpy array (H, W, 3) as an image.\n",
        "\n",
        "    Args:\n",
        "        image (numpy.ndarray): Image to save\n",
        "        output_dir (str): Output directory\n",
        "        output_name (str): Output name\n",
        "    \"\"\"\n",
        "    Path.mkdir(Path(output_dir), parents=True, exist_ok=True)\n",
        "\n",
        "    cv2.imwrite(\n",
        "        str(Path(output_dir) / output_name), cv2.cvtColor(image, cv2.COLOR_RGB2BGR)\n",
        "    )"
      ],
      "metadata": {
        "id": "4Rz4jUzm453V"
      },
      "execution_count": 26,
      "outputs": []
    },
    {
      "cell_type": "markdown",
      "source": [
        "### Network without vs with Attention"
      ],
      "metadata": {
        "id": "kQIEOMvo2Sl6"
      }
    },
    {
      "cell_type": "code",
      "source": [
        "import numpy as np\n",
        "import tensorflow as tf\n",
        "import cv2\n",
        "import math\n",
        "import warnings\n",
        "\n",
        "class GradCAM:\n",
        "    \"\"\"\n",
        "    Perform Grad CAM algorithm for a given input\n",
        "    Paper: [Grad-CAM: Visual Explanations from Deep Networks\n",
        "            via Gradient-based Localization](https://arxiv.org/abs/1610.02391)\n",
        "    \"\"\"\n",
        "    def explain(\n",
        "        self,\n",
        "        validation_data,\n",
        "        model,\n",
        "        class_index,\n",
        "        layer_name=None,\n",
        "        use_guided_grads=True,\n",
        "        colormap=cv2.COLORMAP_VIRIDIS,\n",
        "        image_weight=0.7,\n",
        "    ):\n",
        "        \"\"\"\n",
        "        Compute GradCAM for a specific class index.\n",
        "\n",
        "        Args:\n",
        "            validation_data (Tuple[np.ndarray, Optional[np.ndarray]]): Validation data\n",
        "                to perform the method on. Tuple containing (x, y).\n",
        "            model (tf.keras.Model): tf.keras model to inspect\n",
        "            class_index (int): Index of targeted class\n",
        "            layer_name (str): Targeted layer for GradCAM. If no layer is provided, it is\n",
        "                automatically infered from the model architecture.\n",
        "            colormap (int): OpenCV Colormap to use for heatmap visualization\n",
        "            image_weight (float): An optional `float` value in range [0,1] indicating the weight of\n",
        "                the input image to be overlaying the calculated attribution maps. Defaults to `0.7`.\n",
        "            use_guided_grads (boolean): Whether to use guided grads or raw gradients\n",
        "\n",
        "        Returns:\n",
        "            numpy.ndarray: Grid of all the GradCAM\n",
        "        \"\"\"\n",
        "        images, _ = validation_data\n",
        "\n",
        "        if layer_name is None:\n",
        "            layer_name = self.infer_grad_cam_target_layer(model)\n",
        "\n",
        "        outputs, grads = GradCAM.get_gradients_and_filters(\n",
        "            model, images, layer_name, class_index, use_guided_grads\n",
        "        )\n",
        "\n",
        "        cams = GradCAM.generate_ponderated_output(outputs, grads)\n",
        "\n",
        "        heatmaps = np.array(\n",
        "            [\n",
        "                # not showing the actual image if image_weight=0\n",
        "                heatmap_display(cam.numpy(), image, colormap, image_weight)\n",
        "                for cam, image in zip(cams, images)\n",
        "            ]\n",
        "        )\n",
        "\n",
        "        grid = grid_display(heatmaps)\n",
        "\n",
        "        return grid\n",
        "\n",
        "    @staticmethod\n",
        "    def infer_grad_cam_target_layer(model):\n",
        "        \"\"\"\n",
        "        Search for the last convolutional layer to perform Grad CAM, as stated\n",
        "        in the original paper.\n",
        "\n",
        "        Args:\n",
        "            model (tf.keras.Model): tf.keras model to inspect\n",
        "\n",
        "        Returns:\n",
        "            str: Name of the target layer\n",
        "        \"\"\"\n",
        "        for layer in reversed(model.layers):\n",
        "            # Select closest 4D layer to the end of the network.\n",
        "            if len(layer.output_shape) == 4:\n",
        "                return layer.name\n",
        "\n",
        "        raise ValueError(\n",
        "            \"Model does not seem to contain 4D layer. Grad CAM cannot be applied.\"\n",
        "        )\n",
        "\n",
        "    @staticmethod\n",
        "    def get_gradients_and_filters(model, images, layer_name, class_index, use_guided_grads):\n",
        "        \"\"\"\n",
        "        Generate guided gradients and convolutional outputs with an inference.\n",
        "\n",
        "        Args:\n",
        "            model (tf.keras.Model): tf.keras model to inspect\n",
        "            images (numpy.ndarray): 4D-Tensor with shape (batch_size, H, W, 3)\n",
        "            layer_name (str): Targeted layer for GradCAM\n",
        "            class_index (int): Index of targeted class\n",
        "            use_guided_grads (boolean): Whether to use guided grads or raw gradients\n",
        "\n",
        "        Returns:\n",
        "            Tuple[tf.Tensor, tf.Tensor]: (Target layer outputs, Guided gradients)\n",
        "        \"\"\"\n",
        "        grad_model = tf.keras.models.Model(\n",
        "            [model.inputs], [model.get_layer(layer_name).output, model.output]\n",
        "        )\n",
        "\n",
        "        with tf.GradientTape() as tape:\n",
        "            inputs = tf.cast(images, tf.float32)\n",
        "            tape.watch(inputs)\n",
        "            conv_outputs, predictions = grad_model(inputs)\n",
        "            loss = predictions[:, class_index]\n",
        "\n",
        "        grads = tape.gradient(loss, conv_outputs)\n",
        "\n",
        "        if use_guided_grads:\n",
        "            grads = (\n",
        "                tf.cast(conv_outputs > 0, \"float32\")\n",
        "                * tf.cast(grads > 0, \"float32\")\n",
        "                * grads\n",
        "            )\n",
        "\n",
        "        return conv_outputs, grads\n",
        "\n",
        "    @staticmethod\n",
        "    def generate_ponderated_output(outputs, grads):\n",
        "        \"\"\"\n",
        "        Apply Grad CAM algorithm scheme.\n",
        "\n",
        "        Inputs are the convolutional outputs (shape WxHxN) and gradients (shape WxHxN).\n",
        "        From there:\n",
        "            - we compute the spatial average of the gradients\n",
        "            - we build a ponderated sum of the convolutional outputs based on those averaged weights\n",
        "\n",
        "        Args:\n",
        "            output (tf.Tensor): Target layer outputs, with shape (batch_size, Hl, Wl, Nf),\n",
        "                where Hl and Wl are the target layer output height and width, and Nf the\n",
        "                number of filters.\n",
        "            grads (tf.Tensor): Guided gradients with shape (batch_size, Hl, Wl, Nf)\n",
        "\n",
        "        Returns:\n",
        "            List[tf.Tensor]: List of ponderated output of shape (batch_size, Hl, Wl, 1)\n",
        "        \"\"\"\n",
        "\n",
        "        maps = [\n",
        "            GradCAM.ponderate_output(output, grad)\n",
        "            for output, grad in zip(outputs, grads)\n",
        "        ]\n",
        "\n",
        "        return maps\n",
        "\n",
        "    @staticmethod\n",
        "    def ponderate_output(output, grad):\n",
        "        \"\"\"\n",
        "        Perform the ponderation of filters output with respect to average of gradients values.\n",
        "\n",
        "        Args:\n",
        "            output (tf.Tensor): Target layer outputs, with shape (Hl, Wl, Nf),\n",
        "                where Hl and Wl are the target layer output height and width, and Nf the\n",
        "                number of filters.\n",
        "            grads (tf.Tensor): Guided gradients with shape (Hl, Wl, Nf)\n",
        "\n",
        "        Returns:\n",
        "            tf.Tensor: Ponderated output of shape (Hl, Wl, 1)\n",
        "        \"\"\"\n",
        "        weights = tf.reduce_mean(grad, axis=(0, 1))\n",
        "\n",
        "        # Perform ponderated sum : w_i * output[:, :, i]\n",
        "        cam = tf.reduce_sum(tf.multiply(weights, output), axis=-1)\n",
        "\n",
        "        return cam\n",
        "\n",
        "    def save(self, grid, output_dir, output_name):\n",
        "        \"\"\"\n",
        "        Save the output to a specific dir.\n",
        "\n",
        "        Args:\n",
        "            grid (numpy.ndarray): Grid of all the heatmaps\n",
        "            output_dir (str): Output directory path\n",
        "            output_name (str): Output name\n",
        "        \"\"\"\n",
        "        save_rgb(grid, output_dir, output_name)"
      ],
      "metadata": {
        "id": "87Kk26fJ3TLH"
      },
      "execution_count": 27,
      "outputs": []
    },
    {
      "cell_type": "code",
      "source": [
        "def explainGradCam(explainer, ax, img, y, model_1, y_pred_1, model_2, y_pred_2, class_names):\n",
        "    \"\"\"\n",
        "    Plot GRADCAM of two trained models. It needs an axes with two columns\n",
        "    \"\"\"\n",
        "    data = ([img], None)\n",
        "\n",
        "    y_predm_1 = np.argmax(y_pred_1)\n",
        "    y_predm_2 = np.argmax(y_pred_2)\n",
        "\n",
        "    grid_1 = explainer.explain(\n",
        "        data, model_1, class_index=y_predm_1, image_weight=0.8)\n",
        "    grid_2 = explainer.explain(\n",
        "        data, model_2, class_index=y_predm_2, image_weight=0.8)\n",
        "\n",
        "    ax[0].set_xlabel(\"Pred: {} {:2.0f}% ({})\".format(class_names[y_predm_1],\n",
        "                                                     100*np.max(y_pred_1),\n",
        "                                                     class_names[y]),\n",
        "                     color=('blue' if y == y_predm_1 else 'red'))\n",
        "\n",
        "    ax[1].set_xlabel(\"Pred: {} {:2.0f}% ({})\".format(class_names[y_predm_2],\n",
        "                                                     100*np.max(y_pred_2),\n",
        "                                                     class_names[y]),\n",
        "                     color=('blue' if y == y_predm_2 else 'red'))\n",
        "    ax[0].imshow(grid_1)\n",
        "    ax[1].imshow(grid_2)"
      ],
      "metadata": {
        "id": "el75O4OxRcTE"
      },
      "execution_count": 28,
      "outputs": []
    },
    {
      "cell_type": "code",
      "source": [
        "gradCam = GradCAM()\n",
        "\n",
        "for img, label in zip(X_test, y_test):\n",
        "    data = ([img], None)\n",
        "    output = gradCam.explain(data,\n",
        "            simple_cnn_with_attention,\n",
        "            class_index=3,\n",
        "            layer_name=None,\n",
        "            use_guided_grads=True)\n",
        "    plt.imshow(output)"
      ],
      "metadata": {
        "colab": {
          "base_uri": "https://localhost:8080/",
          "height": 430
        },
        "id": "HJT1PtBvQN3V",
        "outputId": "b56fc617-fe30-49ec-c26f-d47927101d29"
      },
      "execution_count": 69,
      "outputs": [
        {
          "output_type": "display_data",
          "data": {
            "text/plain": [
              "<Figure size 640x480 with 1 Axes>"
            ],
            "image/png": "[encoded data removed]"
          },
          "metadata": {}
        }
      ]
    },
    {
      "cell_type": "code",
      "source": [
        "fig, axes = plt.subplots(32, 2, figsize=(8,80))\n",
        "fig.tight_layout()\n",
        "index = 0\n",
        "for img, label in zip(X_test, y_test):\n",
        "    explainGradCam(gradCam, axes[index], img,\n",
        "               label,\n",
        "               simple_cnn_with_attention,\n",
        "               simple_cnn_with_attention.predict(img[None]),\n",
        "               simple_cnn_with_attention,\n",
        "               simple_cnn_with_attention.predict(img[None]),\n",
        "               class_names=ds_info.features['label'].names)\n",
        "    index += 1"
      ],
      "metadata": {
        "colab": {
          "base_uri": "https://localhost:8080/",
          "height": 1000
        },
        "id": "R__SgPVE-myZ",
        "outputId": "e7ef2d5f-075a-49c6-8659-8e4efbb07e25"
      },
      "execution_count": 65,
      "outputs": [
        {
          "output_type": "stream",
          "name": "stdout",
          "text": [
            "1/1 [==============================] - 0s 24ms/step\n",
            "1/1 [==============================] - 0s 22ms/step\n",
            "1/1 [==============================] - 0s 24ms/step\n",
            "1/1 [==============================] - 0s 21ms/step\n",
            "1/1 [==============================] - 0s 26ms/step\n",
            "1/1 [==============================] - 0s 20ms/step\n",
            "1/1 [==============================] - 0s 29ms/step\n",
            "1/1 [==============================] - 0s 28ms/step\n",
            "1/1 [==============================] - 0s 25ms/step\n",
            "1/1 [==============================] - 0s 24ms/step\n",
            "1/1 [==============================] - 0s 25ms/step\n",
            "1/1 [==============================] - 0s 22ms/step\n",
            "1/1 [==============================] - 0s 21ms/step\n",
            "1/1 [==============================] - 0s 20ms/step\n",
            "1/1 [==============================] - 0s 20ms/step\n",
            "1/1 [==============================] - 0s 21ms/step\n",
            "1/1 [==============================] - 0s 22ms/step\n",
            "1/1 [==============================] - 0s 19ms/step\n",
            "1/1 [==============================] - 0s 20ms/step\n",
            "1/1 [==============================] - 0s 21ms/step\n",
            "1/1 [==============================] - 0s 26ms/step\n",
            "1/1 [==============================] - 0s 20ms/step\n",
            "1/1 [==============================] - 0s 23ms/step\n",
            "1/1 [==============================] - 0s 23ms/step\n",
            "1/1 [==============================] - 0s 20ms/step\n",
            "1/1 [==============================] - 0s 21ms/step\n",
            "1/1 [==============================] - 0s 23ms/step\n",
            "1/1 [==============================] - 0s 24ms/step\n",
            "1/1 [==============================] - 0s 20ms/step\n",
            "1/1 [==============================] - 0s 21ms/step\n",
            "1/1 [==============================] - 0s 20ms/step\n",
            "1/1 [==============================] - 0s 23ms/step\n",
            "1/1 [==============================] - 0s 21ms/step\n",
            "1/1 [==============================] - 0s 21ms/step\n",
            "1/1 [==============================] - 0s 20ms/step\n",
            "1/1 [==============================] - 0s 22ms/step\n",
            "1/1 [==============================] - 0s 32ms/step\n",
            "1/1 [==============================] - 0s 29ms/step\n",
            "1/1 [==============================] - 0s 30ms/step\n",
            "1/1 [==============================] - 0s 31ms/step\n",
            "1/1 [==============================] - 0s 41ms/step\n",
            "1/1 [==============================] - 0s 33ms/step\n",
            "1/1 [==============================] - 0s 30ms/step\n",
            "1/1 [==============================] - 0s 29ms/step\n",
            "1/1 [==============================] - 0s 44ms/step\n",
            "1/1 [==============================] - 0s 34ms/step\n",
            "1/1 [==============================] - 0s 33ms/step\n",
            "1/1 [==============================] - 0s 31ms/step\n",
            "1/1 [==============================] - 0s 32ms/step\n",
            "1/1 [==============================] - 0s 31ms/step\n",
            "1/1 [==============================] - 0s 70ms/step\n",
            "1/1 [==============================] - 0s 30ms/step\n",
            "1/1 [==============================] - 0s 20ms/step\n",
            "1/1 [==============================] - 0s 21ms/step\n",
            "1/1 [==============================] - 0s 37ms/step\n",
            "1/1 [==============================] - 0s 49ms/step\n",
            "1/1 [==============================] - 0s 46ms/step\n",
            "1/1 [==============================] - 0s 36ms/step\n",
            "1/1 [==============================] - 0s 38ms/step\n",
            "1/1 [==============================] - 0s 34ms/step\n",
            "1/1 [==============================] - 0s 38ms/step\n",
            "1/1 [==============================] - 0s 84ms/step\n",
            "1/1 [==============================] - 0s 36ms/step\n",
            "1/1 [==============================] - 0s 34ms/step\n"
          ]
        },
        {
          "output_type": "display_data",
          "data": {
            "text/plain": [
              "<Figure size 800x8000 with 64 Axes>"
            ],
            "image/png": "[encoded data removed]"
          },
          "metadata": {}
        }
      ]
    },
    {
      "cell_type": "code",
      "source": [
        "'''\n",
        "fig, axes = plt.subplots(32, 2, figsize=(8,80))\n",
        "fig.tight_layout()\n",
        "index = 0\n",
        "for img, label in zip(X_test, y_test):\n",
        "    explainGradCam(explainer, axes[index], img,\n",
        "               label,\n",
        "               simple_cnn_no_attention,\n",
        "               simple_cnn_no_attention.predict(img[None]),\n",
        "               simple_cnn_with_attention,\n",
        "               simple_cnn_with_attention.predict(img[None]),\n",
        "               class_names=ds_info.features['label'].names)\n",
        "    index += 1\n",
        "'''"
      ],
      "metadata": {
        "id": "7kPu76ptRcOC",
        "colab": {
          "base_uri": "https://localhost:8080/",
          "height": 109
        },
        "outputId": "646b607d-271a-4da8-c7f4-23cd053e7389"
      },
      "execution_count": 31,
      "outputs": [
        {
          "output_type": "execute_result",
          "data": {
            "text/plain": [
              "\"\\nfig, axes = plt.subplots(32, 2, figsize=(8,80))\\nfig.tight_layout()\\nindex = 0\\nfor img, label in zip(X_test, y_test):\\n    explainGradCam(explainer, axes[index], img,\\n               label,\\n               simple_cnn_no_attention,\\n               simple_cnn_no_attention.predict(img[None]),\\n               simple_cnn_with_attention,\\n               simple_cnn_with_attention.predict(img[None]),\\n               class_names=ds_info.features['label'].names)\\n    index += 1\\n\""
            ],
            "application/vnd.google.colaboratory.intrinsic+json": {
              "type": "string"
            }
          },
          "metadata": {},
          "execution_count": 31
        }
      ]
    },
    {
      "cell_type": "markdown",
      "source": [
        "### Reference\n",
        "\n",
        "[EscVM_YT/Notebooks/0 - TF2.X Tutorials\n",
        "/tf_2_visual_attention.ipynb](https://github.com/EscVM/EscVM_YT/blob/master/Notebooks/0%20-%20TF2.X%20Tutorials/tf_2_visual_attention.ipynb)\n",
        "\n",
        "https://github.com/sicara/tf-explain/blob/master/tf_explain/core/grad_cam.py\n",
        "\n",
        "https://github.com/sicara/tf-explain/blob/master/tf_explain/utils/display.py\n",
        "\n",
        "https://github.com/sicara/tf-explain/blob/master/tf_explain/utils/saver.py\n",
        "\n",
        "https://www.youtube.com/watch?v=1mjI_Jm4W1E\n"
      ],
      "metadata": {
        "id": "rgiGv3Ujirs1"
      }
    }
  ]
}