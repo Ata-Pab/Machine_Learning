{
  "nbformat": 4,
  "nbformat_minor": 0,
  "metadata": {
    "colab": {
      "provenance": [],
      "gpuType": "T4"
    },
    "kernelspec": {
      "name": "python3",
      "display_name": "Python 3"
    },
    "language_info": {
      "name": "python"
    },
    "widgets": {
      "application/vnd.jupyter.widget-state+json": {
        "04d720c347d84858be2e32cf2924fc18": {
          "model_module": "@jupyter-widgets/controls",
          "model_name": "HBoxModel",
          "model_module_version": "1.5.0",
          "state": {
            "_dom_classes": [],
            "_model_module": "@jupyter-widgets/controls",
            "_model_module_version": "1.5.0",
            "_model_name": "HBoxModel",
            "_view_count": null,
            "_view_module": "@jupyter-widgets/controls",
            "_view_module_version": "1.5.0",
            "_view_name": "HBoxView",
            "box_style": "",
            "children": [
              "IPY_MODEL_4ef2a3f515b848fa87475ec16ce95f34",
              "IPY_MODEL_d348d4b3cdef43f38a513def89f3dc8e",
              "IPY_MODEL_ffc3f77ef71f4fd492a1a42b679765f8"
            ],
            "layout": "IPY_MODEL_76a6ab757787419badbcb90df730e484"
          }
        },
        "4ef2a3f515b848fa87475ec16ce95f34": {
          "model_module": "@jupyter-widgets/controls",
          "model_name": "HTMLModel",
          "model_module_version": "1.5.0",
          "state": {
            "_dom_classes": [],
            "_model_module": "@jupyter-widgets/controls",
            "_model_module_version": "1.5.0",
            "_model_name": "HTMLModel",
            "_view_count": null,
            "_view_module": "@jupyter-widgets/controls",
            "_view_module_version": "1.5.0",
            "_view_name": "HTMLView",
            "description": "",
            "description_tooltip": null,
            "layout": "IPY_MODEL_0e906c17addc4d5aa04f7cb1309667a3",
            "placeholder": "​",
            "style": "IPY_MODEL_72b8689917954abf9ce0f69b8fc2eb95",
            "value": "Dl Completed...: 100%"
          }
        },
        "d348d4b3cdef43f38a513def89f3dc8e": {
          "model_module": "@jupyter-widgets/controls",
          "model_name": "FloatProgressModel",
          "model_module_version": "1.5.0",
          "state": {
            "_dom_classes": [],
            "_model_module": "@jupyter-widgets/controls",
            "_model_module_version": "1.5.0",
            "_model_name": "FloatProgressModel",
            "_view_count": null,
            "_view_module": "@jupyter-widgets/controls",
            "_view_module_version": "1.5.0",
            "_view_name": "ProgressView",
            "bar_style": "success",
            "description": "",
            "description_tooltip": null,
            "layout": "IPY_MODEL_bf7c1315b4584cc59ab1c808f3c84502",
            "max": 1,
            "min": 0,
            "orientation": "horizontal",
            "style": "IPY_MODEL_3dd5f453615f427ca285be23670eafa5",
            "value": 1
          }
        },
        "ffc3f77ef71f4fd492a1a42b679765f8": {
          "model_module": "@jupyter-widgets/controls",
          "model_name": "HTMLModel",
          "model_module_version": "1.5.0",
          "state": {
            "_dom_classes": [],
            "_model_module": "@jupyter-widgets/controls",
            "_model_module_version": "1.5.0",
            "_model_name": "HTMLModel",
            "_view_count": null,
            "_view_module": "@jupyter-widgets/controls",
            "_view_module_version": "1.5.0",
            "_view_name": "HTMLView",
            "description": "",
            "description_tooltip": null,
            "layout": "IPY_MODEL_e7d3685190d748ab934b7ae56d32841a",
            "placeholder": "​",
            "style": "IPY_MODEL_9d2b451c91614e6095dc0886f09f3542",
            "value": " 1/1 [00:19&lt;00:00, 15.15s/ url]"
          }
        },
        "76a6ab757787419badbcb90df730e484": {
          "model_module": "@jupyter-widgets/base",
          "model_name": "LayoutModel",
          "model_module_version": "1.2.0",
          "state": {
            "_model_module": "@jupyter-widgets/base",
            "_model_module_version": "1.2.0",
            "_model_name": "LayoutModel",
            "_view_count": null,
            "_view_module": "@jupyter-widgets/base",
            "_view_module_version": "1.2.0",
            "_view_name": "LayoutView",
            "align_content": null,
            "align_items": null,
            "align_self": null,
            "border": null,
            "bottom": null,
            "display": null,
            "flex": null,
            "flex_flow": null,
            "grid_area": null,
            "grid_auto_columns": null,
            "grid_auto_flow": null,
            "grid_auto_rows": null,
            "grid_column": null,
            "grid_gap": null,
            "grid_row": null,
            "grid_template_areas": null,
            "grid_template_columns": null,
            "grid_template_rows": null,
            "height": null,
            "justify_content": null,
            "justify_items": null,
            "left": null,
            "margin": null,
            "max_height": null,
            "max_width": null,
            "min_height": null,
            "min_width": null,
            "object_fit": null,
            "object_position": null,
            "order": null,
            "overflow": null,
            "overflow_x": null,
            "overflow_y": null,
            "padding": null,
            "right": null,
            "top": null,
            "visibility": null,
            "width": null
          }
        },
        "0e906c17addc4d5aa04f7cb1309667a3": {
          "model_module": "@jupyter-widgets/base",
          "model_name": "LayoutModel",
          "model_module_version": "1.2.0",
          "state": {
            "_model_module": "@jupyter-widgets/base",
            "_model_module_version": "1.2.0",
            "_model_name": "LayoutModel",
            "_view_count": null,
            "_view_module": "@jupyter-widgets/base",
            "_view_module_version": "1.2.0",
            "_view_name": "LayoutView",
            "align_content": null,
            "align_items": null,
            "align_self": null,
            "border": null,
            "bottom": null,
            "display": null,
            "flex": null,
            "flex_flow": null,
            "grid_area": null,
            "grid_auto_columns": null,
            "grid_auto_flow": null,
            "grid_auto_rows": null,
            "grid_column": null,
            "grid_gap": null,
            "grid_row": null,
            "grid_template_areas": null,
            "grid_template_columns": null,
            "grid_template_rows": null,
            "height": null,
            "justify_content": null,
            "justify_items": null,
            "left": null,
            "margin": null,
            "max_height": null,
            "max_width": null,
            "min_height": null,
            "min_width": null,
            "object_fit": null,
            "object_position": null,
            "order": null,
            "overflow": null,
            "overflow_x": null,
            "overflow_y": null,
            "padding": null,
            "right": null,
            "top": null,
            "visibility": null,
            "width": null
          }
        },
        "72b8689917954abf9ce0f69b8fc2eb95": {
          "model_module": "@jupyter-widgets/controls",
          "model_name": "DescriptionStyleModel",
          "model_module_version": "1.5.0",
          "state": {
            "_model_module": "@jupyter-widgets/controls",
            "_model_module_version": "1.5.0",
            "_model_name": "DescriptionStyleModel",
            "_view_count": null,
            "_view_module": "@jupyter-widgets/base",
            "_view_module_version": "1.2.0",
            "_view_name": "StyleView",
            "description_width": ""
          }
        },
        "bf7c1315b4584cc59ab1c808f3c84502": {
          "model_module": "@jupyter-widgets/base",
          "model_name": "LayoutModel",
          "model_module_version": "1.2.0",
          "state": {
            "_model_module": "@jupyter-widgets/base",
            "_model_module_version": "1.2.0",
            "_model_name": "LayoutModel",
            "_view_count": null,
            "_view_module": "@jupyter-widgets/base",
            "_view_module_version": "1.2.0",
            "_view_name": "LayoutView",
            "align_content": null,
            "align_items": null,
            "align_self": null,
            "border": null,
            "bottom": null,
            "display": null,
            "flex": null,
            "flex_flow": null,
            "grid_area": null,
            "grid_auto_columns": null,
            "grid_auto_flow": null,
            "grid_auto_rows": null,
            "grid_column": null,
            "grid_gap": null,
            "grid_row": null,
            "grid_template_areas": null,
            "grid_template_columns": null,
            "grid_template_rows": null,
            "height": null,
            "justify_content": null,
            "justify_items": null,
            "left": null,
            "margin": null,
            "max_height": null,
            "max_width": null,
            "min_height": null,
            "min_width": null,
            "object_fit": null,
            "object_position": null,
            "order": null,
            "overflow": null,
            "overflow_x": null,
            "overflow_y": null,
            "padding": null,
            "right": null,
            "top": null,
            "visibility": null,
            "width": "20px"
          }
        },
        "3dd5f453615f427ca285be23670eafa5": {
          "model_module": "@jupyter-widgets/controls",
          "model_name": "ProgressStyleModel",
          "model_module_version": "1.5.0",
          "state": {
            "_model_module": "@jupyter-widgets/controls",
            "_model_module_version": "1.5.0",
            "_model_name": "ProgressStyleModel",
            "_view_count": null,
            "_view_module": "@jupyter-widgets/base",
            "_view_module_version": "1.2.0",
            "_view_name": "StyleView",
            "bar_color": null,
            "description_width": ""
          }
        },
        "e7d3685190d748ab934b7ae56d32841a": {
          "model_module": "@jupyter-widgets/base",
          "model_name": "LayoutModel",
          "model_module_version": "1.2.0",
          "state": {
            "_model_module": "@jupyter-widgets/base",
            "_model_module_version": "1.2.0",
            "_model_name": "LayoutModel",
            "_view_count": null,
            "_view_module": "@jupyter-widgets/base",
            "_view_module_version": "1.2.0",
            "_view_name": "LayoutView",
            "align_content": null,
            "align_items": null,
            "align_self": null,
            "border": null,
            "bottom": null,
            "display": null,
            "flex": null,
            "flex_flow": null,
            "grid_area": null,
            "grid_auto_columns": null,
            "grid_auto_flow": null,
            "grid_auto_rows": null,
            "grid_column": null,
            "grid_gap": null,
            "grid_row": null,
            "grid_template_areas": null,
            "grid_template_columns": null,
            "grid_template_rows": null,
            "height": null,
            "justify_content": null,
            "justify_items": null,
            "left": null,
            "margin": null,
            "max_height": null,
            "max_width": null,
            "min_height": null,
            "min_width": null,
            "object_fit": null,
            "object_position": null,
            "order": null,
            "overflow": null,
            "overflow_x": null,
            "overflow_y": null,
            "padding": null,
            "right": null,
            "top": null,
            "visibility": null,
            "width": null
          }
        },
        "9d2b451c91614e6095dc0886f09f3542": {
          "model_module": "@jupyter-widgets/controls",
          "model_name": "DescriptionStyleModel",
          "model_module_version": "1.5.0",
          "state": {
            "_model_module": "@jupyter-widgets/controls",
            "_model_module_version": "1.5.0",
            "_model_name": "DescriptionStyleModel",
            "_view_count": null,
            "_view_module": "@jupyter-widgets/base",
            "_view_module_version": "1.2.0",
            "_view_name": "StyleView",
            "description_width": ""
          }
        },
        "af8f43ae64484b578f5ec8d36fddff3f": {
          "model_module": "@jupyter-widgets/controls",
          "model_name": "HBoxModel",
          "model_module_version": "1.5.0",
          "state": {
            "_dom_classes": [],
            "_model_module": "@jupyter-widgets/controls",
            "_model_module_version": "1.5.0",
            "_model_name": "HBoxModel",
            "_view_count": null,
            "_view_module": "@jupyter-widgets/controls",
            "_view_module_version": "1.5.0",
            "_view_name": "HBoxView",
            "box_style": "",
            "children": [
              "IPY_MODEL_25c3ef231e54448ab0727c4aa21457f9",
              "IPY_MODEL_d8f8ec2d98a5470bb7348a07fb02e399",
              "IPY_MODEL_c4082e24a6904ab4a372f5f35cace9f9"
            ],
            "layout": "IPY_MODEL_d62d613fffb64d168d91a78dc7cc6c88"
          }
        },
        "25c3ef231e54448ab0727c4aa21457f9": {
          "model_module": "@jupyter-widgets/controls",
          "model_name": "HTMLModel",
          "model_module_version": "1.5.0",
          "state": {
            "_dom_classes": [],
            "_model_module": "@jupyter-widgets/controls",
            "_model_module_version": "1.5.0",
            "_model_name": "HTMLModel",
            "_view_count": null,
            "_view_module": "@jupyter-widgets/controls",
            "_view_module_version": "1.5.0",
            "_view_name": "HTMLView",
            "description": "",
            "description_tooltip": null,
            "layout": "IPY_MODEL_d46df9022bd244d38ff9f8a76e6c6efb",
            "placeholder": "​",
            "style": "IPY_MODEL_dee4493f0e694b62b3d6914b152b0a4d",
            "value": "Dl Size...: 100%"
          }
        },
        "d8f8ec2d98a5470bb7348a07fb02e399": {
          "model_module": "@jupyter-widgets/controls",
          "model_name": "FloatProgressModel",
          "model_module_version": "1.5.0",
          "state": {
            "_dom_classes": [],
            "_model_module": "@jupyter-widgets/controls",
            "_model_module_version": "1.5.0",
            "_model_name": "FloatProgressModel",
            "_view_count": null,
            "_view_module": "@jupyter-widgets/controls",
            "_view_module_version": "1.5.0",
            "_view_name": "ProgressView",
            "bar_style": "success",
            "description": "",
            "description_tooltip": null,
            "layout": "IPY_MODEL_6c4d449bd93d424485d08ac146816211",
            "max": 1,
            "min": 0,
            "orientation": "horizontal",
            "style": "IPY_MODEL_88739e903f604f4e88c14ca0f2259da6",
            "value": 1
          }
        },
        "c4082e24a6904ab4a372f5f35cace9f9": {
          "model_module": "@jupyter-widgets/controls",
          "model_name": "HTMLModel",
          "model_module_version": "1.5.0",
          "state": {
            "_dom_classes": [],
            "_model_module": "@jupyter-widgets/controls",
            "_model_module_version": "1.5.0",
            "_model_name": "HTMLModel",
            "_view_count": null,
            "_view_module": "@jupyter-widgets/controls",
            "_view_module_version": "1.5.0",
            "_view_name": "HTMLView",
            "description": "",
            "description_tooltip": null,
            "layout": "IPY_MODEL_7f855487ba9b482a986dad9cbada3c6a",
            "placeholder": "​",
            "style": "IPY_MODEL_bd9dc861d8674637a0af26d2d1d2f8f8",
            "value": " 162/162 [00:19&lt;00:00, 12.66 MiB/s]"
          }
        },
        "d62d613fffb64d168d91a78dc7cc6c88": {
          "model_module": "@jupyter-widgets/base",
          "model_name": "LayoutModel",
          "model_module_version": "1.2.0",
          "state": {
            "_model_module": "@jupyter-widgets/base",
            "_model_module_version": "1.2.0",
            "_model_name": "LayoutModel",
            "_view_count": null,
            "_view_module": "@jupyter-widgets/base",
            "_view_module_version": "1.2.0",
            "_view_name": "LayoutView",
            "align_content": null,
            "align_items": null,
            "align_self": null,
            "border": null,
            "bottom": null,
            "display": null,
            "flex": null,
            "flex_flow": null,
            "grid_area": null,
            "grid_auto_columns": null,
            "grid_auto_flow": null,
            "grid_auto_rows": null,
            "grid_column": null,
            "grid_gap": null,
            "grid_row": null,
            "grid_template_areas": null,
            "grid_template_columns": null,
            "grid_template_rows": null,
            "height": null,
            "justify_content": null,
            "justify_items": null,
            "left": null,
            "margin": null,
            "max_height": null,
            "max_width": null,
            "min_height": null,
            "min_width": null,
            "object_fit": null,
            "object_position": null,
            "order": null,
            "overflow": null,
            "overflow_x": null,
            "overflow_y": null,
            "padding": null,
            "right": null,
            "top": null,
            "visibility": null,
            "width": null
          }
        },
        "d46df9022bd244d38ff9f8a76e6c6efb": {
          "model_module": "@jupyter-widgets/base",
          "model_name": "LayoutModel",
          "model_module_version": "1.2.0",
          "state": {
            "_model_module": "@jupyter-widgets/base",
            "_model_module_version": "1.2.0",
            "_model_name": "LayoutModel",
            "_view_count": null,
            "_view_module": "@jupyter-widgets/base",
            "_view_module_version": "1.2.0",
            "_view_name": "LayoutView",
            "align_content": null,
            "align_items": null,
            "align_self": null,
            "border": null,
            "bottom": null,
            "display": null,
            "flex": null,
            "flex_flow": null,
            "grid_area": null,
            "grid_auto_columns": null,
            "grid_auto_flow": null,
            "grid_auto_rows": null,
            "grid_column": null,
            "grid_gap": null,
            "grid_row": null,
            "grid_template_areas": null,
            "grid_template_columns": null,
            "grid_template_rows": null,
            "height": null,
            "justify_content": null,
            "justify_items": null,
            "left": null,
            "margin": null,
            "max_height": null,
            "max_width": null,
            "min_height": null,
            "min_width": null,
            "object_fit": null,
            "object_position": null,
            "order": null,
            "overflow": null,
            "overflow_x": null,
            "overflow_y": null,
            "padding": null,
            "right": null,
            "top": null,
            "visibility": null,
            "width": null
          }
        },
        "dee4493f0e694b62b3d6914b152b0a4d": {
          "model_module": "@jupyter-widgets/controls",
          "model_name": "DescriptionStyleModel",
          "model_module_version": "1.5.0",
          "state": {
            "_model_module": "@jupyter-widgets/controls",
            "_model_module_version": "1.5.0",
            "_model_name": "DescriptionStyleModel",
            "_view_count": null,
            "_view_module": "@jupyter-widgets/base",
            "_view_module_version": "1.2.0",
            "_view_name": "StyleView",
            "description_width": ""
          }
        },
        "6c4d449bd93d424485d08ac146816211": {
          "model_module": "@jupyter-widgets/base",
          "model_name": "LayoutModel",
          "model_module_version": "1.2.0",
          "state": {
            "_model_module": "@jupyter-widgets/base",
            "_model_module_version": "1.2.0",
            "_model_name": "LayoutModel",
            "_view_count": null,
            "_view_module": "@jupyter-widgets/base",
            "_view_module_version": "1.2.0",
            "_view_name": "LayoutView",
            "align_content": null,
            "align_items": null,
            "align_self": null,
            "border": null,
            "bottom": null,
            "display": null,
            "flex": null,
            "flex_flow": null,
            "grid_area": null,
            "grid_auto_columns": null,
            "grid_auto_flow": null,
            "grid_auto_rows": null,
            "grid_column": null,
            "grid_gap": null,
            "grid_row": null,
            "grid_template_areas": null,
            "grid_template_columns": null,
            "grid_template_rows": null,
            "height": null,
            "justify_content": null,
            "justify_items": null,
            "left": null,
            "margin": null,
            "max_height": null,
            "max_width": null,
            "min_height": null,
            "min_width": null,
            "object_fit": null,
            "object_position": null,
            "order": null,
            "overflow": null,
            "overflow_x": null,
            "overflow_y": null,
            "padding": null,
            "right": null,
            "top": null,
            "visibility": null,
            "width": "20px"
          }
        },
        "88739e903f604f4e88c14ca0f2259da6": {
          "model_module": "@jupyter-widgets/controls",
          "model_name": "ProgressStyleModel",
          "model_module_version": "1.5.0",
          "state": {
            "_model_module": "@jupyter-widgets/controls",
            "_model_module_version": "1.5.0",
            "_model_name": "ProgressStyleModel",
            "_view_count": null,
            "_view_module": "@jupyter-widgets/base",
            "_view_module_version": "1.2.0",
            "_view_name": "StyleView",
            "bar_color": null,
            "description_width": ""
          }
        },
        "7f855487ba9b482a986dad9cbada3c6a": {
          "model_module": "@jupyter-widgets/base",
          "model_name": "LayoutModel",
          "model_module_version": "1.2.0",
          "state": {
            "_model_module": "@jupyter-widgets/base",
            "_model_module_version": "1.2.0",
            "_model_name": "LayoutModel",
            "_view_count": null,
            "_view_module": "@jupyter-widgets/base",
            "_view_module_version": "1.2.0",
            "_view_name": "LayoutView",
            "align_content": null,
            "align_items": null,
            "align_self": null,
            "border": null,
            "bottom": null,
            "display": null,
            "flex": null,
            "flex_flow": null,
            "grid_area": null,
            "grid_auto_columns": null,
            "grid_auto_flow": null,
            "grid_auto_rows": null,
            "grid_column": null,
            "grid_gap": null,
            "grid_row": null,
            "grid_template_areas": null,
            "grid_template_columns": null,
            "grid_template_rows": null,
            "height": null,
            "justify_content": null,
            "justify_items": null,
            "left": null,
            "margin": null,
            "max_height": null,
            "max_width": null,
            "min_height": null,
            "min_width": null,
            "object_fit": null,
            "object_position": null,
            "order": null,
            "overflow": null,
            "overflow_x": null,
            "overflow_y": null,
            "padding": null,
            "right": null,
            "top": null,
            "visibility": null,
            "width": null
          }
        },
        "bd9dc861d8674637a0af26d2d1d2f8f8": {
          "model_module": "@jupyter-widgets/controls",
          "model_name": "DescriptionStyleModel",
          "model_module_version": "1.5.0",
          "state": {
            "_model_module": "@jupyter-widgets/controls",
            "_model_module_version": "1.5.0",
            "_model_name": "DescriptionStyleModel",
            "_view_count": null,
            "_view_module": "@jupyter-widgets/base",
            "_view_module_version": "1.2.0",
            "_view_name": "StyleView",
            "description_width": ""
          }
        },
        "b7350a1ec7d3446f9eae568d1744096f": {
          "model_module": "@jupyter-widgets/controls",
          "model_name": "HBoxModel",
          "model_module_version": "1.5.0",
          "state": {
            "_dom_classes": [],
            "_model_module": "@jupyter-widgets/controls",
            "_model_module_version": "1.5.0",
            "_model_name": "HBoxModel",
            "_view_count": null,
            "_view_module": "@jupyter-widgets/controls",
            "_view_module_version": "1.5.0",
            "_view_name": "HBoxView",
            "box_style": "",
            "children": [
              "IPY_MODEL_5fc3c151549c462ea9754519d4b4ee1a",
              "IPY_MODEL_0aff4ecf910d4a0a880441ac98a6355a",
              "IPY_MODEL_8392f240a7ee474ca409550eced67697"
            ],
            "layout": "IPY_MODEL_19f5aad5176e4fc9bea7dc3fdc8fd7a6"
          }
        },
        "5fc3c151549c462ea9754519d4b4ee1a": {
          "model_module": "@jupyter-widgets/controls",
          "model_name": "HTMLModel",
          "model_module_version": "1.5.0",
          "state": {
            "_dom_classes": [],
            "_model_module": "@jupyter-widgets/controls",
            "_model_module_version": "1.5.0",
            "_model_name": "HTMLModel",
            "_view_count": null,
            "_view_module": "@jupyter-widgets/controls",
            "_view_module_version": "1.5.0",
            "_view_name": "HTMLView",
            "description": "",
            "description_tooltip": null,
            "layout": "IPY_MODEL_e85a1321b10b4075813b56a4ee794260",
            "placeholder": "​",
            "style": "IPY_MODEL_3b013ed9bff04722827238377cc85dc8",
            "value": "Extraction completed...: 100%"
          }
        },
        "0aff4ecf910d4a0a880441ac98a6355a": {
          "model_module": "@jupyter-widgets/controls",
          "model_name": "FloatProgressModel",
          "model_module_version": "1.5.0",
          "state": {
            "_dom_classes": [],
            "_model_module": "@jupyter-widgets/controls",
            "_model_module_version": "1.5.0",
            "_model_name": "FloatProgressModel",
            "_view_count": null,
            "_view_module": "@jupyter-widgets/controls",
            "_view_module_version": "1.5.0",
            "_view_name": "ProgressView",
            "bar_style": "success",
            "description": "",
            "description_tooltip": null,
            "layout": "IPY_MODEL_243f11ca74974df7ab062e0aaa1639f0",
            "max": 1,
            "min": 0,
            "orientation": "horizontal",
            "style": "IPY_MODEL_338cdf5916e74282a3a811d9aeee7549",
            "value": 1
          }
        },
        "8392f240a7ee474ca409550eced67697": {
          "model_module": "@jupyter-widgets/controls",
          "model_name": "HTMLModel",
          "model_module_version": "1.5.0",
          "state": {
            "_dom_classes": [],
            "_model_module": "@jupyter-widgets/controls",
            "_model_module_version": "1.5.0",
            "_model_name": "HTMLModel",
            "_view_count": null,
            "_view_module": "@jupyter-widgets/controls",
            "_view_module_version": "1.5.0",
            "_view_name": "HTMLView",
            "description": "",
            "description_tooltip": null,
            "layout": "IPY_MODEL_4973105c403548f5a5b2a5d5a8b7cecd",
            "placeholder": "​",
            "style": "IPY_MODEL_803c831e54714526a116c59cc14e1040",
            "value": " 8/8 [00:19&lt;00:00, 19.15s/ file]"
          }
        },
        "19f5aad5176e4fc9bea7dc3fdc8fd7a6": {
          "model_module": "@jupyter-widgets/base",
          "model_name": "LayoutModel",
          "model_module_version": "1.2.0",
          "state": {
            "_model_module": "@jupyter-widgets/base",
            "_model_module_version": "1.2.0",
            "_model_name": "LayoutModel",
            "_view_count": null,
            "_view_module": "@jupyter-widgets/base",
            "_view_module_version": "1.2.0",
            "_view_name": "LayoutView",
            "align_content": null,
            "align_items": null,
            "align_self": null,
            "border": null,
            "bottom": null,
            "display": null,
            "flex": null,
            "flex_flow": null,
            "grid_area": null,
            "grid_auto_columns": null,
            "grid_auto_flow": null,
            "grid_auto_rows": null,
            "grid_column": null,
            "grid_gap": null,
            "grid_row": null,
            "grid_template_areas": null,
            "grid_template_columns": null,
            "grid_template_rows": null,
            "height": null,
            "justify_content": null,
            "justify_items": null,
            "left": null,
            "margin": null,
            "max_height": null,
            "max_width": null,
            "min_height": null,
            "min_width": null,
            "object_fit": null,
            "object_position": null,
            "order": null,
            "overflow": null,
            "overflow_x": null,
            "overflow_y": null,
            "padding": null,
            "right": null,
            "top": null,
            "visibility": null,
            "width": null
          }
        },
        "e85a1321b10b4075813b56a4ee794260": {
          "model_module": "@jupyter-widgets/base",
          "model_name": "LayoutModel",
          "model_module_version": "1.2.0",
          "state": {
            "_model_module": "@jupyter-widgets/base",
            "_model_module_version": "1.2.0",
            "_model_name": "LayoutModel",
            "_view_count": null,
            "_view_module": "@jupyter-widgets/base",
            "_view_module_version": "1.2.0",
            "_view_name": "LayoutView",
            "align_content": null,
            "align_items": null,
            "align_self": null,
            "border": null,
            "bottom": null,
            "display": null,
            "flex": null,
            "flex_flow": null,
            "grid_area": null,
            "grid_auto_columns": null,
            "grid_auto_flow": null,
            "grid_auto_rows": null,
            "grid_column": null,
            "grid_gap": null,
            "grid_row": null,
            "grid_template_areas": null,
            "grid_template_columns": null,
            "grid_template_rows": null,
            "height": null,
            "justify_content": null,
            "justify_items": null,
            "left": null,
            "margin": null,
            "max_height": null,
            "max_width": null,
            "min_height": null,
            "min_width": null,
            "object_fit": null,
            "object_position": null,
            "order": null,
            "overflow": null,
            "overflow_x": null,
            "overflow_y": null,
            "padding": null,
            "right": null,
            "top": null,
            "visibility": null,
            "width": null
          }
        },
        "3b013ed9bff04722827238377cc85dc8": {
          "model_module": "@jupyter-widgets/controls",
          "model_name": "DescriptionStyleModel",
          "model_module_version": "1.5.0",
          "state": {
            "_model_module": "@jupyter-widgets/controls",
            "_model_module_version": "1.5.0",
            "_model_name": "DescriptionStyleModel",
            "_view_count": null,
            "_view_module": "@jupyter-widgets/base",
            "_view_module_version": "1.2.0",
            "_view_name": "StyleView",
            "description_width": ""
          }
        },
        "243f11ca74974df7ab062e0aaa1639f0": {
          "model_module": "@jupyter-widgets/base",
          "model_name": "LayoutModel",
          "model_module_version": "1.2.0",
          "state": {
            "_model_module": "@jupyter-widgets/base",
            "_model_module_version": "1.2.0",
            "_model_name": "LayoutModel",
            "_view_count": null,
            "_view_module": "@jupyter-widgets/base",
            "_view_module_version": "1.2.0",
            "_view_name": "LayoutView",
            "align_content": null,
            "align_items": null,
            "align_self": null,
            "border": null,
            "bottom": null,
            "display": null,
            "flex": null,
            "flex_flow": null,
            "grid_area": null,
            "grid_auto_columns": null,
            "grid_auto_flow": null,
            "grid_auto_rows": null,
            "grid_column": null,
            "grid_gap": null,
            "grid_row": null,
            "grid_template_areas": null,
            "grid_template_columns": null,
            "grid_template_rows": null,
            "height": null,
            "justify_content": null,
            "justify_items": null,
            "left": null,
            "margin": null,
            "max_height": null,
            "max_width": null,
            "min_height": null,
            "min_width": null,
            "object_fit": null,
            "object_position": null,
            "order": null,
            "overflow": null,
            "overflow_x": null,
            "overflow_y": null,
            "padding": null,
            "right": null,
            "top": null,
            "visibility": null,
            "width": "20px"
          }
        },
        "338cdf5916e74282a3a811d9aeee7549": {
          "model_module": "@jupyter-widgets/controls",
          "model_name": "ProgressStyleModel",
          "model_module_version": "1.5.0",
          "state": {
            "_model_module": "@jupyter-widgets/controls",
            "_model_module_version": "1.5.0",
            "_model_name": "ProgressStyleModel",
            "_view_count": null,
            "_view_module": "@jupyter-widgets/base",
            "_view_module_version": "1.2.0",
            "_view_name": "StyleView",
            "bar_color": null,
            "description_width": ""
          }
        },
        "4973105c403548f5a5b2a5d5a8b7cecd": {
          "model_module": "@jupyter-widgets/base",
          "model_name": "LayoutModel",
          "model_module_version": "1.2.0",
          "state": {
            "_model_module": "@jupyter-widgets/base",
            "_model_module_version": "1.2.0",
            "_model_name": "LayoutModel",
            "_view_count": null,
            "_view_module": "@jupyter-widgets/base",
            "_view_module_version": "1.2.0",
            "_view_name": "LayoutView",
            "align_content": null,
            "align_items": null,
            "align_self": null,
            "border": null,
            "bottom": null,
            "display": null,
            "flex": null,
            "flex_flow": null,
            "grid_area": null,
            "grid_auto_columns": null,
            "grid_auto_flow": null,
            "grid_auto_rows": null,
            "grid_column": null,
            "grid_gap": null,
            "grid_row": null,
            "grid_template_areas": null,
            "grid_template_columns": null,
            "grid_template_rows": null,
            "height": null,
            "justify_content": null,
            "justify_items": null,
            "left": null,
            "margin": null,
            "max_height": null,
            "max_width": null,
            "min_height": null,
            "min_width": null,
            "object_fit": null,
            "object_position": null,
            "order": null,
            "overflow": null,
            "overflow_x": null,
            "overflow_y": null,
            "padding": null,
            "right": null,
            "top": null,
            "visibility": null,
            "width": null
          }
        },
        "803c831e54714526a116c59cc14e1040": {
          "model_module": "@jupyter-widgets/controls",
          "model_name": "DescriptionStyleModel",
          "model_module_version": "1.5.0",
          "state": {
            "_model_module": "@jupyter-widgets/controls",
            "_model_module_version": "1.5.0",
            "_model_name": "DescriptionStyleModel",
            "_view_count": null,
            "_view_module": "@jupyter-widgets/base",
            "_view_module_version": "1.2.0",
            "_view_name": "StyleView",
            "description_width": ""
          }
        },
        "7a7fbd47458241899c44023d1329f09b": {
          "model_module": "@jupyter-widgets/controls",
          "model_name": "HBoxModel",
          "model_module_version": "1.5.0",
          "state": {
            "_dom_classes": [],
            "_model_module": "@jupyter-widgets/controls",
            "_model_module_version": "1.5.0",
            "_model_name": "HBoxModel",
            "_view_count": null,
            "_view_module": "@jupyter-widgets/controls",
            "_view_module_version": "1.5.0",
            "_view_name": "HBoxView",
            "box_style": "",
            "children": [
              "IPY_MODEL_e2b216584ae948db9e7cd80202999ac7",
              "IPY_MODEL_42ed783678be45879d0126c7b6b29210",
              "IPY_MODEL_99839a5526104e5a8a0f738e35d6750a"
            ],
            "layout": "IPY_MODEL_dd14978a6112431dad685d57ed34341e"
          }
        },
        "e2b216584ae948db9e7cd80202999ac7": {
          "model_module": "@jupyter-widgets/controls",
          "model_name": "HTMLModel",
          "model_module_version": "1.5.0",
          "state": {
            "_dom_classes": [],
            "_model_module": "@jupyter-widgets/controls",
            "_model_module_version": "1.5.0",
            "_model_name": "HTMLModel",
            "_view_count": null,
            "_view_module": "@jupyter-widgets/controls",
            "_view_module_version": "1.5.0",
            "_view_name": "HTMLView",
            "description": "",
            "description_tooltip": null,
            "layout": "IPY_MODEL_027a3e9ff71a4ce39e395847a713c280",
            "placeholder": "​",
            "style": "IPY_MODEL_f0b5b6da293049449f4c66977cacb7b2",
            "value": "Generating splits...: 100%"
          }
        },
        "42ed783678be45879d0126c7b6b29210": {
          "model_module": "@jupyter-widgets/controls",
          "model_name": "FloatProgressModel",
          "model_module_version": "1.5.0",
          "state": {
            "_dom_classes": [],
            "_model_module": "@jupyter-widgets/controls",
            "_model_module_version": "1.5.0",
            "_model_name": "FloatProgressModel",
            "_view_count": null,
            "_view_module": "@jupyter-widgets/controls",
            "_view_module_version": "1.5.0",
            "_view_name": "ProgressView",
            "bar_style": "",
            "description": "",
            "description_tooltip": null,
            "layout": "IPY_MODEL_9c4bbfa8675645149aeab03f84b76ad9",
            "max": 2,
            "min": 0,
            "orientation": "horizontal",
            "style": "IPY_MODEL_9605abffbfaf46379ba3473c7a64e224",
            "value": 2
          }
        },
        "99839a5526104e5a8a0f738e35d6750a": {
          "model_module": "@jupyter-widgets/controls",
          "model_name": "HTMLModel",
          "model_module_version": "1.5.0",
          "state": {
            "_dom_classes": [],
            "_model_module": "@jupyter-widgets/controls",
            "_model_module_version": "1.5.0",
            "_model_name": "HTMLModel",
            "_view_count": null,
            "_view_module": "@jupyter-widgets/controls",
            "_view_module_version": "1.5.0",
            "_view_name": "HTMLView",
            "description": "",
            "description_tooltip": null,
            "layout": "IPY_MODEL_5f02a3e4d5874e27bfc79dcf15a170b8",
            "placeholder": "​",
            "style": "IPY_MODEL_313d22d10a9c4cdb9d09b8ea70ca90c0",
            "value": " 2/2 [00:53&lt;00:00, 23.61s/ splits]"
          }
        },
        "dd14978a6112431dad685d57ed34341e": {
          "model_module": "@jupyter-widgets/base",
          "model_name": "LayoutModel",
          "model_module_version": "1.2.0",
          "state": {
            "_model_module": "@jupyter-widgets/base",
            "_model_module_version": "1.2.0",
            "_model_name": "LayoutModel",
            "_view_count": null,
            "_view_module": "@jupyter-widgets/base",
            "_view_module_version": "1.2.0",
            "_view_name": "LayoutView",
            "align_content": null,
            "align_items": null,
            "align_self": null,
            "border": null,
            "bottom": null,
            "display": null,
            "flex": null,
            "flex_flow": null,
            "grid_area": null,
            "grid_auto_columns": null,
            "grid_auto_flow": null,
            "grid_auto_rows": null,
            "grid_column": null,
            "grid_gap": null,
            "grid_row": null,
            "grid_template_areas": null,
            "grid_template_columns": null,
            "grid_template_rows": null,
            "height": null,
            "justify_content": null,
            "justify_items": null,
            "left": null,
            "margin": null,
            "max_height": null,
            "max_width": null,
            "min_height": null,
            "min_width": null,
            "object_fit": null,
            "object_position": null,
            "order": null,
            "overflow": null,
            "overflow_x": null,
            "overflow_y": null,
            "padding": null,
            "right": null,
            "top": null,
            "visibility": "hidden",
            "width": null
          }
        },
        "027a3e9ff71a4ce39e395847a713c280": {
          "model_module": "@jupyter-widgets/base",
          "model_name": "LayoutModel",
          "model_module_version": "1.2.0",
          "state": {
            "_model_module": "@jupyter-widgets/base",
            "_model_module_version": "1.2.0",
            "_model_name": "LayoutModel",
            "_view_count": null,
            "_view_module": "@jupyter-widgets/base",
            "_view_module_version": "1.2.0",
            "_view_name": "LayoutView",
            "align_content": null,
            "align_items": null,
            "align_self": null,
            "border": null,
            "bottom": null,
            "display": null,
            "flex": null,
            "flex_flow": null,
            "grid_area": null,
            "grid_auto_columns": null,
            "grid_auto_flow": null,
            "grid_auto_rows": null,
            "grid_column": null,
            "grid_gap": null,
            "grid_row": null,
            "grid_template_areas": null,
            "grid_template_columns": null,
            "grid_template_rows": null,
            "height": null,
            "justify_content": null,
            "justify_items": null,
            "left": null,
            "margin": null,
            "max_height": null,
            "max_width": null,
            "min_height": null,
            "min_width": null,
            "object_fit": null,
            "object_position": null,
            "order": null,
            "overflow": null,
            "overflow_x": null,
            "overflow_y": null,
            "padding": null,
            "right": null,
            "top": null,
            "visibility": null,
            "width": null
          }
        },
        "f0b5b6da293049449f4c66977cacb7b2": {
          "model_module": "@jupyter-widgets/controls",
          "model_name": "DescriptionStyleModel",
          "model_module_version": "1.5.0",
          "state": {
            "_model_module": "@jupyter-widgets/controls",
            "_model_module_version": "1.5.0",
            "_model_name": "DescriptionStyleModel",
            "_view_count": null,
            "_view_module": "@jupyter-widgets/base",
            "_view_module_version": "1.2.0",
            "_view_name": "StyleView",
            "description_width": ""
          }
        },
        "9c4bbfa8675645149aeab03f84b76ad9": {
          "model_module": "@jupyter-widgets/base",
          "model_name": "LayoutModel",
          "model_module_version": "1.2.0",
          "state": {
            "_model_module": "@jupyter-widgets/base",
            "_model_module_version": "1.2.0",
            "_model_name": "LayoutModel",
            "_view_count": null,
            "_view_module": "@jupyter-widgets/base",
            "_view_module_version": "1.2.0",
            "_view_name": "LayoutView",
            "align_content": null,
            "align_items": null,
            "align_self": null,
            "border": null,
            "bottom": null,
            "display": null,
            "flex": null,
            "flex_flow": null,
            "grid_area": null,
            "grid_auto_columns": null,
            "grid_auto_flow": null,
            "grid_auto_rows": null,
            "grid_column": null,
            "grid_gap": null,
            "grid_row": null,
            "grid_template_areas": null,
            "grid_template_columns": null,
            "grid_template_rows": null,
            "height": null,
            "justify_content": null,
            "justify_items": null,
            "left": null,
            "margin": null,
            "max_height": null,
            "max_width": null,
            "min_height": null,
            "min_width": null,
            "object_fit": null,
            "object_position": null,
            "order": null,
            "overflow": null,
            "overflow_x": null,
            "overflow_y": null,
            "padding": null,
            "right": null,
            "top": null,
            "visibility": null,
            "width": null
          }
        },
        "9605abffbfaf46379ba3473c7a64e224": {
          "model_module": "@jupyter-widgets/controls",
          "model_name": "ProgressStyleModel",
          "model_module_version": "1.5.0",
          "state": {
            "_model_module": "@jupyter-widgets/controls",
            "_model_module_version": "1.5.0",
            "_model_name": "ProgressStyleModel",
            "_view_count": null,
            "_view_module": "@jupyter-widgets/base",
            "_view_module_version": "1.2.0",
            "_view_name": "StyleView",
            "bar_color": null,
            "description_width": ""
          }
        },
        "5f02a3e4d5874e27bfc79dcf15a170b8": {
          "model_module": "@jupyter-widgets/base",
          "model_name": "LayoutModel",
          "model_module_version": "1.2.0",
          "state": {
            "_model_module": "@jupyter-widgets/base",
            "_model_module_version": "1.2.0",
            "_model_name": "LayoutModel",
            "_view_count": null,
            "_view_module": "@jupyter-widgets/base",
            "_view_module_version": "1.2.0",
            "_view_name": "LayoutView",
            "align_content": null,
            "align_items": null,
            "align_self": null,
            "border": null,
            "bottom": null,
            "display": null,
            "flex": null,
            "flex_flow": null,
            "grid_area": null,
            "grid_auto_columns": null,
            "grid_auto_flow": null,
            "grid_auto_rows": null,
            "grid_column": null,
            "grid_gap": null,
            "grid_row": null,
            "grid_template_areas": null,
            "grid_template_columns": null,
            "grid_template_rows": null,
            "height": null,
            "justify_content": null,
            "justify_items": null,
            "left": null,
            "margin": null,
            "max_height": null,
            "max_width": null,
            "min_height": null,
            "min_width": null,
            "object_fit": null,
            "object_position": null,
            "order": null,
            "overflow": null,
            "overflow_x": null,
            "overflow_y": null,
            "padding": null,
            "right": null,
            "top": null,
            "visibility": null,
            "width": null
          }
        },
        "313d22d10a9c4cdb9d09b8ea70ca90c0": {
          "model_module": "@jupyter-widgets/controls",
          "model_name": "DescriptionStyleModel",
          "model_module_version": "1.5.0",
          "state": {
            "_model_module": "@jupyter-widgets/controls",
            "_model_module_version": "1.5.0",
            "_model_name": "DescriptionStyleModel",
            "_view_count": null,
            "_view_module": "@jupyter-widgets/base",
            "_view_module_version": "1.2.0",
            "_view_name": "StyleView",
            "description_width": ""
          }
        },
        "89268751a76a41b9ac5eed20d2ec871e": {
          "model_module": "@jupyter-widgets/controls",
          "model_name": "HBoxModel",
          "model_module_version": "1.5.0",
          "state": {
            "_dom_classes": [],
            "_model_module": "@jupyter-widgets/controls",
            "_model_module_version": "1.5.0",
            "_model_name": "HBoxModel",
            "_view_count": null,
            "_view_module": "@jupyter-widgets/controls",
            "_view_module_version": "1.5.0",
            "_view_name": "HBoxView",
            "box_style": "",
            "children": [
              "IPY_MODEL_24020fcc510b46879bce4471595bc470",
              "IPY_MODEL_2f6d7698a7d04c16963376d5ac5cb669",
              "IPY_MODEL_c3882abfcfbe4c11bc3af416b298cecf"
            ],
            "layout": "IPY_MODEL_8cd1e376fde54321aed95fa58f711dd3"
          }
        },
        "24020fcc510b46879bce4471595bc470": {
          "model_module": "@jupyter-widgets/controls",
          "model_name": "HTMLModel",
          "model_module_version": "1.5.0",
          "state": {
            "_dom_classes": [],
            "_model_module": "@jupyter-widgets/controls",
            "_model_module_version": "1.5.0",
            "_model_name": "HTMLModel",
            "_view_count": null,
            "_view_module": "@jupyter-widgets/controls",
            "_view_module_version": "1.5.0",
            "_view_name": "HTMLView",
            "description": "",
            "description_tooltip": null,
            "layout": "IPY_MODEL_f7879f9fae3f41a5a831576f2eb36439",
            "placeholder": "​",
            "style": "IPY_MODEL_5c9f024698f041219857310b0ad40a53",
            "value": "Generating train examples...:  98%"
          }
        },
        "2f6d7698a7d04c16963376d5ac5cb669": {
          "model_module": "@jupyter-widgets/controls",
          "model_name": "FloatProgressModel",
          "model_module_version": "1.5.0",
          "state": {
            "_dom_classes": [],
            "_model_module": "@jupyter-widgets/controls",
            "_model_module_version": "1.5.0",
            "_model_name": "FloatProgressModel",
            "_view_count": null,
            "_view_module": "@jupyter-widgets/controls",
            "_view_module_version": "1.5.0",
            "_view_name": "ProgressView",
            "bar_style": "",
            "description": "",
            "description_tooltip": null,
            "layout": "IPY_MODEL_40d044eb0d534a6cb5faea978567658b",
            "max": 50000,
            "min": 0,
            "orientation": "horizontal",
            "style": "IPY_MODEL_39dd573931354943a87ac805476da876",
            "value": 50000
          }
        },
        "c3882abfcfbe4c11bc3af416b298cecf": {
          "model_module": "@jupyter-widgets/controls",
          "model_name": "HTMLModel",
          "model_module_version": "1.5.0",
          "state": {
            "_dom_classes": [],
            "_model_module": "@jupyter-widgets/controls",
            "_model_module_version": "1.5.0",
            "_model_name": "HTMLModel",
            "_view_count": null,
            "_view_module": "@jupyter-widgets/controls",
            "_view_module_version": "1.5.0",
            "_view_name": "HTMLView",
            "description": "",
            "description_tooltip": null,
            "layout": "IPY_MODEL_5352362a93144b389a1b29b99273a7b4",
            "placeholder": "​",
            "style": "IPY_MODEL_36da705d60f34ca8969ebcb094a768b4",
            "value": " 49087/50000 [00:44&lt;00:00, 1132.04 examples/s]"
          }
        },
        "8cd1e376fde54321aed95fa58f711dd3": {
          "model_module": "@jupyter-widgets/base",
          "model_name": "LayoutModel",
          "model_module_version": "1.2.0",
          "state": {
            "_model_module": "@jupyter-widgets/base",
            "_model_module_version": "1.2.0",
            "_model_name": "LayoutModel",
            "_view_count": null,
            "_view_module": "@jupyter-widgets/base",
            "_view_module_version": "1.2.0",
            "_view_name": "LayoutView",
            "align_content": null,
            "align_items": null,
            "align_self": null,
            "border": null,
            "bottom": null,
            "display": null,
            "flex": null,
            "flex_flow": null,
            "grid_area": null,
            "grid_auto_columns": null,
            "grid_auto_flow": null,
            "grid_auto_rows": null,
            "grid_column": null,
            "grid_gap": null,
            "grid_row": null,
            "grid_template_areas": null,
            "grid_template_columns": null,
            "grid_template_rows": null,
            "height": null,
            "justify_content": null,
            "justify_items": null,
            "left": null,
            "margin": null,
            "max_height": null,
            "max_width": null,
            "min_height": null,
            "min_width": null,
            "object_fit": null,
            "object_position": null,
            "order": null,
            "overflow": null,
            "overflow_x": null,
            "overflow_y": null,
            "padding": null,
            "right": null,
            "top": null,
            "visibility": "hidden",
            "width": null
          }
        },
        "f7879f9fae3f41a5a831576f2eb36439": {
          "model_module": "@jupyter-widgets/base",
          "model_name": "LayoutModel",
          "model_module_version": "1.2.0",
          "state": {
            "_model_module": "@jupyter-widgets/base",
            "_model_module_version": "1.2.0",
            "_model_name": "LayoutModel",
            "_view_count": null,
            "_view_module": "@jupyter-widgets/base",
            "_view_module_version": "1.2.0",
            "_view_name": "LayoutView",
            "align_content": null,
            "align_items": null,
            "align_self": null,
            "border": null,
            "bottom": null,
            "display": null,
            "flex": null,
            "flex_flow": null,
            "grid_area": null,
            "grid_auto_columns": null,
            "grid_auto_flow": null,
            "grid_auto_rows": null,
            "grid_column": null,
            "grid_gap": null,
            "grid_row": null,
            "grid_template_areas": null,
            "grid_template_columns": null,
            "grid_template_rows": null,
            "height": null,
            "justify_content": null,
            "justify_items": null,
            "left": null,
            "margin": null,
            "max_height": null,
            "max_width": null,
            "min_height": null,
            "min_width": null,
            "object_fit": null,
            "object_position": null,
            "order": null,
            "overflow": null,
            "overflow_x": null,
            "overflow_y": null,
            "padding": null,
            "right": null,
            "top": null,
            "visibility": null,
            "width": null
          }
        },
        "5c9f024698f041219857310b0ad40a53": {
          "model_module": "@jupyter-widgets/controls",
          "model_name": "DescriptionStyleModel",
          "model_module_version": "1.5.0",
          "state": {
            "_model_module": "@jupyter-widgets/controls",
            "_model_module_version": "1.5.0",
            "_model_name": "DescriptionStyleModel",
            "_view_count": null,
            "_view_module": "@jupyter-widgets/base",
            "_view_module_version": "1.2.0",
            "_view_name": "StyleView",
            "description_width": ""
          }
        },
        "40d044eb0d534a6cb5faea978567658b": {
          "model_module": "@jupyter-widgets/base",
          "model_name": "LayoutModel",
          "model_module_version": "1.2.0",
          "state": {
            "_model_module": "@jupyter-widgets/base",
            "_model_module_version": "1.2.0",
            "_model_name": "LayoutModel",
            "_view_count": null,
            "_view_module": "@jupyter-widgets/base",
            "_view_module_version": "1.2.0",
            "_view_name": "LayoutView",
            "align_content": null,
            "align_items": null,
            "align_self": null,
            "border": null,
            "bottom": null,
            "display": null,
            "flex": null,
            "flex_flow": null,
            "grid_area": null,
            "grid_auto_columns": null,
            "grid_auto_flow": null,
            "grid_auto_rows": null,
            "grid_column": null,
            "grid_gap": null,
            "grid_row": null,
            "grid_template_areas": null,
            "grid_template_columns": null,
            "grid_template_rows": null,
            "height": null,
            "justify_content": null,
            "justify_items": null,
            "left": null,
            "margin": null,
            "max_height": null,
            "max_width": null,
            "min_height": null,
            "min_width": null,
            "object_fit": null,
            "object_position": null,
            "order": null,
            "overflow": null,
            "overflow_x": null,
            "overflow_y": null,
            "padding": null,
            "right": null,
            "top": null,
            "visibility": null,
            "width": null
          }
        },
        "39dd573931354943a87ac805476da876": {
          "model_module": "@jupyter-widgets/controls",
          "model_name": "ProgressStyleModel",
          "model_module_version": "1.5.0",
          "state": {
            "_model_module": "@jupyter-widgets/controls",
            "_model_module_version": "1.5.0",
            "_model_name": "ProgressStyleModel",
            "_view_count": null,
            "_view_module": "@jupyter-widgets/base",
            "_view_module_version": "1.2.0",
            "_view_name": "StyleView",
            "bar_color": null,
            "description_width": ""
          }
        },
        "5352362a93144b389a1b29b99273a7b4": {
          "model_module": "@jupyter-widgets/base",
          "model_name": "LayoutModel",
          "model_module_version": "1.2.0",
          "state": {
            "_model_module": "@jupyter-widgets/base",
            "_model_module_version": "1.2.0",
            "_model_name": "LayoutModel",
            "_view_count": null,
            "_view_module": "@jupyter-widgets/base",
            "_view_module_version": "1.2.0",
            "_view_name": "LayoutView",
            "align_content": null,
            "align_items": null,
            "align_self": null,
            "border": null,
            "bottom": null,
            "display": null,
            "flex": null,
            "flex_flow": null,
            "grid_area": null,
            "grid_auto_columns": null,
            "grid_auto_flow": null,
            "grid_auto_rows": null,
            "grid_column": null,
            "grid_gap": null,
            "grid_row": null,
            "grid_template_areas": null,
            "grid_template_columns": null,
            "grid_template_rows": null,
            "height": null,
            "justify_content": null,
            "justify_items": null,
            "left": null,
            "margin": null,
            "max_height": null,
            "max_width": null,
            "min_height": null,
            "min_width": null,
            "object_fit": null,
            "object_position": null,
            "order": null,
            "overflow": null,
            "overflow_x": null,
            "overflow_y": null,
            "padding": null,
            "right": null,
            "top": null,
            "visibility": null,
            "width": null
          }
        },
        "36da705d60f34ca8969ebcb094a768b4": {
          "model_module": "@jupyter-widgets/controls",
          "model_name": "DescriptionStyleModel",
          "model_module_version": "1.5.0",
          "state": {
            "_model_module": "@jupyter-widgets/controls",
            "_model_module_version": "1.5.0",
            "_model_name": "DescriptionStyleModel",
            "_view_count": null,
            "_view_module": "@jupyter-widgets/base",
            "_view_module_version": "1.2.0",
            "_view_name": "StyleView",
            "description_width": ""
          }
        },
        "96248dd0048740d2a52551756a8c6f67": {
          "model_module": "@jupyter-widgets/controls",
          "model_name": "HBoxModel",
          "model_module_version": "1.5.0",
          "state": {
            "_dom_classes": [],
            "_model_module": "@jupyter-widgets/controls",
            "_model_module_version": "1.5.0",
            "_model_name": "HBoxModel",
            "_view_count": null,
            "_view_module": "@jupyter-widgets/controls",
            "_view_module_version": "1.5.0",
            "_view_name": "HBoxView",
            "box_style": "",
            "children": [
              "IPY_MODEL_86b4b31da7984082b730c0b9e2c79d14",
              "IPY_MODEL_0ba250a153c7459583c3f7a5c34c6b4f",
              "IPY_MODEL_3a6340dcc4bc4c3d9c8bf86eb3ab0bbf"
            ],
            "layout": "IPY_MODEL_e69f97cb32a642d99044b031d0b428f3"
          }
        },
        "86b4b31da7984082b730c0b9e2c79d14": {
          "model_module": "@jupyter-widgets/controls",
          "model_name": "HTMLModel",
          "model_module_version": "1.5.0",
          "state": {
            "_dom_classes": [],
            "_model_module": "@jupyter-widgets/controls",
            "_model_module_version": "1.5.0",
            "_model_name": "HTMLModel",
            "_view_count": null,
            "_view_module": "@jupyter-widgets/controls",
            "_view_module_version": "1.5.0",
            "_view_name": "HTMLView",
            "description": "",
            "description_tooltip": null,
            "layout": "IPY_MODEL_7b76458a0ceb411db6fd977d107c13a7",
            "placeholder": "​",
            "style": "IPY_MODEL_de9d6a5018364bc1ba44ac9404c98a08",
            "value": "Shuffling /root/tensorflow_datasets/cifar10/3.0.2.incompleteSOLPUA/cifar10-train.tfrecord*...:  93%"
          }
        },
        "0ba250a153c7459583c3f7a5c34c6b4f": {
          "model_module": "@jupyter-widgets/controls",
          "model_name": "FloatProgressModel",
          "model_module_version": "1.5.0",
          "state": {
            "_dom_classes": [],
            "_model_module": "@jupyter-widgets/controls",
            "_model_module_version": "1.5.0",
            "_model_name": "FloatProgressModel",
            "_view_count": null,
            "_view_module": "@jupyter-widgets/controls",
            "_view_module_version": "1.5.0",
            "_view_name": "ProgressView",
            "bar_style": "",
            "description": "",
            "description_tooltip": null,
            "layout": "IPY_MODEL_52d2e0993da44035b47de494a6bdc1bc",
            "max": 50000,
            "min": 0,
            "orientation": "horizontal",
            "style": "IPY_MODEL_1de94f6b057c4bcb8a230e835c153a00",
            "value": 50000
          }
        },
        "3a6340dcc4bc4c3d9c8bf86eb3ab0bbf": {
          "model_module": "@jupyter-widgets/controls",
          "model_name": "HTMLModel",
          "model_module_version": "1.5.0",
          "state": {
            "_dom_classes": [],
            "_model_module": "@jupyter-widgets/controls",
            "_model_module_version": "1.5.0",
            "_model_name": "HTMLModel",
            "_view_count": null,
            "_view_module": "@jupyter-widgets/controls",
            "_view_module_version": "1.5.0",
            "_view_name": "HTMLView",
            "description": "",
            "description_tooltip": null,
            "layout": "IPY_MODEL_0e61add3ef9b483ca1390db33c3f653e",
            "placeholder": "​",
            "style": "IPY_MODEL_ffaa96c8cfb945499d5a220c625e9dea",
            "value": " 46650/50000 [00:00&lt;00:00, 167629.84 examples/s]"
          }
        },
        "e69f97cb32a642d99044b031d0b428f3": {
          "model_module": "@jupyter-widgets/base",
          "model_name": "LayoutModel",
          "model_module_version": "1.2.0",
          "state": {
            "_model_module": "@jupyter-widgets/base",
            "_model_module_version": "1.2.0",
            "_model_name": "LayoutModel",
            "_view_count": null,
            "_view_module": "@jupyter-widgets/base",
            "_view_module_version": "1.2.0",
            "_view_name": "LayoutView",
            "align_content": null,
            "align_items": null,
            "align_self": null,
            "border": null,
            "bottom": null,
            "display": null,
            "flex": null,
            "flex_flow": null,
            "grid_area": null,
            "grid_auto_columns": null,
            "grid_auto_flow": null,
            "grid_auto_rows": null,
            "grid_column": null,
            "grid_gap": null,
            "grid_row": null,
            "grid_template_areas": null,
            "grid_template_columns": null,
            "grid_template_rows": null,
            "height": null,
            "justify_content": null,
            "justify_items": null,
            "left": null,
            "margin": null,
            "max_height": null,
            "max_width": null,
            "min_height": null,
            "min_width": null,
            "object_fit": null,
            "object_position": null,
            "order": null,
            "overflow": null,
            "overflow_x": null,
            "overflow_y": null,
            "padding": null,
            "right": null,
            "top": null,
            "visibility": "hidden",
            "width": null
          }
        },
        "7b76458a0ceb411db6fd977d107c13a7": {
          "model_module": "@jupyter-widgets/base",
          "model_name": "LayoutModel",
          "model_module_version": "1.2.0",
          "state": {
            "_model_module": "@jupyter-widgets/base",
            "_model_module_version": "1.2.0",
            "_model_name": "LayoutModel",
            "_view_count": null,
            "_view_module": "@jupyter-widgets/base",
            "_view_module_version": "1.2.0",
            "_view_name": "LayoutView",
            "align_content": null,
            "align_items": null,
            "align_self": null,
            "border": null,
            "bottom": null,
            "display": null,
            "flex": null,
            "flex_flow": null,
            "grid_area": null,
            "grid_auto_columns": null,
            "grid_auto_flow": null,
            "grid_auto_rows": null,
            "grid_column": null,
            "grid_gap": null,
            "grid_row": null,
            "grid_template_areas": null,
            "grid_template_columns": null,
            "grid_template_rows": null,
            "height": null,
            "justify_content": null,
            "justify_items": null,
            "left": null,
            "margin": null,
            "max_height": null,
            "max_width": null,
            "min_height": null,
            "min_width": null,
            "object_fit": null,
            "object_position": null,
            "order": null,
            "overflow": null,
            "overflow_x": null,
            "overflow_y": null,
            "padding": null,
            "right": null,
            "top": null,
            "visibility": null,
            "width": null
          }
        },
        "de9d6a5018364bc1ba44ac9404c98a08": {
          "model_module": "@jupyter-widgets/controls",
          "model_name": "DescriptionStyleModel",
          "model_module_version": "1.5.0",
          "state": {
            "_model_module": "@jupyter-widgets/controls",
            "_model_module_version": "1.5.0",
            "_model_name": "DescriptionStyleModel",
            "_view_count": null,
            "_view_module": "@jupyter-widgets/base",
            "_view_module_version": "1.2.0",
            "_view_name": "StyleView",
            "description_width": ""
          }
        },
        "52d2e0993da44035b47de494a6bdc1bc": {
          "model_module": "@jupyter-widgets/base",
          "model_name": "LayoutModel",
          "model_module_version": "1.2.0",
          "state": {
            "_model_module": "@jupyter-widgets/base",
            "_model_module_version": "1.2.0",
            "_model_name": "LayoutModel",
            "_view_count": null,
            "_view_module": "@jupyter-widgets/base",
            "_view_module_version": "1.2.0",
            "_view_name": "LayoutView",
            "align_content": null,
            "align_items": null,
            "align_self": null,
            "border": null,
            "bottom": null,
            "display": null,
            "flex": null,
            "flex_flow": null,
            "grid_area": null,
            "grid_auto_columns": null,
            "grid_auto_flow": null,
            "grid_auto_rows": null,
            "grid_column": null,
            "grid_gap": null,
            "grid_row": null,
            "grid_template_areas": null,
            "grid_template_columns": null,
            "grid_template_rows": null,
            "height": null,
            "justify_content": null,
            "justify_items": null,
            "left": null,
            "margin": null,
            "max_height": null,
            "max_width": null,
            "min_height": null,
            "min_width": null,
            "object_fit": null,
            "object_position": null,
            "order": null,
            "overflow": null,
            "overflow_x": null,
            "overflow_y": null,
            "padding": null,
            "right": null,
            "top": null,
            "visibility": null,
            "width": null
          }
        },
        "1de94f6b057c4bcb8a230e835c153a00": {
          "model_module": "@jupyter-widgets/controls",
          "model_name": "ProgressStyleModel",
          "model_module_version": "1.5.0",
          "state": {
            "_model_module": "@jupyter-widgets/controls",
            "_model_module_version": "1.5.0",
            "_model_name": "ProgressStyleModel",
            "_view_count": null,
            "_view_module": "@jupyter-widgets/base",
            "_view_module_version": "1.2.0",
            "_view_name": "StyleView",
            "bar_color": null,
            "description_width": ""
          }
        },
        "0e61add3ef9b483ca1390db33c3f653e": {
          "model_module": "@jupyter-widgets/base",
          "model_name": "LayoutModel",
          "model_module_version": "1.2.0",
          "state": {
            "_model_module": "@jupyter-widgets/base",
            "_model_module_version": "1.2.0",
            "_model_name": "LayoutModel",
            "_view_count": null,
            "_view_module": "@jupyter-widgets/base",
            "_view_module_version": "1.2.0",
            "_view_name": "LayoutView",
            "align_content": null,
            "align_items": null,
            "align_self": null,
            "border": null,
            "bottom": null,
            "display": null,
            "flex": null,
            "flex_flow": null,
            "grid_area": null,
            "grid_auto_columns": null,
            "grid_auto_flow": null,
            "grid_auto_rows": null,
            "grid_column": null,
            "grid_gap": null,
            "grid_row": null,
            "grid_template_areas": null,
            "grid_template_columns": null,
            "grid_template_rows": null,
            "height": null,
            "justify_content": null,
            "justify_items": null,
            "left": null,
            "margin": null,
            "max_height": null,
            "max_width": null,
            "min_height": null,
            "min_width": null,
            "object_fit": null,
            "object_position": null,
            "order": null,
            "overflow": null,
            "overflow_x": null,
            "overflow_y": null,
            "padding": null,
            "right": null,
            "top": null,
            "visibility": null,
            "width": null
          }
        },
        "ffaa96c8cfb945499d5a220c625e9dea": {
          "model_module": "@jupyter-widgets/controls",
          "model_name": "DescriptionStyleModel",
          "model_module_version": "1.5.0",
          "state": {
            "_model_module": "@jupyter-widgets/controls",
            "_model_module_version": "1.5.0",
            "_model_name": "DescriptionStyleModel",
            "_view_count": null,
            "_view_module": "@jupyter-widgets/base",
            "_view_module_version": "1.2.0",
            "_view_name": "StyleView",
            "description_width": ""
          }
        },
        "5c4a7fdc9e7a4e008d8111d545f5eeca": {
          "model_module": "@jupyter-widgets/controls",
          "model_name": "HBoxModel",
          "model_module_version": "1.5.0",
          "state": {
            "_dom_classes": [],
            "_model_module": "@jupyter-widgets/controls",
            "_model_module_version": "1.5.0",
            "_model_name": "HBoxModel",
            "_view_count": null,
            "_view_module": "@jupyter-widgets/controls",
            "_view_module_version": "1.5.0",
            "_view_name": "HBoxView",
            "box_style": "",
            "children": [
              "IPY_MODEL_808b506766f1404d9b66759b1b0e5f08",
              "IPY_MODEL_bd5a97cff6ab4e3a816d0bc926533d7f",
              "IPY_MODEL_7841724f29ec4436a7ee4adabc396e17"
            ],
            "layout": "IPY_MODEL_490238ca6df94f13aab1b3f2adaa96c1"
          }
        },
        "808b506766f1404d9b66759b1b0e5f08": {
          "model_module": "@jupyter-widgets/controls",
          "model_name": "HTMLModel",
          "model_module_version": "1.5.0",
          "state": {
            "_dom_classes": [],
            "_model_module": "@jupyter-widgets/controls",
            "_model_module_version": "1.5.0",
            "_model_name": "HTMLModel",
            "_view_count": null,
            "_view_module": "@jupyter-widgets/controls",
            "_view_module_version": "1.5.0",
            "_view_name": "HTMLView",
            "description": "",
            "description_tooltip": null,
            "layout": "IPY_MODEL_19cf2d90f64a410ebb8a38dd9a2f1bcc",
            "placeholder": "​",
            "style": "IPY_MODEL_9e8d23eeaf82412d9841f87bc423b809",
            "value": "Generating test examples...: 100%"
          }
        },
        "bd5a97cff6ab4e3a816d0bc926533d7f": {
          "model_module": "@jupyter-widgets/controls",
          "model_name": "FloatProgressModel",
          "model_module_version": "1.5.0",
          "state": {
            "_dom_classes": [],
            "_model_module": "@jupyter-widgets/controls",
            "_model_module_version": "1.5.0",
            "_model_name": "FloatProgressModel",
            "_view_count": null,
            "_view_module": "@jupyter-widgets/controls",
            "_view_module_version": "1.5.0",
            "_view_name": "ProgressView",
            "bar_style": "",
            "description": "",
            "description_tooltip": null,
            "layout": "IPY_MODEL_e5174ef710444299a8310e339cffe3f9",
            "max": 10000,
            "min": 0,
            "orientation": "horizontal",
            "style": "IPY_MODEL_4970f2669e464e45a9ebf675019c97d1",
            "value": 10000
          }
        },
        "7841724f29ec4436a7ee4adabc396e17": {
          "model_module": "@jupyter-widgets/controls",
          "model_name": "HTMLModel",
          "model_module_version": "1.5.0",
          "state": {
            "_dom_classes": [],
            "_model_module": "@jupyter-widgets/controls",
            "_model_module_version": "1.5.0",
            "_model_name": "HTMLModel",
            "_view_count": null,
            "_view_module": "@jupyter-widgets/controls",
            "_view_module_version": "1.5.0",
            "_view_name": "HTMLView",
            "description": "",
            "description_tooltip": null,
            "layout": "IPY_MODEL_4c1c9521f6e3480db5ef956c38093f85",
            "placeholder": "​",
            "style": "IPY_MODEL_01494b3887fd4dcb9b2f24c4da836f22",
            "value": " 9952/10000 [00:08&lt;00:00, 1263.55 examples/s]"
          }
        },
        "490238ca6df94f13aab1b3f2adaa96c1": {
          "model_module": "@jupyter-widgets/base",
          "model_name": "LayoutModel",
          "model_module_version": "1.2.0",
          "state": {
            "_model_module": "@jupyter-widgets/base",
            "_model_module_version": "1.2.0",
            "_model_name": "LayoutModel",
            "_view_count": null,
            "_view_module": "@jupyter-widgets/base",
            "_view_module_version": "1.2.0",
            "_view_name": "LayoutView",
            "align_content": null,
            "align_items": null,
            "align_self": null,
            "border": null,
            "bottom": null,
            "display": null,
            "flex": null,
            "flex_flow": null,
            "grid_area": null,
            "grid_auto_columns": null,
            "grid_auto_flow": null,
            "grid_auto_rows": null,
            "grid_column": null,
            "grid_gap": null,
            "grid_row": null,
            "grid_template_areas": null,
            "grid_template_columns": null,
            "grid_template_rows": null,
            "height": null,
            "justify_content": null,
            "justify_items": null,
            "left": null,
            "margin": null,
            "max_height": null,
            "max_width": null,
            "min_height": null,
            "min_width": null,
            "object_fit": null,
            "object_position": null,
            "order": null,
            "overflow": null,
            "overflow_x": null,
            "overflow_y": null,
            "padding": null,
            "right": null,
            "top": null,
            "visibility": "hidden",
            "width": null
          }
        },
        "19cf2d90f64a410ebb8a38dd9a2f1bcc": {
          "model_module": "@jupyter-widgets/base",
          "model_name": "LayoutModel",
          "model_module_version": "1.2.0",
          "state": {
            "_model_module": "@jupyter-widgets/base",
            "_model_module_version": "1.2.0",
            "_model_name": "LayoutModel",
            "_view_count": null,
            "_view_module": "@jupyter-widgets/base",
            "_view_module_version": "1.2.0",
            "_view_name": "LayoutView",
            "align_content": null,
            "align_items": null,
            "align_self": null,
            "border": null,
            "bottom": null,
            "display": null,
            "flex": null,
            "flex_flow": null,
            "grid_area": null,
            "grid_auto_columns": null,
            "grid_auto_flow": null,
            "grid_auto_rows": null,
            "grid_column": null,
            "grid_gap": null,
            "grid_row": null,
            "grid_template_areas": null,
            "grid_template_columns": null,
            "grid_template_rows": null,
            "height": null,
            "justify_content": null,
            "justify_items": null,
            "left": null,
            "margin": null,
            "max_height": null,
            "max_width": null,
            "min_height": null,
            "min_width": null,
            "object_fit": null,
            "object_position": null,
            "order": null,
            "overflow": null,
            "overflow_x": null,
            "overflow_y": null,
            "padding": null,
            "right": null,
            "top": null,
            "visibility": null,
            "width": null
          }
        },
        "9e8d23eeaf82412d9841f87bc423b809": {
          "model_module": "@jupyter-widgets/controls",
          "model_name": "DescriptionStyleModel",
          "model_module_version": "1.5.0",
          "state": {
            "_model_module": "@jupyter-widgets/controls",
            "_model_module_version": "1.5.0",
            "_model_name": "DescriptionStyleModel",
            "_view_count": null,
            "_view_module": "@jupyter-widgets/base",
            "_view_module_version": "1.2.0",
            "_view_name": "StyleView",
            "description_width": ""
          }
        },
        "e5174ef710444299a8310e339cffe3f9": {
          "model_module": "@jupyter-widgets/base",
          "model_name": "LayoutModel",
          "model_module_version": "1.2.0",
          "state": {
            "_model_module": "@jupyter-widgets/base",
            "_model_module_version": "1.2.0",
            "_model_name": "LayoutModel",
            "_view_count": null,
            "_view_module": "@jupyter-widgets/base",
            "_view_module_version": "1.2.0",
            "_view_name": "LayoutView",
            "align_content": null,
            "align_items": null,
            "align_self": null,
            "border": null,
            "bottom": null,
            "display": null,
            "flex": null,
            "flex_flow": null,
            "grid_area": null,
            "grid_auto_columns": null,
            "grid_auto_flow": null,
            "grid_auto_rows": null,
            "grid_column": null,
            "grid_gap": null,
            "grid_row": null,
            "grid_template_areas": null,
            "grid_template_columns": null,
            "grid_template_rows": null,
            "height": null,
            "justify_content": null,
            "justify_items": null,
            "left": null,
            "margin": null,
            "max_height": null,
            "max_width": null,
            "min_height": null,
            "min_width": null,
            "object_fit": null,
            "object_position": null,
            "order": null,
            "overflow": null,
            "overflow_x": null,
            "overflow_y": null,
            "padding": null,
            "right": null,
            "top": null,
            "visibility": null,
            "width": null
          }
        },
        "4970f2669e464e45a9ebf675019c97d1": {
          "model_module": "@jupyter-widgets/controls",
          "model_name": "ProgressStyleModel",
          "model_module_version": "1.5.0",
          "state": {
            "_model_module": "@jupyter-widgets/controls",
            "_model_module_version": "1.5.0",
            "_model_name": "ProgressStyleModel",
            "_view_count": null,
            "_view_module": "@jupyter-widgets/base",
            "_view_module_version": "1.2.0",
            "_view_name": "StyleView",
            "bar_color": null,
            "description_width": ""
          }
        },
        "4c1c9521f6e3480db5ef956c38093f85": {
          "model_module": "@jupyter-widgets/base",
          "model_name": "LayoutModel",
          "model_module_version": "1.2.0",
          "state": {
            "_model_module": "@jupyter-widgets/base",
            "_model_module_version": "1.2.0",
            "_model_name": "LayoutModel",
            "_view_count": null,
            "_view_module": "@jupyter-widgets/base",
            "_view_module_version": "1.2.0",
            "_view_name": "LayoutView",
            "align_content": null,
            "align_items": null,
            "align_self": null,
            "border": null,
            "bottom": null,
            "display": null,
            "flex": null,
            "flex_flow": null,
            "grid_area": null,
            "grid_auto_columns": null,
            "grid_auto_flow": null,
            "grid_auto_rows": null,
            "grid_column": null,
            "grid_gap": null,
            "grid_row": null,
            "grid_template_areas": null,
            "grid_template_columns": null,
            "grid_template_rows": null,
            "height": null,
            "justify_content": null,
            "justify_items": null,
            "left": null,
            "margin": null,
            "max_height": null,
            "max_width": null,
            "min_height": null,
            "min_width": null,
            "object_fit": null,
            "object_position": null,
            "order": null,
            "overflow": null,
            "overflow_x": null,
            "overflow_y": null,
            "padding": null,
            "right": null,
            "top": null,
            "visibility": null,
            "width": null
          }
        },
        "01494b3887fd4dcb9b2f24c4da836f22": {
          "model_module": "@jupyter-widgets/controls",
          "model_name": "DescriptionStyleModel",
          "model_module_version": "1.5.0",
          "state": {
            "_model_module": "@jupyter-widgets/controls",
            "_model_module_version": "1.5.0",
            "_model_name": "DescriptionStyleModel",
            "_view_count": null,
            "_view_module": "@jupyter-widgets/base",
            "_view_module_version": "1.2.0",
            "_view_name": "StyleView",
            "description_width": ""
          }
        },
        "839a9e730ca946daa62ea921310976ed": {
          "model_module": "@jupyter-widgets/controls",
          "model_name": "HBoxModel",
          "model_module_version": "1.5.0",
          "state": {
            "_dom_classes": [],
            "_model_module": "@jupyter-widgets/controls",
            "_model_module_version": "1.5.0",
            "_model_name": "HBoxModel",
            "_view_count": null,
            "_view_module": "@jupyter-widgets/controls",
            "_view_module_version": "1.5.0",
            "_view_name": "HBoxView",
            "box_style": "",
            "children": [
              "IPY_MODEL_00ee831927da4f1bb7164d62fdf2ac14",
              "IPY_MODEL_a8b1495db9b24d328d15a6a7c2bd9385",
              "IPY_MODEL_ba5fcd7bf8dc43b4a9842659bd8b34cd"
            ],
            "layout": "IPY_MODEL_83e22706e4c440a686bef48975376a0b"
          }
        },
        "00ee831927da4f1bb7164d62fdf2ac14": {
          "model_module": "@jupyter-widgets/controls",
          "model_name": "HTMLModel",
          "model_module_version": "1.5.0",
          "state": {
            "_dom_classes": [],
            "_model_module": "@jupyter-widgets/controls",
            "_model_module_version": "1.5.0",
            "_model_name": "HTMLModel",
            "_view_count": null,
            "_view_module": "@jupyter-widgets/controls",
            "_view_module_version": "1.5.0",
            "_view_name": "HTMLView",
            "description": "",
            "description_tooltip": null,
            "layout": "IPY_MODEL_11f67b1ee89d410a8f798097b15d9832",
            "placeholder": "​",
            "style": "IPY_MODEL_474b492368314816a9e84619d71c47fe",
            "value": "Shuffling /root/tensorflow_datasets/cifar10/3.0.2.incompleteSOLPUA/cifar10-test.tfrecord*...:   0%"
          }
        },
        "a8b1495db9b24d328d15a6a7c2bd9385": {
          "model_module": "@jupyter-widgets/controls",
          "model_name": "FloatProgressModel",
          "model_module_version": "1.5.0",
          "state": {
            "_dom_classes": [],
            "_model_module": "@jupyter-widgets/controls",
            "_model_module_version": "1.5.0",
            "_model_name": "FloatProgressModel",
            "_view_count": null,
            "_view_module": "@jupyter-widgets/controls",
            "_view_module_version": "1.5.0",
            "_view_name": "ProgressView",
            "bar_style": "",
            "description": "",
            "description_tooltip": null,
            "layout": "IPY_MODEL_6681cc8a66584faf9840a2581ab1d00b",
            "max": 10000,
            "min": 0,
            "orientation": "horizontal",
            "style": "IPY_MODEL_1df14b378de94e939a986a36f433d7d1",
            "value": 10000
          }
        },
        "ba5fcd7bf8dc43b4a9842659bd8b34cd": {
          "model_module": "@jupyter-widgets/controls",
          "model_name": "HTMLModel",
          "model_module_version": "1.5.0",
          "state": {
            "_dom_classes": [],
            "_model_module": "@jupyter-widgets/controls",
            "_model_module_version": "1.5.0",
            "_model_name": "HTMLModel",
            "_view_count": null,
            "_view_module": "@jupyter-widgets/controls",
            "_view_module_version": "1.5.0",
            "_view_name": "HTMLView",
            "description": "",
            "description_tooltip": null,
            "layout": "IPY_MODEL_f89253963685408d9e4ba2777c5fbb9c",
            "placeholder": "​",
            "style": "IPY_MODEL_fca37ac3fb1a4a819fdf5d9082327614",
            "value": " 0/10000 [00:00&lt;?, ? examples/s]"
          }
        },
        "83e22706e4c440a686bef48975376a0b": {
          "model_module": "@jupyter-widgets/base",
          "model_name": "LayoutModel",
          "model_module_version": "1.2.0",
          "state": {
            "_model_module": "@jupyter-widgets/base",
            "_model_module_version": "1.2.0",
            "_model_name": "LayoutModel",
            "_view_count": null,
            "_view_module": "@jupyter-widgets/base",
            "_view_module_version": "1.2.0",
            "_view_name": "LayoutView",
            "align_content": null,
            "align_items": null,
            "align_self": null,
            "border": null,
            "bottom": null,
            "display": null,
            "flex": null,
            "flex_flow": null,
            "grid_area": null,
            "grid_auto_columns": null,
            "grid_auto_flow": null,
            "grid_auto_rows": null,
            "grid_column": null,
            "grid_gap": null,
            "grid_row": null,
            "grid_template_areas": null,
            "grid_template_columns": null,
            "grid_template_rows": null,
            "height": null,
            "justify_content": null,
            "justify_items": null,
            "left": null,
            "margin": null,
            "max_height": null,
            "max_width": null,
            "min_height": null,
            "min_width": null,
            "object_fit": null,
            "object_position": null,
            "order": null,
            "overflow": null,
            "overflow_x": null,
            "overflow_y": null,
            "padding": null,
            "right": null,
            "top": null,
            "visibility": "hidden",
            "width": null
          }
        },
        "11f67b1ee89d410a8f798097b15d9832": {
          "model_module": "@jupyter-widgets/base",
          "model_name": "LayoutModel",
          "model_module_version": "1.2.0",
          "state": {
            "_model_module": "@jupyter-widgets/base",
            "_model_module_version": "1.2.0",
            "_model_name": "LayoutModel",
            "_view_count": null,
            "_view_module": "@jupyter-widgets/base",
            "_view_module_version": "1.2.0",
            "_view_name": "LayoutView",
            "align_content": null,
            "align_items": null,
            "align_self": null,
            "border": null,
            "bottom": null,
            "display": null,
            "flex": null,
            "flex_flow": null,
            "grid_area": null,
            "grid_auto_columns": null,
            "grid_auto_flow": null,
            "grid_auto_rows": null,
            "grid_column": null,
            "grid_gap": null,
            "grid_row": null,
            "grid_template_areas": null,
            "grid_template_columns": null,
            "grid_template_rows": null,
            "height": null,
            "justify_content": null,
            "justify_items": null,
            "left": null,
            "margin": null,
            "max_height": null,
            "max_width": null,
            "min_height": null,
            "min_width": null,
            "object_fit": null,
            "object_position": null,
            "order": null,
            "overflow": null,
            "overflow_x": null,
            "overflow_y": null,
            "padding": null,
            "right": null,
            "top": null,
            "visibility": null,
            "width": null
          }
        },
        "474b492368314816a9e84619d71c47fe": {
          "model_module": "@jupyter-widgets/controls",
          "model_name": "DescriptionStyleModel",
          "model_module_version": "1.5.0",
          "state": {
            "_model_module": "@jupyter-widgets/controls",
            "_model_module_version": "1.5.0",
            "_model_name": "DescriptionStyleModel",
            "_view_count": null,
            "_view_module": "@jupyter-widgets/base",
            "_view_module_version": "1.2.0",
            "_view_name": "StyleView",
            "description_width": ""
          }
        },
        "6681cc8a66584faf9840a2581ab1d00b": {
          "model_module": "@jupyter-widgets/base",
          "model_name": "LayoutModel",
          "model_module_version": "1.2.0",
          "state": {
            "_model_module": "@jupyter-widgets/base",
            "_model_module_version": "1.2.0",
            "_model_name": "LayoutModel",
            "_view_count": null,
            "_view_module": "@jupyter-widgets/base",
            "_view_module_version": "1.2.0",
            "_view_name": "LayoutView",
            "align_content": null,
            "align_items": null,
            "align_self": null,
            "border": null,
            "bottom": null,
            "display": null,
            "flex": null,
            "flex_flow": null,
            "grid_area": null,
            "grid_auto_columns": null,
            "grid_auto_flow": null,
            "grid_auto_rows": null,
            "grid_column": null,
            "grid_gap": null,
            "grid_row": null,
            "grid_template_areas": null,
            "grid_template_columns": null,
            "grid_template_rows": null,
            "height": null,
            "justify_content": null,
            "justify_items": null,
            "left": null,
            "margin": null,
            "max_height": null,
            "max_width": null,
            "min_height": null,
            "min_width": null,
            "object_fit": null,
            "object_position": null,
            "order": null,
            "overflow": null,
            "overflow_x": null,
            "overflow_y": null,
            "padding": null,
            "right": null,
            "top": null,
            "visibility": null,
            "width": null
          }
        },
        "1df14b378de94e939a986a36f433d7d1": {
          "model_module": "@jupyter-widgets/controls",
          "model_name": "ProgressStyleModel",
          "model_module_version": "1.5.0",
          "state": {
            "_model_module": "@jupyter-widgets/controls",
            "_model_module_version": "1.5.0",
            "_model_name": "ProgressStyleModel",
            "_view_count": null,
            "_view_module": "@jupyter-widgets/base",
            "_view_module_version": "1.2.0",
            "_view_name": "StyleView",
            "bar_color": null,
            "description_width": ""
          }
        },
        "f89253963685408d9e4ba2777c5fbb9c": {
          "model_module": "@jupyter-widgets/base",
          "model_name": "LayoutModel",
          "model_module_version": "1.2.0",
          "state": {
            "_model_module": "@jupyter-widgets/base",
            "_model_module_version": "1.2.0",
            "_model_name": "LayoutModel",
            "_view_count": null,
            "_view_module": "@jupyter-widgets/base",
            "_view_module_version": "1.2.0",
            "_view_name": "LayoutView",
            "align_content": null,
            "align_items": null,
            "align_self": null,
            "border": null,
            "bottom": null,
            "display": null,
            "flex": null,
            "flex_flow": null,
            "grid_area": null,
            "grid_auto_columns": null,
            "grid_auto_flow": null,
            "grid_auto_rows": null,
            "grid_column": null,
            "grid_gap": null,
            "grid_row": null,
            "grid_template_areas": null,
            "grid_template_columns": null,
            "grid_template_rows": null,
            "height": null,
            "justify_content": null,
            "justify_items": null,
            "left": null,
            "margin": null,
            "max_height": null,
            "max_width": null,
            "min_height": null,
            "min_width": null,
            "object_fit": null,
            "object_position": null,
            "order": null,
            "overflow": null,
            "overflow_x": null,
            "overflow_y": null,
            "padding": null,
            "right": null,
            "top": null,
            "visibility": null,
            "width": null
          }
        },
        "fca37ac3fb1a4a819fdf5d9082327614": {
          "model_module": "@jupyter-widgets/controls",
          "model_name": "DescriptionStyleModel",
          "model_module_version": "1.5.0",
          "state": {
            "_model_module": "@jupyter-widgets/controls",
            "_model_module_version": "1.5.0",
            "_model_name": "DescriptionStyleModel",
            "_view_count": null,
            "_view_module": "@jupyter-widgets/base",
            "_view_module_version": "1.2.0",
            "_view_name": "StyleView",
            "description_width": ""
          }
        }
      }
    },
    "accelerator": "GPU"
  },
  "cells": [
    {
      "cell_type": "markdown",
      "source": [
        "### Visual Attention Mechanism\n",
        "\n",
        "\n",
        "Reference:\n",
        "[EscVM_YT/Notebooks/0 - TF2.X Tutorials\n",
        "/tf_2_visual_attention.ipynb](https://github.com/EscVM/EscVM_YT/blob/master/Notebooks/0%20-%20TF2.X%20Tutorials/tf_2_visual_attention.ipynb)\n",
        "\n",
        "`Some parts of the code were modified and comment lines were added.`"
      ],
      "metadata": {
        "id": "JPOUKL_jFjsB"
      }
    },
    {
      "cell_type": "code",
      "execution_count": 1,
      "metadata": {
        "id": "h0gd5EtNdatU"
      },
      "outputs": [],
      "source": [
        "import tensorflow as tf\n",
        "import tensorflow_datasets as tfds\n",
        "import numpy as np\n",
        "import matplotlib.pyplot as plt"
      ]
    },
    {
      "cell_type": "code",
      "source": [
        "'''\n",
        "physical_devices = tf.config.experimental.list_physical_devices('GPU')\n",
        "\n",
        "try:\n",
        "  # Disable first GPU\n",
        "  tf.config.set_visible_devices(physical_devices[0:], 'GPU')\n",
        "  logical_devices = tf.config.list_logical_devices('GPU')\n",
        "  print(physical_devices)\n",
        "  # Logical device was not created for first GPU\n",
        "  assert len(logical_devices) == len(physical_devices) - 1\n",
        "  tf.config.experimental.set_memory_growth(physical_devices[0], True)\n",
        "except:\n",
        "  print(\"Invalid device or cannot modify virtual devices once initialized.\")\n",
        "  pass\n",
        "'''"
      ],
      "metadata": {
        "id": "JCFCy5XLirbh",
        "colab": {
          "base_uri": "https://localhost:8080/",
          "height": 105
        },
        "outputId": "15985450-fdf9-47ce-ccdc-3f8ea040613d"
      },
      "execution_count": 2,
      "outputs": [
        {
          "output_type": "execute_result",
          "data": {
            "text/plain": [
              "'\\nphysical_devices = tf.config.experimental.list_physical_devices(\\'GPU\\')\\n\\ntry:\\n  # Disable first GPU\\n  tf.config.set_visible_devices(physical_devices[0:], \\'GPU\\')\\n  logical_devices = tf.config.list_logical_devices(\\'GPU\\')\\n  print(physical_devices)\\n  # Logical device was not created for first GPU\\n  assert len(logical_devices) == len(physical_devices) - 1\\n  tf.config.experimental.set_memory_growth(physical_devices[0], True)\\nexcept:\\n  print(\"Invalid device or cannot modify virtual devices once initialized.\")\\n  pass\\n'"
            ],
            "application/vnd.google.colaboratory.intrinsic+json": {
              "type": "string"
            }
          },
          "metadata": {},
          "execution_count": 2
        }
      ]
    },
    {
      "cell_type": "markdown",
      "source": [
        "![](https://raw.githubusercontent.com/EscVM/EscVM_YT/fd7f3f0798d40c3097690133778df82b26a0d96d/Notebooks/0%20-%20TF2.X%20Tutorials/media/tf_tutorial_2/yoshua_paper_results.png)\n",
        "\n",
        "Reference: [Neural Machine Translation by Jointly Learning to Align and Translate\n",
        "](https://arxiv.org/abs/1409.0473)"
      ],
      "metadata": {
        "id": "HGocXNhBy-cX"
      }
    },
    {
      "cell_type": "markdown",
      "source": [
        "![](https://raw.githubusercontent.com/EscVM/EscVM_YT/fd7f3f0798d40c3097690133778df82b26a0d96d/Notebooks/0%20-%20TF2.X%20Tutorials/media/tf_tutorial_2/attention_examples.png)\n",
        "\n",
        "Reference:\n",
        "[Show, Attend and Tell: Neural Image Caption Generation with Visual Attention](https://arxiv.org/abs/1502.03044)"
      ],
      "metadata": {
        "id": "pM01V4IBzVxP"
      }
    },
    {
      "cell_type": "markdown",
      "source": [
        "![](https://raw.githubusercontent.com/EscVM/EscVM_YT/fd7f3f0798d40c3097690133778df82b26a0d96d/Notebooks/0%20-%20TF2.X%20Tutorials/media/tf_tutorial_2/se_example_2.png)\n",
        "\n",
        "Reference:\n",
        "[Squeeze-and-Excitation Networks](https://arxiv.org/abs/1709.01507)"
      ],
      "metadata": {
        "id": "RjDPiQ56zfS2"
      }
    },
    {
      "cell_type": "markdown",
      "source": [
        "![](https://raw.githubusercontent.com/EscVM/EscVM_YT/fd7f3f0798d40c3097690133778df82b26a0d96d/Notebooks/0%20-%20TF2.X%20Tutorials/media/tf_tutorial_2/cbam_example_1.png)\n",
        "\n",
        "![](https://raw.githubusercontent.com/EscVM/EscVM_YT/fd7f3f0798d40c3097690133778df82b26a0d96d/Notebooks/0%20-%20TF2.X%20Tutorials/media/tf_tutorial_2/cbam_example_2.png)\n",
        "\n",
        "Reference:\n",
        "[CBAM: Convolutional Block Attention Module](https://arxiv.org/abs/1807.06521)"
      ],
      "metadata": {
        "id": "EF4c8cZAzwA_"
      }
    },
    {
      "cell_type": "code",
      "source": [
        "import os\n",
        "\n",
        "os.makedirs('utils/', exist_ok=True)\n",
        "os.chdir('utils')\n",
        "\n",
        "! wget -q https://raw.githubusercontent.com/Ata-Pab/Machine_Learning/master/utils/models.py\n",
        "! wget -q https://raw.githubusercontent.com/Ata-Pab/Machine_Learning/master/utils/losses.py\n",
        "! wget -q https://raw.githubusercontent.com/Ata-Pab/Machine_Learning/master/utils/vision.py\n",
        "! wget -q https://raw.githubusercontent.com/Ata-Pab/Machine_Learning/master/utils/callbacks.py\n",
        "! wget -q https://raw.githubusercontent.com/Ata-Pab/Machine_Learning/master/utils/utils.py\n",
        "! wget -q https://raw.githubusercontent.com/Ata-Pab/Machine_Learning/master/utils/attention_modules.py\n",
        "\n",
        "os.chdir('/content')\n",
        "print(\"Current working directory\", os.getcwd())"
      ],
      "metadata": {
        "colab": {
          "base_uri": "https://localhost:8080/"
        },
        "id": "SwCe8hhpq2Wp",
        "outputId": "8569eb97-d7c8-40d4-b7bd-862059f310cd"
      },
      "execution_count": 3,
      "outputs": [
        {
          "output_type": "stream",
          "name": "stdout",
          "text": [
            "Current working directory /content\n"
          ]
        }
      ]
    },
    {
      "cell_type": "code",
      "source": [
        "from utils import vision\n",
        "from utils import utils\n",
        "from utils import losses\n",
        "from utils.attention_modules import Conv2DLayerBN, Conv2DLayerRes, ChannelGate, SpatialGate, CBAM"
      ],
      "metadata": {
        "id": "vOhZ6nS6q9Dd"
      },
      "execution_count": 4,
      "outputs": []
    },
    {
      "cell_type": "code",
      "source": [
        "experiment = {\n",
        "    'IMAGE_SIZE': (32, 32),\n",
        "    'INPUT_SHAPE': (32, 32, 3),\n",
        "\n",
        "    'ACCELERATOR': 'GPU',  # Or 'TPU'\n",
        "\n",
        "    'BATCH_SIZE': 32,\n",
        "    'EPOCHS': 20,\n",
        "    'AUTOTUNE': tf.data.experimental.AUTOTUNE,\n",
        "    'OPTIMIZER': 'Adam',  # TODO: Try 'rmsprop' optimizer\n",
        "    'LEARNING_RATE': 0.0001,  # 1e-4\n",
        "\n",
        "    # Record directory of model's trained weights\n",
        "    'TRAINING_WEIGHT_DIR': \"tf_visual_attention_mechanism/training_weights\",\n",
        "    # Record directory of generated images\n",
        "    'IMGS_DIR': \"tf_visual_attention_mechanism/images\",\n",
        "}"
      ],
      "metadata": {
        "id": "6PnKIOVi4iF7"
      },
      "execution_count": 5,
      "outputs": []
    },
    {
      "cell_type": "markdown",
      "source": [
        "### Build a Model"
      ],
      "metadata": {
        "id": "iT-xiiVd6FX-"
      }
    },
    {
      "cell_type": "code",
      "source": [
        "(ds_train, ds_test), ds_info = tfds.load('cifar10', split=['train', 'test'],\n",
        "                                      shuffle_files=True, as_supervised=True,\n",
        "                                      with_info=True)"
      ],
      "metadata": {
        "id": "18Mxuh-I5RDC",
        "colab": {
          "base_uri": "https://localhost:8080/",
          "height": 168,
          "referenced_widgets": [
            "04d720c347d84858be2e32cf2924fc18",
            "4ef2a3f515b848fa87475ec16ce95f34",
            "d348d4b3cdef43f38a513def89f3dc8e",
            "ffc3f77ef71f4fd492a1a42b679765f8",
            "76a6ab757787419badbcb90df730e484",
            "0e906c17addc4d5aa04f7cb1309667a3",
            "72b8689917954abf9ce0f69b8fc2eb95",
            "bf7c1315b4584cc59ab1c808f3c84502",
            "3dd5f453615f427ca285be23670eafa5",
            "e7d3685190d748ab934b7ae56d32841a",
            "9d2b451c91614e6095dc0886f09f3542",
            "af8f43ae64484b578f5ec8d36fddff3f",
            "25c3ef231e54448ab0727c4aa21457f9",
            "d8f8ec2d98a5470bb7348a07fb02e399",
            "c4082e24a6904ab4a372f5f35cace9f9",
            "d62d613fffb64d168d91a78dc7cc6c88",
            "d46df9022bd244d38ff9f8a76e6c6efb",
            "dee4493f0e694b62b3d6914b152b0a4d",
            "6c4d449bd93d424485d08ac146816211",
            "88739e903f604f4e88c14ca0f2259da6",
            "7f855487ba9b482a986dad9cbada3c6a",
            "bd9dc861d8674637a0af26d2d1d2f8f8",
            "b7350a1ec7d3446f9eae568d1744096f",
            "5fc3c151549c462ea9754519d4b4ee1a",
            "0aff4ecf910d4a0a880441ac98a6355a",
            "8392f240a7ee474ca409550eced67697",
            "19f5aad5176e4fc9bea7dc3fdc8fd7a6",
            "e85a1321b10b4075813b56a4ee794260",
            "3b013ed9bff04722827238377cc85dc8",
            "243f11ca74974df7ab062e0aaa1639f0",
            "338cdf5916e74282a3a811d9aeee7549",
            "4973105c403548f5a5b2a5d5a8b7cecd",
            "803c831e54714526a116c59cc14e1040",
            "7a7fbd47458241899c44023d1329f09b",
            "e2b216584ae948db9e7cd80202999ac7",
            "42ed783678be45879d0126c7b6b29210",
            "99839a5526104e5a8a0f738e35d6750a",
            "dd14978a6112431dad685d57ed34341e",
            "027a3e9ff71a4ce39e395847a713c280",
            "f0b5b6da293049449f4c66977cacb7b2",
            "9c4bbfa8675645149aeab03f84b76ad9",
            "9605abffbfaf46379ba3473c7a64e224",
            "5f02a3e4d5874e27bfc79dcf15a170b8",
            "313d22d10a9c4cdb9d09b8ea70ca90c0",
            "89268751a76a41b9ac5eed20d2ec871e",
            "24020fcc510b46879bce4471595bc470",
            "2f6d7698a7d04c16963376d5ac5cb669",
            "c3882abfcfbe4c11bc3af416b298cecf",
            "8cd1e376fde54321aed95fa58f711dd3",
            "f7879f9fae3f41a5a831576f2eb36439",
            "5c9f024698f041219857310b0ad40a53",
            "40d044eb0d534a6cb5faea978567658b",
            "39dd573931354943a87ac805476da876",
            "5352362a93144b389a1b29b99273a7b4",
            "36da705d60f34ca8969ebcb094a768b4",
            "96248dd0048740d2a52551756a8c6f67",
            "86b4b31da7984082b730c0b9e2c79d14",
            "0ba250a153c7459583c3f7a5c34c6b4f",
            "3a6340dcc4bc4c3d9c8bf86eb3ab0bbf",
            "e69f97cb32a642d99044b031d0b428f3",
            "7b76458a0ceb411db6fd977d107c13a7",
            "de9d6a5018364bc1ba44ac9404c98a08",
            "52d2e0993da44035b47de494a6bdc1bc",
            "1de94f6b057c4bcb8a230e835c153a00",
            "0e61add3ef9b483ca1390db33c3f653e",
            "ffaa96c8cfb945499d5a220c625e9dea",
            "5c4a7fdc9e7a4e008d8111d545f5eeca",
            "808b506766f1404d9b66759b1b0e5f08",
            "bd5a97cff6ab4e3a816d0bc926533d7f",
            "7841724f29ec4436a7ee4adabc396e17",
            "490238ca6df94f13aab1b3f2adaa96c1",
            "19cf2d90f64a410ebb8a38dd9a2f1bcc",
            "9e8d23eeaf82412d9841f87bc423b809",
            "e5174ef710444299a8310e339cffe3f9",
            "4970f2669e464e45a9ebf675019c97d1",
            "4c1c9521f6e3480db5ef956c38093f85",
            "01494b3887fd4dcb9b2f24c4da836f22",
            "839a9e730ca946daa62ea921310976ed",
            "00ee831927da4f1bb7164d62fdf2ac14",
            "a8b1495db9b24d328d15a6a7c2bd9385",
            "ba5fcd7bf8dc43b4a9842659bd8b34cd",
            "83e22706e4c440a686bef48975376a0b",
            "11f67b1ee89d410a8f798097b15d9832",
            "474b492368314816a9e84619d71c47fe",
            "6681cc8a66584faf9840a2581ab1d00b",
            "1df14b378de94e939a986a36f433d7d1",
            "f89253963685408d9e4ba2777c5fbb9c",
            "fca37ac3fb1a4a819fdf5d9082327614"
          ]
        },
        "outputId": "36c0b43a-16b9-41f0-b553-166d314e548e"
      },
      "execution_count": 6,
      "outputs": [
        {
          "output_type": "stream",
          "name": "stdout",
          "text": [
            "Downloading and preparing dataset 162.17 MiB (download: 162.17 MiB, generated: 132.40 MiB, total: 294.58 MiB) to /root/tensorflow_datasets/cifar10/3.0.2...\n"
          ]
        },
        {
          "output_type": "display_data",
          "data": {
            "text/plain": [
              "Dl Completed...: 0 url [00:00, ? url/s]"
            ],
            "application/vnd.jupyter.widget-view+json": {
              "version_major": 2,
              "version_minor": 0,
              "model_id": "04d720c347d84858be2e32cf2924fc18"
            }
          },
          "metadata": {}
        },
        {
          "output_type": "display_data",
          "data": {
            "text/plain": [
              "Dl Size...: 0 MiB [00:00, ? MiB/s]"
            ],
            "application/vnd.jupyter.widget-view+json": {
              "version_major": 2,
              "version_minor": 0,
              "model_id": "af8f43ae64484b578f5ec8d36fddff3f"
            }
          },
          "metadata": {}
        },
        {
          "output_type": "display_data",
          "data": {
            "text/plain": [
              "Extraction completed...: 0 file [00:00, ? file/s]"
            ],
            "application/vnd.jupyter.widget-view+json": {
              "version_major": 2,
              "version_minor": 0,
              "model_id": "b7350a1ec7d3446f9eae568d1744096f"
            }
          },
          "metadata": {}
        },
        {
          "output_type": "display_data",
          "data": {
            "text/plain": [
              "Generating splits...:   0%|          | 0/2 [00:00<?, ? splits/s]"
            ],
            "application/vnd.jupyter.widget-view+json": {
              "version_major": 2,
              "version_minor": 0,
              "model_id": "7a7fbd47458241899c44023d1329f09b"
            }
          },
          "metadata": {}
        },
        {
          "output_type": "display_data",
          "data": {
            "text/plain": [
              "Generating train examples...:   0%|          | 0/50000 [00:00<?, ? examples/s]"
            ],
            "application/vnd.jupyter.widget-view+json": {
              "version_major": 2,
              "version_minor": 0,
              "model_id": "89268751a76a41b9ac5eed20d2ec871e"
            }
          },
          "metadata": {}
        },
        {
          "output_type": "display_data",
          "data": {
            "text/plain": [
              "Shuffling /root/tensorflow_datasets/cifar10/3.0.2.incompleteSOLPUA/cifar10-train.tfrecord*...:   0%|          …"
            ],
            "application/vnd.jupyter.widget-view+json": {
              "version_major": 2,
              "version_minor": 0,
              "model_id": "96248dd0048740d2a52551756a8c6f67"
            }
          },
          "metadata": {}
        },
        {
          "output_type": "display_data",
          "data": {
            "text/plain": [
              "Generating test examples...:   0%|          | 0/10000 [00:00<?, ? examples/s]"
            ],
            "application/vnd.jupyter.widget-view+json": {
              "version_major": 2,
              "version_minor": 0,
              "model_id": "5c4a7fdc9e7a4e008d8111d545f5eeca"
            }
          },
          "metadata": {}
        },
        {
          "output_type": "display_data",
          "data": {
            "text/plain": [
              "Shuffling /root/tensorflow_datasets/cifar10/3.0.2.incompleteSOLPUA/cifar10-test.tfrecord*...:   0%|          |…"
            ],
            "application/vnd.jupyter.widget-view+json": {
              "version_major": 2,
              "version_minor": 0,
              "model_id": "839a9e730ca946daa62ea921310976ed"
            }
          },
          "metadata": {}
        },
        {
          "output_type": "stream",
          "name": "stdout",
          "text": [
            "Dataset cifar10 downloaded and prepared to /root/tensorflow_datasets/cifar10/3.0.2. Subsequent calls will reuse this data.\n"
          ]
        }
      ]
    },
    {
      "cell_type": "code",
      "source": [
        "ds_info"
      ],
      "metadata": {
        "id": "mtqfkbzjirTz",
        "colab": {
          "base_uri": "https://localhost:8080/"
        },
        "outputId": "591a3828-18cf-4493-a8c7-5dab8a0d1fee"
      },
      "execution_count": 7,
      "outputs": [
        {
          "output_type": "execute_result",
          "data": {
            "text/plain": [
              "tfds.core.DatasetInfo(\n",
              "    name='cifar10',\n",
              "    full_name='cifar10/3.0.2',\n",
              "    description=\"\"\"\n",
              "    The CIFAR-10 dataset consists of 60000 32x32 colour images in 10 classes, with 6000 images per class. There are 50000 training images and 10000 test images.\n",
              "    \"\"\",\n",
              "    homepage='https://www.cs.toronto.edu/~kriz/cifar.html',\n",
              "    data_dir=PosixGPath('/tmp/tmpzo58djnytfds'),\n",
              "    file_format=tfrecord,\n",
              "    download_size=162.17 MiB,\n",
              "    dataset_size=132.40 MiB,\n",
              "    features=FeaturesDict({\n",
              "        'id': Text(shape=(), dtype=string),\n",
              "        'image': Image(shape=(32, 32, 3), dtype=uint8),\n",
              "        'label': ClassLabel(shape=(), dtype=int64, num_classes=10),\n",
              "    }),\n",
              "    supervised_keys=('image', 'label'),\n",
              "    disable_shuffling=False,\n",
              "    splits={\n",
              "        'test': <SplitInfo num_examples=10000, num_shards=1>,\n",
              "        'train': <SplitInfo num_examples=50000, num_shards=1>,\n",
              "    },\n",
              "    citation=\"\"\"@TECHREPORT{Krizhevsky09learningmultiple,\n",
              "        author = {Alex Krizhevsky},\n",
              "        title = {Learning multiple layers of features from tiny images},\n",
              "        institution = {},\n",
              "        year = {2009}\n",
              "    }\"\"\",\n",
              ")"
            ]
          },
          "metadata": {},
          "execution_count": 7
        }
      ]
    },
    {
      "cell_type": "code",
      "source": [
        "ds_train"
      ],
      "metadata": {
        "colab": {
          "base_uri": "https://localhost:8080/"
        },
        "id": "2cegqBEG7qFN",
        "outputId": "6d2f7ef0-3483-47f3-ebbe-35c380ebb77a"
      },
      "execution_count": 8,
      "outputs": [
        {
          "output_type": "execute_result",
          "data": {
            "text/plain": [
              "<_PrefetchDataset element_spec=(TensorSpec(shape=(32, 32, 3), dtype=tf.uint8, name=None), TensorSpec(shape=(), dtype=tf.int64, name=None))>"
            ]
          },
          "metadata": {},
          "execution_count": 8
        }
      ]
    },
    {
      "cell_type": "code",
      "source": [
        "ds_info.features['label'].names"
      ],
      "metadata": {
        "id": "yuIIzY_BirRF",
        "colab": {
          "base_uri": "https://localhost:8080/"
        },
        "outputId": "a873ec2e-00fd-46f6-9cdf-0769c782039e"
      },
      "execution_count": 9,
      "outputs": [
        {
          "output_type": "execute_result",
          "data": {
            "text/plain": [
              "['airplane',\n",
              " 'automobile',\n",
              " 'bird',\n",
              " 'cat',\n",
              " 'deer',\n",
              " 'dog',\n",
              " 'frog',\n",
              " 'horse',\n",
              " 'ship',\n",
              " 'truck']"
            ]
          },
          "metadata": {},
          "execution_count": 9
        }
      ]
    },
    {
      "cell_type": "code",
      "source": [
        "def visualize_images(image_batch):\n",
        "  index = 0\n",
        "  for image, label in image_batch.take(10):\n",
        "    plt.subplot(2, 5, index + 1)\n",
        "    index += 1\n",
        "    plt.imshow(image[:])\n",
        "    plt.axis('off')\n",
        "  plt.tight_layout()\n",
        "  plt.show()"
      ],
      "metadata": {
        "id": "TxWuW0A2DwhD"
      },
      "execution_count": 10,
      "outputs": []
    },
    {
      "cell_type": "code",
      "source": [
        "visualize_images(ds_train)"
      ],
      "metadata": {
        "id": "_mg1WNhBirOd",
        "colab": {
          "base_uri": "https://localhost:8080/",
          "height": 338
        },
        "outputId": "ef13624c-88d6-451b-da7c-d6359c58cc9e"
      },
      "execution_count": 11,
      "outputs": [
        {
          "output_type": "display_data",
          "data": {
            "text/plain": [
              "<Figure size 640x480 with 10 Axes>"
            ],
            "image/png": "[encoded data removed]"
          },
          "metadata": {}
        }
      ]
    },
    {
      "cell_type": "code",
      "source": [
        "def normalize(image, label):\n",
        "  return tf.cast(image, tf.float32) / 255.0, label"
      ],
      "metadata": {
        "id": "7bxGI_4JirL-"
      },
      "execution_count": 12,
      "outputs": []
    },
    {
      "cell_type": "markdown",
      "source": [
        "### Prepare Dataset"
      ],
      "metadata": {
        "id": "k0Spa04Z6Ty5"
      }
    },
    {
      "cell_type": "code",
      "source": [
        "ds_train = ds_train.map(normalize, num_parallel_calls=experiment['AUTOTUNE'])\n",
        "ds_train = ds_train.cache().shuffle(ds_info.splits['train'].num_examples).batch(experiment['BATCH_SIZE']).prefetch(experiment['AUTOTUNE'])"
      ],
      "metadata": {
        "id": "89eExiTdEmVe"
      },
      "execution_count": 13,
      "outputs": []
    },
    {
      "cell_type": "code",
      "source": [
        "ds_test = ds_test.map(normalize, num_parallel_calls=experiment['AUTOTUNE'])\n",
        "ds_test = ds_test.cache().batch(experiment['BATCH_SIZE']).prefetch(experiment['AUTOTUNE'])"
      ],
      "metadata": {
        "id": "pPiyuav9EmTN"
      },
      "execution_count": 14,
      "outputs": []
    },
    {
      "cell_type": "markdown",
      "source": [
        "### Build a Network without Attention"
      ],
      "metadata": {
        "id": "1cQdOtEVKb-7"
      }
    },
    {
      "cell_type": "code",
      "source": [
        "def get_cnn_model_without_attention(verbose=0):\n",
        "    input = tf.keras.layers.Input(shape=ds_info.features['image'].shape, name='Input_Layer')\n",
        "    x = Conv2DLayerBN(32, 3, strides=1, padding=\"same\", act_end='relu')(input)\n",
        "    x = Conv2DLayerBN(32, 3, strides=1, padding=\"same\", act_end='relu')(x)\n",
        "    x = tf.keras.layers.MaxPooling2D(pool_size=(2, 2))(x)\n",
        "\n",
        "    x = Conv2DLayerBN(64, 3, strides=1, padding=\"same\", act_end='relu')(x)\n",
        "    x = Conv2DLayerBN(64, 3, strides=1, padding=\"same\", act_end='relu')(x)\n",
        "    x = tf.keras.layers.MaxPooling2D(pool_size=(2, 2))(x)\n",
        "\n",
        "    x = Conv2DLayerBN(128, 3, strides=1, padding=\"same\", act_end='relu')(x)\n",
        "    x = tf.keras.layers.Conv2D(128, 3, padding='same', activation='relu')(x)\n",
        "    # No batch normalization after last Conv block\n",
        "\n",
        "    x = tf.keras.layers.GlobalAveragePooling2D()(x)\n",
        "\n",
        "    output = tf.keras.layers.Dense(ds_info.features['label'].num_classes,\n",
        "                              activation='softmax' )(x)\n",
        "\n",
        "    model = tf.keras.Model(inputs=input, outputs=output)\n",
        "\n",
        "    if verbose > 0:  model.summary()\n",
        "    return model"
      ],
      "metadata": {
        "id": "u8t7ki2xEmQ7"
      },
      "execution_count": 15,
      "outputs": []
    },
    {
      "cell_type": "code",
      "source": [
        "'''\n",
        "# Equivalent code using Sequential API\n",
        "def get_cnn_model_without_attention(verbose=0):\n",
        "    model = tf.keras.models.Sequential([\n",
        "        Conv2DLayerBN(32, 3, input_shape=ds_info.features['image'].shape,\n",
        "                      act_end='relu', padding='same', batch_norm=True),\n",
        "        Conv2DLayerBN(32, 3, padding='same', act_end='relu', batch_norm=True),\n",
        "        tf.keras.layers.MaxPooling2D(pool_size=(2, 2)),\n",
        "        Conv2DLayerBN(64, 3, padding='same', act_end='relu', batch_norm=True),\n",
        "        Conv2DLayerBN(64, 3, padding='same', act_end='relu', batch_norm=True),\n",
        "        tf.keras.layers.MaxPooling2D(pool_size=(2, 2)),\n",
        "        Conv2DLayerBN(128, 3, padding='same', act_end='relu', batch_norm=True),\n",
        "        tf.keras.layers.Conv2D(128, 3, padding='same', activation='relu'),\n",
        "        tf.keras.layers.GlobalAveragePooling2D(),\n",
        "        tf.keras.layers.Dense(ds_info.features['label'].num_classes, activation='softmax' )\n",
        "    ])\n",
        "\n",
        "    if verbose > 0:  model.summary()\n",
        "    return model\n",
        "'''"
      ],
      "metadata": {
        "colab": {
          "base_uri": "https://localhost:8080/",
          "height": 192
        },
        "id": "AbpZikkthpCU",
        "outputId": "d02163fd-5c5c-48f0-aeca-1d00540138bb"
      },
      "execution_count": 16,
      "outputs": [
        {
          "output_type": "execute_result",
          "data": {
            "text/plain": [
              "\"\\n# Equivalent code using Sequential API\\ndef get_cnn_model_without_attention(verbose=0):\\n    model = tf.keras.models.Sequential([\\n        Conv2DLayerBN(32, 3, input_shape=ds_info.features['image'].shape,\\n                      act_end='relu', padding='same', batch_norm=True),\\n        Conv2DLayerBN(32, 3, padding='same', act_end='relu', batch_norm=True),\\n        tf.keras.layers.MaxPooling2D(pool_size=(2, 2)),\\n        Conv2DLayerBN(64, 3, padding='same', act_end='relu', batch_norm=True),\\n        Conv2DLayerBN(64, 3, padding='same', act_end='relu', batch_norm=True),\\n        tf.keras.layers.MaxPooling2D(pool_size=(2, 2)),\\n        Conv2DLayerBN(128, 3, padding='same', act_end='relu', batch_norm=True),\\n        tf.keras.layers.Conv2D(128, 3, padding='same', activation='relu'),\\n        tf.keras.layers.GlobalAveragePooling2D(),\\n        tf.keras.layers.Dense(ds_info.features['label'].num_classes, activation='softmax' )\\n    ])\\n\\n    if verbose > 0:  model.summary()\\n    return model\\n\""
            ],
            "application/vnd.google.colaboratory.intrinsic+json": {
              "type": "string"
            }
          },
          "metadata": {},
          "execution_count": 16
        }
      ]
    },
    {
      "cell_type": "code",
      "source": [
        "simple_cnn_no_attention = get_cnn_model_without_attention(verbose=1)"
      ],
      "metadata": {
        "colab": {
          "base_uri": "https://localhost:8080/"
        },
        "id": "2xZONG1eEmOf",
        "outputId": "536ec466-b7e0-4cfb-d522-b8f3a7b1b230"
      },
      "execution_count": 17,
      "outputs": [
        {
          "output_type": "stream",
          "name": "stdout",
          "text": [
            "Model: \"model\"\n",
            "_________________________________________________________________\n",
            " Layer (type)                Output Shape              Param #   \n",
            "=================================================================\n",
            " Input_Layer (InputLayer)    [(None, 32, 32, 3)]       0         \n",
            "                                                                 \n",
            " conv2d_layer_bn (Conv2DLay  (None, 32, 32, 32)        1024      \n",
            " erBN)                                                           \n",
            "                                                                 \n",
            " conv2d_layer_bn_1 (Conv2DL  (None, 32, 32, 32)        9376      \n",
            " ayerBN)                                                         \n",
            "                                                                 \n",
            " max_pooling2d (MaxPooling2  (None, 16, 16, 32)        0         \n",
            " D)                                                              \n",
            "                                                                 \n",
            " conv2d_layer_bn_2 (Conv2DL  (None, 16, 16, 64)        18752     \n",
            " ayerBN)                                                         \n",
            "                                                                 \n",
            " conv2d_layer_bn_3 (Conv2DL  (None, 16, 16, 64)        37184     \n",
            " ayerBN)                                                         \n",
            "                                                                 \n",
            " max_pooling2d_1 (MaxPoolin  (None, 8, 8, 64)          0         \n",
            " g2D)                                                            \n",
            "                                                                 \n",
            " conv2d_layer_bn_4 (Conv2DL  (None, 8, 8, 128)         74368     \n",
            " ayerBN)                                                         \n",
            "                                                                 \n",
            " conv2d (Conv2D)             (None, 8, 8, 128)         147584    \n",
            "                                                                 \n",
            " global_average_pooling2d (  (None, 128)               0         \n",
            " GlobalAveragePooling2D)                                         \n",
            "                                                                 \n",
            " dense (Dense)               (None, 10)                1290      \n",
            "                                                                 \n",
            "=================================================================\n",
            "Total params: 289578 (1.10 MB)\n",
            "Trainable params: 288938 (1.10 MB)\n",
            "Non-trainable params: 640 (2.50 KB)\n",
            "_________________________________________________________________\n"
          ]
        }
      ]
    },
    {
      "cell_type": "code",
      "source": [
        "optimizer = tf.keras.optimizers.Adam(0.001)"
      ],
      "metadata": {
        "id": "T5Eu0vbuLaE7"
      },
      "execution_count": null,
      "outputs": []
    },
    {
      "cell_type": "code",
      "source": [
        "simple_cnn_no_attention.compile(\n",
        "    loss='sparse_categorical_crossentropy',\n",
        "    optimizer=optimizer,\n",
        "    metrics=['accuracy'],\n",
        ")"
      ],
      "metadata": {
        "id": "oXTFfPXvEmMO"
      },
      "execution_count": null,
      "outputs": []
    },
    {
      "cell_type": "code",
      "source": [
        "model_hist = simple_cnn_no_attention.fit(ds_train, epochs=experiment['EPOCHS'])"
      ],
      "metadata": {
        "colab": {
          "base_uri": "https://localhost:8080/"
        },
        "id": "_kxJFYa9LZce",
        "outputId": "e9a622dc-7a81-4c3c-b080-ec90e02f47b5"
      },
      "execution_count": null,
      "outputs": [
        {
          "output_type": "stream",
          "name": "stdout",
          "text": [
            "Epoch 1/20\n",
            "1563/1563 [==============================] - 18s 8ms/step - loss: 1.2241 - accuracy: 0.5587\n",
            "Epoch 2/20\n",
            "1563/1563 [==============================] - 13s 8ms/step - loss: 0.7818 - accuracy: 0.7286\n",
            "Epoch 3/20\n",
            "1563/1563 [==============================] - 13s 8ms/step - loss: 0.6239 - accuracy: 0.7825\n",
            "Epoch 4/20\n",
            "1563/1563 [==============================] - 13s 8ms/step - loss: 0.5203 - accuracy: 0.8205\n",
            "Epoch 5/20\n",
            "1563/1563 [==============================] - 13s 8ms/step - loss: 0.4454 - accuracy: 0.8456\n",
            "Epoch 6/20\n",
            "1563/1563 [==============================] - 12s 8ms/step - loss: 0.3761 - accuracy: 0.8702\n",
            "Epoch 7/20\n",
            "1563/1563 [==============================] - 12s 8ms/step - loss: 0.3301 - accuracy: 0.8844\n",
            "Epoch 8/20\n",
            "1563/1563 [==============================] - 13s 8ms/step - loss: 0.2774 - accuracy: 0.9032\n",
            "Epoch 9/20\n",
            "1563/1563 [==============================] - 12s 8ms/step - loss: 0.2401 - accuracy: 0.9158\n",
            "Epoch 10/20\n",
            "1563/1563 [==============================] - 12s 8ms/step - loss: 0.2071 - accuracy: 0.9259\n",
            "Epoch 11/20\n",
            "1563/1563 [==============================] - 12s 8ms/step - loss: 0.1800 - accuracy: 0.9363\n",
            "Epoch 12/20\n",
            "1563/1563 [==============================] - 13s 8ms/step - loss: 0.1552 - accuracy: 0.9451\n",
            "Epoch 13/20\n",
            "1563/1563 [==============================] - 12s 8ms/step - loss: 0.1404 - accuracy: 0.9497\n",
            "Epoch 14/20\n",
            "1563/1563 [==============================] - 13s 8ms/step - loss: 0.1181 - accuracy: 0.9582\n",
            "Epoch 15/20\n",
            "1563/1563 [==============================] - 12s 8ms/step - loss: 0.1141 - accuracy: 0.9588\n",
            "Epoch 16/20\n",
            "1563/1563 [==============================] - 13s 8ms/step - loss: 0.1024 - accuracy: 0.9635\n",
            "Epoch 17/20\n",
            "1563/1563 [==============================] - 12s 8ms/step - loss: 0.0895 - accuracy: 0.9686\n",
            "Epoch 18/20\n",
            "1563/1563 [==============================] - 13s 8ms/step - loss: 0.0832 - accuracy: 0.9708\n",
            "Epoch 19/20\n",
            "1563/1563 [==============================] - 13s 8ms/step - loss: 0.0834 - accuracy: 0.9705\n",
            "Epoch 20/20\n",
            "1563/1563 [==============================] - 13s 8ms/step - loss: 0.0715 - accuracy: 0.9753\n"
          ]
        }
      ]
    },
    {
      "cell_type": "code",
      "source": [
        "import pandas as pd\n",
        "\n",
        "pd.DataFrame(model_hist.history).plot(figsize=(8, 5))\n",
        "plt.grid(True)\n",
        "plt.gca().set_ylim(0, 1.5)\n",
        "plt.show()"
      ],
      "metadata": {
        "colab": {
          "base_uri": "https://localhost:8080/",
          "height": 445
        },
        "id": "2ruzfexeLwPi",
        "outputId": "23e83b7b-62b4-4e2c-8286-89cebea964a0"
      },
      "execution_count": null,
      "outputs": [
        {
          "output_type": "display_data",
          "data": {
            "text/plain": [
              "<Figure size 800x500 with 1 Axes>"
            ],
            "image/png": "[encoded data removed]"
          },
          "metadata": {}
        }
      ]
    },
    {
      "cell_type": "code",
      "source": [
        "print(f\"Test accuracy: {simple_cnn_no_attention.evaluate(ds_test)[1]}\")"
      ],
      "metadata": {
        "colab": {
          "base_uri": "https://localhost:8080/"
        },
        "id": "tqlTgb_HLZXX",
        "outputId": "5ade0797-4139-4199-ccb4-2be37300a483"
      },
      "execution_count": null,
      "outputs": [
        {
          "output_type": "stream",
          "name": "stdout",
          "text": [
            "313/313 [==============================] - 3s 10ms/step - loss: 1.1100 - accuracy: 0.7842\n",
            "Test accuracy: 0.7842000126838684\n"
          ]
        }
      ]
    },
    {
      "cell_type": "markdown",
      "source": [
        "### Build a Network with Attention"
      ],
      "metadata": {
        "id": "DZOTCGqeLlTH"
      }
    },
    {
      "cell_type": "code",
      "source": [
        "def get_cnn_model_with_attention_block(verbose=0):\n",
        "    input = tf.keras.layers.Input(shape=ds_info.features['image'].shape, name='Input_Layer')\n",
        "    x = Conv2DLayerRes(32, 3, strides=1, padding=\"same\", act_end='relu')(input)\n",
        "    x = Conv2DLayerRes(32, 3, strides=1, padding=\"same\", act_end='relu')(x)\n",
        "\n",
        "    #x = CBAM(gate_channels=32, reduction_ratio=8)(x)\n",
        "    x = x + tf.keras.layers.Attention()([x,x])\n",
        "    # Equivalent code of CBAM (Convolutional Block Attention Module)\n",
        "    # x = ChannelGate(32, 8)(x)\n",
        "    # x = SpatialGate(7)(x)\n",
        "\n",
        "    x = tf.keras.layers.MaxPooling2D(pool_size=(2, 2))(x)\n",
        "\n",
        "    x = Conv2DLayerRes(64, 3, strides=1, padding=\"same\", act_end='relu')(x)\n",
        "    x = Conv2DLayerRes(64, 3, strides=1, padding=\"same\", act_end='relu')(x)\n",
        "\n",
        "    #x = CBAM(gate_channels=64, reduction_ratio=8)(x)\n",
        "    x = x + tf.keras.layers.Attention()([x,x])\n",
        "\n",
        "    x = tf.keras.layers.MaxPooling2D(pool_size=(2, 2))(x)\n",
        "\n",
        "    x = Conv2DLayerRes(128, 3, strides=1, padding=\"same\", act_end='relu')(x)\n",
        "    x = tf.keras.layers.Conv2D(128, 3, padding='same', activation='relu')(x)\n",
        "    # No batch normalization after last Conv block\n",
        "\n",
        "    #x = CBAM(gate_channels=128, reduction_ratio=8)(x)\n",
        "    x = x + tf.keras.layers.Attention()([x,x])\n",
        "\n",
        "    x = tf.keras.layers.GlobalAveragePooling2D()(x)\n",
        "\n",
        "    output = tf.keras.layers.Dense(ds_info.features['label'].num_classes,\n",
        "                              activation='softmax' )(x)\n",
        "\n",
        "    model = tf.keras.Model(inputs=input, outputs=output)\n",
        "\n",
        "    if verbose > 0:  model.summary()\n",
        "    return model"
      ],
      "metadata": {
        "id": "AAEnzYYO4OFU"
      },
      "execution_count": 18,
      "outputs": []
    },
    {
      "cell_type": "code",
      "source": [
        "'''\n",
        "# Equivalent code using Sequential API\n",
        "def get_cnn_model_with_attention_block(verbose=0):\n",
        "    model = tf.keras.Sequential([\n",
        "    Conv2DLayerBN(32, 3, input_shape=ds_info.features['image'].shape,\n",
        "                  act_end='relu', padding='same'),\n",
        "    Conv2DLayerBN(32, 3, padding='same', act_end='relu'),\n",
        "\n",
        "    CBAM(gate_channels=32, reduction_ratio=8),\n",
        "    # Equivalent code of CBAM (Convolutional Block Attention Module)\n",
        "    # ChannelGate(32, 8),\n",
        "    # SpatialGate(7),\n",
        "\n",
        "    tf.keras.layers.MaxPooling2D(pool_size=(2, 2)),\n",
        "    Conv2DLayerBN(64, 3, padding='same', act_end='relu'),\n",
        "    Conv2DLayerBN(64, 3, padding='same', act_end='relu'),\n",
        "\n",
        "    CBAM(gate_channels=64, reduction_ratio=8),\n",
        "    # ChannelGate(64, 8),\n",
        "    # SpatialGate(7),\n",
        "\n",
        "    tf.keras.layers.MaxPooling2D(pool_size=(2, 2)),\n",
        "    Conv2DLayerBN(128, 3, padding='same', act_end='relu'),\n",
        "    tf.keras.layers.Conv2D(128, 3, padding='same', activation='relu'),\n",
        "\n",
        "    CBAM(gate_channels=128, reduction_ratio=8),\n",
        "    # ChannelGate(128, 8),\n",
        "    # SpatialGate(7),\n",
        "\n",
        "    tf.keras.layers.GlobalAveragePooling2D(),\n",
        "    tf.keras.layers.Dense(ds_info.features['label'].num_classes, activation='softmax' )\n",
        "    ])\n",
        "    if verbose > 0:  model.summary()\n",
        "\n",
        "    return model\n",
        "'''"
      ],
      "metadata": {
        "id": "mD-zLB47LZU9",
        "colab": {
          "base_uri": "https://localhost:8080/",
          "height": 192
        },
        "outputId": "17934f48-7701-4df3-a339-9c5788a3ce3d"
      },
      "execution_count": 19,
      "outputs": [
        {
          "output_type": "execute_result",
          "data": {
            "text/plain": [
              "\"\\n# Equivalent code using Sequential API\\ndef get_cnn_model_with_attention_block(verbose=0):\\n    model = tf.keras.Sequential([\\n    Conv2DLayerBN(32, 3, input_shape=ds_info.features['image'].shape,\\n                  act_end='relu', padding='same'),\\n    Conv2DLayerBN(32, 3, padding='same', act_end='relu'),\\n\\n    CBAM(gate_channels=32, reduction_ratio=8),\\n    # Equivalent code of CBAM (Convolutional Block Attention Module)\\n    # ChannelGate(32, 8),\\n    # SpatialGate(7),\\n\\n    tf.keras.layers.MaxPooling2D(pool_size=(2, 2)),\\n    Conv2DLayerBN(64, 3, padding='same', act_end='relu'),\\n    Conv2DLayerBN(64, 3, padding='same', act_end='relu'),\\n\\n    CBAM(gate_channels=64, reduction_ratio=8),\\n    # ChannelGate(64, 8),\\n    # SpatialGate(7),\\n\\n    tf.keras.layers.MaxPooling2D(pool_size=(2, 2)),\\n    Conv2DLayerBN(128, 3, padding='same', act_end='relu'),\\n    tf.keras.layers.Conv2D(128, 3, padding='same', activation='relu'),\\n\\n    CBAM(gate_channels=128, reduction_ratio=8),\\n    # ChannelGate(128, 8),\\n    # SpatialGate(7),\\n\\n    tf.keras.layers.GlobalAveragePooling2D(),\\n    tf.keras.layers.Dense(ds_info.features['label'].num_classes, activation='softmax' )\\n    ])\\n    if verbose > 0:  model.summary()\\n\\n    return model\\n\""
            ],
            "application/vnd.google.colaboratory.intrinsic+json": {
              "type": "string"
            }
          },
          "metadata": {},
          "execution_count": 19
        }
      ]
    },
    {
      "cell_type": "code",
      "source": [
        "simple_cnn_with_attention = get_cnn_model_with_attention_block(verbose=1)"
      ],
      "metadata": {
        "colab": {
          "base_uri": "https://localhost:8080/"
        },
        "id": "E-GkEDcpLZSb",
        "outputId": "df663919-20d2-48f0-8d37-a0ec698f181f"
      },
      "execution_count": 20,
      "outputs": [
        {
          "output_type": "stream",
          "name": "stdout",
          "text": [
            "Model: \"model_1\"\n",
            "__________________________________________________________________________________________________\n",
            " Layer (type)                Output Shape                 Param #   Connected to                  \n",
            "==================================================================================================\n",
            " Input_Layer (InputLayer)    [(None, 32, 32, 3)]          0         []                            \n",
            "                                                                                                  \n",
            " conv2d_layer_res (Conv2DLa  (None, 32, 32, 32)           10656     ['Input_Layer[0][0]']         \n",
            " yerRes)                                                                                          \n",
            "                                                                                                  \n",
            " conv2d_layer_res_1 (Conv2D  (None, 32, 32, 32)           19936     ['conv2d_layer_res[0][0]']    \n",
            " LayerRes)                                                                                        \n",
            "                                                                                                  \n",
            " attention (Attention)       (None, 32, 32, 32)           0         ['conv2d_layer_res_1[0][0]',  \n",
            "                                                                     'conv2d_layer_res_1[0][0]']  \n",
            "                                                                                                  \n",
            " tf.__operators__.add (TFOp  (None, 32, 32, 32)           0         ['conv2d_layer_res_1[0][0]',  \n",
            " Lambda)                                                             'attention[0][0]']           \n",
            "                                                                                                  \n",
            " max_pooling2d_2 (MaxPoolin  (None, 16, 16, 32)           0         ['tf.__operators__.add[0][0]']\n",
            " g2D)                                                                                             \n",
            "                                                                                                  \n",
            " conv2d_layer_res_2 (Conv2D  (None, 16, 16, 64)           58304     ['max_pooling2d_2[0][0]']     \n",
            " LayerRes)                                                                                        \n",
            "                                                                                                  \n",
            " conv2d_layer_res_3 (Conv2D  (None, 16, 16, 64)           78784     ['conv2d_layer_res_2[0][0]']  \n",
            " LayerRes)                                                                                        \n",
            "                                                                                                  \n",
            " attention_1 (Attention)     (None, 16, 16, 64)           0         ['conv2d_layer_res_3[0][0]',  \n",
            "                                                                     'conv2d_layer_res_3[0][0]']  \n",
            "                                                                                                  \n",
            " tf.__operators__.add_1 (TF  (None, 16, 16, 64)           0         ['conv2d_layer_res_3[0][0]',  \n",
            " OpLambda)                                                           'attention_1[0][0]']         \n",
            "                                                                                                  \n",
            " max_pooling2d_3 (MaxPoolin  (None, 8, 8, 64)             0         ['tf.__operators__.add_1[0][0]\n",
            " g2D)                                                               ']                            \n",
            "                                                                                                  \n",
            " conv2d_layer_res_4 (Conv2D  (None, 8, 8, 128)            231296    ['max_pooling2d_3[0][0]']     \n",
            " LayerRes)                                                                                        \n",
            "                                                                                                  \n",
            " conv2d_1 (Conv2D)           (None, 8, 8, 128)            147584    ['conv2d_layer_res_4[0][0]']  \n",
            "                                                                                                  \n",
            " attention_2 (Attention)     (None, 8, 8, 128)            0         ['conv2d_1[0][0]',            \n",
            "                                                                     'conv2d_1[0][0]']            \n",
            "                                                                                                  \n",
            " tf.__operators__.add_2 (TF  (None, 8, 8, 128)            0         ['conv2d_1[0][0]',            \n",
            " OpLambda)                                                           'attention_2[0][0]']         \n",
            "                                                                                                  \n",
            " global_average_pooling2d_1  (None, 128)                  0         ['tf.__operators__.add_2[0][0]\n",
            "  (GlobalAveragePooling2D)                                          ']                            \n",
            "                                                                                                  \n",
            " dense_1 (Dense)             (None, 10)                   1290      ['global_average_pooling2d_1[0\n",
            "                                                                    ][0]']                        \n",
            "                                                                                                  \n",
            "==================================================================================================\n",
            "Total params: 547850 (2.09 MB)\n",
            "Trainable params: 545930 (2.08 MB)\n",
            "Non-trainable params: 1920 (7.50 KB)\n",
            "__________________________________________________________________________________________________\n"
          ]
        }
      ]
    },
    {
      "cell_type": "code",
      "source": [
        "simple_cnn_with_attention.compile(\n",
        "    loss='sparse_categorical_crossentropy',\n",
        "    optimizer=tf.keras.optimizers.Adam(0.001),\n",
        "    metrics=['accuracy'],\n",
        ")"
      ],
      "metadata": {
        "id": "Xp4PV0d7QdAK"
      },
      "execution_count": 21,
      "outputs": []
    },
    {
      "cell_type": "code",
      "source": [
        "history = simple_cnn_with_attention.fit(ds_train, epochs=experiment['EPOCHS'])"
      ],
      "metadata": {
        "colab": {
          "base_uri": "https://localhost:8080/"
        },
        "id": "PMJHvJklQc-A",
        "outputId": "9da4b471-e8a1-41e8-91d6-c142d70e2cbd"
      },
      "execution_count": 22,
      "outputs": [
        {
          "output_type": "stream",
          "name": "stdout",
          "text": [
            "Epoch 1/20\n",
            "1563/1563 [==============================] - 55s 19ms/step - loss: 1.3801 - accuracy: 0.4982\n",
            "Epoch 2/20\n",
            "1563/1563 [==============================] - 25s 16ms/step - loss: 0.9402 - accuracy: 0.6656\n",
            "Epoch 3/20\n",
            "1563/1563 [==============================] - 25s 16ms/step - loss: 0.7356 - accuracy: 0.7430\n",
            "Epoch 4/20\n",
            "1563/1563 [==============================] - 26s 16ms/step - loss: 0.6096 - accuracy: 0.7880\n",
            "Epoch 5/20\n",
            "1563/1563 [==============================] - 26s 16ms/step - loss: 0.5270 - accuracy: 0.8175\n",
            "Epoch 6/20\n",
            "1563/1563 [==============================] - 26s 16ms/step - loss: 0.4588 - accuracy: 0.8412\n",
            "Epoch 7/20\n",
            "1563/1563 [==============================] - 25s 16ms/step - loss: 0.4096 - accuracy: 0.8559\n",
            "Epoch 8/20\n",
            "1563/1563 [==============================] - 24s 15ms/step - loss: 0.3633 - accuracy: 0.8740\n",
            "Epoch 9/20\n",
            "1563/1563 [==============================] - 24s 16ms/step - loss: 0.3237 - accuracy: 0.8867\n",
            "Epoch 10/20\n",
            "1563/1563 [==============================] - 25s 16ms/step - loss: 0.2835 - accuracy: 0.9016\n",
            "Epoch 11/20\n",
            "1563/1563 [==============================] - 26s 16ms/step - loss: 0.2593 - accuracy: 0.9082\n",
            "Epoch 12/20\n",
            "1563/1563 [==============================] - 24s 16ms/step - loss: 0.2286 - accuracy: 0.9189\n",
            "Epoch 13/20\n",
            "1563/1563 [==============================] - 25s 16ms/step - loss: 0.2095 - accuracy: 0.9269\n",
            "Epoch 14/20\n",
            "1563/1563 [==============================] - 25s 16ms/step - loss: 0.1848 - accuracy: 0.9343\n",
            "Epoch 15/20\n",
            "1563/1563 [==============================] - 24s 16ms/step - loss: 0.1710 - accuracy: 0.9398\n",
            "Epoch 16/20\n",
            "1563/1563 [==============================] - 24s 15ms/step - loss: 0.1583 - accuracy: 0.9437\n",
            "Epoch 17/20\n",
            "1563/1563 [==============================] - 25s 16ms/step - loss: 0.1444 - accuracy: 0.9490\n",
            "Epoch 18/20\n",
            "1563/1563 [==============================] - 25s 16ms/step - loss: 0.1336 - accuracy: 0.9517\n",
            "Epoch 19/20\n",
            "1563/1563 [==============================] - 25s 16ms/step - loss: 0.1403 - accuracy: 0.9504\n",
            "Epoch 20/20\n",
            "1563/1563 [==============================] - 25s 16ms/step - loss: 0.1155 - accuracy: 0.9586\n"
          ]
        }
      ]
    },
    {
      "cell_type": "code",
      "source": [
        "import pandas as pd\n",
        "\n",
        "pd.DataFrame(history.history).plot(figsize=(8, 5))\n",
        "plt.grid(True)\n",
        "plt.gca().set_ylim(0, 1.5)\n",
        "plt.show()"
      ],
      "metadata": {
        "id": "qXTELD-oQc7j",
        "colab": {
          "base_uri": "https://localhost:8080/",
          "height": 445
        },
        "outputId": "71e49fec-d4d1-46f5-8031-5fc2ef74a9d5"
      },
      "execution_count": 23,
      "outputs": [
        {
          "output_type": "display_data",
          "data": {
            "text/plain": [
              "<Figure size 800x500 with 1 Axes>"
            ],
            "image/png": "[encoded data removed]"
          },
          "metadata": {}
        }
      ]
    },
    {
      "cell_type": "code",
      "source": [
        "print(f\"Test accuracy: {simple_cnn_with_attention.evaluate(ds_test)[1]}\")"
      ],
      "metadata": {
        "id": "LvzbzJOFQc5H",
        "colab": {
          "base_uri": "https://localhost:8080/"
        },
        "outputId": "60dfd791-9b8f-46b8-d0de-d5359b30f1ad"
      },
      "execution_count": 24,
      "outputs": [
        {
          "output_type": "stream",
          "name": "stdout",
          "text": [
            "313/313 [==============================] - 5s 14ms/step - loss: 0.5938 - accuracy: 0.8498\n",
            "Test accuracy: 0.8497999906539917\n"
          ]
        }
      ]
    },
    {
      "cell_type": "code",
      "source": [
        "def get_cnn_model_with_CBAM_attention(verbose=0):\n",
        "    input = tf.keras.layers.Input(shape=ds_info.features['image'].shape, name='Input_Layer')\n",
        "    x = Conv2DLayerRes(32, 3, strides=1, padding=\"same\", act_end='relu')(input)\n",
        "    x = Conv2DLayerRes(32, 3, strides=1, padding=\"same\", act_end='relu')(x)\n",
        "\n",
        "    x = CBAM(gate_channels=32, reduction_ratio=8)(x)\n",
        "    # Equivalent code of CBAM (Convolutional Block Attention Module)\n",
        "    # x = ChannelGate(32, 8)(x)\n",
        "    # x = SpatialGate(7)(x)\n",
        "\n",
        "    x = tf.keras.layers.MaxPooling2D(pool_size=(2, 2))(x)\n",
        "\n",
        "    x = Conv2DLayerRes(64, 3, strides=1, padding=\"same\", act_end='relu')(x)\n",
        "    x = Conv2DLayerRes(64, 3, strides=1, padding=\"same\", act_end='relu')(x)\n",
        "\n",
        "    x = CBAM(gate_channels=64, reduction_ratio=8)(x)\n",
        "\n",
        "    x = tf.keras.layers.MaxPooling2D(pool_size=(2, 2))(x)\n",
        "\n",
        "    x = Conv2DLayerRes(128, 3, strides=1, padding=\"same\", act_end='relu')(x)\n",
        "    x = tf.keras.layers.Conv2D(128, 3, padding='same', activation='relu')(x)\n",
        "    # No batch normalization after last Conv block\n",
        "\n",
        "    x = CBAM(gate_channels=128, reduction_ratio=8)(x)\n",
        "\n",
        "    x = tf.keras.layers.GlobalAveragePooling2D()(x)\n",
        "\n",
        "    output = tf.keras.layers.Dense(ds_info.features['label'].num_classes,\n",
        "                              activation='softmax' )(x)\n",
        "\n",
        "    model = tf.keras.Model(inputs=input, outputs=output)\n",
        "\n",
        "    if verbose > 0:  model.summary()\n",
        "    return model"
      ],
      "metadata": {
        "id": "nZBJXTm26B8Z"
      },
      "execution_count": 25,
      "outputs": []
    },
    {
      "cell_type": "code",
      "source": [
        "simple_cnn_with_cbam_attention = get_cnn_model_with_CBAM_attention(verbose=1)"
      ],
      "metadata": {
        "colab": {
          "base_uri": "https://localhost:8080/"
        },
        "id": "UHJm6n9W6Su4",
        "outputId": "d9eb1ce9-1764-486e-bde0-95438de9f51b"
      },
      "execution_count": 26,
      "outputs": [
        {
          "output_type": "stream",
          "name": "stdout",
          "text": [
            "Model: \"model_2\"\n",
            "_________________________________________________________________\n",
            " Layer (type)                Output Shape              Param #   \n",
            "=================================================================\n",
            " Input_Layer (InputLayer)    [(None, 32, 32, 3)]       0         \n",
            "                                                                 \n",
            " conv2d_layer_res_5 (Conv2D  (None, 32, 32, 32)        10656     \n",
            " LayerRes)                                                       \n",
            "                                                                 \n",
            " conv2d_layer_res_6 (Conv2D  (None, 32, 32, 32)        19936     \n",
            " LayerRes)                                                       \n",
            "                                                                 \n",
            " cbam (CBAM)                 (None, 32, 32, 32)        395       \n",
            "                                                                 \n",
            " max_pooling2d_4 (MaxPoolin  (None, 16, 16, 32)        0         \n",
            " g2D)                                                            \n",
            "                                                                 \n",
            " conv2d_layer_res_7 (Conv2D  (None, 16, 16, 64)        58304     \n",
            " LayerRes)                                                       \n",
            "                                                                 \n",
            " conv2d_layer_res_8 (Conv2D  (None, 16, 16, 64)        78784     \n",
            " LayerRes)                                                       \n",
            "                                                                 \n",
            " cbam_1 (CBAM)               (None, 16, 16, 64)        1199      \n",
            "                                                                 \n",
            " max_pooling2d_5 (MaxPoolin  (None, 8, 8, 64)          0         \n",
            " g2D)                                                            \n",
            "                                                                 \n",
            " conv2d_layer_res_9 (Conv2D  (None, 8, 8, 128)         231296    \n",
            " LayerRes)                                                       \n",
            "                                                                 \n",
            " conv2d_2 (Conv2D)           (None, 8, 8, 128)         147584    \n",
            "                                                                 \n",
            " cbam_2 (CBAM)               (None, 8, 8, 128)         4343      \n",
            "                                                                 \n",
            " global_average_pooling2d_2  (None, 128)               0         \n",
            "  (GlobalAveragePooling2D)                                       \n",
            "                                                                 \n",
            " dense_8 (Dense)             (None, 10)                1290      \n",
            "                                                                 \n",
            "=================================================================\n",
            "Total params: 553787 (2.11 MB)\n",
            "Trainable params: 551861 (2.11 MB)\n",
            "Non-trainable params: 1926 (7.52 KB)\n",
            "_________________________________________________________________\n"
          ]
        }
      ]
    },
    {
      "cell_type": "code",
      "source": [
        "simple_cnn_with_cbam_attention.compile(\n",
        "    loss='sparse_categorical_crossentropy',\n",
        "    optimizer=tf.keras.optimizers.Adam(0.001),\n",
        "    metrics=['accuracy'],\n",
        ")"
      ],
      "metadata": {
        "id": "vUtAG5H56Xk5"
      },
      "execution_count": 27,
      "outputs": []
    },
    {
      "cell_type": "code",
      "source": [
        "history = simple_cnn_with_cbam_attention.fit(ds_train, epochs=experiment['EPOCHS'])"
      ],
      "metadata": {
        "colab": {
          "base_uri": "https://localhost:8080/"
        },
        "id": "VOUzUNDB6bSA",
        "outputId": "0d88d7e4-be44-441c-fb8b-24809552e57d"
      },
      "execution_count": 28,
      "outputs": [
        {
          "output_type": "stream",
          "name": "stdout",
          "text": [
            "Epoch 1/20\n",
            "1563/1563 [==============================] - 46s 22ms/step - loss: 1.2897 - accuracy: 0.5294\n",
            "Epoch 2/20\n",
            "1563/1563 [==============================] - 34s 22ms/step - loss: 0.8427 - accuracy: 0.7016\n",
            "Epoch 3/20\n",
            "1563/1563 [==============================] - 34s 21ms/step - loss: 0.6591 - accuracy: 0.7698\n",
            "Epoch 4/20\n",
            "1563/1563 [==============================] - 33s 21ms/step - loss: 0.5471 - accuracy: 0.8105\n",
            "Epoch 5/20\n",
            "1563/1563 [==============================] - 32s 21ms/step - loss: 0.4703 - accuracy: 0.8360\n",
            "Epoch 6/20\n",
            "1563/1563 [==============================] - 33s 21ms/step - loss: 0.4052 - accuracy: 0.8572\n",
            "Epoch 7/20\n",
            "1563/1563 [==============================] - 32s 20ms/step - loss: 0.3567 - accuracy: 0.8783\n",
            "Epoch 8/20\n",
            "1563/1563 [==============================] - 33s 21ms/step - loss: 0.3095 - accuracy: 0.8923\n",
            "Epoch 9/20\n",
            "1563/1563 [==============================] - 32s 20ms/step - loss: 0.2673 - accuracy: 0.9065\n",
            "Epoch 10/20\n",
            "1563/1563 [==============================] - 33s 21ms/step - loss: 0.2406 - accuracy: 0.9137\n",
            "Epoch 11/20\n",
            "1563/1563 [==============================] - 31s 20ms/step - loss: 0.2033 - accuracy: 0.9277\n",
            "Epoch 12/20\n",
            "1563/1563 [==============================] - 33s 21ms/step - loss: 0.1840 - accuracy: 0.9341\n",
            "Epoch 13/20\n",
            "1563/1563 [==============================] - 32s 20ms/step - loss: 0.1602 - accuracy: 0.9438\n",
            "Epoch 14/20\n",
            "1563/1563 [==============================] - 32s 21ms/step - loss: 0.1422 - accuracy: 0.9505\n",
            "Epoch 15/20\n",
            "1563/1563 [==============================] - 32s 20ms/step - loss: 0.1284 - accuracy: 0.9545\n",
            "Epoch 16/20\n",
            "1563/1563 [==============================] - 33s 21ms/step - loss: 0.1141 - accuracy: 0.9599\n",
            "Epoch 17/20\n",
            "1563/1563 [==============================] - 32s 20ms/step - loss: 0.1088 - accuracy: 0.9610\n",
            "Epoch 18/20\n",
            "1563/1563 [==============================] - 33s 21ms/step - loss: 0.0999 - accuracy: 0.9645\n",
            "Epoch 19/20\n",
            "1563/1563 [==============================] - 32s 20ms/step - loss: 0.0908 - accuracy: 0.9674\n",
            "Epoch 20/20\n",
            "1563/1563 [==============================] - 34s 22ms/step - loss: 0.0832 - accuracy: 0.9707\n"
          ]
        }
      ]
    },
    {
      "cell_type": "code",
      "source": [
        "import pandas as pd\n",
        "\n",
        "pd.DataFrame(history.history).plot(figsize=(8, 5))\n",
        "plt.grid(True)\n",
        "plt.gca().set_ylim(0, 1.5)\n",
        "plt.show()"
      ],
      "metadata": {
        "colab": {
          "base_uri": "https://localhost:8080/",
          "height": 445
        },
        "id": "3Ba4sQ-5AleT",
        "outputId": "152494e2-005d-4eb7-a244-d643e50d4f64"
      },
      "execution_count": 29,
      "outputs": [
        {
          "output_type": "display_data",
          "data": {
            "text/plain": [
              "<Figure size 800x500 with 1 Axes>"
            ],
            "image/png": "[encoded data removed]"
          },
          "metadata": {}
        }
      ]
    },
    {
      "cell_type": "code",
      "source": [
        "print(f\"Test accuracy: {simple_cnn_with_cbam_attention.evaluate(ds_test)[1]}\")"
      ],
      "metadata": {
        "colab": {
          "base_uri": "https://localhost:8080/"
        },
        "id": "-FmC4rBnAn_M",
        "outputId": "3029a97e-6ac8-42cc-b79e-c54e96f3cd28"
      },
      "execution_count": 31,
      "outputs": [
        {
          "output_type": "stream",
          "name": "stdout",
          "text": [
            "313/313 [==============================] - 2s 6ms/step - loss: 0.6932 - accuracy: 0.8239\n",
            "Test accuracy: 0.8238999843597412\n"
          ]
        }
      ]
    },
    {
      "cell_type": "markdown",
      "source": [
        "### Visualize Attention network"
      ],
      "metadata": {
        "id": "bSu6ATQ8RYn2"
      }
    },
    {
      "cell_type": "code",
      "source": [
        "for images, labels in tfds.as_numpy(ds_test.take(1)):\n",
        "    X_test = images\n",
        "    y_test = labels\n",
        "\n",
        "print(\"X_test.shape:\", X_test.shape)\n",
        "print(\"y_test.shape:\", y_test.shape)"
      ],
      "metadata": {
        "colab": {
          "base_uri": "https://localhost:8080/"
        },
        "id": "HJWHqG5fWZqZ",
        "outputId": "b0874b61-7ae8-4439-f3fb-09451f7ed01f"
      },
      "execution_count": 32,
      "outputs": [
        {
          "output_type": "stream",
          "name": "stdout",
          "text": [
            "X_test.shape: (32, 32, 32, 3)\n",
            "y_test.shape: (32,)\n"
          ]
        }
      ]
    },
    {
      "cell_type": "code",
      "source": [
        "def image_to_uint_255(image):\n",
        "    \"\"\"\n",
        "    Convert float images to int 0-255 images.\n",
        "    Args:\n",
        "        image (numpy.ndarray): Input image. Can be either [0, 255], [0, 1], [-1, 1]\n",
        "    Returns:\n",
        "        numpy.ndarray:\n",
        "    \"\"\"\n",
        "    if image.dtype == np.uint8:\n",
        "        return image\n",
        "\n",
        "    if image.min() < 0:\n",
        "        image = (image + 1.0) / 2.0\n",
        "\n",
        "    return (image * 255).astype(\"uint8\")"
      ],
      "metadata": {
        "id": "SISnRkEp4xV1"
      },
      "execution_count": 33,
      "outputs": []
    },
    {
      "cell_type": "code",
      "source": [
        "plt.imshow(X_test[0])"
      ],
      "metadata": {
        "colab": {
          "base_uri": "https://localhost:8080/",
          "height": 447
        },
        "id": "NnRCM7iirqhG",
        "outputId": "5858bfca-332e-4f4e-dc4c-a82f60403597"
      },
      "execution_count": 34,
      "outputs": [
        {
          "output_type": "execute_result",
          "data": {
            "text/plain": [
              "<matplotlib.image.AxesImage at 0x7eb04017c2e0>"
            ]
          },
          "metadata": {},
          "execution_count": 34
        },
        {
          "output_type": "display_data",
          "data": {
            "text/plain": [
              "<Figure size 640x480 with 1 Axes>"
            ],
            "image/png": "[encoded data removed]"
          },
          "metadata": {}
        }
      ]
    },
    {
      "cell_type": "markdown",
      "source": [
        "### Network without vs with Attention"
      ],
      "metadata": {
        "id": "kQIEOMvo2Sl6"
      }
    },
    {
      "cell_type": "code",
      "source": [
        "test_id = 0\n",
        "\n",
        "test_img = X_test[test_id]\n",
        "test_img = tf.expand_dims(test_img, axis=0)\n",
        "\n",
        "# CNN model with Attention\n",
        "gradCam_att_cnn = vision.GradCAM(simple_cnn_with_attention)\n",
        "preds_att_cnn = simple_cnn_with_attention.predict(X_test)\n",
        "class_id_att_cnn = np.argmax(preds_att_cnn[test_id])\n",
        "(heatmap_att_cnn, output_att_cnn) = gradCam_att_cnn(test_img, X_test[test_id]*255, class_id_att_cnn, alpha=0.5)\n",
        "\n",
        "\n",
        "# Simple CNN model\n",
        "gradCam_cnn = vision.GradCAM(simple_cnn_with_cbam_attention)\n",
        "preds_cnn = simple_cnn_with_cbam_attention.predict(X_test)\n",
        "class_id_cnn = np.argmax(preds_cnn[test_id])\n",
        "(heatmap_cnn, output_cnn) = gradCam_att_cnn(test_img, X_test[test_id]*255, class_id_cnn, alpha=0.5)\n",
        "\n",
        "\n",
        "plt.subplot(1,2,1)\n",
        "plt.imshow(output_att_cnn)\n",
        "plt.title(f\"Logit: {preds_att_cnn[0][class_id_att_cnn]:2f}\")\n",
        "plt.subplot(1,2,2)\n",
        "plt.imshow(output_cnn)\n",
        "plt.title(f\"Logit: {preds_cnn[0][class_id_cnn]:2f}\")\n",
        "plt.show()"
      ],
      "metadata": {
        "colab": {
          "base_uri": "https://localhost:8080/",
          "height": 343
        },
        "id": "4rc_Z7-_qcer",
        "outputId": "63f2d9a6-23cc-4d9e-cb4c-1edffaf648f8"
      },
      "execution_count": 35,
      "outputs": [
        {
          "output_type": "stream",
          "name": "stdout",
          "text": [
            "1/1 [==============================] - 1s 1s/step\n",
            "1/1 [==============================] - 1s 562ms/step\n"
          ]
        },
        {
          "output_type": "display_data",
          "data": {
            "text/plain": [
              "<Figure size 640x480 with 2 Axes>"
            ],
            "image/png": "[encoded data removed]"
          },
          "metadata": {}
        }
      ]
    },
    {
      "cell_type": "code",
      "source": [
        "def show_GradCAM_results(test_id):\n",
        "    test_img = X_test[test_id]\n",
        "    test_img = tf.expand_dims(test_img, axis=0)\n",
        "\n",
        "    # CNN model with Attention\n",
        "    gradCam_att_cnn = vision.GradCAM(simple_cnn_with_attention)\n",
        "    preds_att_cnn = simple_cnn_with_attention.predict(X_test)\n",
        "    class_id_att_cnn = np.argmax(preds_att_cnn[test_id])\n",
        "    (heatmap_att_cnn, output_att_cnn) = gradCam_att_cnn(test_img, X_test[test_id]*255, class_id_att_cnn, alpha=0.5)\n",
        "    logit_att_cnn = round(float(preds_att_cnn[test_id][class_id_att_cnn]), 3)\n",
        "\n",
        "    # Simple CNN model\n",
        "    gradCam_cnn = vision.GradCAM(simple_cnn_with_cbam_attention)\n",
        "    preds_cnn = simple_cnn_with_cbam_attention.predict(X_test)\n",
        "    class_id_cnn = np.argmax(preds_cnn[test_id])\n",
        "    (heatmap_cnn, output_cnn) = gradCam_cnn(test_img, X_test[test_id]*255, class_id_cnn, alpha=0.5)\n",
        "    logit_cnn = round(float(preds_cnn[test_id][class_id_cnn]), 3)\n",
        "\n",
        "    plt.subplot(1,2,1)\n",
        "    plt.imshow(output_att_cnn)\n",
        "    plt.title(f\"Logit: {logit_att_cnn}, {ds_info.features['label'].names[class_id_att_cnn]}\")\n",
        "    plt.subplot(1,2,2)\n",
        "    plt.imshow(output_cnn)\n",
        "    plt.title(f\"Logit: {logit_cnn}, {ds_info.features['label'].names[class_id_cnn]}\")\n",
        "    plt.show()"
      ],
      "metadata": {
        "id": "KbUk7CkqvPu1"
      },
      "execution_count": 36,
      "outputs": []
    },
    {
      "cell_type": "code",
      "source": [
        "show_GradCAM_results(1)"
      ],
      "metadata": {
        "colab": {
          "base_uri": "https://localhost:8080/",
          "height": 343
        },
        "id": "MXMp7tE2vpay",
        "outputId": "756af8ee-f61e-480c-fa3c-b27dd8a1c72b"
      },
      "execution_count": 37,
      "outputs": [
        {
          "output_type": "stream",
          "name": "stdout",
          "text": [
            "1/1 [==============================] - 0s 18ms/step\n",
            "1/1 [==============================] - 0s 19ms/step\n"
          ]
        },
        {
          "output_type": "display_data",
          "data": {
            "text/plain": [
              "<Figure size 640x480 with 2 Axes>"
            ],
            "image/png": "[encoded data removed]"
          },
          "metadata": {}
        }
      ]
    },
    {
      "cell_type": "code",
      "source": [
        "show_GradCAM_results(2)"
      ],
      "metadata": {
        "colab": {
          "base_uri": "https://localhost:8080/",
          "height": 343
        },
        "id": "9LwsJxqNvpYf",
        "outputId": "3196baf7-f9a7-4880-fec9-e684c0fdbfee"
      },
      "execution_count": 38,
      "outputs": [
        {
          "output_type": "stream",
          "name": "stdout",
          "text": [
            "1/1 [==============================] - 0s 18ms/step\n",
            "1/1 [==============================] - 0s 19ms/step\n"
          ]
        },
        {
          "output_type": "display_data",
          "data": {
            "text/plain": [
              "<Figure size 640x480 with 2 Axes>"
            ],
            "image/png": "[encoded data removed]"
          },
          "metadata": {}
        }
      ]
    },
    {
      "cell_type": "code",
      "source": [
        "show_GradCAM_results(3)"
      ],
      "metadata": {
        "colab": {
          "base_uri": "https://localhost:8080/",
          "height": 343
        },
        "id": "FAhPyEMpv2jq",
        "outputId": "3e283449-0918-473c-954a-3688087da96d"
      },
      "execution_count": 39,
      "outputs": [
        {
          "output_type": "stream",
          "name": "stdout",
          "text": [
            "1/1 [==============================] - 0s 17ms/step\n",
            "1/1 [==============================] - 0s 24ms/step\n"
          ]
        },
        {
          "output_type": "display_data",
          "data": {
            "text/plain": [
              "<Figure size 640x480 with 2 Axes>"
            ],
            "image/png": "[encoded data removed]"
          },
          "metadata": {}
        }
      ]
    },
    {
      "cell_type": "code",
      "source": [
        "show_GradCAM_results(4)"
      ],
      "metadata": {
        "colab": {
          "base_uri": "https://localhost:8080/",
          "height": 343
        },
        "id": "FONo3tu_v5m1",
        "outputId": "b1049b19-0d64-47e5-b486-209c232880b7"
      },
      "execution_count": 40,
      "outputs": [
        {
          "output_type": "stream",
          "name": "stdout",
          "text": [
            "1/1 [==============================] - 0s 19ms/step\n",
            "1/1 [==============================] - 0s 23ms/step\n"
          ]
        },
        {
          "output_type": "display_data",
          "data": {
            "text/plain": [
              "<Figure size 640x480 with 2 Axes>"
            ],
            "image/png": "[encoded data removed]"
          },
          "metadata": {}
        }
      ]
    },
    {
      "cell_type": "code",
      "source": [
        "show_GradCAM_results(8)"
      ],
      "metadata": {
        "colab": {
          "base_uri": "https://localhost:8080/",
          "height": 343
        },
        "id": "UCRItQn52U7p",
        "outputId": "aa9e5521-b2a3-4545-cda4-f46cc4d82616"
      },
      "execution_count": 41,
      "outputs": [
        {
          "output_type": "stream",
          "name": "stdout",
          "text": [
            "1/1 [==============================] - 0s 18ms/step\n",
            "1/1 [==============================] - 0s 18ms/step\n"
          ]
        },
        {
          "output_type": "display_data",
          "data": {
            "text/plain": [
              "<Figure size 640x480 with 2 Axes>"
            ],
            "image/png": "[encoded data removed]"
          },
          "metadata": {}
        }
      ]
    },
    {
      "cell_type": "code",
      "source": [
        "show_GradCAM_results(9)"
      ],
      "metadata": {
        "colab": {
          "base_uri": "https://localhost:8080/",
          "height": 343
        },
        "id": "lVB50uLTBktD",
        "outputId": "4c74ba3a-0715-41d0-f3dc-0c58633805cd"
      },
      "execution_count": 42,
      "outputs": [
        {
          "output_type": "stream",
          "name": "stdout",
          "text": [
            "1/1 [==============================] - 0s 39ms/step\n",
            "1/1 [==============================] - 0s 29ms/step\n"
          ]
        },
        {
          "output_type": "display_data",
          "data": {
            "text/plain": [
              "<Figure size 640x480 with 2 Axes>"
            ],
            "image/png": "[encoded data removed]"
          },
          "metadata": {}
        }
      ]
    },
    {
      "cell_type": "code",
      "source": [
        "show_GradCAM_results(25)"
      ],
      "metadata": {
        "colab": {
          "base_uri": "https://localhost:8080/",
          "height": 343
        },
        "id": "2yXhlDymBnpi",
        "outputId": "00ea5127-be35-475b-960d-4c347e98e224"
      },
      "execution_count": 44,
      "outputs": [
        {
          "output_type": "stream",
          "name": "stdout",
          "text": [
            "1/1 [==============================] - 0s 19ms/step\n",
            "1/1 [==============================] - 0s 18ms/step\n"
          ]
        },
        {
          "output_type": "display_data",
          "data": {
            "text/plain": [
              "<Figure size 640x480 with 2 Axes>"
            ],
            "image/png": "[encoded data removed]"
          },
          "metadata": {}
        }
      ]
    },
    {
      "cell_type": "code",
      "source": [
        "show_GradCAM_results(30)"
      ],
      "metadata": {
        "colab": {
          "base_uri": "https://localhost:8080/",
          "height": 343
        },
        "id": "LGI-J83-BtyF",
        "outputId": "7cef75af-bd6a-45b9-e334-4a61e13ed02a"
      },
      "execution_count": 47,
      "outputs": [
        {
          "output_type": "stream",
          "name": "stdout",
          "text": [
            "1/1 [==============================] - 0s 30ms/step\n",
            "1/1 [==============================] - 0s 31ms/step\n"
          ]
        },
        {
          "output_type": "display_data",
          "data": {
            "text/plain": [
              "<Figure size 640x480 with 2 Axes>"
            ],
            "image/png": "[encoded data removed]"
          },
          "metadata": {}
        }
      ]
    },
    {
      "cell_type": "markdown",
      "source": [
        "### Reference\n",
        "\n",
        "[EscVM_YT/Notebooks/0 - TF2.X Tutorials\n",
        "/tf_2_visual_attention.ipynb](https://github.com/EscVM/EscVM_YT/blob/master/Notebooks/0%20-%20TF2.X%20Tutorials/tf_2_visual_attention.ipynb)\n",
        "\n",
        "https://github.com/sicara/tf-explain/blob/master/tf_explain/core/grad_cam.py\n",
        "\n",
        "https://github.com/sicara/tf-explain/blob/master/tf_explain/utils/display.py\n",
        "\n",
        "https://github.com/sicara/tf-explain/blob/master/tf_explain/utils/saver.py\n",
        "\n",
        "https://www.youtube.com/watch?v=1mjI_Jm4W1E\n"
      ],
      "metadata": {
        "id": "rgiGv3Ujirs1"
      }
    }
  ]
}