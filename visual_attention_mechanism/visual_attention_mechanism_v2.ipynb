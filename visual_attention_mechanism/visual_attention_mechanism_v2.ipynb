{
  "nbformat": 4,
  "nbformat_minor": 0,
  "metadata": {
    "colab": {
      "provenance": [],
      "gpuType": "T4"
    },
    "kernelspec": {
      "name": "python3",
      "display_name": "Python 3"
    },
    "language_info": {
      "name": "python"
    },
    "widgets": {
      "application/vnd.jupyter.widget-state+json": {
        "9c9419d67dff4a7c91a0147d85e88b0e": {
          "model_module": "@jupyter-widgets/controls",
          "model_name": "HBoxModel",
          "model_module_version": "1.5.0",
          "state": {
            "_dom_classes": [],
            "_model_module": "@jupyter-widgets/controls",
            "_model_module_version": "1.5.0",
            "_model_name": "HBoxModel",
            "_view_count": null,
            "_view_module": "@jupyter-widgets/controls",
            "_view_module_version": "1.5.0",
            "_view_name": "HBoxView",
            "box_style": "",
            "children": [
              "IPY_MODEL_90adb9ab62154b119fab17f4e89bfd61",
              "IPY_MODEL_c349babca7814c14bc5c9e067f7e930a",
              "IPY_MODEL_030f9ef7fc594a589d9575b1b61ed9ed"
            ],
            "layout": "IPY_MODEL_56a5f052a92d49d28d5977c6606737d5"
          }
        },
        "90adb9ab62154b119fab17f4e89bfd61": {
          "model_module": "@jupyter-widgets/controls",
          "model_name": "HTMLModel",
          "model_module_version": "1.5.0",
          "state": {
            "_dom_classes": [],
            "_model_module": "@jupyter-widgets/controls",
            "_model_module_version": "1.5.0",
            "_model_name": "HTMLModel",
            "_view_count": null,
            "_view_module": "@jupyter-widgets/controls",
            "_view_module_version": "1.5.0",
            "_view_name": "HTMLView",
            "description": "",
            "description_tooltip": null,
            "layout": "IPY_MODEL_3a26339dac3d41fd94bae80330413ed4",
            "placeholder": "​",
            "style": "IPY_MODEL_ca1d7f44c4ad4581b68685d139bf600c",
            "value": "Dl Completed...: 100%"
          }
        },
        "c349babca7814c14bc5c9e067f7e930a": {
          "model_module": "@jupyter-widgets/controls",
          "model_name": "FloatProgressModel",
          "model_module_version": "1.5.0",
          "state": {
            "_dom_classes": [],
            "_model_module": "@jupyter-widgets/controls",
            "_model_module_version": "1.5.0",
            "_model_name": "FloatProgressModel",
            "_view_count": null,
            "_view_module": "@jupyter-widgets/controls",
            "_view_module_version": "1.5.0",
            "_view_name": "ProgressView",
            "bar_style": "success",
            "description": "",
            "description_tooltip": null,
            "layout": "IPY_MODEL_a6766e7c87cf4d72968e0a598dc17128",
            "max": 1,
            "min": 0,
            "orientation": "horizontal",
            "style": "IPY_MODEL_70e913adb0a04d6cb880327f4d75c219",
            "value": 1
          }
        },
        "030f9ef7fc594a589d9575b1b61ed9ed": {
          "model_module": "@jupyter-widgets/controls",
          "model_name": "HTMLModel",
          "model_module_version": "1.5.0",
          "state": {
            "_dom_classes": [],
            "_model_module": "@jupyter-widgets/controls",
            "_model_module_version": "1.5.0",
            "_model_name": "HTMLModel",
            "_view_count": null,
            "_view_module": "@jupyter-widgets/controls",
            "_view_module_version": "1.5.0",
            "_view_name": "HTMLView",
            "description": "",
            "description_tooltip": null,
            "layout": "IPY_MODEL_2c5cf4bce4ab4a028273bc2ade65397c",
            "placeholder": "​",
            "style": "IPY_MODEL_2f7e78a6fbd446a4b177c7dfe70c601f",
            "value": " 1/1 [00:09&lt;00:00,  7.03s/ url]"
          }
        },
        "56a5f052a92d49d28d5977c6606737d5": {
          "model_module": "@jupyter-widgets/base",
          "model_name": "LayoutModel",
          "model_module_version": "1.2.0",
          "state": {
            "_model_module": "@jupyter-widgets/base",
            "_model_module_version": "1.2.0",
            "_model_name": "LayoutModel",
            "_view_count": null,
            "_view_module": "@jupyter-widgets/base",
            "_view_module_version": "1.2.0",
            "_view_name": "LayoutView",
            "align_content": null,
            "align_items": null,
            "align_self": null,
            "border": null,
            "bottom": null,
            "display": null,
            "flex": null,
            "flex_flow": null,
            "grid_area": null,
            "grid_auto_columns": null,
            "grid_auto_flow": null,
            "grid_auto_rows": null,
            "grid_column": null,
            "grid_gap": null,
            "grid_row": null,
            "grid_template_areas": null,
            "grid_template_columns": null,
            "grid_template_rows": null,
            "height": null,
            "justify_content": null,
            "justify_items": null,
            "left": null,
            "margin": null,
            "max_height": null,
            "max_width": null,
            "min_height": null,
            "min_width": null,
            "object_fit": null,
            "object_position": null,
            "order": null,
            "overflow": null,
            "overflow_x": null,
            "overflow_y": null,
            "padding": null,
            "right": null,
            "top": null,
            "visibility": null,
            "width": null
          }
        },
        "3a26339dac3d41fd94bae80330413ed4": {
          "model_module": "@jupyter-widgets/base",
          "model_name": "LayoutModel",
          "model_module_version": "1.2.0",
          "state": {
            "_model_module": "@jupyter-widgets/base",
            "_model_module_version": "1.2.0",
            "_model_name": "LayoutModel",
            "_view_count": null,
            "_view_module": "@jupyter-widgets/base",
            "_view_module_version": "1.2.0",
            "_view_name": "LayoutView",
            "align_content": null,
            "align_items": null,
            "align_self": null,
            "border": null,
            "bottom": null,
            "display": null,
            "flex": null,
            "flex_flow": null,
            "grid_area": null,
            "grid_auto_columns": null,
            "grid_auto_flow": null,
            "grid_auto_rows": null,
            "grid_column": null,
            "grid_gap": null,
            "grid_row": null,
            "grid_template_areas": null,
            "grid_template_columns": null,
            "grid_template_rows": null,
            "height": null,
            "justify_content": null,
            "justify_items": null,
            "left": null,
            "margin": null,
            "max_height": null,
            "max_width": null,
            "min_height": null,
            "min_width": null,
            "object_fit": null,
            "object_position": null,
            "order": null,
            "overflow": null,
            "overflow_x": null,
            "overflow_y": null,
            "padding": null,
            "right": null,
            "top": null,
            "visibility": null,
            "width": null
          }
        },
        "ca1d7f44c4ad4581b68685d139bf600c": {
          "model_module": "@jupyter-widgets/controls",
          "model_name": "DescriptionStyleModel",
          "model_module_version": "1.5.0",
          "state": {
            "_model_module": "@jupyter-widgets/controls",
            "_model_module_version": "1.5.0",
            "_model_name": "DescriptionStyleModel",
            "_view_count": null,
            "_view_module": "@jupyter-widgets/base",
            "_view_module_version": "1.2.0",
            "_view_name": "StyleView",
            "description_width": ""
          }
        },
        "a6766e7c87cf4d72968e0a598dc17128": {
          "model_module": "@jupyter-widgets/base",
          "model_name": "LayoutModel",
          "model_module_version": "1.2.0",
          "state": {
            "_model_module": "@jupyter-widgets/base",
            "_model_module_version": "1.2.0",
            "_model_name": "LayoutModel",
            "_view_count": null,
            "_view_module": "@jupyter-widgets/base",
            "_view_module_version": "1.2.0",
            "_view_name": "LayoutView",
            "align_content": null,
            "align_items": null,
            "align_self": null,
            "border": null,
            "bottom": null,
            "display": null,
            "flex": null,
            "flex_flow": null,
            "grid_area": null,
            "grid_auto_columns": null,
            "grid_auto_flow": null,
            "grid_auto_rows": null,
            "grid_column": null,
            "grid_gap": null,
            "grid_row": null,
            "grid_template_areas": null,
            "grid_template_columns": null,
            "grid_template_rows": null,
            "height": null,
            "justify_content": null,
            "justify_items": null,
            "left": null,
            "margin": null,
            "max_height": null,
            "max_width": null,
            "min_height": null,
            "min_width": null,
            "object_fit": null,
            "object_position": null,
            "order": null,
            "overflow": null,
            "overflow_x": null,
            "overflow_y": null,
            "padding": null,
            "right": null,
            "top": null,
            "visibility": null,
            "width": "20px"
          }
        },
        "70e913adb0a04d6cb880327f4d75c219": {
          "model_module": "@jupyter-widgets/controls",
          "model_name": "ProgressStyleModel",
          "model_module_version": "1.5.0",
          "state": {
            "_model_module": "@jupyter-widgets/controls",
            "_model_module_version": "1.5.0",
            "_model_name": "ProgressStyleModel",
            "_view_count": null,
            "_view_module": "@jupyter-widgets/base",
            "_view_module_version": "1.2.0",
            "_view_name": "StyleView",
            "bar_color": null,
            "description_width": ""
          }
        },
        "2c5cf4bce4ab4a028273bc2ade65397c": {
          "model_module": "@jupyter-widgets/base",
          "model_name": "LayoutModel",
          "model_module_version": "1.2.0",
          "state": {
            "_model_module": "@jupyter-widgets/base",
            "_model_module_version": "1.2.0",
            "_model_name": "LayoutModel",
            "_view_count": null,
            "_view_module": "@jupyter-widgets/base",
            "_view_module_version": "1.2.0",
            "_view_name": "LayoutView",
            "align_content": null,
            "align_items": null,
            "align_self": null,
            "border": null,
            "bottom": null,
            "display": null,
            "flex": null,
            "flex_flow": null,
            "grid_area": null,
            "grid_auto_columns": null,
            "grid_auto_flow": null,
            "grid_auto_rows": null,
            "grid_column": null,
            "grid_gap": null,
            "grid_row": null,
            "grid_template_areas": null,
            "grid_template_columns": null,
            "grid_template_rows": null,
            "height": null,
            "justify_content": null,
            "justify_items": null,
            "left": null,
            "margin": null,
            "max_height": null,
            "max_width": null,
            "min_height": null,
            "min_width": null,
            "object_fit": null,
            "object_position": null,
            "order": null,
            "overflow": null,
            "overflow_x": null,
            "overflow_y": null,
            "padding": null,
            "right": null,
            "top": null,
            "visibility": null,
            "width": null
          }
        },
        "2f7e78a6fbd446a4b177c7dfe70c601f": {
          "model_module": "@jupyter-widgets/controls",
          "model_name": "DescriptionStyleModel",
          "model_module_version": "1.5.0",
          "state": {
            "_model_module": "@jupyter-widgets/controls",
            "_model_module_version": "1.5.0",
            "_model_name": "DescriptionStyleModel",
            "_view_count": null,
            "_view_module": "@jupyter-widgets/base",
            "_view_module_version": "1.2.0",
            "_view_name": "StyleView",
            "description_width": ""
          }
        },
        "015926625d77488696ed751774ecfca8": {
          "model_module": "@jupyter-widgets/controls",
          "model_name": "HBoxModel",
          "model_module_version": "1.5.0",
          "state": {
            "_dom_classes": [],
            "_model_module": "@jupyter-widgets/controls",
            "_model_module_version": "1.5.0",
            "_model_name": "HBoxModel",
            "_view_count": null,
            "_view_module": "@jupyter-widgets/controls",
            "_view_module_version": "1.5.0",
            "_view_name": "HBoxView",
            "box_style": "",
            "children": [
              "IPY_MODEL_c8a9457f5c354cbb8f7177f42b9cfcc9",
              "IPY_MODEL_10820fd1d7b64755b0df63b1807e1533",
              "IPY_MODEL_82516b1f795a43b99ccd7b71becf0693"
            ],
            "layout": "IPY_MODEL_6822a9d51d08484dbdcff2fa598b8cb4"
          }
        },
        "c8a9457f5c354cbb8f7177f42b9cfcc9": {
          "model_module": "@jupyter-widgets/controls",
          "model_name": "HTMLModel",
          "model_module_version": "1.5.0",
          "state": {
            "_dom_classes": [],
            "_model_module": "@jupyter-widgets/controls",
            "_model_module_version": "1.5.0",
            "_model_name": "HTMLModel",
            "_view_count": null,
            "_view_module": "@jupyter-widgets/controls",
            "_view_module_version": "1.5.0",
            "_view_name": "HTMLView",
            "description": "",
            "description_tooltip": null,
            "layout": "IPY_MODEL_86b3471476704b6b91459e62a819d65b",
            "placeholder": "​",
            "style": "IPY_MODEL_fbd4538e1d4945ec9f552bb87f67c33e",
            "value": "Dl Size...: 100%"
          }
        },
        "10820fd1d7b64755b0df63b1807e1533": {
          "model_module": "@jupyter-widgets/controls",
          "model_name": "FloatProgressModel",
          "model_module_version": "1.5.0",
          "state": {
            "_dom_classes": [],
            "_model_module": "@jupyter-widgets/controls",
            "_model_module_version": "1.5.0",
            "_model_name": "FloatProgressModel",
            "_view_count": null,
            "_view_module": "@jupyter-widgets/controls",
            "_view_module_version": "1.5.0",
            "_view_name": "ProgressView",
            "bar_style": "success",
            "description": "",
            "description_tooltip": null,
            "layout": "IPY_MODEL_655ce95ebfd849dd8a0420ab80d4d82d",
            "max": 1,
            "min": 0,
            "orientation": "horizontal",
            "style": "IPY_MODEL_7e18cef20ff84073bc0a43ee1581e575",
            "value": 1
          }
        },
        "82516b1f795a43b99ccd7b71becf0693": {
          "model_module": "@jupyter-widgets/controls",
          "model_name": "HTMLModel",
          "model_module_version": "1.5.0",
          "state": {
            "_dom_classes": [],
            "_model_module": "@jupyter-widgets/controls",
            "_model_module_version": "1.5.0",
            "_model_name": "HTMLModel",
            "_view_count": null,
            "_view_module": "@jupyter-widgets/controls",
            "_view_module_version": "1.5.0",
            "_view_name": "HTMLView",
            "description": "",
            "description_tooltip": null,
            "layout": "IPY_MODEL_4f748bd60d9f4468ab4beaff3be91b86",
            "placeholder": "​",
            "style": "IPY_MODEL_99d382247ed5404280cee42a3bc91b49",
            "value": " 162/162 [00:09&lt;00:00, 31.33 MiB/s]"
          }
        },
        "6822a9d51d08484dbdcff2fa598b8cb4": {
          "model_module": "@jupyter-widgets/base",
          "model_name": "LayoutModel",
          "model_module_version": "1.2.0",
          "state": {
            "_model_module": "@jupyter-widgets/base",
            "_model_module_version": "1.2.0",
            "_model_name": "LayoutModel",
            "_view_count": null,
            "_view_module": "@jupyter-widgets/base",
            "_view_module_version": "1.2.0",
            "_view_name": "LayoutView",
            "align_content": null,
            "align_items": null,
            "align_self": null,
            "border": null,
            "bottom": null,
            "display": null,
            "flex": null,
            "flex_flow": null,
            "grid_area": null,
            "grid_auto_columns": null,
            "grid_auto_flow": null,
            "grid_auto_rows": null,
            "grid_column": null,
            "grid_gap": null,
            "grid_row": null,
            "grid_template_areas": null,
            "grid_template_columns": null,
            "grid_template_rows": null,
            "height": null,
            "justify_content": null,
            "justify_items": null,
            "left": null,
            "margin": null,
            "max_height": null,
            "max_width": null,
            "min_height": null,
            "min_width": null,
            "object_fit": null,
            "object_position": null,
            "order": null,
            "overflow": null,
            "overflow_x": null,
            "overflow_y": null,
            "padding": null,
            "right": null,
            "top": null,
            "visibility": null,
            "width": null
          }
        },
        "86b3471476704b6b91459e62a819d65b": {
          "model_module": "@jupyter-widgets/base",
          "model_name": "LayoutModel",
          "model_module_version": "1.2.0",
          "state": {
            "_model_module": "@jupyter-widgets/base",
            "_model_module_version": "1.2.0",
            "_model_name": "LayoutModel",
            "_view_count": null,
            "_view_module": "@jupyter-widgets/base",
            "_view_module_version": "1.2.0",
            "_view_name": "LayoutView",
            "align_content": null,
            "align_items": null,
            "align_self": null,
            "border": null,
            "bottom": null,
            "display": null,
            "flex": null,
            "flex_flow": null,
            "grid_area": null,
            "grid_auto_columns": null,
            "grid_auto_flow": null,
            "grid_auto_rows": null,
            "grid_column": null,
            "grid_gap": null,
            "grid_row": null,
            "grid_template_areas": null,
            "grid_template_columns": null,
            "grid_template_rows": null,
            "height": null,
            "justify_content": null,
            "justify_items": null,
            "left": null,
            "margin": null,
            "max_height": null,
            "max_width": null,
            "min_height": null,
            "min_width": null,
            "object_fit": null,
            "object_position": null,
            "order": null,
            "overflow": null,
            "overflow_x": null,
            "overflow_y": null,
            "padding": null,
            "right": null,
            "top": null,
            "visibility": null,
            "width": null
          }
        },
        "fbd4538e1d4945ec9f552bb87f67c33e": {
          "model_module": "@jupyter-widgets/controls",
          "model_name": "DescriptionStyleModel",
          "model_module_version": "1.5.0",
          "state": {
            "_model_module": "@jupyter-widgets/controls",
            "_model_module_version": "1.5.0",
            "_model_name": "DescriptionStyleModel",
            "_view_count": null,
            "_view_module": "@jupyter-widgets/base",
            "_view_module_version": "1.2.0",
            "_view_name": "StyleView",
            "description_width": ""
          }
        },
        "655ce95ebfd849dd8a0420ab80d4d82d": {
          "model_module": "@jupyter-widgets/base",
          "model_name": "LayoutModel",
          "model_module_version": "1.2.0",
          "state": {
            "_model_module": "@jupyter-widgets/base",
            "_model_module_version": "1.2.0",
            "_model_name": "LayoutModel",
            "_view_count": null,
            "_view_module": "@jupyter-widgets/base",
            "_view_module_version": "1.2.0",
            "_view_name": "LayoutView",
            "align_content": null,
            "align_items": null,
            "align_self": null,
            "border": null,
            "bottom": null,
            "display": null,
            "flex": null,
            "flex_flow": null,
            "grid_area": null,
            "grid_auto_columns": null,
            "grid_auto_flow": null,
            "grid_auto_rows": null,
            "grid_column": null,
            "grid_gap": null,
            "grid_row": null,
            "grid_template_areas": null,
            "grid_template_columns": null,
            "grid_template_rows": null,
            "height": null,
            "justify_content": null,
            "justify_items": null,
            "left": null,
            "margin": null,
            "max_height": null,
            "max_width": null,
            "min_height": null,
            "min_width": null,
            "object_fit": null,
            "object_position": null,
            "order": null,
            "overflow": null,
            "overflow_x": null,
            "overflow_y": null,
            "padding": null,
            "right": null,
            "top": null,
            "visibility": null,
            "width": "20px"
          }
        },
        "7e18cef20ff84073bc0a43ee1581e575": {
          "model_module": "@jupyter-widgets/controls",
          "model_name": "ProgressStyleModel",
          "model_module_version": "1.5.0",
          "state": {
            "_model_module": "@jupyter-widgets/controls",
            "_model_module_version": "1.5.0",
            "_model_name": "ProgressStyleModel",
            "_view_count": null,
            "_view_module": "@jupyter-widgets/base",
            "_view_module_version": "1.2.0",
            "_view_name": "StyleView",
            "bar_color": null,
            "description_width": ""
          }
        },
        "4f748bd60d9f4468ab4beaff3be91b86": {
          "model_module": "@jupyter-widgets/base",
          "model_name": "LayoutModel",
          "model_module_version": "1.2.0",
          "state": {
            "_model_module": "@jupyter-widgets/base",
            "_model_module_version": "1.2.0",
            "_model_name": "LayoutModel",
            "_view_count": null,
            "_view_module": "@jupyter-widgets/base",
            "_view_module_version": "1.2.0",
            "_view_name": "LayoutView",
            "align_content": null,
            "align_items": null,
            "align_self": null,
            "border": null,
            "bottom": null,
            "display": null,
            "flex": null,
            "flex_flow": null,
            "grid_area": null,
            "grid_auto_columns": null,
            "grid_auto_flow": null,
            "grid_auto_rows": null,
            "grid_column": null,
            "grid_gap": null,
            "grid_row": null,
            "grid_template_areas": null,
            "grid_template_columns": null,
            "grid_template_rows": null,
            "height": null,
            "justify_content": null,
            "justify_items": null,
            "left": null,
            "margin": null,
            "max_height": null,
            "max_width": null,
            "min_height": null,
            "min_width": null,
            "object_fit": null,
            "object_position": null,
            "order": null,
            "overflow": null,
            "overflow_x": null,
            "overflow_y": null,
            "padding": null,
            "right": null,
            "top": null,
            "visibility": null,
            "width": null
          }
        },
        "99d382247ed5404280cee42a3bc91b49": {
          "model_module": "@jupyter-widgets/controls",
          "model_name": "DescriptionStyleModel",
          "model_module_version": "1.5.0",
          "state": {
            "_model_module": "@jupyter-widgets/controls",
            "_model_module_version": "1.5.0",
            "_model_name": "DescriptionStyleModel",
            "_view_count": null,
            "_view_module": "@jupyter-widgets/base",
            "_view_module_version": "1.2.0",
            "_view_name": "StyleView",
            "description_width": ""
          }
        },
        "35c38c8b013b4df293e7a9a83ded0978": {
          "model_module": "@jupyter-widgets/controls",
          "model_name": "HBoxModel",
          "model_module_version": "1.5.0",
          "state": {
            "_dom_classes": [],
            "_model_module": "@jupyter-widgets/controls",
            "_model_module_version": "1.5.0",
            "_model_name": "HBoxModel",
            "_view_count": null,
            "_view_module": "@jupyter-widgets/controls",
            "_view_module_version": "1.5.0",
            "_view_name": "HBoxView",
            "box_style": "",
            "children": [
              "IPY_MODEL_c22ab0f7ff9344d3839984566c153a26",
              "IPY_MODEL_e5548bccbfde4b06a0e16ff86944686d",
              "IPY_MODEL_d119241c5ab24cc1a31f75893676ece3"
            ],
            "layout": "IPY_MODEL_0d481aedd28b42c086267416b7467db7"
          }
        },
        "c22ab0f7ff9344d3839984566c153a26": {
          "model_module": "@jupyter-widgets/controls",
          "model_name": "HTMLModel",
          "model_module_version": "1.5.0",
          "state": {
            "_dom_classes": [],
            "_model_module": "@jupyter-widgets/controls",
            "_model_module_version": "1.5.0",
            "_model_name": "HTMLModel",
            "_view_count": null,
            "_view_module": "@jupyter-widgets/controls",
            "_view_module_version": "1.5.0",
            "_view_name": "HTMLView",
            "description": "",
            "description_tooltip": null,
            "layout": "IPY_MODEL_b072964671404a5e9ecaa8074de3f6c8",
            "placeholder": "​",
            "style": "IPY_MODEL_7aa256aad58d492284b6bd776fab77bc",
            "value": "Extraction completed...: 100%"
          }
        },
        "e5548bccbfde4b06a0e16ff86944686d": {
          "model_module": "@jupyter-widgets/controls",
          "model_name": "FloatProgressModel",
          "model_module_version": "1.5.0",
          "state": {
            "_dom_classes": [],
            "_model_module": "@jupyter-widgets/controls",
            "_model_module_version": "1.5.0",
            "_model_name": "FloatProgressModel",
            "_view_count": null,
            "_view_module": "@jupyter-widgets/controls",
            "_view_module_version": "1.5.0",
            "_view_name": "ProgressView",
            "bar_style": "success",
            "description": "",
            "description_tooltip": null,
            "layout": "IPY_MODEL_ced64f5cc1e74e07beb951574ce6e447",
            "max": 1,
            "min": 0,
            "orientation": "horizontal",
            "style": "IPY_MODEL_62fd4ea4cdb84814bf3ccc5a0edb5732",
            "value": 1
          }
        },
        "d119241c5ab24cc1a31f75893676ece3": {
          "model_module": "@jupyter-widgets/controls",
          "model_name": "HTMLModel",
          "model_module_version": "1.5.0",
          "state": {
            "_dom_classes": [],
            "_model_module": "@jupyter-widgets/controls",
            "_model_module_version": "1.5.0",
            "_model_name": "HTMLModel",
            "_view_count": null,
            "_view_module": "@jupyter-widgets/controls",
            "_view_module_version": "1.5.0",
            "_view_name": "HTMLView",
            "description": "",
            "description_tooltip": null,
            "layout": "IPY_MODEL_8e0adb9ca05247799fa3769db0ce338d",
            "placeholder": "​",
            "style": "IPY_MODEL_27a124100b7e4124ac5da0b7cd19e899",
            "value": " 8/8 [00:09&lt;00:00,  9.39s/ file]"
          }
        },
        "0d481aedd28b42c086267416b7467db7": {
          "model_module": "@jupyter-widgets/base",
          "model_name": "LayoutModel",
          "model_module_version": "1.2.0",
          "state": {
            "_model_module": "@jupyter-widgets/base",
            "_model_module_version": "1.2.0",
            "_model_name": "LayoutModel",
            "_view_count": null,
            "_view_module": "@jupyter-widgets/base",
            "_view_module_version": "1.2.0",
            "_view_name": "LayoutView",
            "align_content": null,
            "align_items": null,
            "align_self": null,
            "border": null,
            "bottom": null,
            "display": null,
            "flex": null,
            "flex_flow": null,
            "grid_area": null,
            "grid_auto_columns": null,
            "grid_auto_flow": null,
            "grid_auto_rows": null,
            "grid_column": null,
            "grid_gap": null,
            "grid_row": null,
            "grid_template_areas": null,
            "grid_template_columns": null,
            "grid_template_rows": null,
            "height": null,
            "justify_content": null,
            "justify_items": null,
            "left": null,
            "margin": null,
            "max_height": null,
            "max_width": null,
            "min_height": null,
            "min_width": null,
            "object_fit": null,
            "object_position": null,
            "order": null,
            "overflow": null,
            "overflow_x": null,
            "overflow_y": null,
            "padding": null,
            "right": null,
            "top": null,
            "visibility": null,
            "width": null
          }
        },
        "b072964671404a5e9ecaa8074de3f6c8": {
          "model_module": "@jupyter-widgets/base",
          "model_name": "LayoutModel",
          "model_module_version": "1.2.0",
          "state": {
            "_model_module": "@jupyter-widgets/base",
            "_model_module_version": "1.2.0",
            "_model_name": "LayoutModel",
            "_view_count": null,
            "_view_module": "@jupyter-widgets/base",
            "_view_module_version": "1.2.0",
            "_view_name": "LayoutView",
            "align_content": null,
            "align_items": null,
            "align_self": null,
            "border": null,
            "bottom": null,
            "display": null,
            "flex": null,
            "flex_flow": null,
            "grid_area": null,
            "grid_auto_columns": null,
            "grid_auto_flow": null,
            "grid_auto_rows": null,
            "grid_column": null,
            "grid_gap": null,
            "grid_row": null,
            "grid_template_areas": null,
            "grid_template_columns": null,
            "grid_template_rows": null,
            "height": null,
            "justify_content": null,
            "justify_items": null,
            "left": null,
            "margin": null,
            "max_height": null,
            "max_width": null,
            "min_height": null,
            "min_width": null,
            "object_fit": null,
            "object_position": null,
            "order": null,
            "overflow": null,
            "overflow_x": null,
            "overflow_y": null,
            "padding": null,
            "right": null,
            "top": null,
            "visibility": null,
            "width": null
          }
        },
        "7aa256aad58d492284b6bd776fab77bc": {
          "model_module": "@jupyter-widgets/controls",
          "model_name": "DescriptionStyleModel",
          "model_module_version": "1.5.0",
          "state": {
            "_model_module": "@jupyter-widgets/controls",
            "_model_module_version": "1.5.0",
            "_model_name": "DescriptionStyleModel",
            "_view_count": null,
            "_view_module": "@jupyter-widgets/base",
            "_view_module_version": "1.2.0",
            "_view_name": "StyleView",
            "description_width": ""
          }
        },
        "ced64f5cc1e74e07beb951574ce6e447": {
          "model_module": "@jupyter-widgets/base",
          "model_name": "LayoutModel",
          "model_module_version": "1.2.0",
          "state": {
            "_model_module": "@jupyter-widgets/base",
            "_model_module_version": "1.2.0",
            "_model_name": "LayoutModel",
            "_view_count": null,
            "_view_module": "@jupyter-widgets/base",
            "_view_module_version": "1.2.0",
            "_view_name": "LayoutView",
            "align_content": null,
            "align_items": null,
            "align_self": null,
            "border": null,
            "bottom": null,
            "display": null,
            "flex": null,
            "flex_flow": null,
            "grid_area": null,
            "grid_auto_columns": null,
            "grid_auto_flow": null,
            "grid_auto_rows": null,
            "grid_column": null,
            "grid_gap": null,
            "grid_row": null,
            "grid_template_areas": null,
            "grid_template_columns": null,
            "grid_template_rows": null,
            "height": null,
            "justify_content": null,
            "justify_items": null,
            "left": null,
            "margin": null,
            "max_height": null,
            "max_width": null,
            "min_height": null,
            "min_width": null,
            "object_fit": null,
            "object_position": null,
            "order": null,
            "overflow": null,
            "overflow_x": null,
            "overflow_y": null,
            "padding": null,
            "right": null,
            "top": null,
            "visibility": null,
            "width": "20px"
          }
        },
        "62fd4ea4cdb84814bf3ccc5a0edb5732": {
          "model_module": "@jupyter-widgets/controls",
          "model_name": "ProgressStyleModel",
          "model_module_version": "1.5.0",
          "state": {
            "_model_module": "@jupyter-widgets/controls",
            "_model_module_version": "1.5.0",
            "_model_name": "ProgressStyleModel",
            "_view_count": null,
            "_view_module": "@jupyter-widgets/base",
            "_view_module_version": "1.2.0",
            "_view_name": "StyleView",
            "bar_color": null,
            "description_width": ""
          }
        },
        "8e0adb9ca05247799fa3769db0ce338d": {
          "model_module": "@jupyter-widgets/base",
          "model_name": "LayoutModel",
          "model_module_version": "1.2.0",
          "state": {
            "_model_module": "@jupyter-widgets/base",
            "_model_module_version": "1.2.0",
            "_model_name": "LayoutModel",
            "_view_count": null,
            "_view_module": "@jupyter-widgets/base",
            "_view_module_version": "1.2.0",
            "_view_name": "LayoutView",
            "align_content": null,
            "align_items": null,
            "align_self": null,
            "border": null,
            "bottom": null,
            "display": null,
            "flex": null,
            "flex_flow": null,
            "grid_area": null,
            "grid_auto_columns": null,
            "grid_auto_flow": null,
            "grid_auto_rows": null,
            "grid_column": null,
            "grid_gap": null,
            "grid_row": null,
            "grid_template_areas": null,
            "grid_template_columns": null,
            "grid_template_rows": null,
            "height": null,
            "justify_content": null,
            "justify_items": null,
            "left": null,
            "margin": null,
            "max_height": null,
            "max_width": null,
            "min_height": null,
            "min_width": null,
            "object_fit": null,
            "object_position": null,
            "order": null,
            "overflow": null,
            "overflow_x": null,
            "overflow_y": null,
            "padding": null,
            "right": null,
            "top": null,
            "visibility": null,
            "width": null
          }
        },
        "27a124100b7e4124ac5da0b7cd19e899": {
          "model_module": "@jupyter-widgets/controls",
          "model_name": "DescriptionStyleModel",
          "model_module_version": "1.5.0",
          "state": {
            "_model_module": "@jupyter-widgets/controls",
            "_model_module_version": "1.5.0",
            "_model_name": "DescriptionStyleModel",
            "_view_count": null,
            "_view_module": "@jupyter-widgets/base",
            "_view_module_version": "1.2.0",
            "_view_name": "StyleView",
            "description_width": ""
          }
        },
        "6e1483002946480eaf11f4d8cd874833": {
          "model_module": "@jupyter-widgets/controls",
          "model_name": "HBoxModel",
          "model_module_version": "1.5.0",
          "state": {
            "_dom_classes": [],
            "_model_module": "@jupyter-widgets/controls",
            "_model_module_version": "1.5.0",
            "_model_name": "HBoxModel",
            "_view_count": null,
            "_view_module": "@jupyter-widgets/controls",
            "_view_module_version": "1.5.0",
            "_view_name": "HBoxView",
            "box_style": "",
            "children": [
              "IPY_MODEL_1e27ad3667804b7b9f9dc6df9853bd77",
              "IPY_MODEL_f0d0196a609f42fd90115630a8b19122",
              "IPY_MODEL_83cd7918958249e78e2568f842e57929"
            ],
            "layout": "IPY_MODEL_a57de06578f9410ab3f2bfa47a5d2667"
          }
        },
        "1e27ad3667804b7b9f9dc6df9853bd77": {
          "model_module": "@jupyter-widgets/controls",
          "model_name": "HTMLModel",
          "model_module_version": "1.5.0",
          "state": {
            "_dom_classes": [],
            "_model_module": "@jupyter-widgets/controls",
            "_model_module_version": "1.5.0",
            "_model_name": "HTMLModel",
            "_view_count": null,
            "_view_module": "@jupyter-widgets/controls",
            "_view_module_version": "1.5.0",
            "_view_name": "HTMLView",
            "description": "",
            "description_tooltip": null,
            "layout": "IPY_MODEL_202bf59425234910bee3f5d36257e6ed",
            "placeholder": "​",
            "style": "IPY_MODEL_46785c46b794431fb302874bd03b53a5",
            "value": "Generating splits...: 100%"
          }
        },
        "f0d0196a609f42fd90115630a8b19122": {
          "model_module": "@jupyter-widgets/controls",
          "model_name": "FloatProgressModel",
          "model_module_version": "1.5.0",
          "state": {
            "_dom_classes": [],
            "_model_module": "@jupyter-widgets/controls",
            "_model_module_version": "1.5.0",
            "_model_name": "FloatProgressModel",
            "_view_count": null,
            "_view_module": "@jupyter-widgets/controls",
            "_view_module_version": "1.5.0",
            "_view_name": "ProgressView",
            "bar_style": "",
            "description": "",
            "description_tooltip": null,
            "layout": "IPY_MODEL_ce23c1d0610f45b898a18a7b36e0fbc3",
            "max": 2,
            "min": 0,
            "orientation": "horizontal",
            "style": "IPY_MODEL_b2c50752e05344b18de7a7b606a6fc66",
            "value": 2
          }
        },
        "83cd7918958249e78e2568f842e57929": {
          "model_module": "@jupyter-widgets/controls",
          "model_name": "HTMLModel",
          "model_module_version": "1.5.0",
          "state": {
            "_dom_classes": [],
            "_model_module": "@jupyter-widgets/controls",
            "_model_module_version": "1.5.0",
            "_model_name": "HTMLModel",
            "_view_count": null,
            "_view_module": "@jupyter-widgets/controls",
            "_view_module_version": "1.5.0",
            "_view_name": "HTMLView",
            "description": "",
            "description_tooltip": null,
            "layout": "IPY_MODEL_6d15d7771c4343938d41b1054c45d41f",
            "placeholder": "​",
            "style": "IPY_MODEL_f5e85f614ad1476fb20b6f8887e21f78",
            "value": " 2/2 [00:52&lt;00:00, 23.17s/ splits]"
          }
        },
        "a57de06578f9410ab3f2bfa47a5d2667": {
          "model_module": "@jupyter-widgets/base",
          "model_name": "LayoutModel",
          "model_module_version": "1.2.0",
          "state": {
            "_model_module": "@jupyter-widgets/base",
            "_model_module_version": "1.2.0",
            "_model_name": "LayoutModel",
            "_view_count": null,
            "_view_module": "@jupyter-widgets/base",
            "_view_module_version": "1.2.0",
            "_view_name": "LayoutView",
            "align_content": null,
            "align_items": null,
            "align_self": null,
            "border": null,
            "bottom": null,
            "display": null,
            "flex": null,
            "flex_flow": null,
            "grid_area": null,
            "grid_auto_columns": null,
            "grid_auto_flow": null,
            "grid_auto_rows": null,
            "grid_column": null,
            "grid_gap": null,
            "grid_row": null,
            "grid_template_areas": null,
            "grid_template_columns": null,
            "grid_template_rows": null,
            "height": null,
            "justify_content": null,
            "justify_items": null,
            "left": null,
            "margin": null,
            "max_height": null,
            "max_width": null,
            "min_height": null,
            "min_width": null,
            "object_fit": null,
            "object_position": null,
            "order": null,
            "overflow": null,
            "overflow_x": null,
            "overflow_y": null,
            "padding": null,
            "right": null,
            "top": null,
            "visibility": "hidden",
            "width": null
          }
        },
        "202bf59425234910bee3f5d36257e6ed": {
          "model_module": "@jupyter-widgets/base",
          "model_name": "LayoutModel",
          "model_module_version": "1.2.0",
          "state": {
            "_model_module": "@jupyter-widgets/base",
            "_model_module_version": "1.2.0",
            "_model_name": "LayoutModel",
            "_view_count": null,
            "_view_module": "@jupyter-widgets/base",
            "_view_module_version": "1.2.0",
            "_view_name": "LayoutView",
            "align_content": null,
            "align_items": null,
            "align_self": null,
            "border": null,
            "bottom": null,
            "display": null,
            "flex": null,
            "flex_flow": null,
            "grid_area": null,
            "grid_auto_columns": null,
            "grid_auto_flow": null,
            "grid_auto_rows": null,
            "grid_column": null,
            "grid_gap": null,
            "grid_row": null,
            "grid_template_areas": null,
            "grid_template_columns": null,
            "grid_template_rows": null,
            "height": null,
            "justify_content": null,
            "justify_items": null,
            "left": null,
            "margin": null,
            "max_height": null,
            "max_width": null,
            "min_height": null,
            "min_width": null,
            "object_fit": null,
            "object_position": null,
            "order": null,
            "overflow": null,
            "overflow_x": null,
            "overflow_y": null,
            "padding": null,
            "right": null,
            "top": null,
            "visibility": null,
            "width": null
          }
        },
        "46785c46b794431fb302874bd03b53a5": {
          "model_module": "@jupyter-widgets/controls",
          "model_name": "DescriptionStyleModel",
          "model_module_version": "1.5.0",
          "state": {
            "_model_module": "@jupyter-widgets/controls",
            "_model_module_version": "1.5.0",
            "_model_name": "DescriptionStyleModel",
            "_view_count": null,
            "_view_module": "@jupyter-widgets/base",
            "_view_module_version": "1.2.0",
            "_view_name": "StyleView",
            "description_width": ""
          }
        },
        "ce23c1d0610f45b898a18a7b36e0fbc3": {
          "model_module": "@jupyter-widgets/base",
          "model_name": "LayoutModel",
          "model_module_version": "1.2.0",
          "state": {
            "_model_module": "@jupyter-widgets/base",
            "_model_module_version": "1.2.0",
            "_model_name": "LayoutModel",
            "_view_count": null,
            "_view_module": "@jupyter-widgets/base",
            "_view_module_version": "1.2.0",
            "_view_name": "LayoutView",
            "align_content": null,
            "align_items": null,
            "align_self": null,
            "border": null,
            "bottom": null,
            "display": null,
            "flex": null,
            "flex_flow": null,
            "grid_area": null,
            "grid_auto_columns": null,
            "grid_auto_flow": null,
            "grid_auto_rows": null,
            "grid_column": null,
            "grid_gap": null,
            "grid_row": null,
            "grid_template_areas": null,
            "grid_template_columns": null,
            "grid_template_rows": null,
            "height": null,
            "justify_content": null,
            "justify_items": null,
            "left": null,
            "margin": null,
            "max_height": null,
            "max_width": null,
            "min_height": null,
            "min_width": null,
            "object_fit": null,
            "object_position": null,
            "order": null,
            "overflow": null,
            "overflow_x": null,
            "overflow_y": null,
            "padding": null,
            "right": null,
            "top": null,
            "visibility": null,
            "width": null
          }
        },
        "b2c50752e05344b18de7a7b606a6fc66": {
          "model_module": "@jupyter-widgets/controls",
          "model_name": "ProgressStyleModel",
          "model_module_version": "1.5.0",
          "state": {
            "_model_module": "@jupyter-widgets/controls",
            "_model_module_version": "1.5.0",
            "_model_name": "ProgressStyleModel",
            "_view_count": null,
            "_view_module": "@jupyter-widgets/base",
            "_view_module_version": "1.2.0",
            "_view_name": "StyleView",
            "bar_color": null,
            "description_width": ""
          }
        },
        "6d15d7771c4343938d41b1054c45d41f": {
          "model_module": "@jupyter-widgets/base",
          "model_name": "LayoutModel",
          "model_module_version": "1.2.0",
          "state": {
            "_model_module": "@jupyter-widgets/base",
            "_model_module_version": "1.2.0",
            "_model_name": "LayoutModel",
            "_view_count": null,
            "_view_module": "@jupyter-widgets/base",
            "_view_module_version": "1.2.0",
            "_view_name": "LayoutView",
            "align_content": null,
            "align_items": null,
            "align_self": null,
            "border": null,
            "bottom": null,
            "display": null,
            "flex": null,
            "flex_flow": null,
            "grid_area": null,
            "grid_auto_columns": null,
            "grid_auto_flow": null,
            "grid_auto_rows": null,
            "grid_column": null,
            "grid_gap": null,
            "grid_row": null,
            "grid_template_areas": null,
            "grid_template_columns": null,
            "grid_template_rows": null,
            "height": null,
            "justify_content": null,
            "justify_items": null,
            "left": null,
            "margin": null,
            "max_height": null,
            "max_width": null,
            "min_height": null,
            "min_width": null,
            "object_fit": null,
            "object_position": null,
            "order": null,
            "overflow": null,
            "overflow_x": null,
            "overflow_y": null,
            "padding": null,
            "right": null,
            "top": null,
            "visibility": null,
            "width": null
          }
        },
        "f5e85f614ad1476fb20b6f8887e21f78": {
          "model_module": "@jupyter-widgets/controls",
          "model_name": "DescriptionStyleModel",
          "model_module_version": "1.5.0",
          "state": {
            "_model_module": "@jupyter-widgets/controls",
            "_model_module_version": "1.5.0",
            "_model_name": "DescriptionStyleModel",
            "_view_count": null,
            "_view_module": "@jupyter-widgets/base",
            "_view_module_version": "1.2.0",
            "_view_name": "StyleView",
            "description_width": ""
          }
        },
        "4bb503de4c0d48068e9204f9baf24861": {
          "model_module": "@jupyter-widgets/controls",
          "model_name": "HBoxModel",
          "model_module_version": "1.5.0",
          "state": {
            "_dom_classes": [],
            "_model_module": "@jupyter-widgets/controls",
            "_model_module_version": "1.5.0",
            "_model_name": "HBoxModel",
            "_view_count": null,
            "_view_module": "@jupyter-widgets/controls",
            "_view_module_version": "1.5.0",
            "_view_name": "HBoxView",
            "box_style": "",
            "children": [
              "IPY_MODEL_7e88b874e0ee4f308133461bedbdd40c",
              "IPY_MODEL_e9144a61cb234fe2a7b773710cf529ee",
              "IPY_MODEL_98bafa5794274cc8aae5e01f75d1287e"
            ],
            "layout": "IPY_MODEL_8463b3357642455ab0236e144ddc182c"
          }
        },
        "7e88b874e0ee4f308133461bedbdd40c": {
          "model_module": "@jupyter-widgets/controls",
          "model_name": "HTMLModel",
          "model_module_version": "1.5.0",
          "state": {
            "_dom_classes": [],
            "_model_module": "@jupyter-widgets/controls",
            "_model_module_version": "1.5.0",
            "_model_name": "HTMLModel",
            "_view_count": null,
            "_view_module": "@jupyter-widgets/controls",
            "_view_module_version": "1.5.0",
            "_view_name": "HTMLView",
            "description": "",
            "description_tooltip": null,
            "layout": "IPY_MODEL_1298353a4afd44438e9f844d37a643a5",
            "placeholder": "​",
            "style": "IPY_MODEL_dbb144a13f334d14bf9433a420247ec3",
            "value": "Generating train examples...: 100%"
          }
        },
        "e9144a61cb234fe2a7b773710cf529ee": {
          "model_module": "@jupyter-widgets/controls",
          "model_name": "FloatProgressModel",
          "model_module_version": "1.5.0",
          "state": {
            "_dom_classes": [],
            "_model_module": "@jupyter-widgets/controls",
            "_model_module_version": "1.5.0",
            "_model_name": "FloatProgressModel",
            "_view_count": null,
            "_view_module": "@jupyter-widgets/controls",
            "_view_module_version": "1.5.0",
            "_view_name": "ProgressView",
            "bar_style": "",
            "description": "",
            "description_tooltip": null,
            "layout": "IPY_MODEL_76fd88d0c2ae4e04a873f37d58717de4",
            "max": 50000,
            "min": 0,
            "orientation": "horizontal",
            "style": "IPY_MODEL_f9edd8b1a4884cd4ad83733d67d3c3bc",
            "value": 50000
          }
        },
        "98bafa5794274cc8aae5e01f75d1287e": {
          "model_module": "@jupyter-widgets/controls",
          "model_name": "HTMLModel",
          "model_module_version": "1.5.0",
          "state": {
            "_dom_classes": [],
            "_model_module": "@jupyter-widgets/controls",
            "_model_module_version": "1.5.0",
            "_model_name": "HTMLModel",
            "_view_count": null,
            "_view_module": "@jupyter-widgets/controls",
            "_view_module_version": "1.5.0",
            "_view_name": "HTMLView",
            "description": "",
            "description_tooltip": null,
            "layout": "IPY_MODEL_9af7406c176c4653856b27e3fe5de87f",
            "placeholder": "​",
            "style": "IPY_MODEL_2fee24175360432481f6f173a3192ecb",
            "value": " 49920/50000 [00:43&lt;00:00, 1261.69 examples/s]"
          }
        },
        "8463b3357642455ab0236e144ddc182c": {
          "model_module": "@jupyter-widgets/base",
          "model_name": "LayoutModel",
          "model_module_version": "1.2.0",
          "state": {
            "_model_module": "@jupyter-widgets/base",
            "_model_module_version": "1.2.0",
            "_model_name": "LayoutModel",
            "_view_count": null,
            "_view_module": "@jupyter-widgets/base",
            "_view_module_version": "1.2.0",
            "_view_name": "LayoutView",
            "align_content": null,
            "align_items": null,
            "align_self": null,
            "border": null,
            "bottom": null,
            "display": null,
            "flex": null,
            "flex_flow": null,
            "grid_area": null,
            "grid_auto_columns": null,
            "grid_auto_flow": null,
            "grid_auto_rows": null,
            "grid_column": null,
            "grid_gap": null,
            "grid_row": null,
            "grid_template_areas": null,
            "grid_template_columns": null,
            "grid_template_rows": null,
            "height": null,
            "justify_content": null,
            "justify_items": null,
            "left": null,
            "margin": null,
            "max_height": null,
            "max_width": null,
            "min_height": null,
            "min_width": null,
            "object_fit": null,
            "object_position": null,
            "order": null,
            "overflow": null,
            "overflow_x": null,
            "overflow_y": null,
            "padding": null,
            "right": null,
            "top": null,
            "visibility": "hidden",
            "width": null
          }
        },
        "1298353a4afd44438e9f844d37a643a5": {
          "model_module": "@jupyter-widgets/base",
          "model_name": "LayoutModel",
          "model_module_version": "1.2.0",
          "state": {
            "_model_module": "@jupyter-widgets/base",
            "_model_module_version": "1.2.0",
            "_model_name": "LayoutModel",
            "_view_count": null,
            "_view_module": "@jupyter-widgets/base",
            "_view_module_version": "1.2.0",
            "_view_name": "LayoutView",
            "align_content": null,
            "align_items": null,
            "align_self": null,
            "border": null,
            "bottom": null,
            "display": null,
            "flex": null,
            "flex_flow": null,
            "grid_area": null,
            "grid_auto_columns": null,
            "grid_auto_flow": null,
            "grid_auto_rows": null,
            "grid_column": null,
            "grid_gap": null,
            "grid_row": null,
            "grid_template_areas": null,
            "grid_template_columns": null,
            "grid_template_rows": null,
            "height": null,
            "justify_content": null,
            "justify_items": null,
            "left": null,
            "margin": null,
            "max_height": null,
            "max_width": null,
            "min_height": null,
            "min_width": null,
            "object_fit": null,
            "object_position": null,
            "order": null,
            "overflow": null,
            "overflow_x": null,
            "overflow_y": null,
            "padding": null,
            "right": null,
            "top": null,
            "visibility": null,
            "width": null
          }
        },
        "dbb144a13f334d14bf9433a420247ec3": {
          "model_module": "@jupyter-widgets/controls",
          "model_name": "DescriptionStyleModel",
          "model_module_version": "1.5.0",
          "state": {
            "_model_module": "@jupyter-widgets/controls",
            "_model_module_version": "1.5.0",
            "_model_name": "DescriptionStyleModel",
            "_view_count": null,
            "_view_module": "@jupyter-widgets/base",
            "_view_module_version": "1.2.0",
            "_view_name": "StyleView",
            "description_width": ""
          }
        },
        "76fd88d0c2ae4e04a873f37d58717de4": {
          "model_module": "@jupyter-widgets/base",
          "model_name": "LayoutModel",
          "model_module_version": "1.2.0",
          "state": {
            "_model_module": "@jupyter-widgets/base",
            "_model_module_version": "1.2.0",
            "_model_name": "LayoutModel",
            "_view_count": null,
            "_view_module": "@jupyter-widgets/base",
            "_view_module_version": "1.2.0",
            "_view_name": "LayoutView",
            "align_content": null,
            "align_items": null,
            "align_self": null,
            "border": null,
            "bottom": null,
            "display": null,
            "flex": null,
            "flex_flow": null,
            "grid_area": null,
            "grid_auto_columns": null,
            "grid_auto_flow": null,
            "grid_auto_rows": null,
            "grid_column": null,
            "grid_gap": null,
            "grid_row": null,
            "grid_template_areas": null,
            "grid_template_columns": null,
            "grid_template_rows": null,
            "height": null,
            "justify_content": null,
            "justify_items": null,
            "left": null,
            "margin": null,
            "max_height": null,
            "max_width": null,
            "min_height": null,
            "min_width": null,
            "object_fit": null,
            "object_position": null,
            "order": null,
            "overflow": null,
            "overflow_x": null,
            "overflow_y": null,
            "padding": null,
            "right": null,
            "top": null,
            "visibility": null,
            "width": null
          }
        },
        "f9edd8b1a4884cd4ad83733d67d3c3bc": {
          "model_module": "@jupyter-widgets/controls",
          "model_name": "ProgressStyleModel",
          "model_module_version": "1.5.0",
          "state": {
            "_model_module": "@jupyter-widgets/controls",
            "_model_module_version": "1.5.0",
            "_model_name": "ProgressStyleModel",
            "_view_count": null,
            "_view_module": "@jupyter-widgets/base",
            "_view_module_version": "1.2.0",
            "_view_name": "StyleView",
            "bar_color": null,
            "description_width": ""
          }
        },
        "9af7406c176c4653856b27e3fe5de87f": {
          "model_module": "@jupyter-widgets/base",
          "model_name": "LayoutModel",
          "model_module_version": "1.2.0",
          "state": {
            "_model_module": "@jupyter-widgets/base",
            "_model_module_version": "1.2.0",
            "_model_name": "LayoutModel",
            "_view_count": null,
            "_view_module": "@jupyter-widgets/base",
            "_view_module_version": "1.2.0",
            "_view_name": "LayoutView",
            "align_content": null,
            "align_items": null,
            "align_self": null,
            "border": null,
            "bottom": null,
            "display": null,
            "flex": null,
            "flex_flow": null,
            "grid_area": null,
            "grid_auto_columns": null,
            "grid_auto_flow": null,
            "grid_auto_rows": null,
            "grid_column": null,
            "grid_gap": null,
            "grid_row": null,
            "grid_template_areas": null,
            "grid_template_columns": null,
            "grid_template_rows": null,
            "height": null,
            "justify_content": null,
            "justify_items": null,
            "left": null,
            "margin": null,
            "max_height": null,
            "max_width": null,
            "min_height": null,
            "min_width": null,
            "object_fit": null,
            "object_position": null,
            "order": null,
            "overflow": null,
            "overflow_x": null,
            "overflow_y": null,
            "padding": null,
            "right": null,
            "top": null,
            "visibility": null,
            "width": null
          }
        },
        "2fee24175360432481f6f173a3192ecb": {
          "model_module": "@jupyter-widgets/controls",
          "model_name": "DescriptionStyleModel",
          "model_module_version": "1.5.0",
          "state": {
            "_model_module": "@jupyter-widgets/controls",
            "_model_module_version": "1.5.0",
            "_model_name": "DescriptionStyleModel",
            "_view_count": null,
            "_view_module": "@jupyter-widgets/base",
            "_view_module_version": "1.2.0",
            "_view_name": "StyleView",
            "description_width": ""
          }
        },
        "49354534f25d44679a01e1409a49d907": {
          "model_module": "@jupyter-widgets/controls",
          "model_name": "HBoxModel",
          "model_module_version": "1.5.0",
          "state": {
            "_dom_classes": [],
            "_model_module": "@jupyter-widgets/controls",
            "_model_module_version": "1.5.0",
            "_model_name": "HBoxModel",
            "_view_count": null,
            "_view_module": "@jupyter-widgets/controls",
            "_view_module_version": "1.5.0",
            "_view_name": "HBoxView",
            "box_style": "",
            "children": [
              "IPY_MODEL_e365e8b4059a4184ad15d587e5911d6a",
              "IPY_MODEL_db012590b49b43ddbcbd3a31a5fe846f",
              "IPY_MODEL_d18fb92953a44e32b4f765149074f9b7"
            ],
            "layout": "IPY_MODEL_75d023de8b834a4abab7b8ffcf6d0c27"
          }
        },
        "e365e8b4059a4184ad15d587e5911d6a": {
          "model_module": "@jupyter-widgets/controls",
          "model_name": "HTMLModel",
          "model_module_version": "1.5.0",
          "state": {
            "_dom_classes": [],
            "_model_module": "@jupyter-widgets/controls",
            "_model_module_version": "1.5.0",
            "_model_name": "HTMLModel",
            "_view_count": null,
            "_view_module": "@jupyter-widgets/controls",
            "_view_module_version": "1.5.0",
            "_view_name": "HTMLView",
            "description": "",
            "description_tooltip": null,
            "layout": "IPY_MODEL_e4e9268112ce4a06a621ba140ee256df",
            "placeholder": "​",
            "style": "IPY_MODEL_e6c52678313f4573a646b2faf82c2e16",
            "value": "Shuffling /root/tensorflow_datasets/cifar10/3.0.2.incomplete8L4FX9/cifar10-train.tfrecord*...:  96%"
          }
        },
        "db012590b49b43ddbcbd3a31a5fe846f": {
          "model_module": "@jupyter-widgets/controls",
          "model_name": "FloatProgressModel",
          "model_module_version": "1.5.0",
          "state": {
            "_dom_classes": [],
            "_model_module": "@jupyter-widgets/controls",
            "_model_module_version": "1.5.0",
            "_model_name": "FloatProgressModel",
            "_view_count": null,
            "_view_module": "@jupyter-widgets/controls",
            "_view_module_version": "1.5.0",
            "_view_name": "ProgressView",
            "bar_style": "",
            "description": "",
            "description_tooltip": null,
            "layout": "IPY_MODEL_d63c18a6ffed498f96632e0777a931d5",
            "max": 50000,
            "min": 0,
            "orientation": "horizontal",
            "style": "IPY_MODEL_5f366c7551394fcb9eed45edf6e80cee",
            "value": 50000
          }
        },
        "d18fb92953a44e32b4f765149074f9b7": {
          "model_module": "@jupyter-widgets/controls",
          "model_name": "HTMLModel",
          "model_module_version": "1.5.0",
          "state": {
            "_dom_classes": [],
            "_model_module": "@jupyter-widgets/controls",
            "_model_module_version": "1.5.0",
            "_model_name": "HTMLModel",
            "_view_count": null,
            "_view_module": "@jupyter-widgets/controls",
            "_view_module_version": "1.5.0",
            "_view_name": "HTMLView",
            "description": "",
            "description_tooltip": null,
            "layout": "IPY_MODEL_2c08f7bb0ccb4524ba25684d00131549",
            "placeholder": "​",
            "style": "IPY_MODEL_13fa229396fe4ee7bd48bc7568e2b00c",
            "value": " 47965/50000 [00:00&lt;00:00, 172438.44 examples/s]"
          }
        },
        "75d023de8b834a4abab7b8ffcf6d0c27": {
          "model_module": "@jupyter-widgets/base",
          "model_name": "LayoutModel",
          "model_module_version": "1.2.0",
          "state": {
            "_model_module": "@jupyter-widgets/base",
            "_model_module_version": "1.2.0",
            "_model_name": "LayoutModel",
            "_view_count": null,
            "_view_module": "@jupyter-widgets/base",
            "_view_module_version": "1.2.0",
            "_view_name": "LayoutView",
            "align_content": null,
            "align_items": null,
            "align_self": null,
            "border": null,
            "bottom": null,
            "display": null,
            "flex": null,
            "flex_flow": null,
            "grid_area": null,
            "grid_auto_columns": null,
            "grid_auto_flow": null,
            "grid_auto_rows": null,
            "grid_column": null,
            "grid_gap": null,
            "grid_row": null,
            "grid_template_areas": null,
            "grid_template_columns": null,
            "grid_template_rows": null,
            "height": null,
            "justify_content": null,
            "justify_items": null,
            "left": null,
            "margin": null,
            "max_height": null,
            "max_width": null,
            "min_height": null,
            "min_width": null,
            "object_fit": null,
            "object_position": null,
            "order": null,
            "overflow": null,
            "overflow_x": null,
            "overflow_y": null,
            "padding": null,
            "right": null,
            "top": null,
            "visibility": "hidden",
            "width": null
          }
        },
        "e4e9268112ce4a06a621ba140ee256df": {
          "model_module": "@jupyter-widgets/base",
          "model_name": "LayoutModel",
          "model_module_version": "1.2.0",
          "state": {
            "_model_module": "@jupyter-widgets/base",
            "_model_module_version": "1.2.0",
            "_model_name": "LayoutModel",
            "_view_count": null,
            "_view_module": "@jupyter-widgets/base",
            "_view_module_version": "1.2.0",
            "_view_name": "LayoutView",
            "align_content": null,
            "align_items": null,
            "align_self": null,
            "border": null,
            "bottom": null,
            "display": null,
            "flex": null,
            "flex_flow": null,
            "grid_area": null,
            "grid_auto_columns": null,
            "grid_auto_flow": null,
            "grid_auto_rows": null,
            "grid_column": null,
            "grid_gap": null,
            "grid_row": null,
            "grid_template_areas": null,
            "grid_template_columns": null,
            "grid_template_rows": null,
            "height": null,
            "justify_content": null,
            "justify_items": null,
            "left": null,
            "margin": null,
            "max_height": null,
            "max_width": null,
            "min_height": null,
            "min_width": null,
            "object_fit": null,
            "object_position": null,
            "order": null,
            "overflow": null,
            "overflow_x": null,
            "overflow_y": null,
            "padding": null,
            "right": null,
            "top": null,
            "visibility": null,
            "width": null
          }
        },
        "e6c52678313f4573a646b2faf82c2e16": {
          "model_module": "@jupyter-widgets/controls",
          "model_name": "DescriptionStyleModel",
          "model_module_version": "1.5.0",
          "state": {
            "_model_module": "@jupyter-widgets/controls",
            "_model_module_version": "1.5.0",
            "_model_name": "DescriptionStyleModel",
            "_view_count": null,
            "_view_module": "@jupyter-widgets/base",
            "_view_module_version": "1.2.0",
            "_view_name": "StyleView",
            "description_width": ""
          }
        },
        "d63c18a6ffed498f96632e0777a931d5": {
          "model_module": "@jupyter-widgets/base",
          "model_name": "LayoutModel",
          "model_module_version": "1.2.0",
          "state": {
            "_model_module": "@jupyter-widgets/base",
            "_model_module_version": "1.2.0",
            "_model_name": "LayoutModel",
            "_view_count": null,
            "_view_module": "@jupyter-widgets/base",
            "_view_module_version": "1.2.0",
            "_view_name": "LayoutView",
            "align_content": null,
            "align_items": null,
            "align_self": null,
            "border": null,
            "bottom": null,
            "display": null,
            "flex": null,
            "flex_flow": null,
            "grid_area": null,
            "grid_auto_columns": null,
            "grid_auto_flow": null,
            "grid_auto_rows": null,
            "grid_column": null,
            "grid_gap": null,
            "grid_row": null,
            "grid_template_areas": null,
            "grid_template_columns": null,
            "grid_template_rows": null,
            "height": null,
            "justify_content": null,
            "justify_items": null,
            "left": null,
            "margin": null,
            "max_height": null,
            "max_width": null,
            "min_height": null,
            "min_width": null,
            "object_fit": null,
            "object_position": null,
            "order": null,
            "overflow": null,
            "overflow_x": null,
            "overflow_y": null,
            "padding": null,
            "right": null,
            "top": null,
            "visibility": null,
            "width": null
          }
        },
        "5f366c7551394fcb9eed45edf6e80cee": {
          "model_module": "@jupyter-widgets/controls",
          "model_name": "ProgressStyleModel",
          "model_module_version": "1.5.0",
          "state": {
            "_model_module": "@jupyter-widgets/controls",
            "_model_module_version": "1.5.0",
            "_model_name": "ProgressStyleModel",
            "_view_count": null,
            "_view_module": "@jupyter-widgets/base",
            "_view_module_version": "1.2.0",
            "_view_name": "StyleView",
            "bar_color": null,
            "description_width": ""
          }
        },
        "2c08f7bb0ccb4524ba25684d00131549": {
          "model_module": "@jupyter-widgets/base",
          "model_name": "LayoutModel",
          "model_module_version": "1.2.0",
          "state": {
            "_model_module": "@jupyter-widgets/base",
            "_model_module_version": "1.2.0",
            "_model_name": "LayoutModel",
            "_view_count": null,
            "_view_module": "@jupyter-widgets/base",
            "_view_module_version": "1.2.0",
            "_view_name": "LayoutView",
            "align_content": null,
            "align_items": null,
            "align_self": null,
            "border": null,
            "bottom": null,
            "display": null,
            "flex": null,
            "flex_flow": null,
            "grid_area": null,
            "grid_auto_columns": null,
            "grid_auto_flow": null,
            "grid_auto_rows": null,
            "grid_column": null,
            "grid_gap": null,
            "grid_row": null,
            "grid_template_areas": null,
            "grid_template_columns": null,
            "grid_template_rows": null,
            "height": null,
            "justify_content": null,
            "justify_items": null,
            "left": null,
            "margin": null,
            "max_height": null,
            "max_width": null,
            "min_height": null,
            "min_width": null,
            "object_fit": null,
            "object_position": null,
            "order": null,
            "overflow": null,
            "overflow_x": null,
            "overflow_y": null,
            "padding": null,
            "right": null,
            "top": null,
            "visibility": null,
            "width": null
          }
        },
        "13fa229396fe4ee7bd48bc7568e2b00c": {
          "model_module": "@jupyter-widgets/controls",
          "model_name": "DescriptionStyleModel",
          "model_module_version": "1.5.0",
          "state": {
            "_model_module": "@jupyter-widgets/controls",
            "_model_module_version": "1.5.0",
            "_model_name": "DescriptionStyleModel",
            "_view_count": null,
            "_view_module": "@jupyter-widgets/base",
            "_view_module_version": "1.2.0",
            "_view_name": "StyleView",
            "description_width": ""
          }
        },
        "77acf54b12154c7c8e372f98031c7b50": {
          "model_module": "@jupyter-widgets/controls",
          "model_name": "HBoxModel",
          "model_module_version": "1.5.0",
          "state": {
            "_dom_classes": [],
            "_model_module": "@jupyter-widgets/controls",
            "_model_module_version": "1.5.0",
            "_model_name": "HBoxModel",
            "_view_count": null,
            "_view_module": "@jupyter-widgets/controls",
            "_view_module_version": "1.5.0",
            "_view_name": "HBoxView",
            "box_style": "",
            "children": [
              "IPY_MODEL_8594a4d082074336b5eb5d32c5f3f901",
              "IPY_MODEL_17d3753ae8e34d56b6decc22ac6ce345",
              "IPY_MODEL_5c88b488490e48dba2e7f8d9a62af22e"
            ],
            "layout": "IPY_MODEL_9278ddc47f99483eb07df25212c88dc5"
          }
        },
        "8594a4d082074336b5eb5d32c5f3f901": {
          "model_module": "@jupyter-widgets/controls",
          "model_name": "HTMLModel",
          "model_module_version": "1.5.0",
          "state": {
            "_dom_classes": [],
            "_model_module": "@jupyter-widgets/controls",
            "_model_module_version": "1.5.0",
            "_model_name": "HTMLModel",
            "_view_count": null,
            "_view_module": "@jupyter-widgets/controls",
            "_view_module_version": "1.5.0",
            "_view_name": "HTMLView",
            "description": "",
            "description_tooltip": null,
            "layout": "IPY_MODEL_6bb9ce165b244cc39246ca5a988fa72c",
            "placeholder": "​",
            "style": "IPY_MODEL_4d0af09065a745f4bf7aec0ceb336573",
            "value": "Generating test examples...:  97%"
          }
        },
        "17d3753ae8e34d56b6decc22ac6ce345": {
          "model_module": "@jupyter-widgets/controls",
          "model_name": "FloatProgressModel",
          "model_module_version": "1.5.0",
          "state": {
            "_dom_classes": [],
            "_model_module": "@jupyter-widgets/controls",
            "_model_module_version": "1.5.0",
            "_model_name": "FloatProgressModel",
            "_view_count": null,
            "_view_module": "@jupyter-widgets/controls",
            "_view_module_version": "1.5.0",
            "_view_name": "ProgressView",
            "bar_style": "",
            "description": "",
            "description_tooltip": null,
            "layout": "IPY_MODEL_b30a16aaaa334b878f3217b48ee39e0e",
            "max": 10000,
            "min": 0,
            "orientation": "horizontal",
            "style": "IPY_MODEL_0c225b48fafe437eb7ba2976149be029",
            "value": 10000
          }
        },
        "5c88b488490e48dba2e7f8d9a62af22e": {
          "model_module": "@jupyter-widgets/controls",
          "model_name": "HTMLModel",
          "model_module_version": "1.5.0",
          "state": {
            "_dom_classes": [],
            "_model_module": "@jupyter-widgets/controls",
            "_model_module_version": "1.5.0",
            "_model_name": "HTMLModel",
            "_view_count": null,
            "_view_module": "@jupyter-widgets/controls",
            "_view_module_version": "1.5.0",
            "_view_name": "HTMLView",
            "description": "",
            "description_tooltip": null,
            "layout": "IPY_MODEL_b99b82906f924c6da23503e36da38912",
            "placeholder": "​",
            "style": "IPY_MODEL_148572cafbdf41d5a314fffb58073cd5",
            "value": " 9681/10000 [00:08&lt;00:00, 1235.67 examples/s]"
          }
        },
        "9278ddc47f99483eb07df25212c88dc5": {
          "model_module": "@jupyter-widgets/base",
          "model_name": "LayoutModel",
          "model_module_version": "1.2.0",
          "state": {
            "_model_module": "@jupyter-widgets/base",
            "_model_module_version": "1.2.0",
            "_model_name": "LayoutModel",
            "_view_count": null,
            "_view_module": "@jupyter-widgets/base",
            "_view_module_version": "1.2.0",
            "_view_name": "LayoutView",
            "align_content": null,
            "align_items": null,
            "align_self": null,
            "border": null,
            "bottom": null,
            "display": null,
            "flex": null,
            "flex_flow": null,
            "grid_area": null,
            "grid_auto_columns": null,
            "grid_auto_flow": null,
            "grid_auto_rows": null,
            "grid_column": null,
            "grid_gap": null,
            "grid_row": null,
            "grid_template_areas": null,
            "grid_template_columns": null,
            "grid_template_rows": null,
            "height": null,
            "justify_content": null,
            "justify_items": null,
            "left": null,
            "margin": null,
            "max_height": null,
            "max_width": null,
            "min_height": null,
            "min_width": null,
            "object_fit": null,
            "object_position": null,
            "order": null,
            "overflow": null,
            "overflow_x": null,
            "overflow_y": null,
            "padding": null,
            "right": null,
            "top": null,
            "visibility": "hidden",
            "width": null
          }
        },
        "6bb9ce165b244cc39246ca5a988fa72c": {
          "model_module": "@jupyter-widgets/base",
          "model_name": "LayoutModel",
          "model_module_version": "1.2.0",
          "state": {
            "_model_module": "@jupyter-widgets/base",
            "_model_module_version": "1.2.0",
            "_model_name": "LayoutModel",
            "_view_count": null,
            "_view_module": "@jupyter-widgets/base",
            "_view_module_version": "1.2.0",
            "_view_name": "LayoutView",
            "align_content": null,
            "align_items": null,
            "align_self": null,
            "border": null,
            "bottom": null,
            "display": null,
            "flex": null,
            "flex_flow": null,
            "grid_area": null,
            "grid_auto_columns": null,
            "grid_auto_flow": null,
            "grid_auto_rows": null,
            "grid_column": null,
            "grid_gap": null,
            "grid_row": null,
            "grid_template_areas": null,
            "grid_template_columns": null,
            "grid_template_rows": null,
            "height": null,
            "justify_content": null,
            "justify_items": null,
            "left": null,
            "margin": null,
            "max_height": null,
            "max_width": null,
            "min_height": null,
            "min_width": null,
            "object_fit": null,
            "object_position": null,
            "order": null,
            "overflow": null,
            "overflow_x": null,
            "overflow_y": null,
            "padding": null,
            "right": null,
            "top": null,
            "visibility": null,
            "width": null
          }
        },
        "4d0af09065a745f4bf7aec0ceb336573": {
          "model_module": "@jupyter-widgets/controls",
          "model_name": "DescriptionStyleModel",
          "model_module_version": "1.5.0",
          "state": {
            "_model_module": "@jupyter-widgets/controls",
            "_model_module_version": "1.5.0",
            "_model_name": "DescriptionStyleModel",
            "_view_count": null,
            "_view_module": "@jupyter-widgets/base",
            "_view_module_version": "1.2.0",
            "_view_name": "StyleView",
            "description_width": ""
          }
        },
        "b30a16aaaa334b878f3217b48ee39e0e": {
          "model_module": "@jupyter-widgets/base",
          "model_name": "LayoutModel",
          "model_module_version": "1.2.0",
          "state": {
            "_model_module": "@jupyter-widgets/base",
            "_model_module_version": "1.2.0",
            "_model_name": "LayoutModel",
            "_view_count": null,
            "_view_module": "@jupyter-widgets/base",
            "_view_module_version": "1.2.0",
            "_view_name": "LayoutView",
            "align_content": null,
            "align_items": null,
            "align_self": null,
            "border": null,
            "bottom": null,
            "display": null,
            "flex": null,
            "flex_flow": null,
            "grid_area": null,
            "grid_auto_columns": null,
            "grid_auto_flow": null,
            "grid_auto_rows": null,
            "grid_column": null,
            "grid_gap": null,
            "grid_row": null,
            "grid_template_areas": null,
            "grid_template_columns": null,
            "grid_template_rows": null,
            "height": null,
            "justify_content": null,
            "justify_items": null,
            "left": null,
            "margin": null,
            "max_height": null,
            "max_width": null,
            "min_height": null,
            "min_width": null,
            "object_fit": null,
            "object_position": null,
            "order": null,
            "overflow": null,
            "overflow_x": null,
            "overflow_y": null,
            "padding": null,
            "right": null,
            "top": null,
            "visibility": null,
            "width": null
          }
        },
        "0c225b48fafe437eb7ba2976149be029": {
          "model_module": "@jupyter-widgets/controls",
          "model_name": "ProgressStyleModel",
          "model_module_version": "1.5.0",
          "state": {
            "_model_module": "@jupyter-widgets/controls",
            "_model_module_version": "1.5.0",
            "_model_name": "ProgressStyleModel",
            "_view_count": null,
            "_view_module": "@jupyter-widgets/base",
            "_view_module_version": "1.2.0",
            "_view_name": "StyleView",
            "bar_color": null,
            "description_width": ""
          }
        },
        "b99b82906f924c6da23503e36da38912": {
          "model_module": "@jupyter-widgets/base",
          "model_name": "LayoutModel",
          "model_module_version": "1.2.0",
          "state": {
            "_model_module": "@jupyter-widgets/base",
            "_model_module_version": "1.2.0",
            "_model_name": "LayoutModel",
            "_view_count": null,
            "_view_module": "@jupyter-widgets/base",
            "_view_module_version": "1.2.0",
            "_view_name": "LayoutView",
            "align_content": null,
            "align_items": null,
            "align_self": null,
            "border": null,
            "bottom": null,
            "display": null,
            "flex": null,
            "flex_flow": null,
            "grid_area": null,
            "grid_auto_columns": null,
            "grid_auto_flow": null,
            "grid_auto_rows": null,
            "grid_column": null,
            "grid_gap": null,
            "grid_row": null,
            "grid_template_areas": null,
            "grid_template_columns": null,
            "grid_template_rows": null,
            "height": null,
            "justify_content": null,
            "justify_items": null,
            "left": null,
            "margin": null,
            "max_height": null,
            "max_width": null,
            "min_height": null,
            "min_width": null,
            "object_fit": null,
            "object_position": null,
            "order": null,
            "overflow": null,
            "overflow_x": null,
            "overflow_y": null,
            "padding": null,
            "right": null,
            "top": null,
            "visibility": null,
            "width": null
          }
        },
        "148572cafbdf41d5a314fffb58073cd5": {
          "model_module": "@jupyter-widgets/controls",
          "model_name": "DescriptionStyleModel",
          "model_module_version": "1.5.0",
          "state": {
            "_model_module": "@jupyter-widgets/controls",
            "_model_module_version": "1.5.0",
            "_model_name": "DescriptionStyleModel",
            "_view_count": null,
            "_view_module": "@jupyter-widgets/base",
            "_view_module_version": "1.2.0",
            "_view_name": "StyleView",
            "description_width": ""
          }
        },
        "9346336d78e645bd93a480f7c4ed77d8": {
          "model_module": "@jupyter-widgets/controls",
          "model_name": "HBoxModel",
          "model_module_version": "1.5.0",
          "state": {
            "_dom_classes": [],
            "_model_module": "@jupyter-widgets/controls",
            "_model_module_version": "1.5.0",
            "_model_name": "HBoxModel",
            "_view_count": null,
            "_view_module": "@jupyter-widgets/controls",
            "_view_module_version": "1.5.0",
            "_view_name": "HBoxView",
            "box_style": "",
            "children": [
              "IPY_MODEL_31516592125142b181e7df21d4c07388",
              "IPY_MODEL_b1b3155979074ef4ad99f0ab1b03659d",
              "IPY_MODEL_1720b6c3038b43f88b7bce212a1b5e37"
            ],
            "layout": "IPY_MODEL_8e834776eace42cd9f98cc1035c5ad94"
          }
        },
        "31516592125142b181e7df21d4c07388": {
          "model_module": "@jupyter-widgets/controls",
          "model_name": "HTMLModel",
          "model_module_version": "1.5.0",
          "state": {
            "_dom_classes": [],
            "_model_module": "@jupyter-widgets/controls",
            "_model_module_version": "1.5.0",
            "_model_name": "HTMLModel",
            "_view_count": null,
            "_view_module": "@jupyter-widgets/controls",
            "_view_module_version": "1.5.0",
            "_view_name": "HTMLView",
            "description": "",
            "description_tooltip": null,
            "layout": "IPY_MODEL_df2a5ffbbb5a4b9fb4645598701531e6",
            "placeholder": "​",
            "style": "IPY_MODEL_8606d6a309f946e590ed60b59cc84f18",
            "value": "Shuffling /root/tensorflow_datasets/cifar10/3.0.2.incomplete8L4FX9/cifar10-test.tfrecord*...:   0%"
          }
        },
        "b1b3155979074ef4ad99f0ab1b03659d": {
          "model_module": "@jupyter-widgets/controls",
          "model_name": "FloatProgressModel",
          "model_module_version": "1.5.0",
          "state": {
            "_dom_classes": [],
            "_model_module": "@jupyter-widgets/controls",
            "_model_module_version": "1.5.0",
            "_model_name": "FloatProgressModel",
            "_view_count": null,
            "_view_module": "@jupyter-widgets/controls",
            "_view_module_version": "1.5.0",
            "_view_name": "ProgressView",
            "bar_style": "",
            "description": "",
            "description_tooltip": null,
            "layout": "IPY_MODEL_a9c37cff353e46d2997d3d42ff4e0a26",
            "max": 10000,
            "min": 0,
            "orientation": "horizontal",
            "style": "IPY_MODEL_886a49b9257c44eeb8e0e7c68ce83f40",
            "value": 10000
          }
        },
        "1720b6c3038b43f88b7bce212a1b5e37": {
          "model_module": "@jupyter-widgets/controls",
          "model_name": "HTMLModel",
          "model_module_version": "1.5.0",
          "state": {
            "_dom_classes": [],
            "_model_module": "@jupyter-widgets/controls",
            "_model_module_version": "1.5.0",
            "_model_name": "HTMLModel",
            "_view_count": null,
            "_view_module": "@jupyter-widgets/controls",
            "_view_module_version": "1.5.0",
            "_view_name": "HTMLView",
            "description": "",
            "description_tooltip": null,
            "layout": "IPY_MODEL_188b47471a3f4c239627ff72a7e63436",
            "placeholder": "​",
            "style": "IPY_MODEL_df83244dad4f48ca8b15c92261151b8a",
            "value": " 0/10000 [00:00&lt;?, ? examples/s]"
          }
        },
        "8e834776eace42cd9f98cc1035c5ad94": {
          "model_module": "@jupyter-widgets/base",
          "model_name": "LayoutModel",
          "model_module_version": "1.2.0",
          "state": {
            "_model_module": "@jupyter-widgets/base",
            "_model_module_version": "1.2.0",
            "_model_name": "LayoutModel",
            "_view_count": null,
            "_view_module": "@jupyter-widgets/base",
            "_view_module_version": "1.2.0",
            "_view_name": "LayoutView",
            "align_content": null,
            "align_items": null,
            "align_self": null,
            "border": null,
            "bottom": null,
            "display": null,
            "flex": null,
            "flex_flow": null,
            "grid_area": null,
            "grid_auto_columns": null,
            "grid_auto_flow": null,
            "grid_auto_rows": null,
            "grid_column": null,
            "grid_gap": null,
            "grid_row": null,
            "grid_template_areas": null,
            "grid_template_columns": null,
            "grid_template_rows": null,
            "height": null,
            "justify_content": null,
            "justify_items": null,
            "left": null,
            "margin": null,
            "max_height": null,
            "max_width": null,
            "min_height": null,
            "min_width": null,
            "object_fit": null,
            "object_position": null,
            "order": null,
            "overflow": null,
            "overflow_x": null,
            "overflow_y": null,
            "padding": null,
            "right": null,
            "top": null,
            "visibility": "hidden",
            "width": null
          }
        },
        "df2a5ffbbb5a4b9fb4645598701531e6": {
          "model_module": "@jupyter-widgets/base",
          "model_name": "LayoutModel",
          "model_module_version": "1.2.0",
          "state": {
            "_model_module": "@jupyter-widgets/base",
            "_model_module_version": "1.2.0",
            "_model_name": "LayoutModel",
            "_view_count": null,
            "_view_module": "@jupyter-widgets/base",
            "_view_module_version": "1.2.0",
            "_view_name": "LayoutView",
            "align_content": null,
            "align_items": null,
            "align_self": null,
            "border": null,
            "bottom": null,
            "display": null,
            "flex": null,
            "flex_flow": null,
            "grid_area": null,
            "grid_auto_columns": null,
            "grid_auto_flow": null,
            "grid_auto_rows": null,
            "grid_column": null,
            "grid_gap": null,
            "grid_row": null,
            "grid_template_areas": null,
            "grid_template_columns": null,
            "grid_template_rows": null,
            "height": null,
            "justify_content": null,
            "justify_items": null,
            "left": null,
            "margin": null,
            "max_height": null,
            "max_width": null,
            "min_height": null,
            "min_width": null,
            "object_fit": null,
            "object_position": null,
            "order": null,
            "overflow": null,
            "overflow_x": null,
            "overflow_y": null,
            "padding": null,
            "right": null,
            "top": null,
            "visibility": null,
            "width": null
          }
        },
        "8606d6a309f946e590ed60b59cc84f18": {
          "model_module": "@jupyter-widgets/controls",
          "model_name": "DescriptionStyleModel",
          "model_module_version": "1.5.0",
          "state": {
            "_model_module": "@jupyter-widgets/controls",
            "_model_module_version": "1.5.0",
            "_model_name": "DescriptionStyleModel",
            "_view_count": null,
            "_view_module": "@jupyter-widgets/base",
            "_view_module_version": "1.2.0",
            "_view_name": "StyleView",
            "description_width": ""
          }
        },
        "a9c37cff353e46d2997d3d42ff4e0a26": {
          "model_module": "@jupyter-widgets/base",
          "model_name": "LayoutModel",
          "model_module_version": "1.2.0",
          "state": {
            "_model_module": "@jupyter-widgets/base",
            "_model_module_version": "1.2.0",
            "_model_name": "LayoutModel",
            "_view_count": null,
            "_view_module": "@jupyter-widgets/base",
            "_view_module_version": "1.2.0",
            "_view_name": "LayoutView",
            "align_content": null,
            "align_items": null,
            "align_self": null,
            "border": null,
            "bottom": null,
            "display": null,
            "flex": null,
            "flex_flow": null,
            "grid_area": null,
            "grid_auto_columns": null,
            "grid_auto_flow": null,
            "grid_auto_rows": null,
            "grid_column": null,
            "grid_gap": null,
            "grid_row": null,
            "grid_template_areas": null,
            "grid_template_columns": null,
            "grid_template_rows": null,
            "height": null,
            "justify_content": null,
            "justify_items": null,
            "left": null,
            "margin": null,
            "max_height": null,
            "max_width": null,
            "min_height": null,
            "min_width": null,
            "object_fit": null,
            "object_position": null,
            "order": null,
            "overflow": null,
            "overflow_x": null,
            "overflow_y": null,
            "padding": null,
            "right": null,
            "top": null,
            "visibility": null,
            "width": null
          }
        },
        "886a49b9257c44eeb8e0e7c68ce83f40": {
          "model_module": "@jupyter-widgets/controls",
          "model_name": "ProgressStyleModel",
          "model_module_version": "1.5.0",
          "state": {
            "_model_module": "@jupyter-widgets/controls",
            "_model_module_version": "1.5.0",
            "_model_name": "ProgressStyleModel",
            "_view_count": null,
            "_view_module": "@jupyter-widgets/base",
            "_view_module_version": "1.2.0",
            "_view_name": "StyleView",
            "bar_color": null,
            "description_width": ""
          }
        },
        "188b47471a3f4c239627ff72a7e63436": {
          "model_module": "@jupyter-widgets/base",
          "model_name": "LayoutModel",
          "model_module_version": "1.2.0",
          "state": {
            "_model_module": "@jupyter-widgets/base",
            "_model_module_version": "1.2.0",
            "_model_name": "LayoutModel",
            "_view_count": null,
            "_view_module": "@jupyter-widgets/base",
            "_view_module_version": "1.2.0",
            "_view_name": "LayoutView",
            "align_content": null,
            "align_items": null,
            "align_self": null,
            "border": null,
            "bottom": null,
            "display": null,
            "flex": null,
            "flex_flow": null,
            "grid_area": null,
            "grid_auto_columns": null,
            "grid_auto_flow": null,
            "grid_auto_rows": null,
            "grid_column": null,
            "grid_gap": null,
            "grid_row": null,
            "grid_template_areas": null,
            "grid_template_columns": null,
            "grid_template_rows": null,
            "height": null,
            "justify_content": null,
            "justify_items": null,
            "left": null,
            "margin": null,
            "max_height": null,
            "max_width": null,
            "min_height": null,
            "min_width": null,
            "object_fit": null,
            "object_position": null,
            "order": null,
            "overflow": null,
            "overflow_x": null,
            "overflow_y": null,
            "padding": null,
            "right": null,
            "top": null,
            "visibility": null,
            "width": null
          }
        },
        "df83244dad4f48ca8b15c92261151b8a": {
          "model_module": "@jupyter-widgets/controls",
          "model_name": "DescriptionStyleModel",
          "model_module_version": "1.5.0",
          "state": {
            "_model_module": "@jupyter-widgets/controls",
            "_model_module_version": "1.5.0",
            "_model_name": "DescriptionStyleModel",
            "_view_count": null,
            "_view_module": "@jupyter-widgets/base",
            "_view_module_version": "1.2.0",
            "_view_name": "StyleView",
            "description_width": ""
          }
        }
      }
    },
    "accelerator": "GPU"
  },
  "cells": [
    {
      "cell_type": "markdown",
      "source": [
        "### Visual Attention Mechanism\n",
        "\n",
        "\n",
        "Reference:\n",
        "[EscVM_YT/Notebooks/0 - TF2.X Tutorials\n",
        "/tf_2_visual_attention.ipynb](https://github.com/EscVM/EscVM_YT/blob/master/Notebooks/0%20-%20TF2.X%20Tutorials/tf_2_visual_attention.ipynb)\n",
        "\n",
        "`Some parts of the code were modified and comment lines were added.`"
      ],
      "metadata": {
        "id": "JPOUKL_jFjsB"
      }
    },
    {
      "cell_type": "code",
      "execution_count": 1,
      "metadata": {
        "id": "h0gd5EtNdatU"
      },
      "outputs": [],
      "source": [
        "import tensorflow as tf\n",
        "import tensorflow_datasets as tfds\n",
        "import numpy as np\n",
        "import matplotlib.pyplot as plt"
      ]
    },
    {
      "cell_type": "code",
      "source": [
        "'''\n",
        "physical_devices = tf.config.experimental.list_physical_devices('GPU')\n",
        "\n",
        "try:\n",
        "  # Disable first GPU\n",
        "  tf.config.set_visible_devices(physical_devices[0:], 'GPU')\n",
        "  logical_devices = tf.config.list_logical_devices('GPU')\n",
        "  print(physical_devices)\n",
        "  # Logical device was not created for first GPU\n",
        "  assert len(logical_devices) == len(physical_devices) - 1\n",
        "  tf.config.experimental.set_memory_growth(physical_devices[0], True)\n",
        "except:\n",
        "  print(\"Invalid device or cannot modify virtual devices once initialized.\")\n",
        "  pass\n",
        "'''"
      ],
      "metadata": {
        "id": "JCFCy5XLirbh",
        "colab": {
          "base_uri": "https://localhost:8080/",
          "height": 105
        },
        "outputId": "44cd539c-abc6-4333-bfdf-573190068a37"
      },
      "execution_count": 2,
      "outputs": [
        {
          "output_type": "execute_result",
          "data": {
            "text/plain": [
              "'\\nphysical_devices = tf.config.experimental.list_physical_devices(\\'GPU\\')\\n\\ntry:\\n  # Disable first GPU\\n  tf.config.set_visible_devices(physical_devices[0:], \\'GPU\\')\\n  logical_devices = tf.config.list_logical_devices(\\'GPU\\')\\n  print(physical_devices)\\n  # Logical device was not created for first GPU\\n  assert len(logical_devices) == len(physical_devices) - 1\\n  tf.config.experimental.set_memory_growth(physical_devices[0], True)\\nexcept:\\n  print(\"Invalid device or cannot modify virtual devices once initialized.\")\\n  pass\\n'"
            ],
            "application/vnd.google.colaboratory.intrinsic+json": {
              "type": "string"
            }
          },
          "metadata": {},
          "execution_count": 2
        }
      ]
    },
    {
      "cell_type": "markdown",
      "source": [
        "![](https://raw.githubusercontent.com/EscVM/EscVM_YT/fd7f3f0798d40c3097690133778df82b26a0d96d/Notebooks/0%20-%20TF2.X%20Tutorials/media/tf_tutorial_2/yoshua_paper_results.png)\n",
        "\n",
        "Reference: [Neural Machine Translation by Jointly Learning to Align and Translate\n",
        "](https://arxiv.org/abs/1409.0473)"
      ],
      "metadata": {
        "id": "HGocXNhBy-cX"
      }
    },
    {
      "cell_type": "markdown",
      "source": [
        "![](https://raw.githubusercontent.com/EscVM/EscVM_YT/fd7f3f0798d40c3097690133778df82b26a0d96d/Notebooks/0%20-%20TF2.X%20Tutorials/media/tf_tutorial_2/attention_examples.png)\n",
        "\n",
        "Reference:\n",
        "[Show, Attend and Tell: Neural Image Caption Generation with Visual Attention](https://arxiv.org/abs/1502.03044)"
      ],
      "metadata": {
        "id": "pM01V4IBzVxP"
      }
    },
    {
      "cell_type": "markdown",
      "source": [
        "![](https://raw.githubusercontent.com/EscVM/EscVM_YT/fd7f3f0798d40c3097690133778df82b26a0d96d/Notebooks/0%20-%20TF2.X%20Tutorials/media/tf_tutorial_2/se_example_2.png)\n",
        "\n",
        "Reference:\n",
        "[Squeeze-and-Excitation Networks](https://arxiv.org/abs/1709.01507)"
      ],
      "metadata": {
        "id": "RjDPiQ56zfS2"
      }
    },
    {
      "cell_type": "markdown",
      "source": [
        "![](https://raw.githubusercontent.com/EscVM/EscVM_YT/fd7f3f0798d40c3097690133778df82b26a0d96d/Notebooks/0%20-%20TF2.X%20Tutorials/media/tf_tutorial_2/cbam_example_1.png)\n",
        "\n",
        "![](https://raw.githubusercontent.com/EscVM/EscVM_YT/fd7f3f0798d40c3097690133778df82b26a0d96d/Notebooks/0%20-%20TF2.X%20Tutorials/media/tf_tutorial_2/cbam_example_2.png)\n",
        "\n",
        "Reference:\n",
        "[CBAM: Convolutional Block Attention Module](https://arxiv.org/abs/1807.06521)"
      ],
      "metadata": {
        "id": "EF4c8cZAzwA_"
      }
    },
    {
      "cell_type": "code",
      "source": [
        "import os\n",
        "\n",
        "os.makedirs('utils/', exist_ok=True)\n",
        "os.chdir('utils')\n",
        "\n",
        "! wget -q https://raw.githubusercontent.com/Ata-Pab/Machine_Learning/master/utils/models.py\n",
        "! wget -q https://raw.githubusercontent.com/Ata-Pab/Machine_Learning/master/utils/losses.py\n",
        "! wget -q https://raw.githubusercontent.com/Ata-Pab/Machine_Learning/master/utils/vision.py\n",
        "! wget -q https://raw.githubusercontent.com/Ata-Pab/Machine_Learning/master/utils/callbacks.py\n",
        "! wget -q https://raw.githubusercontent.com/Ata-Pab/Machine_Learning/master/utils/utils.py\n",
        "\n",
        "os.chdir('/content')\n",
        "print(\"Current working directory\", os.getcwd())"
      ],
      "metadata": {
        "colab": {
          "base_uri": "https://localhost:8080/"
        },
        "id": "SwCe8hhpq2Wp",
        "outputId": "6ce7c2eb-22ca-4ce6-8597-49d83fbdd9e1"
      },
      "execution_count": 37,
      "outputs": [
        {
          "output_type": "stream",
          "name": "stdout",
          "text": [
            "Current working directory /content\n"
          ]
        }
      ]
    },
    {
      "cell_type": "code",
      "source": [
        "from utils import vision\n",
        "from utils import utils\n",
        "from utils import losses"
      ],
      "metadata": {
        "id": "vOhZ6nS6q9Dd"
      },
      "execution_count": 38,
      "outputs": []
    },
    {
      "cell_type": "code",
      "source": [
        "experiment = {\n",
        "    'IMAGE_SIZE': (32, 32),\n",
        "    'INPUT_SHAPE': (32, 32, 3),\n",
        "\n",
        "    'ACCELERATOR': 'GPU',  # Or 'TPU'\n",
        "\n",
        "    'BATCH_SIZE': 32,\n",
        "    'EPOCHS': 20,\n",
        "    'AUTOTUNE': tf.data.experimental.AUTOTUNE,\n",
        "    'OPTIMIZER': 'Adam',  # TODO: Try 'rmsprop' optimizer\n",
        "    'LEARNING_RATE': 0.0001,  # 1e-4\n",
        "\n",
        "    # Record directory of model's trained weights\n",
        "    'TRAINING_WEIGHT_DIR': \"tf_visual_attention_mechanism/training_weights\",\n",
        "    # Record directory of generated images\n",
        "    'IMGS_DIR': \"tf_visual_attention_mechanism/images\",\n",
        "}"
      ],
      "metadata": {
        "id": "6PnKIOVi4iF7"
      },
      "execution_count": 3,
      "outputs": []
    },
    {
      "cell_type": "code",
      "source": [
        "class ChannelGate(tf.keras.layers.Layer):\n",
        "  # Reference: https://arxiv.org/abs/1807.06521\n",
        "  def __init__(self, gate_channels, reduction_ratio, pool_types=['avg', 'max']):\n",
        "    super(ChannelGate, self).__init__()\n",
        "    # Check valid pool types\n",
        "    valid_pool_types = ['avg', 'max', 'lp', 'lse']\n",
        "    for pool_type in pool_types:\n",
        "        assert(pool_type in valid_pool_types)\n",
        "    self.pool_types = pool_types\n",
        "\n",
        "    self.gate_channels = gate_channels\n",
        "    self.reduction_ratio = reduction_ratio\n",
        "\n",
        "    # MLP (Multi Layer Perceptron)\n",
        "    self.mlp = tf.keras.Sequential([\n",
        "        #Flatten(),\n",
        "        tf.keras.layers.Flatten(),\n",
        "        tf.keras.layers.Dense(self.gate_channels // self.reduction_ratio),\n",
        "        #tf.keras.layers.Dense(self.gate_channels // self.reduction_ratio,\n",
        "        #                      kernel_initializer='he_normal', use_bias=True,\n",
        "        #                      bias_initializer='zeros'),\n",
        "        tf.keras.layers.ReLU(),\n",
        "        tf.keras.layers.Dense(self.gate_channels)\n",
        "        #tf.keras.layers.Dense(self.gate_channels, kernel_initializer='he_normal',\n",
        "        #                      use_bias=True, bias_initializer='zeros')\n",
        "    ])\n",
        "\n",
        "  def logsumexp_2d(self, tensor):\n",
        "    tensor_flatten = tf.reshape(tensor, (tf.shape(tensor)[0], tf.shape(tensor)[1], -1))\n",
        "    s = tf.reduce_max(tensor_flatten, axis=2, keepdims=True)\n",
        "    outputs = s + tf.math.log(tf.reduce_sum(tf.math.exp(tensor_flatten - s), axis=2, keepdims=True))\n",
        "    return outputs\n",
        "\n",
        "  def call(self, inputs):\n",
        "    pooling_list = []\n",
        "    if 'avg' in self.pool_types:\n",
        "        avg_pool = tf.keras.layers.GlobalAveragePooling2D()(inputs)\n",
        "        #avg_pool = tf.reduce_mean(inputs, axis=[2, 3], keepdims=True)\n",
        "        avg_pool = self.mlp(avg_pool)\n",
        "        pooling_list.append(avg_pool)\n",
        "    elif 'max' in self.pool_types:\n",
        "        max_pool = tf.keras.layers.GlobalMaxPooling2D()(inputs)\n",
        "        max_pool = tf.keras.layers.Reshape((1,1, self.gate_channels))(max_pool)\n",
        "        #max_pool = tf.reduce_max(inputs, axis=[2, 3], keepdims=True)\n",
        "        max_pool = self.mlp(max_pool)\n",
        "        pooling_list.append(max_pool)\n",
        "    elif 'lp' in self.pool_types:\n",
        "        lp_pool = tf.norm(inputs, ord=2, axis=[2, 3], keepdims=True)\n",
        "        lp_pool = self.mlp(lp_pool)\n",
        "        pooling_list.append(lp_pool)\n",
        "    elif 'lse' in self.pool_types:\n",
        "        lse_pool = self.logsumexp_2d(inputs)\n",
        "        lse_pool = self.mlp(lse_pool)\n",
        "        pooling_list.append(lse_pool)\n",
        "\n",
        "    attention = tf.keras.layers.Add()(pooling_list)\n",
        "    attention = tf.keras.layers.Activation('sigmoid')(attention)\n",
        "    # tf.keras.layers.Multiply: It takes a list of tensors as input and computes\n",
        "    # the element-wise product of those tensors, assuming they have the same shape.\n",
        "    return tf.keras.layers.Multiply()([inputs, attention])"
      ],
      "metadata": {
        "id": "H7oBWVfKirZN"
      },
      "execution_count": 4,
      "outputs": []
    },
    {
      "cell_type": "code",
      "source": [
        "import tensorflow as tf\n",
        "\n",
        "class Conv2DLayerBN(tf.keras.layers.Conv2D):\n",
        "    '''\n",
        "    act_end: Activation function for end of the conv + BN -> conv + BN + Act\n",
        "    batch_norm: Batch normalization\n",
        "    lrelu_alpha: Leaky ReLU activation function alpha\n",
        "    '''\n",
        "    def __init__(self, filters, kernel_size, strides=(1, 1), padding='valid',\n",
        "                 activation=None,act_end=None, batch_norm=True, lrelu_alpha=0.3,\n",
        "                 *args, **kwargs):\n",
        "        # Call the constructor of the base class (tf.keras.layers.Conv2D)\n",
        "        super(Conv2DLayerBN, self).__init__(\n",
        "            filters=filters,\n",
        "            kernel_size=kernel_size,\n",
        "            strides=strides,\n",
        "            padding=padding,\n",
        "            activation=activation,\n",
        "            *args,\n",
        "            **kwargs\n",
        "        )\n",
        "        act_funcs = [\"relu\", \"lrelu\", \"sigmoid\"]\n",
        "        assert((act_end == None) or (act_end in act_funcs))\n",
        "\n",
        "        self.batch_norm = tf.keras.layers.BatchNormalization(epsilon=1e-5, momentum=0.01) if batch_norm else None\n",
        "\n",
        "        if act_end == \"relu\":\n",
        "            #act_func = tf.nn.relu()\n",
        "            self.activation = tf.keras.layers.Activation(act_end)\n",
        "        elif act_end == \"lrelu\":\n",
        "            act_func = tf.nn.leaky_relu(alpha=lrelu_alpha)\n",
        "            self.activation = tf.keras.layers.Activation(act_func)\n",
        "        elif act_end == \"sigmoid\":\n",
        "            #act_func = tf.keras.activations.sigmoid()\n",
        "            self.activation = tf.keras.layers.Activation(act_end)\n",
        "        else:\n",
        "            self.activation = None\n",
        "\n",
        "        # ..Add additional customization or modifications...\n",
        "\n",
        "        # __________________________________________________\n",
        "\n",
        "    def build(self, input_shape):\n",
        "        # Add any additional setup or customization for the layer's weights here\n",
        "        # This method is called the first time the layer is used, based on the input_shape.\n",
        "\n",
        "        # Make sure to call the build method of the base class\n",
        "        super(Conv2DLayerBN, self).build(input_shape)\n",
        "\n",
        "    def call(self, inputs):\n",
        "        # You can access the weights using self.weights and perform computations using TensorFlow operations.\n",
        "        # Example:\n",
        "        # output = tf.nn.conv2d(inputs, self.kernel, strides=self.strides, padding=self.padding)\n",
        "        # if self.activation is not None:\n",
        "        #     output = self.activation(output)\n",
        "        # return output\n",
        "\n",
        "        # ...Add forward pass activations here...\n",
        "\n",
        "        # ______________________________________\n",
        "        x = super(Conv2DLayerBN, self).call(inputs)\n",
        "        if self.batch_norm is not None:\n",
        "            x = self.batch_norm(x)\n",
        "        if self.activation is not None:\n",
        "            x = self.activation(x)\n",
        "        return x\n",
        "\n",
        "    def get_config(self):\n",
        "        # ...Add additional configuration parameters for serialization...\n",
        "\n",
        "        # _______________________________________________________________\n",
        "        # This method is used to save the configuration of the layer when the model is saved.\n",
        "        config = super(Conv2DLayerBN, self).get_config()\n",
        "        # Add your custom parameters to config dictionary\n",
        "        return config\n"
      ],
      "metadata": {
        "id": "osB1cAKIbvMk"
      },
      "execution_count": 5,
      "outputs": []
    },
    {
      "cell_type": "code",
      "source": [
        "class ChannelPool(tf.keras.layers.Layer):\n",
        "    '''\n",
        "    ChannelPool\n",
        "    Calculate Max and Avg. pooling for given tensor\n",
        "    Concatenate them to produce a tensor for being input of MLP\n",
        "    '''\n",
        "    def call(self, x):\n",
        "        max_pool = tf.expand_dims(tf.reduce_max(x, axis=1), axis=1)\n",
        "        mean_pool = tf.expand_dims(tf.reduce_mean(x, axis=1), axis=1)\n",
        "        return tf.concat([max_pool, mean_pool], axis=1)"
      ],
      "metadata": {
        "id": "Q258-m9be7g2"
      },
      "execution_count": 6,
      "outputs": []
    },
    {
      "cell_type": "code",
      "source": [
        "class SpatialGate(tf.keras.layers.Layer):\n",
        "  # Reference: https://arxiv.org/abs/1807.06521\n",
        "  def __init__(self, kernel_size, stride=1):\n",
        "    super(SpatialGate, self).__init__()\n",
        "\n",
        "    self.padding='valid' if ((kernel_size-1) // 2) == 0 else 'same'\n",
        "    self.spatial = Conv2DLayerBN(filters=1, kernel_size=kernel_size, strides=stride,\n",
        "                         padding=self.padding, act_end='sigmoid', batch_norm=True)\n",
        "\n",
        "  def call(self, inputs):\n",
        "    max_pool = tf.keras.layers.Lambda(lambda x: tf.keras.backend.max(x, axis=3, keepdims=True))(inputs)\n",
        "    avg_pool = tf.keras.layers.Lambda(lambda x: tf.keras.backend.mean(x, axis=3, keepdims=True))(inputs)\n",
        "\n",
        "    # tf.keras.layers.Concatenate: takes a list of tensors as input and concatenates\n",
        "    # them along the specified axis to produce a single tensor.\n",
        "    attention = tf.keras.layers.Concatenate(axis=3)([avg_pool, max_pool])\n",
        "    attention = self.spatial(attention)\n",
        "\n",
        "    return tf.keras.layers.multiply([inputs, attention])"
      ],
      "metadata": {
        "id": "BeIvjAryirWl"
      },
      "execution_count": 25,
      "outputs": []
    },
    {
      "cell_type": "markdown",
      "source": [
        "### Build a Model"
      ],
      "metadata": {
        "id": "iT-xiiVd6FX-"
      }
    },
    {
      "cell_type": "code",
      "source": [
        "(ds_train, ds_test), ds_info = tfds.load('cifar10', split=['train', 'test'],\n",
        "                                      shuffle_files=True, as_supervised=True,\n",
        "                                      with_info=True)"
      ],
      "metadata": {
        "id": "18Mxuh-I5RDC",
        "colab": {
          "base_uri": "https://localhost:8080/",
          "height": 168,
          "referenced_widgets": [
            "9c9419d67dff4a7c91a0147d85e88b0e",
            "90adb9ab62154b119fab17f4e89bfd61",
            "c349babca7814c14bc5c9e067f7e930a",
            "030f9ef7fc594a589d9575b1b61ed9ed",
            "56a5f052a92d49d28d5977c6606737d5",
            "3a26339dac3d41fd94bae80330413ed4",
            "ca1d7f44c4ad4581b68685d139bf600c",
            "a6766e7c87cf4d72968e0a598dc17128",
            "70e913adb0a04d6cb880327f4d75c219",
            "2c5cf4bce4ab4a028273bc2ade65397c",
            "2f7e78a6fbd446a4b177c7dfe70c601f",
            "015926625d77488696ed751774ecfca8",
            "c8a9457f5c354cbb8f7177f42b9cfcc9",
            "10820fd1d7b64755b0df63b1807e1533",
            "82516b1f795a43b99ccd7b71becf0693",
            "6822a9d51d08484dbdcff2fa598b8cb4",
            "86b3471476704b6b91459e62a819d65b",
            "fbd4538e1d4945ec9f552bb87f67c33e",
            "655ce95ebfd849dd8a0420ab80d4d82d",
            "7e18cef20ff84073bc0a43ee1581e575",
            "4f748bd60d9f4468ab4beaff3be91b86",
            "99d382247ed5404280cee42a3bc91b49",
            "35c38c8b013b4df293e7a9a83ded0978",
            "c22ab0f7ff9344d3839984566c153a26",
            "e5548bccbfde4b06a0e16ff86944686d",
            "d119241c5ab24cc1a31f75893676ece3",
            "0d481aedd28b42c086267416b7467db7",
            "b072964671404a5e9ecaa8074de3f6c8",
            "7aa256aad58d492284b6bd776fab77bc",
            "ced64f5cc1e74e07beb951574ce6e447",
            "62fd4ea4cdb84814bf3ccc5a0edb5732",
            "8e0adb9ca05247799fa3769db0ce338d",
            "27a124100b7e4124ac5da0b7cd19e899",
            "6e1483002946480eaf11f4d8cd874833",
            "1e27ad3667804b7b9f9dc6df9853bd77",
            "f0d0196a609f42fd90115630a8b19122",
            "83cd7918958249e78e2568f842e57929",
            "a57de06578f9410ab3f2bfa47a5d2667",
            "202bf59425234910bee3f5d36257e6ed",
            "46785c46b794431fb302874bd03b53a5",
            "ce23c1d0610f45b898a18a7b36e0fbc3",
            "b2c50752e05344b18de7a7b606a6fc66",
            "6d15d7771c4343938d41b1054c45d41f",
            "f5e85f614ad1476fb20b6f8887e21f78",
            "4bb503de4c0d48068e9204f9baf24861",
            "7e88b874e0ee4f308133461bedbdd40c",
            "e9144a61cb234fe2a7b773710cf529ee",
            "98bafa5794274cc8aae5e01f75d1287e",
            "8463b3357642455ab0236e144ddc182c",
            "1298353a4afd44438e9f844d37a643a5",
            "dbb144a13f334d14bf9433a420247ec3",
            "76fd88d0c2ae4e04a873f37d58717de4",
            "f9edd8b1a4884cd4ad83733d67d3c3bc",
            "9af7406c176c4653856b27e3fe5de87f",
            "2fee24175360432481f6f173a3192ecb",
            "49354534f25d44679a01e1409a49d907",
            "e365e8b4059a4184ad15d587e5911d6a",
            "db012590b49b43ddbcbd3a31a5fe846f",
            "d18fb92953a44e32b4f765149074f9b7",
            "75d023de8b834a4abab7b8ffcf6d0c27",
            "e4e9268112ce4a06a621ba140ee256df",
            "e6c52678313f4573a646b2faf82c2e16",
            "d63c18a6ffed498f96632e0777a931d5",
            "5f366c7551394fcb9eed45edf6e80cee",
            "2c08f7bb0ccb4524ba25684d00131549",
            "13fa229396fe4ee7bd48bc7568e2b00c",
            "77acf54b12154c7c8e372f98031c7b50",
            "8594a4d082074336b5eb5d32c5f3f901",
            "17d3753ae8e34d56b6decc22ac6ce345",
            "5c88b488490e48dba2e7f8d9a62af22e",
            "9278ddc47f99483eb07df25212c88dc5",
            "6bb9ce165b244cc39246ca5a988fa72c",
            "4d0af09065a745f4bf7aec0ceb336573",
            "b30a16aaaa334b878f3217b48ee39e0e",
            "0c225b48fafe437eb7ba2976149be029",
            "b99b82906f924c6da23503e36da38912",
            "148572cafbdf41d5a314fffb58073cd5",
            "9346336d78e645bd93a480f7c4ed77d8",
            "31516592125142b181e7df21d4c07388",
            "b1b3155979074ef4ad99f0ab1b03659d",
            "1720b6c3038b43f88b7bce212a1b5e37",
            "8e834776eace42cd9f98cc1035c5ad94",
            "df2a5ffbbb5a4b9fb4645598701531e6",
            "8606d6a309f946e590ed60b59cc84f18",
            "a9c37cff353e46d2997d3d42ff4e0a26",
            "886a49b9257c44eeb8e0e7c68ce83f40",
            "188b47471a3f4c239627ff72a7e63436",
            "df83244dad4f48ca8b15c92261151b8a"
          ]
        },
        "outputId": "a631bd0c-49ed-4676-baa4-d105d824189d"
      },
      "execution_count": 8,
      "outputs": [
        {
          "output_type": "stream",
          "name": "stdout",
          "text": [
            "Downloading and preparing dataset 162.17 MiB (download: 162.17 MiB, generated: 132.40 MiB, total: 294.58 MiB) to /root/tensorflow_datasets/cifar10/3.0.2...\n"
          ]
        },
        {
          "output_type": "display_data",
          "data": {
            "text/plain": [
              "Dl Completed...: 0 url [00:00, ? url/s]"
            ],
            "application/vnd.jupyter.widget-view+json": {
              "version_major": 2,
              "version_minor": 0,
              "model_id": "9c9419d67dff4a7c91a0147d85e88b0e"
            }
          },
          "metadata": {}
        },
        {
          "output_type": "display_data",
          "data": {
            "text/plain": [
              "Dl Size...: 0 MiB [00:00, ? MiB/s]"
            ],
            "application/vnd.jupyter.widget-view+json": {
              "version_major": 2,
              "version_minor": 0,
              "model_id": "015926625d77488696ed751774ecfca8"
            }
          },
          "metadata": {}
        },
        {
          "output_type": "display_data",
          "data": {
            "text/plain": [
              "Extraction completed...: 0 file [00:00, ? file/s]"
            ],
            "application/vnd.jupyter.widget-view+json": {
              "version_major": 2,
              "version_minor": 0,
              "model_id": "35c38c8b013b4df293e7a9a83ded0978"
            }
          },
          "metadata": {}
        },
        {
          "output_type": "display_data",
          "data": {
            "text/plain": [
              "Generating splits...:   0%|          | 0/2 [00:00<?, ? splits/s]"
            ],
            "application/vnd.jupyter.widget-view+json": {
              "version_major": 2,
              "version_minor": 0,
              "model_id": "6e1483002946480eaf11f4d8cd874833"
            }
          },
          "metadata": {}
        },
        {
          "output_type": "display_data",
          "data": {
            "text/plain": [
              "Generating train examples...:   0%|          | 0/50000 [00:00<?, ? examples/s]"
            ],
            "application/vnd.jupyter.widget-view+json": {
              "version_major": 2,
              "version_minor": 0,
              "model_id": "4bb503de4c0d48068e9204f9baf24861"
            }
          },
          "metadata": {}
        },
        {
          "output_type": "display_data",
          "data": {
            "text/plain": [
              "Shuffling /root/tensorflow_datasets/cifar10/3.0.2.incomplete8L4FX9/cifar10-train.tfrecord*...:   0%|          …"
            ],
            "application/vnd.jupyter.widget-view+json": {
              "version_major": 2,
              "version_minor": 0,
              "model_id": "49354534f25d44679a01e1409a49d907"
            }
          },
          "metadata": {}
        },
        {
          "output_type": "display_data",
          "data": {
            "text/plain": [
              "Generating test examples...:   0%|          | 0/10000 [00:00<?, ? examples/s]"
            ],
            "application/vnd.jupyter.widget-view+json": {
              "version_major": 2,
              "version_minor": 0,
              "model_id": "77acf54b12154c7c8e372f98031c7b50"
            }
          },
          "metadata": {}
        },
        {
          "output_type": "display_data",
          "data": {
            "text/plain": [
              "Shuffling /root/tensorflow_datasets/cifar10/3.0.2.incomplete8L4FX9/cifar10-test.tfrecord*...:   0%|          |…"
            ],
            "application/vnd.jupyter.widget-view+json": {
              "version_major": 2,
              "version_minor": 0,
              "model_id": "9346336d78e645bd93a480f7c4ed77d8"
            }
          },
          "metadata": {}
        },
        {
          "output_type": "stream",
          "name": "stdout",
          "text": [
            "Dataset cifar10 downloaded and prepared to /root/tensorflow_datasets/cifar10/3.0.2. Subsequent calls will reuse this data.\n"
          ]
        }
      ]
    },
    {
      "cell_type": "code",
      "source": [
        "ds_info"
      ],
      "metadata": {
        "id": "mtqfkbzjirTz",
        "colab": {
          "base_uri": "https://localhost:8080/"
        },
        "outputId": "d2f67c43-600e-4b30-904b-fc8bbc65cbde"
      },
      "execution_count": 9,
      "outputs": [
        {
          "output_type": "execute_result",
          "data": {
            "text/plain": [
              "tfds.core.DatasetInfo(\n",
              "    name='cifar10',\n",
              "    full_name='cifar10/3.0.2',\n",
              "    description=\"\"\"\n",
              "    The CIFAR-10 dataset consists of 60000 32x32 colour images in 10 classes, with 6000 images per class. There are 50000 training images and 10000 test images.\n",
              "    \"\"\",\n",
              "    homepage='https://www.cs.toronto.edu/~kriz/cifar.html',\n",
              "    data_dir=PosixGPath('/tmp/tmp35sa8rsdtfds'),\n",
              "    file_format=tfrecord,\n",
              "    download_size=162.17 MiB,\n",
              "    dataset_size=132.40 MiB,\n",
              "    features=FeaturesDict({\n",
              "        'id': Text(shape=(), dtype=string),\n",
              "        'image': Image(shape=(32, 32, 3), dtype=uint8),\n",
              "        'label': ClassLabel(shape=(), dtype=int64, num_classes=10),\n",
              "    }),\n",
              "    supervised_keys=('image', 'label'),\n",
              "    disable_shuffling=False,\n",
              "    splits={\n",
              "        'test': <SplitInfo num_examples=10000, num_shards=1>,\n",
              "        'train': <SplitInfo num_examples=50000, num_shards=1>,\n",
              "    },\n",
              "    citation=\"\"\"@TECHREPORT{Krizhevsky09learningmultiple,\n",
              "        author = {Alex Krizhevsky},\n",
              "        title = {Learning multiple layers of features from tiny images},\n",
              "        institution = {},\n",
              "        year = {2009}\n",
              "    }\"\"\",\n",
              ")"
            ]
          },
          "metadata": {},
          "execution_count": 9
        }
      ]
    },
    {
      "cell_type": "code",
      "source": [
        "ds_train"
      ],
      "metadata": {
        "colab": {
          "base_uri": "https://localhost:8080/"
        },
        "id": "2cegqBEG7qFN",
        "outputId": "fa50e8de-6ea4-4bce-933e-1cb1d9ec5b2c"
      },
      "execution_count": 10,
      "outputs": [
        {
          "output_type": "execute_result",
          "data": {
            "text/plain": [
              "<_PrefetchDataset element_spec=(TensorSpec(shape=(32, 32, 3), dtype=tf.uint8, name=None), TensorSpec(shape=(), dtype=tf.int64, name=None))>"
            ]
          },
          "metadata": {},
          "execution_count": 10
        }
      ]
    },
    {
      "cell_type": "code",
      "source": [
        "ds_info.features['label'].names"
      ],
      "metadata": {
        "id": "yuIIzY_BirRF",
        "colab": {
          "base_uri": "https://localhost:8080/"
        },
        "outputId": "def65362-375c-4a27-c971-845ef3d523c0"
      },
      "execution_count": 11,
      "outputs": [
        {
          "output_type": "execute_result",
          "data": {
            "text/plain": [
              "['airplane',\n",
              " 'automobile',\n",
              " 'bird',\n",
              " 'cat',\n",
              " 'deer',\n",
              " 'dog',\n",
              " 'frog',\n",
              " 'horse',\n",
              " 'ship',\n",
              " 'truck']"
            ]
          },
          "metadata": {},
          "execution_count": 11
        }
      ]
    },
    {
      "cell_type": "code",
      "source": [
        "def visualize_images(image_batch):\n",
        "  index = 0\n",
        "  for image, label in image_batch.take(10):\n",
        "    plt.subplot(2, 5, index + 1)\n",
        "    index += 1\n",
        "    plt.imshow(image[:])\n",
        "    plt.axis('off')\n",
        "  plt.tight_layout()\n",
        "  plt.show()"
      ],
      "metadata": {
        "id": "TxWuW0A2DwhD"
      },
      "execution_count": 12,
      "outputs": []
    },
    {
      "cell_type": "code",
      "source": [
        "visualize_images(ds_train)"
      ],
      "metadata": {
        "id": "_mg1WNhBirOd",
        "colab": {
          "base_uri": "https://localhost:8080/",
          "height": 338
        },
        "outputId": "b1acb752-06d8-498f-a7ef-fa41cda22ccc"
      },
      "execution_count": 13,
      "outputs": [
        {
          "output_type": "display_data",
          "data": {
            "text/plain": [
              "<Figure size 640x480 with 10 Axes>"
            ],
            "image/png": "[encoded data removed]"
          },
          "metadata": {}
        }
      ]
    },
    {
      "cell_type": "code",
      "source": [
        "def normalize(image, label):\n",
        "  return tf.cast(image, tf.float32) / 255.0, label"
      ],
      "metadata": {
        "id": "7bxGI_4JirL-"
      },
      "execution_count": 14,
      "outputs": []
    },
    {
      "cell_type": "markdown",
      "source": [
        "### Prepare Dataset"
      ],
      "metadata": {
        "id": "k0Spa04Z6Ty5"
      }
    },
    {
      "cell_type": "code",
      "source": [
        "ds_train = ds_train.map(normalize, num_parallel_calls=experiment['AUTOTUNE'])\n",
        "ds_train = ds_train.cache().shuffle(ds_info.splits['train'].num_examples).batch(experiment['BATCH_SIZE']).prefetch(experiment['AUTOTUNE'])"
      ],
      "metadata": {
        "id": "89eExiTdEmVe"
      },
      "execution_count": 15,
      "outputs": []
    },
    {
      "cell_type": "code",
      "source": [
        "ds_test = ds_test.map(normalize, num_parallel_calls=experiment['AUTOTUNE'])\n",
        "ds_test = ds_test.cache().batch(experiment['BATCH_SIZE']).prefetch(experiment['AUTOTUNE'])"
      ],
      "metadata": {
        "id": "pPiyuav9EmTN"
      },
      "execution_count": 16,
      "outputs": []
    },
    {
      "cell_type": "markdown",
      "source": [
        "### Build a Network without Attention"
      ],
      "metadata": {
        "id": "1cQdOtEVKb-7"
      }
    },
    {
      "cell_type": "code",
      "source": [
        "def get_cnn_model_without_attention(verbose=0):\n",
        "    input = tf.keras.layers.Input(shape=ds_info.features['image'].shape, name='Input_Layer')\n",
        "    x = Conv2DLayerBN(32, 3, strides=1, padding=\"same\", act_end='relu')(input)\n",
        "    x = Conv2DLayerBN(32, 3, strides=1, padding=\"same\", act_end='relu')(x)\n",
        "    x = tf.keras.layers.MaxPooling2D(pool_size=(2, 2))(x)\n",
        "\n",
        "    x = Conv2DLayerBN(64, 3, strides=1, padding=\"same\", act_end='relu')(x)\n",
        "    x = Conv2DLayerBN(64, 3, strides=1, padding=\"same\", act_end='relu')(x)\n",
        "    x = tf.keras.layers.MaxPooling2D(pool_size=(2, 2))(x)\n",
        "\n",
        "    x = Conv2DLayerBN(128, 3, strides=1, padding=\"same\", act_end='relu')(x)\n",
        "    x = tf.keras.layers.Conv2D(128, 3, padding='same', activation='elu')(x)\n",
        "    # No batch normalization after last Conv block\n",
        "\n",
        "    x = tf.keras.layers.GlobalAveragePooling2D()(x)\n",
        "    output = tf.keras.layers.Dense(ds_info.features['label'].num_classes,\n",
        "                              activation='softmax' )(x)\n",
        "\n",
        "    model = tf.keras.Model(inputs=input, outputs=output)\n",
        "\n",
        "    if verbose > 0:  model.summary()\n",
        "    return model"
      ],
      "metadata": {
        "id": "u8t7ki2xEmQ7"
      },
      "execution_count": 17,
      "outputs": []
    },
    {
      "cell_type": "code",
      "source": [
        "'''\n",
        "# Equivalent code using Sequential API\n",
        "def get_cnn_model_without_attention(verbose=0):\n",
        "    model = tf.keras.models.Sequential([\n",
        "        Conv2DLayerBN(32, 3, input_shape=ds_info.features['image'].shape,\n",
        "                      act_end='relu', padding='same', batch_norm=True),\n",
        "        Conv2DLayerBN(32, 3, padding='same', act_end='relu', batch_norm=True),\n",
        "        tf.keras.layers.MaxPooling2D(pool_size=(2, 2)),\n",
        "        Conv2DLayerBN(64, 3, padding='same', act_end='relu', batch_norm=True),\n",
        "        Conv2DLayerBN(64, 3, padding='same', act_end='relu', batch_norm=True),\n",
        "        tf.keras.layers.MaxPooling2D(pool_size=(2, 2)),\n",
        "        Conv2DLayerBN(128, 3, padding='same', act_end='relu', batch_norm=True),\n",
        "        Conv2DLayerBN(128, 3, padding='same', act_end='relu', batch_norm=True),\n",
        "        tf.keras.layers.GlobalAveragePooling2D(),\n",
        "        tf.keras.layers.Dense(ds_info.features['label'].num_classes, activation='softmax' )\n",
        "    ])\n",
        "\n",
        "    if verbose > 0:  model.summary()\n",
        "    return model\n",
        "'''"
      ],
      "metadata": {
        "colab": {
          "base_uri": "https://localhost:8080/",
          "height": 192
        },
        "id": "AbpZikkthpCU",
        "outputId": "b86e9bfb-dbf5-4642-feb3-cc6d78974f60"
      },
      "execution_count": 18,
      "outputs": [
        {
          "output_type": "execute_result",
          "data": {
            "text/plain": [
              "\" \\n# Equivalent code using Sequential API\\ndef get_cnn_model_without_attention(verbose=0):\\n    model = tf.keras.models.Sequential([\\n        Conv2DLayerBN(32, 3, input_shape=ds_info.features['image'].shape, \\n                      act_end='relu', padding='same', batch_norm=True), \\n        Conv2DLayerBN(32, 3, padding='same', act_end='relu', batch_norm=True),\\n        tf.keras.layers.MaxPooling2D(pool_size=(2, 2)),\\n        Conv2DLayerBN(64, 3, padding='same', act_end='relu', batch_norm=True),\\n        Conv2DLayerBN(64, 3, padding='same', act_end='relu', batch_norm=True),\\n        tf.keras.layers.MaxPooling2D(pool_size=(2, 2)),\\n        Conv2DLayerBN(128, 3, padding='same', act_end='relu', batch_norm=True),\\n        Conv2DLayerBN(128, 3, padding='same', act_end='relu', batch_norm=True),\\n        tf.keras.layers.GlobalAveragePooling2D(),\\n        tf.keras.layers.Dense(ds_info.features['label'].num_classes, activation='softmax' )\\n    ])\\n    \\n    if verbose > 0:  model.summary()\\n    return model\\n\""
            ],
            "application/vnd.google.colaboratory.intrinsic+json": {
              "type": "string"
            }
          },
          "metadata": {},
          "execution_count": 18
        }
      ]
    },
    {
      "cell_type": "code",
      "source": [
        "simple_cnn_no_attention = get_cnn_model_without_attention(verbose=1)"
      ],
      "metadata": {
        "colab": {
          "base_uri": "https://localhost:8080/"
        },
        "id": "2xZONG1eEmOf",
        "outputId": "9a4bf7f7-6125-47fa-ed86-21339221eeb3"
      },
      "execution_count": 19,
      "outputs": [
        {
          "output_type": "stream",
          "name": "stdout",
          "text": [
            "Model: \"model\"\n",
            "_________________________________________________________________\n",
            " Layer (type)                Output Shape              Param #   \n",
            "=================================================================\n",
            " Input_Layer (InputLayer)    [(None, 32, 32, 3)]       0         \n",
            "                                                                 \n",
            " conv2d_layer_bn (Conv2DLay  (None, 32, 32, 32)        1024      \n",
            " erBN)                                                           \n",
            "                                                                 \n",
            " conv2d_layer_bn_1 (Conv2DL  (None, 32, 32, 32)        9376      \n",
            " ayerBN)                                                         \n",
            "                                                                 \n",
            " max_pooling2d (MaxPooling2  (None, 16, 16, 32)        0         \n",
            " D)                                                              \n",
            "                                                                 \n",
            " conv2d_layer_bn_2 (Conv2DL  (None, 16, 16, 64)        18752     \n",
            " ayerBN)                                                         \n",
            "                                                                 \n",
            " conv2d_layer_bn_3 (Conv2DL  (None, 16, 16, 64)        37184     \n",
            " ayerBN)                                                         \n",
            "                                                                 \n",
            " max_pooling2d_1 (MaxPoolin  (None, 8, 8, 64)          0         \n",
            " g2D)                                                            \n",
            "                                                                 \n",
            " conv2d_layer_bn_4 (Conv2DL  (None, 8, 8, 128)         74368     \n",
            " ayerBN)                                                         \n",
            "                                                                 \n",
            " conv2d (Conv2D)             (None, 8, 8, 128)         147584    \n",
            "                                                                 \n",
            " global_average_pooling2d (  (None, 128)               0         \n",
            " GlobalAveragePooling2D)                                         \n",
            "                                                                 \n",
            " dense (Dense)               (None, 10)                1290      \n",
            "                                                                 \n",
            "=================================================================\n",
            "Total params: 289578 (1.10 MB)\n",
            "Trainable params: 288938 (1.10 MB)\n",
            "Non-trainable params: 640 (2.50 KB)\n",
            "_________________________________________________________________\n"
          ]
        }
      ]
    },
    {
      "cell_type": "code",
      "source": [
        "optimizer = tf.keras.optimizers.Adam(0.001)"
      ],
      "metadata": {
        "id": "T5Eu0vbuLaE7"
      },
      "execution_count": 20,
      "outputs": []
    },
    {
      "cell_type": "code",
      "source": [
        "simple_cnn_no_attention.compile(\n",
        "    loss='sparse_categorical_crossentropy',\n",
        "    optimizer=optimizer,\n",
        "    metrics=['accuracy'],\n",
        ")"
      ],
      "metadata": {
        "id": "oXTFfPXvEmMO"
      },
      "execution_count": 21,
      "outputs": []
    },
    {
      "cell_type": "code",
      "source": [
        "model_hist = simple_cnn_no_attention.fit(ds_train, epochs=experiment['EPOCHS'])"
      ],
      "metadata": {
        "colab": {
          "base_uri": "https://localhost:8080/"
        },
        "id": "_kxJFYa9LZce",
        "outputId": "5dd79dcf-b1b7-40d0-9f69-a72c53448fb9"
      },
      "execution_count": 22,
      "outputs": [
        {
          "output_type": "stream",
          "name": "stdout",
          "text": [
            "Epoch 1/20\n",
            "1563/1563 [==============================] - 34s 9ms/step - loss: 1.2040 - accuracy: 0.5675\n",
            "Epoch 2/20\n",
            "1563/1563 [==============================] - 11s 7ms/step - loss: 0.7962 - accuracy: 0.7202\n",
            "Epoch 3/20\n",
            "1563/1563 [==============================] - 11s 7ms/step - loss: 0.6332 - accuracy: 0.7797\n",
            "Epoch 4/20\n",
            "1563/1563 [==============================] - 11s 7ms/step - loss: 0.5358 - accuracy: 0.8148\n",
            "Epoch 5/20\n",
            "1563/1563 [==============================] - 12s 7ms/step - loss: 0.4620 - accuracy: 0.8393\n",
            "Epoch 6/20\n",
            "1563/1563 [==============================] - 12s 8ms/step - loss: 0.3991 - accuracy: 0.8617\n",
            "Epoch 7/20\n",
            "1563/1563 [==============================] - 14s 9ms/step - loss: 0.3513 - accuracy: 0.8782\n",
            "Epoch 8/20\n",
            "1563/1563 [==============================] - 11s 7ms/step - loss: 0.3039 - accuracy: 0.8921\n",
            "Epoch 9/20\n",
            "1563/1563 [==============================] - 12s 7ms/step - loss: 0.2591 - accuracy: 0.9077\n",
            "Epoch 10/20\n",
            "1563/1563 [==============================] - 11s 7ms/step - loss: 0.2302 - accuracy: 0.9174\n",
            "Epoch 11/20\n",
            "1563/1563 [==============================] - 12s 7ms/step - loss: 0.1965 - accuracy: 0.9299\n",
            "Epoch 12/20\n",
            "1563/1563 [==============================] - 12s 8ms/step - loss: 0.1706 - accuracy: 0.9389\n",
            "Epoch 13/20\n",
            "1563/1563 [==============================] - 11s 7ms/step - loss: 0.1548 - accuracy: 0.9442\n",
            "Epoch 14/20\n",
            "1563/1563 [==============================] - 14s 9ms/step - loss: 0.1371 - accuracy: 0.9512\n",
            "Epoch 15/20\n",
            "1563/1563 [==============================] - 22s 14ms/step - loss: 0.1215 - accuracy: 0.9567\n",
            "Epoch 16/20\n",
            "1563/1563 [==============================] - 11s 7ms/step - loss: 0.1120 - accuracy: 0.9606\n",
            "Epoch 17/20\n",
            "1563/1563 [==============================] - 11s 7ms/step - loss: 0.1057 - accuracy: 0.9625\n",
            "Epoch 18/20\n",
            "1563/1563 [==============================] - 11s 7ms/step - loss: 0.0958 - accuracy: 0.9664\n",
            "Epoch 19/20\n",
            "1563/1563 [==============================] - 11s 7ms/step - loss: 0.0924 - accuracy: 0.9672\n",
            "Epoch 20/20\n",
            "1563/1563 [==============================] - 13s 8ms/step - loss: 0.0846 - accuracy: 0.9698\n"
          ]
        }
      ]
    },
    {
      "cell_type": "code",
      "source": [
        "import pandas as pd\n",
        "\n",
        "pd.DataFrame(model_hist.history).plot(figsize=(8, 5))\n",
        "plt.grid(True)\n",
        "plt.gca().set_ylim(0, 1.5)\n",
        "plt.show()"
      ],
      "metadata": {
        "colab": {
          "base_uri": "https://localhost:8080/",
          "height": 445
        },
        "id": "2ruzfexeLwPi",
        "outputId": "acd57f84-3064-4ca8-e20f-7c0e386720e4"
      },
      "execution_count": 23,
      "outputs": [
        {
          "output_type": "display_data",
          "data": {
            "text/plain": [
              "<Figure size 800x500 with 1 Axes>"
            ],
            "image/png": "[encoded data removed]"
          },
          "metadata": {}
        }
      ]
    },
    {
      "cell_type": "code",
      "source": [
        "print(f\"Test accuracy: {simple_cnn_no_attention.evaluate(ds_test)[1]}\")"
      ],
      "metadata": {
        "colab": {
          "base_uri": "https://localhost:8080/"
        },
        "id": "tqlTgb_HLZXX",
        "outputId": "99d97f59-4e22-4e0c-b1f8-9c22daa910cb"
      },
      "execution_count": 24,
      "outputs": [
        {
          "output_type": "stream",
          "name": "stdout",
          "text": [
            "313/313 [==============================] - 3s 10ms/step - loss: 0.9865 - accuracy: 0.7973\n",
            "Test accuracy: 0.7972999811172485\n"
          ]
        }
      ]
    },
    {
      "cell_type": "markdown",
      "source": [
        "### Build a Network with Attention"
      ],
      "metadata": {
        "id": "DZOTCGqeLlTH"
      }
    },
    {
      "cell_type": "code",
      "source": [
        "def get_cnn_model_with_attention(verbose=0):\n",
        "    model = tf.keras.Sequential([\n",
        "    Conv2DLayerBN(32, 3, input_shape=ds_info.features['image'].shape,\n",
        "                  act_end='relu', padding='same'),\n",
        "    Conv2DLayerBN(32, 3, padding='same', act_end='relu'),\n",
        "\n",
        "    ChannelGate(32, 8),\n",
        "    SpatialGate(7),\n",
        "\n",
        "    tf.keras.layers.MaxPooling2D(pool_size=(2, 2)),\n",
        "    Conv2DLayerBN(64, 3, padding='same', act_end='relu'),\n",
        "    Conv2DLayerBN(64, 3, padding='same', act_end='relu'),\n",
        "\n",
        "    ChannelGate(64, 8),\n",
        "    SpatialGate(7),\n",
        "\n",
        "    tf.keras.layers.MaxPooling2D(pool_size=(2, 2)),\n",
        "    Conv2DLayerBN(128, 3, padding='same', act_end='relu'),\n",
        "\n",
        "    tf.keras.layers.Conv2D(128, 3, padding='same', activation='relu'),\n",
        "\n",
        "    ChannelGate(128, 8),\n",
        "    SpatialGate(7),\n",
        "\n",
        "    tf.keras.layers.GlobalAveragePooling2D(),\n",
        "    tf.keras.layers.Dense(ds_info.features['label'].num_classes, activation='softmax' )\n",
        "    ])\n",
        "    if verbose > 0:  model.summary()\n",
        "\n",
        "    return model"
      ],
      "metadata": {
        "id": "mD-zLB47LZU9"
      },
      "execution_count": 28,
      "outputs": []
    },
    {
      "cell_type": "code",
      "source": [
        "simple_cnn_with_attention = get_cnn_model_with_attention(verbose=1)"
      ],
      "metadata": {
        "colab": {
          "base_uri": "https://localhost:8080/"
        },
        "id": "E-GkEDcpLZSb",
        "outputId": "be1460eb-175e-407e-c337-e307336276bf"
      },
      "execution_count": 29,
      "outputs": [
        {
          "output_type": "stream",
          "name": "stdout",
          "text": [
            "Model: \"sequential_5\"\n",
            "_________________________________________________________________\n",
            " Layer (type)                Output Shape              Param #   \n",
            "=================================================================\n",
            " conv2d_layer_bn_12 (Conv2D  (None, 32, 32, 32)        1024      \n",
            " LayerBN)                                                        \n",
            "                                                                 \n",
            " conv2d_layer_bn_13 (Conv2D  (None, 32, 32, 32)        9376      \n",
            " LayerBN)                                                        \n",
            "                                                                 \n",
            " channel_gate_2 (ChannelGat  (None, 32, 32, 32)        292       \n",
            " e)                                                              \n",
            "                                                                 \n",
            " spatial_gate_2 (SpatialGat  (None, 32, 32, 32)        103       \n",
            " e)                                                              \n",
            "                                                                 \n",
            " max_pooling2d_4 (MaxPoolin  (None, 16, 16, 32)        0         \n",
            " g2D)                                                            \n",
            "                                                                 \n",
            " conv2d_layer_bn_15 (Conv2D  (None, 16, 16, 64)        18752     \n",
            " LayerBN)                                                        \n",
            "                                                                 \n",
            " conv2d_layer_bn_16 (Conv2D  (None, 16, 16, 64)        37184     \n",
            " LayerBN)                                                        \n",
            "                                                                 \n",
            " channel_gate_3 (ChannelGat  (None, 16, 16, 64)        1096      \n",
            " e)                                                              \n",
            "                                                                 \n",
            " spatial_gate_3 (SpatialGat  (None, 16, 16, 64)        103       \n",
            " e)                                                              \n",
            "                                                                 \n",
            " max_pooling2d_5 (MaxPoolin  (None, 8, 8, 64)          0         \n",
            " g2D)                                                            \n",
            "                                                                 \n",
            " conv2d_layer_bn_18 (Conv2D  (None, 8, 8, 128)         74368     \n",
            " LayerBN)                                                        \n",
            "                                                                 \n",
            " conv2d_1 (Conv2D)           (None, 8, 8, 128)         147584    \n",
            "                                                                 \n",
            " channel_gate_4 (ChannelGat  (None, 8, 8, 128)         4240      \n",
            " e)                                                              \n",
            "                                                                 \n",
            " spatial_gate_4 (SpatialGat  (None, 8, 8, 128)         103       \n",
            " e)                                                              \n",
            "                                                                 \n",
            " global_average_pooling2d_1  (None, 128)               0         \n",
            "  (GlobalAveragePooling2D)                                       \n",
            "                                                                 \n",
            " dense_11 (Dense)            (None, 10)                1290      \n",
            "                                                                 \n",
            "=================================================================\n",
            "Total params: 295515 (1.13 MB)\n",
            "Trainable params: 294869 (1.12 MB)\n",
            "Non-trainable params: 646 (2.52 KB)\n",
            "_________________________________________________________________\n"
          ]
        }
      ]
    },
    {
      "cell_type": "code",
      "source": [
        "simple_cnn_with_attention.compile(\n",
        "    loss='sparse_categorical_crossentropy',\n",
        "    optimizer=tf.keras.optimizers.Adam(0.001),\n",
        "    metrics=['accuracy'],\n",
        ")"
      ],
      "metadata": {
        "id": "Xp4PV0d7QdAK"
      },
      "execution_count": 30,
      "outputs": []
    },
    {
      "cell_type": "code",
      "source": [
        "history = simple_cnn_with_attention.fit(ds_train, epochs=experiment['EPOCHS'])"
      ],
      "metadata": {
        "colab": {
          "base_uri": "https://localhost:8080/"
        },
        "id": "PMJHvJklQc-A",
        "outputId": "a52252f5-cef6-4913-ba11-2d3bcd666a4a"
      },
      "execution_count": 31,
      "outputs": [
        {
          "output_type": "stream",
          "name": "stdout",
          "text": [
            "Epoch 1/20\n",
            "1563/1563 [==============================] - 27s 13ms/step - loss: 1.2193 - accuracy: 0.5591\n",
            "Epoch 2/20\n",
            "1563/1563 [==============================] - 22s 14ms/step - loss: 0.7682 - accuracy: 0.7310\n",
            "Epoch 3/20\n",
            "1563/1563 [==============================] - 23s 14ms/step - loss: 0.6125 - accuracy: 0.7859\n",
            "Epoch 4/20\n",
            "1563/1563 [==============================] - 21s 13ms/step - loss: 0.5178 - accuracy: 0.8189\n",
            "Epoch 5/20\n",
            "1563/1563 [==============================] - 19s 12ms/step - loss: 0.4475 - accuracy: 0.8448\n",
            "Epoch 6/20\n",
            "1563/1563 [==============================] - 20s 13ms/step - loss: 0.3915 - accuracy: 0.8624\n",
            "Epoch 7/20\n",
            "1563/1563 [==============================] - 19s 12ms/step - loss: 0.3343 - accuracy: 0.8821\n",
            "Epoch 8/20\n",
            "1563/1563 [==============================] - 20s 13ms/step - loss: 0.2900 - accuracy: 0.8977\n",
            "Epoch 9/20\n",
            "1563/1563 [==============================] - 19s 12ms/step - loss: 0.2516 - accuracy: 0.9104\n",
            "Epoch 10/20\n",
            "1563/1563 [==============================] - 20s 13ms/step - loss: 0.2189 - accuracy: 0.9224\n",
            "Epoch 11/20\n",
            "1563/1563 [==============================] - 20s 12ms/step - loss: 0.1911 - accuracy: 0.9334\n",
            "Epoch 12/20\n",
            "1563/1563 [==============================] - 20s 13ms/step - loss: 0.1654 - accuracy: 0.9414\n",
            "Epoch 13/20\n",
            "1563/1563 [==============================] - 20s 13ms/step - loss: 0.1483 - accuracy: 0.9471\n",
            "Epoch 14/20\n",
            "1563/1563 [==============================] - 21s 13ms/step - loss: 0.1301 - accuracy: 0.9544\n",
            "Epoch 15/20\n",
            "1563/1563 [==============================] - 20s 13ms/step - loss: 0.1182 - accuracy: 0.9581\n",
            "Epoch 16/20\n",
            "1563/1563 [==============================] - 20s 13ms/step - loss: 0.1067 - accuracy: 0.9618\n",
            "Epoch 17/20\n",
            "1563/1563 [==============================] - 21s 13ms/step - loss: 0.0993 - accuracy: 0.9641\n",
            "Epoch 18/20\n",
            "1563/1563 [==============================] - 21s 13ms/step - loss: 0.0898 - accuracy: 0.9689\n",
            "Epoch 19/20\n",
            "1563/1563 [==============================] - 20s 13ms/step - loss: 0.0855 - accuracy: 0.9696\n",
            "Epoch 20/20\n",
            "1563/1563 [==============================] - 21s 13ms/step - loss: 0.0861 - accuracy: 0.9699\n"
          ]
        }
      ]
    },
    {
      "cell_type": "code",
      "source": [
        "import pandas as pd\n",
        "\n",
        "pd.DataFrame(history.history).plot(figsize=(8, 5))\n",
        "plt.grid(True)\n",
        "plt.gca().set_ylim(0, 1.5)\n",
        "plt.show()"
      ],
      "metadata": {
        "id": "qXTELD-oQc7j",
        "colab": {
          "base_uri": "https://localhost:8080/",
          "height": 445
        },
        "outputId": "aa43a299-8028-4599-882a-66f6bb5fad9a"
      },
      "execution_count": 32,
      "outputs": [
        {
          "output_type": "display_data",
          "data": {
            "text/plain": [
              "<Figure size 800x500 with 1 Axes>"
            ],
            "image/png": "[encoded data removed]"
          },
          "metadata": {}
        }
      ]
    },
    {
      "cell_type": "code",
      "source": [
        "print(f\"Test accuracy: {simple_cnn_with_attention.evaluate(ds_test)[1]}\")"
      ],
      "metadata": {
        "id": "LvzbzJOFQc5H",
        "colab": {
          "base_uri": "https://localhost:8080/"
        },
        "outputId": "2525f20d-31b6-46f9-98a0-e9a073ccca58"
      },
      "execution_count": 33,
      "outputs": [
        {
          "output_type": "stream",
          "name": "stdout",
          "text": [
            "313/313 [==============================] - 2s 5ms/step - loss: 0.8438 - accuracy: 0.8207\n",
            "Test accuracy: 0.8206999897956848\n"
          ]
        }
      ]
    },
    {
      "cell_type": "markdown",
      "source": [
        "### Visualize Attention network"
      ],
      "metadata": {
        "id": "bSu6ATQ8RYn2"
      }
    },
    {
      "cell_type": "code",
      "source": [
        "for images, labels in tfds.as_numpy(ds_test.take(1)):\n",
        "    X_test = images\n",
        "    y_test = labels\n",
        "\n",
        "print(\"X_test.shape:\", X_test.shape)\n",
        "print(\"y_test.shape:\", y_test.shape)"
      ],
      "metadata": {
        "colab": {
          "base_uri": "https://localhost:8080/"
        },
        "id": "HJWHqG5fWZqZ",
        "outputId": "a0027a0c-77e4-498f-cd1e-39b8cc378e14"
      },
      "execution_count": 34,
      "outputs": [
        {
          "output_type": "stream",
          "name": "stdout",
          "text": [
            "X_test.shape: (32, 32, 32, 3)\n",
            "y_test.shape: (32,)\n"
          ]
        }
      ]
    },
    {
      "cell_type": "code",
      "source": [
        "def image_to_uint_255(image):\n",
        "    \"\"\"\n",
        "    Convert float images to int 0-255 images.\n",
        "    Args:\n",
        "        image (numpy.ndarray): Input image. Can be either [0, 255], [0, 1], [-1, 1]\n",
        "    Returns:\n",
        "        numpy.ndarray:\n",
        "    \"\"\"\n",
        "    if image.dtype == np.uint8:\n",
        "        return image\n",
        "\n",
        "    if image.min() < 0:\n",
        "        image = (image + 1.0) / 2.0\n",
        "\n",
        "    return (image * 255).astype(\"uint8\")"
      ],
      "metadata": {
        "id": "SISnRkEp4xV1"
      },
      "execution_count": 35,
      "outputs": []
    },
    {
      "cell_type": "code",
      "source": [
        "plt.imshow(X_test[0])"
      ],
      "metadata": {
        "colab": {
          "base_uri": "https://localhost:8080/",
          "height": 447
        },
        "id": "NnRCM7iirqhG",
        "outputId": "87f3f520-a506-4873-93d1-5abe633c6450"
      },
      "execution_count": 39,
      "outputs": [
        {
          "output_type": "execute_result",
          "data": {
            "text/plain": [
              "<matplotlib.image.AxesImage at 0x7ebf37cc2d70>"
            ]
          },
          "metadata": {},
          "execution_count": 39
        },
        {
          "output_type": "display_data",
          "data": {
            "text/plain": [
              "<Figure size 640x480 with 1 Axes>"
            ],
            "image/png": "[encoded data removed]"
          },
          "metadata": {}
        }
      ]
    },
    {
      "cell_type": "markdown",
      "source": [
        "### Network without vs with Attention"
      ],
      "metadata": {
        "id": "kQIEOMvo2Sl6"
      }
    },
    {
      "cell_type": "code",
      "source": [
        "test_id = 0\n",
        "\n",
        "test_img = X_test[test_id]\n",
        "test_img = tf.expand_dims(test_img, axis=0)\n",
        "\n",
        "# CNN model with Attention\n",
        "gradCam_att_cnn = vision.GradCAM(simple_cnn_with_attention)\n",
        "preds_att_cnn = simple_cnn_with_attention.predict(X_test)\n",
        "class_id_att_cnn = np.argmax(preds_att_cnn[test_id])\n",
        "(heatmap_att_cnn, output_att_cnn) = gradCam_att_cnn(test_img, X_test[test_id]*255, class_id_att_cnn, alpha=0.5)\n",
        "\n",
        "\n",
        "# Simple CNN model\n",
        "gradCam_cnn = vision.GradCAM(simple_cnn_no_attention)\n",
        "preds_cnn = simple_cnn_no_attention.predict(X_test)\n",
        "class_id_cnn = np.argmax(preds_cnn[test_id])\n",
        "(heatmap_cnn, output_cnn) = gradCam_att_cnn(test_img, X_test[test_id]*255, class_id_cnn, alpha=0.5)\n",
        "\n",
        "\n",
        "plt.subplot(1,2,1)\n",
        "plt.imshow(output_att_cnn)\n",
        "plt.title(f\"Logit: {preds_att_cnn[0][class_id_att_cnn]:2f}\")\n",
        "plt.subplot(1,2,2)\n",
        "plt.imshow(output_cnn)\n",
        "plt.title(f\"Logit: {preds_cnn[0][class_id_cnn]:2f}\")\n",
        "plt.show()"
      ],
      "metadata": {
        "colab": {
          "base_uri": "https://localhost:8080/",
          "height": 343
        },
        "id": "4rc_Z7-_qcer",
        "outputId": "4278b7c0-0308-4950-87a3-3dea92620582"
      },
      "execution_count": 69,
      "outputs": [
        {
          "output_type": "stream",
          "name": "stdout",
          "text": [
            "1/1 [==============================] - 0s 28ms/step\n",
            "1/1 [==============================] - 0s 26ms/step\n"
          ]
        },
        {
          "output_type": "display_data",
          "data": {
            "text/plain": [
              "<Figure size 640x480 with 2 Axes>"
            ],
            "image/png": "[encoded data removed]"
          },
          "metadata": {}
        }
      ]
    },
    {
      "cell_type": "code",
      "source": [
        "def show_GradCAM_results(test_id):\n",
        "    test_img = X_test[test_id]\n",
        "    test_img = tf.expand_dims(test_img, axis=0)\n",
        "\n",
        "    # CNN model with Attention\n",
        "    gradCam_att_cnn = vision.GradCAM(simple_cnn_with_attention)\n",
        "    preds_att_cnn = simple_cnn_with_attention.predict(X_test)\n",
        "    class_id_att_cnn = np.argmax(preds_att_cnn[test_id])\n",
        "    (heatmap_att_cnn, output_att_cnn) = gradCam_att_cnn(test_img, X_test[test_id]*255, class_id_att_cnn, alpha=0.5)\n",
        "\n",
        "\n",
        "    # Simple CNN model\n",
        "    gradCam_cnn = vision.GradCAM(simple_cnn_no_attention)\n",
        "    preds_cnn = simple_cnn_no_attention.predict(X_test)\n",
        "    class_id_cnn = np.argmax(preds_cnn[test_id])\n",
        "    (heatmap_cnn, output_cnn) = gradCam_att_cnn(test_img, X_test[test_id]*255, class_id_cnn, alpha=0.5)\n",
        "\n",
        "\n",
        "    plt.subplot(1,2,1)\n",
        "    plt.imshow(output_att_cnn)\n",
        "    plt.title(f\"Logit: {preds_att_cnn[0][class_id_att_cnn]:2f}\")\n",
        "    plt.subplot(1,2,2)\n",
        "    plt.imshow(output_cnn)\n",
        "    plt.title(f\"Logit: {preds_cnn[0][class_id_cnn]:2f}\")\n",
        "    plt.show()"
      ],
      "metadata": {
        "id": "KbUk7CkqvPu1"
      },
      "execution_count": 71,
      "outputs": []
    },
    {
      "cell_type": "code",
      "source": [
        "show_GradCAM_results(1)"
      ],
      "metadata": {
        "colab": {
          "base_uri": "https://localhost:8080/",
          "height": 343
        },
        "id": "MXMp7tE2vpay",
        "outputId": "2370c003-73cc-4d05-c435-7a8970289840"
      },
      "execution_count": 72,
      "outputs": [
        {
          "output_type": "stream",
          "name": "stdout",
          "text": [
            "1/1 [==============================] - 0s 91ms/step\n",
            "1/1 [==============================] - 0s 81ms/step\n"
          ]
        },
        {
          "output_type": "display_data",
          "data": {
            "text/plain": [
              "<Figure size 640x480 with 2 Axes>"
            ],
            "image/png": "[encoded data removed]"
          },
          "metadata": {}
        }
      ]
    },
    {
      "cell_type": "code",
      "source": [
        "show_GradCAM_results(2)"
      ],
      "metadata": {
        "colab": {
          "base_uri": "https://localhost:8080/",
          "height": 343
        },
        "id": "9LwsJxqNvpYf",
        "outputId": "e0fa59f3-5c1a-4c6d-ed02-3d4b09b044c3"
      },
      "execution_count": 73,
      "outputs": [
        {
          "output_type": "stream",
          "name": "stdout",
          "text": [
            "1/1 [==============================] - 0s 27ms/step\n",
            "1/1 [==============================] - 0s 24ms/step\n"
          ]
        },
        {
          "output_type": "display_data",
          "data": {
            "text/plain": [
              "<Figure size 640x480 with 2 Axes>"
            ],
            "image/png": "[encoded data removed]"
          },
          "metadata": {}
        }
      ]
    },
    {
      "cell_type": "code",
      "source": [
        "show_GradCAM_results(3)"
      ],
      "metadata": {
        "colab": {
          "base_uri": "https://localhost:8080/",
          "height": 343
        },
        "id": "FAhPyEMpv2jq",
        "outputId": "cbdd6d6c-0ed0-4766-94bd-b46033ed92c9"
      },
      "execution_count": 74,
      "outputs": [
        {
          "output_type": "stream",
          "name": "stdout",
          "text": [
            "1/1 [==============================] - 0s 68ms/step\n",
            "1/1 [==============================] - 0s 28ms/step\n"
          ]
        },
        {
          "output_type": "display_data",
          "data": {
            "text/plain": [
              "<Figure size 640x480 with 2 Axes>"
            ],
            "image/png": "[encoded data removed]"
          },
          "metadata": {}
        }
      ]
    },
    {
      "cell_type": "code",
      "source": [
        "show_GradCAM_results(4)"
      ],
      "metadata": {
        "colab": {
          "base_uri": "https://localhost:8080/",
          "height": 343
        },
        "id": "FONo3tu_v5m1",
        "outputId": "6f9f9827-c37e-4930-c4a5-7fe3160cd02c"
      },
      "execution_count": 75,
      "outputs": [
        {
          "output_type": "stream",
          "name": "stdout",
          "text": [
            "1/1 [==============================] - 0s 71ms/step\n",
            "1/1 [==============================] - 0s 48ms/step\n"
          ]
        },
        {
          "output_type": "display_data",
          "data": {
            "text/plain": [
              "<Figure size 640x480 with 2 Axes>"
            ],
            "image/png": "[encoded data removed]"
          },
          "metadata": {}
        }
      ]
    },
    {
      "cell_type": "markdown",
      "source": [
        "### Reference\n",
        "\n",
        "[EscVM_YT/Notebooks/0 - TF2.X Tutorials\n",
        "/tf_2_visual_attention.ipynb](https://github.com/EscVM/EscVM_YT/blob/master/Notebooks/0%20-%20TF2.X%20Tutorials/tf_2_visual_attention.ipynb)\n",
        "\n",
        "https://github.com/sicara/tf-explain/blob/master/tf_explain/core/grad_cam.py\n",
        "\n",
        "https://github.com/sicara/tf-explain/blob/master/tf_explain/utils/display.py\n",
        "\n",
        "https://github.com/sicara/tf-explain/blob/master/tf_explain/utils/saver.py\n",
        "\n",
        "https://www.youtube.com/watch?v=1mjI_Jm4W1E\n"
      ],
      "metadata": {
        "id": "rgiGv3Ujirs1"
      }
    }
  ]
}