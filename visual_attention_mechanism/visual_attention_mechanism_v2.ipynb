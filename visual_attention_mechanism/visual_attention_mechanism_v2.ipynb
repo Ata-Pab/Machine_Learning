{
  "nbformat": 4,
  "nbformat_minor": 0,
  "metadata": {
    "colab": {
      "provenance": [],
      "gpuType": "T4"
    },
    "kernelspec": {
      "name": "python3",
      "display_name": "Python 3"
    },
    "language_info": {
      "name": "python"
    },
    "widgets": {
      "application/vnd.jupyter.widget-state+json": {
        "252e1f220f4042f4ac8640f851cdd934": {
          "model_module": "@jupyter-widgets/controls",
          "model_name": "HBoxModel",
          "model_module_version": "1.5.0",
          "state": {
            "_dom_classes": [],
            "_model_module": "@jupyter-widgets/controls",
            "_model_module_version": "1.5.0",
            "_model_name": "HBoxModel",
            "_view_count": null,
            "_view_module": "@jupyter-widgets/controls",
            "_view_module_version": "1.5.0",
            "_view_name": "HBoxView",
            "box_style": "",
            "children": [
              "IPY_MODEL_7fdf70e63a68409380b1954e8d956401",
              "IPY_MODEL_d6c99d4aa953471fa3f0524f2f8a2ab2",
              "IPY_MODEL_d879488e21a14842a16dd9d65a17fb01"
            ],
            "layout": "IPY_MODEL_e6d5e0ee433f41dbaae22997cdaeb7a7"
          }
        },
        "7fdf70e63a68409380b1954e8d956401": {
          "model_module": "@jupyter-widgets/controls",
          "model_name": "HTMLModel",
          "model_module_version": "1.5.0",
          "state": {
            "_dom_classes": [],
            "_model_module": "@jupyter-widgets/controls",
            "_model_module_version": "1.5.0",
            "_model_name": "HTMLModel",
            "_view_count": null,
            "_view_module": "@jupyter-widgets/controls",
            "_view_module_version": "1.5.0",
            "_view_name": "HTMLView",
            "description": "",
            "description_tooltip": null,
            "layout": "IPY_MODEL_11c0712340394d3fa7119962d53295b9",
            "placeholder": "​",
            "style": "IPY_MODEL_c5cfbcadbc3042a392f8e84aa4f217c3",
            "value": "Dl Completed...: 100%"
          }
        },
        "d6c99d4aa953471fa3f0524f2f8a2ab2": {
          "model_module": "@jupyter-widgets/controls",
          "model_name": "FloatProgressModel",
          "model_module_version": "1.5.0",
          "state": {
            "_dom_classes": [],
            "_model_module": "@jupyter-widgets/controls",
            "_model_module_version": "1.5.0",
            "_model_name": "FloatProgressModel",
            "_view_count": null,
            "_view_module": "@jupyter-widgets/controls",
            "_view_module_version": "1.5.0",
            "_view_name": "ProgressView",
            "bar_style": "success",
            "description": "",
            "description_tooltip": null,
            "layout": "IPY_MODEL_90e1bafdc2784930a9a3c1ef74080e96",
            "max": 1,
            "min": 0,
            "orientation": "horizontal",
            "style": "IPY_MODEL_303e79d1fac94591b64e8114d0a83a64",
            "value": 1
          }
        },
        "d879488e21a14842a16dd9d65a17fb01": {
          "model_module": "@jupyter-widgets/controls",
          "model_name": "HTMLModel",
          "model_module_version": "1.5.0",
          "state": {
            "_dom_classes": [],
            "_model_module": "@jupyter-widgets/controls",
            "_model_module_version": "1.5.0",
            "_model_name": "HTMLModel",
            "_view_count": null,
            "_view_module": "@jupyter-widgets/controls",
            "_view_module_version": "1.5.0",
            "_view_name": "HTMLView",
            "description": "",
            "description_tooltip": null,
            "layout": "IPY_MODEL_ce240e0567ae4f5eafb9e97a7cddd0b7",
            "placeholder": "​",
            "style": "IPY_MODEL_33172bf8489d40e28a459d19a0c7fdf2",
            "value": " 1/1 [00:17&lt;00:00, 14.72s/ url]"
          }
        },
        "e6d5e0ee433f41dbaae22997cdaeb7a7": {
          "model_module": "@jupyter-widgets/base",
          "model_name": "LayoutModel",
          "model_module_version": "1.2.0",
          "state": {
            "_model_module": "@jupyter-widgets/base",
            "_model_module_version": "1.2.0",
            "_model_name": "LayoutModel",
            "_view_count": null,
            "_view_module": "@jupyter-widgets/base",
            "_view_module_version": "1.2.0",
            "_view_name": "LayoutView",
            "align_content": null,
            "align_items": null,
            "align_self": null,
            "border": null,
            "bottom": null,
            "display": null,
            "flex": null,
            "flex_flow": null,
            "grid_area": null,
            "grid_auto_columns": null,
            "grid_auto_flow": null,
            "grid_auto_rows": null,
            "grid_column": null,
            "grid_gap": null,
            "grid_row": null,
            "grid_template_areas": null,
            "grid_template_columns": null,
            "grid_template_rows": null,
            "height": null,
            "justify_content": null,
            "justify_items": null,
            "left": null,
            "margin": null,
            "max_height": null,
            "max_width": null,
            "min_height": null,
            "min_width": null,
            "object_fit": null,
            "object_position": null,
            "order": null,
            "overflow": null,
            "overflow_x": null,
            "overflow_y": null,
            "padding": null,
            "right": null,
            "top": null,
            "visibility": null,
            "width": null
          }
        },
        "11c0712340394d3fa7119962d53295b9": {
          "model_module": "@jupyter-widgets/base",
          "model_name": "LayoutModel",
          "model_module_version": "1.2.0",
          "state": {
            "_model_module": "@jupyter-widgets/base",
            "_model_module_version": "1.2.0",
            "_model_name": "LayoutModel",
            "_view_count": null,
            "_view_module": "@jupyter-widgets/base",
            "_view_module_version": "1.2.0",
            "_view_name": "LayoutView",
            "align_content": null,
            "align_items": null,
            "align_self": null,
            "border": null,
            "bottom": null,
            "display": null,
            "flex": null,
            "flex_flow": null,
            "grid_area": null,
            "grid_auto_columns": null,
            "grid_auto_flow": null,
            "grid_auto_rows": null,
            "grid_column": null,
            "grid_gap": null,
            "grid_row": null,
            "grid_template_areas": null,
            "grid_template_columns": null,
            "grid_template_rows": null,
            "height": null,
            "justify_content": null,
            "justify_items": null,
            "left": null,
            "margin": null,
            "max_height": null,
            "max_width": null,
            "min_height": null,
            "min_width": null,
            "object_fit": null,
            "object_position": null,
            "order": null,
            "overflow": null,
            "overflow_x": null,
            "overflow_y": null,
            "padding": null,
            "right": null,
            "top": null,
            "visibility": null,
            "width": null
          }
        },
        "c5cfbcadbc3042a392f8e84aa4f217c3": {
          "model_module": "@jupyter-widgets/controls",
          "model_name": "DescriptionStyleModel",
          "model_module_version": "1.5.0",
          "state": {
            "_model_module": "@jupyter-widgets/controls",
            "_model_module_version": "1.5.0",
            "_model_name": "DescriptionStyleModel",
            "_view_count": null,
            "_view_module": "@jupyter-widgets/base",
            "_view_module_version": "1.2.0",
            "_view_name": "StyleView",
            "description_width": ""
          }
        },
        "90e1bafdc2784930a9a3c1ef74080e96": {
          "model_module": "@jupyter-widgets/base",
          "model_name": "LayoutModel",
          "model_module_version": "1.2.0",
          "state": {
            "_model_module": "@jupyter-widgets/base",
            "_model_module_version": "1.2.0",
            "_model_name": "LayoutModel",
            "_view_count": null,
            "_view_module": "@jupyter-widgets/base",
            "_view_module_version": "1.2.0",
            "_view_name": "LayoutView",
            "align_content": null,
            "align_items": null,
            "align_self": null,
            "border": null,
            "bottom": null,
            "display": null,
            "flex": null,
            "flex_flow": null,
            "grid_area": null,
            "grid_auto_columns": null,
            "grid_auto_flow": null,
            "grid_auto_rows": null,
            "grid_column": null,
            "grid_gap": null,
            "grid_row": null,
            "grid_template_areas": null,
            "grid_template_columns": null,
            "grid_template_rows": null,
            "height": null,
            "justify_content": null,
            "justify_items": null,
            "left": null,
            "margin": null,
            "max_height": null,
            "max_width": null,
            "min_height": null,
            "min_width": null,
            "object_fit": null,
            "object_position": null,
            "order": null,
            "overflow": null,
            "overflow_x": null,
            "overflow_y": null,
            "padding": null,
            "right": null,
            "top": null,
            "visibility": null,
            "width": "20px"
          }
        },
        "303e79d1fac94591b64e8114d0a83a64": {
          "model_module": "@jupyter-widgets/controls",
          "model_name": "ProgressStyleModel",
          "model_module_version": "1.5.0",
          "state": {
            "_model_module": "@jupyter-widgets/controls",
            "_model_module_version": "1.5.0",
            "_model_name": "ProgressStyleModel",
            "_view_count": null,
            "_view_module": "@jupyter-widgets/base",
            "_view_module_version": "1.2.0",
            "_view_name": "StyleView",
            "bar_color": null,
            "description_width": ""
          }
        },
        "ce240e0567ae4f5eafb9e97a7cddd0b7": {
          "model_module": "@jupyter-widgets/base",
          "model_name": "LayoutModel",
          "model_module_version": "1.2.0",
          "state": {
            "_model_module": "@jupyter-widgets/base",
            "_model_module_version": "1.2.0",
            "_model_name": "LayoutModel",
            "_view_count": null,
            "_view_module": "@jupyter-widgets/base",
            "_view_module_version": "1.2.0",
            "_view_name": "LayoutView",
            "align_content": null,
            "align_items": null,
            "align_self": null,
            "border": null,
            "bottom": null,
            "display": null,
            "flex": null,
            "flex_flow": null,
            "grid_area": null,
            "grid_auto_columns": null,
            "grid_auto_flow": null,
            "grid_auto_rows": null,
            "grid_column": null,
            "grid_gap": null,
            "grid_row": null,
            "grid_template_areas": null,
            "grid_template_columns": null,
            "grid_template_rows": null,
            "height": null,
            "justify_content": null,
            "justify_items": null,
            "left": null,
            "margin": null,
            "max_height": null,
            "max_width": null,
            "min_height": null,
            "min_width": null,
            "object_fit": null,
            "object_position": null,
            "order": null,
            "overflow": null,
            "overflow_x": null,
            "overflow_y": null,
            "padding": null,
            "right": null,
            "top": null,
            "visibility": null,
            "width": null
          }
        },
        "33172bf8489d40e28a459d19a0c7fdf2": {
          "model_module": "@jupyter-widgets/controls",
          "model_name": "DescriptionStyleModel",
          "model_module_version": "1.5.0",
          "state": {
            "_model_module": "@jupyter-widgets/controls",
            "_model_module_version": "1.5.0",
            "_model_name": "DescriptionStyleModel",
            "_view_count": null,
            "_view_module": "@jupyter-widgets/base",
            "_view_module_version": "1.2.0",
            "_view_name": "StyleView",
            "description_width": ""
          }
        },
        "47abdc07266f43329eae015b5031f004": {
          "model_module": "@jupyter-widgets/controls",
          "model_name": "HBoxModel",
          "model_module_version": "1.5.0",
          "state": {
            "_dom_classes": [],
            "_model_module": "@jupyter-widgets/controls",
            "_model_module_version": "1.5.0",
            "_model_name": "HBoxModel",
            "_view_count": null,
            "_view_module": "@jupyter-widgets/controls",
            "_view_module_version": "1.5.0",
            "_view_name": "HBoxView",
            "box_style": "",
            "children": [
              "IPY_MODEL_dba206bdd8f14d35b59c46feadc65a23",
              "IPY_MODEL_d49e3ed923d0432f876b0ef6f6bdba2f",
              "IPY_MODEL_5b1105aa735f43b285cea204363ec86c"
            ],
            "layout": "IPY_MODEL_36bacc40b57f435ab003424bbda8094e"
          }
        },
        "dba206bdd8f14d35b59c46feadc65a23": {
          "model_module": "@jupyter-widgets/controls",
          "model_name": "HTMLModel",
          "model_module_version": "1.5.0",
          "state": {
            "_dom_classes": [],
            "_model_module": "@jupyter-widgets/controls",
            "_model_module_version": "1.5.0",
            "_model_name": "HTMLModel",
            "_view_count": null,
            "_view_module": "@jupyter-widgets/controls",
            "_view_module_version": "1.5.0",
            "_view_name": "HTMLView",
            "description": "",
            "description_tooltip": null,
            "layout": "IPY_MODEL_9cbdf4b0149441dd8c31005cc7bc0a58",
            "placeholder": "​",
            "style": "IPY_MODEL_44538c036c804aa4b7cbc109b3e3dd01",
            "value": "Dl Size...: 100%"
          }
        },
        "d49e3ed923d0432f876b0ef6f6bdba2f": {
          "model_module": "@jupyter-widgets/controls",
          "model_name": "FloatProgressModel",
          "model_module_version": "1.5.0",
          "state": {
            "_dom_classes": [],
            "_model_module": "@jupyter-widgets/controls",
            "_model_module_version": "1.5.0",
            "_model_name": "FloatProgressModel",
            "_view_count": null,
            "_view_module": "@jupyter-widgets/controls",
            "_view_module_version": "1.5.0",
            "_view_name": "ProgressView",
            "bar_style": "success",
            "description": "",
            "description_tooltip": null,
            "layout": "IPY_MODEL_0f57a888a5584960b14fbbdc08bdbd71",
            "max": 1,
            "min": 0,
            "orientation": "horizontal",
            "style": "IPY_MODEL_ebc48fb04714427da69cd59d6a213781",
            "value": 1
          }
        },
        "5b1105aa735f43b285cea204363ec86c": {
          "model_module": "@jupyter-widgets/controls",
          "model_name": "HTMLModel",
          "model_module_version": "1.5.0",
          "state": {
            "_dom_classes": [],
            "_model_module": "@jupyter-widgets/controls",
            "_model_module_version": "1.5.0",
            "_model_name": "HTMLModel",
            "_view_count": null,
            "_view_module": "@jupyter-widgets/controls",
            "_view_module_version": "1.5.0",
            "_view_name": "HTMLView",
            "description": "",
            "description_tooltip": null,
            "layout": "IPY_MODEL_270124822ea34aaf9a3b19761d76b317",
            "placeholder": "​",
            "style": "IPY_MODEL_31b45a39df8a43b3a22ab5c7b1312818",
            "value": " 162/162 [00:17&lt;00:00, 13.16 MiB/s]"
          }
        },
        "36bacc40b57f435ab003424bbda8094e": {
          "model_module": "@jupyter-widgets/base",
          "model_name": "LayoutModel",
          "model_module_version": "1.2.0",
          "state": {
            "_model_module": "@jupyter-widgets/base",
            "_model_module_version": "1.2.0",
            "_model_name": "LayoutModel",
            "_view_count": null,
            "_view_module": "@jupyter-widgets/base",
            "_view_module_version": "1.2.0",
            "_view_name": "LayoutView",
            "align_content": null,
            "align_items": null,
            "align_self": null,
            "border": null,
            "bottom": null,
            "display": null,
            "flex": null,
            "flex_flow": null,
            "grid_area": null,
            "grid_auto_columns": null,
            "grid_auto_flow": null,
            "grid_auto_rows": null,
            "grid_column": null,
            "grid_gap": null,
            "grid_row": null,
            "grid_template_areas": null,
            "grid_template_columns": null,
            "grid_template_rows": null,
            "height": null,
            "justify_content": null,
            "justify_items": null,
            "left": null,
            "margin": null,
            "max_height": null,
            "max_width": null,
            "min_height": null,
            "min_width": null,
            "object_fit": null,
            "object_position": null,
            "order": null,
            "overflow": null,
            "overflow_x": null,
            "overflow_y": null,
            "padding": null,
            "right": null,
            "top": null,
            "visibility": null,
            "width": null
          }
        },
        "9cbdf4b0149441dd8c31005cc7bc0a58": {
          "model_module": "@jupyter-widgets/base",
          "model_name": "LayoutModel",
          "model_module_version": "1.2.0",
          "state": {
            "_model_module": "@jupyter-widgets/base",
            "_model_module_version": "1.2.0",
            "_model_name": "LayoutModel",
            "_view_count": null,
            "_view_module": "@jupyter-widgets/base",
            "_view_module_version": "1.2.0",
            "_view_name": "LayoutView",
            "align_content": null,
            "align_items": null,
            "align_self": null,
            "border": null,
            "bottom": null,
            "display": null,
            "flex": null,
            "flex_flow": null,
            "grid_area": null,
            "grid_auto_columns": null,
            "grid_auto_flow": null,
            "grid_auto_rows": null,
            "grid_column": null,
            "grid_gap": null,
            "grid_row": null,
            "grid_template_areas": null,
            "grid_template_columns": null,
            "grid_template_rows": null,
            "height": null,
            "justify_content": null,
            "justify_items": null,
            "left": null,
            "margin": null,
            "max_height": null,
            "max_width": null,
            "min_height": null,
            "min_width": null,
            "object_fit": null,
            "object_position": null,
            "order": null,
            "overflow": null,
            "overflow_x": null,
            "overflow_y": null,
            "padding": null,
            "right": null,
            "top": null,
            "visibility": null,
            "width": null
          }
        },
        "44538c036c804aa4b7cbc109b3e3dd01": {
          "model_module": "@jupyter-widgets/controls",
          "model_name": "DescriptionStyleModel",
          "model_module_version": "1.5.0",
          "state": {
            "_model_module": "@jupyter-widgets/controls",
            "_model_module_version": "1.5.0",
            "_model_name": "DescriptionStyleModel",
            "_view_count": null,
            "_view_module": "@jupyter-widgets/base",
            "_view_module_version": "1.2.0",
            "_view_name": "StyleView",
            "description_width": ""
          }
        },
        "0f57a888a5584960b14fbbdc08bdbd71": {
          "model_module": "@jupyter-widgets/base",
          "model_name": "LayoutModel",
          "model_module_version": "1.2.0",
          "state": {
            "_model_module": "@jupyter-widgets/base",
            "_model_module_version": "1.2.0",
            "_model_name": "LayoutModel",
            "_view_count": null,
            "_view_module": "@jupyter-widgets/base",
            "_view_module_version": "1.2.0",
            "_view_name": "LayoutView",
            "align_content": null,
            "align_items": null,
            "align_self": null,
            "border": null,
            "bottom": null,
            "display": null,
            "flex": null,
            "flex_flow": null,
            "grid_area": null,
            "grid_auto_columns": null,
            "grid_auto_flow": null,
            "grid_auto_rows": null,
            "grid_column": null,
            "grid_gap": null,
            "grid_row": null,
            "grid_template_areas": null,
            "grid_template_columns": null,
            "grid_template_rows": null,
            "height": null,
            "justify_content": null,
            "justify_items": null,
            "left": null,
            "margin": null,
            "max_height": null,
            "max_width": null,
            "min_height": null,
            "min_width": null,
            "object_fit": null,
            "object_position": null,
            "order": null,
            "overflow": null,
            "overflow_x": null,
            "overflow_y": null,
            "padding": null,
            "right": null,
            "top": null,
            "visibility": null,
            "width": "20px"
          }
        },
        "ebc48fb04714427da69cd59d6a213781": {
          "model_module": "@jupyter-widgets/controls",
          "model_name": "ProgressStyleModel",
          "model_module_version": "1.5.0",
          "state": {
            "_model_module": "@jupyter-widgets/controls",
            "_model_module_version": "1.5.0",
            "_model_name": "ProgressStyleModel",
            "_view_count": null,
            "_view_module": "@jupyter-widgets/base",
            "_view_module_version": "1.2.0",
            "_view_name": "StyleView",
            "bar_color": null,
            "description_width": ""
          }
        },
        "270124822ea34aaf9a3b19761d76b317": {
          "model_module": "@jupyter-widgets/base",
          "model_name": "LayoutModel",
          "model_module_version": "1.2.0",
          "state": {
            "_model_module": "@jupyter-widgets/base",
            "_model_module_version": "1.2.0",
            "_model_name": "LayoutModel",
            "_view_count": null,
            "_view_module": "@jupyter-widgets/base",
            "_view_module_version": "1.2.0",
            "_view_name": "LayoutView",
            "align_content": null,
            "align_items": null,
            "align_self": null,
            "border": null,
            "bottom": null,
            "display": null,
            "flex": null,
            "flex_flow": null,
            "grid_area": null,
            "grid_auto_columns": null,
            "grid_auto_flow": null,
            "grid_auto_rows": null,
            "grid_column": null,
            "grid_gap": null,
            "grid_row": null,
            "grid_template_areas": null,
            "grid_template_columns": null,
            "grid_template_rows": null,
            "height": null,
            "justify_content": null,
            "justify_items": null,
            "left": null,
            "margin": null,
            "max_height": null,
            "max_width": null,
            "min_height": null,
            "min_width": null,
            "object_fit": null,
            "object_position": null,
            "order": null,
            "overflow": null,
            "overflow_x": null,
            "overflow_y": null,
            "padding": null,
            "right": null,
            "top": null,
            "visibility": null,
            "width": null
          }
        },
        "31b45a39df8a43b3a22ab5c7b1312818": {
          "model_module": "@jupyter-widgets/controls",
          "model_name": "DescriptionStyleModel",
          "model_module_version": "1.5.0",
          "state": {
            "_model_module": "@jupyter-widgets/controls",
            "_model_module_version": "1.5.0",
            "_model_name": "DescriptionStyleModel",
            "_view_count": null,
            "_view_module": "@jupyter-widgets/base",
            "_view_module_version": "1.2.0",
            "_view_name": "StyleView",
            "description_width": ""
          }
        },
        "a173b267a2ff4c8f8e7e84a5fa59076a": {
          "model_module": "@jupyter-widgets/controls",
          "model_name": "HBoxModel",
          "model_module_version": "1.5.0",
          "state": {
            "_dom_classes": [],
            "_model_module": "@jupyter-widgets/controls",
            "_model_module_version": "1.5.0",
            "_model_name": "HBoxModel",
            "_view_count": null,
            "_view_module": "@jupyter-widgets/controls",
            "_view_module_version": "1.5.0",
            "_view_name": "HBoxView",
            "box_style": "",
            "children": [
              "IPY_MODEL_a1a9c740651c4b07b31f926fedc3dbcd",
              "IPY_MODEL_0771ba3fb5cc406985b8f1ceede77ffb",
              "IPY_MODEL_b369afe251024e64a0d200cbff299022"
            ],
            "layout": "IPY_MODEL_7cd46317068140768c5c8de1fda8a344"
          }
        },
        "a1a9c740651c4b07b31f926fedc3dbcd": {
          "model_module": "@jupyter-widgets/controls",
          "model_name": "HTMLModel",
          "model_module_version": "1.5.0",
          "state": {
            "_dom_classes": [],
            "_model_module": "@jupyter-widgets/controls",
            "_model_module_version": "1.5.0",
            "_model_name": "HTMLModel",
            "_view_count": null,
            "_view_module": "@jupyter-widgets/controls",
            "_view_module_version": "1.5.0",
            "_view_name": "HTMLView",
            "description": "",
            "description_tooltip": null,
            "layout": "IPY_MODEL_f8926961eb97496e9a9cc62774389ff9",
            "placeholder": "​",
            "style": "IPY_MODEL_0b28015d3a5b4f8a88f5d765d9674f6c",
            "value": "Extraction completed...: 100%"
          }
        },
        "0771ba3fb5cc406985b8f1ceede77ffb": {
          "model_module": "@jupyter-widgets/controls",
          "model_name": "FloatProgressModel",
          "model_module_version": "1.5.0",
          "state": {
            "_dom_classes": [],
            "_model_module": "@jupyter-widgets/controls",
            "_model_module_version": "1.5.0",
            "_model_name": "FloatProgressModel",
            "_view_count": null,
            "_view_module": "@jupyter-widgets/controls",
            "_view_module_version": "1.5.0",
            "_view_name": "ProgressView",
            "bar_style": "success",
            "description": "",
            "description_tooltip": null,
            "layout": "IPY_MODEL_17f0ab4198f345c58fe24f704849095f",
            "max": 1,
            "min": 0,
            "orientation": "horizontal",
            "style": "IPY_MODEL_b7b1adf56a66488bb13c926ecc49d3d9",
            "value": 1
          }
        },
        "b369afe251024e64a0d200cbff299022": {
          "model_module": "@jupyter-widgets/controls",
          "model_name": "HTMLModel",
          "model_module_version": "1.5.0",
          "state": {
            "_dom_classes": [],
            "_model_module": "@jupyter-widgets/controls",
            "_model_module_version": "1.5.0",
            "_model_name": "HTMLModel",
            "_view_count": null,
            "_view_module": "@jupyter-widgets/controls",
            "_view_module_version": "1.5.0",
            "_view_name": "HTMLView",
            "description": "",
            "description_tooltip": null,
            "layout": "IPY_MODEL_78dd563f267f4a6f8757eba49905612f",
            "placeholder": "​",
            "style": "IPY_MODEL_203c62f79bfb4cd0bcd34d2d6a90acd6",
            "value": " 8/8 [00:17&lt;00:00, 17.53s/ file]"
          }
        },
        "7cd46317068140768c5c8de1fda8a344": {
          "model_module": "@jupyter-widgets/base",
          "model_name": "LayoutModel",
          "model_module_version": "1.2.0",
          "state": {
            "_model_module": "@jupyter-widgets/base",
            "_model_module_version": "1.2.0",
            "_model_name": "LayoutModel",
            "_view_count": null,
            "_view_module": "@jupyter-widgets/base",
            "_view_module_version": "1.2.0",
            "_view_name": "LayoutView",
            "align_content": null,
            "align_items": null,
            "align_self": null,
            "border": null,
            "bottom": null,
            "display": null,
            "flex": null,
            "flex_flow": null,
            "grid_area": null,
            "grid_auto_columns": null,
            "grid_auto_flow": null,
            "grid_auto_rows": null,
            "grid_column": null,
            "grid_gap": null,
            "grid_row": null,
            "grid_template_areas": null,
            "grid_template_columns": null,
            "grid_template_rows": null,
            "height": null,
            "justify_content": null,
            "justify_items": null,
            "left": null,
            "margin": null,
            "max_height": null,
            "max_width": null,
            "min_height": null,
            "min_width": null,
            "object_fit": null,
            "object_position": null,
            "order": null,
            "overflow": null,
            "overflow_x": null,
            "overflow_y": null,
            "padding": null,
            "right": null,
            "top": null,
            "visibility": null,
            "width": null
          }
        },
        "f8926961eb97496e9a9cc62774389ff9": {
          "model_module": "@jupyter-widgets/base",
          "model_name": "LayoutModel",
          "model_module_version": "1.2.0",
          "state": {
            "_model_module": "@jupyter-widgets/base",
            "_model_module_version": "1.2.0",
            "_model_name": "LayoutModel",
            "_view_count": null,
            "_view_module": "@jupyter-widgets/base",
            "_view_module_version": "1.2.0",
            "_view_name": "LayoutView",
            "align_content": null,
            "align_items": null,
            "align_self": null,
            "border": null,
            "bottom": null,
            "display": null,
            "flex": null,
            "flex_flow": null,
            "grid_area": null,
            "grid_auto_columns": null,
            "grid_auto_flow": null,
            "grid_auto_rows": null,
            "grid_column": null,
            "grid_gap": null,
            "grid_row": null,
            "grid_template_areas": null,
            "grid_template_columns": null,
            "grid_template_rows": null,
            "height": null,
            "justify_content": null,
            "justify_items": null,
            "left": null,
            "margin": null,
            "max_height": null,
            "max_width": null,
            "min_height": null,
            "min_width": null,
            "object_fit": null,
            "object_position": null,
            "order": null,
            "overflow": null,
            "overflow_x": null,
            "overflow_y": null,
            "padding": null,
            "right": null,
            "top": null,
            "visibility": null,
            "width": null
          }
        },
        "0b28015d3a5b4f8a88f5d765d9674f6c": {
          "model_module": "@jupyter-widgets/controls",
          "model_name": "DescriptionStyleModel",
          "model_module_version": "1.5.0",
          "state": {
            "_model_module": "@jupyter-widgets/controls",
            "_model_module_version": "1.5.0",
            "_model_name": "DescriptionStyleModel",
            "_view_count": null,
            "_view_module": "@jupyter-widgets/base",
            "_view_module_version": "1.2.0",
            "_view_name": "StyleView",
            "description_width": ""
          }
        },
        "17f0ab4198f345c58fe24f704849095f": {
          "model_module": "@jupyter-widgets/base",
          "model_name": "LayoutModel",
          "model_module_version": "1.2.0",
          "state": {
            "_model_module": "@jupyter-widgets/base",
            "_model_module_version": "1.2.0",
            "_model_name": "LayoutModel",
            "_view_count": null,
            "_view_module": "@jupyter-widgets/base",
            "_view_module_version": "1.2.0",
            "_view_name": "LayoutView",
            "align_content": null,
            "align_items": null,
            "align_self": null,
            "border": null,
            "bottom": null,
            "display": null,
            "flex": null,
            "flex_flow": null,
            "grid_area": null,
            "grid_auto_columns": null,
            "grid_auto_flow": null,
            "grid_auto_rows": null,
            "grid_column": null,
            "grid_gap": null,
            "grid_row": null,
            "grid_template_areas": null,
            "grid_template_columns": null,
            "grid_template_rows": null,
            "height": null,
            "justify_content": null,
            "justify_items": null,
            "left": null,
            "margin": null,
            "max_height": null,
            "max_width": null,
            "min_height": null,
            "min_width": null,
            "object_fit": null,
            "object_position": null,
            "order": null,
            "overflow": null,
            "overflow_x": null,
            "overflow_y": null,
            "padding": null,
            "right": null,
            "top": null,
            "visibility": null,
            "width": "20px"
          }
        },
        "b7b1adf56a66488bb13c926ecc49d3d9": {
          "model_module": "@jupyter-widgets/controls",
          "model_name": "ProgressStyleModel",
          "model_module_version": "1.5.0",
          "state": {
            "_model_module": "@jupyter-widgets/controls",
            "_model_module_version": "1.5.0",
            "_model_name": "ProgressStyleModel",
            "_view_count": null,
            "_view_module": "@jupyter-widgets/base",
            "_view_module_version": "1.2.0",
            "_view_name": "StyleView",
            "bar_color": null,
            "description_width": ""
          }
        },
        "78dd563f267f4a6f8757eba49905612f": {
          "model_module": "@jupyter-widgets/base",
          "model_name": "LayoutModel",
          "model_module_version": "1.2.0",
          "state": {
            "_model_module": "@jupyter-widgets/base",
            "_model_module_version": "1.2.0",
            "_model_name": "LayoutModel",
            "_view_count": null,
            "_view_module": "@jupyter-widgets/base",
            "_view_module_version": "1.2.0",
            "_view_name": "LayoutView",
            "align_content": null,
            "align_items": null,
            "align_self": null,
            "border": null,
            "bottom": null,
            "display": null,
            "flex": null,
            "flex_flow": null,
            "grid_area": null,
            "grid_auto_columns": null,
            "grid_auto_flow": null,
            "grid_auto_rows": null,
            "grid_column": null,
            "grid_gap": null,
            "grid_row": null,
            "grid_template_areas": null,
            "grid_template_columns": null,
            "grid_template_rows": null,
            "height": null,
            "justify_content": null,
            "justify_items": null,
            "left": null,
            "margin": null,
            "max_height": null,
            "max_width": null,
            "min_height": null,
            "min_width": null,
            "object_fit": null,
            "object_position": null,
            "order": null,
            "overflow": null,
            "overflow_x": null,
            "overflow_y": null,
            "padding": null,
            "right": null,
            "top": null,
            "visibility": null,
            "width": null
          }
        },
        "203c62f79bfb4cd0bcd34d2d6a90acd6": {
          "model_module": "@jupyter-widgets/controls",
          "model_name": "DescriptionStyleModel",
          "model_module_version": "1.5.0",
          "state": {
            "_model_module": "@jupyter-widgets/controls",
            "_model_module_version": "1.5.0",
            "_model_name": "DescriptionStyleModel",
            "_view_count": null,
            "_view_module": "@jupyter-widgets/base",
            "_view_module_version": "1.2.0",
            "_view_name": "StyleView",
            "description_width": ""
          }
        },
        "3fa60df854e340939378e41a974a14db": {
          "model_module": "@jupyter-widgets/controls",
          "model_name": "HBoxModel",
          "model_module_version": "1.5.0",
          "state": {
            "_dom_classes": [],
            "_model_module": "@jupyter-widgets/controls",
            "_model_module_version": "1.5.0",
            "_model_name": "HBoxModel",
            "_view_count": null,
            "_view_module": "@jupyter-widgets/controls",
            "_view_module_version": "1.5.0",
            "_view_name": "HBoxView",
            "box_style": "",
            "children": [
              "IPY_MODEL_d1efe3bd7ed7488ea1e7ce675270a122",
              "IPY_MODEL_abca1a373b604cdea974f0803429209c",
              "IPY_MODEL_3f0dab5e55e3464bbbaf347a97a0457f"
            ],
            "layout": "IPY_MODEL_f3ca03600fc749dda37d2ad6652d6d74"
          }
        },
        "d1efe3bd7ed7488ea1e7ce675270a122": {
          "model_module": "@jupyter-widgets/controls",
          "model_name": "HTMLModel",
          "model_module_version": "1.5.0",
          "state": {
            "_dom_classes": [],
            "_model_module": "@jupyter-widgets/controls",
            "_model_module_version": "1.5.0",
            "_model_name": "HTMLModel",
            "_view_count": null,
            "_view_module": "@jupyter-widgets/controls",
            "_view_module_version": "1.5.0",
            "_view_name": "HTMLView",
            "description": "",
            "description_tooltip": null,
            "layout": "IPY_MODEL_6177e9cf24a346b7bb3ebaa52d7b0f83",
            "placeholder": "​",
            "style": "IPY_MODEL_f771168e90c44498ad0f40a3295693c8",
            "value": "Generating splits...: 100%"
          }
        },
        "abca1a373b604cdea974f0803429209c": {
          "model_module": "@jupyter-widgets/controls",
          "model_name": "FloatProgressModel",
          "model_module_version": "1.5.0",
          "state": {
            "_dom_classes": [],
            "_model_module": "@jupyter-widgets/controls",
            "_model_module_version": "1.5.0",
            "_model_name": "FloatProgressModel",
            "_view_count": null,
            "_view_module": "@jupyter-widgets/controls",
            "_view_module_version": "1.5.0",
            "_view_name": "ProgressView",
            "bar_style": "",
            "description": "",
            "description_tooltip": null,
            "layout": "IPY_MODEL_fb0494d93d4d4c8e9f0184a30c475782",
            "max": 2,
            "min": 0,
            "orientation": "horizontal",
            "style": "IPY_MODEL_f36a22f03bdb411793f43fc0ae87d579",
            "value": 2
          }
        },
        "3f0dab5e55e3464bbbaf347a97a0457f": {
          "model_module": "@jupyter-widgets/controls",
          "model_name": "HTMLModel",
          "model_module_version": "1.5.0",
          "state": {
            "_dom_classes": [],
            "_model_module": "@jupyter-widgets/controls",
            "_model_module_version": "1.5.0",
            "_model_name": "HTMLModel",
            "_view_count": null,
            "_view_module": "@jupyter-widgets/controls",
            "_view_module_version": "1.5.0",
            "_view_name": "HTMLView",
            "description": "",
            "description_tooltip": null,
            "layout": "IPY_MODEL_981233dc6586462087bf781a45d1d2a2",
            "placeholder": "​",
            "style": "IPY_MODEL_708fd2dbe5e7456ea57fed4fab1a3305",
            "value": " 2/2 [01:22&lt;00:00, 35.99s/ splits]"
          }
        },
        "f3ca03600fc749dda37d2ad6652d6d74": {
          "model_module": "@jupyter-widgets/base",
          "model_name": "LayoutModel",
          "model_module_version": "1.2.0",
          "state": {
            "_model_module": "@jupyter-widgets/base",
            "_model_module_version": "1.2.0",
            "_model_name": "LayoutModel",
            "_view_count": null,
            "_view_module": "@jupyter-widgets/base",
            "_view_module_version": "1.2.0",
            "_view_name": "LayoutView",
            "align_content": null,
            "align_items": null,
            "align_self": null,
            "border": null,
            "bottom": null,
            "display": null,
            "flex": null,
            "flex_flow": null,
            "grid_area": null,
            "grid_auto_columns": null,
            "grid_auto_flow": null,
            "grid_auto_rows": null,
            "grid_column": null,
            "grid_gap": null,
            "grid_row": null,
            "grid_template_areas": null,
            "grid_template_columns": null,
            "grid_template_rows": null,
            "height": null,
            "justify_content": null,
            "justify_items": null,
            "left": null,
            "margin": null,
            "max_height": null,
            "max_width": null,
            "min_height": null,
            "min_width": null,
            "object_fit": null,
            "object_position": null,
            "order": null,
            "overflow": null,
            "overflow_x": null,
            "overflow_y": null,
            "padding": null,
            "right": null,
            "top": null,
            "visibility": "hidden",
            "width": null
          }
        },
        "6177e9cf24a346b7bb3ebaa52d7b0f83": {
          "model_module": "@jupyter-widgets/base",
          "model_name": "LayoutModel",
          "model_module_version": "1.2.0",
          "state": {
            "_model_module": "@jupyter-widgets/base",
            "_model_module_version": "1.2.0",
            "_model_name": "LayoutModel",
            "_view_count": null,
            "_view_module": "@jupyter-widgets/base",
            "_view_module_version": "1.2.0",
            "_view_name": "LayoutView",
            "align_content": null,
            "align_items": null,
            "align_self": null,
            "border": null,
            "bottom": null,
            "display": null,
            "flex": null,
            "flex_flow": null,
            "grid_area": null,
            "grid_auto_columns": null,
            "grid_auto_flow": null,
            "grid_auto_rows": null,
            "grid_column": null,
            "grid_gap": null,
            "grid_row": null,
            "grid_template_areas": null,
            "grid_template_columns": null,
            "grid_template_rows": null,
            "height": null,
            "justify_content": null,
            "justify_items": null,
            "left": null,
            "margin": null,
            "max_height": null,
            "max_width": null,
            "min_height": null,
            "min_width": null,
            "object_fit": null,
            "object_position": null,
            "order": null,
            "overflow": null,
            "overflow_x": null,
            "overflow_y": null,
            "padding": null,
            "right": null,
            "top": null,
            "visibility": null,
            "width": null
          }
        },
        "f771168e90c44498ad0f40a3295693c8": {
          "model_module": "@jupyter-widgets/controls",
          "model_name": "DescriptionStyleModel",
          "model_module_version": "1.5.0",
          "state": {
            "_model_module": "@jupyter-widgets/controls",
            "_model_module_version": "1.5.0",
            "_model_name": "DescriptionStyleModel",
            "_view_count": null,
            "_view_module": "@jupyter-widgets/base",
            "_view_module_version": "1.2.0",
            "_view_name": "StyleView",
            "description_width": ""
          }
        },
        "fb0494d93d4d4c8e9f0184a30c475782": {
          "model_module": "@jupyter-widgets/base",
          "model_name": "LayoutModel",
          "model_module_version": "1.2.0",
          "state": {
            "_model_module": "@jupyter-widgets/base",
            "_model_module_version": "1.2.0",
            "_model_name": "LayoutModel",
            "_view_count": null,
            "_view_module": "@jupyter-widgets/base",
            "_view_module_version": "1.2.0",
            "_view_name": "LayoutView",
            "align_content": null,
            "align_items": null,
            "align_self": null,
            "border": null,
            "bottom": null,
            "display": null,
            "flex": null,
            "flex_flow": null,
            "grid_area": null,
            "grid_auto_columns": null,
            "grid_auto_flow": null,
            "grid_auto_rows": null,
            "grid_column": null,
            "grid_gap": null,
            "grid_row": null,
            "grid_template_areas": null,
            "grid_template_columns": null,
            "grid_template_rows": null,
            "height": null,
            "justify_content": null,
            "justify_items": null,
            "left": null,
            "margin": null,
            "max_height": null,
            "max_width": null,
            "min_height": null,
            "min_width": null,
            "object_fit": null,
            "object_position": null,
            "order": null,
            "overflow": null,
            "overflow_x": null,
            "overflow_y": null,
            "padding": null,
            "right": null,
            "top": null,
            "visibility": null,
            "width": null
          }
        },
        "f36a22f03bdb411793f43fc0ae87d579": {
          "model_module": "@jupyter-widgets/controls",
          "model_name": "ProgressStyleModel",
          "model_module_version": "1.5.0",
          "state": {
            "_model_module": "@jupyter-widgets/controls",
            "_model_module_version": "1.5.0",
            "_model_name": "ProgressStyleModel",
            "_view_count": null,
            "_view_module": "@jupyter-widgets/base",
            "_view_module_version": "1.2.0",
            "_view_name": "StyleView",
            "bar_color": null,
            "description_width": ""
          }
        },
        "981233dc6586462087bf781a45d1d2a2": {
          "model_module": "@jupyter-widgets/base",
          "model_name": "LayoutModel",
          "model_module_version": "1.2.0",
          "state": {
            "_model_module": "@jupyter-widgets/base",
            "_model_module_version": "1.2.0",
            "_model_name": "LayoutModel",
            "_view_count": null,
            "_view_module": "@jupyter-widgets/base",
            "_view_module_version": "1.2.0",
            "_view_name": "LayoutView",
            "align_content": null,
            "align_items": null,
            "align_self": null,
            "border": null,
            "bottom": null,
            "display": null,
            "flex": null,
            "flex_flow": null,
            "grid_area": null,
            "grid_auto_columns": null,
            "grid_auto_flow": null,
            "grid_auto_rows": null,
            "grid_column": null,
            "grid_gap": null,
            "grid_row": null,
            "grid_template_areas": null,
            "grid_template_columns": null,
            "grid_template_rows": null,
            "height": null,
            "justify_content": null,
            "justify_items": null,
            "left": null,
            "margin": null,
            "max_height": null,
            "max_width": null,
            "min_height": null,
            "min_width": null,
            "object_fit": null,
            "object_position": null,
            "order": null,
            "overflow": null,
            "overflow_x": null,
            "overflow_y": null,
            "padding": null,
            "right": null,
            "top": null,
            "visibility": null,
            "width": null
          }
        },
        "708fd2dbe5e7456ea57fed4fab1a3305": {
          "model_module": "@jupyter-widgets/controls",
          "model_name": "DescriptionStyleModel",
          "model_module_version": "1.5.0",
          "state": {
            "_model_module": "@jupyter-widgets/controls",
            "_model_module_version": "1.5.0",
            "_model_name": "DescriptionStyleModel",
            "_view_count": null,
            "_view_module": "@jupyter-widgets/base",
            "_view_module_version": "1.2.0",
            "_view_name": "StyleView",
            "description_width": ""
          }
        },
        "c37ad6f7cb214a11a62fc7b26b70957b": {
          "model_module": "@jupyter-widgets/controls",
          "model_name": "HBoxModel",
          "model_module_version": "1.5.0",
          "state": {
            "_dom_classes": [],
            "_model_module": "@jupyter-widgets/controls",
            "_model_module_version": "1.5.0",
            "_model_name": "HBoxModel",
            "_view_count": null,
            "_view_module": "@jupyter-widgets/controls",
            "_view_module_version": "1.5.0",
            "_view_name": "HBoxView",
            "box_style": "",
            "children": [
              "IPY_MODEL_0ba9f3dedcff41c987477dbf609ae29b",
              "IPY_MODEL_cfa609688c09411bb7fb76ee24258831",
              "IPY_MODEL_e939e63997dd4a51b324b78c8ae575e4"
            ],
            "layout": "IPY_MODEL_5b30e41426d847b4a0a57c2142972c40"
          }
        },
        "0ba9f3dedcff41c987477dbf609ae29b": {
          "model_module": "@jupyter-widgets/controls",
          "model_name": "HTMLModel",
          "model_module_version": "1.5.0",
          "state": {
            "_dom_classes": [],
            "_model_module": "@jupyter-widgets/controls",
            "_model_module_version": "1.5.0",
            "_model_name": "HTMLModel",
            "_view_count": null,
            "_view_module": "@jupyter-widgets/controls",
            "_view_module_version": "1.5.0",
            "_view_name": "HTMLView",
            "description": "",
            "description_tooltip": null,
            "layout": "IPY_MODEL_85949dae406a40cc9162210127775633",
            "placeholder": "​",
            "style": "IPY_MODEL_021bfa26fc454f0489fe2300291eaba8",
            "value": "Generating train examples...:  99%"
          }
        },
        "cfa609688c09411bb7fb76ee24258831": {
          "model_module": "@jupyter-widgets/controls",
          "model_name": "FloatProgressModel",
          "model_module_version": "1.5.0",
          "state": {
            "_dom_classes": [],
            "_model_module": "@jupyter-widgets/controls",
            "_model_module_version": "1.5.0",
            "_model_name": "FloatProgressModel",
            "_view_count": null,
            "_view_module": "@jupyter-widgets/controls",
            "_view_module_version": "1.5.0",
            "_view_name": "ProgressView",
            "bar_style": "",
            "description": "",
            "description_tooltip": null,
            "layout": "IPY_MODEL_4db31efc8c7947e3a83b9f94e5e5ae4d",
            "max": 50000,
            "min": 0,
            "orientation": "horizontal",
            "style": "IPY_MODEL_7a64712ef5544e42b452ae2cb44cb2d6",
            "value": 50000
          }
        },
        "e939e63997dd4a51b324b78c8ae575e4": {
          "model_module": "@jupyter-widgets/controls",
          "model_name": "HTMLModel",
          "model_module_version": "1.5.0",
          "state": {
            "_dom_classes": [],
            "_model_module": "@jupyter-widgets/controls",
            "_model_module_version": "1.5.0",
            "_model_name": "HTMLModel",
            "_view_count": null,
            "_view_module": "@jupyter-widgets/controls",
            "_view_module_version": "1.5.0",
            "_view_name": "HTMLView",
            "description": "",
            "description_tooltip": null,
            "layout": "IPY_MODEL_3b11217dbe4743b698a957fba3745b66",
            "placeholder": "​",
            "style": "IPY_MODEL_54fb37ecbd6d49db874f8cf5c15b58cb",
            "value": " 49531/50000 [01:07&lt;00:00, 614.31 examples/s]"
          }
        },
        "5b30e41426d847b4a0a57c2142972c40": {
          "model_module": "@jupyter-widgets/base",
          "model_name": "LayoutModel",
          "model_module_version": "1.2.0",
          "state": {
            "_model_module": "@jupyter-widgets/base",
            "_model_module_version": "1.2.0",
            "_model_name": "LayoutModel",
            "_view_count": null,
            "_view_module": "@jupyter-widgets/base",
            "_view_module_version": "1.2.0",
            "_view_name": "LayoutView",
            "align_content": null,
            "align_items": null,
            "align_self": null,
            "border": null,
            "bottom": null,
            "display": null,
            "flex": null,
            "flex_flow": null,
            "grid_area": null,
            "grid_auto_columns": null,
            "grid_auto_flow": null,
            "grid_auto_rows": null,
            "grid_column": null,
            "grid_gap": null,
            "grid_row": null,
            "grid_template_areas": null,
            "grid_template_columns": null,
            "grid_template_rows": null,
            "height": null,
            "justify_content": null,
            "justify_items": null,
            "left": null,
            "margin": null,
            "max_height": null,
            "max_width": null,
            "min_height": null,
            "min_width": null,
            "object_fit": null,
            "object_position": null,
            "order": null,
            "overflow": null,
            "overflow_x": null,
            "overflow_y": null,
            "padding": null,
            "right": null,
            "top": null,
            "visibility": "hidden",
            "width": null
          }
        },
        "85949dae406a40cc9162210127775633": {
          "model_module": "@jupyter-widgets/base",
          "model_name": "LayoutModel",
          "model_module_version": "1.2.0",
          "state": {
            "_model_module": "@jupyter-widgets/base",
            "_model_module_version": "1.2.0",
            "_model_name": "LayoutModel",
            "_view_count": null,
            "_view_module": "@jupyter-widgets/base",
            "_view_module_version": "1.2.0",
            "_view_name": "LayoutView",
            "align_content": null,
            "align_items": null,
            "align_self": null,
            "border": null,
            "bottom": null,
            "display": null,
            "flex": null,
            "flex_flow": null,
            "grid_area": null,
            "grid_auto_columns": null,
            "grid_auto_flow": null,
            "grid_auto_rows": null,
            "grid_column": null,
            "grid_gap": null,
            "grid_row": null,
            "grid_template_areas": null,
            "grid_template_columns": null,
            "grid_template_rows": null,
            "height": null,
            "justify_content": null,
            "justify_items": null,
            "left": null,
            "margin": null,
            "max_height": null,
            "max_width": null,
            "min_height": null,
            "min_width": null,
            "object_fit": null,
            "object_position": null,
            "order": null,
            "overflow": null,
            "overflow_x": null,
            "overflow_y": null,
            "padding": null,
            "right": null,
            "top": null,
            "visibility": null,
            "width": null
          }
        },
        "021bfa26fc454f0489fe2300291eaba8": {
          "model_module": "@jupyter-widgets/controls",
          "model_name": "DescriptionStyleModel",
          "model_module_version": "1.5.0",
          "state": {
            "_model_module": "@jupyter-widgets/controls",
            "_model_module_version": "1.5.0",
            "_model_name": "DescriptionStyleModel",
            "_view_count": null,
            "_view_module": "@jupyter-widgets/base",
            "_view_module_version": "1.2.0",
            "_view_name": "StyleView",
            "description_width": ""
          }
        },
        "4db31efc8c7947e3a83b9f94e5e5ae4d": {
          "model_module": "@jupyter-widgets/base",
          "model_name": "LayoutModel",
          "model_module_version": "1.2.0",
          "state": {
            "_model_module": "@jupyter-widgets/base",
            "_model_module_version": "1.2.0",
            "_model_name": "LayoutModel",
            "_view_count": null,
            "_view_module": "@jupyter-widgets/base",
            "_view_module_version": "1.2.0",
            "_view_name": "LayoutView",
            "align_content": null,
            "align_items": null,
            "align_self": null,
            "border": null,
            "bottom": null,
            "display": null,
            "flex": null,
            "flex_flow": null,
            "grid_area": null,
            "grid_auto_columns": null,
            "grid_auto_flow": null,
            "grid_auto_rows": null,
            "grid_column": null,
            "grid_gap": null,
            "grid_row": null,
            "grid_template_areas": null,
            "grid_template_columns": null,
            "grid_template_rows": null,
            "height": null,
            "justify_content": null,
            "justify_items": null,
            "left": null,
            "margin": null,
            "max_height": null,
            "max_width": null,
            "min_height": null,
            "min_width": null,
            "object_fit": null,
            "object_position": null,
            "order": null,
            "overflow": null,
            "overflow_x": null,
            "overflow_y": null,
            "padding": null,
            "right": null,
            "top": null,
            "visibility": null,
            "width": null
          }
        },
        "7a64712ef5544e42b452ae2cb44cb2d6": {
          "model_module": "@jupyter-widgets/controls",
          "model_name": "ProgressStyleModel",
          "model_module_version": "1.5.0",
          "state": {
            "_model_module": "@jupyter-widgets/controls",
            "_model_module_version": "1.5.0",
            "_model_name": "ProgressStyleModel",
            "_view_count": null,
            "_view_module": "@jupyter-widgets/base",
            "_view_module_version": "1.2.0",
            "_view_name": "StyleView",
            "bar_color": null,
            "description_width": ""
          }
        },
        "3b11217dbe4743b698a957fba3745b66": {
          "model_module": "@jupyter-widgets/base",
          "model_name": "LayoutModel",
          "model_module_version": "1.2.0",
          "state": {
            "_model_module": "@jupyter-widgets/base",
            "_model_module_version": "1.2.0",
            "_model_name": "LayoutModel",
            "_view_count": null,
            "_view_module": "@jupyter-widgets/base",
            "_view_module_version": "1.2.0",
            "_view_name": "LayoutView",
            "align_content": null,
            "align_items": null,
            "align_self": null,
            "border": null,
            "bottom": null,
            "display": null,
            "flex": null,
            "flex_flow": null,
            "grid_area": null,
            "grid_auto_columns": null,
            "grid_auto_flow": null,
            "grid_auto_rows": null,
            "grid_column": null,
            "grid_gap": null,
            "grid_row": null,
            "grid_template_areas": null,
            "grid_template_columns": null,
            "grid_template_rows": null,
            "height": null,
            "justify_content": null,
            "justify_items": null,
            "left": null,
            "margin": null,
            "max_height": null,
            "max_width": null,
            "min_height": null,
            "min_width": null,
            "object_fit": null,
            "object_position": null,
            "order": null,
            "overflow": null,
            "overflow_x": null,
            "overflow_y": null,
            "padding": null,
            "right": null,
            "top": null,
            "visibility": null,
            "width": null
          }
        },
        "54fb37ecbd6d49db874f8cf5c15b58cb": {
          "model_module": "@jupyter-widgets/controls",
          "model_name": "DescriptionStyleModel",
          "model_module_version": "1.5.0",
          "state": {
            "_model_module": "@jupyter-widgets/controls",
            "_model_module_version": "1.5.0",
            "_model_name": "DescriptionStyleModel",
            "_view_count": null,
            "_view_module": "@jupyter-widgets/base",
            "_view_module_version": "1.2.0",
            "_view_name": "StyleView",
            "description_width": ""
          }
        },
        "33a06ea8e35d44d08c9f5dcf1ab9637a": {
          "model_module": "@jupyter-widgets/controls",
          "model_name": "HBoxModel",
          "model_module_version": "1.5.0",
          "state": {
            "_dom_classes": [],
            "_model_module": "@jupyter-widgets/controls",
            "_model_module_version": "1.5.0",
            "_model_name": "HBoxModel",
            "_view_count": null,
            "_view_module": "@jupyter-widgets/controls",
            "_view_module_version": "1.5.0",
            "_view_name": "HBoxView",
            "box_style": "",
            "children": [
              "IPY_MODEL_4a091a50694647c08b476fd170a8b12a",
              "IPY_MODEL_7d9d4b2163da4f74976086d91d0de59d",
              "IPY_MODEL_b68f99cf09414a1ea78df9e6839a4df2"
            ],
            "layout": "IPY_MODEL_c6da37bdf212423688f4bc40a635fcb5"
          }
        },
        "4a091a50694647c08b476fd170a8b12a": {
          "model_module": "@jupyter-widgets/controls",
          "model_name": "HTMLModel",
          "model_module_version": "1.5.0",
          "state": {
            "_dom_classes": [],
            "_model_module": "@jupyter-widgets/controls",
            "_model_module_version": "1.5.0",
            "_model_name": "HTMLModel",
            "_view_count": null,
            "_view_module": "@jupyter-widgets/controls",
            "_view_module_version": "1.5.0",
            "_view_name": "HTMLView",
            "description": "",
            "description_tooltip": null,
            "layout": "IPY_MODEL_713e5770df9f4b8d85e4ee77cd5cdc6a",
            "placeholder": "​",
            "style": "IPY_MODEL_434ca332162a43369b5eb8cbef2de3b7",
            "value": "Shuffling /root/tensorflow_datasets/cifar10/3.0.2.incomplete3KNE6B/cifar10-train.tfrecord*...:  86%"
          }
        },
        "7d9d4b2163da4f74976086d91d0de59d": {
          "model_module": "@jupyter-widgets/controls",
          "model_name": "FloatProgressModel",
          "model_module_version": "1.5.0",
          "state": {
            "_dom_classes": [],
            "_model_module": "@jupyter-widgets/controls",
            "_model_module_version": "1.5.0",
            "_model_name": "FloatProgressModel",
            "_view_count": null,
            "_view_module": "@jupyter-widgets/controls",
            "_view_module_version": "1.5.0",
            "_view_name": "ProgressView",
            "bar_style": "",
            "description": "",
            "description_tooltip": null,
            "layout": "IPY_MODEL_858ff0f2261f47f5bbff8577a5ffd77e",
            "max": 50000,
            "min": 0,
            "orientation": "horizontal",
            "style": "IPY_MODEL_45af7eec46aa4e9a9d1972c55a6a3390",
            "value": 50000
          }
        },
        "b68f99cf09414a1ea78df9e6839a4df2": {
          "model_module": "@jupyter-widgets/controls",
          "model_name": "HTMLModel",
          "model_module_version": "1.5.0",
          "state": {
            "_dom_classes": [],
            "_model_module": "@jupyter-widgets/controls",
            "_model_module_version": "1.5.0",
            "_model_name": "HTMLModel",
            "_view_count": null,
            "_view_module": "@jupyter-widgets/controls",
            "_view_module_version": "1.5.0",
            "_view_name": "HTMLView",
            "description": "",
            "description_tooltip": null,
            "layout": "IPY_MODEL_3a02dea496a040729ee4f425b4139e48",
            "placeholder": "​",
            "style": "IPY_MODEL_0ea183cd52a547d5b816815de220bfd8",
            "value": " 43118/50000 [00:00&lt;00:00, 75083.70 examples/s]"
          }
        },
        "c6da37bdf212423688f4bc40a635fcb5": {
          "model_module": "@jupyter-widgets/base",
          "model_name": "LayoutModel",
          "model_module_version": "1.2.0",
          "state": {
            "_model_module": "@jupyter-widgets/base",
            "_model_module_version": "1.2.0",
            "_model_name": "LayoutModel",
            "_view_count": null,
            "_view_module": "@jupyter-widgets/base",
            "_view_module_version": "1.2.0",
            "_view_name": "LayoutView",
            "align_content": null,
            "align_items": null,
            "align_self": null,
            "border": null,
            "bottom": null,
            "display": null,
            "flex": null,
            "flex_flow": null,
            "grid_area": null,
            "grid_auto_columns": null,
            "grid_auto_flow": null,
            "grid_auto_rows": null,
            "grid_column": null,
            "grid_gap": null,
            "grid_row": null,
            "grid_template_areas": null,
            "grid_template_columns": null,
            "grid_template_rows": null,
            "height": null,
            "justify_content": null,
            "justify_items": null,
            "left": null,
            "margin": null,
            "max_height": null,
            "max_width": null,
            "min_height": null,
            "min_width": null,
            "object_fit": null,
            "object_position": null,
            "order": null,
            "overflow": null,
            "overflow_x": null,
            "overflow_y": null,
            "padding": null,
            "right": null,
            "top": null,
            "visibility": "hidden",
            "width": null
          }
        },
        "713e5770df9f4b8d85e4ee77cd5cdc6a": {
          "model_module": "@jupyter-widgets/base",
          "model_name": "LayoutModel",
          "model_module_version": "1.2.0",
          "state": {
            "_model_module": "@jupyter-widgets/base",
            "_model_module_version": "1.2.0",
            "_model_name": "LayoutModel",
            "_view_count": null,
            "_view_module": "@jupyter-widgets/base",
            "_view_module_version": "1.2.0",
            "_view_name": "LayoutView",
            "align_content": null,
            "align_items": null,
            "align_self": null,
            "border": null,
            "bottom": null,
            "display": null,
            "flex": null,
            "flex_flow": null,
            "grid_area": null,
            "grid_auto_columns": null,
            "grid_auto_flow": null,
            "grid_auto_rows": null,
            "grid_column": null,
            "grid_gap": null,
            "grid_row": null,
            "grid_template_areas": null,
            "grid_template_columns": null,
            "grid_template_rows": null,
            "height": null,
            "justify_content": null,
            "justify_items": null,
            "left": null,
            "margin": null,
            "max_height": null,
            "max_width": null,
            "min_height": null,
            "min_width": null,
            "object_fit": null,
            "object_position": null,
            "order": null,
            "overflow": null,
            "overflow_x": null,
            "overflow_y": null,
            "padding": null,
            "right": null,
            "top": null,
            "visibility": null,
            "width": null
          }
        },
        "434ca332162a43369b5eb8cbef2de3b7": {
          "model_module": "@jupyter-widgets/controls",
          "model_name": "DescriptionStyleModel",
          "model_module_version": "1.5.0",
          "state": {
            "_model_module": "@jupyter-widgets/controls",
            "_model_module_version": "1.5.0",
            "_model_name": "DescriptionStyleModel",
            "_view_count": null,
            "_view_module": "@jupyter-widgets/base",
            "_view_module_version": "1.2.0",
            "_view_name": "StyleView",
            "description_width": ""
          }
        },
        "858ff0f2261f47f5bbff8577a5ffd77e": {
          "model_module": "@jupyter-widgets/base",
          "model_name": "LayoutModel",
          "model_module_version": "1.2.0",
          "state": {
            "_model_module": "@jupyter-widgets/base",
            "_model_module_version": "1.2.0",
            "_model_name": "LayoutModel",
            "_view_count": null,
            "_view_module": "@jupyter-widgets/base",
            "_view_module_version": "1.2.0",
            "_view_name": "LayoutView",
            "align_content": null,
            "align_items": null,
            "align_self": null,
            "border": null,
            "bottom": null,
            "display": null,
            "flex": null,
            "flex_flow": null,
            "grid_area": null,
            "grid_auto_columns": null,
            "grid_auto_flow": null,
            "grid_auto_rows": null,
            "grid_column": null,
            "grid_gap": null,
            "grid_row": null,
            "grid_template_areas": null,
            "grid_template_columns": null,
            "grid_template_rows": null,
            "height": null,
            "justify_content": null,
            "justify_items": null,
            "left": null,
            "margin": null,
            "max_height": null,
            "max_width": null,
            "min_height": null,
            "min_width": null,
            "object_fit": null,
            "object_position": null,
            "order": null,
            "overflow": null,
            "overflow_x": null,
            "overflow_y": null,
            "padding": null,
            "right": null,
            "top": null,
            "visibility": null,
            "width": null
          }
        },
        "45af7eec46aa4e9a9d1972c55a6a3390": {
          "model_module": "@jupyter-widgets/controls",
          "model_name": "ProgressStyleModel",
          "model_module_version": "1.5.0",
          "state": {
            "_model_module": "@jupyter-widgets/controls",
            "_model_module_version": "1.5.0",
            "_model_name": "ProgressStyleModel",
            "_view_count": null,
            "_view_module": "@jupyter-widgets/base",
            "_view_module_version": "1.2.0",
            "_view_name": "StyleView",
            "bar_color": null,
            "description_width": ""
          }
        },
        "3a02dea496a040729ee4f425b4139e48": {
          "model_module": "@jupyter-widgets/base",
          "model_name": "LayoutModel",
          "model_module_version": "1.2.0",
          "state": {
            "_model_module": "@jupyter-widgets/base",
            "_model_module_version": "1.2.0",
            "_model_name": "LayoutModel",
            "_view_count": null,
            "_view_module": "@jupyter-widgets/base",
            "_view_module_version": "1.2.0",
            "_view_name": "LayoutView",
            "align_content": null,
            "align_items": null,
            "align_self": null,
            "border": null,
            "bottom": null,
            "display": null,
            "flex": null,
            "flex_flow": null,
            "grid_area": null,
            "grid_auto_columns": null,
            "grid_auto_flow": null,
            "grid_auto_rows": null,
            "grid_column": null,
            "grid_gap": null,
            "grid_row": null,
            "grid_template_areas": null,
            "grid_template_columns": null,
            "grid_template_rows": null,
            "height": null,
            "justify_content": null,
            "justify_items": null,
            "left": null,
            "margin": null,
            "max_height": null,
            "max_width": null,
            "min_height": null,
            "min_width": null,
            "object_fit": null,
            "object_position": null,
            "order": null,
            "overflow": null,
            "overflow_x": null,
            "overflow_y": null,
            "padding": null,
            "right": null,
            "top": null,
            "visibility": null,
            "width": null
          }
        },
        "0ea183cd52a547d5b816815de220bfd8": {
          "model_module": "@jupyter-widgets/controls",
          "model_name": "DescriptionStyleModel",
          "model_module_version": "1.5.0",
          "state": {
            "_model_module": "@jupyter-widgets/controls",
            "_model_module_version": "1.5.0",
            "_model_name": "DescriptionStyleModel",
            "_view_count": null,
            "_view_module": "@jupyter-widgets/base",
            "_view_module_version": "1.2.0",
            "_view_name": "StyleView",
            "description_width": ""
          }
        },
        "429497052f144778b9d9a335bcf772a9": {
          "model_module": "@jupyter-widgets/controls",
          "model_name": "HBoxModel",
          "model_module_version": "1.5.0",
          "state": {
            "_dom_classes": [],
            "_model_module": "@jupyter-widgets/controls",
            "_model_module_version": "1.5.0",
            "_model_name": "HBoxModel",
            "_view_count": null,
            "_view_module": "@jupyter-widgets/controls",
            "_view_module_version": "1.5.0",
            "_view_name": "HBoxView",
            "box_style": "",
            "children": [
              "IPY_MODEL_3c1d90b6b00e48979713ff1f6e9f82cc",
              "IPY_MODEL_cb2307c79a0d48deaa839557c6d01bfa",
              "IPY_MODEL_830079a16b1f4d82b5b432d7d25251a9"
            ],
            "layout": "IPY_MODEL_c93f53bcfbd74bc0aa59a4b467105659"
          }
        },
        "3c1d90b6b00e48979713ff1f6e9f82cc": {
          "model_module": "@jupyter-widgets/controls",
          "model_name": "HTMLModel",
          "model_module_version": "1.5.0",
          "state": {
            "_dom_classes": [],
            "_model_module": "@jupyter-widgets/controls",
            "_model_module_version": "1.5.0",
            "_model_name": "HTMLModel",
            "_view_count": null,
            "_view_module": "@jupyter-widgets/controls",
            "_view_module_version": "1.5.0",
            "_view_name": "HTMLView",
            "description": "",
            "description_tooltip": null,
            "layout": "IPY_MODEL_04348cf1acb1416db1e3f5b8da2b8d86",
            "placeholder": "​",
            "style": "IPY_MODEL_6e811c45716b4170983a4cf55b3b361a",
            "value": "Generating test examples...:  96%"
          }
        },
        "cb2307c79a0d48deaa839557c6d01bfa": {
          "model_module": "@jupyter-widgets/controls",
          "model_name": "FloatProgressModel",
          "model_module_version": "1.5.0",
          "state": {
            "_dom_classes": [],
            "_model_module": "@jupyter-widgets/controls",
            "_model_module_version": "1.5.0",
            "_model_name": "FloatProgressModel",
            "_view_count": null,
            "_view_module": "@jupyter-widgets/controls",
            "_view_module_version": "1.5.0",
            "_view_name": "ProgressView",
            "bar_style": "",
            "description": "",
            "description_tooltip": null,
            "layout": "IPY_MODEL_65cab015344e4423a939bc85292010e5",
            "max": 10000,
            "min": 0,
            "orientation": "horizontal",
            "style": "IPY_MODEL_daec5ea4f93943198188382684f5c4aa",
            "value": 10000
          }
        },
        "830079a16b1f4d82b5b432d7d25251a9": {
          "model_module": "@jupyter-widgets/controls",
          "model_name": "HTMLModel",
          "model_module_version": "1.5.0",
          "state": {
            "_dom_classes": [],
            "_model_module": "@jupyter-widgets/controls",
            "_model_module_version": "1.5.0",
            "_model_name": "HTMLModel",
            "_view_count": null,
            "_view_module": "@jupyter-widgets/controls",
            "_view_module_version": "1.5.0",
            "_view_name": "HTMLView",
            "description": "",
            "description_tooltip": null,
            "layout": "IPY_MODEL_ae7434840ac74b19b3968ff644aa31f2",
            "placeholder": "​",
            "style": "IPY_MODEL_35967d3142c44b0e80cfe12dfd85125a",
            "value": " 9648/10000 [00:11&lt;00:00, 899.98 examples/s]"
          }
        },
        "c93f53bcfbd74bc0aa59a4b467105659": {
          "model_module": "@jupyter-widgets/base",
          "model_name": "LayoutModel",
          "model_module_version": "1.2.0",
          "state": {
            "_model_module": "@jupyter-widgets/base",
            "_model_module_version": "1.2.0",
            "_model_name": "LayoutModel",
            "_view_count": null,
            "_view_module": "@jupyter-widgets/base",
            "_view_module_version": "1.2.0",
            "_view_name": "LayoutView",
            "align_content": null,
            "align_items": null,
            "align_self": null,
            "border": null,
            "bottom": null,
            "display": null,
            "flex": null,
            "flex_flow": null,
            "grid_area": null,
            "grid_auto_columns": null,
            "grid_auto_flow": null,
            "grid_auto_rows": null,
            "grid_column": null,
            "grid_gap": null,
            "grid_row": null,
            "grid_template_areas": null,
            "grid_template_columns": null,
            "grid_template_rows": null,
            "height": null,
            "justify_content": null,
            "justify_items": null,
            "left": null,
            "margin": null,
            "max_height": null,
            "max_width": null,
            "min_height": null,
            "min_width": null,
            "object_fit": null,
            "object_position": null,
            "order": null,
            "overflow": null,
            "overflow_x": null,
            "overflow_y": null,
            "padding": null,
            "right": null,
            "top": null,
            "visibility": "hidden",
            "width": null
          }
        },
        "04348cf1acb1416db1e3f5b8da2b8d86": {
          "model_module": "@jupyter-widgets/base",
          "model_name": "LayoutModel",
          "model_module_version": "1.2.0",
          "state": {
            "_model_module": "@jupyter-widgets/base",
            "_model_module_version": "1.2.0",
            "_model_name": "LayoutModel",
            "_view_count": null,
            "_view_module": "@jupyter-widgets/base",
            "_view_module_version": "1.2.0",
            "_view_name": "LayoutView",
            "align_content": null,
            "align_items": null,
            "align_self": null,
            "border": null,
            "bottom": null,
            "display": null,
            "flex": null,
            "flex_flow": null,
            "grid_area": null,
            "grid_auto_columns": null,
            "grid_auto_flow": null,
            "grid_auto_rows": null,
            "grid_column": null,
            "grid_gap": null,
            "grid_row": null,
            "grid_template_areas": null,
            "grid_template_columns": null,
            "grid_template_rows": null,
            "height": null,
            "justify_content": null,
            "justify_items": null,
            "left": null,
            "margin": null,
            "max_height": null,
            "max_width": null,
            "min_height": null,
            "min_width": null,
            "object_fit": null,
            "object_position": null,
            "order": null,
            "overflow": null,
            "overflow_x": null,
            "overflow_y": null,
            "padding": null,
            "right": null,
            "top": null,
            "visibility": null,
            "width": null
          }
        },
        "6e811c45716b4170983a4cf55b3b361a": {
          "model_module": "@jupyter-widgets/controls",
          "model_name": "DescriptionStyleModel",
          "model_module_version": "1.5.0",
          "state": {
            "_model_module": "@jupyter-widgets/controls",
            "_model_module_version": "1.5.0",
            "_model_name": "DescriptionStyleModel",
            "_view_count": null,
            "_view_module": "@jupyter-widgets/base",
            "_view_module_version": "1.2.0",
            "_view_name": "StyleView",
            "description_width": ""
          }
        },
        "65cab015344e4423a939bc85292010e5": {
          "model_module": "@jupyter-widgets/base",
          "model_name": "LayoutModel",
          "model_module_version": "1.2.0",
          "state": {
            "_model_module": "@jupyter-widgets/base",
            "_model_module_version": "1.2.0",
            "_model_name": "LayoutModel",
            "_view_count": null,
            "_view_module": "@jupyter-widgets/base",
            "_view_module_version": "1.2.0",
            "_view_name": "LayoutView",
            "align_content": null,
            "align_items": null,
            "align_self": null,
            "border": null,
            "bottom": null,
            "display": null,
            "flex": null,
            "flex_flow": null,
            "grid_area": null,
            "grid_auto_columns": null,
            "grid_auto_flow": null,
            "grid_auto_rows": null,
            "grid_column": null,
            "grid_gap": null,
            "grid_row": null,
            "grid_template_areas": null,
            "grid_template_columns": null,
            "grid_template_rows": null,
            "height": null,
            "justify_content": null,
            "justify_items": null,
            "left": null,
            "margin": null,
            "max_height": null,
            "max_width": null,
            "min_height": null,
            "min_width": null,
            "object_fit": null,
            "object_position": null,
            "order": null,
            "overflow": null,
            "overflow_x": null,
            "overflow_y": null,
            "padding": null,
            "right": null,
            "top": null,
            "visibility": null,
            "width": null
          }
        },
        "daec5ea4f93943198188382684f5c4aa": {
          "model_module": "@jupyter-widgets/controls",
          "model_name": "ProgressStyleModel",
          "model_module_version": "1.5.0",
          "state": {
            "_model_module": "@jupyter-widgets/controls",
            "_model_module_version": "1.5.0",
            "_model_name": "ProgressStyleModel",
            "_view_count": null,
            "_view_module": "@jupyter-widgets/base",
            "_view_module_version": "1.2.0",
            "_view_name": "StyleView",
            "bar_color": null,
            "description_width": ""
          }
        },
        "ae7434840ac74b19b3968ff644aa31f2": {
          "model_module": "@jupyter-widgets/base",
          "model_name": "LayoutModel",
          "model_module_version": "1.2.0",
          "state": {
            "_model_module": "@jupyter-widgets/base",
            "_model_module_version": "1.2.0",
            "_model_name": "LayoutModel",
            "_view_count": null,
            "_view_module": "@jupyter-widgets/base",
            "_view_module_version": "1.2.0",
            "_view_name": "LayoutView",
            "align_content": null,
            "align_items": null,
            "align_self": null,
            "border": null,
            "bottom": null,
            "display": null,
            "flex": null,
            "flex_flow": null,
            "grid_area": null,
            "grid_auto_columns": null,
            "grid_auto_flow": null,
            "grid_auto_rows": null,
            "grid_column": null,
            "grid_gap": null,
            "grid_row": null,
            "grid_template_areas": null,
            "grid_template_columns": null,
            "grid_template_rows": null,
            "height": null,
            "justify_content": null,
            "justify_items": null,
            "left": null,
            "margin": null,
            "max_height": null,
            "max_width": null,
            "min_height": null,
            "min_width": null,
            "object_fit": null,
            "object_position": null,
            "order": null,
            "overflow": null,
            "overflow_x": null,
            "overflow_y": null,
            "padding": null,
            "right": null,
            "top": null,
            "visibility": null,
            "width": null
          }
        },
        "35967d3142c44b0e80cfe12dfd85125a": {
          "model_module": "@jupyter-widgets/controls",
          "model_name": "DescriptionStyleModel",
          "model_module_version": "1.5.0",
          "state": {
            "_model_module": "@jupyter-widgets/controls",
            "_model_module_version": "1.5.0",
            "_model_name": "DescriptionStyleModel",
            "_view_count": null,
            "_view_module": "@jupyter-widgets/base",
            "_view_module_version": "1.2.0",
            "_view_name": "StyleView",
            "description_width": ""
          }
        },
        "648f35a4d1ca49429219fc073a6816b9": {
          "model_module": "@jupyter-widgets/controls",
          "model_name": "HBoxModel",
          "model_module_version": "1.5.0",
          "state": {
            "_dom_classes": [],
            "_model_module": "@jupyter-widgets/controls",
            "_model_module_version": "1.5.0",
            "_model_name": "HBoxModel",
            "_view_count": null,
            "_view_module": "@jupyter-widgets/controls",
            "_view_module_version": "1.5.0",
            "_view_name": "HBoxView",
            "box_style": "",
            "children": [
              "IPY_MODEL_99aa1fa7b5f848548b600c351b1b213c",
              "IPY_MODEL_35cde75b8d5c4feaa0984fac31d0454a",
              "IPY_MODEL_cd60584bb2c84becbe0ab509bea899a8"
            ],
            "layout": "IPY_MODEL_e753c0476bd54ed797d57fbe274ebcd5"
          }
        },
        "99aa1fa7b5f848548b600c351b1b213c": {
          "model_module": "@jupyter-widgets/controls",
          "model_name": "HTMLModel",
          "model_module_version": "1.5.0",
          "state": {
            "_dom_classes": [],
            "_model_module": "@jupyter-widgets/controls",
            "_model_module_version": "1.5.0",
            "_model_name": "HTMLModel",
            "_view_count": null,
            "_view_module": "@jupyter-widgets/controls",
            "_view_module_version": "1.5.0",
            "_view_name": "HTMLView",
            "description": "",
            "description_tooltip": null,
            "layout": "IPY_MODEL_54beaf0998d8423f886abbd45f8f5864",
            "placeholder": "​",
            "style": "IPY_MODEL_066aaeaaaf9446959bd64f6b215507dd",
            "value": "Shuffling /root/tensorflow_datasets/cifar10/3.0.2.incomplete3KNE6B/cifar10-test.tfrecord*...:  90%"
          }
        },
        "35cde75b8d5c4feaa0984fac31d0454a": {
          "model_module": "@jupyter-widgets/controls",
          "model_name": "FloatProgressModel",
          "model_module_version": "1.5.0",
          "state": {
            "_dom_classes": [],
            "_model_module": "@jupyter-widgets/controls",
            "_model_module_version": "1.5.0",
            "_model_name": "FloatProgressModel",
            "_view_count": null,
            "_view_module": "@jupyter-widgets/controls",
            "_view_module_version": "1.5.0",
            "_view_name": "ProgressView",
            "bar_style": "",
            "description": "",
            "description_tooltip": null,
            "layout": "IPY_MODEL_89ee9a284f4347ddb614669fc34f20a2",
            "max": 10000,
            "min": 0,
            "orientation": "horizontal",
            "style": "IPY_MODEL_1937fdefe3f64b52bb86b54c99e9d66c",
            "value": 10000
          }
        },
        "cd60584bb2c84becbe0ab509bea899a8": {
          "model_module": "@jupyter-widgets/controls",
          "model_name": "HTMLModel",
          "model_module_version": "1.5.0",
          "state": {
            "_dom_classes": [],
            "_model_module": "@jupyter-widgets/controls",
            "_model_module_version": "1.5.0",
            "_model_name": "HTMLModel",
            "_view_count": null,
            "_view_module": "@jupyter-widgets/controls",
            "_view_module_version": "1.5.0",
            "_view_name": "HTMLView",
            "description": "",
            "description_tooltip": null,
            "layout": "IPY_MODEL_3cb2c2b783e5413ca7280250aae8838b",
            "placeholder": "​",
            "style": "IPY_MODEL_f39e88b89b27466e96ec47733e6a0021",
            "value": " 9036/10000 [00:00&lt;00:00, 47815.90 examples/s]"
          }
        },
        "e753c0476bd54ed797d57fbe274ebcd5": {
          "model_module": "@jupyter-widgets/base",
          "model_name": "LayoutModel",
          "model_module_version": "1.2.0",
          "state": {
            "_model_module": "@jupyter-widgets/base",
            "_model_module_version": "1.2.0",
            "_model_name": "LayoutModel",
            "_view_count": null,
            "_view_module": "@jupyter-widgets/base",
            "_view_module_version": "1.2.0",
            "_view_name": "LayoutView",
            "align_content": null,
            "align_items": null,
            "align_self": null,
            "border": null,
            "bottom": null,
            "display": null,
            "flex": null,
            "flex_flow": null,
            "grid_area": null,
            "grid_auto_columns": null,
            "grid_auto_flow": null,
            "grid_auto_rows": null,
            "grid_column": null,
            "grid_gap": null,
            "grid_row": null,
            "grid_template_areas": null,
            "grid_template_columns": null,
            "grid_template_rows": null,
            "height": null,
            "justify_content": null,
            "justify_items": null,
            "left": null,
            "margin": null,
            "max_height": null,
            "max_width": null,
            "min_height": null,
            "min_width": null,
            "object_fit": null,
            "object_position": null,
            "order": null,
            "overflow": null,
            "overflow_x": null,
            "overflow_y": null,
            "padding": null,
            "right": null,
            "top": null,
            "visibility": "hidden",
            "width": null
          }
        },
        "54beaf0998d8423f886abbd45f8f5864": {
          "model_module": "@jupyter-widgets/base",
          "model_name": "LayoutModel",
          "model_module_version": "1.2.0",
          "state": {
            "_model_module": "@jupyter-widgets/base",
            "_model_module_version": "1.2.0",
            "_model_name": "LayoutModel",
            "_view_count": null,
            "_view_module": "@jupyter-widgets/base",
            "_view_module_version": "1.2.0",
            "_view_name": "LayoutView",
            "align_content": null,
            "align_items": null,
            "align_self": null,
            "border": null,
            "bottom": null,
            "display": null,
            "flex": null,
            "flex_flow": null,
            "grid_area": null,
            "grid_auto_columns": null,
            "grid_auto_flow": null,
            "grid_auto_rows": null,
            "grid_column": null,
            "grid_gap": null,
            "grid_row": null,
            "grid_template_areas": null,
            "grid_template_columns": null,
            "grid_template_rows": null,
            "height": null,
            "justify_content": null,
            "justify_items": null,
            "left": null,
            "margin": null,
            "max_height": null,
            "max_width": null,
            "min_height": null,
            "min_width": null,
            "object_fit": null,
            "object_position": null,
            "order": null,
            "overflow": null,
            "overflow_x": null,
            "overflow_y": null,
            "padding": null,
            "right": null,
            "top": null,
            "visibility": null,
            "width": null
          }
        },
        "066aaeaaaf9446959bd64f6b215507dd": {
          "model_module": "@jupyter-widgets/controls",
          "model_name": "DescriptionStyleModel",
          "model_module_version": "1.5.0",
          "state": {
            "_model_module": "@jupyter-widgets/controls",
            "_model_module_version": "1.5.0",
            "_model_name": "DescriptionStyleModel",
            "_view_count": null,
            "_view_module": "@jupyter-widgets/base",
            "_view_module_version": "1.2.0",
            "_view_name": "StyleView",
            "description_width": ""
          }
        },
        "89ee9a284f4347ddb614669fc34f20a2": {
          "model_module": "@jupyter-widgets/base",
          "model_name": "LayoutModel",
          "model_module_version": "1.2.0",
          "state": {
            "_model_module": "@jupyter-widgets/base",
            "_model_module_version": "1.2.0",
            "_model_name": "LayoutModel",
            "_view_count": null,
            "_view_module": "@jupyter-widgets/base",
            "_view_module_version": "1.2.0",
            "_view_name": "LayoutView",
            "align_content": null,
            "align_items": null,
            "align_self": null,
            "border": null,
            "bottom": null,
            "display": null,
            "flex": null,
            "flex_flow": null,
            "grid_area": null,
            "grid_auto_columns": null,
            "grid_auto_flow": null,
            "grid_auto_rows": null,
            "grid_column": null,
            "grid_gap": null,
            "grid_row": null,
            "grid_template_areas": null,
            "grid_template_columns": null,
            "grid_template_rows": null,
            "height": null,
            "justify_content": null,
            "justify_items": null,
            "left": null,
            "margin": null,
            "max_height": null,
            "max_width": null,
            "min_height": null,
            "min_width": null,
            "object_fit": null,
            "object_position": null,
            "order": null,
            "overflow": null,
            "overflow_x": null,
            "overflow_y": null,
            "padding": null,
            "right": null,
            "top": null,
            "visibility": null,
            "width": null
          }
        },
        "1937fdefe3f64b52bb86b54c99e9d66c": {
          "model_module": "@jupyter-widgets/controls",
          "model_name": "ProgressStyleModel",
          "model_module_version": "1.5.0",
          "state": {
            "_model_module": "@jupyter-widgets/controls",
            "_model_module_version": "1.5.0",
            "_model_name": "ProgressStyleModel",
            "_view_count": null,
            "_view_module": "@jupyter-widgets/base",
            "_view_module_version": "1.2.0",
            "_view_name": "StyleView",
            "bar_color": null,
            "description_width": ""
          }
        },
        "3cb2c2b783e5413ca7280250aae8838b": {
          "model_module": "@jupyter-widgets/base",
          "model_name": "LayoutModel",
          "model_module_version": "1.2.0",
          "state": {
            "_model_module": "@jupyter-widgets/base",
            "_model_module_version": "1.2.0",
            "_model_name": "LayoutModel",
            "_view_count": null,
            "_view_module": "@jupyter-widgets/base",
            "_view_module_version": "1.2.0",
            "_view_name": "LayoutView",
            "align_content": null,
            "align_items": null,
            "align_self": null,
            "border": null,
            "bottom": null,
            "display": null,
            "flex": null,
            "flex_flow": null,
            "grid_area": null,
            "grid_auto_columns": null,
            "grid_auto_flow": null,
            "grid_auto_rows": null,
            "grid_column": null,
            "grid_gap": null,
            "grid_row": null,
            "grid_template_areas": null,
            "grid_template_columns": null,
            "grid_template_rows": null,
            "height": null,
            "justify_content": null,
            "justify_items": null,
            "left": null,
            "margin": null,
            "max_height": null,
            "max_width": null,
            "min_height": null,
            "min_width": null,
            "object_fit": null,
            "object_position": null,
            "order": null,
            "overflow": null,
            "overflow_x": null,
            "overflow_y": null,
            "padding": null,
            "right": null,
            "top": null,
            "visibility": null,
            "width": null
          }
        },
        "f39e88b89b27466e96ec47733e6a0021": {
          "model_module": "@jupyter-widgets/controls",
          "model_name": "DescriptionStyleModel",
          "model_module_version": "1.5.0",
          "state": {
            "_model_module": "@jupyter-widgets/controls",
            "_model_module_version": "1.5.0",
            "_model_name": "DescriptionStyleModel",
            "_view_count": null,
            "_view_module": "@jupyter-widgets/base",
            "_view_module_version": "1.2.0",
            "_view_name": "StyleView",
            "description_width": ""
          }
        }
      }
    },
    "accelerator": "GPU"
  },
  "cells": [
    {
      "cell_type": "markdown",
      "source": [
        "### Visual Attention Mechanism\n",
        "\n",
        "\n",
        "Reference:\n",
        "[EscVM_YT/Notebooks/0 - TF2.X Tutorials\n",
        "/tf_2_visual_attention.ipynb](https://github.com/EscVM/EscVM_YT/blob/master/Notebooks/0%20-%20TF2.X%20Tutorials/tf_2_visual_attention.ipynb)\n",
        "\n",
        "`Some parts of the code were modified and comment lines were added.`"
      ],
      "metadata": {
        "id": "JPOUKL_jFjsB"
      }
    },
    {
      "cell_type": "code",
      "execution_count": 1,
      "metadata": {
        "id": "h0gd5EtNdatU"
      },
      "outputs": [],
      "source": [
        "import tensorflow as tf\n",
        "import tensorflow_datasets as tfds\n",
        "import numpy as np\n",
        "import matplotlib.pyplot as plt"
      ]
    },
    {
      "cell_type": "code",
      "source": [
        "'''\n",
        "physical_devices = tf.config.experimental.list_physical_devices('GPU')\n",
        "\n",
        "try:\n",
        "  # Disable first GPU\n",
        "  tf.config.set_visible_devices(physical_devices[0:], 'GPU')\n",
        "  logical_devices = tf.config.list_logical_devices('GPU')\n",
        "  print(physical_devices)\n",
        "  # Logical device was not created for first GPU\n",
        "  assert len(logical_devices) == len(physical_devices) - 1\n",
        "  tf.config.experimental.set_memory_growth(physical_devices[0], True)\n",
        "except:\n",
        "  print(\"Invalid device or cannot modify virtual devices once initialized.\")\n",
        "  pass\n",
        "'''"
      ],
      "metadata": {
        "id": "JCFCy5XLirbh",
        "colab": {
          "base_uri": "https://localhost:8080/",
          "height": 105
        },
        "outputId": "806a97d1-4faa-4a55-91f4-f3c61e4a130e"
      },
      "execution_count": 2,
      "outputs": [
        {
          "output_type": "execute_result",
          "data": {
            "text/plain": [
              "'\\nphysical_devices = tf.config.experimental.list_physical_devices(\\'GPU\\')\\n\\ntry:\\n  # Disable first GPU\\n  tf.config.set_visible_devices(physical_devices[0:], \\'GPU\\')\\n  logical_devices = tf.config.list_logical_devices(\\'GPU\\')\\n  print(physical_devices)\\n  # Logical device was not created for first GPU\\n  assert len(logical_devices) == len(physical_devices) - 1\\n  tf.config.experimental.set_memory_growth(physical_devices[0], True)\\nexcept:\\n  print(\"Invalid device or cannot modify virtual devices once initialized.\")\\n  pass\\n'"
            ],
            "application/vnd.google.colaboratory.intrinsic+json": {
              "type": "string"
            }
          },
          "metadata": {},
          "execution_count": 2
        }
      ]
    },
    {
      "cell_type": "markdown",
      "source": [
        "![](https://raw.githubusercontent.com/EscVM/EscVM_YT/fd7f3f0798d40c3097690133778df82b26a0d96d/Notebooks/0%20-%20TF2.X%20Tutorials/media/tf_tutorial_2/yoshua_paper_results.png)\n",
        "\n",
        "Reference: [Neural Machine Translation by Jointly Learning to Align and Translate\n",
        "](https://arxiv.org/abs/1409.0473)"
      ],
      "metadata": {
        "id": "HGocXNhBy-cX"
      }
    },
    {
      "cell_type": "markdown",
      "source": [
        "![](https://raw.githubusercontent.com/EscVM/EscVM_YT/fd7f3f0798d40c3097690133778df82b26a0d96d/Notebooks/0%20-%20TF2.X%20Tutorials/media/tf_tutorial_2/attention_examples.png)\n",
        "\n",
        "Reference:\n",
        "[Show, Attend and Tell: Neural Image Caption Generation with Visual Attention](https://arxiv.org/abs/1502.03044)"
      ],
      "metadata": {
        "id": "pM01V4IBzVxP"
      }
    },
    {
      "cell_type": "markdown",
      "source": [
        "![](https://raw.githubusercontent.com/EscVM/EscVM_YT/fd7f3f0798d40c3097690133778df82b26a0d96d/Notebooks/0%20-%20TF2.X%20Tutorials/media/tf_tutorial_2/se_example_2.png)\n",
        "\n",
        "Reference:\n",
        "[Squeeze-and-Excitation Networks](https://arxiv.org/abs/1709.01507)"
      ],
      "metadata": {
        "id": "RjDPiQ56zfS2"
      }
    },
    {
      "cell_type": "markdown",
      "source": [
        "![](https://raw.githubusercontent.com/EscVM/EscVM_YT/fd7f3f0798d40c3097690133778df82b26a0d96d/Notebooks/0%20-%20TF2.X%20Tutorials/media/tf_tutorial_2/cbam_example_1.png)\n",
        "\n",
        "![](https://raw.githubusercontent.com/EscVM/EscVM_YT/fd7f3f0798d40c3097690133778df82b26a0d96d/Notebooks/0%20-%20TF2.X%20Tutorials/media/tf_tutorial_2/cbam_example_2.png)\n",
        "\n",
        "Reference:\n",
        "[CBAM: Convolutional Block Attention Module](https://arxiv.org/abs/1807.06521)"
      ],
      "metadata": {
        "id": "EF4c8cZAzwA_"
      }
    },
    {
      "cell_type": "code",
      "source": [
        "import os\n",
        "\n",
        "os.makedirs('utils/', exist_ok=True)\n",
        "os.chdir('utils')\n",
        "\n",
        "! wget -q https://raw.githubusercontent.com/Ata-Pab/Machine_Learning/master/utils/models.py\n",
        "! wget -q https://raw.githubusercontent.com/Ata-Pab/Machine_Learning/master/utils/losses.py\n",
        "! wget -q https://raw.githubusercontent.com/Ata-Pab/Machine_Learning/master/utils/vision.py\n",
        "! wget -q https://raw.githubusercontent.com/Ata-Pab/Machine_Learning/master/utils/callbacks.py\n",
        "! wget -q https://raw.githubusercontent.com/Ata-Pab/Machine_Learning/master/utils/utils.py\n",
        "\n",
        "os.chdir('/content')\n",
        "print(\"Current working directory\", os.getcwd())"
      ],
      "metadata": {
        "colab": {
          "base_uri": "https://localhost:8080/"
        },
        "id": "SwCe8hhpq2Wp",
        "outputId": "53e7b36d-df4f-423b-ea87-e560ae5d9283"
      },
      "execution_count": 3,
      "outputs": [
        {
          "output_type": "stream",
          "name": "stdout",
          "text": [
            "Current working directory /content\n"
          ]
        }
      ]
    },
    {
      "cell_type": "code",
      "source": [
        "from utils import vision\n",
        "from utils import utils\n",
        "from utils import losses"
      ],
      "metadata": {
        "id": "vOhZ6nS6q9Dd"
      },
      "execution_count": 4,
      "outputs": []
    },
    {
      "cell_type": "code",
      "source": [
        "experiment = {\n",
        "    'IMAGE_SIZE': (32, 32),\n",
        "    'INPUT_SHAPE': (32, 32, 3),\n",
        "\n",
        "    'ACCELERATOR': 'GPU',  # Or 'TPU'\n",
        "\n",
        "    'BATCH_SIZE': 32,\n",
        "    'EPOCHS': 20,\n",
        "    'AUTOTUNE': tf.data.experimental.AUTOTUNE,\n",
        "    'OPTIMIZER': 'Adam',  # TODO: Try 'rmsprop' optimizer\n",
        "    'LEARNING_RATE': 0.0001,  # 1e-4\n",
        "\n",
        "    # Record directory of model's trained weights\n",
        "    'TRAINING_WEIGHT_DIR': \"tf_visual_attention_mechanism/training_weights\",\n",
        "    # Record directory of generated images\n",
        "    'IMGS_DIR': \"tf_visual_attention_mechanism/images\",\n",
        "}"
      ],
      "metadata": {
        "id": "6PnKIOVi4iF7"
      },
      "execution_count": 5,
      "outputs": []
    },
    {
      "cell_type": "code",
      "source": [
        "class ChannelGate(tf.keras.layers.Layer):\n",
        "  # Reference: https://arxiv.org/abs/1807.06521\n",
        "  def __init__(self, gate_channels, reduction_ratio, pool_types=['avg', 'max']):\n",
        "    super(ChannelGate, self).__init__()\n",
        "    # Check valid pool types\n",
        "    valid_pool_types = ['avg', 'max', 'lp', 'lse']\n",
        "    for pool_type in pool_types:\n",
        "        assert(pool_type in valid_pool_types)\n",
        "    self.pool_types = pool_types\n",
        "\n",
        "    self.gate_channels = gate_channels\n",
        "    self.reduction_ratio = reduction_ratio\n",
        "\n",
        "    # MLP (Multi Layer Perceptron)\n",
        "    self.mlp = tf.keras.Sequential([\n",
        "        #Flatten(),\n",
        "        tf.keras.layers.Flatten(),\n",
        "        tf.keras.layers.Dense(self.gate_channels // self.reduction_ratio),\n",
        "        #tf.keras.layers.Dense(self.gate_channels // self.reduction_ratio,\n",
        "        #                      kernel_initializer='he_normal', use_bias=True,\n",
        "        #                      bias_initializer='zeros'),\n",
        "        tf.keras.layers.ReLU(),\n",
        "        tf.keras.layers.Dense(self.gate_channels)\n",
        "        #tf.keras.layers.Dense(self.gate_channels, kernel_initializer='he_normal',\n",
        "        #                      use_bias=True, bias_initializer='zeros')\n",
        "    ])\n",
        "\n",
        "  def logsumexp_2d(self, tensor):\n",
        "    tensor_flatten = tf.reshape(tensor, (tf.shape(tensor)[0], tf.shape(tensor)[1], -1))\n",
        "    s = tf.reduce_max(tensor_flatten, axis=2, keepdims=True)\n",
        "    outputs = s + tf.math.log(tf.reduce_sum(tf.math.exp(tensor_flatten - s), axis=2, keepdims=True))\n",
        "    return outputs\n",
        "\n",
        "  def call(self, inputs):\n",
        "    pooling_list = []\n",
        "    if 'avg' in self.pool_types:\n",
        "        avg_pool = tf.keras.layers.GlobalAveragePooling2D()(inputs)\n",
        "        #avg_pool = tf.reduce_mean(inputs, axis=[2, 3], keepdims=True)\n",
        "        avg_pool = self.mlp(avg_pool)\n",
        "        pooling_list.append(avg_pool)\n",
        "    elif 'max' in self.pool_types:\n",
        "        max_pool = tf.keras.layers.GlobalMaxPooling2D()(inputs)\n",
        "        max_pool = tf.keras.layers.Reshape((1,1, self.gate_channels))(max_pool)\n",
        "        #max_pool = tf.reduce_max(inputs, axis=[2, 3], keepdims=True)\n",
        "        max_pool = self.mlp(max_pool)\n",
        "        pooling_list.append(max_pool)\n",
        "    elif 'lp' in self.pool_types:\n",
        "        lp_pool = tf.norm(inputs, ord=2, axis=[2, 3], keepdims=True)\n",
        "        lp_pool = self.mlp(lp_pool)\n",
        "        pooling_list.append(lp_pool)\n",
        "    elif 'lse' in self.pool_types:\n",
        "        lse_pool = self.logsumexp_2d(inputs)\n",
        "        lse_pool = self.mlp(lse_pool)\n",
        "        pooling_list.append(lse_pool)\n",
        "\n",
        "    attention = tf.keras.layers.Add()(pooling_list)\n",
        "    attention = tf.keras.layers.Activation('sigmoid')(attention)\n",
        "    # tf.keras.layers.Multiply: It takes a list of tensors as input and computes\n",
        "    # the element-wise product of those tensors, assuming they have the same shape.\n",
        "    return tf.keras.layers.Multiply()([inputs, attention])"
      ],
      "metadata": {
        "id": "H7oBWVfKirZN"
      },
      "execution_count": 6,
      "outputs": []
    },
    {
      "cell_type": "code",
      "source": [
        "import tensorflow as tf\n",
        "\n",
        "class Conv2DLayerBN(tf.keras.layers.Conv2D):\n",
        "    '''\n",
        "    act_end: Activation function for end of the conv + BN -> conv + BN + Act\n",
        "    batch_norm: Batch normalization\n",
        "    lrelu_alpha: Leaky ReLU activation function alpha\n",
        "    '''\n",
        "    def __init__(self, filters, kernel_size, strides=(1, 1), padding='valid',\n",
        "                 activation=None,act_end=None, batch_norm=True, lrelu_alpha=0.3,\n",
        "                 *args, **kwargs):\n",
        "        # Call the constructor of the base class (tf.keras.layers.Conv2D)\n",
        "        super(Conv2DLayerBN, self).__init__(\n",
        "            filters=filters,\n",
        "            kernel_size=kernel_size,\n",
        "            strides=strides,\n",
        "            padding=padding,\n",
        "            activation=activation,\n",
        "            *args,\n",
        "            **kwargs\n",
        "        )\n",
        "        act_funcs = [\"relu\", \"lrelu\", \"sigmoid\"]\n",
        "        assert((act_end == None) or (act_end in act_funcs))\n",
        "\n",
        "        self.batch_norm = tf.keras.layers.BatchNormalization(epsilon=1e-5, momentum=0.01) if batch_norm else None\n",
        "\n",
        "        if act_end == \"relu\":\n",
        "            #act_func = tf.nn.relu()\n",
        "            self.activation = tf.keras.layers.Activation(act_end)\n",
        "        elif act_end == \"lrelu\":\n",
        "            act_func = tf.nn.leaky_relu(alpha=lrelu_alpha)\n",
        "            self.activation = tf.keras.layers.Activation(act_func)\n",
        "        elif act_end == \"sigmoid\":\n",
        "            #act_func = tf.keras.activations.sigmoid()\n",
        "            self.activation = tf.keras.layers.Activation(act_end)\n",
        "        else:\n",
        "            self.activation = None\n",
        "\n",
        "        # ..Add additional customization or modifications...\n",
        "\n",
        "        # __________________________________________________\n",
        "\n",
        "    def build(self, input_shape):\n",
        "        # Add any additional setup or customization for the layer's weights here\n",
        "        # This method is called the first time the layer is used, based on the input_shape.\n",
        "\n",
        "        # Make sure to call the build method of the base class\n",
        "        super(Conv2DLayerBN, self).build(input_shape)\n",
        "\n",
        "    def call(self, inputs):\n",
        "        # You can access the weights using self.weights and perform computations using TensorFlow operations.\n",
        "        # Example:\n",
        "        # output = tf.nn.conv2d(inputs, self.kernel, strides=self.strides, padding=self.padding)\n",
        "        # if self.activation is not None:\n",
        "        #     output = self.activation(output)\n",
        "        # return output\n",
        "\n",
        "        # ...Add forward pass activations here...\n",
        "\n",
        "        # ______________________________________\n",
        "        x = super(Conv2DLayerBN, self).call(inputs)\n",
        "        if self.batch_norm is not None:\n",
        "            x = self.batch_norm(x)\n",
        "        if self.activation is not None:\n",
        "            x = self.activation(x)\n",
        "        return x\n",
        "\n",
        "    def get_config(self):\n",
        "        # ...Add additional configuration parameters for serialization...\n",
        "\n",
        "        # _______________________________________________________________\n",
        "        # This method is used to save the configuration of the layer when the model is saved.\n",
        "        config = super(Conv2DLayerBN, self).get_config()\n",
        "        # Add your custom parameters to config dictionary\n",
        "        return config\n"
      ],
      "metadata": {
        "id": "osB1cAKIbvMk"
      },
      "execution_count": 7,
      "outputs": []
    },
    {
      "cell_type": "code",
      "source": [
        "class ChannelPool(tf.keras.layers.Layer):\n",
        "    '''\n",
        "    ChannelPool\n",
        "    Calculate Max and Avg. pooling for given tensor\n",
        "    Concatenate them to produce a tensor for being input of MLP\n",
        "    '''\n",
        "    def call(self, x):\n",
        "        max_pool = tf.expand_dims(tf.reduce_max(x, axis=1), axis=1)\n",
        "        mean_pool = tf.expand_dims(tf.reduce_mean(x, axis=1), axis=1)\n",
        "        return tf.concat([max_pool, mean_pool], axis=1)"
      ],
      "metadata": {
        "id": "Q258-m9be7g2"
      },
      "execution_count": 8,
      "outputs": []
    },
    {
      "cell_type": "code",
      "source": [
        "class SpatialGate(tf.keras.layers.Layer):\n",
        "  # Reference: https://arxiv.org/abs/1807.06521\n",
        "  def __init__(self, kernel_size, stride=1):\n",
        "    super(SpatialGate, self).__init__()\n",
        "\n",
        "    self.padding='valid' if ((kernel_size-1) // 2) == 0 else 'same'\n",
        "    self.spatial = Conv2DLayerBN(filters=1, kernel_size=kernel_size, strides=stride,\n",
        "                         padding=self.padding, act_end='sigmoid', batch_norm=True)\n",
        "\n",
        "  def call(self, inputs):\n",
        "    max_pool = tf.keras.layers.Lambda(lambda x: tf.keras.backend.max(x, axis=3, keepdims=True))(inputs)\n",
        "    avg_pool = tf.keras.layers.Lambda(lambda x: tf.keras.backend.mean(x, axis=3, keepdims=True))(inputs)\n",
        "\n",
        "    # tf.keras.layers.Concatenate: takes a list of tensors as input and concatenates\n",
        "    # them along the specified axis to produce a single tensor.\n",
        "    attention = tf.keras.layers.Concatenate(axis=3)([avg_pool, max_pool])\n",
        "    attention = self.spatial(attention)\n",
        "\n",
        "    return tf.keras.layers.multiply([inputs, attention])"
      ],
      "metadata": {
        "id": "BeIvjAryirWl"
      },
      "execution_count": 9,
      "outputs": []
    },
    {
      "cell_type": "markdown",
      "source": [
        "### Build a Model"
      ],
      "metadata": {
        "id": "iT-xiiVd6FX-"
      }
    },
    {
      "cell_type": "code",
      "source": [
        "(ds_train, ds_test), ds_info = tfds.load('cifar10', split=['train', 'test'],\n",
        "                                      shuffle_files=True, as_supervised=True,\n",
        "                                      with_info=True)"
      ],
      "metadata": {
        "id": "18Mxuh-I5RDC",
        "colab": {
          "base_uri": "https://localhost:8080/",
          "height": 168,
          "referenced_widgets": [
            "252e1f220f4042f4ac8640f851cdd934",
            "7fdf70e63a68409380b1954e8d956401",
            "d6c99d4aa953471fa3f0524f2f8a2ab2",
            "d879488e21a14842a16dd9d65a17fb01",
            "e6d5e0ee433f41dbaae22997cdaeb7a7",
            "11c0712340394d3fa7119962d53295b9",
            "c5cfbcadbc3042a392f8e84aa4f217c3",
            "90e1bafdc2784930a9a3c1ef74080e96",
            "303e79d1fac94591b64e8114d0a83a64",
            "ce240e0567ae4f5eafb9e97a7cddd0b7",
            "33172bf8489d40e28a459d19a0c7fdf2",
            "47abdc07266f43329eae015b5031f004",
            "dba206bdd8f14d35b59c46feadc65a23",
            "d49e3ed923d0432f876b0ef6f6bdba2f",
            "5b1105aa735f43b285cea204363ec86c",
            "36bacc40b57f435ab003424bbda8094e",
            "9cbdf4b0149441dd8c31005cc7bc0a58",
            "44538c036c804aa4b7cbc109b3e3dd01",
            "0f57a888a5584960b14fbbdc08bdbd71",
            "ebc48fb04714427da69cd59d6a213781",
            "270124822ea34aaf9a3b19761d76b317",
            "31b45a39df8a43b3a22ab5c7b1312818",
            "a173b267a2ff4c8f8e7e84a5fa59076a",
            "a1a9c740651c4b07b31f926fedc3dbcd",
            "0771ba3fb5cc406985b8f1ceede77ffb",
            "b369afe251024e64a0d200cbff299022",
            "7cd46317068140768c5c8de1fda8a344",
            "f8926961eb97496e9a9cc62774389ff9",
            "0b28015d3a5b4f8a88f5d765d9674f6c",
            "17f0ab4198f345c58fe24f704849095f",
            "b7b1adf56a66488bb13c926ecc49d3d9",
            "78dd563f267f4a6f8757eba49905612f",
            "203c62f79bfb4cd0bcd34d2d6a90acd6",
            "3fa60df854e340939378e41a974a14db",
            "d1efe3bd7ed7488ea1e7ce675270a122",
            "abca1a373b604cdea974f0803429209c",
            "3f0dab5e55e3464bbbaf347a97a0457f",
            "f3ca03600fc749dda37d2ad6652d6d74",
            "6177e9cf24a346b7bb3ebaa52d7b0f83",
            "f771168e90c44498ad0f40a3295693c8",
            "fb0494d93d4d4c8e9f0184a30c475782",
            "f36a22f03bdb411793f43fc0ae87d579",
            "981233dc6586462087bf781a45d1d2a2",
            "708fd2dbe5e7456ea57fed4fab1a3305",
            "c37ad6f7cb214a11a62fc7b26b70957b",
            "0ba9f3dedcff41c987477dbf609ae29b",
            "cfa609688c09411bb7fb76ee24258831",
            "e939e63997dd4a51b324b78c8ae575e4",
            "5b30e41426d847b4a0a57c2142972c40",
            "85949dae406a40cc9162210127775633",
            "021bfa26fc454f0489fe2300291eaba8",
            "4db31efc8c7947e3a83b9f94e5e5ae4d",
            "7a64712ef5544e42b452ae2cb44cb2d6",
            "3b11217dbe4743b698a957fba3745b66",
            "54fb37ecbd6d49db874f8cf5c15b58cb",
            "33a06ea8e35d44d08c9f5dcf1ab9637a",
            "4a091a50694647c08b476fd170a8b12a",
            "7d9d4b2163da4f74976086d91d0de59d",
            "b68f99cf09414a1ea78df9e6839a4df2",
            "c6da37bdf212423688f4bc40a635fcb5",
            "713e5770df9f4b8d85e4ee77cd5cdc6a",
            "434ca332162a43369b5eb8cbef2de3b7",
            "858ff0f2261f47f5bbff8577a5ffd77e",
            "45af7eec46aa4e9a9d1972c55a6a3390",
            "3a02dea496a040729ee4f425b4139e48",
            "0ea183cd52a547d5b816815de220bfd8",
            "429497052f144778b9d9a335bcf772a9",
            "3c1d90b6b00e48979713ff1f6e9f82cc",
            "cb2307c79a0d48deaa839557c6d01bfa",
            "830079a16b1f4d82b5b432d7d25251a9",
            "c93f53bcfbd74bc0aa59a4b467105659",
            "04348cf1acb1416db1e3f5b8da2b8d86",
            "6e811c45716b4170983a4cf55b3b361a",
            "65cab015344e4423a939bc85292010e5",
            "daec5ea4f93943198188382684f5c4aa",
            "ae7434840ac74b19b3968ff644aa31f2",
            "35967d3142c44b0e80cfe12dfd85125a",
            "648f35a4d1ca49429219fc073a6816b9",
            "99aa1fa7b5f848548b600c351b1b213c",
            "35cde75b8d5c4feaa0984fac31d0454a",
            "cd60584bb2c84becbe0ab509bea899a8",
            "e753c0476bd54ed797d57fbe274ebcd5",
            "54beaf0998d8423f886abbd45f8f5864",
            "066aaeaaaf9446959bd64f6b215507dd",
            "89ee9a284f4347ddb614669fc34f20a2",
            "1937fdefe3f64b52bb86b54c99e9d66c",
            "3cb2c2b783e5413ca7280250aae8838b",
            "f39e88b89b27466e96ec47733e6a0021"
          ]
        },
        "outputId": "ba335c92-df16-4c29-b76c-aafc7bd49f69"
      },
      "execution_count": 10,
      "outputs": [
        {
          "output_type": "stream",
          "name": "stdout",
          "text": [
            "Downloading and preparing dataset 162.17 MiB (download: 162.17 MiB, generated: 132.40 MiB, total: 294.58 MiB) to /root/tensorflow_datasets/cifar10/3.0.2...\n"
          ]
        },
        {
          "output_type": "display_data",
          "data": {
            "text/plain": [
              "Dl Completed...: 0 url [00:00, ? url/s]"
            ],
            "application/vnd.jupyter.widget-view+json": {
              "version_major": 2,
              "version_minor": 0,
              "model_id": "252e1f220f4042f4ac8640f851cdd934"
            }
          },
          "metadata": {}
        },
        {
          "output_type": "display_data",
          "data": {
            "text/plain": [
              "Dl Size...: 0 MiB [00:00, ? MiB/s]"
            ],
            "application/vnd.jupyter.widget-view+json": {
              "version_major": 2,
              "version_minor": 0,
              "model_id": "47abdc07266f43329eae015b5031f004"
            }
          },
          "metadata": {}
        },
        {
          "output_type": "display_data",
          "data": {
            "text/plain": [
              "Extraction completed...: 0 file [00:00, ? file/s]"
            ],
            "application/vnd.jupyter.widget-view+json": {
              "version_major": 2,
              "version_minor": 0,
              "model_id": "a173b267a2ff4c8f8e7e84a5fa59076a"
            }
          },
          "metadata": {}
        },
        {
          "output_type": "display_data",
          "data": {
            "text/plain": [
              "Generating splits...:   0%|          | 0/2 [00:00<?, ? splits/s]"
            ],
            "application/vnd.jupyter.widget-view+json": {
              "version_major": 2,
              "version_minor": 0,
              "model_id": "3fa60df854e340939378e41a974a14db"
            }
          },
          "metadata": {}
        },
        {
          "output_type": "display_data",
          "data": {
            "text/plain": [
              "Generating train examples...:   0%|          | 0/50000 [00:00<?, ? examples/s]"
            ],
            "application/vnd.jupyter.widget-view+json": {
              "version_major": 2,
              "version_minor": 0,
              "model_id": "c37ad6f7cb214a11a62fc7b26b70957b"
            }
          },
          "metadata": {}
        },
        {
          "output_type": "display_data",
          "data": {
            "text/plain": [
              "Shuffling /root/tensorflow_datasets/cifar10/3.0.2.incomplete3KNE6B/cifar10-train.tfrecord*...:   0%|          …"
            ],
            "application/vnd.jupyter.widget-view+json": {
              "version_major": 2,
              "version_minor": 0,
              "model_id": "33a06ea8e35d44d08c9f5dcf1ab9637a"
            }
          },
          "metadata": {}
        },
        {
          "output_type": "display_data",
          "data": {
            "text/plain": [
              "Generating test examples...:   0%|          | 0/10000 [00:00<?, ? examples/s]"
            ],
            "application/vnd.jupyter.widget-view+json": {
              "version_major": 2,
              "version_minor": 0,
              "model_id": "429497052f144778b9d9a335bcf772a9"
            }
          },
          "metadata": {}
        },
        {
          "output_type": "display_data",
          "data": {
            "text/plain": [
              "Shuffling /root/tensorflow_datasets/cifar10/3.0.2.incomplete3KNE6B/cifar10-test.tfrecord*...:   0%|          |…"
            ],
            "application/vnd.jupyter.widget-view+json": {
              "version_major": 2,
              "version_minor": 0,
              "model_id": "648f35a4d1ca49429219fc073a6816b9"
            }
          },
          "metadata": {}
        },
        {
          "output_type": "stream",
          "name": "stdout",
          "text": [
            "Dataset cifar10 downloaded and prepared to /root/tensorflow_datasets/cifar10/3.0.2. Subsequent calls will reuse this data.\n"
          ]
        }
      ]
    },
    {
      "cell_type": "code",
      "source": [
        "ds_info"
      ],
      "metadata": {
        "id": "mtqfkbzjirTz",
        "colab": {
          "base_uri": "https://localhost:8080/"
        },
        "outputId": "03b47f35-d5c0-4a39-8be4-624510d7126d"
      },
      "execution_count": 11,
      "outputs": [
        {
          "output_type": "execute_result",
          "data": {
            "text/plain": [
              "tfds.core.DatasetInfo(\n",
              "    name='cifar10',\n",
              "    full_name='cifar10/3.0.2',\n",
              "    description=\"\"\"\n",
              "    The CIFAR-10 dataset consists of 60000 32x32 colour images in 10 classes, with 6000 images per class. There are 50000 training images and 10000 test images.\n",
              "    \"\"\",\n",
              "    homepage='https://www.cs.toronto.edu/~kriz/cifar.html',\n",
              "    data_dir=PosixGPath('/tmp/tmpy1vg3q98tfds'),\n",
              "    file_format=tfrecord,\n",
              "    download_size=162.17 MiB,\n",
              "    dataset_size=132.40 MiB,\n",
              "    features=FeaturesDict({\n",
              "        'id': Text(shape=(), dtype=string),\n",
              "        'image': Image(shape=(32, 32, 3), dtype=uint8),\n",
              "        'label': ClassLabel(shape=(), dtype=int64, num_classes=10),\n",
              "    }),\n",
              "    supervised_keys=('image', 'label'),\n",
              "    disable_shuffling=False,\n",
              "    splits={\n",
              "        'test': <SplitInfo num_examples=10000, num_shards=1>,\n",
              "        'train': <SplitInfo num_examples=50000, num_shards=1>,\n",
              "    },\n",
              "    citation=\"\"\"@TECHREPORT{Krizhevsky09learningmultiple,\n",
              "        author = {Alex Krizhevsky},\n",
              "        title = {Learning multiple layers of features from tiny images},\n",
              "        institution = {},\n",
              "        year = {2009}\n",
              "    }\"\"\",\n",
              ")"
            ]
          },
          "metadata": {},
          "execution_count": 11
        }
      ]
    },
    {
      "cell_type": "code",
      "source": [
        "ds_train"
      ],
      "metadata": {
        "colab": {
          "base_uri": "https://localhost:8080/"
        },
        "id": "2cegqBEG7qFN",
        "outputId": "4a8cf09f-c085-47db-97e7-70efd752f815"
      },
      "execution_count": 12,
      "outputs": [
        {
          "output_type": "execute_result",
          "data": {
            "text/plain": [
              "<_PrefetchDataset element_spec=(TensorSpec(shape=(32, 32, 3), dtype=tf.uint8, name=None), TensorSpec(shape=(), dtype=tf.int64, name=None))>"
            ]
          },
          "metadata": {},
          "execution_count": 12
        }
      ]
    },
    {
      "cell_type": "code",
      "source": [
        "ds_info.features['label'].names"
      ],
      "metadata": {
        "id": "yuIIzY_BirRF",
        "colab": {
          "base_uri": "https://localhost:8080/"
        },
        "outputId": "90031111-f795-4a0c-ca97-546ef2ef619c"
      },
      "execution_count": 13,
      "outputs": [
        {
          "output_type": "execute_result",
          "data": {
            "text/plain": [
              "['airplane',\n",
              " 'automobile',\n",
              " 'bird',\n",
              " 'cat',\n",
              " 'deer',\n",
              " 'dog',\n",
              " 'frog',\n",
              " 'horse',\n",
              " 'ship',\n",
              " 'truck']"
            ]
          },
          "metadata": {},
          "execution_count": 13
        }
      ]
    },
    {
      "cell_type": "code",
      "source": [
        "def visualize_images(image_batch):\n",
        "  index = 0\n",
        "  for image, label in image_batch.take(10):\n",
        "    plt.subplot(2, 5, index + 1)\n",
        "    index += 1\n",
        "    plt.imshow(image[:])\n",
        "    plt.axis('off')\n",
        "  plt.tight_layout()\n",
        "  plt.show()"
      ],
      "metadata": {
        "id": "TxWuW0A2DwhD"
      },
      "execution_count": 14,
      "outputs": []
    },
    {
      "cell_type": "code",
      "source": [
        "visualize_images(ds_train)"
      ],
      "metadata": {
        "id": "_mg1WNhBirOd",
        "colab": {
          "base_uri": "https://localhost:8080/",
          "height": 338
        },
        "outputId": "c798457c-c7be-43b6-879b-d0858f7d1cc8"
      },
      "execution_count": 15,
      "outputs": [
        {
          "output_type": "display_data",
          "data": {
            "text/plain": [
              "<Figure size 640x480 with 10 Axes>"
            ],
            "image/png": "[encoded data removed]"
          },
          "metadata": {}
        }
      ]
    },
    {
      "cell_type": "code",
      "source": [
        "def normalize(image, label):\n",
        "  return tf.cast(image, tf.float32) / 255.0, label"
      ],
      "metadata": {
        "id": "7bxGI_4JirL-"
      },
      "execution_count": 16,
      "outputs": []
    },
    {
      "cell_type": "markdown",
      "source": [
        "### Prepare Dataset"
      ],
      "metadata": {
        "id": "k0Spa04Z6Ty5"
      }
    },
    {
      "cell_type": "code",
      "source": [
        "ds_train = ds_train.map(normalize, num_parallel_calls=experiment['AUTOTUNE'])\n",
        "ds_train = ds_train.cache().shuffle(ds_info.splits['train'].num_examples).batch(experiment['BATCH_SIZE']).prefetch(experiment['AUTOTUNE'])"
      ],
      "metadata": {
        "id": "89eExiTdEmVe"
      },
      "execution_count": 17,
      "outputs": []
    },
    {
      "cell_type": "code",
      "source": [
        "ds_test = ds_test.map(normalize, num_parallel_calls=experiment['AUTOTUNE'])\n",
        "ds_test = ds_test.cache().batch(experiment['BATCH_SIZE']).prefetch(experiment['AUTOTUNE'])"
      ],
      "metadata": {
        "id": "pPiyuav9EmTN"
      },
      "execution_count": 18,
      "outputs": []
    },
    {
      "cell_type": "markdown",
      "source": [
        "### Build a Network without Attention"
      ],
      "metadata": {
        "id": "1cQdOtEVKb-7"
      }
    },
    {
      "cell_type": "code",
      "source": [
        "def get_cnn_model_without_attention(verbose=0):\n",
        "    input = tf.keras.layers.Input(shape=ds_info.features['image'].shape, name='Input_Layer')\n",
        "    x = Conv2DLayerBN(32, 3, strides=1, padding=\"same\", act_end='relu')(input)\n",
        "    x = Conv2DLayerBN(32, 3, strides=1, padding=\"same\", act_end='relu')(x)\n",
        "    x = tf.keras.layers.MaxPooling2D(pool_size=(2, 2))(x)\n",
        "\n",
        "    x = Conv2DLayerBN(64, 3, strides=1, padding=\"same\", act_end='relu')(x)\n",
        "    x = Conv2DLayerBN(64, 3, strides=1, padding=\"same\", act_end='relu')(x)\n",
        "    x = tf.keras.layers.MaxPooling2D(pool_size=(2, 2))(x)\n",
        "\n",
        "    x = Conv2DLayerBN(128, 3, strides=1, padding=\"same\", act_end='relu')(x)\n",
        "    x = tf.keras.layers.Conv2D(128, 3, padding='same', activation='elu')(x)\n",
        "    # No batch normalization after last Conv block\n",
        "\n",
        "    x = tf.keras.layers.GlobalAveragePooling2D()(x)\n",
        "    output = tf.keras.layers.Dense(ds_info.features['label'].num_classes,\n",
        "                              activation='softmax' )(x)\n",
        "\n",
        "    model = tf.keras.Model(inputs=input, outputs=output)\n",
        "\n",
        "    if verbose > 0:  model.summary()\n",
        "    return model"
      ],
      "metadata": {
        "id": "u8t7ki2xEmQ7"
      },
      "execution_count": 19,
      "outputs": []
    },
    {
      "cell_type": "code",
      "source": [
        "'''\n",
        "# Equivalent code using Sequential API\n",
        "def get_cnn_model_without_attention(verbose=0):\n",
        "    model = tf.keras.models.Sequential([\n",
        "        Conv2DLayerBN(32, 3, input_shape=ds_info.features['image'].shape,\n",
        "                      act_end='relu', padding='same', batch_norm=True),\n",
        "        Conv2DLayerBN(32, 3, padding='same', act_end='relu', batch_norm=True),\n",
        "        tf.keras.layers.MaxPooling2D(pool_size=(2, 2)),\n",
        "        Conv2DLayerBN(64, 3, padding='same', act_end='relu', batch_norm=True),\n",
        "        Conv2DLayerBN(64, 3, padding='same', act_end='relu', batch_norm=True),\n",
        "        tf.keras.layers.MaxPooling2D(pool_size=(2, 2)),\n",
        "        Conv2DLayerBN(128, 3, padding='same', act_end='relu', batch_norm=True),\n",
        "        Conv2DLayerBN(128, 3, padding='same', act_end='relu', batch_norm=True),\n",
        "        tf.keras.layers.GlobalAveragePooling2D(),\n",
        "        tf.keras.layers.Dense(ds_info.features['label'].num_classes, activation='softmax' )\n",
        "    ])\n",
        "\n",
        "    if verbose > 0:  model.summary()\n",
        "    return model\n",
        "'''"
      ],
      "metadata": {
        "colab": {
          "base_uri": "https://localhost:8080/",
          "height": 192
        },
        "id": "AbpZikkthpCU",
        "outputId": "9a52132a-8522-455d-bfcb-371f4cfd39bd"
      },
      "execution_count": 20,
      "outputs": [
        {
          "output_type": "execute_result",
          "data": {
            "text/plain": [
              "\" \\n# Equivalent code using Sequential API\\ndef get_cnn_model_without_attention(verbose=0):\\n    model = tf.keras.models.Sequential([\\n        Conv2DLayerBN(32, 3, input_shape=ds_info.features['image'].shape, \\n                      act_end='relu', padding='same', batch_norm=True), \\n        Conv2DLayerBN(32, 3, padding='same', act_end='relu', batch_norm=True),\\n        tf.keras.layers.MaxPooling2D(pool_size=(2, 2)),\\n        Conv2DLayerBN(64, 3, padding='same', act_end='relu', batch_norm=True),\\n        Conv2DLayerBN(64, 3, padding='same', act_end='relu', batch_norm=True),\\n        tf.keras.layers.MaxPooling2D(pool_size=(2, 2)),\\n        Conv2DLayerBN(128, 3, padding='same', act_end='relu', batch_norm=True),\\n        Conv2DLayerBN(128, 3, padding='same', act_end='relu', batch_norm=True),\\n        tf.keras.layers.GlobalAveragePooling2D(),\\n        tf.keras.layers.Dense(ds_info.features['label'].num_classes, activation='softmax' )\\n    ])\\n    \\n    if verbose > 0:  model.summary()\\n    return model\\n\""
            ],
            "application/vnd.google.colaboratory.intrinsic+json": {
              "type": "string"
            }
          },
          "metadata": {},
          "execution_count": 20
        }
      ]
    },
    {
      "cell_type": "code",
      "source": [
        "simple_cnn_no_attention = get_cnn_model_without_attention(verbose=1)"
      ],
      "metadata": {
        "colab": {
          "base_uri": "https://localhost:8080/"
        },
        "id": "2xZONG1eEmOf",
        "outputId": "7f2d6283-1a8a-40ab-a168-82ef502676c8"
      },
      "execution_count": 21,
      "outputs": [
        {
          "output_type": "stream",
          "name": "stdout",
          "text": [
            "Model: \"model\"\n",
            "_________________________________________________________________\n",
            " Layer (type)                Output Shape              Param #   \n",
            "=================================================================\n",
            " Input_Layer (InputLayer)    [(None, 32, 32, 3)]       0         \n",
            "                                                                 \n",
            " conv2d_layer_bn (Conv2DLay  (None, 32, 32, 32)        1024      \n",
            " erBN)                                                           \n",
            "                                                                 \n",
            " conv2d_layer_bn_1 (Conv2DL  (None, 32, 32, 32)        9376      \n",
            " ayerBN)                                                         \n",
            "                                                                 \n",
            " max_pooling2d (MaxPooling2  (None, 16, 16, 32)        0         \n",
            " D)                                                              \n",
            "                                                                 \n",
            " conv2d_layer_bn_2 (Conv2DL  (None, 16, 16, 64)        18752     \n",
            " ayerBN)                                                         \n",
            "                                                                 \n",
            " conv2d_layer_bn_3 (Conv2DL  (None, 16, 16, 64)        37184     \n",
            " ayerBN)                                                         \n",
            "                                                                 \n",
            " max_pooling2d_1 (MaxPoolin  (None, 8, 8, 64)          0         \n",
            " g2D)                                                            \n",
            "                                                                 \n",
            " conv2d_layer_bn_4 (Conv2DL  (None, 8, 8, 128)         74368     \n",
            " ayerBN)                                                         \n",
            "                                                                 \n",
            " conv2d (Conv2D)             (None, 8, 8, 128)         147584    \n",
            "                                                                 \n",
            " global_average_pooling2d (  (None, 128)               0         \n",
            " GlobalAveragePooling2D)                                         \n",
            "                                                                 \n",
            " dense (Dense)               (None, 10)                1290      \n",
            "                                                                 \n",
            "=================================================================\n",
            "Total params: 289578 (1.10 MB)\n",
            "Trainable params: 288938 (1.10 MB)\n",
            "Non-trainable params: 640 (2.50 KB)\n",
            "_________________________________________________________________\n"
          ]
        }
      ]
    },
    {
      "cell_type": "code",
      "source": [
        "optimizer = tf.keras.optimizers.Adam(0.001)"
      ],
      "metadata": {
        "id": "T5Eu0vbuLaE7"
      },
      "execution_count": 22,
      "outputs": []
    },
    {
      "cell_type": "code",
      "source": [
        "simple_cnn_no_attention.compile(\n",
        "    loss='sparse_categorical_crossentropy',\n",
        "    optimizer=optimizer,\n",
        "    metrics=['accuracy'],\n",
        ")"
      ],
      "metadata": {
        "id": "oXTFfPXvEmMO"
      },
      "execution_count": 23,
      "outputs": []
    },
    {
      "cell_type": "code",
      "source": [
        "model_hist = simple_cnn_no_attention.fit(ds_train, epochs=experiment['EPOCHS'])"
      ],
      "metadata": {
        "colab": {
          "base_uri": "https://localhost:8080/"
        },
        "id": "_kxJFYa9LZce",
        "outputId": "58a5bee8-2ec9-4222-d561-5718857e758a"
      },
      "execution_count": 24,
      "outputs": [
        {
          "output_type": "stream",
          "name": "stdout",
          "text": [
            "Epoch 1/20\n",
            "1563/1563 [==============================] - 33s 8ms/step - loss: 1.2170 - accuracy: 0.5609\n",
            "Epoch 2/20\n",
            "1563/1563 [==============================] - 12s 8ms/step - loss: 0.7869 - accuracy: 0.7265\n",
            "Epoch 3/20\n",
            "1563/1563 [==============================] - 23s 14ms/step - loss: 0.6310 - accuracy: 0.7802\n",
            "Epoch 4/20\n",
            "1563/1563 [==============================] - 14s 9ms/step - loss: 0.5358 - accuracy: 0.8161\n",
            "Epoch 5/20\n",
            "1563/1563 [==============================] - 11s 7ms/step - loss: 0.4609 - accuracy: 0.8420\n",
            "Epoch 6/20\n",
            "1563/1563 [==============================] - 11s 7ms/step - loss: 0.4046 - accuracy: 0.8601\n",
            "Epoch 7/20\n",
            "1563/1563 [==============================] - 11s 7ms/step - loss: 0.3486 - accuracy: 0.8763\n",
            "Epoch 8/20\n",
            "1563/1563 [==============================] - 12s 7ms/step - loss: 0.3029 - accuracy: 0.8931\n",
            "Epoch 9/20\n",
            "1563/1563 [==============================] - 11s 7ms/step - loss: 0.2600 - accuracy: 0.9070\n",
            "Epoch 10/20\n",
            "1563/1563 [==============================] - 12s 8ms/step - loss: 0.2311 - accuracy: 0.9186\n",
            "Epoch 11/20\n",
            "1563/1563 [==============================] - 13s 8ms/step - loss: 0.1943 - accuracy: 0.9311\n",
            "Epoch 12/20\n",
            "1563/1563 [==============================] - 11s 7ms/step - loss: 0.1731 - accuracy: 0.9384\n",
            "Epoch 13/20\n",
            "1563/1563 [==============================] - 11s 7ms/step - loss: 0.1571 - accuracy: 0.9428\n",
            "Epoch 14/20\n",
            "1563/1563 [==============================] - 11s 7ms/step - loss: 0.1333 - accuracy: 0.9528\n",
            "Epoch 15/20\n",
            "1563/1563 [==============================] - 12s 7ms/step - loss: 0.1217 - accuracy: 0.9562\n",
            "Epoch 16/20\n",
            "1563/1563 [==============================] - 12s 7ms/step - loss: 0.1130 - accuracy: 0.9605\n",
            "Epoch 17/20\n",
            "1563/1563 [==============================] - 12s 7ms/step - loss: 0.0997 - accuracy: 0.9637\n",
            "Epoch 18/20\n",
            "1563/1563 [==============================] - 12s 8ms/step - loss: 0.0944 - accuracy: 0.9667\n",
            "Epoch 19/20\n",
            "1563/1563 [==============================] - 12s 8ms/step - loss: 0.0882 - accuracy: 0.9690\n",
            "Epoch 20/20\n",
            "1563/1563 [==============================] - 11s 7ms/step - loss: 0.0857 - accuracy: 0.9704\n"
          ]
        }
      ]
    },
    {
      "cell_type": "code",
      "source": [
        "import pandas as pd\n",
        "\n",
        "pd.DataFrame(model_hist.history).plot(figsize=(8, 5))\n",
        "plt.grid(True)\n",
        "plt.gca().set_ylim(0, 1.5)\n",
        "plt.show()"
      ],
      "metadata": {
        "colab": {
          "base_uri": "https://localhost:8080/",
          "height": 445
        },
        "id": "2ruzfexeLwPi",
        "outputId": "23e83b7b-62b4-4e2c-8286-89cebea964a0"
      },
      "execution_count": 25,
      "outputs": [
        {
          "output_type": "display_data",
          "data": {
            "text/plain": [
              "<Figure size 800x500 with 1 Axes>"
            ],
            "image/png": "[encoded data removed]"
          },
          "metadata": {}
        }
      ]
    },
    {
      "cell_type": "code",
      "source": [
        "print(f\"Test accuracy: {simple_cnn_no_attention.evaluate(ds_test)[1]}\")"
      ],
      "metadata": {
        "colab": {
          "base_uri": "https://localhost:8080/"
        },
        "id": "tqlTgb_HLZXX",
        "outputId": "5ade0797-4139-4199-ccb4-2be37300a483"
      },
      "execution_count": 26,
      "outputs": [
        {
          "output_type": "stream",
          "name": "stdout",
          "text": [
            "313/313 [==============================] - 3s 10ms/step - loss: 1.1100 - accuracy: 0.7842\n",
            "Test accuracy: 0.7842000126838684\n"
          ]
        }
      ]
    },
    {
      "cell_type": "markdown",
      "source": [
        "### Build a Network with Attention"
      ],
      "metadata": {
        "id": "DZOTCGqeLlTH"
      }
    },
    {
      "cell_type": "code",
      "source": [
        "def get_cnn_model_with_attention(verbose=0):\n",
        "    model = tf.keras.Sequential([\n",
        "    Conv2DLayerBN(32, 3, input_shape=ds_info.features['image'].shape,\n",
        "                  act_end='relu', padding='same'),\n",
        "    Conv2DLayerBN(32, 3, padding='same', act_end='relu'),\n",
        "\n",
        "    ChannelGate(32, 8),\n",
        "    SpatialGate(7),\n",
        "\n",
        "    tf.keras.layers.MaxPooling2D(pool_size=(2, 2)),\n",
        "    Conv2DLayerBN(64, 3, padding='same', act_end='relu'),\n",
        "    Conv2DLayerBN(64, 3, padding='same', act_end='relu'),\n",
        "\n",
        "    ChannelGate(64, 8),\n",
        "    SpatialGate(7),\n",
        "\n",
        "    tf.keras.layers.MaxPooling2D(pool_size=(2, 2)),\n",
        "    Conv2DLayerBN(128, 3, padding='same', act_end='relu'),\n",
        "\n",
        "    tf.keras.layers.Conv2D(128, 3, padding='same', activation='relu'),\n",
        "\n",
        "    ChannelGate(128, 8),\n",
        "    SpatialGate(7),\n",
        "\n",
        "    tf.keras.layers.GlobalAveragePooling2D(),\n",
        "    tf.keras.layers.Dense(ds_info.features['label'].num_classes, activation='softmax' )\n",
        "    ])\n",
        "    if verbose > 0:  model.summary()\n",
        "\n",
        "    return model"
      ],
      "metadata": {
        "id": "mD-zLB47LZU9"
      },
      "execution_count": 27,
      "outputs": []
    },
    {
      "cell_type": "code",
      "source": [
        "simple_cnn_with_attention = get_cnn_model_with_attention(verbose=1)"
      ],
      "metadata": {
        "colab": {
          "base_uri": "https://localhost:8080/"
        },
        "id": "E-GkEDcpLZSb",
        "outputId": "696aabac-a591-419c-c0a9-079f9367f8c9"
      },
      "execution_count": 28,
      "outputs": [
        {
          "output_type": "stream",
          "name": "stdout",
          "text": [
            "Model: \"sequential_3\"\n",
            "_________________________________________________________________\n",
            " Layer (type)                Output Shape              Param #   \n",
            "=================================================================\n",
            " conv2d_layer_bn_5 (Conv2DL  (None, 32, 32, 32)        1024      \n",
            " ayerBN)                                                         \n",
            "                                                                 \n",
            " conv2d_layer_bn_6 (Conv2DL  (None, 32, 32, 32)        9376      \n",
            " ayerBN)                                                         \n",
            "                                                                 \n",
            " channel_gate (ChannelGate)  (None, 32, 32, 32)        292       \n",
            "                                                                 \n",
            " spatial_gate (SpatialGate)  (None, 32, 32, 32)        103       \n",
            "                                                                 \n",
            " max_pooling2d_2 (MaxPoolin  (None, 16, 16, 32)        0         \n",
            " g2D)                                                            \n",
            "                                                                 \n",
            " conv2d_layer_bn_8 (Conv2DL  (None, 16, 16, 64)        18752     \n",
            " ayerBN)                                                         \n",
            "                                                                 \n",
            " conv2d_layer_bn_9 (Conv2DL  (None, 16, 16, 64)        37184     \n",
            " ayerBN)                                                         \n",
            "                                                                 \n",
            " channel_gate_1 (ChannelGat  (None, 16, 16, 64)        1096      \n",
            " e)                                                              \n",
            "                                                                 \n",
            " spatial_gate_1 (SpatialGat  (None, 16, 16, 64)        103       \n",
            " e)                                                              \n",
            "                                                                 \n",
            " max_pooling2d_3 (MaxPoolin  (None, 8, 8, 64)          0         \n",
            " g2D)                                                            \n",
            "                                                                 \n",
            " conv2d_layer_bn_11 (Conv2D  (None, 8, 8, 128)         74368     \n",
            " LayerBN)                                                        \n",
            "                                                                 \n",
            " conv2d_1 (Conv2D)           (None, 8, 8, 128)         147584    \n",
            "                                                                 \n",
            " channel_gate_2 (ChannelGat  (None, 8, 8, 128)         4240      \n",
            " e)                                                              \n",
            "                                                                 \n",
            " spatial_gate_2 (SpatialGat  (None, 8, 8, 128)         103       \n",
            " e)                                                              \n",
            "                                                                 \n",
            " global_average_pooling2d_1  (None, 128)               0         \n",
            "  (GlobalAveragePooling2D)                                       \n",
            "                                                                 \n",
            " dense_7 (Dense)             (None, 10)                1290      \n",
            "                                                                 \n",
            "=================================================================\n",
            "Total params: 295515 (1.13 MB)\n",
            "Trainable params: 294869 (1.12 MB)\n",
            "Non-trainable params: 646 (2.52 KB)\n",
            "_________________________________________________________________\n"
          ]
        }
      ]
    },
    {
      "cell_type": "code",
      "source": [
        "simple_cnn_with_attention.compile(\n",
        "    loss='sparse_categorical_crossentropy',\n",
        "    optimizer=tf.keras.optimizers.Adam(0.001),\n",
        "    metrics=['accuracy'],\n",
        ")"
      ],
      "metadata": {
        "id": "Xp4PV0d7QdAK"
      },
      "execution_count": 29,
      "outputs": []
    },
    {
      "cell_type": "code",
      "source": [
        "history = simple_cnn_with_attention.fit(ds_train, epochs=experiment['EPOCHS'])"
      ],
      "metadata": {
        "colab": {
          "base_uri": "https://localhost:8080/"
        },
        "id": "PMJHvJklQc-A",
        "outputId": "8b321ab4-c980-41d5-a865-333537fc54ae"
      },
      "execution_count": 30,
      "outputs": [
        {
          "output_type": "stream",
          "name": "stdout",
          "text": [
            "Epoch 1/20\n",
            "1563/1563 [==============================] - 30s 14ms/step - loss: 1.2422 - accuracy: 0.5504\n",
            "Epoch 2/20\n",
            "1563/1563 [==============================] - 23s 15ms/step - loss: 0.7885 - accuracy: 0.7248\n",
            "Epoch 3/20\n",
            "1563/1563 [==============================] - 25s 16ms/step - loss: 0.6206 - accuracy: 0.7841\n",
            "Epoch 4/20\n",
            "1563/1563 [==============================] - 25s 16ms/step - loss: 0.5240 - accuracy: 0.8193\n",
            "Epoch 5/20\n",
            "1563/1563 [==============================] - 23s 15ms/step - loss: 0.4456 - accuracy: 0.8451\n",
            "Epoch 6/20\n",
            "1563/1563 [==============================] - 22s 14ms/step - loss: 0.3886 - accuracy: 0.8636\n",
            "Epoch 7/20\n",
            "1563/1563 [==============================] - 24s 15ms/step - loss: 0.3350 - accuracy: 0.8820\n",
            "Epoch 8/20\n",
            "1563/1563 [==============================] - 23s 15ms/step - loss: 0.2891 - accuracy: 0.8979\n",
            "Epoch 9/20\n",
            "1563/1563 [==============================] - 21s 13ms/step - loss: 0.2522 - accuracy: 0.9107\n",
            "Epoch 10/20\n",
            "1563/1563 [==============================] - 22s 14ms/step - loss: 0.2152 - accuracy: 0.9222\n",
            "Epoch 11/20\n",
            "1563/1563 [==============================] - 22s 14ms/step - loss: 0.1897 - accuracy: 0.9309\n",
            "Epoch 12/20\n",
            "1563/1563 [==============================] - 21s 13ms/step - loss: 0.1610 - accuracy: 0.9430\n",
            "Epoch 13/20\n",
            "1563/1563 [==============================] - 22s 14ms/step - loss: 0.1454 - accuracy: 0.9490\n",
            "Epoch 14/20\n",
            "1563/1563 [==============================] - 21s 13ms/step - loss: 0.1281 - accuracy: 0.9552\n",
            "Epoch 15/20\n",
            "1563/1563 [==============================] - 22s 14ms/step - loss: 0.1176 - accuracy: 0.9586\n",
            "Epoch 16/20\n",
            "1563/1563 [==============================] - 22s 14ms/step - loss: 0.1034 - accuracy: 0.9629\n",
            "Epoch 17/20\n",
            "1563/1563 [==============================] - 22s 14ms/step - loss: 0.0991 - accuracy: 0.9651\n",
            "Epoch 18/20\n",
            "1563/1563 [==============================] - 21s 14ms/step - loss: 0.0930 - accuracy: 0.9672\n",
            "Epoch 19/20\n",
            "1563/1563 [==============================] - 21s 14ms/step - loss: 0.0828 - accuracy: 0.9709\n",
            "Epoch 20/20\n",
            "1563/1563 [==============================] - 22s 14ms/step - loss: 0.0803 - accuracy: 0.9724\n"
          ]
        }
      ]
    },
    {
      "cell_type": "code",
      "source": [
        "import pandas as pd\n",
        "\n",
        "pd.DataFrame(history.history).plot(figsize=(8, 5))\n",
        "plt.grid(True)\n",
        "plt.gca().set_ylim(0, 1.5)\n",
        "plt.show()"
      ],
      "metadata": {
        "id": "qXTELD-oQc7j",
        "colab": {
          "base_uri": "https://localhost:8080/",
          "height": 445
        },
        "outputId": "21b94beb-5cba-4cac-8494-13404ef32c30"
      },
      "execution_count": 31,
      "outputs": [
        {
          "output_type": "display_data",
          "data": {
            "text/plain": [
              "<Figure size 800x500 with 1 Axes>"
            ],
            "image/png": "[encoded data removed]"
          },
          "metadata": {}
        }
      ]
    },
    {
      "cell_type": "code",
      "source": [
        "print(f\"Test accuracy: {simple_cnn_with_attention.evaluate(ds_test)[1]}\")"
      ],
      "metadata": {
        "id": "LvzbzJOFQc5H",
        "colab": {
          "base_uri": "https://localhost:8080/"
        },
        "outputId": "34adff4b-ab6f-4ce7-ac5a-9b142c312586"
      },
      "execution_count": 32,
      "outputs": [
        {
          "output_type": "stream",
          "name": "stdout",
          "text": [
            "313/313 [==============================] - 2s 4ms/step - loss: 0.8889 - accuracy: 0.8153\n",
            "Test accuracy: 0.8152999877929688\n"
          ]
        }
      ]
    },
    {
      "cell_type": "markdown",
      "source": [
        "### Visualize Attention network"
      ],
      "metadata": {
        "id": "bSu6ATQ8RYn2"
      }
    },
    {
      "cell_type": "code",
      "source": [
        "for images, labels in tfds.as_numpy(ds_test.take(1)):\n",
        "    X_test = images\n",
        "    y_test = labels\n",
        "\n",
        "print(\"X_test.shape:\", X_test.shape)\n",
        "print(\"y_test.shape:\", y_test.shape)"
      ],
      "metadata": {
        "colab": {
          "base_uri": "https://localhost:8080/"
        },
        "id": "HJWHqG5fWZqZ",
        "outputId": "f0e2456a-b38e-4e1f-f3dc-8b736671d616"
      },
      "execution_count": 33,
      "outputs": [
        {
          "output_type": "stream",
          "name": "stdout",
          "text": [
            "X_test.shape: (32, 32, 32, 3)\n",
            "y_test.shape: (32,)\n"
          ]
        }
      ]
    },
    {
      "cell_type": "code",
      "source": [
        "def image_to_uint_255(image):\n",
        "    \"\"\"\n",
        "    Convert float images to int 0-255 images.\n",
        "    Args:\n",
        "        image (numpy.ndarray): Input image. Can be either [0, 255], [0, 1], [-1, 1]\n",
        "    Returns:\n",
        "        numpy.ndarray:\n",
        "    \"\"\"\n",
        "    if image.dtype == np.uint8:\n",
        "        return image\n",
        "\n",
        "    if image.min() < 0:\n",
        "        image = (image + 1.0) / 2.0\n",
        "\n",
        "    return (image * 255).astype(\"uint8\")"
      ],
      "metadata": {
        "id": "SISnRkEp4xV1"
      },
      "execution_count": 34,
      "outputs": []
    },
    {
      "cell_type": "code",
      "source": [
        "plt.imshow(X_test[0])"
      ],
      "metadata": {
        "colab": {
          "base_uri": "https://localhost:8080/",
          "height": 447
        },
        "id": "NnRCM7iirqhG",
        "outputId": "ff923500-eed1-4f0e-e7eb-1fc5d3d28574"
      },
      "execution_count": 35,
      "outputs": [
        {
          "output_type": "execute_result",
          "data": {
            "text/plain": [
              "<matplotlib.image.AxesImage at 0x78c41811a3e0>"
            ]
          },
          "metadata": {},
          "execution_count": 35
        },
        {
          "output_type": "display_data",
          "data": {
            "text/plain": [
              "<Figure size 640x480 with 1 Axes>"
            ],
            "image/png": "[encoded data removed]"
          },
          "metadata": {}
        }
      ]
    },
    {
      "cell_type": "markdown",
      "source": [
        "### Network without vs with Attention"
      ],
      "metadata": {
        "id": "kQIEOMvo2Sl6"
      }
    },
    {
      "cell_type": "code",
      "source": [
        "test_id = 0\n",
        "\n",
        "test_img = X_test[test_id]\n",
        "test_img = tf.expand_dims(test_img, axis=0)\n",
        "\n",
        "# CNN model with Attention\n",
        "gradCam_att_cnn = vision.GradCAM(simple_cnn_with_attention)\n",
        "preds_att_cnn = simple_cnn_with_attention.predict(X_test)\n",
        "class_id_att_cnn = np.argmax(preds_att_cnn[test_id])\n",
        "(heatmap_att_cnn, output_att_cnn) = gradCam_att_cnn(test_img, X_test[test_id]*255, class_id_att_cnn, alpha=0.5)\n",
        "\n",
        "\n",
        "# Simple CNN model\n",
        "gradCam_cnn = vision.GradCAM(simple_cnn_no_attention)\n",
        "preds_cnn = simple_cnn_no_attention.predict(X_test)\n",
        "class_id_cnn = np.argmax(preds_cnn[test_id])\n",
        "(heatmap_cnn, output_cnn) = gradCam_att_cnn(test_img, X_test[test_id]*255, class_id_cnn, alpha=0.5)\n",
        "\n",
        "\n",
        "plt.subplot(1,2,1)\n",
        "plt.imshow(output_att_cnn)\n",
        "plt.title(f\"Logit: {preds_att_cnn[0][class_id_att_cnn]:2f}\")\n",
        "plt.subplot(1,2,2)\n",
        "plt.imshow(output_cnn)\n",
        "plt.title(f\"Logit: {preds_cnn[0][class_id_cnn]:2f}\")\n",
        "plt.show()"
      ],
      "metadata": {
        "colab": {
          "base_uri": "https://localhost:8080/",
          "height": 343
        },
        "id": "4rc_Z7-_qcer",
        "outputId": "98a3d27d-70cd-49dd-ce9f-eaf90558fd16"
      },
      "execution_count": 42,
      "outputs": [
        {
          "output_type": "stream",
          "name": "stdout",
          "text": [
            "1/1 [==============================] - 0s 18ms/step\n",
            "1/1 [==============================] - 0s 17ms/step\n"
          ]
        },
        {
          "output_type": "display_data",
          "data": {
            "text/plain": [
              "<Figure size 640x480 with 2 Axes>"
            ],
            "image/png": "[encoded data removed]"
          },
          "metadata": {}
        }
      ]
    },
    {
      "cell_type": "code",
      "source": [
        "def show_GradCAM_results(test_id):\n",
        "    test_img = X_test[test_id]\n",
        "    test_img = tf.expand_dims(test_img, axis=0)\n",
        "\n",
        "    # CNN model with Attention\n",
        "    gradCam_att_cnn = vision.GradCAM(simple_cnn_with_attention)\n",
        "    preds_att_cnn = simple_cnn_with_attention.predict(X_test)\n",
        "    class_id_att_cnn = np.argmax(preds_att_cnn[test_id])\n",
        "    (heatmap_att_cnn, output_att_cnn) = gradCam_att_cnn(test_img, X_test[test_id]*255, class_id_att_cnn, alpha=0.5)\n",
        "    logit_att_cnn = round(float(preds_att_cnn[test_id][class_id_att_cnn]), 3)\n",
        "\n",
        "    # Simple CNN model\n",
        "    gradCam_cnn = vision.GradCAM(simple_cnn_no_attention)\n",
        "    preds_cnn = simple_cnn_no_attention.predict(X_test)\n",
        "    class_id_cnn = np.argmax(preds_cnn[test_id])\n",
        "    (heatmap_cnn, output_cnn) = gradCam_cnn(test_img, X_test[test_id]*255, class_id_cnn, alpha=0.5)\n",
        "    logit_cnn = round(float(preds_cnn[test_id][class_id_cnn]), 3)\n",
        "\n",
        "    plt.subplot(1,2,1)\n",
        "    plt.imshow(output_att_cnn)\n",
        "    plt.title(f\"Logit: {logit_att_cnn}, {ds_info.features['label'].names[class_id_att_cnn]}\")\n",
        "    plt.subplot(1,2,2)\n",
        "    plt.imshow(output_cnn)\n",
        "    plt.title(f\"Logit: {logit_cnn}, {ds_info.features['label'].names[class_id_cnn]}\")\n",
        "    plt.show()"
      ],
      "metadata": {
        "id": "KbUk7CkqvPu1"
      },
      "execution_count": 49,
      "outputs": []
    },
    {
      "cell_type": "code",
      "source": [
        "show_GradCAM_results(1)"
      ],
      "metadata": {
        "colab": {
          "base_uri": "https://localhost:8080/",
          "height": 343
        },
        "id": "MXMp7tE2vpay",
        "outputId": "32d63e72-10a6-4ebd-9731-4677752b876d"
      },
      "execution_count": 50,
      "outputs": [
        {
          "output_type": "stream",
          "name": "stdout",
          "text": [
            "1/1 [==============================] - 0s 63ms/step\n",
            "1/1 [==============================] - 0s 20ms/step\n"
          ]
        },
        {
          "output_type": "display_data",
          "data": {
            "text/plain": [
              "<Figure size 640x480 with 2 Axes>"
            ],
            "image/png": "[encoded data removed]"
          },
          "metadata": {}
        }
      ]
    },
    {
      "cell_type": "code",
      "source": [
        "show_GradCAM_results(2)"
      ],
      "metadata": {
        "colab": {
          "base_uri": "https://localhost:8080/",
          "height": 343
        },
        "id": "9LwsJxqNvpYf",
        "outputId": "4c532563-a076-4b9d-b3c8-fe9ae7d347f9"
      },
      "execution_count": 51,
      "outputs": [
        {
          "output_type": "stream",
          "name": "stdout",
          "text": [
            "1/1 [==============================] - 0s 18ms/step\n",
            "1/1 [==============================] - 0s 17ms/step\n"
          ]
        },
        {
          "output_type": "display_data",
          "data": {
            "text/plain": [
              "<Figure size 640x480 with 2 Axes>"
            ],
            "image/png": "[encoded data removed]"
          },
          "metadata": {}
        }
      ]
    },
    {
      "cell_type": "code",
      "source": [
        "show_GradCAM_results(3)"
      ],
      "metadata": {
        "colab": {
          "base_uri": "https://localhost:8080/",
          "height": 343
        },
        "id": "FAhPyEMpv2jq",
        "outputId": "4e44bdd9-3373-4f6f-e3a2-d874a18a13e7"
      },
      "execution_count": 52,
      "outputs": [
        {
          "output_type": "stream",
          "name": "stdout",
          "text": [
            "1/1 [==============================] - 0s 19ms/step\n",
            "1/1 [==============================] - 0s 26ms/step\n"
          ]
        },
        {
          "output_type": "display_data",
          "data": {
            "text/plain": [
              "<Figure size 640x480 with 2 Axes>"
            ],
            "image/png": "[encoded data removed]"
          },
          "metadata": {}
        }
      ]
    },
    {
      "cell_type": "code",
      "source": [
        "show_GradCAM_results(4)"
      ],
      "metadata": {
        "colab": {
          "base_uri": "https://localhost:8080/",
          "height": 343
        },
        "id": "FONo3tu_v5m1",
        "outputId": "06dad106-28f3-4db0-f824-e762473a3b94"
      },
      "execution_count": 53,
      "outputs": [
        {
          "output_type": "stream",
          "name": "stdout",
          "text": [
            "1/1 [==============================] - 0s 19ms/step\n",
            "1/1 [==============================] - 0s 17ms/step\n"
          ]
        },
        {
          "output_type": "display_data",
          "data": {
            "text/plain": [
              "<Figure size 640x480 with 2 Axes>"
            ],
            "image/png": "[encoded data removed]"
          },
          "metadata": {}
        }
      ]
    },
    {
      "cell_type": "code",
      "source": [
        "show_GradCAM_results(8)"
      ],
      "metadata": {
        "colab": {
          "base_uri": "https://localhost:8080/",
          "height": 343
        },
        "id": "UCRItQn52U7p",
        "outputId": "6e941bcf-d83c-4bca-f152-7a6e1470acf6"
      },
      "execution_count": 56,
      "outputs": [
        {
          "output_type": "stream",
          "name": "stdout",
          "text": [
            "1/1 [==============================] - 0s 18ms/step\n",
            "1/1 [==============================] - 0s 17ms/step\n"
          ]
        },
        {
          "output_type": "display_data",
          "data": {
            "text/plain": [
              "<Figure size 640x480 with 2 Axes>"
            ],
            "image/png": "[encoded data removed]"
          },
          "metadata": {}
        }
      ]
    },
    {
      "cell_type": "markdown",
      "source": [
        "### Reference\n",
        "\n",
        "[EscVM_YT/Notebooks/0 - TF2.X Tutorials\n",
        "/tf_2_visual_attention.ipynb](https://github.com/EscVM/EscVM_YT/blob/master/Notebooks/0%20-%20TF2.X%20Tutorials/tf_2_visual_attention.ipynb)\n",
        "\n",
        "https://github.com/sicara/tf-explain/blob/master/tf_explain/core/grad_cam.py\n",
        "\n",
        "https://github.com/sicara/tf-explain/blob/master/tf_explain/utils/display.py\n",
        "\n",
        "https://github.com/sicara/tf-explain/blob/master/tf_explain/utils/saver.py\n",
        "\n",
        "https://www.youtube.com/watch?v=1mjI_Jm4W1E\n"
      ],
      "metadata": {
        "id": "rgiGv3Ujirs1"
      }
    }
  ]
}