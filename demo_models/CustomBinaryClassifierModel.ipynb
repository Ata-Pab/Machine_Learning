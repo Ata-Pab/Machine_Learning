{
  "nbformat": 4,
  "nbformat_minor": 0,
  "metadata": {
    "colab": {
      "provenance": [],
      "gpuType": "T4"
    },
    "kernelspec": {
      "name": "python3",
      "display_name": "Python 3"
    },
    "language_info": {
      "name": "python"
    },
    "accelerator": "GPU"
  },
  "cells": [
    {
      "cell_type": "code",
      "execution_count": 5,
      "metadata": {
        "id": "zRyBCgsqfvAn"
      },
      "outputs": [],
      "source": [
        "import matplotlib.pyplot as plt\n",
        "import numpy as np\n",
        "import pandas as pd\n",
        "import tensorflow as tf\n",
        "from tensorflow import keras\n",
        "\n",
        "from sklearn.metrics import accuracy_score, precision_score, recall_score\n",
        "from sklearn.model_selection import train_test_split\n",
        "from tensorflow.keras import layers, losses\n",
        "from tensorflow.keras.datasets import fashion_mnist\n",
        "from tensorflow.keras.models import Model\n",
        "from tensorflow.keras.layers import Input, Dense"
      ]
    },
    {
      "cell_type": "markdown",
      "source": [
        "Load Fashion MNIST Dataset"
      ],
      "metadata": {
        "id": "5sh1hmIAgLWe"
      }
    },
    {
      "cell_type": "code",
      "source": [
        "(x_train, _), (x_test, _) = fashion_mnist.load_data()\n",
        "\n",
        "x_train = x_train.astype('float32') / 255.\n",
        "x_test = x_test.astype('float32') / 255.\n",
        "\n",
        "#x_train = x_train[..., tf.newaxis]   # normally x_train.shape is (60000, 28, 28), with adding tf.newaxis we get x_train.shape as (60000, 28, 28, 1)\n",
        "#x_test = x_test[..., tf.newaxis]     # normally x_test.shape is (60000, 28, 28), with adding tf.newaxis we get x_test.shape as (60000, 28, 28, 1)\n",
        "\n",
        "x_train = tf.cast(tf.reshape(x_train, shape=(60000, 784)), tf.float32)\n",
        "x_test = tf.cast(tf.reshape(x_test, shape=(10000, 784)), tf.float32)\n",
        "\n",
        "print(x_train.shape)"
      ],
      "metadata": {
        "colab": {
          "base_uri": "https://localhost:8080/"
        },
        "id": "uXaiWpmSgF63",
        "outputId": "9ca6877c-8943-44b4-ee61-7a04e9cf26c0"
      },
      "execution_count": 2,
      "outputs": [
        {
          "output_type": "stream",
          "name": "stdout",
          "text": [
            "Downloading data from https://storage.googleapis.com/tensorflow/tf-keras-datasets/train-labels-idx1-ubyte.gz\n",
            "29515/29515 [==============================] - 0s 0us/step\n",
            "Downloading data from https://storage.googleapis.com/tensorflow/tf-keras-datasets/train-images-idx3-ubyte.gz\n",
            "26421880/26421880 [==============================] - 0s 0us/step\n",
            "Downloading data from https://storage.googleapis.com/tensorflow/tf-keras-datasets/t10k-labels-idx1-ubyte.gz\n",
            "5148/5148 [==============================] - 0s 0us/step\n",
            "Downloading data from https://storage.googleapis.com/tensorflow/tf-keras-datasets/t10k-images-idx3-ubyte.gz\n",
            "4422102/4422102 [==============================] - 0s 0us/step\n",
            "(60000, 784)\n"
          ]
        }
      ]
    },
    {
      "cell_type": "code",
      "source": [
        "class CustomBinaryClassifierModel(tf.keras.Model):\n",
        "    def __init__(self, input_shape):\n",
        "        super().__init__()\n",
        "        self.model = self.create_custom_model(input_shape)\n",
        "        self.loss_tracker = keras.metrics.Mean(name='loss')\n",
        "        self.mae_metric = keras.metrics.MeanAbsoluteError()\n",
        "        self.accuracy_metric = keras.metrics.Accuracy()\n",
        "        # https://keras.io/api/metrics/\n",
        "\n",
        "    def create_custom_model(self, input_shape):\n",
        "        input = keras.Input(shape=input_shape)\n",
        "        output = keras.layers.Dense(1)(input)\n",
        "        return keras.models.Model(input, output)\n",
        "\n",
        "    def call(self, x):\n",
        "        return self.model(x)\n",
        "\n",
        "    def train_step(self, data):\n",
        "        x, y = data  # Data structure depends on your model and on what you pass to fit()\n",
        "\n",
        "        with tf.GradientTape() as tape:\n",
        "            y_pred = self.model(x, training=True)  # Forward pass\n",
        "            # Compute custom Loss value\n",
        "            # loss = self.compute_loss(y=y, y_pred=y_pred)\n",
        "            loss = keras.losses.mean_squared_error(y, y_pred)\n",
        "            # https://keras.io/api/losses/\n",
        "\n",
        "        # Compute Gradients\n",
        "        trainable_vars = self.model.trainable_variables\n",
        "        gradients = tape.gradient(loss, trainable_vars)\n",
        "\n",
        "        # Update weights\n",
        "        self.optimizer.apply_gradients(zip(gradients, trainable_vars))\n",
        "\n",
        "        # Compute your custom metrics\n",
        "        self.loss_tracker.update_state(loss)\n",
        "        self.mae_metric.update_state(y, y_pred)\n",
        "        self.accuracy_metric.update_state(y, y_pred)\n",
        "\n",
        "        return {'loss': self.loss_tracker.result(), 'mae': self.mae_metric.result(), 'accuracy': self.accuracy_metric.result()}\n",
        "\n",
        "    @property\n",
        "    def metrics(self):\n",
        "        # We list our `Metric` objects here so that `reset_states()` can be\n",
        "        # called automatically at the start of each epoch\n",
        "        # or at the start of `evaluate()`.\n",
        "        # If you don't implement this property, you have to call\n",
        "        # `reset_states()` yourself at the time of your choosing.\n",
        "        return [self.loss_tracker, self.mae_metric, self.accuracy_metric]"
      ],
      "metadata": {
        "id": "UX55mk6909WS"
      },
      "execution_count": 48,
      "outputs": []
    },
    {
      "cell_type": "code",
      "source": [
        "# Construct an instance of CustomModel\n",
        "binary_classifier_model = CustomBinaryClassifierModel(input_shape=(32,))\n",
        "\n",
        "# We don't passs a loss or metrics here.\n",
        "binary_classifier_model.compile(optimizer=\"adam\")\n",
        "\n",
        "# Just use `fit` as usual -- you can use callbacks, etc.\n",
        "x = np.random.random((1000, 32))\n",
        "y = np.random.random((1000, 1))\n",
        "\n",
        "binary_classifier_model_hist = binary_classifier_model.fit(x, y, epochs=5)"
      ],
      "metadata": {
        "colab": {
          "base_uri": "https://localhost:8080/"
        },
        "id": "bDr4hfBC0-lF",
        "outputId": "162daf78-aa11-464c-b04c-c1a215bb54af"
      },
      "execution_count": 62,
      "outputs": [
        {
          "output_type": "stream",
          "name": "stdout",
          "text": [
            "Epoch 1/5\n",
            "32/32 [==============================] - 1s 3ms/step - loss: 0.2549 - mae: 0.4171 - accuracy: 0.0000e+00\n",
            "Epoch 2/5\n",
            "32/32 [==============================] - 0s 3ms/step - loss: 0.2368 - mae: 0.3952 - accuracy: 0.0000e+00\n",
            "Epoch 3/5\n",
            "32/32 [==============================] - 0s 3ms/step - loss: 0.2254 - mae: 0.3887 - accuracy: 0.0000e+00\n",
            "Epoch 4/5\n",
            "32/32 [==============================] - 0s 3ms/step - loss: 0.2136 - mae: 0.3723 - accuracy: 0.0000e+00\n",
            "Epoch 5/5\n",
            "32/32 [==============================] - 0s 3ms/step - loss: 0.2025 - mae: 0.3636 - accuracy: 0.0000e+00\n"
          ]
        }
      ]
    },
    {
      "cell_type": "code",
      "source": [
        "predictions_nump = binary_classifier_model.predict(x)"
      ],
      "metadata": {
        "colab": {
          "base_uri": "https://localhost:8080/"
        },
        "id": "D5YwfXnI8kbh",
        "outputId": "10bf8e9c-5566-491f-edc3-c1203ae46c09"
      },
      "execution_count": 63,
      "outputs": [
        {
          "output_type": "stream",
          "name": "stdout",
          "text": [
            "32/32 [==============================] - 0s 1ms/step\n"
          ]
        }
      ]
    },
    {
      "cell_type": "code",
      "source": [
        "predictions_tensor = binary_classifier_model(x)"
      ],
      "metadata": {
        "id": "wtW2-U_1_5u3"
      },
      "execution_count": 64,
      "outputs": []
    },
    {
      "cell_type": "code",
      "source": [
        "predictions_nump[:5]   # Show a sample of predictions_nump"
      ],
      "metadata": {
        "colab": {
          "base_uri": "https://localhost:8080/"
        },
        "id": "EjQS6SUE_71d",
        "outputId": "3c523db3-9567-4d05-e94d-e4405e3b0e65"
      },
      "execution_count": 65,
      "outputs": [
        {
          "output_type": "execute_result",
          "data": {
            "text/plain": [
              "array([[0.9808682 ],\n",
              "       [0.68529844],\n",
              "       [0.6277329 ],\n",
              "       [0.6436321 ],\n",
              "       [0.929908  ]], dtype=float32)"
            ]
          },
          "metadata": {},
          "execution_count": 65
        }
      ]
    },
    {
      "cell_type": "code",
      "source": [
        "predictions_tensor[:5]   # Show a sample of predictions_tensor"
      ],
      "metadata": {
        "colab": {
          "base_uri": "https://localhost:8080/"
        },
        "id": "W9Onr0q9AH2d",
        "outputId": "b1da116a-eb32-45bd-eb71-aa5cd245bc6d"
      },
      "execution_count": 66,
      "outputs": [
        {
          "output_type": "execute_result",
          "data": {
            "text/plain": [
              "<tf.Tensor: shape=(5, 1), dtype=float32, numpy=\n",
              "array([[0.9808682 ],\n",
              "       [0.68529844],\n",
              "       [0.6277329 ],\n",
              "       [0.6436321 ],\n",
              "       [0.929908  ]], dtype=float32)>"
            ]
          },
          "metadata": {},
          "execution_count": 66
        }
      ]
    },
    {
      "cell_type": "code",
      "source": [
        "pd.DataFrame(binary_classifier_model_hist.history).plot(figsize=(10, 7))"
      ],
      "metadata": {
        "colab": {
          "base_uri": "https://localhost:8080/",
          "height": 616
        },
        "id": "ESLc6zJ91Qph",
        "outputId": "8575e252-7d73-4b79-81cc-a2b19893bf6d"
      },
      "execution_count": 68,
      "outputs": [
        {
          "output_type": "execute_result",
          "data": {
            "text/plain": [
              "<Axes: >"
            ]
          },
          "metadata": {},
          "execution_count": 68
        },
        {
          "output_type": "display_data",
          "data": {
            "text/plain": [
              "<Figure size 1000x700 with 1 Axes>"
            ],
            "image/png": "[encoded data removed]"
          },
          "metadata": {}
        }
      ]
    },
    {
      "cell_type": "markdown",
      "source": [
        "Train with batches"
      ],
      "metadata": {
        "id": "j75N6iu5A4FG"
      }
    },
    {
      "cell_type": "code",
      "source": [
        "# Construct an instance of CustomModel\n",
        "binary_classifier_model = CustomBinaryClassifierModel(input_shape=(32,))\n",
        "\n",
        "# We don't passs a loss or metrics here.\n",
        "binary_classifier_model.compile(optimizer=\"adam\")\n",
        "\n",
        "# Just use `fit` as usual -- you can use callbacks, etc.\n",
        "x = np.random.random((1000, 32))\n",
        "y = np.random.random((1000, 1))\n",
        "\n",
        "binary_classifier_model_hist = binary_classifier_model.fit(x, y, batch_size=32, epochs=5)"
      ],
      "metadata": {
        "colab": {
          "base_uri": "https://localhost:8080/"
        },
        "id": "otpnA2R9A3yc",
        "outputId": "e21fafa8-a048-4db5-9c82-821a79ea3eff"
      },
      "execution_count": 69,
      "outputs": [
        {
          "output_type": "stream",
          "name": "stdout",
          "text": [
            "Epoch 1/5\n",
            "32/32 [==============================] - 0s 3ms/step - loss: 1.8353 - mae: 1.3917 - accuracy: 0.0000e+00\n",
            "Epoch 2/5\n",
            "32/32 [==============================] - 0s 3ms/step - loss: 0.8469 - mae: 0.8916 - accuracy: 0.0000e+00\n",
            "Epoch 3/5\n",
            "32/32 [==============================] - 0s 3ms/step - loss: 0.3984 - mae: 0.5621 - accuracy: 0.0000e+00\n",
            "Epoch 4/5\n",
            "32/32 [==============================] - 0s 3ms/step - loss: 0.2435 - mae: 0.4138 - accuracy: 0.0000e+00\n",
            "Epoch 5/5\n",
            "32/32 [==============================] - 0s 3ms/step - loss: 0.2044 - mae: 0.3696 - accuracy: 0.0000e+00\n"
          ]
        }
      ]
    },
    {
      "cell_type": "markdown",
      "source": [
        "Reference:\n",
        "\n",
        "https://www.tensorflow.org/guide/keras/customizing_what_happens_in_fit"
      ],
      "metadata": {
        "id": "RaI_kWPKd33Q"
      }
    }
  ]
}