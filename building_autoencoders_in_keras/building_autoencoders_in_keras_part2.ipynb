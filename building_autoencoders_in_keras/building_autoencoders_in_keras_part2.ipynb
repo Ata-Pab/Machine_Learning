{
  "nbformat": 4,
  "nbformat_minor": 0,
  "metadata": {
    "colab": {
      "provenance": []
    },
    "kernelspec": {
      "name": "python3",
      "display_name": "Python 3"
    },
    "language_info": {
      "name": "python"
    },
    "accelerator": "GPU",
    "gpuClass": "standard"
  },
  "cells": [
    {
      "cell_type": "markdown",
      "source": [
        "## Adding a sparsity constraint on the encoded representations\n",
        "\n",
        "In the previous example, the representations were only constrained by the size of the hidden layer (**32**). In such a situation, what typically happens is that the hidden layer is learning an approximation of **PCA** (principal component analysis). But another way to constrain the representations to be compact is to add a sparsity contraint on the activity of the hidden representations, so fewer units would \"fire\" at a given time. In Keras, this can be done by adding an **activity_regularizer** to our Dense layer:"
      ],
      "metadata": {
        "id": "RwGGzOj_tuIH"
      }
    },
    {
      "cell_type": "code",
      "execution_count": null,
      "metadata": {
        "id": "KHeZ7y5wkt5o"
      },
      "outputs": [],
      "source": [
        "import keras\n",
        "import numpy as np\n",
        "from keras import layers\n",
        "from keras import regularizers\n",
        "from keras.datasets import mnist\n",
        "import matplotlib.pyplot as plt"
      ]
    },
    {
      "cell_type": "code",
      "source": [
        "# This is the size of our encoded representations\n",
        "encoding_dim = 32\n",
        "\n",
        "input_img = keras.Input(shape=(784,))\n",
        "\n",
        "# Add a Dense layer with a L1 activity regularizer\n",
        "encoded = layers.Dense(encoding_dim, activation='relu', activity_regularizer=regularizers.l1(10e-5))(input_img)\n",
        "decoded = layers.Dense(784, activation='sigmoid')(encoded)\n",
        "\n",
        "autoencoder = keras.Model(input_img, decoded)  #  This model maps an input to its reconstruction\n",
        "encoder = keras.Model(input_img, encoded)  # This model maps an input to its encoded representation\n",
        "\n",
        "encoded_input = keras.Input(shape=(encoding_dim,))  # This is our encoded (32-dimensional) input\n",
        "decoder_layer = autoencoder.layers[-1]   # Retrieve the last layer of the autoencoder model\n",
        "\n",
        "decoder = keras.Model(encoded_input, decoder_layer(encoded_input))  # Create the decoder model\n",
        "\n",
        "autoencoder.compile(optimizer='adam', loss='binary_crossentropy')"
      ],
      "metadata": {
        "id": "nSJNKPvGok3z"
      },
      "execution_count": null,
      "outputs": []
    },
    {
      "cell_type": "code",
      "source": [
        "(x_train, y_train), (x_test, y_test) = mnist.load_data()"
      ],
      "metadata": {
        "id": "cbBTwb6j1MJi"
      },
      "execution_count": null,
      "outputs": []
    },
    {
      "cell_type": "code",
      "source": [
        "x_train = x_train.astype('float32') / 255.\n",
        "x_test = x_test.astype('float32') / 255.\n",
        "\n",
        "x_train = x_train.reshape((len(x_train), np.prod(x_train.shape[1:]))) # np.prod: Return the product of array elements over a given axis. 60000, 28, 28 to 60000, 784\n",
        "x_test = x_test.reshape((len(x_test), np.prod(x_test.shape[1:])))\n",
        "print(x_train.shape)\n",
        "print(x_test.shape)"
      ],
      "metadata": {
        "colab": {
          "base_uri": "https://localhost:8080/"
        },
        "id": "HPV05vzL1Vvv",
        "outputId": "95708bce-3ab3-4158-90f6-692c27536907"
      },
      "execution_count": null,
      "outputs": [
        {
          "output_type": "stream",
          "name": "stdout",
          "text": [
            "(60000, 784)\n",
            "(10000, 784)\n"
          ]
        }
      ]
    },
    {
      "cell_type": "markdown",
      "source": [
        "Let's train this model for **100 epochs** (with the added regularization the model is less likely to overfit and can be trained longer). The models ends with a train loss of 0.11 and test loss of 0.10. The difference between the two is mostly due to the regularization term being added to the loss during training (worth about 0.01)."
      ],
      "metadata": {
        "id": "lxhmQeoiOcbH"
      }
    },
    {
      "cell_type": "code",
      "source": [
        "autoencoder.fit(x_train, x_train, epochs=100, batch_size=256, shuffle=True, validation_data=(x_test, x_test))\n",
        "# After 50 epochs, the autoencoder seems to reach a stable train/validation loss value of about 0.09. "
      ],
      "metadata": {
        "id": "UyVfa_sg17kU",
        "colab": {
          "base_uri": "https://localhost:8080/"
        },
        "outputId": "90c7df98-591b-442e-de33-5f0d573d6185"
      },
      "execution_count": null,
      "outputs": [
        {
          "output_type": "stream",
          "name": "stdout",
          "text": [
            "Epoch 1/100\n",
            "235/235 [==============================] - 2s 5ms/step - loss: 0.2852 - val_loss: 0.1959\n",
            "Epoch 2/100\n",
            "235/235 [==============================] - 1s 4ms/step - loss: 0.1766 - val_loss: 0.1599\n",
            "Epoch 3/100\n",
            "235/235 [==============================] - 1s 4ms/step - loss: 0.1517 - val_loss: 0.1419\n",
            "Epoch 4/100\n",
            "235/235 [==============================] - 1s 4ms/step - loss: 0.1375 - val_loss: 0.1307\n",
            "Epoch 5/100\n",
            "235/235 [==============================] - 1s 6ms/step - loss: 0.1280 - val_loss: 0.1228\n",
            "Epoch 6/100\n",
            "235/235 [==============================] - 1s 6ms/step - loss: 0.1212 - val_loss: 0.1171\n",
            "Epoch 7/100\n",
            "235/235 [==============================] - 1s 4ms/step - loss: 0.1163 - val_loss: 0.1130\n",
            "Epoch 8/100\n",
            "235/235 [==============================] - 1s 4ms/step - loss: 0.1128 - val_loss: 0.1101\n",
            "Epoch 9/100\n",
            "235/235 [==============================] - 1s 4ms/step - loss: 0.1103 - val_loss: 0.1080\n",
            "Epoch 10/100\n",
            "235/235 [==============================] - 1s 4ms/step - loss: 0.1086 - val_loss: 0.1066\n",
            "Epoch 11/100\n",
            "235/235 [==============================] - 1s 4ms/step - loss: 0.1074 - val_loss: 0.1056\n",
            "Epoch 12/100\n",
            "235/235 [==============================] - 1s 4ms/step - loss: 0.1065 - val_loss: 0.1048\n",
            "Epoch 13/100\n",
            "235/235 [==============================] - 1s 4ms/step - loss: 0.1058 - val_loss: 0.1042\n",
            "Epoch 14/100\n",
            "235/235 [==============================] - 1s 4ms/step - loss: 0.1052 - val_loss: 0.1037\n",
            "Epoch 15/100\n",
            "235/235 [==============================] - 1s 4ms/step - loss: 0.1048 - val_loss: 0.1032\n",
            "Epoch 16/100\n",
            "235/235 [==============================] - 1s 5ms/step - loss: 0.1043 - val_loss: 0.1028\n",
            "Epoch 17/100\n",
            "235/235 [==============================] - 1s 6ms/step - loss: 0.1039 - val_loss: 0.1025\n",
            "Epoch 18/100\n",
            "235/235 [==============================] - 1s 4ms/step - loss: 0.1036 - val_loss: 0.1021\n",
            "Epoch 19/100\n",
            "235/235 [==============================] - 1s 4ms/step - loss: 0.1032 - val_loss: 0.1018\n",
            "Epoch 20/100\n",
            "235/235 [==============================] - 1s 4ms/step - loss: 0.1029 - val_loss: 0.1015\n",
            "Epoch 21/100\n",
            "235/235 [==============================] - 1s 4ms/step - loss: 0.1027 - val_loss: 0.1013\n",
            "Epoch 22/100\n",
            "235/235 [==============================] - 1s 4ms/step - loss: 0.1024 - val_loss: 0.1011\n",
            "Epoch 23/100\n",
            "235/235 [==============================] - 1s 4ms/step - loss: 0.1022 - val_loss: 0.1008\n",
            "Epoch 24/100\n",
            "235/235 [==============================] - 1s 4ms/step - loss: 0.1019 - val_loss: 0.1006\n",
            "Epoch 25/100\n",
            "235/235 [==============================] - 1s 4ms/step - loss: 0.1017 - val_loss: 0.1004\n",
            "Epoch 26/100\n",
            "235/235 [==============================] - 1s 4ms/step - loss: 0.1015 - val_loss: 0.1002\n",
            "Epoch 27/100\n",
            "235/235 [==============================] - 1s 4ms/step - loss: 0.1014 - val_loss: 0.1001\n",
            "Epoch 28/100\n",
            "235/235 [==============================] - 1s 6ms/step - loss: 0.1012 - val_loss: 0.0999\n",
            "Epoch 29/100\n",
            "235/235 [==============================] - 1s 6ms/step - loss: 0.1010 - val_loss: 0.0997\n",
            "Epoch 30/100\n",
            "235/235 [==============================] - 1s 4ms/step - loss: 0.1008 - val_loss: 0.0997\n",
            "Epoch 31/100\n",
            "235/235 [==============================] - 1s 4ms/step - loss: 0.1007 - val_loss: 0.0994\n",
            "Epoch 32/100\n",
            "235/235 [==============================] - 1s 4ms/step - loss: 0.1006 - val_loss: 0.0993\n",
            "Epoch 33/100\n",
            "235/235 [==============================] - 1s 4ms/step - loss: 0.1004 - val_loss: 0.0992\n",
            "Epoch 34/100\n",
            "235/235 [==============================] - 1s 4ms/step - loss: 0.1003 - val_loss: 0.0991\n",
            "Epoch 35/100\n",
            "235/235 [==============================] - 1s 4ms/step - loss: 0.1002 - val_loss: 0.0990\n",
            "Epoch 36/100\n",
            "235/235 [==============================] - 1s 4ms/step - loss: 0.1001 - val_loss: 0.0989\n",
            "Epoch 37/100\n",
            "235/235 [==============================] - 1s 4ms/step - loss: 0.0999 - val_loss: 0.0988\n",
            "Epoch 38/100\n",
            "235/235 [==============================] - 1s 4ms/step - loss: 0.0998 - val_loss: 0.0986\n",
            "Epoch 39/100\n",
            "235/235 [==============================] - 2s 7ms/step - loss: 0.0997 - val_loss: 0.0985\n",
            "Epoch 40/100\n",
            "235/235 [==============================] - 2s 8ms/step - loss: 0.0996 - val_loss: 0.0984\n",
            "Epoch 41/100\n",
            "235/235 [==============================] - 1s 5ms/step - loss: 0.0995 - val_loss: 0.0983\n",
            "Epoch 42/100\n",
            "235/235 [==============================] - 1s 5ms/step - loss: 0.0994 - val_loss: 0.0983\n",
            "Epoch 43/100\n",
            "235/235 [==============================] - 1s 5ms/step - loss: 0.0994 - val_loss: 0.0981\n",
            "Epoch 44/100\n",
            "235/235 [==============================] - 1s 4ms/step - loss: 0.0993 - val_loss: 0.0981\n",
            "Epoch 45/100\n",
            "235/235 [==============================] - 1s 5ms/step - loss: 0.0992 - val_loss: 0.0980\n",
            "Epoch 46/100\n",
            "235/235 [==============================] - 1s 5ms/step - loss: 0.0991 - val_loss: 0.0980\n",
            "Epoch 47/100\n",
            "235/235 [==============================] - 1s 4ms/step - loss: 0.0990 - val_loss: 0.0978\n",
            "Epoch 48/100\n",
            "235/235 [==============================] - 1s 4ms/step - loss: 0.0989 - val_loss: 0.0978\n",
            "Epoch 49/100\n",
            "235/235 [==============================] - 1s 4ms/step - loss: 0.0989 - val_loss: 0.0977\n",
            "Epoch 50/100\n",
            "235/235 [==============================] - 2s 6ms/step - loss: 0.0988 - val_loss: 0.0976\n",
            "Epoch 51/100\n",
            "235/235 [==============================] - 1s 6ms/step - loss: 0.0987 - val_loss: 0.0977\n",
            "Epoch 52/100\n",
            "235/235 [==============================] - 1s 4ms/step - loss: 0.0987 - val_loss: 0.0975\n",
            "Epoch 53/100\n",
            "235/235 [==============================] - 1s 4ms/step - loss: 0.0986 - val_loss: 0.0976\n",
            "Epoch 54/100\n",
            "235/235 [==============================] - 1s 4ms/step - loss: 0.0985 - val_loss: 0.0975\n",
            "Epoch 55/100\n",
            "235/235 [==============================] - 1s 4ms/step - loss: 0.0985 - val_loss: 0.0973\n",
            "Epoch 56/100\n",
            "235/235 [==============================] - 1s 4ms/step - loss: 0.0984 - val_loss: 0.0972\n",
            "Epoch 57/100\n",
            "235/235 [==============================] - 1s 4ms/step - loss: 0.0984 - val_loss: 0.0972\n",
            "Epoch 58/100\n",
            "235/235 [==============================] - 1s 4ms/step - loss: 0.0983 - val_loss: 0.0972\n",
            "Epoch 59/100\n",
            "235/235 [==============================] - 1s 4ms/step - loss: 0.0983 - val_loss: 0.0971\n",
            "Epoch 60/100\n",
            "235/235 [==============================] - 1s 4ms/step - loss: 0.0982 - val_loss: 0.0971\n",
            "Epoch 61/100\n",
            "235/235 [==============================] - 1s 5ms/step - loss: 0.0981 - val_loss: 0.0971\n",
            "Epoch 62/100\n",
            "235/235 [==============================] - 1s 6ms/step - loss: 0.0981 - val_loss: 0.0970\n",
            "Epoch 63/100\n",
            "235/235 [==============================] - 1s 5ms/step - loss: 0.0981 - val_loss: 0.0969\n",
            "Epoch 64/100\n",
            "235/235 [==============================] - 1s 4ms/step - loss: 0.0980 - val_loss: 0.0969\n",
            "Epoch 65/100\n",
            "235/235 [==============================] - 1s 4ms/step - loss: 0.0979 - val_loss: 0.0968\n",
            "Epoch 66/100\n",
            "235/235 [==============================] - 1s 4ms/step - loss: 0.0979 - val_loss: 0.0969\n",
            "Epoch 67/100\n",
            "235/235 [==============================] - 1s 4ms/step - loss: 0.0979 - val_loss: 0.0968\n",
            "Epoch 68/100\n",
            "235/235 [==============================] - 1s 4ms/step - loss: 0.0978 - val_loss: 0.0967\n",
            "Epoch 69/100\n",
            "235/235 [==============================] - 1s 4ms/step - loss: 0.0978 - val_loss: 0.0966\n",
            "Epoch 70/100\n",
            "235/235 [==============================] - 1s 4ms/step - loss: 0.0977 - val_loss: 0.0966\n",
            "Epoch 71/100\n",
            "235/235 [==============================] - 1s 4ms/step - loss: 0.0977 - val_loss: 0.0966\n",
            "Epoch 72/100\n",
            "235/235 [==============================] - 1s 4ms/step - loss: 0.0976 - val_loss: 0.0965\n",
            "Epoch 73/100\n",
            "235/235 [==============================] - 1s 6ms/step - loss: 0.0976 - val_loss: 0.0965\n",
            "Epoch 74/100\n",
            "235/235 [==============================] - 1s 6ms/step - loss: 0.0976 - val_loss: 0.0965\n",
            "Epoch 75/100\n",
            "235/235 [==============================] - 1s 4ms/step - loss: 0.0975 - val_loss: 0.0964\n",
            "Epoch 76/100\n",
            "235/235 [==============================] - 1s 4ms/step - loss: 0.0975 - val_loss: 0.0964\n",
            "Epoch 77/100\n",
            "235/235 [==============================] - 1s 5ms/step - loss: 0.0974 - val_loss: 0.0964\n",
            "Epoch 78/100\n",
            "235/235 [==============================] - 1s 4ms/step - loss: 0.0974 - val_loss: 0.0963\n",
            "Epoch 79/100\n",
            "235/235 [==============================] - 1s 4ms/step - loss: 0.0974 - val_loss: 0.0963\n",
            "Epoch 80/100\n",
            "235/235 [==============================] - 1s 4ms/step - loss: 0.0973 - val_loss: 0.0962\n",
            "Epoch 81/100\n",
            "235/235 [==============================] - 1s 5ms/step - loss: 0.0973 - val_loss: 0.0962\n",
            "Epoch 82/100\n",
            "235/235 [==============================] - 1s 4ms/step - loss: 0.0973 - val_loss: 0.0961\n",
            "Epoch 83/100\n",
            "235/235 [==============================] - 1s 4ms/step - loss: 0.0972 - val_loss: 0.0961\n",
            "Epoch 84/100\n",
            "235/235 [==============================] - 1s 5ms/step - loss: 0.0972 - val_loss: 0.0961\n",
            "Epoch 85/100\n",
            "235/235 [==============================] - 1s 6ms/step - loss: 0.0972 - val_loss: 0.0961\n",
            "Epoch 86/100\n",
            "235/235 [==============================] - 1s 5ms/step - loss: 0.0972 - val_loss: 0.0961\n",
            "Epoch 87/100\n",
            "235/235 [==============================] - 1s 4ms/step - loss: 0.0971 - val_loss: 0.0960\n",
            "Epoch 88/100\n",
            "235/235 [==============================] - 1s 4ms/step - loss: 0.0971 - val_loss: 0.0960\n",
            "Epoch 89/100\n",
            "235/235 [==============================] - 1s 4ms/step - loss: 0.0970 - val_loss: 0.0959\n",
            "Epoch 90/100\n",
            "235/235 [==============================] - 1s 4ms/step - loss: 0.0970 - val_loss: 0.0960\n",
            "Epoch 91/100\n",
            "235/235 [==============================] - 1s 4ms/step - loss: 0.0970 - val_loss: 0.0959\n",
            "Epoch 92/100\n",
            "235/235 [==============================] - 1s 4ms/step - loss: 0.0970 - val_loss: 0.0959\n",
            "Epoch 93/100\n",
            "235/235 [==============================] - 1s 4ms/step - loss: 0.0969 - val_loss: 0.0958\n",
            "Epoch 94/100\n",
            "235/235 [==============================] - 1s 4ms/step - loss: 0.0969 - val_loss: 0.0958\n",
            "Epoch 95/100\n",
            "235/235 [==============================] - 1s 4ms/step - loss: 0.0969 - val_loss: 0.0958\n",
            "Epoch 96/100\n",
            "235/235 [==============================] - 1s 6ms/step - loss: 0.0968 - val_loss: 0.0957\n",
            "Epoch 97/100\n",
            "235/235 [==============================] - 2s 6ms/step - loss: 0.0968 - val_loss: 0.0957\n",
            "Epoch 98/100\n",
            "235/235 [==============================] - 1s 4ms/step - loss: 0.0968 - val_loss: 0.0957\n",
            "Epoch 99/100\n",
            "235/235 [==============================] - 1s 4ms/step - loss: 0.0968 - val_loss: 0.0957\n",
            "Epoch 100/100\n",
            "235/235 [==============================] - 1s 4ms/step - loss: 0.0967 - val_loss: 0.0957\n"
          ]
        },
        {
          "output_type": "execute_result",
          "data": {
            "text/plain": [
              "<keras.callbacks.History at 0x7f2ff4c9e9d0>"
            ]
          },
          "metadata": {},
          "execution_count": 40
        }
      ]
    },
    {
      "cell_type": "code",
      "source": [
        "encoded_imgs = encoder.predict(x_test)\n",
        "decoded_imgs = decoder.predict(encoded_imgs)"
      ],
      "metadata": {
        "colab": {
          "base_uri": "https://localhost:8080/"
        },
        "id": "LN437Z5T2RR-",
        "outputId": "65c9c399-a2e5-4e09-ab2e-ba0d93a9ba02"
      },
      "execution_count": null,
      "outputs": [
        {
          "output_type": "stream",
          "name": "stdout",
          "text": [
            "313/313 [==============================] - 1s 2ms/step\n",
            "313/313 [==============================] - 0s 1ms/step\n"
          ]
        }
      ]
    },
    {
      "cell_type": "code",
      "source": [
        "def plot_autoencoded_imgs(n=10):   # How many digits we will display\n",
        "  plt.figure(figsize=(16, 4))\n",
        "\n",
        "  for i in range(n):\n",
        "      # Display original\n",
        "      ax = plt.subplot(2, n, i + 1)\n",
        "      plt.imshow(x_test[i].reshape(28, 28))\n",
        "      plt.gray()\n",
        "      ax.get_xaxis().set_visible(False)\n",
        "      ax.get_yaxis().set_visible(False)\n",
        "\n",
        "      # Display reconstruction\n",
        "      ax = plt.subplot(2, n, i + 1 + n)\n",
        "      plt.imshow(decoded_imgs[i].reshape(28, 28))\n",
        "      plt.gray()\n",
        "      ax.get_xaxis().set_visible(False)\n",
        "      ax.get_yaxis().set_visible(False)\n",
        "  plt.show()"
      ],
      "metadata": {
        "id": "F0Q3rzOy3PIE"
      },
      "execution_count": null,
      "outputs": []
    },
    {
      "cell_type": "code",
      "source": [
        "plot_autoencoded_imgs()"
      ],
      "metadata": {
        "colab": {
          "base_uri": "https://localhost:8080/",
          "height": 276
        },
        "id": "KIZGTbxRRMtz",
        "outputId": "07d13ef6-6668-4ac6-d000-dd580fe9ba20"
      },
      "execution_count": null,
      "outputs": [
        {
          "output_type": "display_data",
          "data": {
            "text/plain": [
              "<Figure size 1600x400 with 20 Axes>"
            ],
            "image/png": "[encoded data removed]"
          },
          "metadata": {}
        }
      ]
    },
    {
      "cell_type": "markdown",
      "source": [
        "They look pretty similar to the previous model, the only significant difference being the sparsity of the encoded representations. encoded_imgs.mean() yields a value 3.33 (over our 10,000 test images), whereas with the previous model the same quantity was 7.30. So our new model yields encoded representations that are twice sparser."
      ],
      "metadata": {
        "id": "LFIwAZLXPuAi"
      }
    },
    {
      "cell_type": "markdown",
      "source": [
        "### Deep AutoEncoder"
      ],
      "metadata": {
        "id": "5dG-t7CyP9e0"
      }
    },
    {
      "cell_type": "code",
      "source": [
        "input_img = keras.Input(shape=(784,))\n",
        "encoded = layers.Dense(128, activation='relu')(input_img)\n",
        "encoded = layers.Dense(64, activation='relu')(encoded)\n",
        "encoded = layers.Dense(32, activation='relu')(encoded)\n",
        "\n",
        "decoded = layers.Dense(64, activation='relu')(encoded)\n",
        "decoded = layers.Dense(128, activation='relu')(decoded)\n",
        "decoded = layers.Dense(784, activation='sigmoid')(decoded)"
      ],
      "metadata": {
        "id": "Uaokt-oQPuZ3"
      },
      "execution_count": null,
      "outputs": []
    },
    {
      "cell_type": "code",
      "source": [
        "autoencoder = keras.Model(input_img, decoded)\n",
        "autoencoder.compile(optimizer='adam', loss='binary_crossentropy')\n",
        "\n",
        "autoencoder.fit(x_train, x_train, epochs=100, batch_size=256, shuffle=True, validation_data=(x_test, x_test))"
      ],
      "metadata": {
        "colab": {
          "base_uri": "https://localhost:8080/"
        },
        "id": "yPvzdUnQQFO8",
        "outputId": "33305767-1f79-46ad-a6b9-e96f43d16e0e"
      },
      "execution_count": null,
      "outputs": [
        {
          "output_type": "stream",
          "name": "stdout",
          "text": [
            "Epoch 1/100\n",
            "235/235 [==============================] - 3s 6ms/step - loss: 0.2457 - val_loss: 0.1699\n",
            "Epoch 2/100\n",
            "235/235 [==============================] - 1s 5ms/step - loss: 0.1531 - val_loss: 0.1366\n",
            "Epoch 3/100\n",
            "235/235 [==============================] - 1s 5ms/step - loss: 0.1305 - val_loss: 0.1243\n",
            "Epoch 4/100\n",
            "235/235 [==============================] - 2s 7ms/step - loss: 0.1229 - val_loss: 0.1184\n",
            "Epoch 5/100\n",
            "235/235 [==============================] - 1s 6ms/step - loss: 0.1175 - val_loss: 0.1138\n",
            "Epoch 6/100\n",
            "235/235 [==============================] - 1s 5ms/step - loss: 0.1133 - val_loss: 0.1109\n",
            "Epoch 7/100\n",
            "235/235 [==============================] - 1s 5ms/step - loss: 0.1096 - val_loss: 0.1068\n",
            "Epoch 8/100\n",
            "235/235 [==============================] - 1s 5ms/step - loss: 0.1071 - val_loss: 0.1045\n",
            "Epoch 9/100\n",
            "235/235 [==============================] - 1s 5ms/step - loss: 0.1051 - val_loss: 0.1029\n",
            "Epoch 10/100\n",
            "235/235 [==============================] - 1s 5ms/step - loss: 0.1034 - val_loss: 0.1015\n",
            "Epoch 11/100\n",
            "235/235 [==============================] - 1s 5ms/step - loss: 0.1021 - val_loss: 0.1002\n",
            "Epoch 12/100\n",
            "235/235 [==============================] - 1s 5ms/step - loss: 0.1008 - val_loss: 0.0990\n",
            "Epoch 13/100\n",
            "235/235 [==============================] - 1s 6ms/step - loss: 0.0995 - val_loss: 0.0979\n",
            "Epoch 14/100\n",
            "235/235 [==============================] - 2s 7ms/step - loss: 0.0984 - val_loss: 0.0967\n",
            "Epoch 15/100\n",
            "235/235 [==============================] - 1s 6ms/step - loss: 0.0974 - val_loss: 0.0959\n",
            "Epoch 16/100\n",
            "235/235 [==============================] - 1s 5ms/step - loss: 0.0965 - val_loss: 0.0953\n",
            "Epoch 17/100\n",
            "235/235 [==============================] - 1s 5ms/step - loss: 0.0956 - val_loss: 0.0941\n",
            "Epoch 18/100\n",
            "235/235 [==============================] - 1s 5ms/step - loss: 0.0948 - val_loss: 0.0936\n",
            "Epoch 19/100\n",
            "235/235 [==============================] - 1s 5ms/step - loss: 0.0942 - val_loss: 0.0929\n",
            "Epoch 20/100\n",
            "235/235 [==============================] - 1s 5ms/step - loss: 0.0935 - val_loss: 0.0925\n",
            "Epoch 21/100\n",
            "235/235 [==============================] - 1s 5ms/step - loss: 0.0929 - val_loss: 0.0919\n",
            "Epoch 22/100\n",
            "235/235 [==============================] - 1s 5ms/step - loss: 0.0924 - val_loss: 0.0925\n",
            "Epoch 23/100\n",
            "235/235 [==============================] - 2s 7ms/step - loss: 0.0920 - val_loss: 0.0912\n",
            "Epoch 24/100\n",
            "235/235 [==============================] - 2s 6ms/step - loss: 0.0915 - val_loss: 0.0906\n",
            "Epoch 25/100\n",
            "235/235 [==============================] - 1s 5ms/step - loss: 0.0911 - val_loss: 0.0902\n",
            "Epoch 26/100\n",
            "235/235 [==============================] - 1s 5ms/step - loss: 0.0908 - val_loss: 0.0900\n",
            "Epoch 27/100\n",
            "235/235 [==============================] - 1s 5ms/step - loss: 0.0905 - val_loss: 0.0899\n",
            "Epoch 28/100\n",
            "235/235 [==============================] - 1s 6ms/step - loss: 0.0901 - val_loss: 0.0893\n",
            "Epoch 29/100\n",
            "235/235 [==============================] - 1s 5ms/step - loss: 0.0898 - val_loss: 0.0889\n",
            "Epoch 30/100\n",
            "235/235 [==============================] - 1s 5ms/step - loss: 0.0895 - val_loss: 0.0887\n",
            "Epoch 31/100\n",
            "235/235 [==============================] - 1s 5ms/step - loss: 0.0892 - val_loss: 0.0885\n",
            "Epoch 32/100\n",
            "235/235 [==============================] - 1s 5ms/step - loss: 0.0890 - val_loss: 0.0884\n",
            "Epoch 33/100\n",
            "235/235 [==============================] - 2s 8ms/step - loss: 0.0888 - val_loss: 0.0880\n",
            "Epoch 34/100\n",
            "235/235 [==============================] - 1s 6ms/step - loss: 0.0886 - val_loss: 0.0879\n",
            "Epoch 35/100\n",
            "235/235 [==============================] - 1s 5ms/step - loss: 0.0884 - val_loss: 0.0876\n",
            "Epoch 36/100\n",
            "235/235 [==============================] - 1s 5ms/step - loss: 0.0882 - val_loss: 0.0873\n",
            "Epoch 37/100\n",
            "235/235 [==============================] - 1s 5ms/step - loss: 0.0880 - val_loss: 0.0874\n",
            "Epoch 38/100\n",
            "235/235 [==============================] - 1s 5ms/step - loss: 0.0878 - val_loss: 0.0871\n",
            "Epoch 39/100\n",
            "235/235 [==============================] - 1s 5ms/step - loss: 0.0877 - val_loss: 0.0869\n",
            "Epoch 40/100\n",
            "235/235 [==============================] - 1s 5ms/step - loss: 0.0875 - val_loss: 0.0870\n",
            "Epoch 41/100\n",
            "235/235 [==============================] - 1s 5ms/step - loss: 0.0874 - val_loss: 0.0868\n",
            "Epoch 42/100\n",
            "235/235 [==============================] - 2s 7ms/step - loss: 0.0872 - val_loss: 0.0867\n",
            "Epoch 43/100\n",
            "235/235 [==============================] - 2s 7ms/step - loss: 0.0871 - val_loss: 0.0865\n",
            "Epoch 44/100\n",
            "235/235 [==============================] - 1s 5ms/step - loss: 0.0870 - val_loss: 0.0865\n",
            "Epoch 45/100\n",
            "235/235 [==============================] - 1s 5ms/step - loss: 0.0868 - val_loss: 0.0865\n",
            "Epoch 46/100\n",
            "235/235 [==============================] - 1s 5ms/step - loss: 0.0867 - val_loss: 0.0863\n",
            "Epoch 47/100\n",
            "235/235 [==============================] - 1s 5ms/step - loss: 0.0866 - val_loss: 0.0860\n",
            "Epoch 48/100\n",
            "235/235 [==============================] - 1s 5ms/step - loss: 0.0864 - val_loss: 0.0860\n",
            "Epoch 49/100\n",
            "235/235 [==============================] - 1s 5ms/step - loss: 0.0864 - val_loss: 0.0857\n",
            "Epoch 50/100\n",
            "235/235 [==============================] - 1s 5ms/step - loss: 0.0862 - val_loss: 0.0859\n",
            "Epoch 51/100\n",
            "235/235 [==============================] - 1s 5ms/step - loss: 0.0861 - val_loss: 0.0856\n",
            "Epoch 52/100\n",
            "235/235 [==============================] - 2s 7ms/step - loss: 0.0858 - val_loss: 0.0852\n",
            "Epoch 53/100\n",
            "235/235 [==============================] - 1s 6ms/step - loss: 0.0857 - val_loss: 0.0851\n",
            "Epoch 54/100\n",
            "235/235 [==============================] - 1s 5ms/step - loss: 0.0855 - val_loss: 0.0850\n",
            "Epoch 55/100\n",
            "235/235 [==============================] - 1s 5ms/step - loss: 0.0853 - val_loss: 0.0852\n",
            "Epoch 56/100\n",
            "235/235 [==============================] - 1s 5ms/step - loss: 0.0853 - val_loss: 0.0850\n",
            "Epoch 57/100\n",
            "235/235 [==============================] - 1s 5ms/step - loss: 0.0851 - val_loss: 0.0846\n",
            "Epoch 58/100\n",
            "235/235 [==============================] - 1s 5ms/step - loss: 0.0850 - val_loss: 0.0845\n",
            "Epoch 59/100\n",
            "235/235 [==============================] - 1s 5ms/step - loss: 0.0849 - val_loss: 0.0844\n",
            "Epoch 60/100\n",
            "235/235 [==============================] - 1s 5ms/step - loss: 0.0848 - val_loss: 0.0844\n",
            "Epoch 61/100\n",
            "235/235 [==============================] - 1s 6ms/step - loss: 0.0847 - val_loss: 0.0842\n",
            "Epoch 62/100\n",
            "235/235 [==============================] - 2s 7ms/step - loss: 0.0846 - val_loss: 0.0842\n",
            "Epoch 63/100\n",
            "235/235 [==============================] - 1s 5ms/step - loss: 0.0846 - val_loss: 0.0842\n",
            "Epoch 64/100\n",
            "235/235 [==============================] - 1s 5ms/step - loss: 0.0844 - val_loss: 0.0841\n",
            "Epoch 65/100\n",
            "235/235 [==============================] - 1s 5ms/step - loss: 0.0844 - val_loss: 0.0841\n",
            "Epoch 66/100\n",
            "235/235 [==============================] - 1s 5ms/step - loss: 0.0844 - val_loss: 0.0836\n",
            "Epoch 67/100\n",
            "235/235 [==============================] - 1s 5ms/step - loss: 0.0842 - val_loss: 0.0840\n",
            "Epoch 68/100\n",
            "235/235 [==============================] - 1s 5ms/step - loss: 0.0842 - val_loss: 0.0838\n",
            "Epoch 69/100\n",
            "235/235 [==============================] - 1s 5ms/step - loss: 0.0841 - val_loss: 0.0838\n",
            "Epoch 70/100\n",
            "235/235 [==============================] - 1s 5ms/step - loss: 0.0840 - val_loss: 0.0836\n",
            "Epoch 71/100\n",
            "235/235 [==============================] - 1s 6ms/step - loss: 0.0840 - val_loss: 0.0838\n",
            "Epoch 72/100\n",
            "235/235 [==============================] - 2s 7ms/step - loss: 0.0839 - val_loss: 0.0836\n",
            "Epoch 73/100\n",
            "235/235 [==============================] - 1s 5ms/step - loss: 0.0839 - val_loss: 0.0837\n",
            "Epoch 74/100\n",
            "235/235 [==============================] - 1s 5ms/step - loss: 0.0838 - val_loss: 0.0834\n",
            "Epoch 75/100\n",
            "235/235 [==============================] - 1s 5ms/step - loss: 0.0837 - val_loss: 0.0833\n",
            "Epoch 76/100\n",
            "235/235 [==============================] - 1s 5ms/step - loss: 0.0836 - val_loss: 0.0834\n",
            "Epoch 77/100\n",
            "235/235 [==============================] - 1s 5ms/step - loss: 0.0836 - val_loss: 0.0832\n",
            "Epoch 78/100\n",
            "235/235 [==============================] - 1s 5ms/step - loss: 0.0836 - val_loss: 0.0834\n",
            "Epoch 79/100\n",
            "235/235 [==============================] - 1s 5ms/step - loss: 0.0835 - val_loss: 0.0832\n",
            "Epoch 80/100\n",
            "235/235 [==============================] - 1s 5ms/step - loss: 0.0835 - val_loss: 0.0832\n",
            "Epoch 81/100\n",
            "235/235 [==============================] - 2s 7ms/step - loss: 0.0834 - val_loss: 0.0832\n",
            "Epoch 82/100\n",
            "235/235 [==============================] - 2s 6ms/step - loss: 0.0834 - val_loss: 0.0831\n",
            "Epoch 83/100\n",
            "235/235 [==============================] - 1s 5ms/step - loss: 0.0834 - val_loss: 0.0831\n",
            "Epoch 84/100\n",
            "235/235 [==============================] - 1s 5ms/step - loss: 0.0833 - val_loss: 0.0830\n",
            "Epoch 85/100\n",
            "235/235 [==============================] - 1s 5ms/step - loss: 0.0833 - val_loss: 0.0829\n",
            "Epoch 86/100\n",
            "235/235 [==============================] - 1s 5ms/step - loss: 0.0832 - val_loss: 0.0828\n",
            "Epoch 87/100\n",
            "235/235 [==============================] - 1s 5ms/step - loss: 0.0831 - val_loss: 0.0830\n",
            "Epoch 88/100\n",
            "235/235 [==============================] - 1s 5ms/step - loss: 0.0832 - val_loss: 0.0831\n",
            "Epoch 89/100\n",
            "235/235 [==============================] - 1s 5ms/step - loss: 0.0831 - val_loss: 0.0828\n",
            "Epoch 90/100\n",
            "235/235 [==============================] - 1s 5ms/step - loss: 0.0831 - val_loss: 0.0829\n",
            "Epoch 91/100\n",
            "235/235 [==============================] - 2s 8ms/step - loss: 0.0831 - val_loss: 0.0831\n",
            "Epoch 92/100\n",
            "235/235 [==============================] - 1s 6ms/step - loss: 0.0830 - val_loss: 0.0828\n",
            "Epoch 93/100\n",
            "235/235 [==============================] - 1s 5ms/step - loss: 0.0830 - val_loss: 0.0827\n",
            "Epoch 94/100\n",
            "235/235 [==============================] - 1s 5ms/step - loss: 0.0829 - val_loss: 0.0828\n",
            "Epoch 95/100\n",
            "235/235 [==============================] - 1s 5ms/step - loss: 0.0829 - val_loss: 0.0827\n",
            "Epoch 96/100\n",
            "235/235 [==============================] - 1s 5ms/step - loss: 0.0829 - val_loss: 0.0826\n",
            "Epoch 97/100\n",
            "235/235 [==============================] - 1s 5ms/step - loss: 0.0828 - val_loss: 0.0825\n",
            "Epoch 98/100\n",
            "235/235 [==============================] - 1s 5ms/step - loss: 0.0828 - val_loss: 0.0826\n",
            "Epoch 99/100\n",
            "235/235 [==============================] - 1s 5ms/step - loss: 0.0828 - val_loss: 0.0826\n",
            "Epoch 100/100\n",
            "235/235 [==============================] - 1s 6ms/step - loss: 0.0828 - val_loss: 0.0825\n"
          ]
        },
        {
          "output_type": "execute_result",
          "data": {
            "text/plain": [
              "<keras.callbacks.History at 0x7f300603f070>"
            ]
          },
          "metadata": {},
          "execution_count": 45
        }
      ]
    },
    {
      "cell_type": "markdown",
      "source": [
        "After 100 epochs, it reaches a train and validation loss of ~0.08, a bit better than our previous models. Our reconstructed digits look a bit better too"
      ],
      "metadata": {
        "id": "8wkJFoWkQSGJ"
      }
    },
    {
      "cell_type": "code",
      "source": [
        "encoded_imgs = encoder.predict(x_test)\n",
        "decoded_imgs = decoder.predict(encoded_imgs)"
      ],
      "metadata": {
        "colab": {
          "base_uri": "https://localhost:8080/"
        },
        "id": "rAIzGdqRQKYF",
        "outputId": "2598d8da-3ae3-4f3c-c050-a0e45bb6204b"
      },
      "execution_count": null,
      "outputs": [
        {
          "output_type": "stream",
          "name": "stdout",
          "text": [
            "313/313 [==============================] - 1s 2ms/step\n",
            "313/313 [==============================] - 1s 2ms/step\n"
          ]
        }
      ]
    },
    {
      "cell_type": "code",
      "source": [
        "plot_autoencoded_imgs()"
      ],
      "metadata": {
        "colab": {
          "base_uri": "https://localhost:8080/",
          "height": 276
        },
        "id": "Au-0jvxhQwSo",
        "outputId": "7e09604b-e039-41df-8d5f-7c38d4d23981"
      },
      "execution_count": null,
      "outputs": [
        {
          "output_type": "display_data",
          "data": {
            "text/plain": [
              "<Figure size 1600x400 with 20 Axes>"
            ],
            "image/png": "[encoded data removed]"
          },
          "metadata": {}
        }
      ]
    },
    {
      "cell_type": "markdown",
      "source": [
        "### Reference\n",
        "\n",
        "https://blog.keras.io/building-autoencoders-in-keras.html"
      ],
      "metadata": {
        "id": "VY8pVgsUXUao"
      }
    }
  ]
}