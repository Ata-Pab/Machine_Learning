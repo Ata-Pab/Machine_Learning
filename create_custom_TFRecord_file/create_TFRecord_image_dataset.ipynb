{
  "nbformat": 4,
  "nbformat_minor": 0,
  "metadata": {
    "colab": {
      "provenance": []
    },
    "kernelspec": {
      "name": "python3",
      "display_name": "Python 3"
    },
    "language_info": {
      "name": "python"
    }
  },
  "cells": [
    {
      "cell_type": "code",
      "execution_count": 4,
      "metadata": {
        "id": "n0rT9z8qc5oa"
      },
      "outputs": [],
      "source": [
        "from IPython import display\n",
        "\n",
        "import os\n",
        "import tensorflow as tf\n",
        "import glob"
      ]
    },
    {
      "cell_type": "code",
      "source": [
        "from google.colab import drive\n",
        "drive.mount('/content/drive')"
      ],
      "metadata": {
        "colab": {
          "base_uri": "https://localhost:8080/"
        },
        "id": "zZBOXCwCdmiO",
        "outputId": "22936789-153f-447d-f30d-e4d64b5938d1"
      },
      "execution_count": 2,
      "outputs": [
        {
          "output_type": "stream",
          "name": "stdout",
          "text": [
            "Mounted at /content/drive\n"
          ]
        }
      ]
    },
    {
      "cell_type": "code",
      "source": [
        "ROOT_PATH = '/content'\n",
        "DATASET_PATH = '/content/.../.../custom_Dataset'"
      ],
      "metadata": {
        "id": "yD3bR0vWdsYQ"
      },
      "execution_count": 47,
      "outputs": []
    },
    {
      "cell_type": "code",
      "source": [
        "def get_img_file_names(dir, format='jpg'):\n",
        "    formats = ['jpg', 'png', 'jpeg', 'JPG', 'JPEG', 'PNG']\n",
        "    img_list = []\n",
        "\n",
        "    if format in formats:\n",
        "      rgx_for_img = dir + \"/*.\" + format\n",
        "      img_list = glob.glob(rgx_for_img)\n",
        "\n",
        "    return img_list"
      ],
      "metadata": {
        "id": "ne1xmv4hdyUP"
      },
      "execution_count": 48,
      "outputs": []
    },
    {
      "cell_type": "code",
      "source": [
        "img_files = get_img_file_names(DATASET_PATH, 'JPG')"
      ],
      "metadata": {
        "id": "w20LLMq_e7zl"
      },
      "execution_count": 49,
      "outputs": []
    },
    {
      "cell_type": "code",
      "source": [
        "# display.display(display.Image(filename=img_files[0]))"
      ],
      "metadata": {
        "id": "2Cqsw4z7e9Ze"
      },
      "execution_count": 50,
      "outputs": []
    },
    {
      "cell_type": "code",
      "source": [
        "import numpy as np\n",
        "\n",
        "labels = list(np.zeros(len(img_files)).astype(int))"
      ],
      "metadata": {
        "id": "ukiVBrQjhEEw"
      },
      "execution_count": 51,
      "outputs": []
    },
    {
      "cell_type": "code",
      "source": [
        "images = {img_files[i]: labels[i] for i in range(len(img_files))}"
      ],
      "metadata": {
        "id": "R2jW8DiIiiD7"
      },
      "execution_count": 52,
      "outputs": []
    },
    {
      "cell_type": "markdown",
      "source": [
        "### Write TFRecord File"
      ],
      "metadata": {
        "id": "v3f-G_EpfftA"
      }
    },
    {
      "cell_type": "code",
      "source": [
        "# The following functions can be used to convert a value to a type compatible\n",
        "# with tf.train.Example.\n",
        "\n",
        "def _bytes_feature(value):\n",
        "  \"\"\"Returns a bytes_list from a string / byte.\"\"\"\n",
        "  if isinstance(value, type(tf.constant(0))):\n",
        "    value = value.numpy() # BytesList won't unpack a string from an EagerTensor.\n",
        "  return tf.train.Feature(bytes_list=tf.train.BytesList(value=[value]))\n",
        "\n",
        "def _float_feature(value):\n",
        "  \"\"\"Returns a float_list from a float / double.\"\"\"\n",
        "  return tf.train.Feature(float_list=tf.train.FloatList(value=[value]))\n",
        "\n",
        "def _int64_feature(value):\n",
        "  \"\"\"Returns an int64_list from a bool / enum / int / uint.\"\"\"\n",
        "  return tf.train.Feature(int64_list=tf.train.Int64List(value=[value]))"
      ],
      "metadata": {
        "id": "ekHPptHIfw4L"
      },
      "execution_count": 53,
      "outputs": []
    },
    {
      "cell_type": "code",
      "source": [
        "def create_image_tfRecord_example(image_string, label):\n",
        "    image_shape = tf.io.decode_jpeg(image_string).shape\n",
        "    # image_shape = tf.io.decode_png(image_string).shape\n",
        "\n",
        "    feature_map = {\n",
        "      'height': _int64_feature(image_shape[0]),\n",
        "      'width': _int64_feature(image_shape[1]),\n",
        "      'depth': _int64_feature(image_shape[2]),\n",
        "      'label': _int64_feature(label),\n",
        "      'image_raw': _bytes_feature(image_string),\n",
        "    }\n",
        "\n",
        "    return tf.train.Example(features=tf.train.Features(feature=feature_map))"
      ],
      "metadata": {
        "id": "4ltcLh3ffaYW"
      },
      "execution_count": 72,
      "outputs": []
    },
    {
      "cell_type": "code",
      "source": [
        "TFRECORD_PATH = '/content/images.tfrecords'"
      ],
      "metadata": {
        "id": "t0pIil-wjTlI"
      },
      "execution_count": 73,
      "outputs": []
    },
    {
      "cell_type": "code",
      "source": [
        "def create_image_tfRecord_file(record_file_name, images_dict):\n",
        "  with tf.io.TFRecordWriter(record_file_name) as tfrecord_writer_:\n",
        "    for filename, label in images_dict.items():\n",
        "        image_string = open(filename, 'rb').read()\n",
        "        tf_example = create_image_tfRecord_example(image_string, label)\n",
        "        tfrecord_writer_.write(tf_example.SerializeToString())"
      ],
      "metadata": {
        "id": "Jmse-1YygX9B"
      },
      "execution_count": 74,
      "outputs": []
    },
    {
      "cell_type": "code",
      "source": [
        "create_image_tfRecord_file(record_file_name=TFRECORD_PATH, images_dict=images)"
      ],
      "metadata": {
        "id": "vPmV3EPyg4Vg"
      },
      "execution_count": 75,
      "outputs": []
    },
    {
      "cell_type": "markdown",
      "source": [
        "### Read TFRecord File"
      ],
      "metadata": {
        "id": "6qKRRlJXlQmg"
      }
    },
    {
      "cell_type": "code",
      "source": [
        "# Create a dictionary describing the features.\n",
        "image_feature_description = {\n",
        "    'height': tf.io.FixedLenFeature([], tf.int64),\n",
        "    'width': tf.io.FixedLenFeature([], tf.int64),\n",
        "    'depth': tf.io.FixedLenFeature([], tf.int64),\n",
        "    'label': tf.io.FixedLenFeature([], tf.int64),\n",
        "    'image_raw': tf.io.FixedLenFeature([], tf.string),\n",
        "}"
      ],
      "metadata": {
        "id": "3mBISyI7lIxR"
      },
      "execution_count": 77,
      "outputs": []
    },
    {
      "cell_type": "code",
      "source": [
        "def read_tfRecord_image(filename, feature_description, up_to_batch=None):\n",
        "    result = []\n",
        "\n",
        "    raw_dataset = tf.data.TFRecordDataset(filename)\n",
        "\n",
        "    def _parse_function(example_proto):\n",
        "      # Parse the input `tf.train.Example` proto using the dictionary above.\n",
        "      return tf.io.parse_single_example(example_proto, feature_description)\n",
        "\n",
        "    parsed_dataset = raw_dataset.map(_parse_function)\n",
        "\n",
        "    if up_to_batch != None:\n",
        "      for raw_record in parsed_dataset.take(up_to_batch):\n",
        "          result.append(raw_record)\n",
        "    else:\n",
        "      for raw_record in parsed_dataset:\n",
        "          result.append(raw_record)\n",
        "\n",
        "    return result"
      ],
      "metadata": {
        "id": "UpwgE40Ljq2A"
      },
      "execution_count": 79,
      "outputs": []
    },
    {
      "cell_type": "code",
      "source": [
        "image_dataset = read_tfRecord_image(TFRECORD_PATH, image_feature_description)"
      ],
      "metadata": {
        "id": "JqygQRaPlUdS"
      },
      "execution_count": 80,
      "outputs": []
    },
    {
      "cell_type": "markdown",
      "source": [
        "### Visualize Images read from TFRecord File"
      ],
      "metadata": {
        "id": "tg1IPJcHmMrN"
      }
    },
    {
      "cell_type": "code",
      "source": [
        "for image_features in image_dataset.take(2):\n",
        "  image_raw = image_features['image_raw'].numpy()\n",
        "  display.display(display.Image(data=image_raw))\n",
        "  print()"
      ],
      "metadata": {
        "id": "oo0Kq5tClY5x"
      },
      "execution_count": 81,
      "outputs": []
    }
  ]
}